{
 "cells": [
  {
   "cell_type": "markdown",
   "metadata": {
    "deletable": false,
    "editable": false,
    "nbgrader": {
     "grade": false,
     "grade_id": "cell-81e074d52be53682",
     "locked": true,
     "schema_version": 1,
     "solution": false
    }
   },
   "source": [
    "# Problem 0: Two algorithms to calculate sample variance\n",
    "\n",
    "This problem is related to floating-point arithmetic and the _sample variance_, a commonly used measure in statistics. However, the problem should go quickly -- so, if you find yourself spending a lot of time on it, you may be overthinking it or consider returning to it later.\n",
    "\n",
    "There are two exercises, numbered 0 and 1, which are worth a total of ten (10) points."
   ]
  },
  {
   "cell_type": "markdown",
   "metadata": {},
   "source": [
    "## Setup\n",
    "\n",
    "Python has a built-in function, [`statistics.variance`](https://docs.python.org/3.5/library/statistics.html#statistics.variance), that computes the sample variance. However, for this problem we want you to implement it from scratch in two different ways and compare their accuracy. (The test codes will use Python's function as a baseline for comparison against your implementations.)"
   ]
  },
  {
   "cell_type": "code",
   "execution_count": 1,
   "metadata": {
    "collapsed": true,
    "deletable": false,
    "editable": false,
    "nbgrader": {
     "grade": false,
     "grade_id": "cell-7b2c2858bd1428fd",
     "locked": true,
     "schema_version": 1,
     "solution": false
    }
   },
   "outputs": [],
   "source": [
    "# Run this cell.\n",
    "from statistics import variance\n",
    "\n",
    "SAVE_VARIANCE = variance # Ignore me"
   ]
  },
  {
   "cell_type": "markdown",
   "metadata": {
    "deletable": false,
    "editable": false,
    "nbgrader": {
     "grade": false,
     "grade_id": "cell-f055037bbb691b6e",
     "locked": true,
     "schema_version": 1,
     "solution": false
    }
   },
   "source": [
    "## A baseline algorithm to compute the sample variance\n",
    "\n",
    "Suppose we observe $n$ samples from a much larger population. Denote these observations by $x_0, x_1, \\ldots, x_{n-1}$. Then the _sample mean_ (sample average), $\\bar{x}$, is defined to be\n",
    "\n",
    "$$\n",
    "  \\bar{x} \\equiv \\frac{1}{n} \\sum_{i=0}^{n-1} x_i.\n",
    "$$\n",
    "\n",
    "Given both the samples and the sample mean, a standard formula for the (unbiased) _sample variance_, $\\bar{s}^2$, is\n",
    "\n",
    "$$\n",
    "  \\bar{s}^2 \\equiv \\frac{1}{n-1} \\sum_{i=0}^{n-1} (x_i - \\bar{x})^2.\n",
    "$$"
   ]
  },
  {
   "cell_type": "markdown",
   "metadata": {
    "deletable": false,
    "editable": false,
    "nbgrader": {
     "grade": false,
     "grade_id": "cell-6197f806bb7c87e6",
     "locked": true,
     "schema_version": 1,
     "solution": false
    }
   },
   "source": [
    "**Exercise 0** (5 points). Write a function, `var_method_0(x)`, that implements this formula for the sample variance given a list `x[:]` of observed sample values.\n",
    "\n",
    "> Remember **not** to use Python's built-in `variance()`."
   ]
  },
  {
   "cell_type": "code",
   "execution_count": 2,
   "metadata": {
    "collapsed": true,
    "nbgrader": {
     "grade": false,
     "grade_id": "exercise_0",
     "locked": false,
     "schema_version": 1,
     "solution": true
    }
   },
   "outputs": [],
   "source": [
    "def var_method_0(x):\n",
    "    n = len(x) # Number of samples\n",
    "    ###\n",
    "    mean = sum(x)/n\n",
    "    res = 0\n",
    "    for i in x:\n",
    "        res += (i-mean)**2\n",
    "    return res/(n-1)\n",
    "    ###\n"
   ]
  },
  {
   "cell_type": "code",
   "execution_count": 3,
   "metadata": {
    "deletable": false,
    "editable": false,
    "nbgrader": {
     "grade": true,
     "grade_id": "exercise_0_test",
     "locked": true,
     "points": 5,
     "schema_version": 1,
     "solution": false
    }
   },
   "outputs": [
    {
     "name": "stdout",
     "output_type": "stream",
     "text": [
      "\n",
      "Data: n=100000 samples from a Gaussian with mean 10000000.0 and standard deviation 100.0\n",
      "\tPython's variance function computed 9983.775890331157.\n",
      "\tYour var_method_0(X) computed 9983.77589033105.\n",
      "\tThe relative difference is |you - python| / |python| ~= 1.0749477551187877e-14.\n",
      "\n",
      "Data: n=100000 samples from a Gaussian with mean 10000000.0 and standard deviation 100.0\n",
      "\tPython's variance function computed 10047.005314077132.\n",
      "\tYour var_method_0(X) computed 10047.005314077081.\n",
      "\tThe relative difference is |you - python| / |python| ~= 5.069341729910522e-15.\n",
      "\n",
      "Data: n=100000 samples from a Gaussian with mean 10000000.0 and standard deviation 100.0\n",
      "\tPython's variance function computed 10027.627195411025.\n",
      "\tYour var_method_0(X) computed 10027.627195411149.\n",
      "\tThe relative difference is |you - python| / |python| ~= 1.2335049661371882e-14.\n",
      "\n",
      "Data: n=100000 samples from a Gaussian with mean 10000000.0 and standard deviation 100.0\n",
      "\tPython's variance function computed 10008.066257824787.\n",
      "\tYour var_method_0(X) computed 10008.066257824592.\n",
      "\tThe relative difference is |you - python| / |python| ~= 1.94474997632269e-14.\n",
      "\n",
      "Data: n=100000 samples from a Gaussian with mean 10000000.0 and standard deviation 100.0\n",
      "\tPython's variance function computed 10022.289565186778.\n",
      "\tYour var_method_0(X) computed 10022.28956518667.\n",
      "\tThe relative difference is |you - python| / |python| ~= 1.0889663834085943e-14.\n",
      "\n",
      "(Passed!)\n"
     ]
    }
   ],
   "source": [
    "# Test cell: `exercise_0_test`\n",
    "\n",
    "from random import gauss\n",
    "\n",
    "n = 100000\n",
    "mu = 1e7  # True mean\n",
    "sigma = 100.0  # True variance\n",
    "\n",
    "for _ in range(5): # 5 trials\n",
    "    X = [gauss(mu, sigma) for _ in range(n)]\n",
    "    var_py = variance(X)\n",
    "    try:\n",
    "        del variance\n",
    "        var_you_0 = var_method_0(X)\n",
    "    except NameError as n:\n",
    "        if n.args[0] == \"name 'variance' is not defined\":\n",
    "            assert False, \"Did you try to use `variance()` instead of implementing it from scratch?\"\n",
    "        else:\n",
    "            raise n\n",
    "    finally:\n",
    "        variance = SAVE_VARIANCE\n",
    "        \n",
    "    rel_diff = abs(var_you_0 - var_py) / var_py\n",
    "    print(\"\\nData: n={} samples from a Gaussian with mean {} and standard deviation {}\".format(n, mu, sigma))\n",
    "    print(\"\\tPython's variance function computed {}.\".format(var_py))\n",
    "    print(\"\\tYour var_method_0(X) computed {}.\".format(var_you_0))\n",
    "    print(\"\\tThe relative difference is |you - python| / |python| ~= {}.\".format(rel_diff))\n",
    "    assert rel_diff <= n*(2.0**(-52)), \"Relative difference is larger than expected...\"\n",
    "    \n",
    "print(\"\\n(Passed!)\")"
   ]
  },
  {
   "cell_type": "markdown",
   "metadata": {
    "deletable": false,
    "editable": false,
    "nbgrader": {
     "grade": false,
     "grade_id": "cell-53f9ae38bae03f58",
     "locked": true,
     "schema_version": 1,
     "solution": false
    }
   },
   "source": [
    "## A one-pass algorithm\n",
    "\n",
    "If there are a huge number of samples, the preceding formula can be slow. The reason is that it makes *two* passes (or loops) over the data: once to sum the samples and another to sum the squares of the samples.\n",
    "\n",
    "So if there are a huge number of samples and these were stored on disk, for instance, you would have to read each sample from disk twice. (For reference, the cost of accessing data on disk can be orders of magnitude slower than reading it from memory.)"
   ]
  },
  {
   "cell_type": "markdown",
   "metadata": {
    "deletable": false,
    "editable": false,
    "nbgrader": {
     "grade": false,
     "grade_id": "cell-85bab8691b25150e",
     "locked": true,
     "schema_version": 1,
     "solution": false
    }
   },
   "source": [
    "However, there is an alternative that would touch each observation only once. It is based on this formula:\n",
    "\n",
    "$$\\begin{eqnarray*}\n",
    "  \\bar{s}^2\n",
    "  & = & \\dfrac{\\left( \\sum_{i=0}^{n-1} x_i^2 \\right) - \\dfrac{1}{n}\\left( \\sum_{i=0}^{n-1} x_i \\right)^2}{n-1}.\n",
    "\\end{eqnarray*}$$\n",
    "\n",
    "In exact arithmetic, it is the same as the previous formula. And it can be implemented using only **one pass** of the data, using an algorithm of the following form:\n",
    "\n",
    "```\n",
    "  temp_sum = 0\n",
    "  temp_sum_squares = 0\n",
    "  for each observation x_i: # Read x_i once, but use twice!\n",
    "     temp_sum += x_i\n",
    "     temp_sum_squares += (x_i * x_i)\n",
    "  (calculate final variance)\n",
    "```\n",
    "\n",
    "But there is a catch, related to the numerical stability of this scheme."
   ]
  },
  {
   "cell_type": "markdown",
   "metadata": {
    "deletable": false,
    "editable": false,
    "nbgrader": {
     "grade": false,
     "grade_id": "cell-67c22edda475b532",
     "locked": true,
     "schema_version": 1,
     "solution": false
    }
   },
   "source": [
    "**Exercise 1** (5 points). Implement a function, `var_method_1(x)`, for the one-pass scheme shown above.\n",
    "\n",
    "The test cell below will run several experiments comparing its accuracy to the accuracy of the first method. You should observe that the one-pass method can be highly inaccurate!"
   ]
  },
  {
   "cell_type": "code",
   "execution_count": 4,
   "metadata": {
    "nbgrader": {
     "grade": false,
     "grade_id": "exercise_1",
     "locked": false,
     "schema_version": 1,
     "solution": true
    }
   },
   "outputs": [],
   "source": [
    "def var_method_1(x):\n",
    "    n = len(x)\n",
    "    ###\n",
    "    ts = 0\n",
    "    tss = 0\n",
    "    for i in x:\n",
    "        ts+= i\n",
    "        tss+=i**2\n",
    "    return (tss - (ts**2)/n)/(n-1)\n",
    "    \n",
    "    ###\n"
   ]
  },
  {
   "cell_type": "code",
   "execution_count": 5,
   "metadata": {
    "deletable": false,
    "editable": false,
    "nbgrader": {
     "grade": true,
     "grade_id": "exercise_1_test",
     "locked": true,
     "points": 5,
     "schema_version": 1,
     "solution": false
    },
    "scrolled": false
   },
   "outputs": [
    {
     "name": "stdout",
     "output_type": "stream",
     "text": [
      "\n",
      "Data: n=100000 samples from a Gaussian with mean 10000000.0 and standard deviation 1.0\n",
      "\tPython's variance function computed 1.001306837984895.\n",
      "\tvar_method_0(X) computed 1.001306837984905, with a relative difference of 9.97896632937719e-15.\n",
      "\tvar_method_1(X) computed 1.945619456194562, with a relative difference of 0.9430801652269472.\n",
      "\n",
      "Data: n=100000 samples from a Gaussian with mean 10000000.0 and standard deviation 1.0\n",
      "\tPython's variance function computed 0.9934864458433798.\n",
      "\tvar_method_0(X) computed 0.993486445843392, with a relative difference of 1.2292521273915779e-14.\n",
      "\tvar_method_1(X) computed -0.5939259392593926, with a relative difference of 1.5978198713674483.\n",
      "\n",
      "Data: n=100000 samples from a Gaussian with mean 10000000.0 and standard deviation 1.0\n",
      "\tPython's variance function computed 1.003521449076555.\n",
      "\tvar_method_0(X) computed 1.0035214490765507, with a relative difference of 4.204043169638076e-15.\n",
      "\tvar_method_1(X) computed 2.109461094610946, with a relative difference of 1.1020588015852397.\n",
      "\n",
      "Data: n=100000 samples from a Gaussian with mean 10000000.0 and standard deviation 1.0\n",
      "\tPython's variance function computed 1.0069434866302005.\n",
      "\tvar_method_0(X) computed 1.0069434866302036, with a relative difference of 3.0871886160698502e-15.\n",
      "\tvar_method_1(X) computed 0.8192081920819209, with a relative difference of 0.18644074572302718.\n",
      "\n",
      "Data: n=100000 samples from a Gaussian with mean 10000000.0 and standard deviation 1.0\n",
      "\tPython's variance function computed 1.0085114234914603.\n",
      "\tvar_method_0(X) computed 1.0085114234914625, with a relative difference of 2.2017063937294262e-15.\n",
      "\tvar_method_1(X) computed 1.7612976129761297, with a relative difference of 0.7464329822646216.\n",
      "\n",
      "(Passed!)\n"
     ]
    }
   ],
   "source": [
    "# Test cell: `exercise_1_test`\n",
    "\n",
    "from random import gauss\n",
    "from statistics import variance\n",
    "\n",
    "n = 100000\n",
    "mu = 1e7\n",
    "sigma = 1.0\n",
    "\n",
    "for _ in range(5): # 5 trials\n",
    "    X = [gauss(mu, sigma) for _ in range(n)]\n",
    "    var_py = variance(X)\n",
    "    try:\n",
    "        del variance\n",
    "        var_you_0 = var_method_0(X)\n",
    "        var_you_1 = var_method_1(X)\n",
    "    except NameError as n:\n",
    "        if n.args[0] == \"name 'variance' is not defined\":\n",
    "            assert False, \"Did you try to use `variance()` instead of implementing it from scratch?\"\n",
    "        else:\n",
    "            raise n\n",
    "    finally:\n",
    "        variance = SAVE_VARIANCE\n",
    "        \n",
    "    rel_diff_0 = abs(var_you_0 - var_py) / var_py\n",
    "    rel_diff_1 = abs(var_you_1 - var_py) / var_py\n",
    "    print(\"\\nData: n={} samples from a Gaussian with mean {} and standard deviation {}\".format(n, mu, sigma))\n",
    "    print(\"\\tPython's variance function computed {}.\".format(var_py))\n",
    "    print(\"\\tvar_method_0(X) computed {}, with a relative difference of {}.\".format(var_you_0, rel_diff_0))\n",
    "    assert rel_diff_0 <= n*(2.0**(-52)), \"The relative difference is larger than expected.\"\n",
    "    print(\"\\tvar_method_1(X) computed {}, with a relative difference of {}.\".format(var_you_1, rel_diff_1))\n",
    "    assert rel_diff_1 > n*(2.0**(-52)), \"The relative difference is smaller than expected!\"\n",
    "    \n",
    "print(\"\\n(Passed!)\")"
   ]
  },
  {
   "cell_type": "markdown",
   "metadata": {
    "deletable": false,
    "editable": false,
    "nbgrader": {
     "grade": false,
     "grade_id": "cell-92bae51c2bc739ef",
     "locked": true,
     "schema_version": 1,
     "solution": false
    }
   },
   "source": [
    "**Fin!** If you've reached this point and all tests above pass, you are ready to submit your solution to this problem. Don't forget to save you work prior to submitting."
   ]
  }
 ],
 "metadata": {
  "celltoolbar": "Create Assignment",
  "kernelspec": {
   "display_name": "Python 3.7",
   "language": "python",
   "name": "python3"
  },
  "language_info": {
   "codemirror_mode": {
    "name": "ipython",
    "version": 3
   },
   "file_extension": ".py",
   "mimetype": "text/x-python",
   "name": "python",
   "nbconvert_exporter": "python",
   "pygments_lexer": "ipython3",
   "version": "3.7.5"
  }
 },
 "nbformat": 4,
 "nbformat_minor": 1
}
