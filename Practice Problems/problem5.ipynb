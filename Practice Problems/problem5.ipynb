{
 "cells": [
  {
   "cell_type": "markdown",
   "metadata": {},
   "source": [
    "# Problem 5: Airbnb-TX\n",
    "\n",
    "In this problem, you will be analyzing house listing data from Airbnb in Texas using regex, lists, and dictionaries.\n",
    "\n",
    "> This problem was inspired by a Kaggle problem: https://www.kaggle.com/PromptCloudHQ/airbnb-property-data-from-texas\n",
    "\n",
    "You will work with a subset of the Airbnb data. Namely, you will focus on the price and the URL features of the dataset (the URL contains information on what city a customer searched for).\n",
    "\n",
    "The goal for this problem is to see what search cities appear most in a given price range.\n",
    "\n",
    "Please run the following code cell to set up the problem. The output shows the first 5 lines of the data you will be working with. The data is a list, available in a variable named `Master_list`. Each item of this list is an AirBnB listing, and more specifically holds the price and URL of that listing.\n",
    "\n",
    "> This cell uses Pandas (Topic 7) to simplify reading in the data. However, you do not need Pandas to solve the problem, as this exam covers only Topics 1-5."
   ]
  },
  {
   "cell_type": "code",
   "execution_count": 1,
   "metadata": {},
   "outputs": [
    {
     "name": "stdout",
     "output_type": "stream",
     "text": [
      "The first five lines of your data:\n"
     ]
    },
    {
     "data": {
      "text/plain": [
       "[['$27', 'https://www.airbnb.com/rooms/18520444?location=Cleveland%2C%20TX'],\n",
       " ['$149', 'https://www.airbnb.com/rooms/17481455?location=Cibolo%2C%20TX'],\n",
       " ['$59',\n",
       "  'https://www.airbnb.com/rooms/16926307?location=Beach%20City%2C%20TX'],\n",
       " ['$60',\n",
       "  'https://www.airbnb.com/rooms/11839729?location=College%20Station%2C%20TX'],\n",
       " ['$75', 'https://www.airbnb.com/rooms/17325114?location=Colleyville%2C%20TX']]"
      ]
     },
     "execution_count": 1,
     "metadata": {},
     "output_type": "execute_result"
    }
   ],
   "source": [
    "import pandas as pd\n",
    "import numpy as np\n",
    "import re\n",
    "\n",
    "# Extract data into tabular format using pandas (stay tuned for lab 7!)\n",
    "Airbnb_Austin = pd.read_csv('./resource/asnlib/publicdata/Airbnb_Texas_Rentals.csv')\n",
    "Airbnb_Austin = Airbnb_Austin.dropna()\n",
    "\n",
    "# Price_list\n",
    "price_raw = Airbnb_Austin['average_rate_per_night'].tolist()\n",
    "\n",
    "# Url_list\n",
    "url_list = Airbnb_Austin['url'].tolist()\n",
    "\n",
    "# Combine Price and URL into one list\n",
    "Master_list = [[price_raw[i], url_list[i]] for i in range(len(price_raw))]\n",
    "\n",
    "# Output first five lines of Master_list\n",
    "print(\"The first five lines of your data:\")\n",
    "Master_list[0:5]"
   ]
  },
  {
   "cell_type": "markdown",
   "metadata": {},
   "source": [
    "Note that the price is currently in the type of string. So first, lets convert the prices to integers.\n",
    "\n",
    "**Exercise 0** (1 point). Write a function `convertint(prices)` that, given a list of prices (of type string), finds the number in the string and converts it into an integer.\n",
    "\n",
    "For example, if\n",
    "\n",
    "```python\n",
    "prices = ['$27' , '$149' , '$59' , '$60' , '$75']\n",
    "```\n",
    "\n",
    "then your function should produce the output,\n",
    "\n",
    "```python\n",
    "convertint(prices) == [27 , 149 , 59 , 60 , 75]\n",
    "```\n",
    "\n",
    "You may assume all the prices are in the form `'$xx'` or `'$xxx'` and have no decimal part. "
   ]
  },
  {
   "cell_type": "code",
   "execution_count": 2,
   "metadata": {},
   "outputs": [],
   "source": [
    "def convertint(prices):\n",
    "    ###\n",
    "    return  [int(x.replace('$','')) for x in prices ]\n",
    "    ###\n"
   ]
  },
  {
   "cell_type": "code",
   "execution_count": 3,
   "metadata": {
    "deletable": false,
    "editable": false,
    "nbgrader": {
     "grade": true,
     "grade_id": "exercise0",
     "locked": true,
     "points": "1",
     "solution": false
    }
   },
   "outputs": [
    {
     "name": "stdout",
     "output_type": "stream",
     "text": [
      "Your convertint result: [27, 149, 59, 60, 75] -> Expected result: [27, 149, 59, 60, 75]\n",
      "\n",
      "(Passed!)\n"
     ]
    }
   ],
   "source": [
    "## Exercise 0 Test Cell - convertint(prices) ##\n",
    "\n",
    "test = convertint(['$27' , '$149' , '$59' , '$60' , '$75'])\n",
    "print (\"Your convertint result: {}\".format(test),\"->\", \"Expected result: {}\".format([27,149,59,60,75]))\n",
    "assert convertint(['$27' , '$149' , '$59' , '$60' , '$75']) == [27,149,59,60,75],'Your result does not match'\n",
    "print(\"\\n(Passed!)\")"
   ]
  },
  {
   "cell_type": "markdown",
   "metadata": {},
   "source": [
    "Great job! Now let's see what the updated data looks like. Run the code cell below. It will replace all the string-based dollar amounts in `Master_list` with their numerical equivalents."
   ]
  },
  {
   "cell_type": "code",
   "execution_count": 4,
   "metadata": {},
   "outputs": [
    {
     "name": "stdout",
     "output_type": "stream",
     "text": [
      "The first five lines of your updated data, with prices all converted to integer:\n"
     ]
    },
    {
     "data": {
      "text/plain": [
       "[[27, 'https://www.airbnb.com/rooms/18520444?location=Cleveland%2C%20TX'],\n",
       " [149, 'https://www.airbnb.com/rooms/17481455?location=Cibolo%2C%20TX'],\n",
       " [59, 'https://www.airbnb.com/rooms/16926307?location=Beach%20City%2C%20TX'],\n",
       " [60,\n",
       "  'https://www.airbnb.com/rooms/11839729?location=College%20Station%2C%20TX'],\n",
       " [75, 'https://www.airbnb.com/rooms/17325114?location=Colleyville%2C%20TX']]"
      ]
     },
     "execution_count": 4,
     "metadata": {},
     "output_type": "execute_result"
    }
   ],
   "source": [
    "prices = convertint(price_raw)\n",
    "Master_list = [[prices[i], url_list[i]] for i in range(len(prices))]\n",
    "print(\"The first five lines of your updated data, with prices all converted to integer:\")\n",
    "Master_list[0:5]"
   ]
  },
  {
   "cell_type": "markdown",
   "metadata": {},
   "source": [
    "Next, let's parse the URL strings to get the search cities."
   ]
  },
  {
   "cell_type": "markdown",
   "metadata": {},
   "source": [
    "**Exercise 1** (3 points). Write a function `parseurls(urls)` that parses the names of the cities searched from each of the url strings in the data. Since we know all the data come from Texas, you can ignore the state as it appears in these URLs.\n",
    "\n",
    "For example, if\n",
    "\n",
    "```python\n",
    "urls = ['https://www.airbnb.com/rooms/18520444?location=Cleveland%2C%20TX',\n",
    "        'https://www.airbnb.com/rooms/17481455?location=Cibolo%2C%20TX',\n",
    "        'https://www.airbnb.com/rooms/16926307?location=Beach%20City%2C%20TX',\n",
    "        'https://www.airbnb.com/rooms/11839729?location=College%20Station%2C%20TX']\n",
    "```\n",
    "\n",
    "then your function should produce the output shown below:\n",
    "\n",
    "```python\n",
    "parseurls(urls) == ['Cleveland','Cibolo','Beach City','College Station']\n",
    "```\n",
    "\n",
    "That is, you need to extract the city name from the raw URL, replace the special subsequences, `'%20'` with spaces, strip off the `'%2C%20TX'` suffixes."
   ]
  },
  {
   "cell_type": "code",
   "execution_count": 5,
   "metadata": {},
   "outputs": [],
   "source": [
    "import re\n",
    "\n",
    "def parseurl(urls):\n",
    "    ###\n",
    "    res = []\n",
    "    for url in urls:\n",
    "        start = re.search('location=', url).span()[1]\n",
    "        stop = re.search('%2C%',url).span()[0]\n",
    "        res.append(url[start:stop].replace('%20',' '))\n",
    "    \n",
    "    return res\n",
    "\n",
    "    ###\n"
   ]
  },
  {
   "cell_type": "code",
   "execution_count": null,
   "metadata": {
    "scrolled": true
   },
   "outputs": [],
   "source": []
  },
  {
   "cell_type": "code",
   "execution_count": 6,
   "metadata": {
    "deletable": false,
    "editable": false,
    "nbgrader": {
     "grade": true,
     "grade_id": "exercise1_0",
     "locked": true,
     "points": "1",
     "solution": false
    }
   },
   "outputs": [
    {
     "name": "stdout",
     "output_type": "stream",
     "text": [
      "Your parseurl result: ['Cleveland', 'Cibolo'] -> Expected result: ['Cleveland', 'Cibolo']\n",
      "\n",
      "(Passed!)\n"
     ]
    }
   ],
   "source": [
    "## Exercise 1, Test Cell 1 - The One Word Cities (1 point) ##\n",
    "result = parseurl(['https://www.airbnb.com/rooms/18520444?location=Cleveland%2C%20TX',\n",
    "                  'https://www.airbnb.com/rooms/17481455?location=Cibolo%2C%20TX'])\n",
    "t_result = ['Cleveland','Cibolo']\n",
    "print (\"Your parseurl result: {}\".format(result),\"->\", \"Expected result: {}\".format(t_result))\n",
    "assert result== t_result, 'Your result does not match'\n",
    "\n",
    "print(\"\\n(Passed!)\")"
   ]
  },
  {
   "cell_type": "code",
   "execution_count": 7,
   "metadata": {
    "deletable": false,
    "editable": false,
    "nbgrader": {
     "grade": true,
     "grade_id": "exercise1_1",
     "locked": true,
     "points": "2",
     "solution": false
    }
   },
   "outputs": [
    {
     "name": "stdout",
     "output_type": "stream",
     "text": [
      "Your parseurl result: ['Cleveland', 'Cibolo', 'Beach City', 'College Station'] -> \n",
      "Expected result: ['Cleveland', 'Cibolo', 'Beach City', 'College Station']\n",
      "\n",
      "(Passed!)\n"
     ]
    }
   ],
   "source": [
    "## Exercise 1, Test Cell 2 - One and Two Word Cities (2 point) ##\n",
    "\n",
    "result = parseurl(['https://www.airbnb.com/rooms/18520444?location=Cleveland%2C%20TX',\n",
    "                 'https://www.airbnb.com/rooms/17481455?location=Cibolo%2C%20TX',\n",
    "                 'https://www.airbnb.com/rooms/16926307?location=Beach%20City%2C%20TX',\n",
    "                 'https://www.airbnb.com/rooms/11839729?location=College%20Station%2C%20TX'])\n",
    "t_result = ['Cleveland','Cibolo','Beach City','College Station']\n",
    "print (\"Your parseurl result: {}\".format(result),\"->\", \"\\nExpected result: {}\".format(t_result))\n",
    "assert result == t_result,'Your result does not match'\n",
    "\n",
    "print(\"\\n(Passed!)\")"
   ]
  },
  {
   "cell_type": "markdown",
   "metadata": {},
   "source": [
    "Great! Now we are ready to analyze the data. Run the cell below to see the cleaned data, which again overwrites `Master_list`."
   ]
  },
  {
   "cell_type": "code",
   "execution_count": 8,
   "metadata": {},
   "outputs": [
    {
     "name": "stdout",
     "output_type": "stream",
     "text": [
      "The first five lines of your updated data, with prices and url cleaned:\n"
     ]
    },
    {
     "data": {
      "text/plain": [
       "[[27, 'Cleveland'],\n",
       " [149, 'Cibolo'],\n",
       " [59, 'Beach City'],\n",
       " [60, 'College Station'],\n",
       " [75, 'Colleyville']]"
      ]
     },
     "execution_count": 8,
     "metadata": {},
     "output_type": "execute_result"
    }
   ],
   "source": [
    "urls = parseurl(url_list)\n",
    "\n",
    "Master_list = [[prices[i], urls[i]] for i in range(len(prices))]\n",
    "print(\"The first five lines of your updated data, with prices and url cleaned:\")\n",
    "Master_list[0:5]"
   ]
  },
  {
   "cell_type": "markdown",
   "metadata": {},
   "source": [
    "Now, we will try to see what search cities appear most at certain price listings. To do this, we will first need a way to filter the data by price."
   ]
  },
  {
   "cell_type": "markdown",
   "metadata": {},
   "source": [
    "**Exercise 2** (1 point) Create a function `filterdata(data, low, high)` that filters the data by a price range, given by the low and high values. For instance, `filterdata(data, 50, 100)` should output data for all the listings where the price is between 50 and 100 (inclusive of 50 and 100). Note the `data` input will be in the same form as `Master_list` in the code cell above. That is, it will be in the form:\n",
    "\n",
    "```python\n",
    "[[27, 'Cleveland'],\n",
    " [149, 'Cibolo'],\n",
    " [59, 'Beach City'],\n",
    " [60, 'College Station'],\n",
    " [75, 'Colleyville']]\n",
    "```\n",
    "\n",
    "When run on the data above, `filterdata(data, 50, 100)` would return `[[59, 'Beach City'], [60, 'College Station'], [75, 'Colleyville']]`."
   ]
  },
  {
   "cell_type": "code",
   "execution_count": 9,
   "metadata": {
    "collapsed": true
   },
   "outputs": [],
   "source": [
    "def filterdata(data, low, high):\n",
    "    ###\n",
    "    res=[]\n",
    "    for item in data:\n",
    "        if low<= item[0] and item[0]<=high:\n",
    "            res.append(item)\n",
    "    return res\n",
    "    ###\n"
   ]
  },
  {
   "cell_type": "code",
   "execution_count": 10,
   "metadata": {
    "deletable": false,
    "editable": false,
    "nbgrader": {
     "grade": true,
     "grade_id": "exercise2_0",
     "locked": true,
     "points": "0.5",
     "solution": false
    }
   },
   "outputs": [
    {
     "name": "stdout",
     "output_type": "stream",
     "text": [
      "\n",
      "(Passed!)\n"
     ]
    }
   ],
   "source": [
    "## Exercise 2, Test Cell 1 - Assert output lengths are correct (0.5 points) ##\n",
    "\n",
    "assert len(filterdata(Master_list,50,100)) == 5436,'Length of your filtered data differ!'\n",
    "assert len(filterdata(Master_list,1000,10000)) == 515, 'Length of your filtered data differ!'\n",
    "assert len(filterdata(Master_list,0,200)) == 13538, 'Length of your filtered data differ!'\n",
    "assert len(filterdata(Master_list,15,87)) == 7338, 'Length of your filtered data differ!'\n",
    "\n",
    "print(\"\\n(Passed!)\")"
   ]
  },
  {
   "cell_type": "code",
   "execution_count": 11,
   "metadata": {
    "deletable": false,
    "editable": false,
    "nbgrader": {
     "grade": true,
     "grade_id": "exercise2_1",
     "locked": true,
     "points": "0.5",
     "solution": false
    }
   },
   "outputs": [
    {
     "name": "stdout",
     "output_type": "stream",
     "text": [
      "\n",
      "(Passed!)\n"
     ]
    }
   ],
   "source": [
    "## Exercise 2, Test Cell 2 - Assert individual items in the list are correct (0.5 points) ##\n",
    "\n",
    "def sortfilterdata(s):\n",
    "    return sorted(s, key=lambda x:(x[0],x[1]))\n",
    "\n",
    "test = sortfilterdata(filterdata(Master_list,0,200))\n",
    "\n",
    "assert test[0:10] == [[10, 'Bellaire'], [10, 'Bertram'], [10, 'Big Bend National Park'],\n",
    "                      [10, 'Castro County'], [10, 'Castroville'], \n",
    "                      [10, 'Castroville'], [10, 'Castroville'], \n",
    "                      [10, 'Castroville'], [11, 'Addison'], [11, 'Aubrey']], 'Result does not match!'\n",
    "\n",
    "assert test[40:50] == [[16, 'Caldwell'],[16, 'College Station'],[16, 'Coupland'],\n",
    "                       [17, 'Alvin'],[17, 'Alvin'],[17, 'Bastrop County'],\n",
    "                       [17, 'Bell County'],[17, 'Belton'],\n",
    "                       [17, 'Buda'],[17, 'Carrollton']],'Result does not match!'\n",
    "\n",
    "assert test[13527:13537] == [[200, 'Corpus Christi'],[200, 'Corpus Christi'],\n",
    "                             [200, 'Corpus Christi'],[200, 'Corpus Christi'],\n",
    "                             [200, 'Corpus Christi'],[200, 'Corpus Christi'],\n",
    "                             [200, 'Corpus Christi'],[200, 'Corpus Christi'],\n",
    "                             [200, 'Coupland'],[200, 'Coupland']],'Result does not match!'\n",
    "\n",
    "print(\"\\n(Passed!)\")"
   ]
  },
  {
   "cell_type": "markdown",
   "metadata": {},
   "source": [
    "Next, we need a way to count the number of occurences of each search city."
   ]
  },
  {
   "cell_type": "markdown",
   "metadata": {},
   "source": [
    "**Exercise 3** (1 point) Create a function `findcount(s)` that generates a dictionary of the number of occurences of each unique string in a list. For example:\n",
    "\n",
    "```python\n",
    "findcount(['Cleveland','Austin','Dallas','Austin','Cleveland']) == {'Cleveland':2, 'Austin':2, 'Dallas':1}\n",
    "```\n",
    "\n",
    "Note that because the output is a dictionary, order does not matter, as long as all the keys and values are correct.\n",
    "\n",
    "> **Hint:** You might find useful types or functions in the `collections` module."
   ]
  },
  {
   "cell_type": "code",
   "execution_count": 12,
   "metadata": {
    "collapsed": true,
    "nbgrader": {
     "grade": false,
     "grade_id": "exercise3_0",
     "locked": false,
     "points": "1",
     "solution": false
    }
   },
   "outputs": [],
   "source": [
    "def findcount(s):\n",
    "    ###\n",
    "    from collections import Counter\n",
    "    c = Counter(s)\n",
    "    dic = {}\n",
    "    for i in set(s):\n",
    "        dic[i] = c[i]\n",
    "    return dic\n",
    "    \n",
    "    ###\n"
   ]
  },
  {
   "cell_type": "code",
   "execution_count": 13,
   "metadata": {
    "deletable": false,
    "editable": false,
    "nbgrader": {
     "grade": true,
     "grade_id": "exercise3",
     "locked": true,
     "points": "1",
     "solution": false
    }
   },
   "outputs": [
    {
     "name": "stdout",
     "output_type": "stream",
     "text": [
      "\n",
      "(Passed!)\n"
     ]
    }
   ],
   "source": [
    "## Exercise 3 Test Cell - Counts for Cities (1 point) ##\n",
    "\n",
    "testdata = filterdata(Master_list,50,100)\n",
    "citiestest = [i[1] for i in testdata]\n",
    "test1 = findcount(citiestest)\n",
    "\n",
    "assert type(test1) is dict, \"Your result is of type `{}`, not `dict`.\".format(type(test1))\n",
    "assert test1['Allen'] == 117, 'Result does not match'\n",
    "assert test1['Columbus'] == 10, 'Result does not match'\n",
    "assert test1['College Station'] == 57, 'Result does not match'\n",
    "\n",
    "print(\"\\n(Passed!)\")"
   ]
  },
  {
   "cell_type": "markdown",
   "metadata": {},
   "source": [
    "Finally, lets put everything together in order to find the most common search cities for each price range."
   ]
  },
  {
   "cell_type": "markdown",
   "metadata": {},
   "source": [
    "**Exercise 4** (4 points) Generate a dictionary that shows the top 3 most common search cities in the following price ranges: 0-50, 51-100, 101-200, and 201-10000. The dictionary should be in the following form:\n",
    "\n",
    "`{'Price 0-50':['city1','city2','city3'], etc..}`\n",
    "\n",
    "Store your dictionary as the variable `TopCities`\n",
    "\n",
    "Use the above functions, or functions of your own, to help you generate the dictionary."
   ]
  },
  {
   "cell_type": "code",
   "execution_count": 14,
   "metadata": {},
   "outputs": [],
   "source": [
    "TopCities = {}\n",
    "###\n",
    "from collections import Counter\n",
    "lows = [0,51,101,201]\n",
    "highs = [50,100,200,10000]\n",
    "\n",
    "\n",
    "for low, high in zip(lows,highs):\n",
    "\n",
    "    s = [x[1] for x in filterdata(Master_list, low, high)]\n",
    "    key = f'Price {low}-{high}'\n",
    "    TopCities[key] = [x[0] for x in Counter(s).most_common(3)]\n",
    "    \n",
    "\n",
    "###\n"
   ]
  },
  {
   "cell_type": "code",
   "execution_count": 15,
   "metadata": {
    "deletable": false,
    "editable": false,
    "nbgrader": {
     "grade": true,
     "grade_id": "exercise4",
     "locked": true,
     "points": "4",
     "solution": false
    }
   },
   "outputs": [
    {
     "name": "stdout",
     "output_type": "stream",
     "text": [
      "\n",
      "(Passed!)\n"
     ]
    }
   ],
   "source": [
    "## Exercise 4 Test Cell - TopCities (4 points) ##\n",
    "\n",
    "result1 = {'Price 0-50': ['Coppell', 'Colleyville', 'Carrollton'],\n",
    "           'Price 101-200': ['Bayou Vista', 'Center Point', 'Aransas Pass'],\n",
    "           'Price 51-100': ['Bellaire', 'Alvin', 'Alamo Heights'],\n",
    "           'Price 201-10000': ['Baffin Bay', 'Burnet', 'Buchanan Dam']}\n",
    "\n",
    "result2 = {'Price 0-50': ['Coppell', 'Colleyville', 'Carrollton'],\n",
    "           'Price 51-100': ['Bellaire', 'Alvin', 'Alamo Heights'],\n",
    "           'Price 101-200': ['Bayou Vista', 'Center Point', 'Corpus Christi'], \n",
    "           'Price 201-10000': ['Baffin Bay', 'Burnet', 'Buchanan Dam']}\n",
    "\n",
    "assert TopCities == result1 or TopCities == result2,'TopCities does not match!'\n",
    "\n",
    "print(\"\\n(Passed!)\")"
   ]
  },
  {
   "cell_type": "markdown",
   "metadata": {},
   "source": [
    "**Fin!** You've reached the end of this problem. Don't forget to restart the kernel and run the entire notebook from top-to-bottom to make sure you did everything correctly. If that is working, try submitting this problem. (Recall that you *must* submit and pass the autograder to get credit for your work!)"
   ]
  }
 ],
 "metadata": {
  "kernelspec": {
   "display_name": "Python 3.7",
   "language": "python",
   "name": "python3"
  },
  "language_info": {
   "codemirror_mode": {
    "name": "ipython",
    "version": 3
   },
   "file_extension": ".py",
   "mimetype": "text/x-python",
   "name": "python",
   "nbconvert_exporter": "python",
   "pygments_lexer": "ipython3",
   "version": "3.7.5"
  }
 },
 "nbformat": 4,
 "nbformat_minor": 2
}
