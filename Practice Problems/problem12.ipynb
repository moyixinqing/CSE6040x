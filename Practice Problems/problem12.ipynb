{
 "cells": [
  {
   "cell_type": "markdown",
   "metadata": {
    "deletable": false,
    "editable": false,
    "nbgrader": {
     "grade": false,
     "locked": true,
     "solution": false
    }
   },
   "source": [
    "# Problem 12: Job Recommendation"
   ]
  },
  {
   "cell_type": "markdown",
   "metadata": {
    "deletable": false,
    "editable": false,
    "nbgrader": {
     "grade": false,
     "locked": true,
     "solution": false
    }
   },
   "source": [
    "In this problem, you will recommend jobs to a person based on his previous job application history, which is called [content-based filtering](https://en.wikipedia.org/wiki/Recommender_system#Content-based_filtering). The problem will test your knowledge of basic Python data structures, such as lists, dictionaries (with nested dictionaries), default dictionaries, and sorting.\n",
    "\n",
    "There are 5 exercises in this problem, numbered 0 through 4 and worth 10 points in total."
   ]
  },
  {
   "cell_type": "markdown",
   "metadata": {},
   "source": [
    "## Loading and interpreting the data\n",
    "\n",
    "Please run the following code cell to load the data. It will create two data structures:\n",
    "\n",
    "1. **`People`**: This object is a nested dictionary that contains people and their job histories.\n",
    "2. **`Hiring_jobs`**: This object is also dictionary. It contains open positions.\n",
    "\n",
    "The code cell will also print some of this data, after which we'll explain the format in more detail."
   ]
  },
  {
   "cell_type": "code",
   "execution_count": 50,
   "metadata": {
    "deletable": false,
    "editable": false,
    "nbgrader": {
     "grade": false,
     "locked": true,
     "solution": false
    }
   },
   "outputs": [
    {
     "name": "stdout",
     "output_type": "stream",
     "text": [
      "* Use People['0'] to access the first person's job history ==>\n",
      "People[0] == {'0': {'title': 'data scientist', 'company': 'apple', 'status': 'apply'}, '1': {'title': 'data analyst', 'company': 'google', 'status': 'apply'}, '2': {'title': 'postdoc', 'company': 'georgia tech', 'status': 'current'}, '3': {'title': 'research assistant', 'company': 'georgia tech', 'status': 'previous'}}\n",
      "\n",
      "* Use People['1'] to access the second person's job history ==>\n",
      "People[1] == {'0': {'title': 'data scientist', 'company': 'google', 'status': 'apply'}, '1': {'title': 'data engineer', 'company': 'amazon', 'status': 'apply'}, '2': {'title': 'data scientist', 'company': 'facebook', 'status': 'apply'}, '3': {'title': 'data scientist', 'company': 'microsoft', 'status': 'apply'}, '4': {'title': 'data analyst', 'company': 'chase', 'status': 'previous'}}\n",
      "\n",
      "(... and so on ...)\n",
      "\n",
      "Use People['0']['1'] to access the first person's second job history ==>\n",
      "People['0']['1'] == {'title': 'data analyst', 'company': 'google', 'status': 'apply'}\n",
      "\n",
      "\n",
      "Hiring_jobs ==>\n",
      "{'0': ['data scientist', 'IBM'], '1': ['data scientist', 'coca cola'], '2': ['data analyst', 'cnn'], '3': ['data scientist', 'google'], '4': ['business analyst', 'chase'], '5': ['data scientist', 'apple'], '6': ['scientist', 'biogen'], '7': ['scientist', 'broad institute'], '8': ['postdoc', 'mit'], '9': ['data engineer', 'microsoft']}\n"
     ]
    }
   ],
   "source": [
    "# Load the data\n",
    "import json\n",
    "\n",
    "with open('people.json') as people_data:\n",
    "    People = json.load(people_data,)\n",
    "\n",
    "with open('hiringjobs.json') as jobs_data:\n",
    "    Hiring_jobs = json.load(jobs_data,)\n",
    "    \n",
    "print(\"* Use People['0'] to access the first person's job history ==>\\nPeople[0] == {}\".format(People['0']))\n",
    "print(\"\\n* Use People['1'] to access the second person's job history ==>\\nPeople[1] == {}\".format(People['1']))\n",
    "print('\\n(... and so on ...)\\n')\n",
    "\n",
    "print(\"Use People['0']['1'] to access the first person's second job history ==>\\nPeople['0']['1'] == {}\".format(People['0']['1']))\n",
    "print('\\n')\n",
    "\n",
    "print(\"Hiring_jobs ==>\\n{}\".format(Hiring_jobs))"
   ]
  },
  {
   "cell_type": "markdown",
   "metadata": {
    "deletable": false,
    "editable": false,
    "nbgrader": {
     "grade": false,
     "locked": true,
     "solution": false
    }
   },
   "source": [
    "In the `People` dictionary, each key is a person's ID and the person's job history is the corresponding value. This history is, itself, represented as a dictionary, where each key is a history ID and the associated value is another dictionary whose keys are `'title'`, `'company'`, and `'status'`. The latter field, `'status'`, indicates the person's status with respect to the job. It can be `'apply'`, meaning the person has applied for the job and is waiting to hear back; `'current'`, meaning the person is currently working that job; or `'previous'`, meaning the person had previously worked at that job but no longer does so.\n",
    "\n",
    "In the `Hiring_jobs` dictionary, each key is a job ID. Each corresponding value is an ordered list with containing two values, a job title and a company name.\n",
    "\n",
    "For instance, consider the above output. Person 0 (ID of `'0'`) has a job history with four entries. In the case of job entries `People['0']['0']` (data scientist position at Apple) and `People['0']['1']` (data analyst position at Google), the person's status is `'apply'`, meaning that he or she has applied for the job and is awaiting a decision. In `People['0']['2']`, the status is `'current'` meaning it is the person's current position (postdoc at Georgia Tech)."
   ]
  },
  {
   "cell_type": "markdown",
   "metadata": {
    "deletable": false,
    "editable": false,
    "nbgrader": {
     "grade": false,
     "locked": true,
     "solution": false
    }
   },
   "source": [
    "## Exercises"
   ]
  },
  {
   "cell_type": "markdown",
   "metadata": {
    "deletable": false,
    "editable": false,
    "nbgrader": {
     "grade": false,
     "locked": true,
     "solution": false
    }
   },
   "source": [
    "**Exercise 0** (1 point). Given the `People` dictionary and a person's ID, `pid`, find all jobs that the person has applied for. Return these as a list. Each entry of this list represents a job as a pair (2-tuple) whose fields are the job's title and company. If the person has no active applications, the function should return an empty list. \n",
    "\n",
    "For example, for person with ID '0', he/she has applied for two jobs: `'data scientist'` in `'apple'` and `'data analyst'` in `'google'`. In this case, your function should return a list containing two tuples:\n",
    "\n",
    "```python\n",
    "    find_applications(People, '0') == [('data scientist', 'apple'), ('data analyst', 'google')]\n",
    "```"
   ]
  },
  {
   "cell_type": "code",
   "execution_count": 51,
   "metadata": {},
   "outputs": [],
   "source": [
    "def find_applications(People, pid):\n",
    "    assert type(People) is dict and len(People) != 0\n",
    "    assert type(pid) is str\n",
    "    \n",
    "    ###\n",
    "\n",
    "    res = []\n",
    "    \n",
    "    for  i, j in People[pid].items():\n",
    "        if j['status'] == 'apply':\n",
    "            res.append((j['title'],j['company']))\n",
    "    return res\n",
    "    \n",
    "    ###\n"
   ]
  },
  {
   "cell_type": "code",
   "execution_count": 52,
   "metadata": {
    "deletable": false,
    "editable": false,
    "nbgrader": {
     "grade": true,
     "grade_id": "find_applied_jobs_test",
     "locked": true,
     "points": "2",
     "solution": false
    }
   },
   "outputs": [
    {
     "name": "stdout",
     "output_type": "stream",
     "text": [
      "\n",
      "The person with pid '0' applied for 2 jobs:\n",
      "'data scientist' in 'apple';\n",
      "'data analyst' in 'google';\n",
      "\n",
      "The person with pid '1' applied for 4 jobs:\n",
      "'data scientist' in 'google';\n",
      "'data engineer' in 'amazon';\n",
      "'data scientist' in 'facebook';\n",
      "'data scientist' in 'microsoft';\n",
      "\n",
      "The person with pid '2' applied for 0 jobs:\n",
      "\n",
      "The person with pid '3' applied for 5 jobs:\n",
      "'scientist' in 'sentien biotechnologies';\n",
      "'scientist' in 'black diamond networks';\n",
      "'scientist' in 'surface oncology';\n",
      "'scientist' in 'akebia therapeutics';\n",
      "'scientist' in 'lifemine therapeutics';\n",
      "\n",
      "The person with pid '4' applied for 5 jobs:\n",
      "'scientist' in 'dana-Farber cancer institute';\n",
      "'scientist' in 'agenus';\n",
      "'bioinformatician' in 'mitra biotech';\n",
      "'data scientist' in 'boston VA research institute';\n",
      "'scientist' in 'daley and associates';\n",
      "\n",
      "(Passed!)\n"
     ]
    }
   ],
   "source": [
    "# `find_applied_jobs_test` (1 point): Test cell\n",
    "def print_applications(applied_jobs, pid):\n",
    "    # print the applied job title and company for each person\n",
    "    print(\"\\nThe person with pid '{}' applied for {} jobs:\".format(pid, len(applied_jobs)))\n",
    "    if len(applied_jobs) >= 1:\n",
    "        for i in applied_jobs:\n",
    "            print(\"'{}' in '{}';\".format(i[0], i[1]))\n",
    "\n",
    "pid = '0'\n",
    "applied_jobs = find_applications(People, pid)\n",
    "assert type(applied_jobs) is list, \"applied_jobs should be a list.\"\n",
    "assert type(applied_jobs[0]) is tuple, \"Each item in applied_jobs list should be a tuple.\"\n",
    "assert len(applied_jobs) == 2, \"The person with pid '0' only applied for 2 jobs.\"\n",
    "assert ('data scientist', 'apple') in applied_jobs\n",
    "assert ('data analyst', 'google') in applied_jobs\n",
    "print_applications(applied_jobs, pid)\n",
    "\n",
    "pid = '1'\n",
    "applied_jobs = find_applications(People, pid)\n",
    "assert type(applied_jobs) is list and type(applied_jobs[0]) is tuple\n",
    "assert len(applied_jobs) == 4\n",
    "assert ('data scientist', 'google') in applied_jobs and ('data engineer', 'amazon') in applied_jobs\n",
    "assert ('data scientist', 'facebook') in applied_jobs \n",
    "assert ('data scientist', 'microsoft') in applied_jobs\n",
    "print_applications(applied_jobs, pid)\n",
    "\n",
    "pid = '2'\n",
    "applied_jobs = find_applications(People, pid)\n",
    "assert type(applied_jobs) is list\n",
    "assert len(applied_jobs) == 0\n",
    "print_applications(applied_jobs, pid)\n",
    "\n",
    "pid = '3'\n",
    "applied_jobs = find_applications(People, pid)\n",
    "assert type(applied_jobs) is list and type(applied_jobs[0]) is tuple\n",
    "assert len(applied_jobs) == 5\n",
    "assert ('scientist', 'sentien biotechnologies') in applied_jobs\n",
    "assert ('scientist', 'black diamond networks') in applied_jobs\n",
    "assert ('scientist', 'surface oncology') in applied_jobs\n",
    "assert ('scientist', 'akebia therapeutics') in applied_jobs\n",
    "assert ('scientist', 'lifemine therapeutics') in applied_jobs\n",
    "print_applications(applied_jobs, pid)\n",
    "\n",
    "pid = '4'\n",
    "applied_jobs = find_applications(People, pid)\n",
    "assert type(applied_jobs) is list and type(applied_jobs[0]) is tuple\n",
    "assert len(applied_jobs) == 5\n",
    "assert ('scientist', 'dana-Farber cancer institute') in applied_jobs\n",
    "assert ('scientist', 'agenus') in applied_jobs\n",
    "assert ('bioinformatician', 'mitra biotech') in applied_jobs\n",
    "assert ('data scientist', 'boston VA research institute') in applied_jobs\n",
    "assert ('scientist', 'daley and associates') in applied_jobs\n",
    "print_applications(applied_jobs, pid)\n",
    "\n",
    "print(\"\\n(Passed!)\")"
   ]
  },
  {
   "cell_type": "markdown",
   "metadata": {
    "deletable": false,
    "editable": false,
    "nbgrader": {
     "grade": false,
     "locked": true,
     "solution": false
    }
   },
   "source": [
    "**Exercise 1** (2 points). Implement `find_job_freq(applications)` so that it does the following. Given a list of `(title, company)` pairs, it should count how many times each `title` occurs. Then, it should return this data as a **dictionary**, where each key is a job title and the corresponding value is the count. (You may return either a standard Python `dict` or a `collections.defaultdict`.)\n",
    "\n",
    "For example:\n",
    "\n",
    "```python\n",
    "    apps = [('data scientist', 'apple'), ('data analyst', 'google'), ('data scientist', 'microsoft')]\n",
    "    find_job_freq(apps) == {'data scientist': 2, 'data analyst': 1}\n",
    "```\n",
    "\n",
    "**Note: If the person hasn't applied for any job, return an empty dictionary.** There are two test cells for this exercise, each has one point, to give you some partial credits. The test_1 cell is for general cases. The test_2 cell is to check how you deal with the not-applying-job person. "
   ]
  },
  {
   "cell_type": "code",
   "execution_count": 53,
   "metadata": {
    "collapsed": true
   },
   "outputs": [],
   "source": [
    "def find_job_freq(applications):\n",
    "    type(applications) is list\n",
    "        \n",
    "    ###\n",
    "    from collections import defaultdict\n",
    "    dic = defaultdict(int)\n",
    "    for i in [x[0] for x in applications]:\n",
    "        dic[i] +=1\n",
    "    return dic\n",
    "    \n",
    "    ###\n"
   ]
  },
  {
   "cell_type": "code",
   "execution_count": 54,
   "metadata": {
    "deletable": false,
    "editable": false,
    "nbgrader": {
     "grade": true,
     "grade_id": "find_job_freq_test_1",
     "locked": true,
     "points": "1",
     "solution": false
    }
   },
   "outputs": [
    {
     "name": "stdout",
     "output_type": "stream",
     "text": [
      "\n",
      "The person with pid '0' applied for 2 different types of jobs:\n",
      "1 of 'data scientist';\n",
      "1 of 'data analyst';\n",
      "\n",
      "The person with pid '1' applied for 2 different types of jobs:\n",
      "3 of 'data scientist';\n",
      "1 of 'data engineer';\n",
      "\n",
      "The person with pid '3' applied for 1 different types of jobs:\n",
      "5 of 'scientist';\n",
      "\n",
      "The person with pid '4' applied for 3 different types of jobs:\n",
      "3 of 'scientist';\n",
      "1 of 'bioinformatician';\n",
      "1 of 'data scientist';\n",
      "\n",
      "(Passed!)\n"
     ]
    }
   ],
   "source": [
    "# `find_job_freq_test_1` (1 point): Test cell for general cases\n",
    "from collections import defaultdict\n",
    "\n",
    "def print_job_freq(job_freq, pid):\n",
    "    # print the applied job title and frequency for each person\n",
    "    print(\"\\nThe person with pid '{}' applied for {} different types of jobs:\".format(pid, len(job_freq)))\n",
    "    if len(job_freq) >= 1:\n",
    "        for k, v in job_freq.items():\n",
    "            print(\"{} of '{}';\".format(v, k))\n",
    "            \n",
    "pid = '0'\n",
    "applied_jobs = find_applications(People, pid)\n",
    "job_freq = find_job_freq(applied_jobs)\n",
    "assert type(job_freq) is dict or type(job_freq) is defaultdict, \"job_freq should be a dict or defaultdict.\"\n",
    "assert len(job_freq) == 2, \"The person with pid '0' applied for 2 different types of jobs.\"\n",
    "assert 'data scientist' in job_freq and job_freq['data scientist'] == 1\n",
    "print_job_freq(job_freq, pid)\n",
    "\n",
    "pid = '1'\n",
    "applied_jobs = find_applications(People, pid)\n",
    "job_freq = find_job_freq(applied_jobs)\n",
    "assert type(job_freq) is dict or type(job_freq) is defaultdict\n",
    "assert len(job_freq) == 2\n",
    "assert 'data scientist' in job_freq and job_freq['data scientist'] == 3\n",
    "print_job_freq(job_freq, pid)\n",
    "\n",
    "pid = '3'\n",
    "applied_jobs = find_applications(People, pid)\n",
    "job_freq = find_job_freq(applied_jobs)\n",
    "assert type(job_freq) is dict or type(job_freq) is defaultdict\n",
    "assert len(job_freq) == 1\n",
    "assert 'scientist' in job_freq and job_freq['scientist'] == 5\n",
    "print_job_freq(job_freq, pid)\n",
    "\n",
    "pid = '4'\n",
    "applied_jobs = find_applications(People, pid)\n",
    "job_freq = find_job_freq(applied_jobs)\n",
    "assert type(job_freq) is dict or type(job_freq) is defaultdict\n",
    "assert len(job_freq) == 3\n",
    "assert 'scientist' in job_freq and job_freq['scientist'] == 3\n",
    "assert 'data scientist' in job_freq and job_freq['data scientist'] == 1\n",
    "assert 'bioinformatician' in job_freq and job_freq['bioinformatician'] == 1\n",
    "print_job_freq(job_freq, pid)\n",
    "\n",
    "print(\"\\n(Passed!)\")"
   ]
  },
  {
   "cell_type": "code",
   "execution_count": 55,
   "metadata": {
    "deletable": false,
    "editable": false,
    "nbgrader": {
     "grade": true,
     "grade_id": "find_job_freq_test_2",
     "locked": true,
     "points": "1",
     "solution": false
    }
   },
   "outputs": [
    {
     "name": "stdout",
     "output_type": "stream",
     "text": [
      "\n",
      "The person with pid '2' applied for 0 different types of jobs:\n",
      "\n",
      "(Passed!)\n"
     ]
    }
   ],
   "source": [
    "# `find_job_freq_test_2` (1 point): Test cell for person hasn't applied for any job\n",
    "pid = '2'\n",
    "applied_jobs = find_applications(People, pid)\n",
    "job_freq = find_job_freq(applied_jobs)\n",
    "assert type(job_freq) is dict or type(job_freq) is defaultdict\n",
    "assert len(job_freq) == 0\n",
    "print_job_freq(job_freq, pid)\n",
    "\n",
    "print(\"\\n(Passed!)\")"
   ]
  },
  {
   "cell_type": "markdown",
   "metadata": {
    "deletable": false,
    "editable": false,
    "nbgrader": {
     "grade": false,
     "locked": true,
     "solution": false
    }
   },
   "source": [
    "**Exercise 2** (3.5 points). Suppose you are given a job-frequency dictionary as might result from Exercise 1. Your task is as follows:\n",
    "\n",
    "- Rank the jobs by frequency value in descending order.\n",
    "- For jobs with the same frequency, resulting in ties, keep job titles in (ascending) alphabetical order.\n",
    "- Return the final result as a list of **job titles** in the order described above.\n",
    "\n",
    "Complete the function `rank_job(job_freq)`, below, to perform this procedure.\n",
    "\n",
    "For example:\n",
    "\n",
    "```python\n",
    "    job_freq = {'data scientist': 1, 'bioinformatician': 1, 'scientist': 3}\n",
    "    rank_job(job_freq) == ['scientist', 'bioinformatician', 'data scientist']\n",
    "```\n",
    "\n",
    "> _Hint_: Consider the _sorted_ function, per [this StackOverflow post](https://stackoverflow.com/questions/9919342/sorting-a-dictionary-by-value-then-key).\n",
    ">\n",
    "> _Notes_: If the input `job_freq` is an empty dictionary, then return an empty list. Also, there are several test cells, each of which checks a different condition on the output, and thereby enabling you to earn partial credit."
   ]
  },
  {
   "cell_type": "code",
   "execution_count": 56,
   "metadata": {},
   "outputs": [],
   "source": [
    "def rank_job(job_freq):\n",
    "    assert type(job_freq) is dict or type(job_freq) is defaultdict\n",
    "        \n",
    "    ###\n",
    "    \n",
    "    return [v[0] for v in sorted(job_freq.items(), key = lambda kv: (-kv[1],kv[0]))]\n",
    "\n",
    "    \n",
    "    ###\n"
   ]
  },
  {
   "cell_type": "code",
   "execution_count": 57,
   "metadata": {
    "deletable": false,
    "editable": false,
    "nbgrader": {
     "grade": true,
     "grade_id": "rank_job_test_1",
     "locked": true,
     "points": "1",
     "solution": false
    }
   },
   "outputs": [
    {
     "name": "stdout",
     "output_type": "stream",
     "text": [
      "\n",
      "The applied jobs of person with pid '1' are in this order: ['data scientist', 'data engineer']\n",
      "\n",
      "The applied jobs of person with pid '3' are in this order: ['scientist']\n",
      "\n",
      "(Passed!)\n"
     ]
    }
   ],
   "source": [
    "# `rank_job_test_1` (2 points): Test cell for ranking by values correctly\n",
    "applied_jobs = find_applications(People, '1')\n",
    "job_freq = find_job_freq(applied_jobs)\n",
    "rank = rank_job(job_freq)\n",
    "assert type(rank) is list, \"rank should be a list.\"\n",
    "assert len(rank) == 2, \"The Person with pid '1' only applied for 2 types of different jobs.\"\n",
    "assert rank[0] == 'data scientist' and rank[1] == 'data engineer', \"Wrong job title or wrong order.\"\n",
    "print(\"\\nThe applied jobs of person with pid '{}' are in this order: {}\".format('1', rank))\n",
    "\n",
    "applied_jobs = find_applications(People, '3')\n",
    "job_freq = find_job_freq(applied_jobs)\n",
    "rank = rank_job(job_freq)\n",
    "assert type(rank) is list and len(rank) == 1\n",
    "assert 'scientist' in rank\n",
    "print(\"\\nThe applied jobs of person with pid '{}' are in this order: {}\".format('3', rank))\n",
    "\n",
    "print(\"\\n(Passed!)\")"
   ]
  },
  {
   "cell_type": "code",
   "execution_count": 58,
   "metadata": {
    "deletable": false,
    "editable": false,
    "nbgrader": {
     "grade": true,
     "grade_id": "rank_job_test_2",
     "locked": true,
     "points": "1",
     "solution": false
    }
   },
   "outputs": [
    {
     "name": "stdout",
     "output_type": "stream",
     "text": [
      "\n",
      "The applied jobs of person with pid '0' are in this order: ['data analyst', 'data scientist']\n",
      "\n",
      "The applied jobs of person with pid '4' are in this order: ['scientist', 'bioinformatician', 'data scientist']\n",
      "\n",
      "(Passed!)\n"
     ]
    }
   ],
   "source": [
    "# `rank_job_test_2` (1 point): Test cell for ranking by both values and keys correctly\n",
    "applied_jobs = find_applications(People, '0')\n",
    "job_freq = find_job_freq(applied_jobs)\n",
    "rank = rank_job(job_freq)\n",
    "assert type(rank) is list and len(rank) == 2\n",
    "assert rank[0] == 'data analyst' and rank[1] == 'data scientist'\n",
    "print(\"\\nThe applied jobs of person with pid '{}' are in this order: {}\".format('0', rank))\n",
    "\n",
    "applied_jobs = find_applications(People, '4')\n",
    "job_freq = find_job_freq(applied_jobs)\n",
    "rank = rank_job(job_freq)\n",
    "assert type(rank) is list and len(rank) == 3\n",
    "assert rank == ['scientist', 'bioinformatician', 'data scientist']\n",
    "print(\"\\nThe applied jobs of person with pid '{}' are in this order: {}\".format('4', rank))\n",
    "\n",
    "print(\"\\n(Passed!)\")"
   ]
  },
  {
   "cell_type": "code",
   "execution_count": 59,
   "metadata": {
    "deletable": false,
    "editable": false,
    "nbgrader": {
     "grade": true,
     "grade_id": "rank_job_test_3",
     "locked": true,
     "points": "0.5",
     "solution": false
    }
   },
   "outputs": [
    {
     "name": "stdout",
     "output_type": "stream",
     "text": [
      "\n",
      "The applied jobs of person with pid '2' are in this order: []\n",
      "\n",
      "(Passed!)\n"
     ]
    }
   ],
   "source": [
    "# `rank_job_test_3` (0.5 point): Test empty case\n",
    "applied_jobs = find_applications(People, '2')\n",
    "job_freq = find_job_freq(applied_jobs)\n",
    "rank = rank_job(job_freq)\n",
    "assert type(rank) is list and len(rank) == 0\n",
    "print(\"\\nThe applied jobs of person with pid '{}' are in this order: {}\".format('2', rank))\n",
    "\n",
    "print(\"\\n(Passed!)\")"
   ]
  },
  {
   "cell_type": "markdown",
   "metadata": {
    "deletable": false,
    "editable": false,
    "nbgrader": {
     "grade": false,
     "locked": true,
     "solution": false
    }
   },
   "source": [
    "**Exercise 3** (1.5 points). Given a job title, find all jobs from the openings database, **`'Hiring_jobs'`**, that match it. Then, return **a dictionary** with job IDs as the keys and `(title, company)` pairs as the values.\n",
    "\n",
    "If there are no openings that match the job title, then return an empty dictionary.\n",
    "\n",
    "There are two test cells for this exercise, to allow for partial credit."
   ]
  },
  {
   "cell_type": "code",
   "execution_count": 60,
   "metadata": {
    "collapsed": true
   },
   "outputs": [],
   "source": [
    "def find_top_freq_jobs(Hiring_jobs, job_title):\n",
    "    assert type(Hiring_jobs) is dict and len(Hiring_jobs) != 0\n",
    "        \n",
    "    ###\n",
    "    dic={}\n",
    "    for i, v in Hiring_jobs.items():\n",
    "        if job_title == v[0]:\n",
    "              dic[i] = (v[0],v[1])  \n",
    "    return dic\n",
    "    ###\n"
   ]
  },
  {
   "cell_type": "code",
   "execution_count": 61,
   "metadata": {
    "deletable": false,
    "editable": false,
    "nbgrader": {
     "grade": true,
     "grade_id": "find_top_freq_job_test_1",
     "locked": true,
     "points": "1",
     "solution": false
    }
   },
   "outputs": [
    {
     "name": "stdout",
     "output_type": "stream",
     "text": [
      "\n",
      "The most frequently applied job for person with pid '0' is: 'data analyst'\n",
      "In Hiring_jobs, there are 1 companies hiring 'data analyst', which are:\n",
      "'cnn';\n",
      "\n",
      "The most frequently applied job for person with pid '1' is: 'data scientist'\n",
      "In Hiring_jobs, there are 4 companies hiring 'data scientist', which are:\n",
      "'IBM';\n",
      "'coca cola';\n",
      "'google';\n",
      "'apple';\n",
      "\n",
      "The most frequently applied job for person with pid '3' is: 'scientist'\n",
      "In Hiring_jobs, there are 2 companies hiring 'scientist', which are:\n",
      "'biogen';\n",
      "'broad institute';\n",
      "\n",
      "The most frequently applied job for person with pid '4' is: 'scientist'\n",
      "In Hiring_jobs, there are 2 companies hiring 'scientist', which are:\n",
      "'biogen';\n",
      "'broad institute';\n",
      "\n",
      "(Passed!)\n"
     ]
    }
   ],
   "source": [
    "# `find_top_freq_job_test_1` (1 point): Test cell\n",
    "def print_top_freq_jobs(rank, top_freq_jobs, pid):\n",
    "    if len(rank) >= 1:\n",
    "        print(\"\\nThe most frequently applied job for person with pid '{}' is: '{}'\".format(pid, rank[0]))\n",
    "        print(\"In Hiring_jobs, there are {} companies hiring '{}', which are:\".format(len(top_freq_jobs), rank[0]))\n",
    "        for _, v in top_freq_jobs.items():\n",
    "            print(\"'{}';\".format(v[1]))\n",
    "    else: print(\"\\nThe person with pid '{}' didn't apply for any jobs.\".format(pid))\n",
    "        \n",
    "pid = '0'\n",
    "applied_jobs = find_applications(People, pid)\n",
    "job_freq = find_job_freq(applied_jobs)\n",
    "rank = rank_job(job_freq)\n",
    "top_freq_jobs = find_top_freq_jobs(Hiring_jobs, rank[0] if rank else '')\n",
    "assert type(top_freq_jobs) is dict, \"top_freq_jobs should be a dictionary.\" \n",
    "assert len(top_freq_jobs) == 1\n",
    "assert '2' in top_freq_jobs and top_freq_jobs['2'] == ('data analyst', 'cnn')\n",
    "print_top_freq_jobs(rank, top_freq_jobs, pid)\n",
    "\n",
    "pid = '1'\n",
    "applied_jobs = find_applications(People, pid)\n",
    "job_freq = find_job_freq(applied_jobs)\n",
    "rank = rank_job(job_freq)\n",
    "top_freq_jobs = find_top_freq_jobs(Hiring_jobs, rank[0] if rank else '')\n",
    "assert type(top_freq_jobs) is dict and len(top_freq_jobs) == 4\n",
    "assert top_freq_jobs['0'] == ('data scientist', 'IBM')\n",
    "assert top_freq_jobs['1'] == ('data scientist', 'coca cola')\n",
    "assert top_freq_jobs['3'] == ('data scientist','google') \n",
    "assert top_freq_jobs['5'] == ('data scientist', 'apple')\n",
    "print_top_freq_jobs(rank, top_freq_jobs, pid)\n",
    "\n",
    "pid = '3'\n",
    "applied_jobs = find_applications(People, pid)\n",
    "job_freq = find_job_freq(applied_jobs)\n",
    "rank = rank_job(job_freq)\n",
    "top_freq_jobs = find_top_freq_jobs(Hiring_jobs, rank[0] if rank else '')\n",
    "assert type(top_freq_jobs) is dict and len(top_freq_jobs) == 2\n",
    "assert top_freq_jobs['6'] == ('scientist', 'biogen')\n",
    "assert top_freq_jobs['7'] == ('scientist', 'broad institute')\n",
    "print_top_freq_jobs(rank, top_freq_jobs, pid)\n",
    "\n",
    "pid = '4'\n",
    "applied_jobs = find_applications(People, pid)\n",
    "job_freq = find_job_freq(applied_jobs)\n",
    "rank = rank_job(job_freq)\n",
    "top_freq_jobs = find_top_freq_jobs(Hiring_jobs, rank[0] if rank else '')\n",
    "assert type(top_freq_jobs) is dict and len(top_freq_jobs) == 2\n",
    "assert top_freq_jobs['6'] == ('scientist', 'biogen')\n",
    "assert top_freq_jobs['7'] == ('scientist', 'broad institute')\n",
    "print_top_freq_jobs(rank, top_freq_jobs, pid)\n",
    "\n",
    "print(\"\\n(Passed!)\")"
   ]
  },
  {
   "cell_type": "code",
   "execution_count": 62,
   "metadata": {
    "deletable": false,
    "editable": false,
    "nbgrader": {
     "grade": true,
     "grade_id": "find_top_freq_job_test_2",
     "locked": true,
     "points": "0.5",
     "solution": false
    }
   },
   "outputs": [
    {
     "name": "stdout",
     "output_type": "stream",
     "text": [
      "\n",
      "The person with pid '2' didn't apply for any jobs.\n",
      "\n",
      "(Passed!)\n"
     ]
    }
   ],
   "source": [
    "# `find_top_freq_job_test_2` (0.5 point): Test cell \n",
    "pid = '2'\n",
    "applied_jobs = find_applications(People, pid)\n",
    "job_freq = find_job_freq(applied_jobs)\n",
    "rank = rank_job(job_freq)\n",
    "top_freq_jobs = find_top_freq_jobs(Hiring_jobs, rank[0] if rank else '')\n",
    "assert type(top_freq_jobs) is dict and len(top_freq_jobs) == 0\n",
    "print_top_freq_jobs(rank, top_freq_jobs, pid)\n",
    "\n",
    "print(\"\\n(Passed!)\")"
   ]
  },
  {
   "cell_type": "markdown",
   "metadata": {
    "deletable": false,
    "editable": false,
    "nbgrader": {
     "grade": false,
     "locked": true,
     "solution": false
    }
   },
   "source": [
    "**Exercise 4** (2 points). Now let's put all these pieces together into a \"job recommender,\" using the following simple scheme based on Exercises 0-3.\n",
    "\n",
    "In particular, suppose you are given a person ID, `pid`, the `People` dictionary, and the `Hiring_jobs` dictionary. You can then use the previous functions to do the following.\n",
    "\n",
    "- Determine what job titles the person applied for, and how often. (Exercises 0 and 1)\n",
    "- Rank these titles in descending order of application frequency. (Exercise 2)\n",
    "- Determine all available openings whose titles match the person's top-ranked job title. (Exercise 3)\n",
    "\n",
    "Then, your job recommender can scan the openings in `Hiring_jobs` for this job title and return them.\n",
    "\n",
    "Implement this procedure in `recommend_jobs(People, pid, Hiring_jobs)`, below. It should return a **dictionary**, whose keys are the job IDs (from `Hiring_jobs`) and the values are `(title, company)` pairs. **However**, you must also **filter out jobs the person has already applied for.** For example, consider Person `'1'`:"
   ]
  },
  {
   "cell_type": "code",
   "execution_count": 63,
   "metadata": {
    "deletable": false,
    "editable": false,
    "nbgrader": {
     "grade": false,
     "locked": true,
     "solution": false
    }
   },
   "outputs": [
    {
     "name": "stdout",
     "output_type": "stream",
     "text": [
      "{'0': {'title': 'data scientist', 'company': 'google', 'status': 'apply'}, '1': {'title': 'data engineer', 'company': 'amazon', 'status': 'apply'}, '2': {'title': 'data scientist', 'company': 'facebook', 'status': 'apply'}, '3': {'title': 'data scientist', 'company': 'microsoft', 'status': 'apply'}, '4': {'title': 'data analyst', 'company': 'chase', 'status': 'previous'}}\n"
     ]
    }
   ],
   "source": [
    "print(People['1'])"
   ]
  },
  {
   "cell_type": "markdown",
   "metadata": {
    "deletable": false,
    "editable": false,
    "nbgrader": {
     "grade": false,
     "locked": true,
     "solution": false
    }
   },
   "source": [
    "Person `'1'` already applied for the `'data scientist'` opening at Google. In the `Hiring_jobs` database, this position has a job ID of `'3'`:"
   ]
  },
  {
   "cell_type": "code",
   "execution_count": 64,
   "metadata": {
    "deletable": false,
    "editable": false,
    "nbgrader": {
     "grade": false,
     "locked": true,
     "solution": false
    }
   },
   "outputs": [
    {
     "name": "stdout",
     "output_type": "stream",
     "text": [
      "{'0': ['data scientist', 'IBM'], '1': ['data scientist', 'coca cola'], '2': ['data analyst', 'cnn'], '3': ['data scientist', 'google'], '4': ['business analyst', 'chase'], '5': ['data scientist', 'apple'], '6': ['scientist', 'biogen'], '7': ['scientist', 'broad institute'], '8': ['postdoc', 'mit'], '9': ['data engineer', 'microsoft']}\n"
     ]
    }
   ],
   "source": [
    "print(Hiring_jobs)"
   ]
  },
  {
   "cell_type": "markdown",
   "metadata": {
    "deletable": false,
    "editable": false,
    "nbgrader": {
     "grade": false,
     "locked": true,
     "solution": false
    }
   },
   "source": [
    "Now, suppose `data scientist` turns out to be the job title to which Person 1 applied most often. Then, `{'3':('data scientist', 'google')}` should never appear in his recommended job list. Instead, only jobs '0','1' and '5' from `Hiring_jobs` should be recommended.\n",
    "\n",
    "> **Note.** If a person hasn't applied for any job, then you shouldn't recommend any job to him (your function should return an empty dictionary).\n",
    "\n",
    "This procedure is, of course, a very simple one. In a more realistic application, you would want to to check if that the job is relevant to the candidate's profile and consider many other factors before making a job recommendation to a user.\n",
    "\n",
    "Enter your proposed solution, below. There are two test cells for this exercise so you can try to get partial credit."
   ]
  },
  {
   "cell_type": "code",
   "execution_count": 65,
   "metadata": {},
   "outputs": [],
   "source": [
    "def recommend_jobs(People, pid, Hiring_jobs):\n",
    "    assert type(People) is dict and len(People) != 0\n",
    "    assert type(pid) is str\n",
    "    assert type(Hiring_jobs) is dict and len(Hiring_jobs) != 0\n",
    "    \n",
    "    ###\n",
    "    dic = {}\n",
    "    applied_jobs = find_applications(People, pid)\n",
    "    job_freq = find_job_freq(applied_jobs)\n",
    "    rank = rank_job(job_freq)\n",
    "    top_freq_jobs = find_top_freq_jobs(Hiring_jobs, rank[0] if rank else '')\n",
    "    \n",
    "    for i,v in top_freq_jobs.items():\n",
    "        if v not in applied_jobs:\n",
    "            dic[i] = v\n",
    "    \n",
    "    return dic\n",
    "    \n",
    "    \n",
    "    ###\n"
   ]
  },
  {
   "cell_type": "code",
   "execution_count": 66,
   "metadata": {
    "deletable": false,
    "editable": false,
    "nbgrader": {
     "grade": true,
     "grade_id": "recommend_jobs_test_1",
     "locked": true,
     "points": "1",
     "solution": false
    }
   },
   "outputs": [
    {
     "name": "stdout",
     "output_type": "stream",
     "text": [
      "\n",
      "The recommended jobs for person with pid '0' are:\n",
      "'2':('data analyst', 'cnn');\n",
      "\n",
      "The recommended jobs for person with pid '3' are:\n",
      "'6':('scientist', 'biogen');\n",
      "'7':('scientist', 'broad institute');\n",
      "\n",
      "The recommended jobs for person with pid '4' are:\n",
      "'6':('scientist', 'biogen');\n",
      "'7':('scientist', 'broad institute');\n",
      "\n",
      "(Passed!)\n"
     ]
    }
   ],
   "source": [
    "# `recommend_jobs_test_1` (1 point): Test cell for general cases\n",
    "def print_recommends(recommends, pid):\n",
    "    assert type(recommends) is dict\n",
    "    if len(recommends) >= 1:\n",
    "        print(\"\\nThe recommended jobs for person with pid '{}' are:\".format(pid))\n",
    "        for k, v in recommends.items():\n",
    "            print(\"'{}':{};\".format(k, v))\n",
    "    else: print(\"\\nThere is no recommended job for person with pid '{}'.\".format(pid))\n",
    "\n",
    "\n",
    "pid = '0'\n",
    "recommends = recommend_jobs(People, pid, Hiring_jobs)\n",
    "assert type(recommends) is dict, \"recommends should be a dict.\"\n",
    "assert len(recommends) == 1\n",
    "assert recommends['2'] == ('data analyst', 'cnn'), \"Wrong recommendation.\"\n",
    "print_recommends(recommends, pid)\n",
    "              \n",
    "\n",
    "pid = '3'\n",
    "recommends = recommend_jobs(People, pid, Hiring_jobs)\n",
    "assert type(recommends) is dict and len(recommends) == 2\n",
    "assert recommends['6'] == ('scientist', 'biogen')\n",
    "assert recommends['7'] == ('scientist', 'broad institute')\n",
    "print_recommends(recommends, pid)\n",
    "\n",
    "pid = '4'\n",
    "recommends = recommend_jobs(People, pid, Hiring_jobs)\n",
    "assert type(recommends) is dict and len(recommends) == 2\n",
    "assert recommends['6'] == ('scientist', 'biogen')\n",
    "assert recommends['7'] == ('scientist', 'broad institute')\n",
    "print_recommends(recommends, pid)\n",
    "\n",
    "print(\"\\n(Passed!)\")"
   ]
  },
  {
   "cell_type": "code",
   "execution_count": 67,
   "metadata": {
    "deletable": false,
    "editable": false,
    "nbgrader": {
     "grade": true,
     "grade_id": "recommend_jobs_test_2",
     "locked": true,
     "points": "1",
     "solution": false
    }
   },
   "outputs": [
    {
     "name": "stdout",
     "output_type": "stream",
     "text": [
      "\n",
      "The recommended jobs for person with pid '1' are:\n",
      "'0':('data scientist', 'IBM');\n",
      "'1':('data scientist', 'coca cola');\n",
      "'5':('data scientist', 'apple');\n",
      "\n",
      "There is no recommended job for person with pid '2'.\n",
      "\n",
      "(Passed!)\n"
     ]
    }
   ],
   "source": [
    "# `recommend_jobs_test_2` (1 point): Test cell for special cases\n",
    "\n",
    "# test whether you successfully filter out the applied jobs\n",
    "pid = '1'\n",
    "recommends = recommend_jobs(People, pid, Hiring_jobs)\n",
    "assert type(recommends) is dict and len(recommends) == 3\n",
    "assert recommends['0'] == ('data scientist', 'IBM')\n",
    "assert recommends['1'] == ('data scientist', 'coca cola')\n",
    "assert recommends['5'] == ('data scientist', 'apple')\n",
    "print_recommends(recommends, pid)\n",
    "\n",
    "# test that you don't recommend jobs to the person who hasn't applied any job\n",
    "pid = '2'\n",
    "recommends = recommend_jobs(People, pid, Hiring_jobs)\n",
    "assert type(recommends) is dict and len(recommends) == 0\n",
    "print_recommends(recommends, pid)\n",
    "\n",
    "print(\"\\n(Passed!)\")"
   ]
  },
  {
   "cell_type": "markdown",
   "metadata": {
    "collapsed": true,
    "deletable": false,
    "editable": false,
    "nbgrader": {
     "grade": false,
     "locked": true,
     "solution": false
    }
   },
   "source": [
    "**Fin!** You've reached the end of this problem. Don't forget to restart the \n",
    "kernel and run the entire notebook from top-to-bottom to make sure you did \n",
    "everything correctly. If that is working, try submitting this problem. \n",
    "(Recall that you *must* submit and pass the autograder to get credit for your work!)"
   ]
  }
 ],
 "metadata": {
  "kernelspec": {
   "display_name": "Python 3.7",
   "language": "python",
   "name": "python3"
  },
  "language_info": {
   "codemirror_mode": {
    "name": "ipython",
    "version": 3
   },
   "file_extension": ".py",
   "mimetype": "text/x-python",
   "name": "python",
   "nbconvert_exporter": "python",
   "pygments_lexer": "ipython3",
   "version": "3.7.5"
  }
 },
 "nbformat": 4,
 "nbformat_minor": 2
}
