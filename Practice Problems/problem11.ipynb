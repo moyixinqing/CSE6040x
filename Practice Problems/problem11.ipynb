{
 "cells": [
  {
   "cell_type": "markdown",
   "metadata": {
    "deletable": false,
    "editable": false,
    "nbgrader": {
     "grade": false,
     "locked": true,
     "solution": false
    }
   },
   "source": [
    "# Problem 11: Who's the fastest of 'em all!?\n",
    "\n",
    "This problem will test your mastery of basic Python data structures. It consists of five (5) exercises, numbered 0 through 4, worth a total of ten (10) points."
   ]
  },
  {
   "cell_type": "markdown",
   "metadata": {
    "collapsed": true,
    "deletable": false,
    "editable": false,
    "nbgrader": {
     "grade": false,
     "locked": true,
     "solution": false
    }
   },
   "source": [
    "For this problem, you will be dealing with Formula1 race results of a particular year. The Formula1 season is divided into several races, or [Grands Prix](https://en.wiktionary.org/wiki/Grands_Prix#English), each held in a unique country. \n",
    "For each Grand Prix, the Top 10 drivers receive points according to their finish positions for that race. Accumulation of points from the race results determines the end-of-season Rank of the Driver.\n",
    "\n",
    "For example - when Australia hosted the Grand Prix, the results were as follows from 1st to 10th position: \n",
    "\n",
    "| Grand Prix | 1st | 2nd | 3rd | 4th | 5th | 6th | 7th | 8th | 9th | 10th |\n",
    "|------------|------------------|----------------|----------------|------------------|-----------------|----------------|-----------------|-----------------|-------------------|--------------|\n",
    "| Australia | Sebastian Vettel | Lewis Hamilton | Kimi Räikkönen | Daniel Ricciardo | Fernando Alonso | Max Verstappen | Nico Hulkenberg | Valtteri Bottas | Stoffel Vandoorne | Carlos Sainz |\n",
    "| Points | 25 | 18 | 15 | 12 | 10 | 8 | 6 | 4 | 2 | 1 |\n",
    "\n",
    "*Alternatively, if the driver is not in Top 10, he will receive 0 points*\n",
    "\n"
   ]
  },
  {
   "cell_type": "markdown",
   "metadata": {
    "deletable": false,
    "editable": false,
    "nbgrader": {
     "grade": false,
     "locked": true,
     "solution": false
    }
   },
   "source": [
    "### Loading the Data\n",
    "First, run the following code cell to set up the problem. The provided output shows the data you will be working with. The data is a dictionary, **`race_results`**, that maps the country that hosted that particular Grand Prix to a list of the top 10 drivers in order of their finish in the race. That is, the name of the top driver is first in the list, and driver with rank 10 is last in the list.\n",
    "\n",
    "> This cell uses Pandas (Topic 7) to simplify reading in the data. However, you do not need Pandas to solve the problem, as this exam covers only Topics 1-5."
   ]
  },
  {
   "cell_type": "code",
   "execution_count": 1,
   "metadata": {
    "deletable": false,
    "editable": false,
    "nbgrader": {
     "grade": false,
     "locked": true,
     "solution": false
    }
   },
   "outputs": [
    {
     "name": "stdout",
     "output_type": "stream",
     "text": [
      "{'Australia': ['Sebastian Vettel',\n",
      "               'Lewis Hamilton',\n",
      "               'Kimi Raikkonen',\n",
      "               'Daniel Ricciardo',\n",
      "               'Fernando Alonso',\n",
      "               'Max Verstappen',\n",
      "               'Nico Hulkenberg',\n",
      "               'Valtteri Bottas',\n",
      "               'Stoffel Vandoorne',\n",
      "               'Carlos Sainz'],\n",
      " 'Austria': ['Max Verstappen',\n",
      "             'Kimi Raikkonen',\n",
      "             'Sebastian Vettel',\n",
      "             'Romain Grosjean',\n",
      "             'Kevin Magnussen',\n",
      "             'Esteban Ocon',\n",
      "             'Sergio Perez',\n",
      "             'Fernando Alonso',\n",
      "             'Charles Leclerc',\n",
      "             'Marcus Ericsson'],\n",
      " 'Azerbaijan': ['Lewis Hamilton',\n",
      "                'Kimi Raikkonen',\n",
      "                'Sergio Perez',\n",
      "                'Sebastian Vettel',\n",
      "                'Carlos Sainz',\n",
      "                'Charles Leclerc',\n",
      "                'Fernando Alonso',\n",
      "                'Lance Stroll',\n",
      "                'Stoffel Vandoorne',\n",
      "                'Brendon Hartley'],\n",
      " 'Bahrain': ['Sebastian Vettel',\n",
      "             'Valtteri Bottas',\n",
      "             'Lewis Hamilton',\n",
      "             'Pierre Gasly',\n",
      "             'Kevin Magnussen',\n",
      "             'Nico Hulkenberg',\n",
      "             'Fernando Alonso',\n",
      "             'Stoffel Vandoorne',\n",
      "             'Marcus Ericsson',\n",
      "             'Esteban Ocon'],\n",
      " 'Belgium': ['Sebastian Vettel',\n",
      "             'Lewis Hamilton',\n",
      "             'Max Verstappen',\n",
      "             'Valtteri Bottas',\n",
      "             'Sergio Perez',\n",
      "             'Esteban Ocon',\n",
      "             'Romain Grosjean',\n",
      "             'Kevin Magnussen',\n",
      "             'Pierre Gasly',\n",
      "             'Marcus Ericsson'],\n",
      " 'Canada': ['Sebastian Vettel',\n",
      "            'Valtteri Bottas',\n",
      "            'Max Verstappen',\n",
      "            'Daniel Ricciardo',\n",
      "            'Lewis Hamilton',\n",
      "            'Kimi Raikkonen',\n",
      "            'Nico Hulkenberg',\n",
      "            'Carlos Sainz',\n",
      "            'Esteban Ocon',\n",
      "            'Charles Leclerc'],\n",
      " 'China': ['Daniel Ricciardo',\n",
      "           'Valtteri Bottas',\n",
      "           'Kimi Raikkonen',\n",
      "           'Lewis Hamilton',\n",
      "           'Max Verstappen',\n",
      "           'Nico Hulkenberg',\n",
      "           'Fernando Alonso',\n",
      "           'Sebastian Vettel',\n",
      "           'Carlos Sainz',\n",
      "           'Kevin Magnussen'],\n",
      " 'France': ['Lewis Hamilton',\n",
      "            'Max Verstappen',\n",
      "            'Kimi Raikkonen',\n",
      "            'Daniel Ricciardo',\n",
      "            'Sebastian Vettel',\n",
      "            'Kevin Magnussen',\n",
      "            'Valtteri Bottas',\n",
      "            'Carlos Sainz',\n",
      "            'Nico Hulkenberg',\n",
      "            'Charles Leclerc'],\n",
      " 'Germany': ['Lewis Hamilton',\n",
      "             'Valtteri Bottas',\n",
      "             'Kimi Raikkonen',\n",
      "             'Max Verstappen',\n",
      "             'Nico Hulkenberg',\n",
      "             'Romain Grosjean',\n",
      "             'Sergio Perez',\n",
      "             'Esteban Ocon',\n",
      "             'Marcus Ericsson',\n",
      "             'Brendon Hartley'],\n",
      " 'Great Britain': ['Sebastian Vettel',\n",
      "                   'Lewis Hamilton',\n",
      "                   'Kimi Raikkonen',\n",
      "                   'Valtteri Bottas',\n",
      "                   'Daniel Ricciardo',\n",
      "                   'Nico Hulkenberg',\n",
      "                   'Esteban Ocon',\n",
      "                   'Fernando Alonso',\n",
      "                   'Kevin Magnussen',\n",
      "                   'Sergio Perez'],\n",
      " 'Hungary': ['Lewis Hamilton',\n",
      "             'Sebastian Vettel',\n",
      "             'Kimi Raikkonen',\n",
      "             'Daniel Ricciardo',\n",
      "             'Valtteri Bottas',\n",
      "             'Pierre Gasly',\n",
      "             'Kevin Magnussen',\n",
      "             'Fernando Alonso',\n",
      "             'Carlos Sainz',\n",
      "             'Romain Grosjean'],\n",
      " 'Italy': ['Lewis Hamilton',\n",
      "           'Kimi Raikkonen',\n",
      "           'Valtteri Bottas',\n",
      "           'Sebastian Vettel',\n",
      "           'Max Verstappen',\n",
      "           'Esteban Ocon',\n",
      "           'Sergio Perez',\n",
      "           'Carlos Sainz',\n",
      "           'Lance Stroll',\n",
      "           'Sergey Sirotkin'],\n",
      " 'Monaco': ['Daniel Ricciardo',\n",
      "            'Sebastian Vettel',\n",
      "            'Lewis Hamilton',\n",
      "            'Kimi Raikkonen',\n",
      "            'Valtteri Bottas',\n",
      "            'Esteban Ocon',\n",
      "            'Pierre Gasly',\n",
      "            'Nico Hulkenberg',\n",
      "            'Max Verstappen',\n",
      "            'Carlos Sainz'],\n",
      " 'Spain': ['Lewis Hamilton',\n",
      "           'Valtteri Bottas',\n",
      "           'Max Verstappen',\n",
      "           'Sebastian Vettel',\n",
      "           'Daniel Ricciardo',\n",
      "           'Kevin Magnussen',\n",
      "           'Carlos Sainz',\n",
      "           'Fernando Alonso',\n",
      "           'Sergio Perez',\n",
      "           'Charles Leclerc']}\n"
     ]
    }
   ],
   "source": [
    "# Some modules you'll need in this part\n",
    "import pandas as pd\n",
    "from pprint import pprint \n",
    "\n",
    "df = pd.read_csv('Formula1.csv')\n",
    "race_results = df.to_dict('list')\n",
    "pprint(race_results)"
   ]
  },
  {
   "cell_type": "markdown",
   "metadata": {
    "deletable": false,
    "editable": false,
    "nbgrader": {
     "grade": false,
     "locked": true,
     "solution": false
    }
   },
   "source": [
    "#### You're all set to start!\n",
    "\n"
   ]
  },
  {
   "cell_type": "markdown",
   "metadata": {},
   "source": [
    "**Exercise 0** (2 points). Write a function, **`find_country(driver_name, rank)`** that, given the name of a driver and a rank, returns a list of all the countries where the driver received that specific rank.  \n",
    "   \n",
    "For example:\n",
    "\n",
    "```python\n",
    "       find_country (\"Lewis Hamilton\", 1) == [\"Azerbaijan\", \"Spain\", \"France\", \"Germany\", \"Hungary\", \"Italy\"]\n",
    "       find_country (\"Sebastian Vettel\", 6) == []\n",
    "```"
   ]
  },
  {
   "cell_type": "code",
   "execution_count": 2,
   "metadata": {
    "collapsed": true
   },
   "outputs": [],
   "source": [
    "def find_country(driver_name, rank):\n",
    "    ###\n",
    "    res =[]\n",
    "    keys = race_results.keys()\n",
    "    for key in keys:\n",
    "        if driver_name in race_results[key]:\n",
    "            if race_results[key].index(driver_name) == rank-1:\n",
    "                res.append(key)\n",
    "    return res\n",
    "    ###\n"
   ]
  },
  {
   "cell_type": "code",
   "execution_count": 3,
   "metadata": {
    "deletable": false,
    "editable": false,
    "nbgrader": {
     "grade": true,
     "grade_id": "find_country_test",
     "locked": true,
     "points": "2",
     "solution": false
    }
   },
   "outputs": [
    {
     "name": "stdout",
     "output_type": "stream",
     "text": [
      "\n",
      "(Passed!)\n"
     ]
    }
   ],
   "source": [
    "# `find_country_test`: Test cell\n",
    "assert type(find_country(\"Lewis Hamilton\" ,1)) is list,  \"Did not create a list.\"\n",
    "assert set(find_country(\"Lewis Hamilton\" ,1)) == {'Azerbaijan', 'Spain', 'France', 'Germany', 'Hungary', 'Italy'}\n",
    "assert set(find_country(\"Kimi Raikkonen\" ,2)) == {'Azerbaijan', 'Austria', 'Italy'}\n",
    "assert set(find_country(\"Valtteri Bottas\" ,8)) == {'Australia'}\n",
    "assert set(find_country(\"Carlos Sainz\" ,10)) == {'Australia', 'Monaco'}\n",
    "assert set(find_country(\"Sebastian Vettel\" ,2)) == {'Monaco', 'Hungary'}\n",
    "assert set(find_country(\"Sebastian Vettel\" ,6)) == set()\n",
    "print(\"\\n(Passed!)\")"
   ]
  },
  {
   "cell_type": "markdown",
   "metadata": {
    "deletable": false,
    "editable": false,
    "nbgrader": {
     "grade": false,
     "locked": true,
     "solution": false
    }
   },
   "source": [
    "**Exercise 1** (3 points). Implement a `function`, **`three_top_driver(points)`**, that returns a dictionary mapping each of the top 3 drivers (in end-of-season standings) to their full-season point totals, as explained below.\n",
    "\n",
    "First, the input, `points`, tells you how many points to award to a given finishing place in a race. That is, the first place driver should receive `points[0]` points, the second place driver should receive `points[1]` points, ..., and the tenth place driver should receive `points[9]` points.\n",
    "\n",
    "The return value is a dictionary with the following properties:\n",
    "\n",
    "- It should have three entries, one for each of the top 3 drivers.\n",
    "- Each key is a driver's name.\n",
    "- Each value is the corresponding driver's full-season point total.\n",
    "\n",
    "Your function needs to calculate the total points for each driver across all race results, find the three drivers with the highest overall points, and return these as the dictionary described above."
   ]
  },
  {
   "cell_type": "code",
   "execution_count": 4,
   "metadata": {
    "collapsed": true,
    "scrolled": false
   },
   "outputs": [],
   "source": [
    "def three_top_driver(points):\n",
    "    ###\n",
    "    from collections import defaultdict\n",
    "    import itertools\n",
    "    \n",
    "    dic=defaultdict(int)\n",
    "    names = list(race_results.values())\n",
    "    for nali in names:\n",
    "        for i in nali:\n",
    "            dic[i] += points[nali.index(i)]\n",
    "        \n",
    "    res_dic = {k : v for k, v in sorted(dic.items(), key = lambda item: item[1], reverse = True)}\n",
    "    \n",
    "    return {k:res_dic[k] for k in list(res_dic.keys())[:3]}\n",
    "    \n",
    "    ###\n"
   ]
  },
  {
   "cell_type": "code",
   "execution_count": 5,
   "metadata": {
    "deletable": false,
    "editable": false,
    "nbgrader": {
     "grade": true,
     "grade_id": "three_top_driver",
     "locked": true,
     "points": "3",
     "solution": false
    }
   },
   "outputs": [
    {
     "name": "stdout",
     "output_type": "stream",
     "text": [
      "\n",
      "(Passed!)\n"
     ]
    }
   ],
   "source": [
    "# `three_top_driver`: Test cell\n",
    "points1=[25 , 18 , 15 , 12 , 10 , 8 , 6 , 4 , 2 , 1]\n",
    "standing1 = three_top_driver(points1)\n",
    "assert type(standing1) is dict,  \"Did not create a dictionary.\"\n",
    "assert len(standing1) == 3, \"Dictionary has the wrong number of entries.\"\n",
    "assert {'Lewis Hamilton', 'Sebastian Vettel', 'Kimi Raikkonen'} == set(standing1.keys()), \"Dictionary has the wrong keys.\"\n",
    "assert standing1['Lewis Hamilton'] == 256, 'Wrong points for: Lewis Hamilton'\n",
    "assert standing1['Sebastian Vettel'] == 226, 'Wrong points for: Sebastian Vettel'\n",
    "assert standing1['Kimi Raikkonen'] == 164, 'Wrong points for: Kimi Raikkonen'\n",
    "       \n",
    "points2=[10 , 9 , 8 , 7 , 6 , 5 , 4 , 3 , 2 , 1]\n",
    "standing2 = three_top_driver(points2)\n",
    "assert type(standing2) is dict,  \"Did not create a dictionary.\"\n",
    "assert len(standing2) == 3, \"Dictionary has the wrong number of entries.\"\n",
    "assert {'Lewis Hamilton', 'Sebastian Vettel', 'Kimi Raikkonen'} == set(standing2.keys()), \"Dictionary has the wrong keys.\"\n",
    "assert standing2['Lewis Hamilton'] == 116, 'Wrong points for: Lewis Hamilton'\n",
    "assert standing2['Sebastian Vettel'] == 106, 'Wrong points for: Sebastian Vettel'\n",
    "assert standing2['Kimi Raikkonen'] == 87, 'Wrong points for: Kimi Raikkonen'\n",
    "\n",
    "points3=[1, 2, 4, 6, 8, 10, 12, 15, 18, 25]\n",
    "standing3 = three_top_driver(points3)\n",
    "assert type(standing3) is dict,  \"Did not create a dictionary.\"\n",
    "assert len(standing3) == 3, \"Dictionary has the wrong number of entries.\"\n",
    "assert {'Carlos Sainz', 'Esteban Ocon', 'Kevin Magnussen'} == set(standing3.keys()), \"Dictionary has the wrong keys.\"\n",
    "assert standing3['Carlos Sainz'] == 151, 'Wrong points for: Carlos Sainz'\n",
    "assert standing3['Esteban Ocon'] == 110, 'Wrong points for: Esteban Ocon'\n",
    "assert standing3['Kevin Magnussen'] == 106, 'Wrong points for: Kevin Magnussen'\n",
    "\n",
    "print(\"\\n(Passed!)\")"
   ]
  },
  {
   "cell_type": "markdown",
   "metadata": {
    "deletable": false,
    "editable": false,
    "nbgrader": {
     "grade": false,
     "locked": true,
     "solution": false
    }
   },
   "source": [
    "**Exercise 2** (2 points). A driver finishes a race on the podium if he finishes in **first**, **second** or **third** place. Write a function, **`podium_count(driver_name)`**, that given the name of the driver as input returns the number of times that the driver has finished a race on the podium that season. \n",
    "\n",
    "For example:\n",
    "\n",
    "```python\n",
    "    podium_count(\"Sebastian Vettel\") == 8\n",
    "    podium_count(\"Esteban Ocon\") == 0\n",
    "```"
   ]
  },
  {
   "cell_type": "code",
   "execution_count": 6,
   "metadata": {
    "collapsed": true,
    "nbgrader": {
     "grade": false,
     "locked": false,
     "solution": false
    }
   },
   "outputs": [],
   "source": [
    "def podium_count(driver_name):\n",
    "    ###    \n",
    "    count = 0\n",
    "    names = list(race_results.values())\n",
    "    for nali in names:\n",
    "        if driver_name in nali:\n",
    "            if nali.index(driver_name)<3:\n",
    "                count +=1\n",
    "    return count\n",
    "    \n",
    "    ###\n"
   ]
  },
  {
   "cell_type": "code",
   "execution_count": 7,
   "metadata": {
    "deletable": false,
    "editable": false,
    "nbgrader": {
     "grade": true,
     "grade_id": "podium_count",
     "locked": true,
     "points": "2",
     "solution": false
    }
   },
   "outputs": [
    {
     "name": "stdout",
     "output_type": "stream",
     "text": [
      "\n",
      "(Passed!)\n"
     ]
    }
   ],
   "source": [
    "# `podium_count`: Test cell\n",
    "assert podium_count(\"Lewis Hamilton\") == 11 , 'Wrong count'\n",
    "assert podium_count(\"Sebastian Vettel\") == 8, 'Wrong count'\n",
    "assert podium_count(\"Kimi Raikkonen\") == 9, 'Wrong count'\n",
    "assert podium_count(\"Valtteri Bottas\") == 6, 'Wrong count'\n",
    "assert podium_count(\"Esteban Ocon\") == 0, 'Wrong count'\n",
    "assert podium_count(\"Kevin Magnussen\") == 0, 'Wrong count'\n",
    "assert podium_count(\"Max Verstappen\") == 5, 'Wrong count'\n",
    "print(\"\\n(Passed!)\")"
   ]
  },
  {
   "cell_type": "markdown",
   "metadata": {
    "deletable": false,
    "editable": false,
    "nbgrader": {
     "grade": false,
     "locked": true,
     "solution": false
    }
   },
   "source": [
    "**Exercise 3** (1 points). Write a function, **`drivers_on_podium()`**, that returns a list of **all** of the drivers that have finished a race on the podium that season."
   ]
  },
  {
   "cell_type": "code",
   "execution_count": 8,
   "metadata": {},
   "outputs": [],
   "source": [
    "def drivers_on_podium():\n",
    "    ###\n",
    "    res = []\n",
    "    array = list(race_results.values())\n",
    "    namelist = list(set(x for l in array for x in l))\n",
    "    for name in namelist:\n",
    "        if podium_count(name)>0:\n",
    "            res.append(name)\n",
    "    return res\n",
    "    \n",
    "    \n",
    "    ###\n"
   ]
  },
  {
   "cell_type": "code",
   "execution_count": null,
   "metadata": {},
   "outputs": [],
   "source": [
    "\n"
   ]
  },
  {
   "cell_type": "code",
   "execution_count": 9,
   "metadata": {
    "deletable": false,
    "editable": false,
    "nbgrader": {
     "grade": true,
     "grade_id": "drivers_on_podium",
     "locked": true,
     "points": "1",
     "solution": false
    }
   },
   "outputs": [
    {
     "name": "stdout",
     "output_type": "stream",
     "text": [
      "\n",
      "(Passed!)\n"
     ]
    }
   ],
   "source": [
    "# `drivers_on_podium`: Test cell\n",
    "assert type(drivers_on_podium()) is list, \"Did not create a list.\"\n",
    "assert len(drivers_on_podium()) == 7 , \"List has the wrong number of entries.\"\n",
    "assert set(drivers_on_podium()) == set(['Sebastian Vettel', 'Max Verstappen', 'Lewis Hamilton', 'Kimi Raikkonen', 'Sergio Perez', 'Daniel Ricciardo', 'Valtteri Bottas'])\n",
    "print(\"\\n(Passed!)\")"
   ]
  },
  {
   "cell_type": "markdown",
   "metadata": {
    "collapsed": true,
    "deletable": false,
    "editable": false,
    "nbgrader": {
     "grade": false,
     "locked": true,
     "solution": false
    }
   },
   "source": [
    "**Exercise 4** (2 points). Implement the following function, **`podium_proba()`**. It should return a dictionary that contains the top three drivers with the highest probability to be on the podium in the next race. \n",
    "\n",
    "The dictionary should be in the following form:\n",
    "\n",
    "```python\n",
    "    {'driver1': probabilty1, 'driver2': probabilty2, 'driver3': probabilty3}\n",
    "```\n",
    "\n",
    "For each driver, this probabilty should, for each driver, be estimated as\n",
    "\n",
    "$$\\mathrm{probability\\ of\\ a\\ podium\\ finish} \\equiv \\frac{\\mathrm{number\\, of\\, podium\\, finishes}}{\\mathrm{number\\, of\\, races}}.$$    "
   ]
  },
  {
   "cell_type": "code",
   "execution_count": 10,
   "metadata": {
    "collapsed": true
   },
   "outputs": [],
   "source": [
    "def podium_proba():\n",
    "    ###    \n",
    "    dic = {}\n",
    "    for driver_name in drivers_on_podium():\n",
    "#         n_races = 0\n",
    "#         n_podium = 0\n",
    "#         names = list(race_results.values())\n",
    "#         for nali in names:\n",
    "#             if driver_name in nali:\n",
    "#                 if nali.index(driver_name)<3:\n",
    "#                     n_podium +=1\n",
    "    \n",
    "        n_podium = podium_count(driver_name)\n",
    "                \n",
    "        dic[driver_name] = n_podium/len(race_results)\n",
    "    \n",
    "    res_dic = {k : v for k, v in sorted(dic.items(), key = lambda item: item[1], reverse = True)}\n",
    "    return {k:res_dic[k] for k in list(res_dic.keys())[:3]}\n",
    "\n",
    "\n",
    "    ###\n"
   ]
  },
  {
   "cell_type": "code",
   "execution_count": 11,
   "metadata": {
    "deletable": false,
    "editable": false,
    "nbgrader": {
     "grade": true,
     "grade_id": "podium_proba",
     "locked": true,
     "points": "2",
     "solution": false
    }
   },
   "outputs": [
    {
     "name": "stdout",
     "output_type": "stream",
     "text": [
      "[Podium proba for Lewis Hamilton is 0.785 : You computed 0.7857142857142857, which differs by 0.0007142857142856673.\n",
      "[Podium proba for Sebastian Vettel is 0.571 : You computed 0.5714285714285714, which differs by 0.0004285714285714448.\n",
      "[Podium proba for Kimi Raikkonen is 0.642 : You computed 0.6428571428571429, which differs by 0.0008571428571428896.\n",
      "\n",
      "(Passed!)\n"
     ]
    }
   ],
   "source": [
    "# `podium_proba`: Test cell\n",
    "def check_podium_proba(s, v, v_true, tol=1e-2):\n",
    "    assert type(v) is float, \"Your function did not return a `float`\"\n",
    "    delta_v = v - v_true\n",
    "    msg = \"[Podium proba for {} is {} : You computed {}, which differs by {}.\".format(s, v_true, v, delta_v)\n",
    "    print(msg)\n",
    "    assert abs(delta_v) <= tol, \"Difference exceeds expected tolerance.\"\n",
    "\n",
    "podium_porba1 = podium_proba()\n",
    "assert type(podium_porba1) is dict, \"Did not create a dictionary.\"\n",
    "assert len(podium_porba1) == 3 , \"Dictionary has the wrong number of entries.\"\n",
    "assert {'Lewis Hamilton', 'Sebastian Vettel', 'Kimi Raikkonen'} == set(podium_porba1.keys()), \"Dictionary has the wrong keys.\"\n",
    "check_podium_proba('Lewis Hamilton', podium_porba1['Lewis Hamilton'],  0.785, tol=1e-3)\n",
    "check_podium_proba('Sebastian Vettel', podium_porba1['Sebastian Vettel'],  0.571, tol=1e-3)\n",
    "check_podium_proba('Kimi Raikkonen', podium_porba1['Kimi Raikkonen'],  0.642, tol=1e-3)\n",
    "\n",
    "print(\"\\n(Passed!)\")"
   ]
  },
  {
   "cell_type": "markdown",
   "metadata": {
    "deletable": false,
    "editable": false,
    "nbgrader": {
     "grade": false,
     "locked": true,
     "solution": false
    }
   },
   "source": [
    "**Fin!** Remember to test your solutions by running them as the autograder will: restart the kernel and run all cells from \"top-to-bottom.\" Also remember to submit to the autograder; otherwise, you will **not** get credit for your hard work!"
   ]
  }
 ],
 "metadata": {
  "kernelspec": {
   "display_name": "Python 3.7",
   "language": "python",
   "name": "python3"
  },
  "language_info": {
   "codemirror_mode": {
    "name": "ipython",
    "version": 3
   },
   "file_extension": ".py",
   "mimetype": "text/x-python",
   "name": "python",
   "nbconvert_exporter": "python",
   "pygments_lexer": "ipython3",
   "version": "3.7.5"
  }
 },
 "nbformat": 4,
 "nbformat_minor": 2
}
