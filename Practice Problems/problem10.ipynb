{
 "cells": [
  {
   "cell_type": "markdown",
   "metadata": {
    "deletable": false,
    "editable": false,
    "nbgrader": {
     "grade": false,
     "locked": true,
     "solution": false
    }
   },
   "source": [
    "# Problem 10: Polynomials"
   ]
  },
  {
   "cell_type": "markdown",
   "metadata": {
    "deletable": false,
    "editable": false,
    "nbgrader": {
     "grade": false,
     "locked": true,
     "solution": false
    }
   },
   "source": [
    "This exercise is similar to Notebook 1, which deals with compressed vectors. Here, we represent polynomials as compressed vectors and perform simple operations like addition and multiplication in this compressed form. (While the concept is similar, the operations you will need to implement are different from what you did in Notebook 1.)\n",
    "\n",
    "This problem has four (4) exercises, numbered 0 through 3, and is worth a total of ten (10) points. Depending on your approach, Exercise 1 depends on 0 and 3 depends on 2, but 0 and 2 are independent. Therefore, partial credit is possible."
   ]
  },
  {
   "cell_type": "markdown",
   "metadata": {
    "deletable": false,
    "editable": false,
    "nbgrader": {
     "grade": false,
     "locked": true,
     "solution": false
    }
   },
   "source": [
    "## Definition: $n$-th order polynomials\n",
    "\n",
    "Let $P(x, n)$ denote a _polynomial of order $n$_, which has the mathematical form,\n",
    "\n",
    "$P(x, n) = a_n x^n + a_{n-1} x^{n-1} + \\cdots + a_2 x^2 + a_1 x + a_0.$\n",
    "\n",
    "The values $a_n, a_{n-1}, \\ldots, a_{0}$ are the polynomial's _coefficients_. (Observe that we have ordered the coefficients in **descending order** of power, $x^k$.) Knowing the coefficients is enough to specify the polynomial."
   ]
  },
  {
   "cell_type": "markdown",
   "metadata": {
    "deletable": false,
    "editable": false,
    "nbgrader": {
     "grade": false,
     "locked": true,
     "solution": false
    }
   },
   "source": [
    "Suppose we expect that a typical polynomial is likely to have several zero coefficients. Then, we can represent the polynomial's coefficients in our computer code using a _compressed vector_ format. For example, consider this 5th-order polynomial, $P_A(x, 5)$:\n",
    "\n",
    "$ P_A(x, 5) = x^5 + 2x^4 + 8x^2 + 9x^1 + 3 $\n",
    "\n",
    "Observe that $a_3=0$ and so omitted from the sum. In code, we can represent this polynomial using two lists that record the power or \"index\" (`idx`) and the coefficient value (`coef`) of each term:"
   ]
  },
  {
   "cell_type": "code",
   "execution_count": 1,
   "metadata": {
    "collapsed": true,
    "deletable": false,
    "editable": false,
    "nbgrader": {
     "grade": false,
     "locked": true,
     "solution": false
    }
   },
   "outputs": [],
   "source": [
    "idx = [5, 4, 2, 1, 0]\n",
    "coef = [1, 2, 8, 9, 3]"
   ]
  },
  {
   "cell_type": "markdown",
   "metadata": {
    "deletable": false,
    "editable": false,
    "nbgrader": {
     "grade": false,
     "locked": true,
     "solution": false
    }
   },
   "source": [
    "**Important note.** For the rest of this notebook, your solutions should enforce the following conventions for storing `idx` and `coef`.\n",
    "\n",
    "1. The powers in `idx` are always sorted in descending order.\n",
    "2. The terms stored are the ones that have a non-zero coefficient. \n",
    "3. You may assume all coefficients (in `coef`) are non-negative.\n",
    "4. All elements in the `idx` vector are unique."
   ]
  },
  {
   "cell_type": "markdown",
   "metadata": {
    "deletable": false,
    "editable": false,
    "nbgrader": {
     "grade": false,
     "locked": true,
     "solution": false
    }
   },
   "source": [
    "Here is another example of a polynomial and its list representation:\n",
    "\n",
    "$ P_B(x, 5) = x^5 + 5x^3 + 2x^2.$"
   ]
  },
  {
   "cell_type": "code",
   "execution_count": 2,
   "metadata": {
    "collapsed": true,
    "deletable": false,
    "editable": false,
    "nbgrader": {
     "grade": false,
     "locked": true,
     "solution": false
    }
   },
   "outputs": [],
   "source": [
    "idx = [5, 3, 2]\n",
    "coef = [1, 5, 2]"
   ]
  },
  {
   "cell_type": "markdown",
   "metadata": {
    "deletable": false,
    "editable": false,
    "nbgrader": {
     "grade": false,
     "locked": true,
     "solution": false
    }
   },
   "source": [
    "## Adding polynomials\n",
    "\n",
    "Given two polynomials, $P_1(x, n_1)$ and $P_2(x, n_2)$, let's consider their sum, $P_3(x, n_3) \\equiv P_1(x, n_1) + P_2(x, n_2)$. (_Aside:_ How will $n_3$ relate to $n_1$ and $n_2$?)\n",
    "\n",
    "For instance, let\n",
    "\n",
    "$$\\begin{eqnarray}\n",
    "  P_1(x, 4) & = & 3x^4 + 2x^2 + 2x + 5 \\\\\n",
    "  P_2(x, 3) & = & 4x^3 + 3x^2 + x + 2.\n",
    "\\end{eqnarray}$$\n",
    "\n",
    "Then their sum is\n",
    "\n",
    "$$\\begin{eqnarray}\n",
    "  P_3(x, 4) \\equiv P_1(x, 4) + P_2(x, 3) & = & 3x^4 + 4x^3 + 5x^2 + 3x + 7.\n",
    "\\end{eqnarray}$$"
   ]
  },
  {
   "cell_type": "markdown",
   "metadata": {},
   "source": [
    "Now suppose we store $P_1$ in compressed form using the lists `idx1` and `coef`, $P_2$ using `idx2` and `coef2`, and $P_3$ by `idx3` and `coef3`. Then,"
   ]
  },
  {
   "cell_type": "code",
   "execution_count": 3,
   "metadata": {
    "collapsed": true,
    "deletable": false,
    "editable": false,
    "nbgrader": {
     "grade": false,
     "locked": true,
     "solution": false
    }
   },
   "outputs": [],
   "source": [
    "idx1 = [4, 2, 1, 0]\n",
    "coef1 = [3, 2, 2, 5]\n",
    "\n",
    "idx2 = [3, 2, 1, 0]\n",
    "coef2 = [4, 3, 1, 2]\n",
    "\n",
    "idx3 = [4, 3, 2, 1, 0]\n",
    "coef3 = [3, 4, 5, 3, 7]"
   ]
  },
  {
   "cell_type": "markdown",
   "metadata": {
    "deletable": false,
    "editable": false,
    "nbgrader": {
     "grade": false,
     "locked": true,
     "solution": false
    }
   },
   "source": [
    "**Exercise 0** (2 points). Write a function `add_idx(idx1, idx2)`, that takes as inputs the index vectors of two polynomials and returns the index vector of their sum.\n",
    "\n",
    "For instance, if `idx1` and `idx2` are defined as in the preceding example, then\n",
    "\n",
    "```python\n",
    "    add_idx(idx1, idx2) == idx3\n",
    "```"
   ]
  },
  {
   "cell_type": "code",
   "execution_count": 4,
   "metadata": {
    "collapsed": true
   },
   "outputs": [],
   "source": [
    "def add_idx(idx1, idx2):\n",
    "    ###\n",
    "    return sorted(list(set(idx1+idx2)), reverse = True)\n",
    "    \n",
    "    ###\n"
   ]
  },
  {
   "cell_type": "code",
   "execution_count": 5,
   "metadata": {
    "deletable": false,
    "editable": false,
    "nbgrader": {
     "grade": true,
     "grade_id": "test_add_idx",
     "locked": true,
     "points": "2",
     "solution": false
    }
   },
   "outputs": [
    {
     "name": "stdout",
     "output_type": "stream",
     "text": [
      "\n",
      "=== trial 0 ===\n",
      "idx1 is [8, 2]\n",
      "idx2 is [9, 8, 1]\n",
      "\n",
      "your solution:\n",
      "idx = [9, 8, 2, 1]\n",
      "\n",
      "=== trial 1 ===\n",
      "idx1 is [9, 6]\n",
      "idx2 is [9, 6]\n",
      "\n",
      "your solution:\n",
      "idx = [9, 6]\n",
      "\n",
      "=== trial 2 ===\n",
      "idx1 is [1, 0]\n",
      "idx2 is [7, 4, 1, 0]\n",
      "\n",
      "your solution:\n",
      "idx = [7, 4, 1, 0]\n",
      "\n",
      "=== trial 3 ===\n",
      "idx1 is [8, 3, 0]\n",
      "idx2 is [6, 4, 2, 1]\n",
      "\n",
      "your solution:\n",
      "idx = [8, 6, 4, 3, 2, 1, 0]\n",
      "\n",
      "=== trial 4 ===\n",
      "idx1 is [7, 6, 3, 1]\n",
      "idx2 is [3, 2, 1, 0]\n",
      "\n",
      "your solution:\n",
      "idx = [7, 6, 3, 2, 1, 0]\n",
      "\n",
      "Passed!\n"
     ]
    }
   ],
   "source": [
    "# Test cell : `test_add_idx`\n",
    "\n",
    "import random\n",
    "import numpy as np\n",
    "def generate_polynomial(max_n=9):\n",
    "    len_poly = random.randint(2,5)\n",
    "    idx = random.sample(range(max_n+1), len_poly)\n",
    "    idx.sort(reverse=True)\n",
    "    coef = [random.randint(2, 8) for _ in range(len_poly)]\n",
    "    assert len(idx) == len(coef), 'Unequal lengths for generated idx and coef'\n",
    "    return idx, coef\n",
    "\n",
    "for trial in range(5):\n",
    "    print(\"\\n=== trial {} ===\".format(trial))\n",
    "    idx1, coef1 = generate_polynomial()\n",
    "    idx2, coef2 = generate_polynomial()\n",
    "    print(\"idx1 is {}\".format(idx1))\n",
    "    print(\"idx2 is {}\".format(idx2))\n",
    "    idx = add_idx(idx1, idx2)\n",
    "    idx_inv = idx[::-1]\n",
    "    idx.sort()\n",
    "    assert idx == idx_inv, \"The idx list is not sorted correctly\"\n",
    "    idx.sort(reverse=True)\n",
    "    print(\"\\nyour solution:\")\n",
    "    print(\"idx = {}\".format(idx))\n",
    "    for i in idx1:\n",
    "        assert i in idx, \"{} in idx1 is absent from idx\".format(i)\n",
    "    for j in idx2:\n",
    "        assert j in idx, \"{} in idx2 is absent from idx\".format(j)\n",
    "        \n",
    "print(\"\\nPassed!\")"
   ]
  },
  {
   "cell_type": "markdown",
   "metadata": {
    "deletable": false,
    "editable": false,
    "nbgrader": {
     "grade": false,
     "locked": true,
     "solution": false
    }
   },
   "source": [
    "**Exercise 1** (3 points). Write a function, `add_coef(idx1, coef1, idx2, coef2)`, which takes in the compressed vector form of two polynomials, `(idx1, coef)` and `(idx2, coef2)`, and returns the **coefficient vector** corresponding to their sum. (_Note:_ You only need to return the coefficients, not the indices.)\n",
    "\n",
    "For the earlier example,\n",
    "\n",
    "```python\n",
    "    idx1 = [4, 2, 1, 0]\n",
    "    coef1 = [3, 2, 2, 5]\n",
    "\n",
    "    idx2 = [3, 2, 1, 0]\n",
    "    coef2 = [4, 3, 1, 2]\n",
    "\n",
    "    add_coef(idx1, coef1, idx2, coef2) == [3, 4, 5, 3, 7]\n",
    "```"
   ]
  },
  {
   "cell_type": "code",
   "execution_count": 6,
   "metadata": {
    "collapsed": true
   },
   "outputs": [],
   "source": [
    "def add_coef(idx1, coef1, idx2, coef2):\n",
    "    ###\n",
    "    dic ={}\n",
    "    idxs = add_idx(idx1, idx2)\n",
    "    \n",
    "    for i in idxs:\n",
    "        c = 0\n",
    "        if i in idx1:\n",
    "            c+= coef1[idx1.index(i)]\n",
    "        if i in idx2:\n",
    "            c+= coef2[idx2.index(i)]\n",
    "        dic[i] = c\n",
    "    return list(dic.values())\n",
    "    ###\n"
   ]
  },
  {
   "cell_type": "code",
   "execution_count": 7,
   "metadata": {
    "deletable": false,
    "editable": false,
    "nbgrader": {
     "grade": true,
     "grade_id": "test_add_coef",
     "locked": true,
     "points": "3",
     "solution": false
    }
   },
   "outputs": [
    {
     "name": "stdout",
     "output_type": "stream",
     "text": [
      "\n",
      "=== trial 0 ===\n",
      "idx1 is [9, 5, 1, 0]\n",
      "coef1 is [3, 6, 7, 4] \n",
      "\n",
      "idx2 is [9, 6, 3, 2, 1]\n",
      "coef2 is [3, 4, 8, 3, 2] \n",
      "\n",
      "your solutions -\n",
      "idx : [9, 6, 5, 3, 2, 1, 0]\n",
      "coef : [6, 4, 6, 8, 3, 9, 4]\n",
      "\n",
      "=== trial 1 ===\n",
      "idx1 is [9, 4, 3]\n",
      "coef1 is [5, 8, 5] \n",
      "\n",
      "idx2 is [8, 5, 0]\n",
      "coef2 is [2, 2, 2] \n",
      "\n",
      "your solutions -\n",
      "idx : [9, 8, 5, 4, 3, 0]\n",
      "coef : [5, 2, 2, 8, 5, 2]\n",
      "\n",
      "=== trial 2 ===\n",
      "idx1 is [8, 7, 3, 2, 1]\n",
      "coef1 is [2, 6, 5, 6, 8] \n",
      "\n",
      "idx2 is [9, 8, 2, 0]\n",
      "coef2 is [4, 6, 3, 2] \n",
      "\n",
      "your solutions -\n",
      "idx : [9, 8, 7, 3, 2, 1, 0]\n",
      "coef : [4, 8, 6, 5, 9, 8, 2]\n",
      "\n",
      "=== trial 3 ===\n",
      "idx1 is [9, 8, 6]\n",
      "coef1 is [6, 6, 5] \n",
      "\n",
      "idx2 is [9, 8, 5]\n",
      "coef2 is [6, 7, 5] \n",
      "\n",
      "your solutions -\n",
      "idx : [9, 8, 6, 5]\n",
      "coef : [12, 13, 5, 5]\n",
      "\n",
      "=== trial 4 ===\n",
      "idx1 is [9, 4, 3, 0]\n",
      "coef1 is [3, 5, 5, 5] \n",
      "\n",
      "idx2 is [9, 8, 7, 6, 3]\n",
      "coef2 is [2, 6, 7, 4, 3] \n",
      "\n",
      "your solutions -\n",
      "idx : [9, 8, 7, 6, 4, 3, 0]\n",
      "coef : [5, 6, 7, 4, 5, 8, 5]\n",
      "\n",
      "Passed!\n"
     ]
    }
   ],
   "source": [
    "# Test cell: `test_add_coef`\n",
    "\n",
    "for trial in range(5):\n",
    "    print(\"\\n=== trial {} ===\".format(trial))\n",
    "    idx1, coef1 = generate_polynomial()\n",
    "    idx2, coef2 = generate_polynomial()\n",
    "    # idx1 and coef1\n",
    "    print(\"idx1 is {}\".format(idx1))\n",
    "    print(\"coef1 is {} \\n\".format(coef1))\n",
    "    # idx2 and coef2\n",
    "    print(\"idx2 is {}\".format(idx2))\n",
    "    print(\"coef2 is {} \\n\".format(coef2))\n",
    "    # Student's solution\n",
    "    print(\"your solutions -\")\n",
    "    idx = add_idx(idx1, idx2)\n",
    "    coef = add_coef(idx1, coef1, idx2, coef2)\n",
    "    print(\"idx : {}\".format(idx))\n",
    "    print(\"coef : {}\".format(coef))\n",
    "    for i in idx:\n",
    "        pos1 = idx1.index(i) if i in idx1 else -1\n",
    "        pos2 = idx2.index(i) if i in idx2 else -1\n",
    "        c1 = coef1[pos1] if pos1 != -1 else 0\n",
    "        c2 = coef2[pos2] if pos2 != -1 else 0\n",
    "        c = c1 + c2\n",
    "        pos = idx.index(i)\n",
    "        assert c == coef[pos], \"The correct coefficient for power {} should be {}, you get {}\".format(i, c, coef[pos])\n",
    "\n",
    "print(\"\\nPassed!\")"
   ]
  },
  {
   "cell_type": "markdown",
   "metadata": {
    "deletable": false,
    "editable": false,
    "nbgrader": {
     "grade": false,
     "locked": true,
     "solution": false
    }
   },
   "source": [
    "## Polynomial multiplication\n",
    "\n",
    "Now let's consider multiplying two polynomials.\n",
    "\n",
    "For example, let\n",
    "\n",
    "$$\\begin{eqnarray}\n",
    "P_1(x, 5) & = & x^5 + 2x^4 + 3 \\\\\n",
    "P_2(x, 5) & = & x^5 + 5x^3.\n",
    "\\end{eqnarray}$$\n",
    "\n",
    "Then their product, $P_1(x, 5) \\times P_2(x, 5)$ is\n",
    "\n",
    "$$P_3(x, 10) \\equiv P_1(x, 5) \\times P2(x, 5) = x^{10} + 2 x^9 + 5 x^8 + 10 x^7 + 3x^5 + 15 x^3.$$\n",
    "\n",
    "> _Aside._ For the product $P_3(x, n_3) \\equiv P_1(x, n_1) \\times P_2(x, n_2)$, what is the relationship between $n_3$ and $n_1$ and $n_2$?"
   ]
  },
  {
   "cell_type": "markdown",
   "metadata": {
    "deletable": false,
    "editable": false,
    "nbgrader": {
     "grade": false,
     "locked": true,
     "solution": false
    }
   },
   "source": [
    "You may wish to verify the following fact for the special case of multiplying polynomials with two terms each:\n",
    "\n",
    "$(c_a x^a + c_b x^b)$ $\\times$ $(c_d x^d + c_e x^e) = c_a c_d x^{a+d} + c_a c_e x^{a+e}+ c_b c_d x^{b+d} + c_b c_e x^{b + e}.$ \n",
    "\n",
    "(When storing the result of this product in compressed vector form, recall that the index vector must be sorted in descending order.)"
   ]
  },
  {
   "cell_type": "code",
   "execution_count": 8,
   "metadata": {
    "collapsed": true,
    "deletable": false,
    "editable": false,
    "nbgrader": {
     "grade": false,
     "locked": true,
     "solution": false
    }
   },
   "outputs": [],
   "source": [
    "idx1 = [5, 4, 0]\n",
    "coef1 = [1, 2, 3]\n",
    "\n",
    "idx2 = [5, 3]\n",
    "coef2 = [1, 5]\n",
    "\n",
    "# idx_mult and coef_mult for the final polynomial obtained by multiplying P1 and P2\n",
    "idx_mult = [10, 9, 8, 7, 5, 3]\n",
    "coef_mult = [1, 2, 5, 10, 3, 15]"
   ]
  },
  {
   "cell_type": "markdown",
   "metadata": {
    "deletable": false,
    "editable": false,
    "nbgrader": {
     "grade": false,
     "locked": true,
     "solution": false
    }
   },
   "source": [
    "**Exercise 2** (2 points). Write a function, `mult_idx(idx1, idx2)`, that takes as input the index lists of two polynomials and returns the index list for their product.\n",
    "\n",
    "For instance, given `idx1` and `idx2` from the previous example, your function would return `idx_mult`."
   ]
  },
  {
   "cell_type": "code",
   "execution_count": 9,
   "metadata": {
    "collapsed": true,
    "nbgrader": {
     "grade": false,
     "grade_id": "test_mult_idx",
     "locked": false,
     "points": "2",
     "solution": false
    }
   },
   "outputs": [],
   "source": [
    "def mult_idx(idx1, idx2):\n",
    "    ###\n",
    "    res =[]\n",
    "    for i in idx1:\n",
    "        for j in idx2:\n",
    "            res.append(i+j)\n",
    "    return sorted(list(set(res)),reverse=True)\n",
    "    ###\n"
   ]
  },
  {
   "cell_type": "code",
   "execution_count": 10,
   "metadata": {
    "deletable": false,
    "editable": false,
    "nbgrader": {
     "grade": true,
     "grade_id": "test_mult_idx",
     "locked": true,
     "points": "2",
     "solution": false
    }
   },
   "outputs": [
    {
     "name": "stdout",
     "output_type": "stream",
     "text": [
      "\n",
      "=== trial 0 ===\n",
      "idx1 is [9, 4]\n",
      "idx2 is [7, 5, 1]\n",
      "your solution - [16, 14, 11, 10, 9, 5]\n",
      "\n",
      "=== trial 1 ===\n",
      "idx1 is [9, 5]\n",
      "idx2 is [7, 5, 4, 1]\n",
      "your solution - [16, 14, 13, 12, 10, 9, 6]\n",
      "\n",
      "=== trial 2 ===\n",
      "idx1 is [8, 5, 3, 0]\n",
      "idx2 is [9, 7, 3, 2, 0]\n",
      "your solution - [17, 15, 14, 12, 11, 10, 9, 8, 7, 6, 5, 3, 2, 0]\n",
      "\n",
      "=== trial 3 ===\n",
      "idx1 is [3, 1, 0]\n",
      "idx2 is [6, 3]\n",
      "your solution - [9, 7, 6, 4, 3]\n",
      "\n",
      "=== trial 4 ===\n",
      "idx1 is [8, 5, 2, 0]\n",
      "idx2 is [7, 6, 5, 4, 1]\n",
      "your solution - [15, 14, 13, 12, 11, 10, 9, 8, 7, 6, 5, 4, 3, 1]\n",
      "Passed!\n"
     ]
    }
   ],
   "source": [
    "# Test cell: `test_mult_idx`\n",
    "\n",
    "for trial in range(5):\n",
    "    print(\"\\n=== trial {} ===\".format(trial))\n",
    "    idx1, coef1 = generate_polynomial()\n",
    "    idx2, coef2 = generate_polynomial()\n",
    "    # idx1 and coef1\n",
    "    print(\"idx1 is {}\".format(idx1))\n",
    "    # idx2 and coef2\n",
    "    print(\"idx2 is {}\".format(idx2))\n",
    "\n",
    "    idx = mult_idx(idx1, idx2)\n",
    "    l1 = len(idx1)\n",
    "    l2 = len(idx2)\n",
    "\n",
    "    p1_mat = np.repeat([idx1], [l2], axis=0)\n",
    "    p2_mat = np.repeat([idx2], [l1], axis=0)\n",
    "    p2_mat = p2_mat.T\n",
    "    prod_powers = p1_mat + p2_mat\n",
    "    prod_powers = list(np.unique(prod_powers))\n",
    "    prod_powers.sort(reverse=True)\n",
    "    print(\"your solution - {}\".format(idx))\n",
    "    assert idx == prod_powers, \"Your output is {}, correct output is {}\".format(idx, prod_powers)\n",
    "    \n",
    "print(\"Passed!\")"
   ]
  },
  {
   "cell_type": "markdown",
   "metadata": {
    "deletable": false,
    "editable": false,
    "nbgrader": {
     "grade": false,
     "locked": true,
     "solution": false
    }
   },
   "source": [
    "**Exercise 3** (3 points). Write a function, `mult_coef(idx1, coef1, idx2, coef2)`, that takes as input two polynomials in compressed vector form, `(idx1, coef1)` and `(idx2, coef2)`, and returns the **coefficients** of their product.\n",
    "\n",
    "In the previous example, your function should return `coef_mult`."
   ]
  },
  {
   "cell_type": "code",
   "execution_count": 11,
   "metadata": {},
   "outputs": [],
   "source": [
    "import itertools # Hint: Possibly useful?\n",
    "\n",
    "###\n",
    "def mult_coef(idx1,coef1,idx2,coef2):\n",
    "    resc = []\n",
    "    for i in coef1:\n",
    "        for j in coef2:\n",
    "            resc.append(i*j)\n",
    "\n",
    "    res =[]\n",
    "    for i in idx1:\n",
    "        for j in idx2:\n",
    "            res.append(i+j)\n",
    "\n",
    "    idxs=  mult_idx(idx1, idx2)\n",
    "    dic={}\n",
    "    for i, j in zip(res,resc):\n",
    "        if i in dic:\n",
    "            dic[i] += j\n",
    "        else:\n",
    "            dic[i] = j\n",
    "\n",
    "    return [dic[x] for x in idxs]\n",
    "###\n"
   ]
  },
  {
   "cell_type": "code",
   "execution_count": 12,
   "metadata": {
    "deletable": false,
    "editable": false,
    "nbgrader": {
     "grade": true,
     "grade_id": "test_mult_coef",
     "locked": true,
     "points": "3",
     "solution": false
    }
   },
   "outputs": [
    {
     "name": "stdout",
     "output_type": "stream",
     "text": [
      "\n",
      "=== trial 0 ===\n",
      "idx1 is [7, 1]\n",
      "coef1 is [4, 3] \n",
      "\n",
      "idx2 is [8, 7, 4, 2, 0]\n",
      "coef2 is [8, 6, 5, 7, 3] \n",
      "\n",
      "Your solution :\n",
      "idx = [15, 14, 11, 9, 8, 7, 5, 3, 1]\n",
      "coef = [32, 24, 20, 52, 18, 12, 15, 21, 9]\n",
      "\n",
      "=== trial 1 ===\n",
      "idx1 is [9, 8]\n",
      "coef1 is [8, 7] \n",
      "\n",
      "idx2 is [9, 3]\n",
      "coef2 is [6, 5] \n",
      "\n",
      "Your solution :\n",
      "idx = [18, 17, 12, 11]\n",
      "coef = [48, 42, 40, 35]\n",
      "\n",
      "=== trial 2 ===\n",
      "idx1 is [3, 2, 1, 0]\n",
      "coef1 is [7, 3, 2, 8] \n",
      "\n",
      "idx2 is [7, 6, 5, 4, 0]\n",
      "coef2 is [4, 4, 8, 8, 5] \n",
      "\n",
      "Your solution :\n",
      "idx = [10, 9, 8, 7, 6, 5, 4, 3, 2, 1, 0]\n",
      "coef = [28, 40, 76, 120, 72, 80, 64, 35, 15, 10, 40]\n",
      "\n",
      "=== trial 3 ===\n",
      "idx1 is [9, 5]\n",
      "coef1 is [3, 4] \n",
      "\n",
      "idx2 is [8, 5]\n",
      "coef2 is [5, 4] \n",
      "\n",
      "Your solution :\n",
      "idx = [17, 14, 13, 10]\n",
      "coef = [15, 12, 20, 16]\n",
      "\n",
      "=== trial 4 ===\n",
      "idx1 is [8, 6, 5, 4, 1]\n",
      "coef1 is [3, 5, 7, 7, 4] \n",
      "\n",
      "idx2 is [9, 5, 3, 2, 1]\n",
      "coef2 is [7, 6, 3, 2, 2] \n",
      "\n",
      "Your solution :\n",
      "idx = [17, 15, 14, 13, 11, 10, 9, 8, 7, 6, 5, 4, 3, 2]\n",
      "coef = [21, 35, 49, 67, 39, 76, 63, 31, 45, 52, 14, 12, 8, 8]\n",
      "\n",
      "Passed!\n"
     ]
    }
   ],
   "source": [
    "# Test cell: `test_mult_coef`\n",
    "\n",
    "for trial in range(5):\n",
    "    print(\"\\n=== trial {} ===\".format(trial))\n",
    "    idx1, coef1 = generate_polynomial()\n",
    "    idx2, coef2 = generate_polynomial()\n",
    "    # idx1 and coef1\n",
    "    print(\"idx1 is {}\".format(idx1))\n",
    "    print(\"coef1 is {} \\n\".format(coef1))\n",
    "    # idx2 and coef2\n",
    "    print(\"idx2 is {}\".format(idx2))\n",
    "    print(\"coef2 is {} \\n\".format(coef2))\n",
    "    print(\"Your solution :\")\n",
    "    idx = mult_idx(idx1, idx2)\n",
    "    coef = mult_coef(idx1, coef1, idx2, coef2)\n",
    "    print(\"idx = {}\".format(idx))\n",
    "    print(\"coef = {}\".format(coef))\n",
    "    for e, i in enumerate(idx):\n",
    "        cp = []\n",
    "        for i1 in idx1:\n",
    "            for i2 in idx2:\n",
    "                if i == i1 + i2:\n",
    "                    c1 = coef1[idx1.index(i1)]\n",
    "                    c2 = coef2[idx2.index(i2)]\n",
    "                    c = c1*c2\n",
    "                    cp.append(c)\n",
    "        assert coef[e] == sum(cp), \"incorrect coefficient for power {}\".format(i)\n",
    "        \n",
    "print(\"\\nPassed!\")"
   ]
  },
  {
   "cell_type": "markdown",
   "metadata": {},
   "source": [
    "**Fin!** Remember to test your solutions by running them as the autograder will: restart the kernel and run all cells from \"top-to-bottom.\" Also remember to submit to the autograder; otherwise, you will **not** get credit for your hard work!"
   ]
  }
 ],
 "metadata": {
  "kernelspec": {
   "display_name": "Python 3.7",
   "language": "python",
   "name": "python3"
  },
  "language_info": {
   "codemirror_mode": {
    "name": "ipython",
    "version": 3
   },
   "file_extension": ".py",
   "mimetype": "text/x-python",
   "name": "python",
   "nbconvert_exporter": "python",
   "pygments_lexer": "ipython3",
   "version": "3.7.5"
  }
 },
 "nbformat": 4,
 "nbformat_minor": 2
}
