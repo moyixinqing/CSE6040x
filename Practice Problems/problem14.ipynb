{
 "cells": [
  {
   "cell_type": "markdown",
   "metadata": {
    "deletable": false,
    "editable": false,
    "nbgrader": {
     "grade": false,
     "locked": true,
     "solution": false
    }
   },
   "source": [
    "# Problem 14: Scraping data from \"FiveThirtyEight\"\n",
    "\n",
    "There are a ton of fun interactive visualizations at the website, [FiveThirtyEight](http://fivethirtyeight.com). For example, consider the one that tracks the US President's approval ratings: https://projects.fivethirtyeight.com/trump-approval-ratings/"
   ]
  },
  {
   "cell_type": "markdown",
   "metadata": {
    "deletable": false,
    "editable": false,
    "nbgrader": {
     "grade": false,
     "locked": true,
     "solution": false
    }
   },
   "source": [
    "Here is a screenshot of the interactive graph it contains:\n",
    "\n",
    "![538 DJT Approval Meter](https://cse6040.gatech.edu/datasets/538-djt-pop/538-demo.png)\n",
    "\n",
    "In it, you can select each day (\"movable cursor\") and get information about the approval ratings for that day."
   ]
  },
  {
   "cell_type": "markdown",
   "metadata": {
    "deletable": false,
    "editable": false,
    "nbgrader": {
     "grade": false,
     "locked": true,
     "solution": false
    }
   },
   "source": [
    "As it turns out, this visualization is implemented in JavaScript and all of the individual data items are embedded within the web page itself. For example, here is a 132-page PDF file, which is the source code for the web page taken on September 6, 2018: [PDF file](https://cse6040.gatech.edu/datasets/538-djt-pop/2018-09-06.pdf). The raw data being rendered in the visualization starts on page 50.\n",
    "\n",
    "Of course, that means you can use your Python-fu to try to extract this data for your own purposes! Indeed, that is your task for this problem.\n",
    "\n",
    "> Although the data in this problem comes from an HTML file with embedded JavaScript, you do **not** need to know anything about HTML or JavaScript to solve this problem. It is purely an exercise of rudimentary Python and computational problem solving."
   ]
  },
  {
   "cell_type": "markdown",
   "metadata": {
    "deletable": false,
    "editable": false,
    "nbgrader": {
     "grade": false,
     "locked": true,
     "solution": false
    }
   },
   "source": [
    "# Reading the raw HTML file\n",
    "\n",
    "Let's read the raw contents of the FiveThirtyEight approval ratings page (i.e., the same contents as the PDF) into a variable named `raw_html`.\n",
    "\n",
    "> Like the groceries problem in Notebook 2, this cell contains a bunch of code for getting the data file you need, which you can ignore."
   ]
  },
  {
   "cell_type": "code",
   "execution_count": 1,
   "metadata": {
    "deletable": false,
    "editable": false,
    "nbgrader": {
     "grade": false,
     "locked": true,
     "solution": false
    }
   },
   "outputs": [
    {
     "name": "stdout",
     "output_type": "stream",
     "text": [
      "'2018-09-06.html' is ready!\n",
      "\n",
      "(All data appears to be ready.)\n"
     ]
    }
   ],
   "source": [
    "def download(url, local_file, overwrite=False):\n",
    "    import os, requests\n",
    "    if not os.path.exists(local_file) or overwrite:\n",
    "        print(\"Downloading: {} ...\".format(url))\n",
    "        r = requests.get(url)\n",
    "        with open(local_file, 'wb') as f:\n",
    "            f.write(r.content)\n",
    "        return True\n",
    "    return False # File existed already\n",
    "\n",
    "def get_checksum(local_file):\n",
    "    import io, hashlib\n",
    "    with io.open(local_file, 'rb') as f:\n",
    "        body = f.read()\n",
    "        body_checksum = hashlib.md5(body).hexdigest()\n",
    "        return body_checksum\n",
    "\n",
    "def download_or_load_locally(file, local_dir=\"\", url_base=None, checksum=None):\n",
    "    if url_base is None: url_base = \"https://cse6040.gatech.edu/datasets/\"\n",
    "    local_file = \"{}{}\".format(local_dir, file)\n",
    "    remote_url = \"{}{}\".format(url_base, file)\n",
    "    download(remote_url, local_file)\n",
    "    if checksum is not None:\n",
    "        body_checksum = get_checksum(local_file)\n",
    "        assert body_checksum == checksum, \\\n",
    "            \"Downloaded file '{}' has incorrect checksum: '{}' instead of '{}'\".format(local_file,\n",
    "                                                                                       body_checksum,\n",
    "                                                                                       checksum)        \n",
    "    print(\"'{}' is ready!\".format(file))\n",
    "    \n",
    "def on_vocareum():\n",
    "    import os\n",
    "    return os.path.exists('.voc')\n",
    "\n",
    "if on_vocareum():\n",
    "    URL_BASE = None\n",
    "    DATA_PATH = \"./resource/asnlib/publicdata/538-djt-pop/\"\n",
    "else:\n",
    "    URL_BASE = \"https://cse6040.gatech.edu/datasets/538-djt-pop/\"\n",
    "    DATA_PATH = \"\"\n",
    "datasets = {'2018-09-06.html': '291a7c1cbf15575a48b0be8d77b7a1d6'}\n",
    "\n",
    "for filename, checksum in datasets.items():\n",
    "    download_or_load_locally(filename, url_base=URL_BASE, local_dir=DATA_PATH, checksum=checksum)\n",
    "\n",
    "with open('{}{}'.format(DATA_PATH, '2018-09-06.html')) as fp:\n",
    "    raw_html = fp.read()\n",
    "print(\"\\n(All data appears to be ready.)\")"
   ]
  },
  {
   "cell_type": "markdown",
   "metadata": {
    "deletable": false,
    "editable": false,
    "nbgrader": {
     "grade": false,
     "locked": true,
     "solution": false
    }
   },
   "source": [
    "**File snippets.** Run the following code cell. It takes the `raw_html` string and prints the substring just around the start of the raw data you'll need, i.e., starting at page 50 of the PDF:"
   ]
  },
  {
   "cell_type": "code",
   "execution_count": 2,
   "metadata": {
    "deletable": false,
    "editable": false,
    "nbgrader": {
     "grade": false,
     "locked": true,
     "solution": false
    }
   },
   "outputs": [
    {
     "name": "stdout",
     "output_type": "stream",
     "text": [
      "thPrefix=\"/trump-approval-ratings/\";\n",
      "var subgroup=\"All polls\";\n",
      "var showMoreCutoff=5;\n",
      "var approval=[{\"date\":\"2017-01-23\",\"future\":false,\"subgroup\":\"All polls\",\"approve_estimate\":\"45.46693\",\"approve_hi\":\"50.88971\",\"approve_lo\":\"40.04416\",\"disapprove_estimate\":\"41.26452\",\"disapprove_hi\":\"46.68729\",\"disapprove_lo\":\"35.84175\"},{\"date\":\"2017-01-24\",\"future\":false,\"subgroup\":\"All polls\",\"approve_estimate\":\"45.44264\",\"approve_hi\":\"50.82922\",\"approve_lo\":\"40.05606\",\"disapprove_estimate\":\"41.87849\",\"disapprove_hi\":\"47.26508\",\"disapprove_lo\":\"36.49191\"},{\"date\":\"2017-01-25\",\"future\":false,\"subgroup\":\"All polls\",\"approve_estimate\":\"47.76497\",\"approve_hi\":\"52.66397\",\"approve_lo\":\"42.86596\",\"disapprove_estimate\":\"42.52911\",\"disapprove_hi\":\"47.42811\",\"disapprove_lo\":\"37.63011\"},{\"date\":\"2017-01-26\",\"future\":false,\"subgroup\":\"All polls\",\"approve_estimate\":\"44.37598\",\"approve_hi\":\"48.93261\",\"approve_lo\":\"39.81936\",\"disapprove_estimate\":\"41.06081\",\"disapprove_hi\":\"45.61743\",\"disapprove_lo\":\"36.50418\"},{\"date\":\"2017-01-27\",\"future\":false,\"subgroup\":\"All polls\",\"approve_estimate\":\"44.13586\",\"approve_hi\":\"48.70494\",\"approve_lo\":\"39.56679\",\"disapprove_estimate\":\"41.67268\",\"disapprove_hi\":\"46.24175\",\"disapprove_lo\":\"37.1036\"},{\"date\":\"2017-01-28\",\"future\":false,\"subgroup\":\"All polls\",\"approve_estimate\":\"43.87527\",\"approve_hi\":\"48.46821\",\"approve_lo\":\"39.28233\",\"disapprove_estimate\":\"41.91362\",\"disapprove_hi\":\"46.50656\",\"disapprove_lo\":\"37.32067\"},{\"date\":\"2017-01-29\",\"future\":false,\"subgroup\":\"All \n"
     ]
    }
   ],
   "source": [
    "sample_offset, sample_len = 69950, 1500\n",
    "print(raw_html[sample_offset:sample_offset+sample_len])"
   ]
  },
  {
   "cell_type": "markdown",
   "metadata": {
    "deletable": false,
    "editable": false,
    "nbgrader": {
     "grade": false,
     "locked": true,
     "solution": false
    }
   },
   "source": [
    "Run the following code cell to see the end of the raw data region."
   ]
  },
  {
   "cell_type": "code",
   "execution_count": 3,
   "metadata": {
    "deletable": false,
    "editable": false,
    "nbgrader": {
     "grade": false,
     "locked": true,
     "solution": false
    }
   },
   "outputs": [
    {
     "name": "stdout",
     "output_type": "stream",
     "text": [
      "\",\"approve_lo\":\"29.24131\",\"disapprove_estimate\":\"51.94407\",\"disapprove_hi\":\"63.94288\",\"disapprove_lo\":\"39.94526\"},{\"date\":\"2019-05-10\",\"future\":true,\"subgroup\":\"All polls\",\"approve_estimate\":\"41.47093\",\"approve_hi\":\"53.72246\",\"approve_lo\":\"29.2194\",\"disapprove_estimate\":\"51.94225\",\"disapprove_hi\":\"63.96438\",\"disapprove_lo\":\"39.92012\"},{\"date\":\"2019-05-11\",\"future\":true,\"subgroup\":\"All polls\",\"approve_estimate\":\"41.4719\",\"approve_hi\":\"53.74633\",\"approve_lo\":\"29.19748\",\"disapprove_estimate\":\"51.94044\",\"disapprove_hi\":\"63.98589\",\"disapprove_lo\":\"39.895\"},{\"date\":\"2019-05-12\",\"future\":true,\"subgroup\":\"All polls\",\"approve_estimate\":\"41.47285\",\"approve_hi\":\"53.77016\",\"approve_lo\":\"29.17555\",\"disapprove_estimate\":\"51.93866\",\"disapprove_hi\":\"64.0074\",\"disapprove_lo\":\"39.86993\"},{\"date\":\"2019-05-13\",\"future\":true,\"subgroup\":\"All polls\",\"approve_estimate\":\"41.47378\",\"approve_hi\":\"53.79396\",\"approve_lo\":\"29.15361\",\"disapprove_estimate\":\"51.9369\",\"disapprove_hi\":\"64.02892\",\"disapprove_lo\":\"39.84487\"},{\"date\":\"2019-05-14\",\"future\":true,\"subgroup\":\"All polls\",\"approve_estimate\":\"41.47469\",\"approve_hi\":\"53.81773\",\"approve_lo\":\"29.13165\",\"disapprove_estimate\":\"51.93515\",\"disapprove_hi\":\"64.05045\",\"disapprove_lo\":\"39.81984\"}];\n",
      "  </script>\n",
      "  <div class=\"container\">\n",
      "   <div id=\"footer\">\n",
      "    <div class=\"notes\">\n",
      "     <p>\n",
      "      When the dates of tracking polls from the same pollster overlap, only the most recent version is shown.\n",
      "     </p>\n",
      "    </div>\n",
      "    <div class=\"additional-credits\">\n",
      "     <p>\n",
      " \n"
     ]
    }
   ],
   "source": [
    "sample_end = 257500\n",
    "print(raw_html[sample_end:sample_end+sample_len])"
   ]
  },
  {
   "cell_type": "markdown",
   "metadata": {
    "deletable": false,
    "editable": false,
    "nbgrader": {
     "grade": false,
     "locked": true,
     "solution": false
    }
   },
   "source": [
    "Please make the following observations about the file snippets shown above:\n",
    "\n",
    "- The raw data of approval ratings begins with the text, `'var approval=['` and ends with a closing square bracket, `']'`. No other square brackets appear between these two.\n",
    "- Each \"data point\" or \"data record\" is encoded in JavaScript Object Notation (JSON), which is essentially the same as a Python dictionary. That is, it is enclosed in curly brackets, `{...}` and contains a number of key-value pairs. These include the date (`\"date\":\"yyyy-mm-dd\"`), approval and disapproval rating estimates (`\"approve_estimate\":\"45.46693\"` and `\"disapprove_estimate\":\"41.26452\"`), as well as upper and lower error bounds (`\"..._hi\"` and `\"..._lo\"`). The estimates correspond to the green (approval) and orange (disapproval) lines, and the error bounds form the shaded regions around those lines.\n",
    "- Each data record includes a key named `\"future\"`. That's because FiveThirtyEight has projected the ratings into the future, so some records correspond to observed values (`\"future\":false`) while others correspond to extrapolated values (`\"future\":true`).\n",
    "\n",
    "In addition, for the exercises below, you may assume the data records are encoded in the same way, e.g., the fields appear in the same order and there are no variations in punctuation or whitespace from what you see in the above snippets."
   ]
  },
  {
   "cell_type": "markdown",
   "metadata": {
    "deletable": false,
    "editable": false,
    "nbgrader": {
     "grade": false,
     "locked": true,
     "solution": false
    }
   },
   "source": [
    "## Your task: Extracting the approval ratings"
   ]
  },
  {
   "cell_type": "markdown",
   "metadata": {
    "deletable": false,
    "editable": false,
    "nbgrader": {
     "grade": false,
     "locked": true,
     "solution": false
    }
   },
   "source": [
    "**Exercise 0** (1 point). Recall that the data begins with `'var approval=[...'` and ends with a closing square bracket, `']'`. Complete the function, `extract_approval_raw(html)`, below. The input variable, `html`, is a string corresponding to the raw HTML file. Your function should return the substring beginning immediately **after** the opening square bracket and up to, but **excluding**, the last square bracket. It should return exactly that substring from the file, and should not otherwise modify it.\n",
    "\n",
    "> While you don't have to use regular expressions for this problem, if you wish to, observe that the cell below imports the `re` module."
   ]
  },
  {
   "cell_type": "code",
   "execution_count": 4,
   "metadata": {},
   "outputs": [
    {
     "name": "stdout",
     "output_type": "stream",
     "text": [
      "type(raw_data) == <class 'str'>   (should be a string!)\n",
      "\n",
      "=== First and last 300 characters ===\n",
      "{\"date\":\"2017-01-23\",\"future\":false,\"subgroup\":\"All polls\",\"approve_estimate\":\"45.46693\",\"approve_hi\":\"50.88971\",\"approve_lo\":\"40.04416\",\"disapprove_estimate\":\"41.26452\",\"disapprove_hi\":\"46.68729\",\"disapprove_lo\":\"35.84175\"},{\"date\":\"2017-01-24\",\"future\":false,\"subgroup\":\"All polls\",\"approve_estimat\n",
      "   ...   \n",
      "e_estimate\":\"51.9369\",\"disapprove_hi\":\"64.02892\",\"disapprove_lo\":\"39.84487\"},{\"date\":\"2019-05-14\",\"future\":true,\"subgroup\":\"All polls\",\"approve_estimate\":\"41.47469\",\"approve_hi\":\"53.81773\",\"approve_lo\":\"29.13165\",\"disapprove_estimate\":\"51.93515\",\"disapprove_hi\":\"64.05045\",\"disapprove_lo\":\"39.81984\"}\n"
     ]
    }
   ],
   "source": [
    "import re\n",
    "\n",
    "def extract_approval_raw(html):\n",
    "    assert isinstance(html, str), \"`html` is not a string.\"\n",
    "    ###\n",
    "    start = re.search('approval=\\[',html).span()[1]\n",
    "    stop  = re.search('\\]',html).span()[0]\n",
    "\n",
    "    return html[start:stop]\n",
    "    ###\n",
    "    \n",
    "raw_data = extract_approval_raw(raw_html)\n",
    "print(\"type(raw_data) == {}   (should be a string!)\\n\".format(type(raw_data)))\n",
    "print(\"=== First and last 300 characters ===\\n{}\\n   ...   \\n{}\".format(raw_data[:300], raw_data[-300:]))"
   ]
  },
  {
   "cell_type": "code",
   "execution_count": 5,
   "metadata": {
    "deletable": false,
    "editable": false,
    "nbgrader": {
     "grade": true,
     "grade_id": "test__extract_approval_raw",
     "locked": true,
     "points": "1",
     "solution": false
    }
   },
   "outputs": [
    {
     "name": "stdout",
     "output_type": "stream",
     "text": [
      "\n",
      "(Passed!)\n"
     ]
    }
   ],
   "source": [
    "# Test cell: `test__extract_approval_raw` (1 point)\n",
    "\n",
    "raw_data = extract_approval_raw(raw_html)\n",
    "assert isinstance(raw_data, str), \"Your function did not return a string!\"\n",
    "assert len(raw_data) == 188678, \"Did your function return all of the substring? It should have {} characters, but your function has {} instead, making it a bit too {}.\".format(188678, len(raw_data), \"short\" if len(raw_data) < 188678 else \"long\")\n",
    "\n",
    "print(\"\\n(Passed!)\")"
   ]
  },
  {
   "cell_type": "markdown",
   "metadata": {
    "deletable": false,
    "editable": false,
    "nbgrader": {
     "grade": false,
     "locked": true,
     "solution": false
    }
   },
   "source": [
    "**Exercise 1** (3 points). Complete the function, `extract_approval_estimates(data_substr)`, below. It takes as input a string, `data_substr`, which would be a data substring like the one returned by `extract_approval_raw()`. It should return a **dictionary** where\n",
    "\n",
    "- each key is a date, stored as a string in the form `'2017-01-23'` (**without the quotes**);\n",
    "- each corresponding value is the approval rating, **stored as a `float`**.\n",
    "\n",
    "For example, executing\n",
    "\n",
    "```python\n",
    "    approvals = extract_approval_estimates(data_substr)\n",
    "    print(type(approvals['2017-01-23']), approvals['2017-01-23'])\n",
    "```\n",
    "\n",
    "should display `<class 'float'> 45.46693`. (Refer to the first entry of ratings from the PDF, which begins on page 50.)\n",
    "\n",
    "Also, your function should keep **only** records for which `\"future\":false`, that is, **it should not include the extrapolated values**.\n",
    "\n",
    "You may make the following assumptions:\n",
    "\n",
    "1. Dates are *not* duplicated.\n",
    "2. All encountered dates have valid approval estimates.\n",
    "3. All data records are encoded using the same pattern as shown in the file snippets above."
   ]
  },
  {
   "cell_type": "code",
   "execution_count": 6,
   "metadata": {},
   "outputs": [
    {
     "name": "stdout",
     "output_type": "stream",
     "text": [
      "Found 592 data records.\n"
     ]
    }
   ],
   "source": [
    "def extract_approval_estimates(data_substr):\n",
    "    assert isinstance(data_substr, str), \"`data_substr` is not a string.\"\n",
    "    assert data_substr[0] == '{' and data_substr[-1] == '}', \"Input may be malformed.\"\n",
    "    ###\n",
    "    import json\n",
    "    res =[]\n",
    "    for item in list(data_substr[1:-1].split('},{')):\n",
    "        res.append(json.loads('{'+item+'}'))\n",
    "        \n",
    "    dic = {}\n",
    "    for di in res:\n",
    "        if di['future'] == False:\n",
    "            dic[di['date']] = float(di['approve_estimate'])\n",
    "    \n",
    "    return dic\n",
    "    ###\n",
    "\n",
    "approvals = extract_approval_estimates(raw_data)\n",
    "print(\"Found {} data records.\".format(len(approvals)))"
   ]
  },
  {
   "cell_type": "code",
   "execution_count": null,
   "metadata": {},
   "outputs": [],
   "source": []
  },
  {
   "cell_type": "code",
   "execution_count": 7,
   "metadata": {
    "deletable": false,
    "editable": false,
    "nbgrader": {
     "grade": true,
     "grade_id": "test__extract_approval_estimates__0",
     "locked": true,
     "points": "2",
     "solution": false
    }
   },
   "outputs": [
    {
     "name": "stdout",
     "output_type": "stream",
     "text": [
      "\n",
      "(Passed!)\n"
     ]
    }
   ],
   "source": [
    "# Test cell 0: test__extract_approval_estimates__0 (2 points)\n",
    "\n",
    "num_approvals_expected, min_date_expected, max_date_expected = 592, '2017-01-23', '2018-09-06'\n",
    "\n",
    "approvals = extract_approval_estimates(raw_data)\n",
    "assert isinstance(approvals, dict), \"Your function returned an object of type {} instead of a dictionary (type `dict`).\".format(type(approvals))\n",
    "assert len(approvals) == num_approvals_expected, \\\n",
    "       \"Your function should have found {} records but has {} instead, which is too {}.\".format(num_approvals_expected,\n",
    "                                                                                                len(approvals),\n",
    "                                                                                                \"few\" if len(approvals) < num_approvals_expected else \"many\")\n",
    "for date_expected, date_occurred in zip([min_date_expected, max_date_expected],\n",
    "                                        [min(approvals.keys()), max(approvals.keys())]):\n",
    "    assert date_occurred == date_expected, \"A record for {} is missing!\".format(date_expected)\n",
    "\n",
    "print(\"\\n(Passed!)\")"
   ]
  },
  {
   "cell_type": "code",
   "execution_count": 8,
   "metadata": {
    "deletable": false,
    "editable": false,
    "nbgrader": {
     "grade": true,
     "grade_id": "test__extract_approval_estimates__1__HIDDEN",
     "locked": true,
     "points": "1",
     "solution": false
    }
   },
   "outputs": [
    {
     "name": "stdout",
     "output_type": "stream",
     "text": [
      "\n",
      "(Passed!)\n"
     ]
    }
   ],
   "source": [
    "# Test cell 1: test__extract_approval_estimates__1__HIDDEN (1 points)\n",
    "\n",
    "def sample_ratings(ratings, k):\n",
    "    from random import sample\n",
    "    ratings_sample = []\n",
    "    for date in sample(ratings.keys(), k):\n",
    "        ratings_sample.append((date, ratings[date]))\n",
    "    return ratings_sample\n",
    "\n",
    "if False:\n",
    "    print(sample_ratings(approvals, 20))\n",
    "\n",
    "import math\n",
    "sample_approvals = [('2017-06-04', 38.89021), ('2017-10-30', 37.26442), ('2017-03-07', 44.3455), ('2017-02-19', 44.10547), ('2017-05-18', 39.45036), ('2017-09-04', 37.50347), ('2017-03-26', 42.08798), ('2018-06-29', 41.75614), ('2017-10-24', 37.1561), ('2017-11-23', 38.42519), ('2017-11-06', 37.69767), ('2017-06-17', 38.7223), ('2018-02-17', 41.3879), ('2017-05-16', 39.90671), ('2017-03-18', 42.70947), ('2018-07-17', 42.0509), ('2017-10-31', 37.24255), ('2017-02-28', 42.93886), ('2018-08-17', 41.97367), ('2018-08-28', 41.37738)]\n",
    "for date, value in sample_approvals:\n",
    "    assert date in approvals, \"Approvals is missing a record for the date '{}'!\".format(date)\n",
    "    assert math.isclose(approvals[date], value, abs_tol=1e-5), \\\n",
    "           \"Approval rating for {} should be {}, not {}.\".format(date, value, approvals[date])\n",
    "    \n",
    "print(\"\\n(Passed!)\")"
   ]
  },
  {
   "cell_type": "markdown",
   "metadata": {
    "deletable": false,
    "editable": false,
    "nbgrader": {
     "grade": false,
     "locked": true,
     "solution": false
    }
   },
   "source": [
    "**Exercise 2** (2 points). Complete the function, `extract_disapproval_estimates(data_substr)`, below. It should behave just like `extract_approval_estimates()` except that it should extract disapproval estimates rather than approval estimates.\n",
    "\n",
    "For instance, executing\n",
    "\n",
    "```python\n",
    "disapprovals = extract_disapproval_estimates(raw_data)\n",
    "print(type(disapprovals['2017-01-23']), disapprovals['2017-01-23'])\n",
    "```\n",
    "\n",
    "should display, `<class 'float'> 41.26452`."
   ]
  },
  {
   "cell_type": "code",
   "execution_count": 9,
   "metadata": {},
   "outputs": [
    {
     "name": "stdout",
     "output_type": "stream",
     "text": [
      "Found 592 data records.\n"
     ]
    }
   ],
   "source": [
    "def extract_disapproval_estimates(data_substr):\n",
    "    assert isinstance(data_substr, str), \"`data_substr` is not a string.\"\n",
    "    assert data_substr[0] == '{' and data_substr[-1] == '}', \"Input may be malformed.\"\n",
    "    ###\n",
    "    import json\n",
    "    res =[]\n",
    "    for item in list(data_substr[1:-1].split('},{')):\n",
    "        res.append(json.loads('{'+item+'}'))\n",
    "        \n",
    "    dic = {}\n",
    "    for di in res:\n",
    "        if di['future'] == False:\n",
    "            dic[di['date']] = float(di['disapprove_estimate'])\n",
    "    \n",
    "    return dic\n",
    "    \n",
    "    ###\n",
    "\n",
    "disapprovals = extract_disapproval_estimates(raw_data)\n",
    "print(\"Found {} data records.\".format(len(disapprovals)))"
   ]
  },
  {
   "cell_type": "code",
   "execution_count": 10,
   "metadata": {
    "deletable": false,
    "editable": false,
    "nbgrader": {
     "grade": true,
     "grade_id": "test__extract_disapproval_estimates__0",
     "locked": true,
     "points": "1",
     "solution": false
    }
   },
   "outputs": [
    {
     "name": "stdout",
     "output_type": "stream",
     "text": [
      "\n",
      "(Passed!)\n"
     ]
    }
   ],
   "source": [
    "# Test cell 0: test__extract_disapproval_estimates__0 (1 point)\n",
    "\n",
    "disapprovals = extract_disapproval_estimates(raw_data)\n",
    "assert isinstance(disapprovals, dict), \"Your function returned an object of type {} instead of a dictionary (type `dict`).\".format(type(disapprovals))\n",
    "\n",
    "for date in approvals.keys():\n",
    "    assert date in disapprovals, \"The date '{}' is missing.\".format(date)\n",
    "\n",
    "print(\"\\n(Passed!)\")"
   ]
  },
  {
   "cell_type": "code",
   "execution_count": 11,
   "metadata": {
    "deletable": false,
    "editable": false,
    "nbgrader": {
     "grade": true,
     "grade_id": "test__extract_disapproval_estimates__1__HIDDEN",
     "locked": true,
     "points": "1",
     "solution": false
    }
   },
   "outputs": [
    {
     "name": "stdout",
     "output_type": "stream",
     "text": [
      "\n",
      "(Passed!)\n"
     ]
    }
   ],
   "source": [
    "# Test cell 1: test__extract_disapproval_estimates__1__HIDDEN (1 point)\n",
    "\n",
    "if False:\n",
    "    print(sample_ratings(disapprovals, 20))\n",
    "\n",
    "import math\n",
    "sample_disapprovals = [('2018-05-27', 52.33014), ('2017-07-18', 55.6564), ('2017-04-22', 52.33886), ('2017-05-14', 53.41823), ('2018-07-18', 52.83702), ('2018-03-31', 53.42228), ('2018-05-21', 52.68593), ('2017-05-18', 54.28648), ('2017-07-04', 54.46843), ('2018-08-31', 54.46505), ('2018-07-20', 52.74246), ('2018-02-13', 53.64082), ('2017-07-07', 55.12906), ('2017-12-22', 57.08867), ('2018-06-20', 51.4082), ('2017-12-20', 56.98474), ('2017-09-27', 54.94124), ('2018-06-13', 52.53515), ('2018-02-20', 53.43631), ('2017-06-25', 55.20745)]\n",
    "for date, value in sample_disapprovals:\n",
    "    assert date in disapprovals, \"Disapprovals is missing a record for the date '{}'!\".format(date)\n",
    "    assert math.isclose(disapprovals[date], value, abs_tol=1e-5), \\\n",
    "           \"Disapproval rating for {} should be {}, not {}.\".format(date, value, disapprovals[date])\n",
    "    \n",
    "print(\"\\n(Passed!)\")"
   ]
  },
  {
   "cell_type": "markdown",
   "metadata": {
    "deletable": false,
    "editable": false,
    "nbgrader": {
     "grade": false,
     "locked": true,
     "solution": false
    }
   },
   "source": [
    "**Exercise 3** (1 point). Complete the function, `filter_dates_by_month(month_str, dates)`, below, so that it filters a list of dates by a particular target month and year. Its inputs are as follows.\n",
    "\n",
    "- The `month_str` argument is a string of the form `yyyy-mm`. This string encodes a target month and year.\n",
    "- The `dates` argument is a Python set of dates of the form `yyyy-mm-dd`. Think of these as the keys in the approval and disapproval ratings dictionaries, for instance.\n",
    "\n",
    "The function should return a **Python set** containing only those elements of `dates` that match the given `month_str`. For example, the call\n",
    "\n",
    "```python\n",
    "  filter_dates_by_month('2018-07', {'2018-05-02', '2018-07-05', '2018-07-01', '2017-07-02', '2016-07-31'})\n",
    "```\n",
    "\n",
    "would return\n",
    "\n",
    "```python\n",
    "  {'2018-07-05', '2018-07-01'}\n",
    "```"
   ]
  },
  {
   "cell_type": "code",
   "execution_count": 12,
   "metadata": {
    "collapsed": true
   },
   "outputs": [],
   "source": [
    "def filter_dates_by_month(month_str, dates):\n",
    "    assert isinstance(month_str, str), \"`month_str` is of type {}, rather than `str`.\".format(type(month_str))\n",
    "    assert re.match(r'\\d{4}-\\d{2}$', month_str), \"`month_str == '{}'` is invalid.\".format(month_str)\n",
    "    ###\n",
    "    res = set()\n",
    "    for day in dates:\n",
    "        if day[:len(month_str)] == month_str:\n",
    "            res.add(day)\n",
    "    return res\n",
    "    \n",
    "    ###\n"
   ]
  },
  {
   "cell_type": "code",
   "execution_count": 13,
   "metadata": {
    "deletable": false,
    "editable": false,
    "nbgrader": {
     "grade": true,
     "grade_id": "test__filter_dates_by_month",
     "locked": true,
     "points": "1",
     "solution": false
    }
   },
   "outputs": [
    {
     "name": "stdout",
     "output_type": "stream",
     "text": [
      "=== Test case 0 ===\n",
      "All dates: {'8661-02-08', '7040-12-23', '8661-02-11', '8635-12-16', '2865-05-09', '8661-02-25', '3823-10-02', '8661-02-02', '8661-02-21'}\n",
      "Target month: 8661-02\n",
      "Your matches: {'8661-02-08', '8661-02-11', '8661-02-25', '8661-02-02', '8661-02-21'}\n",
      "==> Looks good!\n",
      "\n",
      "=== Test case 1 ===\n",
      "All dates: {'1997-09-22', '5340-06-15', '3152-07-11', '6166-05-24', '8809-01-02', '3152-07-27', '1426-01-28', '3152-07-06', '3152-07-18'}\n",
      "Target month: 3152-07\n",
      "Your matches: {'3152-07-06', '3152-07-27', '3152-07-11', '3152-07-18'}\n",
      "==> Looks good!\n",
      "\n",
      "=== Test case 2 ===\n",
      "All dates: {'3393-12-30', '1083-01-11', '1083-01-14', '4257-05-03', '1083-01-04', '1083-01-23', '5057-07-20', '9349-07-04', '7707-04-05'}\n",
      "Target month: 1083-01\n",
      "Your matches: {'1083-01-23', '1083-01-11', '1083-01-04', '1083-01-14'}\n",
      "==> Looks good!\n",
      "\n",
      "=== Test case 3 ===\n",
      "All dates: {'5639-06-23', '1717-10-22', '6416-05-20', '5426-02-12', '2301-05-14', '2606-11-10', '1305-09-18', '5426-02-11', '5426-02-03'}\n",
      "Target month: 5426-02\n",
      "Your matches: {'5426-02-12', '5426-02-03', '5426-02-11'}\n",
      "==> Looks good!\n",
      "\n",
      "=== Test case 4 ===\n",
      "All dates: {'3220-12-27', '5655-04-17', '3220-12-17', '3220-12-24', '7484-10-26', '3220-12-02', '6822-03-17', '0859-05-15', '2894-08-23'}\n",
      "Target month: 3220-12\n",
      "Your matches: {'3220-12-27', '3220-12-17', '3220-12-24', '3220-12-02'}\n",
      "==> Looks good!\n",
      "\n"
     ]
    }
   ],
   "source": [
    "# Test cell: `test__filter_dates_by_month` (1 point)\n",
    "\n",
    "def test__filter_dates_by_month():\n",
    "    from random import sample\n",
    "    padded_digits = lambda a, b: sample(range(a, b), 1)[0]\n",
    "    rand_year = lambda: padded_digits(0, 10000)\n",
    "    rand_month = lambda: padded_digits(1, 13)\n",
    "    rand_day = lambda m: padded_digits(1, 28 if m == 2 else 31 if m in [1, 3, 5, 7, 8, 10, 12] else 30)\n",
    "    coin_flip = lambda: sample([False, True], 1)[0]\n",
    "    \n",
    "    yyyy_0, mm_0 = rand_year(), rand_month()\n",
    "    month_str = '{:04d}-{:02d}'.format(yyyy_0, mm_0)\n",
    "    all_dates = set()\n",
    "    answer = set()\n",
    "    for _ in range(10):\n",
    "        match = coin_flip()\n",
    "        if match:\n",
    "            yyyy, mm = yyyy_0, mm_0\n",
    "        else:\n",
    "            yyyy, mm = rand_year(), rand_month()\n",
    "        date = '{:04d}-{:02d}-{:02d}'.format(yyyy, mm, rand_day(mm))\n",
    "        all_dates |= {date}\n",
    "        if match:\n",
    "            answer |= {date}\n",
    "    filtered_dates = filter_dates_by_month(month_str, all_dates)\n",
    "    print(\"All dates: {}\".format(all_dates))\n",
    "    print(\"Target month: {}\".format(month_str))\n",
    "    print(\"Your matches: {}\".format(filtered_dates))\n",
    "    if filtered_dates != answer:\n",
    "        print(\"*** Your solution is incorrect! ***\")\n",
    "        excesses = filtered_dates - answer\n",
    "        omissions = answer - filtered_dates\n",
    "        if excesses:\n",
    "            print(\"It erroneously includes {}.\".format(excesses))\n",
    "        if omissions:\n",
    "            print(\"It erroneously omits {}.\".format(omissions))\n",
    "        assert False\n",
    "    else:\n",
    "        print(\"==> Looks good!\\n\")\n",
    "\n",
    "for k in range(5):\n",
    "    print(\"=== Test case {} ===\".format(k))\n",
    "    test__filter_dates_by_month()"
   ]
  },
  {
   "cell_type": "markdown",
   "metadata": {
    "deletable": false,
    "editable": false,
    "nbgrader": {
     "grade": false,
     "locked": true,
     "solution": false
    }
   },
   "source": [
    "**Exercise 4** (3 points). Let the _discrepancy rating_ of a given day be that day's approval rating minus its disapproval rating. Complete the function, `avg_discrepancy_in_month(month_str, approvals, disapprovals)`, below, so that it returns the **average** daily discrepancy rating for a given month.\n",
    "\n",
    "- The `month_str` argument is a string of the form `yyyy-mm`. This string encodes a target month and year.\n",
    "- The `approvals` argument is a dictionary, whose keys are dates and whose values are approval ratings.\n",
    "- The `disapprovals` argument is a dictionary, whose keys are dates and whose values are disapproval ratings.\n",
    "\n",
    "You may assume that if a date is in `approvals` then it is also in `disapprovals`, and vice-versa. You can ignore missing dates; that is, compute the averages based on whatever dates exist in the input dictionaries."
   ]
  },
  {
   "cell_type": "code",
   "execution_count": 14,
   "metadata": {},
   "outputs": [
    {
     "name": "stdout",
     "output_type": "stream",
     "text": [
      "Average daily discrepancy for 2017-01: 2.799275555555555\n",
      "Average daily discrepancy for 2018-09: -14.008344999999997\n"
     ]
    }
   ],
   "source": [
    "def avg_discrepancy_in_month(month_str, approvals, disapprovals):\n",
    "    assert isinstance(month_str, str), \"`month_str` is of type {}, rather than `str`.\".format(type(month_str))\n",
    "    assert re.match(r'\\d{4}-\\d{2}$', month_str), \"`month_str == '{}'` is invalid.\".format(month_str)\n",
    "    assert all([date in disapprovals for date in approvals]), \"`disapprovals` is missing dates that appear in `approvals`.\"\n",
    "    assert all([date in approvals for date in disapprovals]), \"`approvals` is missing dates that appear in `disapprovals`.\"\n",
    "    ###\n",
    "    dates = set(list(approvals.keys()))\n",
    "    newdates = filter_dates_by_month(month_str, dates)\n",
    "    s = 0\n",
    "    for day in newdates:\n",
    "        s += approvals[day] - disapprovals[day]\n",
    "    return s/len(newdates)\n",
    "    \n",
    "    \n",
    "    ###\n",
    "\n",
    "for month in ['2017-01', '2018-09']:\n",
    "    disc = avg_discrepancy_in_month(month, approvals, disapprovals)\n",
    "    print(\"Average daily discrepancy for {}: {}\".format(month, disc))"
   ]
  },
  {
   "cell_type": "code",
   "execution_count": 15,
   "metadata": {
    "deletable": false,
    "editable": false,
    "nbgrader": {
     "grade": true,
     "grade_id": "test__avg_discrepancy_in_month__0",
     "locked": true,
     "points": "1",
     "solution": false
    }
   },
   "outputs": [
    {
     "name": "stdout",
     "output_type": "stream",
     "text": [
      "\n",
      "(Passed!)\n"
     ]
    }
   ],
   "source": [
    "# Test cell: test__avg_discrepancy_in_month__0 (1 point)\n",
    "\n",
    "import math\n",
    "for month, disc_true in [('2017-01', 2.799275555555555), ('2018-09', -14.008344999999997)]:\n",
    "    disc = avg_discrepancy_in_month(month, approvals, disapprovals)\n",
    "    assert math.isclose(disc, disc_true, abs_tol=1e-2), \\\n",
    "           \"Your average daily discrepancy is {} instead of {}.\".format(disc, disc_true)\n",
    "    \n",
    "print(\"\\n(Passed!)\")"
   ]
  },
  {
   "cell_type": "code",
   "execution_count": 16,
   "metadata": {
    "deletable": false,
    "editable": false,
    "nbgrader": {
     "grade": true,
     "grade_id": "test__avg_discrepancy_in_month__1__HIDDEN",
     "locked": true,
     "points": "2",
     "solution": false
    }
   },
   "outputs": [
    {
     "name": "stdout",
     "output_type": "stream",
     "text": [
      "[('2017-02', -5.236897857142858), ('2017-03', -7.590843548387097), ('2017-04', -11.404569), ('2017-05', -13.227069354838711), ('2017-06', -16.525405666666668), ('2017-07', -16.39675064516129), ('2017-08', -19.508681612903224), ('2017-09', -16.797917), ('2017-10', -18.355616129032256), ('2017-11', -17.916010999999994), ('2017-12', -19.313219354838708), ('2018-01', -16.359479999999998), ('2018-02', -13.414909642857141), ('2018-03', -13.186816129032259), ('2018-04', -13.382937666666669), ('2018-05', -10.298456774193546), ('2017-06', -16.525405666666668), ('2018-07', -11.030132580645164), ('2018-08', -11.177329354838706)]\n",
      "\n",
      "(Passed!)\n"
     ]
    }
   ],
   "source": [
    "# Test cell: test__avg_discrepancy_in_month__1__HIDDEN (2 points)\n",
    "\n",
    "all_complete_months = ['2017-02', '2017-03', '2017-04', '2017-05', '2017-06', '2017-07', '2017-08', '2017-09',\n",
    "                       '2017-10', '2017-11', '2017-12', '2018-01', '2018-02', '2018-03', '2018-04', '2018-05',\n",
    "                       '2017-06', '2018-07', '2018-08']\n",
    "\n",
    "if False: # Generate solutions\n",
    "    solutions = [(month, avg_discrepancy_in_month(month, approvals, disapprovals)) for month in all_complete_months]\n",
    "else: # Assume solutions\n",
    "    solutions = [('2017-02', -5.236897857142858), ('2017-03', -7.590843548387097), ('2017-04', -11.404569), ('2017-05', -13.227069354838711), ('2017-06', -16.525405666666668), ('2017-07', -16.39675064516129), ('2017-08', -19.508681612903224), ('2017-09', -16.797917), ('2017-10', -18.355616129032256), ('2017-11', -17.916010999999994), ('2017-12', -19.313219354838708), ('2018-01', -16.359479999999998), ('2018-02', -13.414909642857141), ('2018-03', -13.186816129032259), ('2018-04', -13.382937666666669), ('2018-05', -10.298456774193546), ('2017-06', -16.525405666666668), ('2018-07', -11.030132580645164), ('2018-08', -11.177329354838706)]\n",
    "print(solutions)\n",
    "\n",
    "import math\n",
    "for month, disc_true in solutions:\n",
    "    disc = avg_discrepancy_in_month(month, approvals, disapprovals)\n",
    "    assert math.isclose(disc, disc_true, abs_tol=1e-2), \\\n",
    "           \"Your average daily discrepancy is {} instead of {}.\".format(disc, disc_true)\n",
    "\n",
    "print(\"\\n(Passed!)\")"
   ]
  },
  {
   "cell_type": "markdown",
   "metadata": {
    "deletable": false,
    "editable": false,
    "nbgrader": {
     "grade": false,
     "locked": true,
     "solution": false
    }
   },
   "source": [
    "**Fin!** Remember to test your solutions by running them as the autograder will: restart the kernel and run all cells from \"top-to-bottom.\" Also remember to submit to the autograder; otherwise, you will **not** get credit for your hard work!"
   ]
  }
 ],
 "metadata": {
  "kernelspec": {
   "display_name": "Python 3.7",
   "language": "python",
   "name": "python3"
  },
  "language_info": {
   "codemirror_mode": {
    "name": "ipython",
    "version": 3
   },
   "file_extension": ".py",
   "mimetype": "text/x-python",
   "name": "python",
   "nbconvert_exporter": "python",
   "pygments_lexer": "ipython3",
   "version": "3.7.5"
  }
 },
 "nbformat": 4,
 "nbformat_minor": 2
}
