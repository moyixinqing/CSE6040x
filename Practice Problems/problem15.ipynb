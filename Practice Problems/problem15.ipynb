{
 "cells": [
  {
   "cell_type": "markdown",
   "metadata": {
    "deletable": false,
    "editable": false,
    "nbgrader": {
     "grade": false,
     "locked": true,
     "solution": false
    }
   },
   "source": [
    "# Problem 15: Hidden Test Demo\n",
    "\n",
    "Unlike the other problems in this suite, this problem is not a real test problem, but rather a demonstration of how \"hidden test cells\" will work on an assignment of exam.\n",
    "\n",
    "This demo consists of a single exercise. It is followed by two test cells: one that you can see and use for debugging, and a \"hidden\" one, which you never get to see. (The autograder runs it and will give you some information back on whether the test case passed or not, but otherwise, you get no information.)"
   ]
  },
  {
   "cell_type": "markdown",
   "metadata": {
    "deletable": false,
    "editable": false,
    "nbgrader": {
     "grade": false,
     "locked": true,
     "solution": false
    }
   },
   "source": [
    "**Exercise 0** (10 points: 5 points \"exposed\" and 5 points hidden). Let $n$ be an integer value, and let $F(n)$ denote the $n$-th value of the Fibonacci sequence (or \"$n$-th Fibonacci number\"). The basic recursive definition is that $F(n) = F(n-1) + F(n-2)$. For example,\n",
    "\n",
    "* `eval_fib(1) == 1`,\n",
    "* `eval_fib(2) == 1`,\n",
    "* `eval_fib(3) == eval_fib(2) + eval_fib(1) == 1 + 1 == 2`,\n",
    "* `eval_fib(4) == eval_fib(3) + eval_fib(2) == 2 + 1 == 3`,\n",
    "* `eval_fib(5) == eval_fib(4) + eval_fib(3) == 3 + 2 == 5`,\n",
    "* `eval_fib(6) == eval_fib(5) + eval_fib(4) == 5 + 3 == 8`,\n",
    "* and so on.\n",
    "\n",
    "Here is a more precise and complete mathematical definition:\n",
    "\n",
    "$$\n",
    "F(n) = \\left\\{ \\begin{array}{cl}\n",
    "           0 & n \\leq 0 \\\\\n",
    "           1 & n = 1 \\\\\n",
    "           F(n-1) + F(n-2) & n \\geq 2\n",
    "       \\end{array} \\right..\n",
    "$$\n",
    "\n",
    "Complete the function below, `eval_fib(n)`, so that it computes the `n`-th Fibonacci number. For instance, `eval_fib(1) == 1`, `eval_fib(2) == 1`"
   ]
  },
  {
   "cell_type": "code",
   "execution_count": 1,
   "metadata": {},
   "outputs": [
    {
     "name": "stdout",
     "output_type": "stream",
     "text": [
      "eval_fib(1) == 1\n",
      "eval_fib(2) == 1\n",
      "eval_fib(3) == 2\n",
      "eval_fib(4) == 3\n",
      "eval_fib(5) == 5\n",
      "eval_fib(6) == 8\n"
     ]
    }
   ],
   "source": [
    "def eval_fib(n):\n",
    "    assert isinstance(n, int)\n",
    "###\n",
    "    \n",
    "    if n == 1: \n",
    "        return 1\n",
    "    elif  n <= 0:\n",
    "            return 0\n",
    "    while n >=2:\n",
    "        return eval_fib(n-1) +eval_fib(n-2)\n",
    "###\n",
    "    \n",
    "# Demo:\n",
    "for n in range(1, 7):\n",
    "    print(f\"eval_fib({n}) == {eval_fib(n)}\")"
   ]
  },
  {
   "cell_type": "code",
   "execution_count": 2,
   "metadata": {
    "deletable": false,
    "editable": false,
    "nbgrader": {
     "grade": true,
     "grade_id": "exposed_test",
     "locked": true,
     "points": "5",
     "solution": false
    },
    "scrolled": true
   },
   "outputs": [
    {
     "name": "stdout",
     "output_type": "stream",
     "text": [
      "Checking n=3...\n",
      "==> You computed 2.\n",
      "Checking n=4...\n",
      "==> You computed 3.\n",
      "Checking n=5...\n",
      "==> You computed 5.\n",
      "Checking n=6...\n",
      "==> You computed 8.\n",
      "Checking n=7...\n",
      "==> You computed 13.\n",
      "Checking n=8...\n",
      "==> You computed 21.\n",
      "Checking n=9...\n",
      "==> You computed 34.\n",
      "\n",
      "(Passed!)\n"
     ]
    }
   ],
   "source": [
    "# Test: `exposed_test`\n",
    "\n",
    "# Per: https://en.wikipedia.org/wiki/Fibonacci_number#Identification\n",
    "def is_fib(x):\n",
    "    def is_perfsq(x):\n",
    "        from math import sqrt\n",
    "        r = int(sqrt(x))\n",
    "        return x == r*r\n",
    "    option_0 = 5*(x**2) + 4\n",
    "    option_1 = option_0 - 8\n",
    "    return is_perfsq(option_0) or is_perfsq(option_1)\n",
    "\n",
    "assert eval_fib(1) == 1, f\"eval_fib(1) == 1, not {eval_fib(1)}.\"\n",
    "assert eval_fib(2) == 1, f\"eval_fib(2) == 1, not {eval_fib(2)}.\"\n",
    "fib_values = [1, 1]\n",
    "for n in range(3, 10):\n",
    "    print(f\"Checking n={n}...\")\n",
    "    F_n = eval_fib(n)\n",
    "    print(f\"==> You computed {F_n}.\")\n",
    "    assert F_n, f\"Error: {F_n} is not even a Fibonacci number!\"\n",
    "    if n >= 2:\n",
    "        assert F_n == fib_values[-1] + fib_values[-2], f\"Error: {F_n} is a Fibonacci number, but it isn't the {n}-th one.\"\n",
    "    fib_values.append(F_n)\n",
    "        \n",
    "print(\"\\n(Passed!)\")"
   ]
  },
  {
   "cell_type": "code",
   "execution_count": 3,
   "metadata": {
    "deletable": false,
    "editable": false,
    "nbgrader": {
     "grade": true,
     "grade_id": "hidden_test",
     "locked": true,
     "points": "5",
     "solution": false
    }
   },
   "outputs": [
    {
     "name": "stdout",
     "output_type": "stream",
     "text": [
      "\n",
      "This test cell will be replaced with one or more hidden tests.\n",
      "You will only know the result after submitting to the autograder.\n",
      "If the autograder times out, then either your solution is highly\n",
      "inefficient or contains a bug (e.g., an infinite loop).\n",
      "\n"
     ]
    }
   ],
   "source": [
    "# Test: `hidden_test`\n",
    "\n",
    "print(\"\"\"\n",
    "This test cell will be replaced with one or more hidden tests.\n",
    "You will only know the result after submitting to the autograder.\n",
    "If the autograder times out, then either your solution is highly\n",
    "inefficient or contains a bug (e.g., an infinite loop).\n",
    "\"\"\")\n",
    "\n",
    "###\n",
    "### AUTOGRADER TEST - DO NOT REMOVE\n",
    "###\n"
   ]
  },
  {
   "cell_type": "markdown",
   "metadata": {},
   "source": [
    "**Fin!** This cell marks the end of the notebook. Remember, there is a test cell with a hidden test, so the only way to know if you get full credit is to submit your notebook to the autograder."
   ]
  }
 ],
 "metadata": {
  "kernelspec": {
   "display_name": "Python 3.7",
   "language": "python",
   "name": "python3"
  },
  "language_info": {
   "codemirror_mode": {
    "name": "ipython",
    "version": 3
   },
   "file_extension": ".py",
   "mimetype": "text/x-python",
   "name": "python",
   "nbconvert_exporter": "python",
   "pygments_lexer": "ipython3",
   "version": "3.7.5"
  }
 },
 "nbformat": 4,
 "nbformat_minor": 2
}
