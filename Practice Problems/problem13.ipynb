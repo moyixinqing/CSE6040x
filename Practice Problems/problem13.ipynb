{
 "cells": [
  {
   "cell_type": "markdown",
   "metadata": {
    "deletable": false,
    "editable": false,
    "nbgrader": {
     "grade": false,
     "locked": true,
     "solution": false
    }
   },
   "source": [
    "# Problem 13: Regular Expressions and Sentiment Analysis\n",
    "\n",
    "In this problem, you will implement regular expressions and perform sentiment analysis on movie review data.\n",
    "\n",
    "This problem has 3 exercises, numbered 0 through 2 and worth a total of 10 points. Note that Exercises 1 and 2 do not depend on Exercise 0, in case you get stuck on that first one."
   ]
  },
  {
   "cell_type": "markdown",
   "metadata": {
    "deletable": false,
    "editable": false,
    "nbgrader": {
     "grade": false,
     "locked": true,
     "solution": false
    }
   },
   "source": [
    "## Overview\n",
    "\n",
    "Suppose you are given a collection of textual movie reviews, such as those collected by the [Internet Movie Database (IMDB)](http://www.imdb.com) or [Rotten Tomatoes](https://www.rottentomatoes.com/). In the next set of exercises, you will implement a simple _sentiment analysis_ of these reviews. Such an analysis inspects the words in the review and tries to determine whether the review is \"positive\" or \"negative.\"\n",
    "\n",
    "> What you will implement is a simplified version of an idea originally proposed in the research article, \"[Mining and summarizing customer reviews](https://www.cs.uic.edu/~liub/publications/kdd04-revSummary.pdf),\" by Minqing Hu and Bing Liu, which appears in the _Proceedings of the ACM SIGKDD International Conference on Knowledge Discovery and Data Mining (KDD)_, Aug 22-25, 2004."
   ]
  },
  {
   "cell_type": "markdown",
   "metadata": {
    "deletable": false,
    "editable": false,
    "nbgrader": {
     "grade": false,
     "locked": true,
     "solution": false
    }
   },
   "source": [
    "## The dataset\n",
    "\n",
    "The dataset for this problem consists of 50 movie reviews. **Each review is stored in its own text file.** Your task is to process the files, analyze each review based on the rules below, and return top 5 positive reviews.\n",
    "\n",
    "Along with the reviews, there are two more files:\n",
    "1. `positive.txt`: A collection of 2005 positive words \n",
    "2. `negative.txt`: A collection of 4783 negative words\n",
    "\n",
    "The analysis you will implement is based on the following simple idea. Given a review, count the number of its words that are positive and negative. The overall sentiment score will simply be the difference between the positive word count and the negative word count.\n",
    "\n",
    "> This scheme makes many simplifying assumptions, like words having equal weight, repeated words being counted multiple times, and no normalization for review length, but for now just take the scheme as-is."
   ]
  },
  {
   "cell_type": "markdown",
   "metadata": {
    "deletable": false,
    "editable": false,
    "nbgrader": {
     "grade": false,
     "locked": true,
     "solution": false
    }
   },
   "source": [
    "Before starting, please run the following code to set up positive words list `positive_words` and negative words list `negative_words`. This code cell will also print the filenames of 10 of the 50 reviews (i.e., `review_list[0:10]`).\n",
    "\n",
    "> The code below will only work when running on Vocareum. If you opt to work on the local problem on your local machine, the following is [a link to the dataset](https://cse6040.gatech.edu/datasets/movie-reviews.zip), but you will need to figure out how to adapt the code below to work in your local envirionment. (We will **not** provide any technical support.)"
   ]
  },
  {
   "cell_type": "code",
   "execution_count": 1,
   "metadata": {
    "nbgrader": {
     "grade": false,
     "locked": false,
     "solution": false
    }
   },
   "outputs": [
    {
     "name": "stdout",
     "output_type": "stream",
     "text": [
      "Here is a sample of 10 of the review filenames:\n"
     ]
    },
    {
     "data": {
      "text/plain": [
       "['review_11949_3.txt',\n",
       " 'review_334_10.txt',\n",
       " 'review_8564_2.txt',\n",
       " 'review_244_10.txt',\n",
       " 'review_5357_8.txt',\n",
       " 'review_8468_3.txt',\n",
       " 'review_3905_1.txt',\n",
       " 'review_50_10.txt',\n",
       " 'review_237_1.txt',\n",
       " 'review_8561_3.txt']"
      ]
     },
     "execution_count": 1,
     "metadata": {},
     "output_type": "execute_result"
    }
   ],
   "source": [
    "import os\n",
    "\n",
    "DATA_PATH = \"./resource/asnlib/publicdata/data/\"\n",
    "\n",
    "# Get a list of positive words: positive_words\n",
    "with open(DATA_PATH + \"positive.txt\") as fp:\n",
    "    positive_words = set(fp.read().splitlines())\n",
    "\n",
    "# Get a list of negative words: negative_words\n",
    "with open(DATA_PATH + \"negative.txt\") as fp:\n",
    "    negative_words = set(fp.read().splitlines())\n",
    "\n",
    "assert len(positive_words) == 2005, \"The file containing positive words may have been corrupted!\"\n",
    "assert len(negative_words) == 4783, \"The file containing negative words may have been corrupted!\"\n",
    "\n",
    "# A list of names for the 50 review files\n",
    "PATH = DATA_PATH + \"reviews\"\n",
    "review_list = os.listdir(PATH)\n",
    "\n",
    "# See the name of 10 review files\n",
    "print(\"Here is a sample of 10 of the review filenames:\")\n",
    "review_list[0:10]"
   ]
  },
  {
   "cell_type": "markdown",
   "metadata": {
    "deletable": false,
    "editable": false,
    "nbgrader": {
     "grade": false,
     "locked": true,
     "solution": false
    }
   },
   "source": [
    "## Review preprocessing\n",
    "\n",
    "To help clean up the review data, your friend has written a function, `clean_text(s)`, that converts an input string `s` into a list of words. Here is your friend's code (run this cell):"
   ]
  },
  {
   "cell_type": "code",
   "execution_count": 2,
   "metadata": {
    "collapsed": true,
    "deletable": false,
    "editable": false,
    "nbgrader": {
     "grade": false,
     "locked": true,
     "solution": false
    }
   },
   "outputs": [],
   "source": [
    "def next_char(input_string, offset):\n",
    "    assert type(input_string) is str and type(offset) is int and offset >= 0\n",
    "    return input_string[offset+1] if offset+1 < len(input_string) else ''\n",
    "\n",
    "def append_char(input_string, new_char):\n",
    "    assert (input_string is None or type(input_string) is str) and type(new_char) is str\n",
    "    return ('' if input_string is None else input_string) + new_char\n",
    "\n",
    "def clean_text(s):\n",
    "    words = []\n",
    "    new_word = None\n",
    "    hyphen_or_apostrophe_count = 0\n",
    "    for k, c in enumerate(s):\n",
    "        # Determine an action to take based on `c`, which is `s[k]`\n",
    "        action = None\n",
    "        if c.isalnum():\n",
    "            action = 'append'\n",
    "        elif c in ['-', \"'\"]:\n",
    "            if new_word is not None and hyphen_or_apostrophe_count == 0 and next_char(s, k).isalnum():\n",
    "                action = 'append'\n",
    "                hyphen_or_apostrophe_count = 1\n",
    "        action = action or 'skip_and_start_new_word'\n",
    "\n",
    "        # Take the action\n",
    "        assert action in ['append', 'skip_and_start_new_word']\n",
    "        if action == 'append':\n",
    "            new_word = append_char(new_word, c)\n",
    "        else: # action == 'skip_and_start_new_word'\n",
    "            if new_word is not None:\n",
    "                words.append(new_word.lower())\n",
    "            new_word = None\n",
    "            hyphen_or_apostrophe_count = 0\n",
    "    return words"
   ]
  },
  {
   "cell_type": "markdown",
   "metadata": {
    "deletable": false,
    "editable": false,
    "nbgrader": {
     "grade": false,
     "locked": true,
     "solution": false
    }
   },
   "source": [
    "Here is what it produces on a sample input (run this cell):"
   ]
  },
  {
   "cell_type": "code",
   "execution_count": 3,
   "metadata": {
    "deletable": false,
    "editable": false,
    "nbgrader": {
     "grade": false,
     "locked": true,
     "solution": false
    }
   },
   "outputs": [
    {
     "name": "stdout",
     "output_type": "stream",
     "text": [
      "=== Output of your friend's code: ===\n",
      "\n",
      "['this', 'film', 'is', 'based', 'on', 'isabel', \"allende's\", 'not-so', 'much-better', 'novel', 'i', 'hate', 'meryl', 'streep', 'and', 'antonio', 'banderas', 'in', 'non-spanish', 'films', 'and', 'the', 'other', 'actors', 'including', 'winona', 'my', 'favourite', 'actress', 'and', 'jeremy', 'irons', 'try', 'hard', 'to', 'get', 'over', 'such', 'a', 'terrible', 'script']\n",
      "\n"
     ]
    }
   ],
   "source": [
    "sample_input = \"\"\"\n",
    "This film is based on Isabel Allende's not-so-much-better novel. I hate Meryl\n",
    "Streep and Antonio Banderas (in non-Spanish films), and the other actors,\n",
    "including Winona, my favourite actress and Jeremy Irons try hard to get over\n",
    "such a terrible script.\n",
    "\"\"\"\n",
    "\n",
    "sample_output = clean_text(sample_input)\n",
    "print(\"=== Output of your friend's code: ===\\n\\n{}\\n\".format(sample_output))"
   ]
  },
  {
   "cell_type": "markdown",
   "metadata": {
    "deletable": false,
    "editable": false,
    "nbgrader": {
     "grade": false,
     "locked": true,
     "solution": false
    }
   },
   "source": [
    "Observe the following properties about your friend's code.\n",
    "\n",
    "1. It scans the input string `s` from left-to-right, one character at a time, building words as it goes.\n",
    "2. It ensures that a word can only begin and end with a single letter or number.\n",
    "3. It allows at most one hyphen (`\"-\"`) **or** one apostrophe (`\"'\"`) in a word, but no more than one of these per word.\n",
    "4. It starts a new word whenever items (2) and (3) above would be violated or whenever it encounters any character that is not alphanumeric, a hyphen, or an apostrophe.\n",
    "\n",
    "If you inspect the output closely, you'll see that the input string `\"not-so-much-better\"` becomes `[\"not-so\", \"much-better\"]`. You might trace through the code to see why that happens."
   ]
  },
  {
   "cell_type": "markdown",
   "metadata": {
    "deletable": false,
    "editable": false,
    "nbgrader": {
     "grade": false,
     "locked": true,
     "solution": false
    }
   },
   "source": [
    "**Exercise 0** (5 points). Come up with a regular expression pattern that can compute the same result as your friend's function when called in the following way:\n",
    "\n",
    "```python\n",
    "    # YOU define your pattern:\n",
    "    your_regex_pattern = r'...'\n",
    "    \n",
    "    # And calling `re.findall()` as follows will match your friend's code:\n",
    "    assert re.findall(your_regex_pattern, sample_input.lower(), re.VERBOSE) == clean_text(sample_input)\n",
    "```\n",
    "\n",
    "This problem is tricky! To get it right, you need to be able to read and reason about what the Python code does and understand how regular expressions work to come up with a valid solution."
   ]
  },
  {
   "cell_type": "code",
   "execution_count": 4,
   "metadata": {},
   "outputs": [
    {
     "name": "stdout",
     "output_type": "stream",
     "text": [
      ">>> Your chosen regex pattern: [a-zA-Z0-9_]+[\\-']?[a-zA-Z0-9_]+|[a-zA-Z0-9_]+\n",
      "\n",
      ">>> Recall what your friend's code produced:\n",
      "['this', 'film', 'is', 'based', 'on', 'isabel', \"allende's\", 'not-so', 'much-better', 'novel', 'i', 'hate', 'meryl', 'streep', 'and', 'antonio', 'banderas', 'in', 'non-spanish', 'films', 'and', 'the', 'other', 'actors', 'including', 'winona', 'my', 'favourite', 'actress', 'and', 'jeremy', 'irons', 'try', 'hard', 'to', 'get', 'over', 'such', 'a', 'terrible', 'script']\n",
      "\n",
      ">>> Here is what your regex produces on the sample sentence from above:\n",
      "['this', 'film', 'is', 'based', 'on', 'isabel', \"allende's\", 'not-so', 'much-better', 'novel', 'i', 'hate', 'meryl', 'streep', 'and', 'antonio', 'banderas', 'in', 'non-spanish', 'films', 'and', 'the', 'other', 'actors', 'including', 'winona', 'my', 'favourite', 'actress', 'and', 'jeremy', 'irons', 'try', 'hard', 'to', 'get', 'over', 'such', 'a', 'terrible', 'script']\n"
     ]
    }
   ],
   "source": [
    "import re\n",
    "\n",
    "# Define a variable named `your_regex_pattern` containing your solution.\n",
    "\n",
    "###\n",
    "your_regex_pattern = r\"[a-zA-Z0-9_]+[\\-']?[a-zA-Z0-9_]+|[a-zA-Z0-9_]+\"\n",
    "\n",
    "\n",
    "\n",
    "###\n",
    "\n",
    "# The following will demo your solution:\n",
    "sample_output_regex = re.findall(your_regex_pattern, sample_input.lower(), re.VERBOSE)\n",
    "print(\">>> Your chosen regex pattern: {}\\n\".format(your_regex_pattern))\n",
    "print(\">>> Recall what your friend's code produced:\\n{}\\n\".format(sample_output))\n",
    "print(\">>> Here is what your regex produces on the sample sentence from above:\\n{}\".format(sample_output_regex))"
   ]
  },
  {
   "cell_type": "code",
   "execution_count": 5,
   "metadata": {
    "deletable": false,
    "editable": false,
    "nbgrader": {
     "grade": true,
     "grade_id": "test_clean_text",
     "locked": true,
     "points": "5",
     "solution": false
    }
   },
   "outputs": [
    {
     "name": "stdout",
     "output_type": "stream",
     "text": [
      "\n",
      "(Passed!)\n"
     ]
    }
   ],
   "source": [
    "# Test cell: `test_clean_text` (5 points)\n",
    "\n",
    "def clean_text_regex(s):\n",
    "    assert type(s) is str\n",
    "    return re.findall(your_regex_pattern, s.lower(), re.VERBOSE)\n",
    "\n",
    "for review_id in ['8_7', '144_2', '3905_1']:\n",
    "    review_file = DATA_PATH + \"reviews/review_{}.txt\".format(review_id)\n",
    "    with open(review_file) as fp:\n",
    "        review_text = fp.read()\n",
    "    cleaned_text = clean_text(review_text)\n",
    "    cleaned_text_regex = clean_text_regex(review_text)\n",
    "    assert cleaned_text == cleaned_text_regex, \\\n",
    "           \"[{}] Your friend's results do not match yours: {}\".format(review_file,\n",
    "                                                                    list(zip(cleaned_text, cleaned_text_regex)))\n",
    "\n",
    "print(\"\\n(Passed!)\")"
   ]
  },
  {
   "cell_type": "markdown",
   "metadata": {
    "deletable": false,
    "editable": false,
    "nbgrader": {
     "grade": false,
     "locked": true,
     "solution": false
    }
   },
   "source": [
    "**Exercise 1** (2 points). Complete the function, `score_text(clean_text)`, below. The input is a cleaned text, that is, a list of words converted from a string using the `clean_text()` function. It should return the score of the text, given the positive and negative word lists (the global variables, `positive_words` and `negative_words`, defined previously).\n",
    "\n",
    "Here is how to calculate a sentiment score:\n",
    "\n",
    "- Let `positive_score` be the number of words in the cleaned text that are also in `positive_words` list.\n",
    "- Let `negative_score` be the number of words in the cleaned text that are also in `negative_words` list.\n",
    "- The sentiment score is `positive_score - negative_score`.\n",
    "\n",
    "> The test cells below will use your friend's implementation of `clean_text()`, **not** your regular expression. So if you don't have a working solution for Exercise 0, you can still attempt Exercises 1 and 2."
   ]
  },
  {
   "cell_type": "code",
   "execution_count": 6,
   "metadata": {
    "collapsed": true
   },
   "outputs": [],
   "source": [
    "def score_text(cleaned_text):\n",
    "    assert type(cleaned_text) is list\n",
    "    ###\n",
    "    p = 0\n",
    "    n = 0\n",
    "    for x in cleaned_text:\n",
    "        if x in list(positive_words):\n",
    "            p+=1\n",
    "        elif x in list(negative_words):\n",
    "            n+=1\n",
    "    return p-n\n",
    "    \n",
    "    ###\n"
   ]
  },
  {
   "cell_type": "code",
   "execution_count": 7,
   "metadata": {
    "deletable": false,
    "editable": false,
    "nbgrader": {
     "grade": true,
     "grade_id": "test_score_text",
     "locked": true,
     "points": "2",
     "solution": false
    }
   },
   "outputs": [
    {
     "name": "stdout",
     "output_type": "stream",
     "text": [
      "\n",
      "(Passed!)\n"
     ]
    }
   ],
   "source": [
    "# Test cell: `test_score_text` (2 points)\n",
    "\n",
    "for review_id, score_soln in [('8_7', 0), ('144_2', -8), ('3905_1', -8)]:\n",
    "    review_file = DATA_PATH + \"reviews/review_{}.txt\".format(review_id)\n",
    "    with open(review_file) as fp:\n",
    "        review_text = fp.read()\n",
    "    cleaned_text = clean_text(review_text)\n",
    "    score = score_text(cleaned_text)\n",
    "    assert score == score_soln, \"[{}] Your score (={}) does not match the true solution (={}).\".format(review_file,\n",
    "                                                                                                       score,\n",
    "                                                                                                       score_soln)\n",
    "print('\\n(Passed!)')"
   ]
  },
  {
   "cell_type": "markdown",
   "metadata": {
    "deletable": false,
    "editable": false,
    "nbgrader": {
     "grade": false,
     "locked": true,
     "solution": false
    }
   },
   "source": [
    "**Exercise 2** (3 points). Complete a function `top_score_files(path)`, below. To help you out, we are giving you all of the lines of code you will need. Therefore, solving the problem is then just a matter of putting them in the right order **and**, since it's Python, with the right level of indentation for each statement.\n",
    "\n",
    "Regarding the function's input (`path`) and return value, here is what you need to know.\n",
    "\n",
    "* The `path` variable is the name of a file directory containing all 50 review files. Therefore, the function will need to iterate over all the review files in that directory. As a hint, observe that the code cell imports the `os` module and that one of the lines of code calls `os.listdir(path)`.\n",
    "* Your function should return a **list of dictionaries**. Each entry of the list corresponds to a review, and the list should be sorted in **descending** order of score (i.e., from most positive at entry 0 to most negative in the last entry).\n",
    "* Furthermore, each list entry must be a **dictionary**. Each dictionary should have the form, `{'filename': ..., 'score': ...}`. In other words, there are two keys (`'filename'` and `'score'`) whose values are the name of the review file and score as would be computed by `score_text()`.\n",
    "\n",
    "With that as background, here is the code you need to unscramble.\n",
    "\n",
    "```python\n",
    "final_scores.append(dic)\n",
    "return newlist[0:5]\n",
    "final_scores = []\n",
    "file_score = score_text(clean_text(file))\n",
    "dic = {'filename': f, 'score': file_score}\n",
    "file = fp.read()\n",
    "with open(path + \"/\" + f) as fp:\n",
    "newlist = sorted(final_scores, key=lambda k: k['score'], reverse=True)\n",
    "for f in os.listdir(path):\n",
    "```\n",
    "\n",
    "> You can, of course, also write your own implementation from scratch. But if you use the lines we've provided above, you are guaranteed that a solution exists using exactly those lines."
   ]
  },
  {
   "cell_type": "code",
   "execution_count": 8,
   "metadata": {
    "collapsed": true
   },
   "outputs": [],
   "source": [
    "import os\n",
    "\n",
    "def top_score_files(path):\n",
    "    # Unscramble the given lines and put them in the right order,\n",
    "    # with the right indentation, below.\n",
    "    ###\n",
    "    final_scores = []\n",
    "    for f in os.listdir(path):\n",
    "        with open(path + \"/\" + f) as fp:\n",
    "                file = fp.read()\n",
    "        file_score = score_text(clean_text(file))\n",
    "\n",
    "        dic = {'filename': f, 'score': file_score}\n",
    "\n",
    "        final_scores.append(dic)\n",
    "    newlist = sorted(final_scores, key=lambda k: k['score'], reverse=True)\n",
    "    return newlist[0:5]\n",
    "\n",
    "\n",
    "\n",
    "\n",
    "\n",
    "    \n",
    "    \n",
    "    \n",
    "    ###\n"
   ]
  },
  {
   "cell_type": "code",
   "execution_count": 9,
   "metadata": {
    "deletable": false,
    "editable": false,
    "nbgrader": {
     "grade": true,
     "grade_id": "test_top_score_files",
     "locked": true,
     "points": "3",
     "solution": false
    }
   },
   "outputs": [
    {
     "name": "stdout",
     "output_type": "stream",
     "text": [
      "\n",
      "(Passed!)\n"
     ]
    }
   ],
   "source": [
    "# Test cell: `test_top_score_files` (3 points)\n",
    "\n",
    "path = DATA_PATH + \"reviews\"\n",
    "test = top_score_files(path)\n",
    "assert type(test) is list\n",
    "assert len(test) == 5\n",
    "assert test[0] == {'filename': 'review_6681_10.txt', 'score': 17}\n",
    "assert test[1] == {'filename': 'review_6686_9.txt', 'score': 11}\n",
    "assert test[2] == {'filename': 'review_5407_7.txt', 'score': 10}\n",
    "assert test[3] == {'filename': 'review_8561_3.txt', 'score': 8} or test[3] == {'filename': 'review_334_10.txt', 'score': 8}\n",
    "assert test[4] == {'filename': 'review_8561_3.txt', 'score': 8} or test[4] == {'filename': 'review_334_10.txt', 'score': 8}\n",
    "\n",
    "print('\\n(Passed!)')"
   ]
  },
  {
   "cell_type": "markdown",
   "metadata": {
    "deletable": false,
    "editable": false,
    "nbgrader": {
     "grade": false,
     "locked": true,
     "solution": false
    }
   },
   "source": [
    "**Fin!** Remember to test your solutions by running them as the autograder will: restart the kernel and run all cells from \"top-to-bottom.\" Also remember to submit to the autograder; otherwise, you will **not** get credit for your hard work!"
   ]
  }
 ],
 "metadata": {
  "kernelspec": {
   "display_name": "Python 3.7",
   "language": "python",
   "name": "python3"
  },
  "language_info": {
   "codemirror_mode": {
    "name": "ipython",
    "version": 3
   },
   "file_extension": ".py",
   "mimetype": "text/x-python",
   "name": "python",
   "nbconvert_exporter": "python",
   "pygments_lexer": "ipython3",
   "version": "3.7.5"
  }
 },
 "nbformat": 4,
 "nbformat_minor": 2
}
