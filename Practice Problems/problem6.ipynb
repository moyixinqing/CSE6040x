{
 "cells": [
  {
   "cell_type": "markdown",
   "metadata": {
    "deletable": false,
    "editable": false,
    "nbgrader": {
     "grade": false,
     "locked": true,
     "solution": false
    }
   },
   "source": [
    "# Problem 6: Hash Tables"
   ]
  },
  {
   "cell_type": "markdown",
   "metadata": {
    "deletable": false,
    "editable": false,
    "nbgrader": {
     "grade": false,
     "locked": true,
     "solution": false
    }
   },
   "source": [
    "You've used Python's `dict` data type extensively now. Recall that it maps keys to values. But how is it implemented under-the-hood? One way is via a classic computer science technique known as a **hash table**.\n",
    "\n",
    "For our purposes, a hash table has two parts:\n",
    "\n",
    "1. A list of **buckets**. The buckets are stored in a Python `list` of a certain maximum size. Each bucket has a **bucket ID**, which is its position in the list of buckets. Each bucket is itself _another_ Python list, which will hold the values. But more on that detail later (under **Collisions**, below).\n",
    "2. A **hash function**, which converts any given key into the bucket ID in which it belongs. We'll sometimes refer to the output of the hash function as the **hash value** of the given key.\n",
    "\n",
    "The hash function is usually decomposed into two steps. The first step converts the key into some non-negative integer, which may be very large. So, we can take this large integer _modulo_ the number of buckets, to get a valid bucket ID. (Recall that $a$ modulo $b$ means the remainder after dividing $a$ by $b$, which in Python you can compute using the `%` operator.)"
   ]
  },
  {
   "cell_type": "markdown",
   "metadata": {},
   "source": [
    "In this problem, you will implement a hash table that maps names (the keys, given as strings) to phone numbers (the values). You may find it helpful to keep the following image in mind when reasoning about how a hash table works. First, suppose you have 16 `buckets`:\n",
    "\n",
    "![alt text](https://upload.wikimedia.org/wikipedia/commons/7/7d/Hash_table_3_1_1_0_1_0_0_SP.svg \"Hash Table add() Function\")\n",
    "\n",
    "Further suppose that the first step of our hash function calculates the value of 124,722 for the key, `John Smith`. We would then take this value `modulo 16`, the size of `buckets`, and are left with the bucket ID of `124722 % 16 == 2`. We put John's information in this bucket, which is location 2 in our list of buckets.\n",
    "\n",
    "What is the motivation for this scheme? **If** the hash function does a good job of spreading out keys among the buckets, then the average time it takes to find a value into the hash table will be proportional to the average bucket size, rather than being proportional to the size of the entire list. And if we have enough buckets, then each bucket will (hopefully) be small, so that searching the bucket will be fast even if we use brute force.\n",
    "\n",
    "> *One detail.* Unlike the image above, in this problem you will store *both* the key and value into the hash table. That is, you will be inserting `(key, value)` pairs into the buckets, instead of just the value as shown in the illustration above."
   ]
  },
  {
   "cell_type": "markdown",
   "metadata": {
    "deletable": false,
    "editable": false,
    "nbgrader": {
     "grade": false,
     "locked": true,
     "solution": false
    }
   },
   "source": [
    "** Exercise 0 (2 points)**: There are many ways to compute a hash value for a string. We want a method that will add an element of uniqueness for each string, so that any two strings have a small likelihood of being hashed to the same value. One way to do that is to calculate a value of this form, for a given string `s`:\n",
    "\n",
    "$$\n",
    "\\mbox{HashFunction}(s) = \\left(\\mbox{InitialValue} \\:+ \\sum_{i=0}^{\\mbox{len}(s)-1} \\mbox{Seed}^i * \\mbox{charvalue}(s[i])\\right) \\mbox{ mod } \\mbox{NumBuckets}.\n",
    "$$\n",
    "\n",
    "The \"InitialValue\" and \"Seed\" are parameters. The function \"charvalue`(c)`\" converts a single letter into a number. Finally, \"NumBuckets\" is the number of buckets.\n",
    "\n",
    "For example, consider the input string, `s=\"midterm\"` and suppose there are 10 buckets (NumBuckets=10). Suppose that InitialValue is 37 and Seed is 7. Further suppose that for the letter `a`, charvalue(`'a'`) is 97, and that the subsequent letters are numbered consecutively, i.e., so `b` is 98, ..., `d`=100, ..., `i`=105, `m` = 109, ...). Then HashFunction(`\"midterm\"`) is\n",
    "\n",
    "$$\n",
    "(37+7^0*109+7^1*105+7^2*100+7^3*116+7^4*101+7^5*114+7^6*109) \\mbox{ mod } 10 = (15,027,809 \\mbox{ mod } 10) = 9.\n",
    "$$"
   ]
  },
  {
   "cell_type": "markdown",
   "metadata": {},
   "source": [
    "We will give you a `seed` value and an `initial value`. Create a function that implements the formula for HashFunction(`s`), given the string `s` and number of buckets `num_buckets`, returning the bucket ID.\n",
    "\n",
    "> Recall that the `a % b` operator implements `a` modulo `b`. To convert an individual letter to an integer (i.e., to implement charvalue(c)), use Python's [`ord`](https://docs.python.org/3/library/functions.html#ord) function."
   ]
  },
  {
   "cell_type": "code",
   "execution_count": 1,
   "metadata": {
    "collapsed": true,
    "deletable": false,
    "editable": false,
    "nbgrader": {
     "grade": false,
     "locked": true,
     "solution": false
    }
   },
   "outputs": [],
   "source": [
    "SEED = 7\n",
    "INITIALVALUE = 37"
   ]
  },
  {
   "cell_type": "code",
   "execution_count": 2,
   "metadata": {
    "collapsed": true,
    "nbgrader": {
     "grade": false,
     "locked": false,
     "solution": false
    }
   },
   "outputs": [],
   "source": [
    "def hash_function(s, num_buckets):\n",
    "    assert num_buckets > 0\n",
    "    \n",
    "    ###\n",
    "    temp = INITIALVALUE\n",
    "    for i,j in enumerate(s):\n",
    "        temp += ord(j)*SEED**i\n",
    "    return temp%num_buckets\n",
    "    ###\n"
   ]
  },
  {
   "cell_type": "code",
   "execution_count": null,
   "metadata": {},
   "outputs": [],
   "source": []
  },
  {
   "cell_type": "code",
   "execution_count": 3,
   "metadata": {
    "deletable": false,
    "editable": false,
    "nbgrader": {
     "grade": true,
     "grade_id": "exercise0",
     "locked": true,
     "points": "2",
     "solution": false
    }
   },
   "outputs": [
    {
     "name": "stdout",
     "output_type": "stream",
     "text": [
      "\n",
      "(Passed!)\n"
     ]
    }
   ],
   "source": [
    "#test_hash (2 points):\n",
    "assert type(hash_function('midterm', 10)) is int\n",
    "assert hash_function('midterm', 10) == 9\n",
    "assert hash_function('problems', 12) == 5\n",
    "assert hash_function('problem', 1) == 0\n",
    "print (\"\\n(Passed!)\")"
   ]
  },
  {
   "cell_type": "code",
   "execution_count": 4,
   "metadata": {
    "deletable": false,
    "editable": false,
    "nbgrader": {
     "grade": true,
     "grade_id": "exercise0",
     "locked": true,
     "points": "2",
     "solution": false
    }
   },
   "outputs": [
    {
     "name": "stdout",
     "output_type": "stream",
     "text": [
      "\n",
      "(Passed!)\n"
     ]
    }
   ],
   "source": [
    "#test_hash (2 points):\n",
    "assert type(hash_function('midterm', 10)) is int\n",
    "assert hash_function('midterm', 10) == 9\n",
    "assert hash_function('problems', 12) == 5\n",
    "assert hash_function('problem', 1) == 0\n",
    "print (\"\\n(Passed!)\")"
   ]
  },
  {
   "cell_type": "markdown",
   "metadata": {
    "deletable": false,
    "editable": false,
    "nbgrader": {
     "grade": false,
     "locked": true,
     "solution": false
    }
   },
   "source": [
    "**Collisions.** Collisions occur when two keys have the same bucket ID. There are many methods to deal with collisions, but you will implement a method known as _separate chaining_.\n",
    "\n",
    "In separate chaining, each bucket is a list, again implemented as a Python `list`. That way, it can hold multiple items of the same hash value. When adding a new item to the hash table, you can simply append that item onto the bucket.\n",
    "\n",
    "In other words, the overall hash table is a list of lists: a list of buckets, where each bucket is also a list (of items).\n",
    "\n",
    "Here is a helpful graphic displaying this concept. Focus on the `keys` for `John Smith` and `Sandra Dee`, supposing that their hash values collide:\n",
    "\n",
    "![](https://upload.wikimedia.org/wikipedia/commons/d/d0/Hash_table_5_0_1_1_1_1_1_LL.svg \"Separate Chaining\")\n"
   ]
  },
  {
   "cell_type": "markdown",
   "metadata": {
    "deletable": false,
    "editable": false,
    "nbgrader": {
     "grade": false,
     "locked": true,
     "solution": false
    }
   },
   "source": [
    "** Exercise 1 (3 points)**: Create the `hash_insert()` function for your hash table. This function will take in three arguments. The first is the string `key`, the second is the string `value`, and the third is the `buckets`, a Python `list` that represents the hash table buckets. Your function should add the given `(key, value)` tuple to the list, implementing the separate chaining logic if there is a collision.\n",
    "\n",
    "And if an identical `key` already exists in the hash table, your function should replace the current value with this new `value`.\n",
    "\n",
    "A reasonable algorithm for this problem would be the following:\n",
    "\n",
    "1. Compute the bucket ID for the given `key`.\n",
    "2. If the bucket is empty, append (`key`, `value`) to that bucket.\n",
    "3. If the bucket is not empty, then there are two cases:\n",
    "    a. If `key` is already in the bucket, then update the old value with the given `value`.\n",
    "    b. If `key` is not yet in the bucket, then simply append (`key`, `value`) to the bucket.\n",
    "\n",
    "You may assume that every element of `buckets` is a valid `list` object. (It might be empty, but it will be a list.)"
   ]
  },
  {
   "cell_type": "code",
   "execution_count": 5,
   "metadata": {},
   "outputs": [],
   "source": [
    "def hash_insert(key, value, buckets): \n",
    "    assert len(buckets) > 0\n",
    "    assert all([type(b) is list for b in buckets])\n",
    "    \n",
    "    ###\n",
    "    ID = hash_function(key, len(buckets))\n",
    "    \n",
    "    bucket = buckets[ID]\n",
    "    \n",
    "    if len(bucket):\n",
    "        for i, (k,v) in enumerate(bucket):\n",
    "            if key == k:\n",
    "                bucket[i] = (key,value)\n",
    "    bucket.append((key,value))\n",
    "\n",
    "    return buckets\n",
    "    ###\n"
   ]
  },
  {
   "cell_type": "code",
   "execution_count": 6,
   "metadata": {
    "deletable": false,
    "editable": false,
    "nbgrader": {
     "grade": true,
     "grade_id": "exercise1",
     "locked": true,
     "points": "3",
     "solution": false
    }
   },
   "outputs": [
    {
     "name": "stdout",
     "output_type": "stream",
     "text": [
      "\n",
      "(Passed!)\n"
     ]
    }
   ],
   "source": [
    "#test_add (3 points):\n",
    "table = [[] for i in range(20)]\n",
    "hash_insert(\"jack\", \"8048148198\", table)\n",
    "hash_insert(\"asdf1\", \"8048148198\", table)\n",
    "assert type(table[14]) is list\n",
    "assert len(table[14]) == 2\n",
    "hash_insert(\"asdf2\", \"8048148198\", table)\n",
    "hash_insert(\"asdf3\", \"8048148198\", table)\n",
    "assert len(table[15]) == 1\n",
    "assert len(table[16]) == 1\n",
    "print (\"\\n(Passed!)\")"
   ]
  },
  {
   "cell_type": "markdown",
   "metadata": {
    "deletable": false,
    "editable": false,
    "nbgrader": {
     "grade": false,
     "locked": true,
     "solution": false
    }
   },
   "source": [
    "** Exercise 2 (2 points)**. Implement a search operation, `hash_search()`. This operation would be used to implement Python's `dict[key]`.\n",
    "\n",
    "Your function should implement the following logic. Given a `key` and `buckets`, return the `value` associated with that `key`. If the key does not exist, return `None`."
   ]
  },
  {
   "cell_type": "code",
   "execution_count": 7,
   "metadata": {
    "collapsed": true
   },
   "outputs": [],
   "source": [
    "def hash_search(key, buckets):\n",
    "    assert len(buckets) > 0 and all([type(b) is list for b in buckets])\n",
    "    \n",
    "    ###\n",
    "    ID = hash_function(key, len(buckets))\n",
    "    \n",
    "    bucket = buckets[ID]\n",
    "    \n",
    "    if len(bucket):\n",
    "        for i, (k,v) in enumerate(bucket):\n",
    "            if key == k:\n",
    "                return v\n",
    "        \n",
    "    return None\n",
    "    ###\n"
   ]
  },
  {
   "cell_type": "code",
   "execution_count": 8,
   "metadata": {
    "deletable": false,
    "editable": false,
    "nbgrader": {
     "grade": true,
     "grade_id": "exercise2",
     "locked": true,
     "points": "2",
     "solution": false
    }
   },
   "outputs": [
    {
     "name": "stdout",
     "output_type": "stream",
     "text": [
      "\n",
      "(Passed!)\n"
     ]
    }
   ],
   "source": [
    "#test_cell\n",
    "assert(hash_search(\"evan\", table)) is None\n",
    "assert hash_search(\"asdf1\", table) == '8048148198'\n",
    "print (\"\\n(Passed!)\")"
   ]
  },
  {
   "cell_type": "markdown",
   "metadata": {
    "deletable": false,
    "editable": false,
    "nbgrader": {
     "grade": false,
     "locked": true,
     "solution": false
    }
   },
   "source": [
    "**Putting it all together.** You will be supplied with a dataset of 1,000 name and phone number pairs, contained in a list-of-lists named `hash_table_data`. The following code cell will read in these data."
   ]
  },
  {
   "cell_type": "code",
   "execution_count": 9,
   "metadata": {
    "deletable": false,
    "editable": false,
    "nbgrader": {
     "grade": false,
     "locked": true,
     "solution": false
    }
   },
   "outputs": [
    {
     "name": "stdout",
     "output_type": "stream",
     "text": [
      "First few entries: [['Lanie Klezmski', '297-643-0668\\n'], ['Abram Gonsalvo', '265-480-2465\\n'], ['Gabbey Di Claudio', '916-579-8620\\n'], ['Celine Whitwham', '629-770-1336\\n'], ['Bunni Filoniere', '910-251-4881\\n']] ...\n"
     ]
    }
   ],
   "source": [
    "import csv\n",
    "hash_table_data = list()\n",
    "with open(\"name_phonenumber_map.csv\", \"r\") as f:\n",
    "    reader = csv.reader(f)\n",
    "    for line in f:\n",
    "        hash_table_data.append(line.replace(\"\\r\\n\", \"\").split(\",\"))\n",
    "        \n",
    "print(\"First few entries: {} ...\".format(hash_table_data[:5]))"
   ]
  },
  {
   "cell_type": "markdown",
   "metadata": {
    "deletable": false,
    "editable": false,
    "nbgrader": {
     "grade": false,
     "locked": true,
     "solution": false
    }
   },
   "source": [
    " **Exercise 3 (3 points)**: Use your functions from the first three exercises to create a hash table from the above dataset, `hash_table_data`. Store this table in a variable named `table`.\n",
    " \n",
    "In other words, iterate through `hash_table_data` and insert each `(name, phone number)` pair into your `table`. \n",
    "\n",
    "You will have to choose a specific size for your `table`. In practice, the size is often chosen to try to achieve a certain *load factor,\" which is defined as\n",
    "\n",
    "$$\n",
    "\\mbox{load factor} \\equiv \\frac{n}{k},\n",
    "$$\n",
    "\n",
    "where $n$ is the number of items (i.e., key-value pairs) you expect to store and $k$ is the number of buckets. Common *load factor* values are 0.5 or 0.75. Remember that there are 1,000 entries in the `hash_table_data` dataset, so choose your number of buckets accordingly.\n",
    "\n",
    "You will be graded in two ways. The first test cell, worth one point, will test a correct import of the data into your `table`. The next test cell will test how your `hash_insert()` and `hash_search()` functions work with your newly created `table`. "
   ]
  },
  {
   "cell_type": "code",
   "execution_count": 10,
   "metadata": {},
   "outputs": [],
   "source": [
    "###\n",
    "\n",
    "load_f  = 0.5\n",
    "num_buckets = 1000/load_f\n",
    "table = [[] for i in range(int(num_buckets))]\n",
    "\n",
    "for [key, value] in hash_table_data:\n",
    "    \n",
    "    hash_insert(key, value, table)\n",
    "\n",
    "###\n"
   ]
  },
  {
   "cell_type": "code",
   "execution_count": 11,
   "metadata": {
    "deletable": false,
    "editable": false,
    "nbgrader": {
     "grade": true,
     "grade_id": "exercise3_0",
     "locked": true,
     "points": "1",
     "solution": false
    }
   },
   "outputs": [
    {
     "name": "stdout",
     "output_type": "stream",
     "text": [
      "\n",
      "(Passed!)\n"
     ]
    }
   ],
   "source": [
    "# test_cell_1 (1 point)\n",
    "assert type(table) is list\n",
    "for i in range(0,len(hash_table_data)):\n",
    "    assert hash_search(hash_table_data[i][0], table) is not None\n",
    "print (\"\\n(Passed!)\")"
   ]
  },
  {
   "cell_type": "code",
   "execution_count": 12,
   "metadata": {
    "deletable": false,
    "editable": false,
    "nbgrader": {
     "grade": true,
     "grade_id": "exercise3_1",
     "locked": true,
     "points": "2",
     "solution": false
    }
   },
   "outputs": [
    {
     "name": "stdout",
     "output_type": "stream",
     "text": [
      "\n",
      "(Passed!)\n"
     ]
    }
   ],
   "source": [
    "#test_cell_2 (2 points)\n",
    "assert (hash_search('Harriott Loan', table) == [s for s in hash_table_data if \"Harriott Loan\" in s ][0][1])\n",
    "print (\"\\n(Passed!)\")"
   ]
  },
  {
   "cell_type": "markdown",
   "metadata": {},
   "source": [
    "** Fin ** You've reached the end of this problem. Don't forget to restart the\n",
    "kernel and run the entire notebook from top-to-bottom to make sure you did\n",
    "everything correctly. If that is working, try submitting this problem. (Recall\n",
    "that you *must* submit and pass the autograder to get credit for your work.)"
   ]
  }
 ],
 "metadata": {
  "kernelspec": {
   "display_name": "Python 3.7",
   "language": "python",
   "name": "python3"
  },
  "language_info": {
   "codemirror_mode": {
    "name": "ipython",
    "version": 3
   },
   "file_extension": ".py",
   "mimetype": "text/x-python",
   "name": "python",
   "nbconvert_exporter": "python",
   "pygments_lexer": "ipython3",
   "version": "3.7.5"
  }
 },
 "nbformat": 4,
 "nbformat_minor": 2
}
