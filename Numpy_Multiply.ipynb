{
  "nbformat": 4,
  "nbformat_minor": 0,
  "metadata": {
    "colab": {
      "name": "Numpy Multiply.ipynb",
      "provenance": [],
      "collapsed_sections": [],
      "authorship_tag": "ABX9TyNnm9Zg3VHTkVDoz/zoDqIy",
      "include_colab_link": true
    },
    "kernelspec": {
      "name": "python3",
      "display_name": "Python 3"
    }
  },
  "cells": [
    {
      "cell_type": "markdown",
      "metadata": {
        "id": "view-in-github",
        "colab_type": "text"
      },
      "source": [
        "<a href=\"https://colab.research.google.com/github/moyixinqing/CSE6040x/blob/master/Numpy_Multiply.ipynb\" target=\"_parent\"><img src=\"https://colab.research.google.com/assets/colab-badge.svg\" alt=\"Open In Colab\"/></a>"
      ]
    },
    {
      "cell_type": "markdown",
      "metadata": {
        "id": "imbKOa71SLsP"
      },
      "source": [
        "# **Numpy Multiply**"
      ]
    },
    {
      "cell_type": "markdown",
      "metadata": {
        "id": "Sp3Rr4SImhLU"
      },
      "source": [
        "**Definations**"
      ]
    },
    {
      "cell_type": "code",
      "metadata": {
        "id": "PEVQxjJHSzQq"
      },
      "source": [
        "import numpy as np"
      ],
      "execution_count": 2,
      "outputs": []
    },
    {
      "cell_type": "markdown",
      "metadata": {
        "id": "yqhXCHXzabsS"
      },
      "source": [
        "**1-D Array**"
      ]
    },
    {
      "cell_type": "code",
      "metadata": {
        "id": "6Bn2zdv7aaMT"
      },
      "source": [
        "a_1 = np.array([1,2])\n",
        "b_1 = np.array([3,4])"
      ],
      "execution_count": 3,
      "outputs": []
    },
    {
      "cell_type": "markdown",
      "metadata": {
        "id": "OMxE51ZSU16E"
      },
      "source": [
        "**2-D Array**"
      ]
    },
    {
      "cell_type": "code",
      "metadata": {
        "id": "g82imIeWTcOI"
      },
      "source": [
        "a=np.array([[1,2],\n",
        "            [3,4]])\n",
        "\n",
        "b=np.array([[11,12],\n",
        "            [13,14]])"
      ],
      "execution_count": 4,
      "outputs": []
    },
    {
      "cell_type": "markdown",
      "metadata": {
        "id": "BBPi2ieaUw2e"
      },
      "source": [
        "**3-D Array**\n"
      ]
    },
    {
      "cell_type": "code",
      "metadata": {
        "id": "ZlHd9YMUSuPR"
      },
      "source": [
        "a_3 = np.random.rand(8,13,13)\n",
        "b_3 = np.random.rand(8,13,13)"
      ],
      "execution_count": 5,
      "outputs": []
    },
    {
      "cell_type": "markdown",
      "metadata": {
        "id": "ivwGhNOZWcR4"
      },
      "source": [
        "\n",
        "**np.dot**\n",
        "\n",
        "sum(a[i, :]* b[:, j])]\n",
        "\n",
        "*  If both a and b are 1-D arrays, it is inner product of vectors \n",
        "*  If both a and b are 2-D arrays, it is matrix multiplication, but using matmul or a @ b is preferred.\n",
        "*  If either a or b is 0-D (scalar), it is equivalent to multiply and using numpy.multiply(a, b) or a * b is preferred.\n",
        "\n",
        "\n",
        "\n",
        "\n",
        "\n",
        "\n"
      ]
    },
    {
      "cell_type": "code",
      "metadata": {
        "id": "RmbS396tdG3z",
        "outputId": "d941386d-5dbc-4791-d5e6-066996f59802",
        "colab": {
          "base_uri": "https://localhost:8080/"
        }
      },
      "source": [
        "# If both a and b are 1-D arrays, it is inner product of vectors\n",
        "np.dot(a_1,b_1), np.inner(a_1,b_1), np.einsum('i,i',a_1,b_1)"
      ],
      "execution_count": 80,
      "outputs": [
        {
          "output_type": "execute_result",
          "data": {
            "text/plain": [
              "(11, 11, 11)"
            ]
          },
          "metadata": {
            "tags": []
          },
          "execution_count": 80
        }
      ]
    },
    {
      "cell_type": "code",
      "metadata": {
        "id": "-z3TQ3xfTceQ",
        "outputId": "cee9d750-5626-40dc-dcdb-e0c87604de7e",
        "colab": {
          "base_uri": "https://localhost:8080/"
        }
      },
      "source": [
        "# If both a and b are 2-D arrays, it is matrix multiplication, but using matmul or a @ b is preferred.\n",
        "np.dot(a,b), np.matmul(a,b), a@b, np.einsum('ij,jk->ik', a, b)"
      ],
      "execution_count": 76,
      "outputs": [
        {
          "output_type": "execute_result",
          "data": {
            "text/plain": [
              "(array([[37, 40],\n",
              "        [85, 92]]), array([[37, 40],\n",
              "        [85, 92]]), array([[37, 40],\n",
              "        [85, 92]]), array([[37, 40],\n",
              "        [85, 92]]))"
            ]
          },
          "metadata": {
            "tags": []
          },
          "execution_count": 76
        }
      ]
    },
    {
      "cell_type": "code",
      "metadata": {
        "id": "oIWUiy1rhWHV",
        "outputId": "2586bf49-7a9f-40fc-a808-01b3fdd81d3e",
        "colab": {
          "base_uri": "https://localhost:8080/"
        }
      },
      "source": [
        "# If either a or b is 0-D (scalar), it is equivalent to multiply and using numpy.multiply(a, b) or a * b is preferred.\n",
        "np.dot(a,1), np.multiply(a,1), a*1 "
      ],
      "execution_count": 34,
      "outputs": [
        {
          "output_type": "execute_result",
          "data": {
            "text/plain": [
              "(array([[1, 2],\n",
              "        [3, 4]]), array([[1, 2],\n",
              "        [3, 4]]), array([[1, 2],\n",
              "        [3, 4]]))"
            ]
          },
          "metadata": {
            "tags": []
          },
          "execution_count": 34
        }
      ]
    },
    {
      "cell_type": "markdown",
      "metadata": {
        "id": "XxRq_m8iW6ph"
      },
      "source": [
        "**np.inner**\n",
        "\n",
        "sum(a[i, :]* b[j, :])]\n",
        "\n",
        "Ordinary inner product of vectors for 1-D arrays (without complex conjugation), in higher dimensions a sum product over the last axes."
      ]
    },
    {
      "cell_type": "code",
      "metadata": {
        "id": "2klWH9dnZ7qc",
        "outputId": "3f593f0a-a5a1-4cbb-9225-9664b34ebc48",
        "colab": {
          "base_uri": "https://localhost:8080/"
        }
      },
      "source": [
        "# If both a and b are 1-D arrays, it is inner product of vectors\n",
        "np.inner(a_1,b_1), np.dot(a_1,b_1), np.einsum('i,i->', a_1, b_1)"
      ],
      "execution_count": 66,
      "outputs": [
        {
          "output_type": "execute_result",
          "data": {
            "text/plain": [
              "(11, 11, 11)"
            ]
          },
          "metadata": {
            "tags": []
          },
          "execution_count": 66
        }
      ]
    },
    {
      "cell_type": "code",
      "metadata": {
        "id": "PFzxIXxgTcnN",
        "outputId": "73afa818-9be6-4bef-8b75-c9ab79c8fdaf",
        "colab": {
          "base_uri": "https://localhost:8080/"
        }
      },
      "source": [
        "# If both a and b are 2-D array\n",
        "np.inner(a,b), np.einsum('ij,kj->ik', a, b)"
      ],
      "execution_count": 79,
      "outputs": [
        {
          "output_type": "execute_result",
          "data": {
            "text/plain": [
              "(array([[35, 41],\n",
              "        [81, 95]]), array([[35, 41],\n",
              "        [81, 95]]))"
            ]
          },
          "metadata": {
            "tags": []
          },
          "execution_count": 79
        }
      ]
    },
    {
      "cell_type": "code",
      "metadata": {
        "id": "ZG75-05IToH9",
        "outputId": "167f5853-fac9-476d-a59c-222d06d57d8b",
        "colab": {
          "base_uri": "https://localhost:8080/"
        }
      },
      "source": [
        "# np.dot(a,b) = np.inner(a,b.T)\n",
        "np.allclose(np.dot(a,b),np.inner(a,b.T))"
      ],
      "execution_count": 12,
      "outputs": [
        {
          "output_type": "execute_result",
          "data": {
            "text/plain": [
              "True"
            ]
          },
          "metadata": {
            "tags": []
          },
          "execution_count": 12
        }
      ]
    },
    {
      "cell_type": "code",
      "metadata": {
        "id": "YledVtgEUHFa",
        "outputId": "fafeaca1-3592-4667-e30f-8b4f6bc57398",
        "colab": {
          "base_uri": "https://localhost:8080/"
        }
      },
      "source": [
        "# np.dot(a,b.T) = np.inner(a,b)\n",
        "np.allclose(np.dot(a,b.T),np.inner(a,b))"
      ],
      "execution_count": 13,
      "outputs": [
        {
          "output_type": "execute_result",
          "data": {
            "text/plain": [
              "True"
            ]
          },
          "metadata": {
            "tags": []
          },
          "execution_count": 13
        }
      ]
    },
    {
      "cell_type": "markdown",
      "metadata": {
        "id": "z0hHGHkVU-i6"
      },
      "source": [
        "**np.malmul or a @ b**\n",
        "\n",
        " matrix Multiplication\n",
        "\n",
        "matmul differs from dot in two important ways:\n",
        "\n",
        "1.   Multiplication by scalars is not allowed, use * instead.\n",
        "2.   Stacks of matrices are broadcast together as if the matrices were elements, respecting the signature (n,k),(k,m)->(n,m)\n",
        "\n",
        "\n"
      ]
    },
    {
      "cell_type": "code",
      "metadata": {
        "id": "nEQcYyFBUlea",
        "outputId": "fdd4b233-ff43-44c9-b027-d34d86b17312",
        "colab": {
          "base_uri": "https://localhost:8080/"
        }
      },
      "source": [
        "# If both a and b are 2-D arrays, it is matrix multiplication, but using matmul or a @ b is preferred.\n",
        "np.matmul(a,b), np.einsum('ij,jk->ik', a, b)"
      ],
      "execution_count": 75,
      "outputs": [
        {
          "output_type": "execute_result",
          "data": {
            "text/plain": [
              "(array([[37, 40],\n",
              "        [85, 92]]), array([[37, 40],\n",
              "        [85, 92]]))"
            ]
          },
          "metadata": {
            "tags": []
          },
          "execution_count": 75
        }
      ]
    },
    {
      "cell_type": "code",
      "metadata": {
        "id": "DgHGa49mUwBs",
        "outputId": "214d1197-265f-4bc5-91cd-eb17ee240576",
        "colab": {
          "base_uri": "https://localhost:8080/"
        }
      },
      "source": [
        "# np.malmul = a @ b\n",
        "np.allclose(np.matmul(a,b), a @ b)"
      ],
      "execution_count": 35,
      "outputs": [
        {
          "output_type": "execute_result",
          "data": {
            "text/plain": [
              "True"
            ]
          },
          "metadata": {
            "tags": []
          },
          "execution_count": 35
        }
      ]
    },
    {
      "cell_type": "markdown",
      "metadata": {
        "id": "rtaq5N-aUV0h"
      },
      "source": [
        "**np.multiply or a * b** \n",
        "\n",
        "element-wise multiplication\n"
      ]
    },
    {
      "cell_type": "markdown",
      "metadata": {
        "id": "4D87YjUNbhoY"
      },
      "source": [
        ""
      ]
    },
    {
      "cell_type": "code",
      "metadata": {
        "id": "ny7R8Z9CbaHb",
        "outputId": "09320003-6595-4793-f947-3da0bb355e3b",
        "colab": {
          "base_uri": "https://localhost:8080/"
        }
      },
      "source": [
        "# If either a or b is 0-D (scalar), it is equivalent to multiply and using numpy.multiply(a, b) or a * b is preferred.\n",
        "\n",
        "print(np.multiply(a,1))\n",
        "\n",
        "print(np.dot(a,1))"
      ],
      "execution_count": 36,
      "outputs": [
        {
          "output_type": "stream",
          "text": [
            "[[1 2]\n",
            " [3 4]]\n",
            "[[1 2]\n",
            " [3 4]]\n"
          ],
          "name": "stdout"
        }
      ]
    },
    {
      "cell_type": "code",
      "metadata": {
        "id": "GkURxvFue6oZ",
        "outputId": "461938df-4b20-4821-e0a4-ed875fcd040f",
        "colab": {
          "base_uri": "https://localhost:8080/"
        }
      },
      "source": [
        "# 1-D Array element-wise multiplication\n",
        "print(np.multiply(a_1,b_1))\n",
        "print(\"------\")\n",
        "print(np.einsum('i,i->i', a_1, b_1))"
      ],
      "execution_count": 42,
      "outputs": [
        {
          "output_type": "stream",
          "text": [
            "[3 8]\n",
            "------\n",
            "[3 8]\n"
          ],
          "name": "stdout"
        }
      ]
    },
    {
      "cell_type": "code",
      "metadata": {
        "id": "xVdDKPgjTqVT",
        "outputId": "3cf7cf49-3b2c-4a87-d24d-71defdc6ddc8",
        "colab": {
          "base_uri": "https://localhost:8080/"
        }
      },
      "source": [
        "# 2-D Array element-wise multiplication\n",
        "print(np.multiply(a,b))\n",
        "print(\"-----\")\n",
        "print(np.einsum('ij,ij->ij', a, b))"
      ],
      "execution_count": 44,
      "outputs": [
        {
          "output_type": "stream",
          "text": [
            "[[11 24]\n",
            " [39 56]]\n",
            "-----\n",
            "[[11 24]\n",
            " [39 56]]\n"
          ],
          "name": "stdout"
        }
      ]
    },
    {
      "cell_type": "code",
      "metadata": {
        "id": "NR10LIayUJ3f",
        "outputId": "b1a32fd6-97d8-4563-fe54-9c9a9a4df8f9",
        "colab": {
          "base_uri": "https://localhost:8080/"
        }
      },
      "source": [
        "# np.multiply(a,b) = a*b\n",
        "np.allclose(np.multiply(a,b), a*b)"
      ],
      "execution_count": 22,
      "outputs": [
        {
          "output_type": "execute_result",
          "data": {
            "text/plain": [
              "True"
            ]
          },
          "metadata": {
            "tags": []
          },
          "execution_count": 22
        }
      ]
    },
    {
      "cell_type": "markdown",
      "metadata": {
        "id": "K3aWQ9RTdeib"
      },
      "source": [
        "**np.outer**\n",
        "\n",
        "Compute the outer product of two vectors.\n",
        "\n",
        "Given two vectors, a = [a0, a1, ..., aM] and b = [b0, b1, ..., bN], the outer product [1] is:\n",
        "\n",
        "[[a_0*b_0  a_0*b_1 ... a_0*b_N ]\n",
        "\n",
        " [a_1*b_0    .\n",
        "\n",
        " [ ...          .\n",
        "\n",
        " [a_M*b_0      ...      a_M*b_N ]]"
      ]
    },
    {
      "cell_type": "code",
      "metadata": {
        "id": "hr6ZIAgZdiHE",
        "outputId": "4fac9c7b-f987-48f4-9542-87de667726e3",
        "colab": {
          "base_uri": "https://localhost:8080/"
        }
      },
      "source": [
        "print(np.outer(a_1,b_1))\n",
        "print(\"-----\")\n",
        "print(np.einsum('i,j->ij', a_1.ravel(), b_1.ravel()))"
      ],
      "execution_count": 45,
      "outputs": [
        {
          "output_type": "stream",
          "text": [
            "[[3 4]\n",
            " [6 8]]\n",
            "-----\n",
            "[[3 4]\n",
            " [6 8]]\n"
          ],
          "name": "stdout"
        }
      ]
    },
    {
      "cell_type": "markdown",
      "metadata": {
        "id": "BbSRpb82bExu"
      },
      "source": [
        "**3-D Array**"
      ]
    },
    {
      "cell_type": "code",
      "metadata": {
        "id": "879N4ifSSITm",
        "outputId": "97f557f6-1a5f-45ac-d2db-f52b00c98622",
        "colab": {
          "base_uri": "https://localhost:8080/"
        }
      },
      "source": [
        "np.allclose(np.einsum('ijk,ijk->ijk', a_3,b_3), a_3*b_3)        # True "
      ],
      "execution_count": 48,
      "outputs": [
        {
          "output_type": "execute_result",
          "data": {
            "text/plain": [
              "True"
            ]
          },
          "metadata": {
            "tags": []
          },
          "execution_count": 48
        }
      ]
    },
    {
      "cell_type": "code",
      "metadata": {
        "id": "xWQAPB2TS3ZW",
        "outputId": "fae59b6b-2e81-462a-e7ef-8fc3a4e5cd87",
        "colab": {
          "base_uri": "https://localhost:8080/"
        }
      },
      "source": [
        "np.allclose(np.einsum('ijk,ikl->ijl', a_3,b_3), a_3@b_3)        # True"
      ],
      "execution_count": 26,
      "outputs": [
        {
          "output_type": "execute_result",
          "data": {
            "text/plain": [
              "True"
            ]
          },
          "metadata": {
            "tags": []
          },
          "execution_count": 26
        }
      ]
    },
    {
      "cell_type": "code",
      "metadata": {
        "id": "7qFcNDG5S6WV",
        "outputId": "befaa3ca-8e8c-4d37-cf7c-217282b723fc",
        "colab": {
          "base_uri": "https://localhost:8080/"
        }
      },
      "source": [
        "np.allclose(np.einsum('ijk,lkm->ijlm',a_3,b_3), a_3.dot(b_3))   # True"
      ],
      "execution_count": 27,
      "outputs": [
        {
          "output_type": "execute_result",
          "data": {
            "text/plain": [
              "True"
            ]
          },
          "metadata": {
            "tags": []
          },
          "execution_count": 27
        }
      ]
    },
    {
      "cell_type": "markdown",
      "metadata": {
        "id": "bp2JfknKSK7N"
      },
      "source": [
        ""
      ]
    },
    {
      "cell_type": "markdown",
      "metadata": {
        "id": "sXLgZ4y2kZs-"
      },
      "source": [
        "**Faster matrix-times-transpose function**"
      ]
    },
    {
      "cell_type": "code",
      "metadata": {
        "id": "5phjqjmqmAAT"
      },
      "source": [
        "X = np.random.rand(250,500)"
      ],
      "execution_count": 61,
      "outputs": []
    },
    {
      "cell_type": "code",
      "metadata": {
        "id": "NbvMEtaFlGQm"
      },
      "source": [
        "def slow_calc(X):\n",
        "    return X.dot(X.T)"
      ],
      "execution_count": 55,
      "outputs": []
    },
    {
      "cell_type": "code",
      "metadata": {
        "id": "0t8oyj7UkpVe"
      },
      "source": [
        "def fast_calc_0(X):\n",
        "    import scipy.sparse as sp\n",
        "    X = sp.csr_matrix(X)\n",
        "    return (X.dot(X.T)).toarray()"
      ],
      "execution_count": 52,
      "outputs": []
    },
    {
      "cell_type": "code",
      "metadata": {
        "id": "jLAmxyQ8kr_I"
      },
      "source": [
        "def fast_calc_1(X):\n",
        "    import scipy.linalg.blas\n",
        "    return scipy.linalg.blas.dgemm(alpha=1.0, a=X.T, b=X.T, trans_a=True)"
      ],
      "execution_count": 53,
      "outputs": []
    },
    {
      "cell_type": "code",
      "metadata": {
        "id": "Gh_OrRzQkz0L",
        "outputId": "e7ffcd20-5d3d-498f-a097-2f250de868cb",
        "colab": {
          "base_uri": "https://localhost:8080/"
        }
      },
      "source": [
        "from time import time\n",
        "t = time(); S = slow_calc(X); time()-t"
      ],
      "execution_count": 63,
      "outputs": [
        {
          "output_type": "execute_result",
          "data": {
            "text/plain": [
              "0.014734506607055664"
            ]
          },
          "metadata": {
            "tags": []
          },
          "execution_count": 63
        }
      ]
    },
    {
      "cell_type": "code",
      "metadata": {
        "id": "fVhl3zs_mNqI",
        "outputId": "ba0b2e9d-2b13-45a4-f011-fb3ea3b9af8f",
        "colab": {
          "base_uri": "https://localhost:8080/"
        }
      },
      "source": [
        "t = time(); S = fast_calc_0(X); time()-t"
      ],
      "execution_count": 64,
      "outputs": [
        {
          "output_type": "execute_result",
          "data": {
            "text/plain": [
              "0.10353779792785645"
            ]
          },
          "metadata": {
            "tags": []
          },
          "execution_count": 64
        }
      ]
    },
    {
      "cell_type": "code",
      "metadata": {
        "id": "KMnYJlk0mOo_",
        "outputId": "0f97ca1a-8efa-4a39-a4c6-a6dc38951228",
        "colab": {
          "base_uri": "https://localhost:8080/"
        }
      },
      "source": [
        "t = time(); S = fast_calc_1(X); time()-t"
      ],
      "execution_count": 65,
      "outputs": [
        {
          "output_type": "execute_result",
          "data": {
            "text/plain": [
              "0.0030236244201660156"
            ]
          },
          "metadata": {
            "tags": []
          },
          "execution_count": 65
        }
      ]
    }
  ]
}