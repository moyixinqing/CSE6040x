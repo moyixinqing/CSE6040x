{
  "nbformat": 4,
  "nbformat_minor": 0,
  "metadata": {
    "colab": {
      "name": "Numpy Multiply.ipynb",
      "provenance": [],
      "collapsed_sections": [],
      "authorship_tag": "ABX9TyPyrFZbOuyYClzSIZxR9XdE",
      "include_colab_link": true
    },
    "kernelspec": {
      "name": "python3",
      "display_name": "Python 3"
    }
  },
  "cells": [
    {
      "cell_type": "markdown",
      "metadata": {
        "id": "view-in-github",
        "colab_type": "text"
      },
      "source": [
        "<a href=\"https://colab.research.google.com/github/moyixinqing/CSE6040x/blob/master/Numpy_Multiply.ipynb\" target=\"_parent\"><img src=\"https://colab.research.google.com/assets/colab-badge.svg\" alt=\"Open In Colab\"/></a>"
      ]
    },
    {
      "cell_type": "markdown",
      "metadata": {
        "id": "imbKOa71SLsP"
      },
      "source": [
        "**Numpy Multiply**"
      ]
    },
    {
      "cell_type": "code",
      "metadata": {
        "id": "PEVQxjJHSzQq"
      },
      "source": [
        "import numpy as np"
      ],
      "execution_count": 4,
      "outputs": []
    },
    {
      "cell_type": "markdown",
      "metadata": {
        "id": "OMxE51ZSU16E"
      },
      "source": [
        "**2D Array**"
      ]
    },
    {
      "cell_type": "code",
      "metadata": {
        "id": "g82imIeWTcOI"
      },
      "source": [
        "a=np.array([[1,2],\n",
        "            [3,4]])\n",
        "\n",
        "b=np.array([[11,12],\n",
        "            [13,14]])"
      ],
      "execution_count": 12,
      "outputs": []
    },
    {
      "cell_type": "markdown",
      "metadata": {
        "id": "ivwGhNOZWcR4"
      },
      "source": [
        "\n",
        "**np.dot**\n",
        "\n",
        "sum(a[i, :]* b[:, j])]\n",
        "\n",
        "*  If both a and b are 1-D arrays, it is inner product of vectors \n",
        "*  If both a and b are 2-D arrays, it is matrix multiplication, but using matmul or a @ b is preferred.\n",
        "*  If either a or b is 0-D (scalar), it is equivalent to multiply and using numpy.multiply(a, b) or a * b is preferred.\n",
        "\n",
        "\n",
        "\n",
        "\n"
      ]
    },
    {
      "cell_type": "code",
      "metadata": {
        "id": "-z3TQ3xfTceQ",
        "outputId": "56b6bd12-da1b-40e3-fc5e-2445ae06c178",
        "colab": {
          "base_uri": "https://localhost:8080/"
        }
      },
      "source": [
        "np.dot(a,b)"
      ],
      "execution_count": 13,
      "outputs": [
        {
          "output_type": "execute_result",
          "data": {
            "text/plain": [
              "array([[37, 40],\n",
              "       [85, 92]])"
            ]
          },
          "metadata": {
            "tags": []
          },
          "execution_count": 13
        }
      ]
    },
    {
      "cell_type": "markdown",
      "metadata": {
        "id": "XxRq_m8iW6ph"
      },
      "source": [
        "**np.inner**\n",
        "\n",
        "sum(a[i, :]* b[j, :])]\n",
        "\n",
        "Ordinary inner product of vectors for 1-D arrays (without complex conjugation), in higher dimensions a sum product over the last axes."
      ]
    },
    {
      "cell_type": "code",
      "metadata": {
        "id": "PFzxIXxgTcnN",
        "outputId": "71888f22-da53-44d8-da1c-56c4f5e60766",
        "colab": {
          "base_uri": "https://localhost:8080/"
        }
      },
      "source": [
        "np.inner(a,b)"
      ],
      "execution_count": 27,
      "outputs": [
        {
          "output_type": "execute_result",
          "data": {
            "text/plain": [
              "array([[35, 41],\n",
              "       [81, 95]])"
            ]
          },
          "metadata": {
            "tags": []
          },
          "execution_count": 27
        }
      ]
    },
    {
      "cell_type": "markdown",
      "metadata": {
        "id": "unw0NtknXXz_"
      },
      "source": [
        "relationship between dot and inner\n"
      ]
    },
    {
      "cell_type": "code",
      "metadata": {
        "id": "ZG75-05IToH9",
        "outputId": "1d7e0fae-e6f2-407a-f901-b2a84c2c7e2c",
        "colab": {
          "base_uri": "https://localhost:8080/"
        }
      },
      "source": [
        "np.allclose(np.dot(a,b),np.inner(a,b.T))"
      ],
      "execution_count": 19,
      "outputs": [
        {
          "output_type": "execute_result",
          "data": {
            "text/plain": [
              "True"
            ]
          },
          "metadata": {
            "tags": []
          },
          "execution_count": 19
        }
      ]
    },
    {
      "cell_type": "code",
      "metadata": {
        "id": "YledVtgEUHFa",
        "outputId": "92859a43-bc6c-4fe9-ecc1-40b04eee6602",
        "colab": {
          "base_uri": "https://localhost:8080/"
        }
      },
      "source": [
        "np.allclose(np.dot(a,b.T),np.inner(a,b))"
      ],
      "execution_count": 20,
      "outputs": [
        {
          "output_type": "execute_result",
          "data": {
            "text/plain": [
              "True"
            ]
          },
          "metadata": {
            "tags": []
          },
          "execution_count": 20
        }
      ]
    },
    {
      "cell_type": "markdown",
      "metadata": {
        "id": "rtaq5N-aUV0h"
      },
      "source": [
        "**np.multiply**\n",
        "\n",
        "or a * b \n",
        "\n",
        "element-wise multiplication\n"
      ]
    },
    {
      "cell_type": "code",
      "metadata": {
        "id": "xVdDKPgjTqVT",
        "outputId": "9ca6f336-9304-4297-9e00-99cb155348fd",
        "colab": {
          "base_uri": "https://localhost:8080/"
        }
      },
      "source": [
        "np.multiply(a,b)"
      ],
      "execution_count": 16,
      "outputs": [
        {
          "output_type": "execute_result",
          "data": {
            "text/plain": [
              "array([[11, 24],\n",
              "       [39, 56]])"
            ]
          },
          "metadata": {
            "tags": []
          },
          "execution_count": 16
        }
      ]
    },
    {
      "cell_type": "code",
      "metadata": {
        "id": "NR10LIayUJ3f",
        "outputId": "d0cdbcfc-ab75-44ba-ba4a-e526c3eadbf2",
        "colab": {
          "base_uri": "https://localhost:8080/"
        }
      },
      "source": [
        "np.allclose(np.multiply(a,b), a*b)"
      ],
      "execution_count": 23,
      "outputs": [
        {
          "output_type": "execute_result",
          "data": {
            "text/plain": [
              "True"
            ]
          },
          "metadata": {
            "tags": []
          },
          "execution_count": 23
        }
      ]
    },
    {
      "cell_type": "markdown",
      "metadata": {
        "id": "z0hHGHkVU-i6"
      },
      "source": [
        "**np.malmul**\n",
        "\n",
        "or a@b matrix Multiplicatin\n",
        "\n",
        "matmul differs from dot in two important ways:\n",
        "\n",
        "1.   Multiplication by scalars is not allowed, use * instead.\n",
        "2.   Stacks of matrices are broadcast together as if the matrices were elements, respecting the signature (n,k),(k,m)->(n,m)\n",
        "\n",
        "\n"
      ]
    },
    {
      "cell_type": "code",
      "metadata": {
        "id": "nEQcYyFBUlea",
        "outputId": "fd49e6f7-aa36-4cc9-df9f-2766401225fe",
        "colab": {
          "base_uri": "https://localhost:8080/"
        }
      },
      "source": [
        "np.matmul(a,b)"
      ],
      "execution_count": 25,
      "outputs": [
        {
          "output_type": "execute_result",
          "data": {
            "text/plain": [
              "array([[37, 40],\n",
              "       [85, 92]])"
            ]
          },
          "metadata": {
            "tags": []
          },
          "execution_count": 25
        }
      ]
    },
    {
      "cell_type": "code",
      "metadata": {
        "id": "DgHGa49mUwBs",
        "outputId": "37f80780-12be-44a0-ac1b-24c5c8427ed7",
        "colab": {
          "base_uri": "https://localhost:8080/"
        }
      },
      "source": [
        "np.allclose(np.matmul(a,b), a@b)"
      ],
      "execution_count": 26,
      "outputs": [
        {
          "output_type": "execute_result",
          "data": {
            "text/plain": [
              "True"
            ]
          },
          "metadata": {
            "tags": []
          },
          "execution_count": 26
        }
      ]
    },
    {
      "cell_type": "markdown",
      "metadata": {
        "id": "BBPi2ieaUw2e"
      },
      "source": [
        "**3D Array**\n"
      ]
    },
    {
      "cell_type": "code",
      "metadata": {
        "id": "ZlHd9YMUSuPR"
      },
      "source": [
        "a = np.random.rand(8,13,13)\n",
        "b = np.random.rand(8,13,13)"
      ],
      "execution_count": 5,
      "outputs": []
    },
    {
      "cell_type": "code",
      "metadata": {
        "id": "879N4ifSSITm",
        "outputId": "c801a82c-b6d0-4403-8204-4b6d291fe679",
        "colab": {
          "base_uri": "https://localhost:8080/"
        }
      },
      "source": [
        "np.allclose(np.einsum('ijk,ijk->ijk', a,b), a*b)        # True "
      ],
      "execution_count": 11,
      "outputs": [
        {
          "output_type": "execute_result",
          "data": {
            "text/plain": [
              "True"
            ]
          },
          "metadata": {
            "tags": []
          },
          "execution_count": 11
        }
      ]
    },
    {
      "cell_type": "code",
      "metadata": {
        "id": "xWQAPB2TS3ZW",
        "outputId": "31e6c1e1-f5c3-43fa-e8b1-a30bdbe35531",
        "colab": {
          "base_uri": "https://localhost:8080/"
        }
      },
      "source": [
        "np.allclose(np.einsum('ijk,ikl->ijl', a,b), a@b)        # True"
      ],
      "execution_count": 7,
      "outputs": [
        {
          "output_type": "execute_result",
          "data": {
            "text/plain": [
              "True"
            ]
          },
          "metadata": {
            "tags": []
          },
          "execution_count": 7
        }
      ]
    },
    {
      "cell_type": "code",
      "metadata": {
        "id": "7qFcNDG5S6WV",
        "outputId": "c006fcf8-4e7f-44da-8360-46c184b644e8",
        "colab": {
          "base_uri": "https://localhost:8080/"
        }
      },
      "source": [
        "np.allclose(np.einsum('ijk,lkm->ijlm',a,b), a.dot(b))   # True"
      ],
      "execution_count": 9,
      "outputs": [
        {
          "output_type": "execute_result",
          "data": {
            "text/plain": [
              "True"
            ]
          },
          "metadata": {
            "tags": []
          },
          "execution_count": 9
        }
      ]
    },
    {
      "cell_type": "markdown",
      "metadata": {
        "id": "bp2JfknKSK7N"
      },
      "source": [
        ""
      ]
    }
  ]
}