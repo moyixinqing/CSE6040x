{
  "nbformat": 4,
  "nbformat_minor": 0,
  "metadata": {
    "colab": {
      "name": "Numpy Multiply.ipynb",
      "provenance": [],
      "collapsed_sections": [],
      "authorship_tag": "ABX9TyNJe5mjaT2HVBTzwW/FwFUE",
      "include_colab_link": true
    },
    "kernelspec": {
      "name": "python3",
      "display_name": "Python 3"
    }
  },
  "cells": [
    {
      "cell_type": "markdown",
      "metadata": {
        "id": "view-in-github",
        "colab_type": "text"
      },
      "source": [
        "<a href=\"https://colab.research.google.com/github/moyixinqing/CSE6040x/blob/master/Numpy_Multiply.ipynb\" target=\"_parent\"><img src=\"https://colab.research.google.com/assets/colab-badge.svg\" alt=\"Open In Colab\"/></a>"
      ]
    },
    {
      "cell_type": "markdown",
      "metadata": {
        "id": "imbKOa71SLsP"
      },
      "source": [
        "# **Numpy Multiply**"
      ]
    },
    {
      "cell_type": "code",
      "metadata": {
        "id": "PEVQxjJHSzQq"
      },
      "source": [
        "import numpy as np"
      ],
      "execution_count": 1,
      "outputs": []
    },
    {
      "cell_type": "markdown",
      "metadata": {
        "id": "yqhXCHXzabsS"
      },
      "source": [
        "**1-D Array**"
      ]
    },
    {
      "cell_type": "code",
      "metadata": {
        "id": "6Bn2zdv7aaMT"
      },
      "source": [
        "a_1 = np.array([1,2])\n",
        "b_1 = np.array([3,4])"
      ],
      "execution_count": 2,
      "outputs": []
    },
    {
      "cell_type": "markdown",
      "metadata": {
        "id": "OMxE51ZSU16E"
      },
      "source": [
        "**2-D Array**"
      ]
    },
    {
      "cell_type": "code",
      "metadata": {
        "id": "g82imIeWTcOI"
      },
      "source": [
        "a=np.array([[1,2],\n",
        "            [3,4]])\n",
        "\n",
        "b=np.array([[11,12],\n",
        "            [13,14]])"
      ],
      "execution_count": 3,
      "outputs": []
    },
    {
      "cell_type": "markdown",
      "metadata": {
        "id": "BBPi2ieaUw2e"
      },
      "source": [
        "**3D Array**\n"
      ]
    },
    {
      "cell_type": "code",
      "metadata": {
        "id": "ZlHd9YMUSuPR"
      },
      "source": [
        "a_3 = np.random.rand(8,13,13)\n",
        "b_3 = np.random.rand(8,13,13)"
      ],
      "execution_count": 4,
      "outputs": []
    },
    {
      "cell_type": "markdown",
      "metadata": {
        "id": "ivwGhNOZWcR4"
      },
      "source": [
        "\n",
        "**np.dot**\n",
        "\n",
        "sum(a[i, :]* b[:, j])]\n",
        "\n",
        "*  If both a and b are 1-D arrays, it is inner product of vectors \n",
        "*  If both a and b are 2-D arrays, it is matrix multiplication, but using matmul or a @ b is preferred.\n",
        "*  If either a or b is 0-D (scalar), it is equivalent to multiply and using numpy.multiply(a, b) or a * b is preferred.\n",
        "\n",
        "\n",
        "\n",
        "\n",
        "\n",
        "\n"
      ]
    },
    {
      "cell_type": "code",
      "metadata": {
        "id": "RmbS396tdG3z",
        "outputId": "67061be1-5939-47e9-a2db-f08fd23a26c9",
        "colab": {
          "base_uri": "https://localhost:8080/"
        }
      },
      "source": [
        "np.dot(a_1,b_1)"
      ],
      "execution_count": 18,
      "outputs": [
        {
          "output_type": "execute_result",
          "data": {
            "text/plain": [
              "11"
            ]
          },
          "metadata": {
            "tags": []
          },
          "execution_count": 18
        }
      ]
    },
    {
      "cell_type": "code",
      "metadata": {
        "id": "-z3TQ3xfTceQ",
        "outputId": "dd8fac6e-c06e-4d8f-e810-e952c3b2dbce",
        "colab": {
          "base_uri": "https://localhost:8080/"
        }
      },
      "source": [
        "np.dot(a,b)"
      ],
      "execution_count": 5,
      "outputs": [
        {
          "output_type": "execute_result",
          "data": {
            "text/plain": [
              "array([[37, 40],\n",
              "       [85, 92]])"
            ]
          },
          "metadata": {
            "tags": []
          },
          "execution_count": 5
        }
      ]
    },
    {
      "cell_type": "markdown",
      "metadata": {
        "id": "XxRq_m8iW6ph"
      },
      "source": [
        "**np.inner**\n",
        "\n",
        "sum(a[i, :]* b[j, :])]\n",
        "\n",
        "Ordinary inner product of vectors for 1-D arrays (without complex conjugation), in higher dimensions a sum product over the last axes."
      ]
    },
    {
      "cell_type": "code",
      "metadata": {
        "id": "2klWH9dnZ7qc",
        "outputId": "c729dd7e-ab48-4c2b-a18e-877ba12a4519",
        "colab": {
          "base_uri": "https://localhost:8080/"
        }
      },
      "source": [
        "# 1-D arrays dot is inner product of vectors\n",
        "np.inner(a_1,b_1), np.dot(a_1,b_1)"
      ],
      "execution_count": 6,
      "outputs": [
        {
          "output_type": "execute_result",
          "data": {
            "text/plain": [
              "(11, 11)"
            ]
          },
          "metadata": {
            "tags": []
          },
          "execution_count": 6
        }
      ]
    },
    {
      "cell_type": "code",
      "metadata": {
        "id": "9vgULQkVhSWe",
        "outputId": "6817b60d-4c90-45e7-d578-135794f5004c",
        "colab": {
          "base_uri": "https://localhost:8080/"
        }
      },
      "source": [
        "np.einsum('i,i->', a_1, b_1)"
      ],
      "execution_count": 35,
      "outputs": [
        {
          "output_type": "execute_result",
          "data": {
            "text/plain": [
              "11"
            ]
          },
          "metadata": {
            "tags": []
          },
          "execution_count": 35
        }
      ]
    },
    {
      "cell_type": "code",
      "metadata": {
        "id": "PFzxIXxgTcnN",
        "outputId": "11b50f10-29c3-4532-ab3d-de27fad7aac9",
        "colab": {
          "base_uri": "https://localhost:8080/"
        }
      },
      "source": [
        "# 2-D array\n",
        "np.inner(a,b)"
      ],
      "execution_count": 7,
      "outputs": [
        {
          "output_type": "execute_result",
          "data": {
            "text/plain": [
              "array([[35, 41],\n",
              "       [81, 95]])"
            ]
          },
          "metadata": {
            "tags": []
          },
          "execution_count": 7
        }
      ]
    },
    {
      "cell_type": "code",
      "metadata": {
        "id": "ZG75-05IToH9",
        "outputId": "0c30a8e6-b8e5-4fb5-9609-b4cdd1eb7c28",
        "colab": {
          "base_uri": "https://localhost:8080/"
        }
      },
      "source": [
        "# np.dot(a,b) = np.inner(a,b.T)\n",
        "np.allclose(np.dot(a,b),np.inner(a,b.T))"
      ],
      "execution_count": 8,
      "outputs": [
        {
          "output_type": "execute_result",
          "data": {
            "text/plain": [
              "True"
            ]
          },
          "metadata": {
            "tags": []
          },
          "execution_count": 8
        }
      ]
    },
    {
      "cell_type": "code",
      "metadata": {
        "id": "YledVtgEUHFa",
        "outputId": "51246b57-192c-45a5-87a2-52318d768778",
        "colab": {
          "base_uri": "https://localhost:8080/"
        }
      },
      "source": [
        "# np.dot(a,b.T) = np.inner(a,b)\n",
        "np.allclose(np.dot(a,b.T),np.inner(a,b))"
      ],
      "execution_count": 9,
      "outputs": [
        {
          "output_type": "execute_result",
          "data": {
            "text/plain": [
              "True"
            ]
          },
          "metadata": {
            "tags": []
          },
          "execution_count": 9
        }
      ]
    },
    {
      "cell_type": "markdown",
      "metadata": {
        "id": "z0hHGHkVU-i6"
      },
      "source": [
        "**np.malmul or a @ b**\n",
        "\n",
        " matrix Multiplication\n",
        "\n",
        "matmul differs from dot in two important ways:\n",
        "\n",
        "1.   Multiplication by scalars is not allowed, use * instead.\n",
        "2.   Stacks of matrices are broadcast together as if the matrices were elements, respecting the signature (n,k),(k,m)->(n,m)\n",
        "\n",
        "\n"
      ]
    },
    {
      "cell_type": "code",
      "metadata": {
        "id": "nEQcYyFBUlea",
        "outputId": "08bb4015-ecd1-4d02-f9a1-39b3c90c1027",
        "colab": {
          "base_uri": "https://localhost:8080/"
        }
      },
      "source": [
        "# If both a and b are 2-D arrays, it is matrix multiplication, but using matmul or a @ b is preferred.\n",
        "np.matmul(a,b)"
      ],
      "execution_count": 10,
      "outputs": [
        {
          "output_type": "execute_result",
          "data": {
            "text/plain": [
              "array([[37, 40],\n",
              "       [85, 92]])"
            ]
          },
          "metadata": {
            "tags": []
          },
          "execution_count": 10
        }
      ]
    },
    {
      "cell_type": "code",
      "metadata": {
        "id": "qApuGHnUgmLs",
        "outputId": "73ad18f3-ab27-40ba-cff8-8c7cf6e33f31",
        "colab": {
          "base_uri": "https://localhost:8080/"
        }
      },
      "source": [
        "np.einsum('ij,jk->ik', a, b)"
      ],
      "execution_count": 29,
      "outputs": [
        {
          "output_type": "execute_result",
          "data": {
            "text/plain": [
              "array([[37, 40],\n",
              "       [85, 92]])"
            ]
          },
          "metadata": {
            "tags": []
          },
          "execution_count": 29
        }
      ]
    },
    {
      "cell_type": "code",
      "metadata": {
        "id": "DgHGa49mUwBs",
        "outputId": "14dd200f-a40b-4c7a-e536-55d53dab94e6",
        "colab": {
          "base_uri": "https://localhost:8080/"
        }
      },
      "source": [
        "# np.malmul = a @ b\n",
        "np.allclose(np.matmul(a,b), a@b)"
      ],
      "execution_count": 11,
      "outputs": [
        {
          "output_type": "execute_result",
          "data": {
            "text/plain": [
              "True"
            ]
          },
          "metadata": {
            "tags": []
          },
          "execution_count": 11
        }
      ]
    },
    {
      "cell_type": "markdown",
      "metadata": {
        "id": "rtaq5N-aUV0h"
      },
      "source": [
        "**np.multiply or a * b** \n",
        "\n",
        "element-wise multiplication\n"
      ]
    },
    {
      "cell_type": "markdown",
      "metadata": {
        "id": "4D87YjUNbhoY"
      },
      "source": [
        ""
      ]
    },
    {
      "cell_type": "code",
      "metadata": {
        "id": "ny7R8Z9CbaHb",
        "outputId": "871253b4-a355-4d28-ab2b-5c01e0edf70d",
        "colab": {
          "base_uri": "https://localhost:8080/"
        }
      },
      "source": [
        "# If either a or b is 0-D (scalar), it is equivalent to multiply and using numpy.multiply(a, b) or a * b is preferred.\n",
        "print(\"multiply:\")\n",
        "print(np.multiply(a,1))\n",
        "print(\"-------\")\n",
        "print(\"dot:\")\n",
        "print(np.dot(a,1))"
      ],
      "execution_count": 12,
      "outputs": [
        {
          "output_type": "stream",
          "text": [
            "multiply:\n",
            "[[1 2]\n",
            " [3 4]]\n",
            "-------\n",
            "dot:\n",
            "[[1 2]\n",
            " [3 4]]\n"
          ],
          "name": "stdout"
        }
      ]
    },
    {
      "cell_type": "code",
      "metadata": {
        "id": "GkURxvFue6oZ",
        "outputId": "5168b79f-c6ca-4702-dc95-f60832c932a6",
        "colab": {
          "base_uri": "https://localhost:8080/"
        }
      },
      "source": [
        "# 1-D Array element-wise multiplication\n",
        "np.multiply(a_1,b_1)"
      ],
      "execution_count": 24,
      "outputs": [
        {
          "output_type": "execute_result",
          "data": {
            "text/plain": [
              "array([3, 8])"
            ]
          },
          "metadata": {
            "tags": []
          },
          "execution_count": 24
        }
      ]
    },
    {
      "cell_type": "code",
      "metadata": {
        "id": "Y_veG-MCgF7D",
        "outputId": "56daf2bb-b0fe-416a-b1f8-da9ba8c9edab",
        "colab": {
          "base_uri": "https://localhost:8080/"
        }
      },
      "source": [
        "np.einsum('i,i->i', a_1, b_1)"
      ],
      "execution_count": 25,
      "outputs": [
        {
          "output_type": "execute_result",
          "data": {
            "text/plain": [
              "array([3, 8])"
            ]
          },
          "metadata": {
            "tags": []
          },
          "execution_count": 25
        }
      ]
    },
    {
      "cell_type": "code",
      "metadata": {
        "id": "xVdDKPgjTqVT",
        "outputId": "bfc60ac8-75a9-4fbb-d697-a7920b337029",
        "colab": {
          "base_uri": "https://localhost:8080/"
        }
      },
      "source": [
        "# 2-D Array element-wise multiplication\n",
        "np.multiply(a,b)"
      ],
      "execution_count": 13,
      "outputs": [
        {
          "output_type": "execute_result",
          "data": {
            "text/plain": [
              "array([[11, 24],\n",
              "       [39, 56]])"
            ]
          },
          "metadata": {
            "tags": []
          },
          "execution_count": 13
        }
      ]
    },
    {
      "cell_type": "code",
      "metadata": {
        "id": "1dNQ-FH9gKeB",
        "outputId": "502e9c3b-febf-4010-e215-1369607eca67",
        "colab": {
          "base_uri": "https://localhost:8080/"
        }
      },
      "source": [
        "np.einsum('ij,ij->ij', a, b)"
      ],
      "execution_count": 28,
      "outputs": [
        {
          "output_type": "execute_result",
          "data": {
            "text/plain": [
              "array([[11, 24],\n",
              "       [39, 56]])"
            ]
          },
          "metadata": {
            "tags": []
          },
          "execution_count": 28
        }
      ]
    },
    {
      "cell_type": "code",
      "metadata": {
        "id": "NR10LIayUJ3f",
        "outputId": "fa03a3d4-0fcf-4da5-8ca8-c56c6c0dcf16",
        "colab": {
          "base_uri": "https://localhost:8080/"
        }
      },
      "source": [
        "# np.multiply(a,b) = a*b\n",
        "np.allclose(np.multiply(a,b), a*b)"
      ],
      "execution_count": 14,
      "outputs": [
        {
          "output_type": "execute_result",
          "data": {
            "text/plain": [
              "True"
            ]
          },
          "metadata": {
            "tags": []
          },
          "execution_count": 14
        }
      ]
    },
    {
      "cell_type": "markdown",
      "metadata": {
        "id": "K3aWQ9RTdeib"
      },
      "source": [
        "**np.outer**\n",
        "\n",
        "Compute the outer product of two vectors.\n",
        "\n",
        "Given two vectors, a = [a0, a1, ..., aM] and b = [b0, b1, ..., bN], the outer product [1] is:\n",
        "\n",
        "[[a_0*b_0  a_0*b_1 ... a_0*b_N ]\n",
        "\n",
        " [a_1*b_0    .\n",
        "\n",
        " [ ...          .\n",
        "\n",
        " [a_M*b_0      ...      a_M*b_N ]]"
      ]
    },
    {
      "cell_type": "code",
      "metadata": {
        "id": "hr6ZIAgZdiHE",
        "outputId": "cf69dd3d-85ef-42ef-fe36-dcb5216933a6",
        "colab": {
          "base_uri": "https://localhost:8080/"
        }
      },
      "source": [
        "np.outer(a_1,b_1)"
      ],
      "execution_count": 20,
      "outputs": [
        {
          "output_type": "execute_result",
          "data": {
            "text/plain": [
              "array([[3, 4],\n",
              "       [6, 8]])"
            ]
          },
          "metadata": {
            "tags": []
          },
          "execution_count": 20
        }
      ]
    },
    {
      "cell_type": "code",
      "metadata": {
        "id": "c4-kDTDoeZyE",
        "outputId": "57e1fd5f-b04c-4071-8856-9e86ff768334",
        "colab": {
          "base_uri": "https://localhost:8080/"
        }
      },
      "source": [
        "np.einsum('i,j->ij', a_1.ravel(), b_1.ravel()) "
      ],
      "execution_count": 22,
      "outputs": [
        {
          "output_type": "execute_result",
          "data": {
            "text/plain": [
              "array([[3, 4],\n",
              "       [6, 8]])"
            ]
          },
          "metadata": {
            "tags": []
          },
          "execution_count": 22
        }
      ]
    },
    {
      "cell_type": "markdown",
      "metadata": {
        "id": "BbSRpb82bExu"
      },
      "source": [
        "**3-D Array**"
      ]
    },
    {
      "cell_type": "code",
      "metadata": {
        "id": "879N4ifSSITm",
        "outputId": "4f8b7e6f-c479-4070-d839-337c8c6cb2be",
        "colab": {
          "base_uri": "https://localhost:8080/"
        }
      },
      "source": [
        "np.allclose(np.einsum('ijk,ijk->ijk', a_3,b_3), a_3*b_3)        # True "
      ],
      "execution_count": 15,
      "outputs": [
        {
          "output_type": "execute_result",
          "data": {
            "text/plain": [
              "True"
            ]
          },
          "metadata": {
            "tags": []
          },
          "execution_count": 15
        }
      ]
    },
    {
      "cell_type": "code",
      "metadata": {
        "id": "xWQAPB2TS3ZW",
        "outputId": "1cf65d1b-d228-4fa4-8cd8-a448b1b065ed",
        "colab": {
          "base_uri": "https://localhost:8080/"
        }
      },
      "source": [
        "np.allclose(np.einsum('ijk,ikl->ijl', a_3,b_3), a_3@b_3)        # True"
      ],
      "execution_count": 16,
      "outputs": [
        {
          "output_type": "execute_result",
          "data": {
            "text/plain": [
              "True"
            ]
          },
          "metadata": {
            "tags": []
          },
          "execution_count": 16
        }
      ]
    },
    {
      "cell_type": "code",
      "metadata": {
        "id": "7qFcNDG5S6WV",
        "outputId": "da089011-2421-46a3-f7d4-6cf3efae195f",
        "colab": {
          "base_uri": "https://localhost:8080/"
        }
      },
      "source": [
        "np.allclose(np.einsum('ijk,lkm->ijlm',a_3,b_3), a_3.dot(b_3))   # True"
      ],
      "execution_count": 17,
      "outputs": [
        {
          "output_type": "execute_result",
          "data": {
            "text/plain": [
              "True"
            ]
          },
          "metadata": {
            "tags": []
          },
          "execution_count": 17
        }
      ]
    },
    {
      "cell_type": "markdown",
      "metadata": {
        "id": "bp2JfknKSK7N"
      },
      "source": [
        ""
      ]
    }
  ]
}