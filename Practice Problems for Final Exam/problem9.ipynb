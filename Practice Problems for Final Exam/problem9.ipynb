{
 "cells": [
  {
   "cell_type": "markdown",
   "metadata": {
    "deletable": false,
    "editable": false,
    "nbgrader": {
     "grade": false,
     "locked": true,
     "solution": false
    }
   },
   "source": [
    "# Problem 9: Board Game Similarity "
   ]
  },
  {
   "cell_type": "markdown",
   "metadata": {
    "deletable": false,
    "editable": false,
    "nbgrader": {
     "grade": false,
     "locked": true,
     "solution": false
    }
   },
   "source": [
    "In this problem you will analyze a dataset that contains information about board games. The games will be represented by their category tags and you will attempt to find similar board games using a _cosine similarity_ measure: https://en.wikipedia.org/wiki/Cosine_similarity\n",
    "\n",
    "This dataset derives from one available on Kaggle: https://www.kaggle.com/mrpantherson/board-game-data/data\n",
    "\n",
    "The original source for this data is https://boardgamegeek.com/\n",
    "\n",
    "Let's start by inspecting the dataset."
   ]
  },
  {
   "cell_type": "code",
   "execution_count": 1,
   "metadata": {
    "deletable": false,
    "editable": false,
    "nbgrader": {
     "grade": false,
     "locked": true,
     "solution": false
    },
    "scrolled": false
   },
   "outputs": [
    {
     "data": {
      "text/html": [
       "<div>\n",
       "<style scoped>\n",
       "    .dataframe tbody tr th:only-of-type {\n",
       "        vertical-align: middle;\n",
       "    }\n",
       "\n",
       "    .dataframe tbody tr th {\n",
       "        vertical-align: top;\n",
       "    }\n",
       "\n",
       "    .dataframe thead th {\n",
       "        text-align: right;\n",
       "    }\n",
       "</style>\n",
       "<table border=\"1\" class=\"dataframe\">\n",
       "  <thead>\n",
       "    <tr style=\"text-align: right;\">\n",
       "      <th></th>\n",
       "      <th>rank</th>\n",
       "      <th>bgg_url</th>\n",
       "      <th>game_id</th>\n",
       "      <th>names</th>\n",
       "      <th>min_players</th>\n",
       "      <th>max_players</th>\n",
       "      <th>avg_time</th>\n",
       "      <th>min_time</th>\n",
       "      <th>max_time</th>\n",
       "      <th>year</th>\n",
       "      <th>avg_rating</th>\n",
       "      <th>geek_rating</th>\n",
       "      <th>num_votes</th>\n",
       "      <th>image_url</th>\n",
       "      <th>age</th>\n",
       "      <th>mechanic</th>\n",
       "      <th>owned</th>\n",
       "      <th>category</th>\n",
       "      <th>designer</th>\n",
       "      <th>weight</th>\n",
       "    </tr>\n",
       "  </thead>\n",
       "  <tbody>\n",
       "    <tr>\n",
       "      <th>0</th>\n",
       "      <td>1</td>\n",
       "      <td>https://boardgamegeek.com/boardgame/174430/glo...</td>\n",
       "      <td>174430</td>\n",
       "      <td>Gloomhaven</td>\n",
       "      <td>1</td>\n",
       "      <td>4</td>\n",
       "      <td>150</td>\n",
       "      <td>90</td>\n",
       "      <td>150</td>\n",
       "      <td>2017</td>\n",
       "      <td>9.01310</td>\n",
       "      <td>8.52234</td>\n",
       "      <td>9841</td>\n",
       "      <td>https://cf.geekdo-images.com/images/pic2437871...</td>\n",
       "      <td>12</td>\n",
       "      <td>Action / Movement Programming, Co-operative Pl...</td>\n",
       "      <td>18217</td>\n",
       "      <td>Adventure, Exploration, Fantasy, Fighting, Min...</td>\n",
       "      <td>Isaac Childres</td>\n",
       "      <td>3.7720</td>\n",
       "    </tr>\n",
       "    <tr>\n",
       "      <th>1</th>\n",
       "      <td>2</td>\n",
       "      <td>https://boardgamegeek.com/boardgame/161936/pan...</td>\n",
       "      <td>161936</td>\n",
       "      <td>Pandemic Legacy: Season 1</td>\n",
       "      <td>2</td>\n",
       "      <td>4</td>\n",
       "      <td>60</td>\n",
       "      <td>60</td>\n",
       "      <td>60</td>\n",
       "      <td>2015</td>\n",
       "      <td>8.66575</td>\n",
       "      <td>8.49837</td>\n",
       "      <td>23489</td>\n",
       "      <td>https://cf.geekdo-images.com/images/pic2452831...</td>\n",
       "      <td>13</td>\n",
       "      <td>Action Point Allowance System, Co-operative Pl...</td>\n",
       "      <td>38105</td>\n",
       "      <td>Environmental, Medical</td>\n",
       "      <td>Rob Daviau, Matt Leacock</td>\n",
       "      <td>2.8056</td>\n",
       "    </tr>\n",
       "    <tr>\n",
       "      <th>2</th>\n",
       "      <td>3</td>\n",
       "      <td>https://boardgamegeek.com/boardgame/182028/thr...</td>\n",
       "      <td>182028</td>\n",
       "      <td>Through the Ages: A New Story of Civilization</td>\n",
       "      <td>2</td>\n",
       "      <td>4</td>\n",
       "      <td>240</td>\n",
       "      <td>180</td>\n",
       "      <td>240</td>\n",
       "      <td>2015</td>\n",
       "      <td>8.65702</td>\n",
       "      <td>8.32401</td>\n",
       "      <td>10679</td>\n",
       "      <td>https://cf.geekdo-images.com/images/pic2663291...</td>\n",
       "      <td>14</td>\n",
       "      <td>Action Point Allowance System, Auction/Bidding...</td>\n",
       "      <td>14147</td>\n",
       "      <td>Card Game, Civilization, Economic</td>\n",
       "      <td>Vlaada Chvátil</td>\n",
       "      <td>4.3538</td>\n",
       "    </tr>\n",
       "    <tr>\n",
       "      <th>3</th>\n",
       "      <td>4</td>\n",
       "      <td>https://boardgamegeek.com/boardgame/12333/twil...</td>\n",
       "      <td>12333</td>\n",
       "      <td>Twilight Struggle</td>\n",
       "      <td>2</td>\n",
       "      <td>2</td>\n",
       "      <td>180</td>\n",
       "      <td>120</td>\n",
       "      <td>180</td>\n",
       "      <td>2005</td>\n",
       "      <td>8.35188</td>\n",
       "      <td>8.21012</td>\n",
       "      <td>29923</td>\n",
       "      <td>https://cf.geekdo-images.com/images/pic361592.jpg</td>\n",
       "      <td>13</td>\n",
       "      <td>Area Control / Area Influence, Campaign / Batt...</td>\n",
       "      <td>41094</td>\n",
       "      <td>Modern Warfare, Political, Wargame</td>\n",
       "      <td>Ananda Gupta, Jason Matthews</td>\n",
       "      <td>3.5446</td>\n",
       "    </tr>\n",
       "    <tr>\n",
       "      <th>4</th>\n",
       "      <td>5</td>\n",
       "      <td>https://boardgamegeek.com/boardgame/167791/ter...</td>\n",
       "      <td>167791</td>\n",
       "      <td>Terraforming Mars</td>\n",
       "      <td>1</td>\n",
       "      <td>5</td>\n",
       "      <td>120</td>\n",
       "      <td>120</td>\n",
       "      <td>120</td>\n",
       "      <td>2016</td>\n",
       "      <td>8.38331</td>\n",
       "      <td>8.17328</td>\n",
       "      <td>20468</td>\n",
       "      <td>https://cf.geekdo-images.com/images/pic3536616...</td>\n",
       "      <td>12</td>\n",
       "      <td>Card Drafting, Hand Management, Tile Placement...</td>\n",
       "      <td>26145</td>\n",
       "      <td>Economic, Environmental, Industry / Manufactur...</td>\n",
       "      <td>Jacob Fryxelius</td>\n",
       "      <td>3.2465</td>\n",
       "    </tr>\n",
       "  </tbody>\n",
       "</table>\n",
       "</div>"
      ],
      "text/plain": [
       "   rank                                            bgg_url  game_id  \\\n",
       "0     1  https://boardgamegeek.com/boardgame/174430/glo...   174430   \n",
       "1     2  https://boardgamegeek.com/boardgame/161936/pan...   161936   \n",
       "2     3  https://boardgamegeek.com/boardgame/182028/thr...   182028   \n",
       "3     4  https://boardgamegeek.com/boardgame/12333/twil...    12333   \n",
       "4     5  https://boardgamegeek.com/boardgame/167791/ter...   167791   \n",
       "\n",
       "                                           names  min_players  max_players  \\\n",
       "0                                     Gloomhaven            1            4   \n",
       "1                      Pandemic Legacy: Season 1            2            4   \n",
       "2  Through the Ages: A New Story of Civilization            2            4   \n",
       "3                              Twilight Struggle            2            2   \n",
       "4                              Terraforming Mars            1            5   \n",
       "\n",
       "   avg_time  min_time  max_time  year  avg_rating  geek_rating  num_votes  \\\n",
       "0       150        90       150  2017     9.01310      8.52234       9841   \n",
       "1        60        60        60  2015     8.66575      8.49837      23489   \n",
       "2       240       180       240  2015     8.65702      8.32401      10679   \n",
       "3       180       120       180  2005     8.35188      8.21012      29923   \n",
       "4       120       120       120  2016     8.38331      8.17328      20468   \n",
       "\n",
       "                                           image_url  age  \\\n",
       "0  https://cf.geekdo-images.com/images/pic2437871...   12   \n",
       "1  https://cf.geekdo-images.com/images/pic2452831...   13   \n",
       "2  https://cf.geekdo-images.com/images/pic2663291...   14   \n",
       "3  https://cf.geekdo-images.com/images/pic361592.jpg   13   \n",
       "4  https://cf.geekdo-images.com/images/pic3536616...   12   \n",
       "\n",
       "                                            mechanic  owned  \\\n",
       "0  Action / Movement Programming, Co-operative Pl...  18217   \n",
       "1  Action Point Allowance System, Co-operative Pl...  38105   \n",
       "2  Action Point Allowance System, Auction/Bidding...  14147   \n",
       "3  Area Control / Area Influence, Campaign / Batt...  41094   \n",
       "4  Card Drafting, Hand Management, Tile Placement...  26145   \n",
       "\n",
       "                                            category  \\\n",
       "0  Adventure, Exploration, Fantasy, Fighting, Min...   \n",
       "1                             Environmental, Medical   \n",
       "2                  Card Game, Civilization, Economic   \n",
       "3                 Modern Warfare, Political, Wargame   \n",
       "4  Economic, Environmental, Industry / Manufactur...   \n",
       "\n",
       "                       designer  weight  \n",
       "0                Isaac Childres  3.7720  \n",
       "1      Rob Daviau, Matt Leacock  2.8056  \n",
       "2                Vlaada Chvátil  4.3538  \n",
       "3  Ananda Gupta, Jason Matthews  3.5446  \n",
       "4               Jacob Fryxelius  3.2465  "
      ]
     },
     "metadata": {},
     "output_type": "display_data"
    }
   ],
   "source": [
    "import pandas as pd\n",
    "import numpy as np\n",
    "import random\n",
    "from IPython.display import display\n",
    "import ast\n",
    "\n",
    "# Import the dataset\n",
    "data = pd.read_csv(\"resource/asnlib/publicdata/bgg_db_2018_01.csv\",encoding = 'latin-1')\n",
    "\n",
    "# Display the data\n",
    "display(data.head())"
   ]
  },
  {
   "cell_type": "markdown",
   "metadata": {
    "deletable": false,
    "editable": false,
    "nbgrader": {
     "grade": false,
     "locked": true,
     "solution": false
    }
   },
   "source": [
    "Let's concentrate on the 'category' column of the data"
   ]
  },
  {
   "cell_type": "code",
   "execution_count": 2,
   "metadata": {
    "deletable": false,
    "editable": false,
    "nbgrader": {
     "grade": false,
     "locked": true,
     "solution": false
    }
   },
   "outputs": [
    {
     "name": "stdout",
     "output_type": "stream",
     "text": [
      "Adventure, Exploration, Fantasy, Fighting, Miniatures\n",
      "Environmental, Medical\n"
     ]
    }
   ],
   "source": [
    "print(data.loc[0, 'category'])\n",
    "print(data.loc[1, 'category'])"
   ]
  },
  {
   "cell_type": "markdown",
   "metadata": {
    "deletable": false,
    "editable": false,
    "nbgrader": {
     "grade": false,
     "locked": true,
     "solution": false
    }
   },
   "source": [
    "Observe that each game may be assigned one or more categories. Let us first get a list of all categories from this dataset."
   ]
  },
  {
   "cell_type": "markdown",
   "metadata": {
    "deletable": false,
    "editable": false,
    "nbgrader": {
     "grade": false,
     "locked": true,
     "solution": false
    }
   },
   "source": [
    "**Exercise 0** (2 points). Write some code to create a **list** named `categories` that lists **unique** categories sorted alphabetically from the `category` column of the data."
   ]
  },
  {
   "cell_type": "code",
   "execution_count": 3,
   "metadata": {},
   "outputs": [
    {
     "name": "stdout",
     "output_type": "stream",
     "text": [
      "You found 84 unique categories, the first few of which are:\n",
      "['Abstract Strategy', 'Action / Dexterity', 'Adventure', 'Age of Reason', 'American Civil War'].\n"
     ]
    }
   ],
   "source": [
    "categories = []\n",
    "\n",
    "###\n",
    "s = set()\n",
    "# lis = data.category.unique()\n",
    "for li in data.category:\n",
    "        s.update(li.split(', '))\n",
    "categories = list(s)\n",
    "categories.sort()\n",
    "###\n",
    "\n",
    "print(\"You found {} unique categories, the first few of which are:\\n{}.\".format(len(categories), categories[:5]))"
   ]
  },
  {
   "cell_type": "code",
   "execution_count": 4,
   "metadata": {
    "deletable": false,
    "editable": false,
    "nbgrader": {
     "grade": true,
     "grade_id": "Exercise 0",
     "locked": true,
     "points": "2",
     "solution": false
    }
   },
   "outputs": [
    {
     "name": "stdout",
     "output_type": "stream",
     "text": [
      "\n",
      " Passed!\n"
     ]
    }
   ],
   "source": [
    "# Test Cell: Exercise 0\n",
    "\n",
    "assert len(categories) == 84\n",
    "assert categories == sorted(categories)\n",
    "assert isinstance(categories,list)\n",
    "\n",
    "assert categories[0] == 'Abstract Strategy'\n",
    "assert categories[1] == 'Action / Dexterity'\n",
    "assert categories[15] == \"Children's Game\"\n",
    "assert categories[20] == 'Comic Book / Strip'\n",
    "assert categories[27] == 'Expansion for Base-game'\n",
    "assert categories[36] == 'Korean War'\n",
    "assert categories[46] == 'Movies / TV / Radio theme'\n",
    "assert categories[59] == 'Post-Napoleonic'\n",
    "assert categories[61] == 'Print & Play'\n",
    "assert categories[-1] == 'none'\n",
    "\n",
    "print('\\n Passed!')"
   ]
  },
  {
   "cell_type": "markdown",
   "metadata": {
    "deletable": false,
    "editable": false,
    "nbgrader": {
     "grade": false,
     "locked": true,
     "solution": false
    }
   },
   "source": [
    "**Exercise 1** (3 points). Write a function \n",
    "``` python\n",
    "def get_normalized_category_vector(game_categories,categories):\n",
    "    ...\n",
    "```\n",
    "\n",
    "that takes two inputs\n",
    "\n",
    "1. `game_categories`, a string of comma separated categories (think of this input as an entry from the `category` column of the data); and\n",
    "2. `categories`, a list of alphabetically sorted categories created in Exercise 0;\n",
    "\n",
    "and returns a _normalized category vector_, defined below, as a 1-D numpy array.\n",
    "\n",
    "A _category vector_ is defined as a vector of 1's and 0's where an entry is 1 if the board game has the corresponding category as one of its categories, or 0 otherwise.\n",
    "\n",
    "For example, suppose:\n",
    "\n",
    "```python\n",
    "# Game categories\n",
    "game_categories = 'Environmental, Medical'\n",
    "# List of all alphabetically sorted categories categories\n",
    "categories = ['Adventure', 'Environmental', 'Exploration', 'Fantasy', 'Fighting', 'Medical', 'Miniatures']\n",
    "```\n",
    "\n",
    "Then,\n",
    "\n",
    "```python\n",
    "assert game_category_vector == np.array([0, 1, 0, 0, 0, 1, 0])\n",
    "```\n",
    "\n",
    "The _normalized category vector_ is a category vector that is normalized to have a 2-norm length of one. For the preceding example:\n",
    "\n",
    "```python\n",
    "assert get_normalized_category_vector(game_categories, categories) == np.array([0, 1/sqrt(2), 0, 0, 0, 1/sqrt(2), 0])\n",
    "```"
   ]
  },
  {
   "cell_type": "code",
   "execution_count": 5,
   "metadata": {},
   "outputs": [],
   "source": [
    "def get_normalized_category_vector(game_categories,categories):\n",
    "    assert type(game_categories) is str\n",
    "    \n",
    "    ###\n",
    "\n",
    "    from numpy import linalg as LA\n",
    "# test0 = 'Environmental, Medical'\n",
    "# toy_categories = ['Adventure', 'Environmental', 'Exploration', 'Fantasy', 'Fighting', 'Medical', 'Miniatures']\n",
    "\n",
    "    l = np.array([int(x in game_categories.split(', ')) for x in categories])\n",
    "\n",
    "    return l/np.sqrt(len(game_categories.split(', ')))\n",
    "    ###\n"
   ]
  },
  {
   "cell_type": "code",
   "execution_count": 6,
   "metadata": {
    "deletable": false,
    "editable": false,
    "nbgrader": {
     "grade": true,
     "grade_id": "Exercise 1",
     "locked": true,
     "points": "3",
     "solution": false
    }
   },
   "outputs": [
    {
     "name": "stdout",
     "output_type": "stream",
     "text": [
      "\n",
      " Passed!\n"
     ]
    }
   ],
   "source": [
    "# Test Cell: Exercise 1\n",
    "\n",
    "test0 = 'Environmental, Medical'\n",
    "toy_categories = ['Adventure', 'Environmental', 'Exploration', 'Fantasy', 'Fighting', 'Medical', 'Miniatures']\n",
    "your_result = get_normalized_category_vector(test0,toy_categories)\n",
    "true_result = np.array([0.        , 0.70710678, 0.        , 0.        , 0.        ,\n",
    "       0.70710678, 0.        ])\n",
    "\n",
    "assert len(your_result)==len(true_result), \"The length does not match!\"\n",
    "assert np.all(np.isclose(your_result,true_result)), \"The result is not correct!\"\n",
    "\n",
    "# check a random sample\n",
    "\n",
    "df = data.sample(n=100)\n",
    "for category in df['category']:\n",
    "    l = len(category.split(', '))\n",
    "    v = get_normalized_category_vector(category,categories)\n",
    "    a = v[np.nonzero(v)]\n",
    "    b = np.ones(l)/np.sqrt(l)\n",
    "    assert len(v)==len(categories), \"The length of your vector is not correct!\"\n",
    "    assert np.all(np.isclose(a,b)), \"The result is not correct!\"\n",
    "\n",
    "print(\"\\n Passed!\")"
   ]
  },
  {
   "cell_type": "markdown",
   "metadata": {
    "deletable": false,
    "editable": false,
    "nbgrader": {
     "grade": false,
     "locked": true,
     "solution": false
    }
   },
   "source": [
    "**Exercise 2** (1 points). Write a function \n",
    "\n",
    "``` python\n",
    "def get_similarity_score(v1, v2):\n",
    "    ...\n",
    "```\n",
    "\n",
    "that takes two normalized category vectors (as 1-D numpy arrays) as inputs and returns a _cosine similarity score_ as an output.\n",
    "\n",
    "The cosine similarity of two normalized vectors is their dot product. As an example:\n",
    "\n",
    "``` python\n",
    "v1 = np.array([0, 1/sqrt(2), 0, 0, 0, 1/sqrt(2), 0])\n",
    "v2 = np.array([1/sqrt(3), 1/sqrt(3), 0, 0, 0, 0, 1/sqrt(3)])\n",
    "\n",
    "assert get_similarity_score(v1, v2) == 1/sqrt(6)\n",
    "```\n",
    "\n",
    "If you feel you need more details, see: https://en.wikipedia.org/wiki/Cosine_similarity."
   ]
  },
  {
   "cell_type": "code",
   "execution_count": 7,
   "metadata": {},
   "outputs": [],
   "source": [
    "def get_similarity_score(v1, v2):\n",
    "    assert len(v1)==len(v2)\n",
    "    \n",
    "    ###\n",
    "    from numpy import linalg as LA\n",
    "    return v1.dot(v2)/(LA.norm(v1)*LA.norm(v2))\n",
    "    ###\n"
   ]
  },
  {
   "cell_type": "code",
   "execution_count": 8,
   "metadata": {
    "deletable": false,
    "editable": false,
    "nbgrader": {
     "grade": true,
     "grade_id": "Exercise 2",
     "locked": true,
     "points": "1",
     "solution": false
    }
   },
   "outputs": [
    {
     "name": "stdout",
     "output_type": "stream",
     "text": [
      "\n",
      " Passed!\n"
     ]
    }
   ],
   "source": [
    "# Test Cell: Exercise 2\n",
    "\n",
    "v1 = np.array([0, 1/np.sqrt(2), 0, 0, 0, 1/np.sqrt(2), 0])\n",
    "v2 = np.array([1/np.sqrt(3), 1/np.sqrt(3), 0, 0, 0, 0, 1/np.sqrt(3)])\n",
    "your_score = get_similarity_score(v1, v2)\n",
    "true_score = 1/np.sqrt(6)\n",
    "assert np.isclose(your_score,true_score), \\\n",
    "    \"The result is not correct! \\n your score = {} \\n true score = {}\".format(your_score,true_score)\n",
    "\n",
    "\n",
    "# Test a random sample from the dataset\n",
    "\n",
    "for i in range(100):\n",
    "    c1 = data['category'].sample(1).iloc[0]\n",
    "    v1 = get_normalized_category_vector(c1,categories)\n",
    "    c2 = data['category'].sample(1).iloc[0]\n",
    "    v2 = get_normalized_category_vector(c2,categories)\n",
    "    your_score = get_similarity_score(v1, v2)\n",
    "    com_ind = np.intersect1d(np.nonzero(v1), np.nonzero(v2))\n",
    "    true_score=0\n",
    "    for i in com_ind:\n",
    "        true_score += v1[i]*v2[i]\n",
    "\n",
    "    assert np.isclose(your_score, true_score), \\\n",
    "        \"The result is not correct! \\n cat1 = {} \\n cat2 = {} \\n your score = {} \\n true score = {}\".format(c1,c2,your_score,true_score)\n",
    "\n",
    "print(\"\\n Passed!\")"
   ]
  },
  {
   "cell_type": "markdown",
   "metadata": {
    "deletable": false,
    "editable": false,
    "nbgrader": {
     "grade": false,
     "locked": true,
     "solution": false
    }
   },
   "source": [
    "**Instructions to prepare for Exercise 3.** The final objective of this problem is to create a \"game graph.\" In such a graph, each game is a node; an edge connecting the nodes exists if the similarity score between the two corresponding board games is greater than a predefined threshold. The example below shows how a game graph is generated.\n",
    "\n",
    "For instance, consider the categories of the following 3 games. The code prints categories of these 3 games:\n",
    "\n",
    "```python\n",
    "for i in range(6,9): print(i, data.loc[i,'category'])\n",
    "```\n",
    "- Civilization, Economic, Fantasy, Territory Building\n",
    "- Civilization, Economic, Fighting, Miniatures, Science Fiction, Territory Building\n",
    "- Ancient, Card Game, City Building, Civilization\n",
    "\n",
    "**Step 1)** Below is a **unique list of alphabetically sorted categories for this example**.\n",
    "\n",
    "```python\n",
    "['American West', 'Ancient', 'Card Game', 'City Building', 'Civilization', 'Economic', 'Fantasy', 'Fighting', 'Miniatures', 'Science Fiction', 'Territory Building']\n",
    "```\n",
    "\n",
    "> In the case of complete dataset, you should have found 84 categories in Exercise 0.\n",
    "\n",
    "**Step 2)** Below are **normalized category vectors for these games**\n",
    "\n",
    "```python\n",
    "# Game 6\n",
    "[ 0.   0.   0.   0.   0.5  0.5  0.5  0.   0.   0.   0.5]\n",
    "\n",
    "# Game 7\n",
    "[ 0.   0.   0.   0.   0.40824829  0.40824829  0.    0.40824829  0.40824829  0.40824829  0.40824829]\n",
    "\n",
    "# Game 8\n",
    "[ 0.   0.5  0.5  0.5  0.5  0.   0.   0.   0.   0.   0. ]\n",
    "```\n",
    "\n",
    "> In the case of complete dataset, these vectors will have the size of $1 \\times 84$.\n",
    "\n",
    "**Step 3)** Getting the similarity score between these metrices we can produce a $3 \\times 3$ matrix, where each row and column represent a game. The **similarity matrix** for this game can be written as,\n",
    "\n",
    "```python\n",
    "[[ 1.          0.61237244  0.25      ]\n",
    " [ 0.61237244  1.          0.20412415]\n",
    " [ 0.25        0.20412415  1.        ]]\n",
    "```\n",
    "\n",
    "Note that similarity of the game with itself will always be 1. Therefore the diagonal entries of this matrix will always be 1.\n",
    "\n",
    "> In the case of complete dataset, this matrix will be of the size 4999x4999 as there are a total of 4999 games.\n",
    "\n",
    "**Step 4)** With the `THRESHOLD` = 0.6, the final **game graph** becomes\n",
    "\n",
    "```python\n",
    "[[1 1 0]\n",
    " [1 1 0]\n",
    " [0 0 1]]\n",
    "```\n",
    "\n",
    "This shows that games with index 6 and 7 in the original dataset are similar to each other."
   ]
  },
  {
   "cell_type": "markdown",
   "metadata": {
    "deletable": false,
    "editable": false,
    "nbgrader": {
     "grade": false,
     "locked": true,
     "solution": false
    }
   },
   "source": [
    "**Exercise 3** (4 points). Write some code to create a sparse CSR matrix named **`game_graph`** that represents a game graph as described previously.\n",
    "\n",
    "A few points to note:\n",
    "1. The input dataset, named **`data`**, has 4999 games.\n",
    "2. Take the index of a game in the input dataframe to be the game's index. The index 0 of the input dataframe should also corresponds row 0 and column 0 of the output sparse matrix.\n",
    "3. You will need to calculate normalized category vector for each of the games.\n",
    "4. You will then need to find similarity between each pair of the games.\n",
    "5. The final output **game_graph** should be a 4999x4999 CSR sparse matrix.\n",
    "\n",
    "A few more points to note:\n",
    "1. 4999x4999 is a fairly large matrix.\n",
    "2. 4999 normalized game category vectors, each of size (1x84) also forms a large matrix.\n",
    "3. Be cautious when using for loops with normal numpy arrays as they will take a considerable amount of time to run.\n",
    "4. Storing these large matrices into a sparse matrix format would improve the performance significantly.\n",
    "5. For efficiency's sake, sparse matrix operations like `vstack()`, `transpose()`, and `dot()`, may prove to be convenient."
   ]
  },
  {
   "cell_type": "code",
   "execution_count": 9,
   "metadata": {},
   "outputs": [],
   "source": [
    "import scipy.sparse as sp # Hint\n",
    "THRESHOLD = 0.6\n",
    "num_games = len(data)\n",
    "\n",
    "###\n",
    "n = []\n",
    "for game_categories in data.category:\n",
    "    n.append(get_normalized_category_vector(game_categories,categories))\n",
    "\n",
    "r = []\n",
    "c = []\n",
    "d = []\n",
    "for i in range(num_games):\n",
    "    for j in range(i+1, num_games):\n",
    "        sim = n[i].dot(n[j])\n",
    "        if sim > 0.6:\n",
    "            r.append(i)\n",
    "            c.append(j)\n",
    "            d.append(1)\n",
    "csr =  sp.csr.csr_matrix((d, (r, c)), shape=(num_games,num_games)) \n",
    "game_graph = csr + csr.transpose() \n",
    "row = range(num_games)\n",
    "col = range(num_games)\n",
    "ds = np.ones(num_games)\n",
    "diag =  sp.csr.csr_matrix((ds, (row, col)), shape=(num_games,num_games)) \n",
    "game_graph = game_graph + diag\n",
    "\n",
    "\n",
    "\n",
    "###\n"
   ]
  },
  {
   "cell_type": "code",
   "execution_count": 18,
   "metadata": {},
   "outputs": [],
   "source": [
    "#Solution II\n",
    "vector = []\n",
    "for i in range(num_games):\n",
    "    vector.append(sp.csr.csr_matrix(get_normalized_category_vector(data.loc[i,'category'],categories)))\n",
    "\n",
    "vectors = sp.vstack(vector)\n",
    "game_graph = vectors.dot(vectors.transpose())\n",
    "game_graph = (game_graph>THRESHOLD).astype(int)\n"
   ]
  },
  {
   "cell_type": "code",
   "execution_count": 19,
   "metadata": {
    "deletable": false,
    "editable": false,
    "nbgrader": {
     "grade": true,
     "grade_id": "Exercise 3",
     "locked": true,
     "points": "4",
     "solution": false
    }
   },
   "outputs": [
    {
     "name": "stdout",
     "output_type": "stream",
     "text": [
      "\n",
      " Passed!\n"
     ]
    }
   ],
   "source": [
    "# Test Cell: Exercise 3\n",
    "\n",
    "assert type(game_graph) is sp.csr.csr_matrix, \"We require a sparse matrix in the CSR format!\"\n",
    "assert game_graph.shape[0]==4999, \"The number of rows is not correct!\"\n",
    "assert game_graph.shape[1]==4999, \"The number of columns is not correct!\"\n",
    "assert sp.csr_matrix.count_nonzero(game_graph)==606977, \"The number of nonzero entries is not correct!\"\n",
    "\n",
    "# Check the result randomly \n",
    "\n",
    "ind1 = np.random.randint(0, len(data),100)\n",
    "ind2 = np.random.randint(0, len(data),100)\n",
    "for i in ind1:\n",
    "    for j in ind2:\n",
    "        v1 = get_normalized_category_vector(data.loc[i,]['category'],categories)\n",
    "        v2 = get_normalized_category_vector(data.loc[j,]['category'],categories)\n",
    "        sim_score = v1.dot(v2)\n",
    "        con = 1 if sim_score > THRESHOLD else 0\n",
    "        assert game_graph[i,j]==game_graph[j,i]==con,\"Your result is wrong at position {} or {}\".format((i,j), (j,i))\n",
    "        if not game_graph[i,j]==game_graph[j,i]==con:\n",
    "            print(\"Your result at position {} is {}\".format((i,j),game_graph[i,j])) \n",
    "            print(\"Your result at position {} is {}\".format((j,i),game_graph[j,i]))\n",
    "            print(\"Correct value at both positions should be {}\".format(con))\n",
    "\n",
    "\n",
    "print(\"\\n Passed!\")\n"
   ]
  },
  {
   "cell_type": "markdown",
   "metadata": {
    "deletable": false,
    "editable": false,
    "nbgrader": {
     "grade": false,
     "locked": true,
     "solution": false
    }
   },
   "source": [
    "**Fin!** That's the end of this problem. Don't forget to restart and run this notebook from the beginning to verify that it works top-to-bottom before submitting. You can move on to the next problem"
   ]
  }
 ],
 "metadata": {
  "kernelspec": {
   "display_name": "Python 3.7",
   "language": "python",
   "name": "python37"
  },
  "language_info": {
   "codemirror_mode": {
    "name": "ipython",
    "version": 3
   },
   "file_extension": ".py",
   "mimetype": "text/x-python",
   "name": "python",
   "nbconvert_exporter": "python",
   "pygments_lexer": "ipython3",
   "version": "3.7.5"
  }
 },
 "nbformat": 4,
 "nbformat_minor": 2
}
