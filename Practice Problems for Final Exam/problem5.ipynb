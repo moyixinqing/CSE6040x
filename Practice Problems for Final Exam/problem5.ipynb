{
 "cells": [
  {
   "cell_type": "markdown",
   "metadata": {
    "deletable": false,
    "editable": false,
    "nbgrader": {
     "grade": false,
     "grade_id": "cell-4391b974a306355e",
     "locked": true,
     "schema_version": 1,
     "solution": false
    }
   },
   "source": [
    "# Problem 5\n",
    "\n",
    "This problem will expose you to a different but common data format (JSON), the methods that can be used to load data from JSON files, and also tests your data processing/regular expression skills. These can be valuable when you have to collect or scrape your own data in the future.\n",
    "\n",
    "There are five exercises (numbered 0-4) worth a total of ten (10) points."
   ]
  },
  {
   "cell_type": "markdown",
   "metadata": {
    "deletable": false,
    "editable": false,
    "nbgrader": {
     "grade": false,
     "grade_id": "cell-965ed277c855938f",
     "locked": true,
     "schema_version": 1,
     "solution": false
    }
   },
   "source": [
    "## The Data\n",
    "\n",
    "We are going to play with a mock dataset in the *JavaScript Object Notation (JSON)* format. (You can check out the wiki intro to this format [here](https://en.wikipedia.org/wiki/JSON) ). \n",
    "\n",
    "JSON has it's origins on the web, where it was used as a format to send data from a server to a client, and then handled at the client side using JavaScript (hence the name). It is a common format in data analysis, and is the main format for a great variety of data sources, such as Twitter, Yelp!, Facebook, and many others.\n",
    "\n",
    "The JSON format is a text format. From your knowledge of Python lists and dictionaries, it should be easy to understand. Let's take a quick look at an example. It's a simple database of individuals with their names, email addresses, gender, location, and lists of friends.\n",
    "\n",
    "```json\n",
    "[{\n",
    "    \"city\": \"Sitovo\",\n",
    "    \"name\": {\n",
    "        \"last_name\": \"Ricciardo\",\n",
    "        \"first_name\": \"Nerta\"\n",
    "    },\n",
    "    \"id\": 1,\n",
    "    \"email\": {\n",
    "        \"personal\": \"nricciardo0@hostgator.com\",\n",
    "        \"working\": \"nricciardo0@java.com\"\n",
    "    },\n",
    "    \"friends\": [\n",
    "        {\n",
    "            \"last_name\": \"De'Vere - Hunt\",\n",
    "            \"first_name\": \"Miran\"\n",
    "        },\n",
    "        {\n",
    "            \"last_name\": \"Fryers\",\n",
    "            \"first_name\": \"Dorisa\"\n",
    "        },\n",
    "        {\n",
    "            \"last_name\": \"Brusin\",\n",
    "            \"first_name\": \"Carina\"\n",
    "        }\n",
    "    ],\n",
    "    \"gender\": \"Female\"\n",
    "}, ...]\n",
    "```\n",
    "\n",
    "JSON uses a Python-like syntax to describe values. For instance, the above includes simple values, like strings and integers. It also has collections: square brackets (`[...]`) denote lists of comma-separated elements; while curly brackets (`{...}`) mark dictionaries, which contain comma-separated key-value (or \"attribute-value\") pairs. And just like Python, these collections may be nested: observe that in some of the key-value pairs, the values are lists or dictionaries.\n",
    "\n",
    "Indeed, after reading this file into a Python object, you will access data elements using the same 0-based index and dictionary key-value notation. For instance, if that object is stored in a Python variable named `data`, then `data[0][\"name\"][\"last_name\"] == \"Ricciardo\"`."
   ]
  },
  {
   "cell_type": "markdown",
   "metadata": {
    "deletable": false,
    "editable": false,
    "nbgrader": {
     "grade": false,
     "grade_id": "cell-348f6308cbae1aa2",
     "locked": true,
     "schema_version": 1,
     "solution": false
    }
   },
   "source": [
    "The data you will need is pre-loaded into the Vocareum environment. The function, `fn(f)`, below, will convert filenames into fully qualified path names that point to the right places on Vocareum where the data reside. If you are running in your local environment, you may want to modify this function.\n",
    "\n",
    "> A file `XXX` referenced in this notebook may be located at https://cse6040.gatech.edu/datasets/json/XXX."
   ]
  },
  {
   "cell_type": "code",
   "execution_count": 1,
   "metadata": {},
   "outputs": [
    {
     "data": {
      "text/plain": [
       "'./resource/asnlib/publicdata/MOCK_DATA.json'"
      ]
     },
     "execution_count": 1,
     "metadata": {},
     "output_type": "execute_result"
    }
   ],
   "source": [
    "def fn(fn_base, dirname='./resource/asnlib/publicdata/'):\n",
    "    return '{}{}'.format(dirname, fn_base)\n",
    "\n",
    "# Demo:\n",
    "fn('MOCK_DATA.json')"
   ]
  },
  {
   "cell_type": "markdown",
   "metadata": {
    "deletable": false,
    "editable": false,
    "nbgrader": {
     "grade": false,
     "locked": true,
     "solution": false
    }
   },
   "source": [
    "### Loading JSON in Python\n",
    "\n",
    "There are several ways in Python to read in a JSON (`.json`) file.\n",
    "\n",
    "Like **`csv`**, Python has a built-in package called **`json`**, to operate on JSON files. (As always, check out the [documentation](https://docs.python.org/3/library/json.html).)"
   ]
  },
  {
   "cell_type": "code",
   "execution_count": 2,
   "metadata": {
    "deletable": false,
    "editable": false,
    "nbgrader": {
     "grade": false,
     "locked": true,
     "solution": false
    }
   },
   "outputs": [
    {
     "name": "stdout",
     "output_type": "stream",
     "text": [
      "Ricciardo\n"
     ]
    }
   ],
   "source": [
    "import pandas as pd\n",
    "import json\n",
    "\n",
    "json_file = open(fn('MOCK_DATA.json'), encoding=\"utf8\")\n",
    "json_str = json_file.read()\n",
    "json_data = json.loads(json_str)\n",
    "\n",
    "# Demo:\n",
    "print(json_data[0][\"name\"][\"last_name\"]) # Should be 'Ricciardo'"
   ]
  },
  {
   "cell_type": "markdown",
   "metadata": {
    "deletable": false,
    "editable": false,
    "nbgrader": {
     "grade": false,
     "grade_id": "cell-bdc5b9a745b8fa25",
     "locked": true,
     "schema_version": 1,
     "solution": false
    }
   },
   "source": [
    "**Exercise 0** (2 points). Complete the following function, **`find_emails(data)`**, so that it returns a  to save all the `working` emails in the input file into a list named `emails` and sort it alphabetically in **descending** order.  "
   ]
  },
  {
   "cell_type": "code",
   "execution_count": 3,
   "metadata": {
    "nbgrader": {
     "grade": false,
     "grade_id": "find_emails",
     "locked": false,
     "schema_version": 1,
     "solution": true
    }
   },
   "outputs": [],
   "source": [
    "def find_emails(data):\n",
    "    ###\n",
    "#     data = json_data.copy()\n",
    "    li = []\n",
    "    for d in data:\n",
    "        li.append(d['email']['working'])\n",
    "    return sorted(li, reverse=True)\n",
    "    ###\n"
   ]
  },
  {
   "cell_type": "code",
   "execution_count": 4,
   "metadata": {
    "deletable": false,
    "editable": false,
    "nbgrader": {
     "grade": true,
     "grade_id": "find_emails_test",
     "locked": true,
     "points": 2,
     "schema_version": 1,
     "solution": false
    }
   },
   "outputs": [
    {
     "name": "stdout",
     "output_type": "stream",
     "text": [
      "\n",
      "(Passed!)\n"
     ]
    }
   ],
   "source": [
    "# Test cell: `find_emails`\n",
    "\n",
    "emails = find_emails(json_data)\n",
    "assert len(emails) == 1000\n",
    "assert type(emails) == list\n",
    "assert emails[0] == 'zwardropege@home.pl'\n",
    "assert emails[726] == 'dplanfn@newyorker.com'\n",
    "assert emails[349] == 'mgerbel3j@blogger.com'\n",
    "assert emails[85] == 'tbenson70@salon.com'\n",
    "assert emails[899] == 'bdegowe77@unblog.fr'\n",
    "assert emails[181] == 'rdurbyngz@aboutads.info'\n",
    "assert emails[703] == 'ebaudq4@sogou.com'\n",
    "assert emails[156] == 'rsimicqg@gov.uk'\n",
    "assert emails[483] == 'jsemplenj@google.ru'\n",
    "assert emails[249] == 'oblitzer30@dropbox.com'\n",
    "assert emails[134] == 'sbrandomo9@smh.com.au'\n",
    "\n",
    "print(\"\\n(Passed!)\")"
   ]
  },
  {
   "cell_type": "markdown",
   "metadata": {
    "deletable": false,
    "editable": false,
    "nbgrader": {
     "grade": false,
     "grade_id": "cell-36a5e99db39948a2",
     "locked": true,
     "schema_version": 1,
     "solution": false
    }
   },
   "source": [
    "**Exercise 1** (2 points). Many of the people in tihs dataset have friends. But sadly, some of them don't. :(  \n",
    "\n",
    "Complete the function, **`are_u_lonely(lst)`**, to find the people without friends. The input to the function will be the list created from the JSON file's contents. The function should return a list of names constructed by concatenating the first name and last name together separated by a single space.\n",
    "\n",
    "(For example, Joanne Goodisson is one of these people. She should be an element in the list shown as `\"Joanne Goodisson\"`.)"
   ]
  },
  {
   "cell_type": "code",
   "execution_count": 5,
   "metadata": {
    "nbgrader": {
     "grade": false,
     "grade_id": "are_u_lonely",
     "locked": false,
     "schema_version": 1,
     "solution": true
    }
   },
   "outputs": [],
   "source": [
    "def are_u_lonely(lst):\n",
    "    ###\n",
    "#     lst = json_data.copy()\n",
    "    nali = []\n",
    "    for l in lst:\n",
    "        if len(l['friends'])==0:\n",
    "            name = l['name']['first_name'] + ' '+ l['name']['last_name']\n",
    "            nali.append(name)\n",
    "    return nali\n",
    "    ###\n"
   ]
  },
  {
   "cell_type": "code",
   "execution_count": 6,
   "metadata": {
    "deletable": false,
    "editable": false,
    "nbgrader": {
     "grade": true,
     "grade_id": "are_u_lonely_test",
     "locked": true,
     "points": 2,
     "schema_version": 1,
     "solution": false
    }
   },
   "outputs": [
    {
     "name": "stdout",
     "output_type": "stream",
     "text": [
      "\n",
      "(Passed!)\n"
     ]
    }
   ],
   "source": [
    "# Test cell: `are_u_lonely_test`\n",
    "\n",
    "lonely_guys = are_u_lonely(json_data)\n",
    "assert len(lonely_guys) == 171, \"There are {} lonely guys in your result, shoud be 171\".format(len(lonely_guys))\n",
    "assert lonely_guys[2] == 'Joanne Goodisson', 'Joanne should be one of them, but she is not in your result.'\n",
    "assert lonely_guys[109] == 'Violetta Swinden', 'Violetta Swinden is missing from your list.'\n",
    "assert lonely_guys[143] == 'Seumas Turban', 'Seumas Turban is missing from your list.'\n",
    "assert lonely_guys[78] == 'Giraldo Attard', 'Giraldo Attard is missing from your list.'\n",
    "assert lonely_guys[127] == 'Gale Ryley', 'Gale Ryley is missing from your list.'\n",
    "assert lonely_guys[99] == 'Pieter Dillestone', 'Pieter Dillestone is missing from your list.'\n",
    "assert lonely_guys[139] == 'Latashia Greenhaugh', 'Latashia Greenhaugh is missing from your list.'\n",
    "assert lonely_guys[46] == 'Melodee Malster', 'Melodee Malster is missing from your list.'\n",
    "assert lonely_guys[7] == 'Georgine Limprecht', 'Georgine Limprecht is missing from your list.'\n",
    "assert lonely_guys[23] == 'Ilse Tackley', 'Ilse Tackley is missing from your list.'\n",
    "assert lonely_guys[29] == 'Camile Theobalds', 'Camile Theobalds is missing from your list.'\n",
    "\n",
    "print(\"\\n(Passed!)\")"
   ]
  },
  {
   "cell_type": "markdown",
   "metadata": {
    "deletable": false,
    "editable": false,
    "nbgrader": {
     "grade": false,
     "grade_id": "cell-b7f23d0b0d55990a",
     "locked": true,
     "schema_version": 1,
     "solution": false
    }
   },
   "source": [
    "**Exercise 2** (2 points). Write a function **`edu_users()`**, that finds all users who are using a `'.edu'` domain email address as their personal email, and returns their user ID's as a list."
   ]
  },
  {
   "cell_type": "code",
   "execution_count": 7,
   "metadata": {
    "nbgrader": {
     "grade": false,
     "grade_id": "edu_users",
     "locked": false,
     "schema_version": 1,
     "solution": true
    }
   },
   "outputs": [],
   "source": [
    "def edu_users(lst):\n",
    "    ###\n",
    "#     lst = json_data.copy()\n",
    "    idls = []\n",
    "    for l in lst:\n",
    "        if l['email']['personal'][-4:] == '.edu':\n",
    "            idls.append(l['id'])\n",
    "    return idls\n",
    "    ###\n"
   ]
  },
  {
   "cell_type": "code",
   "execution_count": 8,
   "metadata": {
    "deletable": false,
    "editable": false,
    "nbgrader": {
     "grade": true,
     "grade_id": "edu_users_test",
     "locked": true,
     "points": 2,
     "schema_version": 1,
     "solution": false
    }
   },
   "outputs": [
    {
     "name": "stdout",
     "output_type": "stream",
     "text": [
      "\n",
      "(Passed!)\n"
     ]
    }
   ],
   "source": [
    "# Test cell: `edu_users_test`\n",
    "\n",
    "test_users = edu_users(json_data)\n",
    "assert len(test_users) == 53, \"You found {} people using edu emails, but there should be 53.\".format(len(test_users))\n",
    "assert json_data[test_users[-1]-1]['city'] == 'Alajuela'\n",
    "\n",
    "print(\"\\n(Passed!)\")"
   ]
  },
  {
   "cell_type": "markdown",
   "metadata": {
    "deletable": false,
    "editable": false,
    "nbgrader": {
     "grade": false,
     "grade_id": "cell-2b0a8cc23457598b",
     "locked": true,
     "schema_version": 1,
     "solution": false
    }
   },
   "source": [
    "**Exercise 3** (1 point). Write a function that, given the filename of a JSON file, returns the data as a Pandas dataframe.\n",
    "\n",
    "Pandas has a convenient function to do just that. Check the documentation for [pd.read_json()](https://pandas.pydata.org/pandas-docs/stable/generated/pandas.read_json.html) and use it to complete the function below."
   ]
  },
  {
   "cell_type": "code",
   "execution_count": 9,
   "metadata": {
    "nbgrader": {
     "grade": false,
     "grade_id": "pd_load_json",
     "locked": false,
     "schema_version": 1,
     "solution": true
    }
   },
   "outputs": [
    {
     "data": {
      "text/html": [
       "<div>\n",
       "<style scoped>\n",
       "    .dataframe tbody tr th:only-of-type {\n",
       "        vertical-align: middle;\n",
       "    }\n",
       "\n",
       "    .dataframe tbody tr th {\n",
       "        vertical-align: top;\n",
       "    }\n",
       "\n",
       "    .dataframe thead th {\n",
       "        text-align: right;\n",
       "    }\n",
       "</style>\n",
       "<table border=\"1\" class=\"dataframe\">\n",
       "  <thead>\n",
       "    <tr style=\"text-align: right;\">\n",
       "      <th></th>\n",
       "      <th>id</th>\n",
       "      <th>name</th>\n",
       "      <th>email</th>\n",
       "      <th>gender</th>\n",
       "      <th>city</th>\n",
       "      <th>friends</th>\n",
       "    </tr>\n",
       "  </thead>\n",
       "  <tbody>\n",
       "    <tr>\n",
       "      <th>0</th>\n",
       "      <td>1</td>\n",
       "      <td>{'first_name': 'Nerta', 'last_name': 'Ricciardo'}</td>\n",
       "      <td>{'personal': 'nricciardo0@hostgator.com', 'wor...</td>\n",
       "      <td>Female</td>\n",
       "      <td>Sitovo</td>\n",
       "      <td>[{'first_name': 'Miran', 'last_name': 'De'Vere...</td>\n",
       "    </tr>\n",
       "    <tr>\n",
       "      <th>1</th>\n",
       "      <td>2</td>\n",
       "      <td>{'first_name': 'Minerva', 'last_name': 'Little...</td>\n",
       "      <td>{'personal': 'mlittlewood1@icio.us', 'working'...</td>\n",
       "      <td>Female</td>\n",
       "      <td>Jiaoyuan</td>\n",
       "      <td>[{'first_name': 'Dian', 'last_name': 'Hounsham...</td>\n",
       "    </tr>\n",
       "    <tr>\n",
       "      <th>2</th>\n",
       "      <td>3</td>\n",
       "      <td>{'first_name': 'Rosa', 'last_name': 'Casswell'}</td>\n",
       "      <td>{'personal': 'rcasswell2@soup.io', 'working': ...</td>\n",
       "      <td>Female</td>\n",
       "      <td>Zhenchuan</td>\n",
       "      <td>[{'first_name': 'Meghann', 'last_name': 'Vanna...</td>\n",
       "    </tr>\n",
       "    <tr>\n",
       "      <th>3</th>\n",
       "      <td>4</td>\n",
       "      <td>{'first_name': 'Loren', 'last_name': 'Bugbee'}</td>\n",
       "      <td>{'personal': 'lbugbee3@dmoz.org', 'working': '...</td>\n",
       "      <td>Female</td>\n",
       "      <td>Rokytne</td>\n",
       "      <td>[]</td>\n",
       "    </tr>\n",
       "    <tr>\n",
       "      <th>4</th>\n",
       "      <td>5</td>\n",
       "      <td>{'first_name': 'Neda', 'last_name': 'De Norman...</td>\n",
       "      <td>{'personal': 'ndenormanville4@illinois.edu', '...</td>\n",
       "      <td>Female</td>\n",
       "      <td>Antipolo</td>\n",
       "      <td>[{'first_name': 'Andrus', 'last_name': 'Szymon...</td>\n",
       "    </tr>\n",
       "  </tbody>\n",
       "</table>\n",
       "</div>"
      ],
      "text/plain": [
       "   id                                               name  \\\n",
       "0   1  {'first_name': 'Nerta', 'last_name': 'Ricciardo'}   \n",
       "1   2  {'first_name': 'Minerva', 'last_name': 'Little...   \n",
       "2   3    {'first_name': 'Rosa', 'last_name': 'Casswell'}   \n",
       "3   4     {'first_name': 'Loren', 'last_name': 'Bugbee'}   \n",
       "4   5  {'first_name': 'Neda', 'last_name': 'De Norman...   \n",
       "\n",
       "                                               email  gender       city  \\\n",
       "0  {'personal': 'nricciardo0@hostgator.com', 'wor...  Female     Sitovo   \n",
       "1  {'personal': 'mlittlewood1@icio.us', 'working'...  Female   Jiaoyuan   \n",
       "2  {'personal': 'rcasswell2@soup.io', 'working': ...  Female  Zhenchuan   \n",
       "3  {'personal': 'lbugbee3@dmoz.org', 'working': '...  Female    Rokytne   \n",
       "4  {'personal': 'ndenormanville4@illinois.edu', '...  Female   Antipolo   \n",
       "\n",
       "                                             friends  \n",
       "0  [{'first_name': 'Miran', 'last_name': 'De'Vere...  \n",
       "1  [{'first_name': 'Dian', 'last_name': 'Hounsham...  \n",
       "2  [{'first_name': 'Meghann', 'last_name': 'Vanna...  \n",
       "3                                                 []  \n",
       "4  [{'first_name': 'Andrus', 'last_name': 'Szymon...  "
      ]
     },
     "execution_count": 9,
     "metadata": {},
     "output_type": "execute_result"
    }
   ],
   "source": [
    "def pd_load_json(file_name):\n",
    "    ###\n",
    "     return pd.read_json(file_name)\n",
    "    ###\n",
    "    \n",
    "pd_load_json(fn(\"MOCK_DATA.json\")).head()"
   ]
  },
  {
   "cell_type": "code",
   "execution_count": 10,
   "metadata": {
    "deletable": false,
    "editable": false,
    "nbgrader": {
     "grade": true,
     "grade_id": "pd_load_json_test",
     "locked": true,
     "points": 1,
     "schema_version": 1,
     "solution": false
    }
   },
   "outputs": [
    {
     "name": "stdout",
     "output_type": "stream",
     "text": [
      "\n",
      "(Passed!)\n"
     ]
    }
   ],
   "source": [
    "# Test cell: `pd_load_json_test`\n",
    "\n",
    "test_df = pd_load_json(fn('MOCK_DATA.json'))\n",
    "assert len(test_df) == 1000\n",
    "assert set(test_df.columns.tolist()) == {'city', 'email', 'friends', 'gender', 'id', 'name'}\n",
    "\n",
    "print(\"\\n(Passed!)\")"
   ]
  },
  {
   "cell_type": "markdown",
   "metadata": {
    "deletable": false,
    "editable": false,
    "nbgrader": {
     "grade": false,
     "grade_id": "cell-eb98859ff1dd36e0",
     "locked": true,
     "schema_version": 1,
     "solution": false
    }
   },
   "source": [
    "**Exercise 4** (3 points). You should observe that the personal and working email addresses appear in same column? Complete the function, **`split_emails()`** below, so that it separates them into two new columns named `\"personal\"` and `\"working\"`. It should return a new dataframe that has all the same columns, but with the `\"email\"` column removed and replaced by these two new columns. (See the test cell if this is unclear.)\n",
    "\n",
    "> Hint: There is a nice way of using `.apply` and `pd.Series` to accomplish this task: [Stack Overflow](https://stackoverflow.com/questions/38231591/splitting-dictionary-list-inside-a-pandas-column-into-separate-columns) is your friend!"
   ]
  },
  {
   "cell_type": "code",
   "execution_count": 11,
   "metadata": {
    "nbgrader": {
     "grade": false,
     "grade_id": "split_emails",
     "locked": false,
     "schema_version": 1,
     "solution": true
    }
   },
   "outputs": [],
   "source": [
    "def split_emails(file_name):\n",
    "    df = pd_load_json(file_name)\n",
    "    ###\n",
    "# df = pd_load_json(fn(\"MOCK_DATA.json\"))\n",
    "    return df.join(df['email'].apply(pd.Series)).drop('email', axis=1)  \n",
    "    ###\n",
    "    \n",
    "# split_emails(fn(\"MOCK_DATA.json\")).head()"
   ]
  },
  {
   "cell_type": "code",
   "execution_count": 12,
   "metadata": {
    "deletable": false,
    "editable": false,
    "nbgrader": {
     "grade": true,
     "grade_id": "split_emails_test",
     "locked": true,
     "points": 3,
     "schema_version": 1,
     "solution": false
    }
   },
   "outputs": [
    {
     "name": "stdout",
     "output_type": "stream",
     "text": [
      "\n",
      "(Passed!)\n"
     ]
    }
   ],
   "source": [
    "# Test cell: `Exercise 5`\n",
    "\n",
    "test_df = split_emails(fn('MOCK_DATA.json'))\n",
    "assert len(test_df) == 1000\n",
    "assert set(test_df.columns.tolist()) == {'city', 'friends', 'gender', 'id', 'name', 'personal', 'working'}\n",
    "assert test_df.personal[0] == 'nricciardo0@hostgator.com'\n",
    "assert test_df.personal[999] == 'bbretonrr@pen.io'\n",
    "\n",
    "print(\"\\n(Passed!)\")"
   ]
  },
  {
   "cell_type": "markdown",
   "metadata": {
    "collapsed": true,
    "deletable": false,
    "editable": false,
    "nbgrader": {
     "grade": false,
     "grade_id": "cell-945f6efafe191de6",
     "locked": true,
     "schema_version": 1,
     "solution": false
    }
   },
   "source": [
    "**Fin!** You have reached the end of this problem. Don't forget to submit it before moving on."
   ]
  }
 ],
 "metadata": {
  "celltoolbar": "Create Assignment",
  "kernelspec": {
   "display_name": "Python 3.7",
   "language": "python",
   "name": "python37"
  },
  "language_info": {
   "codemirror_mode": {
    "name": "ipython",
    "version": 3
   },
   "file_extension": ".py",
   "mimetype": "text/x-python",
   "name": "python",
   "nbconvert_exporter": "python",
   "pygments_lexer": "ipython3",
   "version": "3.7.5"
  }
 },
 "nbformat": 4,
 "nbformat_minor": 2
}
