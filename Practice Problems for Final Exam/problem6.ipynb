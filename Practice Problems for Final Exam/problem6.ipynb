{
 "cells": [
  {
   "cell_type": "markdown",
   "metadata": {
    "deletable": false,
    "editable": false,
    "nbgrader": {
     "grade": false,
     "grade_id": "cell-95547b0d46db0665",
     "locked": true,
     "schema_version": 1,
     "solution": false
    }
   },
   "source": [
    "# Problem 6\n",
    "\n",
    "In this problem, you will write code to \"parse\" a restricted form of SQL queries. These exercises are about string processing and regular expressions. There are five (5) exercises, numbered 0-4, which are worth a total of ten (10) points."
   ]
  },
  {
   "cell_type": "code",
   "execution_count": 1,
   "metadata": {
    "collapsed": true,
    "deletable": false,
    "editable": false,
    "nbgrader": {
     "grade": false,
     "grade_id": "cell-8bdacbbe5933030e",
     "locked": true,
     "schema_version": 1,
     "solution": false
    }
   },
   "outputs": [],
   "source": [
    "from IPython.display import display\n",
    "\n",
    "import re\n",
    "import pandas as pd\n",
    "\n",
    "# Random number generation for generating test cases:\n",
    "from random import randrange, randint, choice, sample"
   ]
  },
  {
   "cell_type": "markdown",
   "metadata": {
    "deletable": false,
    "editable": false,
    "nbgrader": {
     "grade": false,
     "grade_id": "cell-547a5e78dc5c8da9",
     "locked": true,
     "schema_version": 1,
     "solution": false
    }
   },
   "source": [
    "**Background: SQL review.** Suppose you have two SQL tables, `OneTable` and `AnotherTable`, and you wish to perform an inner-join on that links a column named `ColA` in `OneTable` with `ColB` in `AnotherTable`. Recall that one simple way to do that in SQL would be:\n",
    "\n",
    "```SQL\n",
    "    SELECT * FROM OneTable, AnotherTable\n",
    "        WHERE OneTable.ColA = AnotherTable.ColB\n",
    "```"
   ]
  },
  {
   "cell_type": "markdown",
   "metadata": {
    "deletable": false,
    "editable": false,
    "nbgrader": {
     "grade": false,
     "grade_id": "cell-766e9020a27cf85a",
     "locked": true,
     "schema_version": 1,
     "solution": false
    }
   },
   "source": [
    "Or, consider the following more complex example. Suppose you have an additional table named `YetAThird` and you wish to extend the inner-join to include matches between its column, `ColC`, and a second column from `AnotherTable` named `ColB2`:\n",
    "\n",
    "```SQL\n",
    "    SELECT * FROM OneTable, AnotherTable, YetAThird\n",
    "        WHERE OneTable.ColA = AnotherTable.ColB AND AnotherTable.ColB2 = YetAThird.ColC\n",
    "```"
   ]
  },
  {
   "cell_type": "markdown",
   "metadata": {
    "deletable": false,
    "editable": false,
    "nbgrader": {
     "grade": false,
     "grade_id": "cell-03fc9bc5335821ff",
     "locked": true,
     "schema_version": 1,
     "solution": false
    }
   },
   "source": [
    "**Exercise 0** (2 points). Suppose you are given a string containing an SQL query in the restricted form,\n",
    "\n",
    "```SQL\n",
    "    SELECT * FROM [tbls] WHERE [conds]\n",
    "```\n",
    "\n",
    "Implement the function, **`split_simple_join(q)`**, so that it takes a query string **`q`** in the form shown above and **returns a pair of substrings** corresponding to `[tbls]` and `[conds]`.\n",
    "\n",
    "For example, if\n",
    "\n",
    "```python\n",
    "    q == \"\"\"SELECT * FROM OneTable, AnotherTable, YetAThird\n",
    "              WHERE OneTable.ColA = AnotherTable.ColB AND AnotherTable.ColB2=YetAThird.ColC\"\"\"\n",
    "```\n",
    "\n",
    "then\n",
    "\n",
    "```python\n",
    "    split_simple_join(q) == (\"OneTable, AnotherTable, YetAThird\",\n",
    "                             \"OneTable.ColA = AnotherTable.ColB AND AnotherTable.ColB2=YetAThird.ColC\")\n",
    "```\n",
    "\n",
    "**IMPORTANT NOTE!** In this problem, you only need to return the substring between `FROM` and `WHERE` and the one after `WHERE`. You will extract the table names and conditions later on, below.\n",
    "\n",
    "You should make the following assumptions:\n",
    "\n",
    "* The input string `q` contains exactly one such query, with no nesting of queries (e.g., no instances of `\"SELECT * FROM (SELECT ...)\"`). However, the query may (or may not) be a multiline string as shown in the example. (Treat newlines as whitespace.)\n",
    "* Your function should ignore any leading or trailing whitespace around the SQL keywords, e.g., `SELECT`, `FROM`, and `WHERE`.\n",
    "* The substring between `SELECT` and `FROM` will be any amount of whitespace, followed by an asterisk (`*`). \n",
    "* You should **not** treat the SQL keywords in a case-sensitive way; for example, you would regard `SELECT`, `select`, and `sElEct` as the same. However, do **not** change or ignore the case of the non-SQL keywords.\n",
    "* The `[tbls]` substring contains only a simple list of table names and no other substrings that might be interpreted as SQL keywords.\n",
    "* The `[conds]` substring contains only table and column names (e.g., `OneTable.ColA`), the equal sign, the `AND` SQL keyword, and whitespace, but no other SQL keywords or symbols.\n",
    "\n",
    "> Assuming you are using regular expressions for this problem, recall that you can pass [`re.VERBOSE`](https://docs.python.org/3/library/re.html#re.VERBOSE) when writing a multiline regex pattern."
   ]
  },
  {
   "cell_type": "code",
   "execution_count": 2,
   "metadata": {
    "nbgrader": {
     "grade": false,
     "grade_id": "split_simple_join",
     "locked": false,
     "schema_version": 1,
     "solution": true
    }
   },
   "outputs": [
    {
     "name": "stdout",
     "output_type": "stream",
     "text": [
      "('OneTable, AnotherTable, YetAThird', 'OneTable.ColA = AnotherTable.ColB AND AnotherTable.ColB2=YetAThird.ColC')\n"
     ]
    }
   ],
   "source": [
    "def split_simple_join(q):\n",
    "    assert type(q) is str\n",
    "    ###\n",
    "\n",
    "    re_s = re.compile(r'''\n",
    "                        FROM[\\s]*?(?P<tbls>[\\w+\\,\\s\\S]+)[\\s\\S]*?WHERE[\\s\\S]*?\n",
    "                        (?P<conds>[\\w\\.\\s\\=]+)\n",
    "                        ''',re.VERBOSE)\n",
    "\n",
    "    result_list = re_s.findall(q, re.IGNORECASE)\n",
    "\n",
    "    return tuple([i.strip() for i in result_list[0]])\n",
    "    ###\n",
    "\n",
    "def split_simple_join(q):\n",
    "    assert type(q) is str\n",
    "    ###\n",
    "\n",
    "    match = re.match(r'''\\s*SELECT\\s+\\*\\s+FROM\\s+(.*)\\s+WHERE\\s+(.*)\\s*''',q, re.IGNORECASE)\n",
    "\n",
    "    assert match is not None\n",
    "    return match.groups()[0], match.groups()[1]\n",
    "    ###\n",
    "    \n",
    "# Demo\n",
    "q_demo = \"\"\"SELECT * FROM OneTable, AnotherTable, YetAThird\n",
    "              WHERE OneTable.ColA = AnotherTable.ColB AND AnotherTable.ColB2=YetAThird.ColC\"\"\"\n",
    "print(split_simple_join(q_demo))"
   ]
  },
  {
   "cell_type": "code",
   "execution_count": 3,
   "metadata": {
    "deletable": false,
    "editable": false,
    "nbgrader": {
     "grade": true,
     "grade_id": "split_simple_join_test1",
     "locked": true,
     "points": 1,
     "schema_version": 1,
     "solution": false
    }
   },
   "outputs": [
    {
     "name": "stdout",
     "output_type": "stream",
     "text": [
      "\n",
      "(Passed!)\n"
     ]
    }
   ],
   "source": [
    "# Test cell: `split_simple_join_test1`\n",
    "\n",
    "assert split_simple_join(q_demo) == \\\n",
    "           ('OneTable, AnotherTable, YetAThird',\n",
    "            'OneTable.ColA = AnotherTable.ColB AND AnotherTable.ColB2=YetAThird.ColC')\n",
    "print(\"\\n(Passed!)\")"
   ]
  },
  {
   "cell_type": "code",
   "execution_count": 4,
   "metadata": {
    "deletable": false,
    "editable": false,
    "nbgrader": {
     "grade": true,
     "grade_id": "split_simple_join_test2",
     "locked": true,
     "points": 1,
     "schema_version": 1,
     "solution": false
    },
    "scrolled": false
   },
   "outputs": [
    {
     "name": "stdout",
     "output_type": "stream",
     "text": [
      "=== Test Statement 0 ===\n",
      "''' \tSELEct\t* \n",
      "FrOM\tMuc_kFyJ  \t,\n",
      "Nd,\n",
      " \n",
      "vK,\n",
      "\tQx\twhEre\n",
      "Muc_kFyJ.qYLHirnB\n",
      "\t=\n",
      "Nd.qqcSj AND vK.ec4UtoRd8=\t\tMuc_kFyJ.qYLHirnB\n",
      "\t  AND \t\n",
      "Nd.qqcSj\t= \t Muc_kFyJ.wrv\t   AND \n",
      "\t\n",
      "vK.amxqGroj\t\n",
      "\n",
      "=\tNd.qqcSj'''\n",
      "\n",
      "True 'FROM' clause substring: '''Muc_kFyJ  \t,\n",
      "Nd,\n",
      " \n",
      "vK,\n",
      "\tQx'''\n",
      "\n",
      "True 'WHERE' clause substring: '''Muc_kFyJ.qYLHirnB\n",
      "\t=\n",
      "Nd.qqcSj AND vK.ec4UtoRd8=\t\tMuc_kFyJ.qYLHirnB\n",
      "\t  AND \t\n",
      "Nd.qqcSj\t= \t Muc_kFyJ.wrv\t   AND \n",
      "\t\n",
      "vK.amxqGroj\t\n",
      "\n",
      "=\tNd.qqcSj'''\n",
      "\n",
      "=== Test Statement 1 ===\n",
      "''' SEleCt \t* fROm \t\tdl,xE3TE6\t\n",
      ",   rb_U5k \t,\n",
      "\n",
      "jWlOEDh,_MpB\n",
      "WHeRE\t\t jWlOEDh.QZjFHi  \n",
      "\t= \n",
      "xE3TE6.JqMayTqKad'''\n",
      "\n",
      "True 'FROM' clause substring: '''dl,xE3TE6\t\n",
      ",   rb_U5k \t,\n",
      "\n",
      "jWlOEDh,_MpB'''\n",
      "\n",
      "True 'WHERE' clause substring: '''jWlOEDh.QZjFHi  \n",
      "\t= \n",
      "xE3TE6.JqMayTqKad'''\n",
      "\n",
      "=== Test Statement 2 ===\n",
      "'''\tSeLeCT\t\n",
      " *  froM\n",
      "_n, j ,   isn1hC \n",
      " wheRE  isn1hC.QWtEKjMmA\n",
      "\n",
      "=\n",
      " \n",
      "\tj.Av'''\n",
      "\n",
      "True 'FROM' clause substring: '''_n, j ,   isn1hC'''\n",
      "\n",
      "True 'WHERE' clause substring: '''isn1hC.QWtEKjMmA\n",
      "\n",
      "=\n",
      " \n",
      "\tj.Av'''\n",
      "\n",
      "=== Test Statement 3 ===\n",
      "'''\tSElECT\n",
      "\n",
      " *\t\n",
      "fRoM\t\t fiJ_Sio  \n",
      ", nHyWQhe \t\t,\t  N02EuiWPW\t wherE\tfiJ_Sio.gwEjaQ_psK=\tN02EuiWPW.G3z5mZ2\t  AND \tnHyWQhe._=\t \n",
      " N02EuiWPW.Y'''\n",
      "\n",
      "True 'FROM' clause substring: '''fiJ_Sio  \n",
      ", nHyWQhe \t\t,\t  N02EuiWPW'''\n",
      "\n",
      "True 'WHERE' clause substring: '''fiJ_Sio.gwEjaQ_psK=\tN02EuiWPW.G3z5mZ2\t  AND \tnHyWQhe._=\t \n",
      " N02EuiWPW.Y'''\n",
      "\n",
      "=== Test Statement 4 ===\n",
      "''' sElecT\n",
      "*\t\n",
      "froM\t\t\tS1jQ,\n",
      "\n",
      "nxQvnr7NC\n",
      "\t\n",
      "WHErE\n",
      " \n",
      "nxQvnr7NC.A  =S1jQ.D7'''\n",
      "\n",
      "True 'FROM' clause substring: '''S1jQ,\n",
      "\n",
      "nxQvnr7NC'''\n",
      "\n",
      "True 'WHERE' clause substring: '''nxQvnr7NC.A  =S1jQ.D7'''\n",
      "\n",
      "\n",
      "(Passed!)\n"
     ]
    }
   ],
   "source": [
    "# Test cell: `split_simple_join_test2`\n",
    "\n",
    "__SQL = {'SELECT', 'FROM', 'WHERE'} # SQL keywords\n",
    "\n",
    "# Different character classes\n",
    "__ALPHA = 'abcdefghijklmnopqrstuvwxyzABCDEFGHIJKLMNOPQRSTUVWXYZ_'\n",
    "__ALPHA_VARS = __ALPHA + '_'\n",
    "__NUM = '0123456789'\n",
    "__ALPHA_NUM_VARS = __ALPHA_VARS + __NUM\n",
    "__DOT = '.'\n",
    "__SPACES = ' \\t\\n'\n",
    "__EQ = '='\n",
    "__ALL = __ALPHA_NUM_VARS + __DOT + __SPACES + __EQ\n",
    "\n",
    "def flip_coin():\n",
    "    from random import choice\n",
    "    return choice([True, False])\n",
    "\n",
    "def rand_str(k_min, k_max, alphabet):\n",
    "    \"\"\"\n",
    "    Returns a random string of `k` letters chosen uniformly from\n",
    "    from `alphabet` with replacement, where `k_min <= k <= k_max`\n",
    "    where `k` is also chosen uniformly at random.\n",
    "    \"\"\"\n",
    "    assert k_max >= k_min >= 0\n",
    "    k = k_min + randint(0, k_max-k_min)\n",
    "    return ''.join([choice(alphabet) for _ in range(k)])\n",
    "\n",
    "def rand_spaces(k_max, k_min=0):\n",
    "    assert k_max >= k_min >= 0\n",
    "    return rand_str(k_min, k_max, __SPACES)\n",
    "\n",
    "def rand_case(s):\n",
    "    \"\"\"Randomly changes the case of each letter in a string.\"\"\"\n",
    "    return ''.join([c.upper() if flip_coin() else c.lower() for c in s])\n",
    "\n",
    "def rand_var(k_min=1, k_max=10):\n",
    "    assert k_max >= k_min >= 1\n",
    "    s = choice(__ALPHA_VARS)\n",
    "    s += rand_str(k_min-1, k_max-1, __ALPHA_NUM_VARS)\n",
    "    if s.upper() in __SQL: # Don't generate keywords -- try again\n",
    "        return rand_var(k_min, k_max)\n",
    "    return s\n",
    "\n",
    "def rand_vars(k_min, k_max):\n",
    "    V = set()\n",
    "    dk = randint(0, k_max-k_min)\n",
    "    for k in range(k_min + dk + 1):\n",
    "        v = rand_var()\n",
    "        V.add(v)\n",
    "    return V\n",
    "\n",
    "def rand_table(max_cols):\n",
    "    table = rand_var()\n",
    "    columns = rand_vars(1, max_cols)\n",
    "    return (table, columns)\n",
    "\n",
    "def rand_tables(k_min, k_max, c_max=4):\n",
    "    assert k_max >= k_min >= 1\n",
    "    num_tables = k_min + randint(0, k_max-k_min)\n",
    "    tables = {}\n",
    "    for _ in range(num_tables):\n",
    "        table, columns = rand_table(c_max)\n",
    "        while table in tables:\n",
    "            table, columns = rand_table(v_max, c_max)\n",
    "        tables = {**tables, **{table: columns}}\n",
    "    return tables\n",
    "\n",
    "def rand_field(table_name, col_names):\n",
    "    return table_name + \".\" + choice(list(col_names))\n",
    "\n",
    "def rand_cond(tables):\n",
    "    assert type(tables) is dict\n",
    "    assert len(tables) >= 2\n",
    "    a, b = sample(tables.keys(), 2)\n",
    "    a_col = rand_field(a, tables[a])\n",
    "    b_col = rand_field(b, tables[b])\n",
    "    return (a_col, b_col)\n",
    "\n",
    "def rand_cond_set(tables, k_min, k_max):\n",
    "    k = k_min + randint(0, k_max-k_min)\n",
    "    conds = set()\n",
    "    while len(conds) < k:\n",
    "        (a, b) = rand_cond(tables)\n",
    "        if ((a, b) not in conds) and ((b, a) not in conds):\n",
    "            conds.add((a, b))\n",
    "    return conds\n",
    "\n",
    "def cond_set_to_substrs(conds, max_wspad=4):\n",
    "    substrs = []\n",
    "    for a, b in conds:\n",
    "        s = \"{}{}{}{}{}\".format(a,\n",
    "                                rand_spaces(max_wspad),\n",
    "                                __EQ,\n",
    "                                rand_spaces(max_wspad),\n",
    "                                b)\n",
    "        substrs.append(s)\n",
    "    return substrs\n",
    "\n",
    "def substrs_to_str(substrings, sep=',', max_wspad=4):\n",
    "    s_final = ''\n",
    "    for k, s in enumerate(substrings):\n",
    "        if k > 0:\n",
    "            s_final += rand_spaces(max_wspad) + sep + rand_spaces(max_wspad)\n",
    "        s_final += s\n",
    "    return s_final\n",
    "\n",
    "def rand_query_ans(max_tables, max_conds, max_wspad=4):\n",
    "    tables = rand_tables(2, max_tables)\n",
    "    cond_set = rand_cond_set(tables, 1, 4)\n",
    "    return tables, cond_set\n",
    "\n",
    "def pad_1(max_wspad):\n",
    "    return rand_spaces(max(1, max_wspad), 1)\n",
    "\n",
    "def form_select(max_wspad=4):\n",
    "    return pad_1(max_wspad) + rand_case(\"SELECT\") + pad_1(max_wspad) + \"*\"\n",
    "\n",
    "def form_from(tables, max_wspad=4):\n",
    "    from_ans = substrs_to_str(list(tables.keys()), sep=',', max_wspad=max_wspad)\n",
    "    return pad_1(max_wspad) + rand_case(\"FROM\") + pad_1(max_wspad) + from_ans, from_ans\n",
    "\n",
    "def form_where(cond_set, max_wspad=4):\n",
    "    cond_substrs = cond_set_to_substrs(cond_set)\n",
    "    cond_ans = substrs_to_str(cond_substrs, sep=' AND ', max_wspad=max_wspad)\n",
    "    return pad_1(max_wspad) + rand_case(\"WHERE\") + pad_1(max_wspad) + cond_ans, cond_ans\n",
    "\n",
    "def form_query_str(tables, cond_set, max_wspad=4):\n",
    "    select_clause = form_select(max_wspad)\n",
    "    from_clause, from_ans = form_from(tables, max_wspad)\n",
    "    where_clause, cond_ans = form_where(cond_set, max_wspad)\n",
    "    query = select_clause + from_clause + where_clause\n",
    "    return query, from_ans, cond_ans\n",
    "\n",
    "def split_simple_join_battery(num_tests, max_wspad=4):\n",
    "    for k in range(num_tests):\n",
    "        tables, cond_set = rand_query_ans(5, 5, max_wspad)\n",
    "        qstmt, from_ans, where_ans = form_query_str(tables, cond_set, max_wspad)\n",
    "        print(\"=== Test Statement {} ===\\n'''{}'''\\n\".format(k, qstmt))\n",
    "        print(\"True 'FROM' clause substring: '''{}'''\\n\".format(from_ans))\n",
    "        print(\"True 'WHERE' clause substring: '''{}'''\\n\".format(where_ans))\n",
    "    \n",
    "split_simple_join_battery(5, 3)\n",
    "\n",
    "print(\"\\n(Passed!)\")"
   ]
  },
  {
   "cell_type": "markdown",
   "metadata": {
    "deletable": false,
    "editable": false,
    "nbgrader": {
     "grade": false,
     "grade_id": "cell-4096fa783ea56068",
     "locked": true,
     "schema_version": 1,
     "solution": false
    }
   },
   "source": [
    "**Variable names.** For this problem, let a valid _variable name_ be a sequence of alphanumeric characters or underscores, where the very first character _cannot_ be a number. For example,\n",
    "\n",
    "    some_variable\n",
    "    __another_VariAble\n",
    "    Yet_a_3rd_var\n",
    "    _A_CSE_6040_inspired_var\n",
    "    \n",
    "are all valid variable names, whereas the following are not.\n",
    "\n",
    "    123var_is_bad\n",
    "    0_is_not_good_either\n",
    "    4goodnessSakeStopItAlready"
   ]
  },
  {
   "cell_type": "markdown",
   "metadata": {
    "deletable": false,
    "editable": false,
    "nbgrader": {
     "grade": false,
     "grade_id": "cell-4cbb6f325bbf577e",
     "locked": true,
     "schema_version": 1,
     "solution": false
    }
   },
   "source": [
    "**Exercise 1** (2 points). Implement a function, **`is_var(s)`**, that checks whether a valid variable name. That is, it should return `True` if and only if `s` is valid according to the above definition. Your function should ignore any leading or trailing spaces in `s`.\n",
    "\n",
    "For example:\n",
    "\n",
    "```python\n",
    "    assert is_var(\"__another_VariAble\")\n",
    "    assert not is_var(\"0_is_not_good_either\")\n",
    "    assert is_var(\"   foo\")\n",
    "    assert is_var(\"_A_CSE_6040_inspired_var   \")\n",
    "    assert not is_var(\"#getMe2\")\n",
    "    assert is_var(\"   Yet_a_3rd_var  \")\n",
    "    assert not is_var(\"123var_is_bad\")\n",
    "    assert not is_var(\"  A.okay\")\n",
    "```"
   ]
  },
  {
   "cell_type": "code",
   "execution_count": 5,
   "metadata": {
    "collapsed": true,
    "nbgrader": {
     "grade": false,
     "grade_id": "is_var",
     "locked": false,
     "schema_version": 1,
     "solution": true
    }
   },
   "outputs": [],
   "source": [
    "def is_var(s):\n",
    "    assert type(s) is str\n",
    "    ###\n",
    "#     s = '0_is_not_good_either'\n",
    "    re_s = re.compile(r'''\n",
    "                            [\\W]\n",
    "\n",
    "                            ''',re.VERBOSE)\n",
    "    if s.strip()[0].isdigit():\n",
    "        return   False\n",
    "    else:\n",
    "\n",
    "        result_list = re_s.findall(s.strip())\n",
    "        return len(result_list) == 0\n",
    "\n",
    "def is_var(s):\n",
    "    assert type(s) is str\n",
    "    ###\n",
    "    matches = re.match(r'''^\\s*  \n",
    "                        ([a-zA-Z_]\n",
    "                        \\w*)\n",
    "                        \\s*$                     \n",
    "                            ''', s,re.VERBOSE)\n",
    "    return matches is not None\n",
    "    ###\n"
   ]
  },
  {
   "cell_type": "code",
   "execution_count": 6,
   "metadata": {},
   "outputs": [
    {
     "data": {
      "text/plain": [
       "False"
      ]
     },
     "execution_count": 6,
     "metadata": {},
     "output_type": "execute_result"
    }
   ],
   "source": [
    "is_var('-----*lF0OOAGW------*')\n",
    "\n"
   ]
  },
  {
   "cell_type": "code",
   "execution_count": 7,
   "metadata": {
    "deletable": false,
    "editable": false,
    "nbgrader": {
     "grade": true,
     "grade_id": "is_var_test0",
     "locked": true,
     "points": 1,
     "schema_version": 1,
     "solution": false
    },
    "scrolled": true
   },
   "outputs": [
    {
     "name": "stdout",
     "output_type": "stream",
     "text": [
      "\n",
      "(Passed part 1 of 2.)\n"
     ]
    }
   ],
   "source": [
    "# Test cell, part 1: `is_var_test0`\n",
    "\n",
    "assert is_var(\"__another_VariAble\")\n",
    "assert not is_var(\"0_is_not_good_either\")\n",
    "assert is_var(\"   foo\")\n",
    "assert is_var(\"_A_CSE_6040_inspired_var   \")\n",
    "assert not is_var(\"#getMe2\")\n",
    "assert is_var(\"   Yet_a_3rd_var  \")\n",
    "assert not is_var(\"123var_is_bad\")\n",
    "assert not is_var(\"  A.okay\")\n",
    "\n",
    "print(\"\\n(Passed part 1 of 2.)\")"
   ]
  },
  {
   "cell_type": "code",
   "execution_count": 8,
   "metadata": {
    "deletable": false,
    "editable": false,
    "nbgrader": {
     "grade": true,
     "grade_id": "is_var_test1",
     "locked": true,
     "points": 1,
     "schema_version": 1,
     "solution": false
    }
   },
   "outputs": [
    {
     "name": "stdout",
     "output_type": "stream",
     "text": [
      "\t\n",
      "7TJ\n",
      "\t\t3mRwHL\n",
      "\t\n",
      " h\t\t\n",
      "\t \tk   \n",
      "\t\t6kk\n",
      "\n",
      "\tWB0Kl\n",
      "\n",
      "Dnf\n",
      "\n",
      "\t 3g5i7\n",
      "\t\tXcX7x1ff\t\t\n",
      "\n",
      "\t9NVtldC\n",
      "\n",
      "\n",
      "\n",
      " 0f8KSfO2F\n",
      " v9SyY\n",
      " \n",
      "d \n",
      "\n",
      "HGB880Fm \n",
      "\t\n",
      " \n",
      "\tDvq \n",
      "6syfrovy \t \n",
      "\n",
      " 6aTc_x9Jx\t\n",
      " \n",
      "Kz_Vl5iJu\n",
      "\n",
      " \n",
      "Ix \n",
      "\t\n",
      "\n",
      " sr\t\n",
      "\n",
      "\t\n",
      "8r9\n",
      "\t \n",
      "3y6v2AzHNTw\n",
      "\n",
      "\n",
      "\t7l8 \n",
      "  \n",
      "Jxk0TUz\n",
      "\t\n",
      "Br\n",
      "\n",
      "7eQ  \n",
      "\n",
      "\t\n",
      "\n",
      "5rHIMA1qhC5\t\n",
      "9UFzAgN\t\n",
      "\n",
      "\tholqW\t \n",
      "\n",
      "(Passed part 2 of 2.)\n"
     ]
    }
   ],
   "source": [
    "# Test cell: `is_var_test2`\n",
    "\n",
    "for v in rand_vars(20, 30):\n",
    "    ans = flip_coin()\n",
    "    if not ans:\n",
    "        v = choice(__NUM) + v\n",
    "    v = rand_spaces(3) + v + rand_spaces(3)\n",
    "    your_ans = is_var(v)\n",
    "    print(v)\n",
    "    assert your_ans == ans, \"is_var('{}') == {} instead of {}.\".format(v, your_ans, ans)\n",
    "    \n",
    "print(\"\\n(Passed part 2 of 2.)\")"
   ]
  },
  {
   "cell_type": "markdown",
   "metadata": {},
   "source": [
    "**Column variables.** A _column variable_ consists of two valid variable names separated by a single period. For example,\n",
    "\n",
    "    A.okay\n",
    "    a32X844._387b\n",
    "    __C__.B3am\n",
    "    \n",
    "are all examples of column variables: in each case, the substrings to the left and right of the period are valid variables."
   ]
  },
  {
   "cell_type": "markdown",
   "metadata": {
    "deletable": false,
    "editable": false,
    "nbgrader": {
     "grade": false,
     "grade_id": "cell-9adc95893b02a9b3",
     "locked": true,
     "schema_version": 1,
     "solution": false
    }
   },
   "source": [
    "**Exercise 2** (1 point). Implement a function, **`is_col(s)`**, so that it returns `True` if and only if **`s`** is a column variable, per the definition above.\n",
    "\n",
    "For example:\n",
    "\n",
    "```python\n",
    "    assert is_col(\"A.okay\")\n",
    "    assert is_col(\"a32X844._387b\")\n",
    "    assert is_col(\"__C__.B3am\")\n",
    "    assert not is_col(\"123.abc\")\n",
    "    assert not is_col(\"abc.123\")\n",
    "```\n",
    "\n",
    "As with Exercise 1, your function should ignore any leading or trailing spaces."
   ]
  },
  {
   "cell_type": "code",
   "execution_count": 9,
   "metadata": {
    "nbgrader": {
     "grade": false,
     "grade_id": "is_col",
     "locked": false,
     "schema_version": 1,
     "solution": true
    }
   },
   "outputs": [],
   "source": [
    "def is_col(s):\n",
    "    ###\n",
    "    \n",
    "# s = \"\\t \\n4750.55\\t\\n\"\n",
    "    if '.' in s:\n",
    "        m = re.split(r\"\\.\", s)    \n",
    "\n",
    "        return  is_var(m[0]) & is_var(m[1])\n",
    "    else:\n",
    "        return False\n",
    "def is_col(s):\n",
    "    matches = re.match(r'''\\s*\n",
    "                    ([a-zA-Z_]\\w*)\n",
    "                    \\.\n",
    "                    ([a-zA-Z_]\\w*)\n",
    "                    \\s*    ''', s,  re.VERBOSE)\n",
    "    return matches is not None\n",
    "    ###\n"
   ]
  },
  {
   "cell_type": "code",
   "execution_count": 10,
   "metadata": {
    "deletable": false,
    "editable": false,
    "nbgrader": {
     "grade": true,
     "grade_id": "is_col_test0",
     "locked": true,
     "points": 1,
     "schema_version": 1,
     "solution": false
    }
   },
   "outputs": [
    {
     "name": "stdout",
     "output_type": "stream",
     "text": [
      "\n",
      "(Passed part 1.)\n"
     ]
    }
   ],
   "source": [
    "# Test cell: `is_col_test0`\n",
    "\n",
    "assert is_col(\"A.okay\")\n",
    "assert is_col(\"a32X844._387b\")\n",
    "assert is_col(\"__C__.B3am\")\n",
    "assert not is_col(\"123.abc\")\n",
    "assert not is_col(\"abc.123\")\n",
    "\n",
    "print(\"\\n(Passed part 1.)\")"
   ]
  },
  {
   "cell_type": "code",
   "execution_count": 11,
   "metadata": {
    "deletable": false,
    "editable": false,
    "nbgrader": {
     "grade": true,
     "grade_id": "is_col_test1",
     "locked": true,
     "points": 1,
     "schema_version": 1,
     "solution": false
    }
   },
   "outputs": [
    {
     "name": "stdout",
     "output_type": "stream",
     "text": [
      "==> is_col('\t \t3.073\t\t ') == False\n",
      "==> is_col('\n",
      "90892.7 \n",
      " ') == False\n",
      "==> is_col('\n",
      "\n",
      "kCIqurP.8\n",
      "\t\t') == False\n",
      "==> is_col(' fLd7zx.iAnlLI3r8 ') == True\n",
      "==> is_col(' \t\n",
      "_ky44oHn5.aimCRtU\n",
      " \n",
      "') == True\n",
      "==> is_col('3.862  \t') == False\n",
      "==> is_col('\t\t78.52836') == False\n",
      "==> is_col(' \t2.Yyzx5Z') == False\n",
      "==> is_col('\t\tfM.4') == False\n",
      "==> is_col('77.74274 ') == False\n",
      "==> is_col(' \n",
      "le2b9gWdD.693\n",
      "\n",
      "\t') == False\n",
      "==> is_col('\n",
      "\t4.096') == False\n",
      "==> is_col('\t\tMX_pf_qV_.237\n",
      "\n",
      "') == False\n",
      "==> is_col('81.LP6cYify_g') == False\n",
      "==> is_col('\n",
      "\n",
      "Ri0G8yqW._V\n",
      " ') == True\n",
      "==> is_col(' \n",
      " GGQMR_BTr6.RE8o\t\n",
      "') == True\n",
      "==> is_col('87.91706\t\n",
      "') == False\n",
      "==> is_col('\t\n",
      "37.9\t\t') == False\n",
      "==> is_col('\n",
      "\n",
      "bIlJxb7.bhybCqFx88\n",
      "\t') == True\n",
      "==> is_col('\n",
      "7659.02') == False\n",
      "\n",
      "(Passed part 2.)\n"
     ]
    }
   ],
   "source": [
    "# Test cell: `is_col_test1`\n",
    "\n",
    "def test_is_col_1():\n",
    "    a = rand_var()\n",
    "    assert not is_col(a), \"is_col('{}') == {} instead of {}.\".format(a, is_col(a), False)\n",
    "    a_valid = flip_coin()\n",
    "    if not a_valid:\n",
    "        a = rand_str(1, 5, __NUM)\n",
    "    return a, a_valid\n",
    "\n",
    "for _ in range(20):\n",
    "    a, a_valid = test_is_col_1()\n",
    "    b, b_valid = test_is_col_1()\n",
    "    ans = a_valid and b_valid\n",
    "    \n",
    "    c = \"{}{}.{}{}\".format(rand_spaces(3), a, b, rand_spaces(3))\n",
    "    your_ans = is_col(c)\n",
    "    print(\"==> is_col('{}') == {}\".format(c, your_ans))\n",
    "    assert your_ans == ans\n",
    "\n",
    "print(\"\\n(Passed part 2.)\")"
   ]
  },
  {
   "cell_type": "markdown",
   "metadata": {
    "deletable": false,
    "editable": false,
    "nbgrader": {
     "grade": false,
     "grade_id": "cell-9c1950ffd7f697b1",
     "locked": true,
     "schema_version": 1,
     "solution": false
    }
   },
   "source": [
    "**Equality strings.** An _equality string_ is a string of the form,\n",
    "\n",
    "    A.x = B.y\n",
    "\n",
    "where `A.x` and `B.y` are _column variable_ names and `=` is an equals sign. There may be any amount of whitespace---including none---before or after each variable and the equals sign."
   ]
  },
  {
   "cell_type": "markdown",
   "metadata": {
    "deletable": false,
    "editable": false,
    "nbgrader": {
     "grade": false,
     "grade_id": "cell-3e77f57c4474bd19",
     "locked": true,
     "schema_version": 1,
     "solution": false
    }
   },
   "source": [
    "**Exercise 3** (2 points). Implement the function, **`extract_eqcols(s)`**, below. Given an input string **`s`**, if it is an equality string, your function should return a pair `(u, v)`, where `u` and `v` are the two column variables in the equality string. For example:\n",
    "\n",
    "```python\n",
    "    assert extract_eqcols(\"F3b._xyz =AB0_.def\") == (\"F3b._xyz\", \"AB0_.def\")\n",
    "```\n",
    "\n",
    "If `s` is not a valid equality string, then your function should return `None`."
   ]
  },
  {
   "cell_type": "code",
   "execution_count": 12,
   "metadata": {
    "nbgrader": {
     "grade": false,
     "grade_id": "extract_eqcols",
     "locked": false,
     "schema_version": 1,
     "solution": true
    }
   },
   "outputs": [
    {
     "name": "stdout",
     "output_type": "stream",
     "text": [
      "('F3b._xyz', 'AB0_.def')\n"
     ]
    }
   ],
   "source": [
    "def extract_eqcols(s):\n",
    "    ###\n",
    "\n",
    "#     s = \"F3b._xyz =AB0_.def\"\n",
    "    \n",
    "    m = re.match(r'(\\w+\\.\\w+)\\s*?\\=\\s*?(\\w+\\.\\w+)',s)\n",
    "    if '=' in s:\n",
    "        if is_col(m.groups()[0]) & is_col(m.groups()[1]):\n",
    "            return m.groups()\n",
    "        ###\n",
    "    \n",
    "print(extract_eqcols(\"F3b._xyz =AB0_.def\"))"
   ]
  },
  {
   "cell_type": "code",
   "execution_count": 13,
   "metadata": {
    "deletable": false,
    "editable": false,
    "nbgrader": {
     "grade": true,
     "grade_id": "extract_eqcols0",
     "locked": true,
     "points": 1,
     "schema_version": 1,
     "solution": false
    }
   },
   "outputs": [
    {
     "name": "stdout",
     "output_type": "stream",
     "text": [
      "\n",
      "(Passed part 1 of 2.)\n"
     ]
    }
   ],
   "source": [
    "# Test cell: `extract_eqcols0`\n",
    "\n",
    "assert extract_eqcols(\"F3b._xyz =AB0_.def\") == (\"F3b._xyz\", \"AB0_.def\")\n",
    "assert extract_eqcols(\"0F3b._xyz =AB0_.def\") is None\n",
    "\n",
    "print(\"\\n(Passed part 1 of 2.)\")"
   ]
  },
  {
   "cell_type": "code",
   "execution_count": 14,
   "metadata": {
    "deletable": false,
    "editable": false,
    "nbgrader": {
     "grade": true,
     "grade_id": "extract_eqcols1",
     "locked": true,
     "points": 1,
     "schema_version": 1,
     "solution": false
    }
   },
   "outputs": [
    {
     "name": "stdout",
     "output_type": "stream",
     "text": [
      "==> Processing:\n",
      "'''LWI.z=\n",
      "\t\tYxXO9wTs6N.EVZ3TtLC'''\n",
      "\n",
      "    *** Found: ('LWI.z', 'YxXO9wTs6N.EVZ3TtLC') ***\n",
      "==> Processing:\n",
      "'''YxXO9wTs6N.XpI_dFHEF3\n",
      "\t\n",
      "=\n",
      "LWI.z'''\n",
      "\n",
      "    *** Found: ('YxXO9wTs6N.XpI_dFHEF3', 'LWI.z') ***\n",
      "==> Processing:\n",
      "'''LWI.C3bIuFxb7=YxXO9wTs6N.XpI_dFHEF3'''\n",
      "\n",
      "    *** Found: ('LWI.C3bIuFxb7', 'YxXO9wTs6N.XpI_dFHEF3') ***\n",
      "==> Processing:\n",
      "'''LWI.z \t\t=YxXO9wTs6N.Yn3Bbd'''\n",
      "\n",
      "    *** Found: ('LWI.z', 'YxXO9wTs6N.Yn3Bbd') ***\n",
      "==> Processing:\n",
      "'''efLp8.k=\n",
      "uQex6l.d'''\n",
      "\n",
      "    *** Found: ('efLp8.k', 'uQex6l.d') ***\n",
      "==> Processing:\n",
      "'''efLp8.k\n",
      "=\n",
      "\n",
      "uQex6l.Q2u_'''\n",
      "\n",
      "    *** Found: ('efLp8.k', 'uQex6l.Q2u_') ***\n",
      "==> Processing:\n",
      "'''efLp8.k\n",
      "=\tuQex6l.fI5q'''\n",
      "\n",
      "    *** Found: ('efLp8.k', 'uQex6l.fI5q') ***\n",
      "==> Processing:\n",
      "'''q.ZPtD5s  =\n",
      "\n",
      "mZg.AhTiQ'''\n",
      "\n",
      "    *** Found: ('q.ZPtD5s', 'mZg.AhTiQ') ***\n",
      "==> Processing:\n",
      "'''mZg.Wy5g=q.BXR'''\n",
      "\n",
      "    *** Found: ('mZg.Wy5g', 'q.BXR') ***\n",
      "==> Processing:\n",
      "'''mZg.Wy5g=q.ZPtD5s'''\n",
      "\n",
      "    *** Found: ('mZg.Wy5g', 'q.ZPtD5s') ***\n",
      "==> Processing:\n",
      "'''mZg.Wy5g =q.xldX34anLo'''\n",
      "\n",
      "    *** Found: ('mZg.Wy5g', 'q.xldX34anLo') ***\n",
      "==> Processing:\n",
      "'''s.ksIFMrV_ =DM2B0iVik._iTzmobUyF'''\n",
      "\n",
      "    *** Found: ('s.ksIFMrV_', 'DM2B0iVik._iTzmobUyF') ***\n",
      "==> Processing:\n",
      "'''DM2B0iVik._iTzmobUyF\n",
      " \t= s.ogzS'''\n",
      "\n",
      "    *** Found: ('DM2B0iVik._iTzmobUyF', 's.ogzS') ***\n",
      "==> Processing:\n",
      "'''DM2B0iVik.kOa=s.ogzS'''\n",
      "\n",
      "    *** Found: ('DM2B0iVik.kOa', 's.ogzS') ***\n",
      "==> Processing:\n",
      "'''s.ogzS\n",
      " =\t\t\n",
      "DM2B0iVik.N'''\n",
      "\n",
      "    *** Found: ('s.ogzS', 'DM2B0iVik.N') ***\n",
      "==> Processing:\n",
      "'''H.h\n",
      "\n",
      " = \n",
      " UmNHe5u.aE9y8NULh'''\n",
      "\n",
      "    *** Found: ('H.h', 'UmNHe5u.aE9y8NULh') ***\n",
      "\n",
      "(Passed part 2 of 2.)\n"
     ]
    }
   ],
   "source": [
    "# Test cell: `extract_eqcols1`\n",
    "\n",
    "for _ in range(5):\n",
    "    _, cond_set = rand_query_ans(2, 10, 5)\n",
    "    for a, b in cond_set:\n",
    "        s = a + rand_spaces(3) + __EQ + rand_spaces(3) + b\n",
    "        print(\"==> Processing:\\n'''{}'''\\n\".format(s))\n",
    "        ans = extract_eqcols(s)\n",
    "        print(\"    *** Found: {} ***\".format(ans))\n",
    "        assert ans is not None, \"Did not detect an equality string where there was one!\"\n",
    "        assert ans[0] == a and ans[1] == b, \"Returned {} instead of ({}, {})\".format(ans, a, b)\n",
    "\n",
    "print(\"\\n(Passed part 2 of 2.)\")"
   ]
  },
  {
   "cell_type": "markdown",
   "metadata": {
    "deletable": false,
    "editable": false,
    "nbgrader": {
     "grade": false,
     "grade_id": "cell-106b025066561080",
     "locked": true,
     "schema_version": 1,
     "solution": false
    }
   },
   "source": [
    "**Exercise 4** (2 points). Given an SQL query in the restricted form described above, write a function that extracts all of the join conditions from the `WHERE` clause. Name this fuction, **`extract_join_conds(q)`**, where `q` is the query string. It should return a list of pairs, where each pair `(a, b)` is the name of the left- and right-hand sides in one of these conditions.\n",
    "\n",
    "For example, suppose:\n",
    "\n",
    "```python\n",
    "    q == \"\"\"SELECT * FROM OneTable, AnotherTable, YetAThird\n",
    "              WHERE OneTable.ColA = AnotherTable.ColB AND AnotherTable.ColB2=YetAThird.ColC\"\"\"\n",
    "```\n",
    "\n",
    "Notice that the `WHERE` clause contains two conditions: `OneTable.ColA = AnotherTable.ColB` and `AnotherTable.ColB2=YetAThird.ColC`. Therefore, your function should return a list of two pairs,\n",
    "as follows:\n",
    "\n",
    "```python\n",
    "    extract_join_conds(q) == [(\"OneTable.ColA\", \"AnotherTable.ColB\"),\n",
    "                              (\"AnotherTable.ColB2\", \"YetAThird.ColC\")]\n",
    "```"
   ]
  },
  {
   "cell_type": "code",
   "execution_count": 15,
   "metadata": {
    "nbgrader": {
     "grade": false,
     "grade_id": "extract_join_conds",
     "locked": false,
     "schema_version": 1,
     "solution": true
    }
   },
   "outputs": [
    {
     "name": "stdout",
     "output_type": "stream",
     "text": [
      "==> Query:\n",
      "\t'SELECT * FROM OneTable, AnotherTable, YetAThird\n",
      "              WHERE OneTable.ColA = AnotherTable.ColB AND AnotherTable.ColB2=YetAThird.ColC'\n",
      "\n",
      "==> Results:\n",
      "[('OneTable.ColA', 'AnotherTable.ColB'), ('AnotherTable.ColB2', 'YetAThird.ColC')]\n"
     ]
    }
   ],
   "source": [
    "def extract_join_conds(q):\n",
    "    ###\n",
    "# q = \"\"\"SELECT * FROM OneTable, AnotherTable, YetAThird\n",
    "#               WHERE OneTable.ColA = AnotherTable.ColB AND AnotherTable.ColB2=YetAThird.ColC\"\"\"\n",
    "    result_list = re.findall(r'''WHERE[\\s]*?(?P<tbls>[\\w+\\,\\s\\S]+)[\\s\\S]*?''', q,  re.IGNORECASE)\n",
    "    \n",
    "    slist = result_list[0].split('AND')\n",
    "    li = []\n",
    "    for s in slist:\n",
    "        st = extract_eqcols(s.strip())\n",
    "        li.append(st)\n",
    "    \n",
    "    return li\n",
    "    ###\n",
    "    \n",
    "print(\"==> Query:\\n\\t'{}'\\n\".format(q_demo))\n",
    "print(\"==> Results:\\n{}\".format(extract_join_conds(q_demo)))"
   ]
  },
  {
   "cell_type": "code",
   "execution_count": 16,
   "metadata": {
    "deletable": false,
    "editable": false,
    "nbgrader": {
     "grade": true,
     "grade_id": "extract_join_conds_test",
     "locked": true,
     "points": 2,
     "schema_version": 1,
     "solution": false
    }
   },
   "outputs": [
    {
     "name": "stdout",
     "output_type": "stream",
     "text": [
      "===  SeleCt * FROM p,tk,So_seixm WHerE tk.DKq= p.eV5TV AND So_seixm.U4sec=p.eV5TV AND So_seixm.SIcf=p.YHaQYW2o ===\n",
      "\n",
      "  True solution: {('tk.DKq', 'p.eV5TV'), ('So_seixm.U4sec', 'p.eV5TV'), ('So_seixm.SIcf', 'p.YHaQYW2o')}\n",
      "\n",
      "  Your solution: [('tk.DKq', 'p.eV5TV'), ('So_seixm.U4sec', 'p.eV5TV'), ('So_seixm.SIcf', 'p.YHaQYW2o')]\n",
      "\n",
      "===  SELEct * From te,dA6S whErE dA6S.xR=    te.ue3bu ===\n",
      "\n",
      "  True solution: {('dA6S.xR', 'te.ue3bu')}\n",
      "\n",
      "  Your solution: [('dA6S.xR', 'te.ue3bu')]\n",
      "\n",
      "===  SElecT * FrOm q6RhCIgd,S,NfMT3pQ,A wHeRe S.F=A.Tq9Q ===\n",
      "\n",
      "  True solution: {('S.F', 'A.Tq9Q')}\n",
      "\n",
      "  Your solution: [('S.F', 'A.Tq9Q')]\n",
      "\n",
      "===  seLeCt * FRoM KF,DQ_zYwH,GY_,Cl_hZtttg,PSfbL WHeRe Cl_hZtttg.oWS7Fb   =    DQ_zYwH.JCWi8_ ===\n",
      "\n",
      "  True solution: {('Cl_hZtttg.oWS7Fb', 'DQ_zYwH.JCWi8_')}\n",
      "\n",
      "  Your solution: [('Cl_hZtttg.oWS7Fb', 'DQ_zYwH.JCWi8_')]\n",
      "\n",
      "===  sELECt * fRoM DlwKgt,QyrP,J5k,wNG wHERe J5k.xO9C5LFoV   =  QyrP.F9Nju AND wNG.uGf8sa   =J5k.dWzJFOp6fq AND wNG.oZTiZ4dlJ  =   J5k.xO9C5LFoV ===\n",
      "\n",
      "  True solution: {('J5k.xO9C5LFoV', 'QyrP.F9Nju'), ('wNG.uGf8sa', 'J5k.dWzJFOp6fq'), ('wNG.oZTiZ4dlJ', 'J5k.xO9C5LFoV')}\n",
      "\n",
      "  Your solution: [('J5k.xO9C5LFoV', 'QyrP.F9Nju'), ('wNG.uGf8sa', 'J5k.dWzJFOp6fq'), ('wNG.oZTiZ4dlJ', 'J5k.xO9C5LFoV')]\n",
      "\n",
      "===  sElEct * From xR,qHDH1m_oUb,sbDdD2hdD,MSz8aMlY,ALOcM wHere ALOcM.gBX9 =   sbDdD2hdD.BEJJo ===\n",
      "\n",
      "  True solution: {('ALOcM.gBX9', 'sbDdD2hdD.BEJJo')}\n",
      "\n",
      "  Your solution: [('ALOcM.gBX9', 'sbDdD2hdD.BEJJo')]\n",
      "\n",
      "===  SElecT * FROM zEXO,AEyczwc,ktw1JM7g WHERE zEXO.tCOlMtSm   =  ktw1JM7g.Th ===\n",
      "\n",
      "  True solution: {('zEXO.tCOlMtSm', 'ktw1JM7g.Th')}\n",
      "\n",
      "  Your solution: [('zEXO.tCOlMtSm', 'ktw1JM7g.Th')]\n",
      "\n",
      "===  SeLEct * fRoM X,HLo9 wHErE HLo9.qHG2mYH7   =X.b AND X.sr1 =HLo9.qHG2mYH7 ===\n",
      "\n",
      "  True solution: {('HLo9.qHG2mYH7', 'X.b'), ('X.sr1', 'HLo9.qHG2mYH7')}\n",
      "\n",
      "  Your solution: [('HLo9.qHG2mYH7', 'X.b'), ('X.sr1', 'HLo9.qHG2mYH7')]\n",
      "\n",
      "===  SElECT * fRom _nZ4eEmEQ,t0B2,w wHeRe t0B2.P =  _nZ4eEmEQ.taAzQ_IQTj AND _nZ4eEmEQ.Xn   = w.KyHCuxkK AND w.KyHCuxkK    =   t0B2.bdtet ===\n",
      "\n",
      "  True solution: {('t0B2.P', '_nZ4eEmEQ.taAzQ_IQTj'), ('_nZ4eEmEQ.Xn', 'w.KyHCuxkK'), ('w.KyHCuxkK', 't0B2.bdtet')}\n",
      "\n",
      "  Your solution: [('t0B2.P', '_nZ4eEmEQ.taAzQ_IQTj'), ('_nZ4eEmEQ.Xn', 'w.KyHCuxkK'), ('w.KyHCuxkK', 't0B2.bdtet')]\n",
      "\n",
      "===  selECT * FRom u,Tup7Oj wHErE Tup7Oj.F8bsZ =  u.o6IYEtD AND u.TMiRhl_WTz    =Tup7Oj.z AND u.TMiRhl_WTz =  Tup7Oj.F8bsZ AND Tup7Oj.z  =    u.k6Gq ===\n",
      "\n",
      "  True solution: {('Tup7Oj.F8bsZ', 'u.o6IYEtD'), ('u.TMiRhl_WTz', 'Tup7Oj.z'), ('u.TMiRhl_WTz', 'Tup7Oj.F8bsZ'), ('Tup7Oj.z', 'u.k6Gq')}\n",
      "\n",
      "  Your solution: [('Tup7Oj.F8bsZ', 'u.o6IYEtD'), ('u.TMiRhl_WTz', 'Tup7Oj.z'), ('u.TMiRhl_WTz', 'Tup7Oj.F8bsZ'), ('Tup7Oj.z', 'u.k6Gq')]\n",
      "\n",
      "\n",
      "(Passed!)\n"
     ]
    }
   ],
   "source": [
    "# Test cell: `extract_join_conds_test`\n",
    "\n",
    "def test_extract_join_conds_1():\n",
    "    tables, cond_set = rand_query_ans(5, 5, 0)\n",
    "    qstmt, _, _ = form_query_str(tables, cond_set, 0)\n",
    "    qstmt = re.sub(\"[\\n\\t]\", \" \", qstmt)\n",
    "    print(\"=== {} ===\\n\".format(qstmt))\n",
    "    print(\"  True solution: {}\\n\".format(cond_set))\n",
    "    your_conds = extract_join_conds(qstmt)\n",
    "    print(\"  Your solution: {}\\n\".format(your_conds))\n",
    "    assert set(your_conds) == cond_set, \"*** Mismatch? ***\"\n",
    "    \n",
    "for _ in range(10):\n",
    "    test_extract_join_conds_1()\n",
    "    \n",
    "print(\"\\n(Passed!)\")"
   ]
  },
  {
   "cell_type": "markdown",
   "metadata": {
    "deletable": false,
    "editable": false,
    "nbgrader": {
     "grade": false,
     "grade_id": "cell-8907087cc62c0193",
     "locked": true,
     "schema_version": 1,
     "solution": false
    }
   },
   "source": [
    "**Fin!** This marks the end of this problem. Don't forget to submit it to get credit."
   ]
  }
 ],
 "metadata": {
  "celltoolbar": "Create Assignment",
  "kernelspec": {
   "display_name": "Python 3.7",
   "language": "python",
   "name": "python37"
  },
  "language_info": {
   "codemirror_mode": {
    "name": "ipython",
    "version": 3
   },
   "file_extension": ".py",
   "mimetype": "text/x-python",
   "name": "python",
   "nbconvert_exporter": "python",
   "pygments_lexer": "ipython3",
   "version": "3.7.5"
  }
 },
 "nbformat": 4,
 "nbformat_minor": 1
}
