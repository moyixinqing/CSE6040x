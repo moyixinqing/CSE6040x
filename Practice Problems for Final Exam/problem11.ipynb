{
 "cells": [
  {
   "cell_type": "markdown",
   "metadata": {
    "deletable": false,
    "editable": false,
    "nbgrader": {
     "grade": false,
     "locked": true,
     "solution": false
    }
   },
   "source": [
    "# Problem 11: Text Preprocessing for Machine Learning"
   ]
  },
  {
   "cell_type": "markdown",
   "metadata": {
    "deletable": false,
    "editable": false,
    "nbgrader": {
     "grade": false,
     "locked": true,
     "solution": false
    }
   },
   "source": [
    "For this problem, we are going to do some preprocessing of text data to get it ready for use in a so-called _Word2vec_ model.\n",
    "\n",
    "In a Word2vec model, the input is usually a large corpus of text while the output is a collection of points in some vector space. Each word of the corpus is assigned to a point, with the goal of having words with a similar \"meaning\" appearing close to one another in the space. If you feel you need further information about this topic, see: https://en.wikipedia.org/wiki/Word2vec"
   ]
  },
  {
   "cell_type": "markdown",
   "metadata": {
    "deletable": false,
    "editable": false,
    "nbgrader": {
     "grade": false,
     "locked": true,
     "solution": false
    }
   },
   "source": [
    "Our data consists of reviews on Amazon.com for sales made on musical instruments. The raw review data can be found here: http://jmcauley.ucsd.edu/data/amazon/"
   ]
  },
  {
   "cell_type": "markdown",
   "metadata": {
    "deletable": false,
    "editable": false,
    "nbgrader": {
     "grade": false,
     "locked": true,
     "solution": false
    }
   },
   "source": [
    "Let's first load the data from a .json file.  "
   ]
  },
  {
   "cell_type": "code",
   "execution_count": 1,
   "metadata": {
    "deletable": false,
    "editable": false,
    "nbgrader": {
     "grade": false,
     "locked": true,
     "solution": false
    }
   },
   "outputs": [
    {
     "data": {
      "text/html": [
       "<div>\n",
       "<style scoped>\n",
       "    .dataframe tbody tr th:only-of-type {\n",
       "        vertical-align: middle;\n",
       "    }\n",
       "\n",
       "    .dataframe tbody tr th {\n",
       "        vertical-align: top;\n",
       "    }\n",
       "\n",
       "    .dataframe thead th {\n",
       "        text-align: right;\n",
       "    }\n",
       "</style>\n",
       "<table border=\"1\" class=\"dataframe\">\n",
       "  <thead>\n",
       "    <tr style=\"text-align: right;\">\n",
       "      <th></th>\n",
       "      <th>reviewerID</th>\n",
       "      <th>asin</th>\n",
       "      <th>reviewerName</th>\n",
       "      <th>helpful</th>\n",
       "      <th>reviewText</th>\n",
       "      <th>overall</th>\n",
       "      <th>summary</th>\n",
       "      <th>unixReviewTime</th>\n",
       "      <th>reviewTime</th>\n",
       "    </tr>\n",
       "  </thead>\n",
       "  <tbody>\n",
       "    <tr>\n",
       "      <th>0</th>\n",
       "      <td>A2IBPI20UZIR0U</td>\n",
       "      <td>1384719342</td>\n",
       "      <td>cassandra tu \"Yeah, well, that's just like, u...</td>\n",
       "      <td>[0, 0]</td>\n",
       "      <td>Not much to write about here, but it does exac...</td>\n",
       "      <td>5</td>\n",
       "      <td>good</td>\n",
       "      <td>1393545600</td>\n",
       "      <td>02 28, 2014</td>\n",
       "    </tr>\n",
       "    <tr>\n",
       "      <th>1</th>\n",
       "      <td>A14VAT5EAX3D9S</td>\n",
       "      <td>1384719342</td>\n",
       "      <td>Jake</td>\n",
       "      <td>[13, 14]</td>\n",
       "      <td>The product does exactly as it should and is q...</td>\n",
       "      <td>5</td>\n",
       "      <td>Jake</td>\n",
       "      <td>1363392000</td>\n",
       "      <td>03 16, 2013</td>\n",
       "    </tr>\n",
       "    <tr>\n",
       "      <th>2</th>\n",
       "      <td>A195EZSQDW3E21</td>\n",
       "      <td>1384719342</td>\n",
       "      <td>Rick Bennette \"Rick Bennette\"</td>\n",
       "      <td>[1, 1]</td>\n",
       "      <td>The primary job of this device is to block the...</td>\n",
       "      <td>5</td>\n",
       "      <td>It Does The Job Well</td>\n",
       "      <td>1377648000</td>\n",
       "      <td>08 28, 2013</td>\n",
       "    </tr>\n",
       "    <tr>\n",
       "      <th>3</th>\n",
       "      <td>A2C00NNG1ZQQG2</td>\n",
       "      <td>1384719342</td>\n",
       "      <td>RustyBill \"Sunday Rocker\"</td>\n",
       "      <td>[0, 0]</td>\n",
       "      <td>Nice windscreen protects my MXL mic and preven...</td>\n",
       "      <td>5</td>\n",
       "      <td>GOOD WINDSCREEN FOR THE MONEY</td>\n",
       "      <td>1392336000</td>\n",
       "      <td>02 14, 2014</td>\n",
       "    </tr>\n",
       "    <tr>\n",
       "      <th>4</th>\n",
       "      <td>A94QU4C90B1AX</td>\n",
       "      <td>1384719342</td>\n",
       "      <td>SEAN MASLANKA</td>\n",
       "      <td>[0, 0]</td>\n",
       "      <td>This pop filter is great. It looks and perform...</td>\n",
       "      <td>5</td>\n",
       "      <td>No more pops when I record my vocals.</td>\n",
       "      <td>1392940800</td>\n",
       "      <td>02 21, 2014</td>\n",
       "    </tr>\n",
       "  </tbody>\n",
       "</table>\n",
       "</div>"
      ],
      "text/plain": [
       "       reviewerID        asin  \\\n",
       "0  A2IBPI20UZIR0U  1384719342   \n",
       "1  A14VAT5EAX3D9S  1384719342   \n",
       "2  A195EZSQDW3E21  1384719342   \n",
       "3  A2C00NNG1ZQQG2  1384719342   \n",
       "4   A94QU4C90B1AX  1384719342   \n",
       "\n",
       "                                       reviewerName   helpful  \\\n",
       "0  cassandra tu \"Yeah, well, that's just like, u...    [0, 0]   \n",
       "1                                              Jake  [13, 14]   \n",
       "2                     Rick Bennette \"Rick Bennette\"    [1, 1]   \n",
       "3                         RustyBill \"Sunday Rocker\"    [0, 0]   \n",
       "4                                     SEAN MASLANKA    [0, 0]   \n",
       "\n",
       "                                          reviewText  overall  \\\n",
       "0  Not much to write about here, but it does exac...        5   \n",
       "1  The product does exactly as it should and is q...        5   \n",
       "2  The primary job of this device is to block the...        5   \n",
       "3  Nice windscreen protects my MXL mic and preven...        5   \n",
       "4  This pop filter is great. It looks and perform...        5   \n",
       "\n",
       "                                 summary  unixReviewTime   reviewTime  \n",
       "0                                   good      1393545600  02 28, 2014  \n",
       "1                                   Jake      1363392000  03 16, 2013  \n",
       "2                   It Does The Job Well      1377648000  08 28, 2013  \n",
       "3          GOOD WINDSCREEN FOR THE MONEY      1392336000  02 14, 2014  \n",
       "4  No more pops when I record my vocals.      1392940800  02 21, 2014  "
      ]
     },
     "execution_count": 1,
     "metadata": {},
     "output_type": "execute_result"
    }
   ],
   "source": [
    "import pandas as pd\n",
    "df = pd.read_json(\"reviews_Musical_Instruments_5.json\", lines=True)\n",
    "df.head()"
   ]
  },
  {
   "cell_type": "markdown",
   "metadata": {
    "deletable": false,
    "editable": false,
    "nbgrader": {
     "grade": false,
     "locked": true,
     "solution": false
    }
   },
   "source": [
    "From the data, we are interested in the `reviewText` column.  Additionally, for our analysis, we will only consider the first 500 rows of the data."
   ]
  },
  {
   "cell_type": "code",
   "execution_count": 2,
   "metadata": {
    "deletable": false,
    "editable": false,
    "nbgrader": {
     "grade": false,
     "locked": true,
     "solution": false
    }
   },
   "outputs": [
    {
     "data": {
      "text/plain": [
       "array([\"Not much to write about here, but it does exactly what it's supposed to. filters out the pop sounds. now my recordings are much more crisp. it is one of the lowest prices pop filters on amazon so might as well buy it, they honestly work the same despite their pricing,\",\n",
       "       \"The product does exactly as it should and is quite affordable.I did not realized it was double screened until it arrived, so it was even better than I had expected.As an added bonus, one of the screens carries a small hint of the smell of an old grape candy I used to buy, so for reminiscent's sake, I cannot stop putting the pop filter next to my nose and smelling it after recording. :DIf you needed a pop filter, this will work just as well as the expensive ones, and it may even come with a pleasing aroma like mine did!Buy this product! :]\",\n",
       "       'The primary job of this device is to block the breath that would otherwise produce a popping sound, while allowing your voice to pass through with no noticeable reduction of volume or high frequencies. The double cloth filter blocks the pops and lets the voice through with no coloration. The metal clamp mount attaches to the mike stand secure enough to keep it attached. The goose neck needs a little coaxing to stay where you put it.'],\n",
       "      dtype=object)"
      ]
     },
     "execution_count": 2,
     "metadata": {},
     "output_type": "execute_result"
    }
   ],
   "source": [
    "text = df['reviewText'].values\n",
    "text = text[:500]\n",
    "text[:3]"
   ]
  },
  {
   "cell_type": "markdown",
   "metadata": {
    "deletable": false,
    "editable": false,
    "nbgrader": {
     "grade": false,
     "locked": true,
     "solution": false
    }
   },
   "source": [
    "Though these are solid reviews for the instruments, they are not too great as inputs for doing machine learning. So let's do a bit of cleaning!"
   ]
  },
  {
   "cell_type": "markdown",
   "metadata": {
    "deletable": false,
    "editable": false,
    "nbgrader": {
     "grade": false,
     "locked": true,
     "solution": false
    }
   },
   "source": [
    "**Exercise 0** (3 points). This exercise has two parts."
   ]
  },
  {
   "cell_type": "markdown",
   "metadata": {
    "deletable": false,
    "editable": false,
    "nbgrader": {
     "grade": false,
     "locked": true,
     "solution": false
    }
   },
   "source": [
    "**Part A** (2 pts) Complete the function **clean_review** that, given a review, returns a cleaned version according to the following processing steps.\n",
    "   1. First, retain only the following characters and replace all other characters with a space: \n",
    "        - alphanumerical\n",
    "        - comma\n",
    "        - exclamation mark\n",
    "        - question mark\n",
    "        - quotation mark (')\n",
    "        - open or closed parenthesis\n",
    "   2. Next, add a leading and trailing space for the following characters (For example, \",\" => \"\\s,\\s\" ):\n",
    "        - comma\n",
    "        - exclamation mark\n",
    "        - question mark\n",
    "        - open or closed parenthesis\n",
    "   3. Next, replace any two spaces with a single space. For example, \"\\s\\s\" => \"\\s\"\n",
    "   4. Finally, return the review with all characters converted to lowercase and remove all leading and trailing spaces      "
   ]
  },
  {
   "cell_type": "code",
   "execution_count": 3,
   "metadata": {
    "collapsed": true
   },
   "outputs": [],
   "source": [
    "import re\n",
    "def clean_review(review):\n",
    "    ###\n",
    "# testText\n",
    "    text1 = re.sub(r'\\_', ' ', re.sub(r'[^ a-zA-Z0-9\\,\\!\\?\\'\\(\\)]', ' ', review))\n",
    "    text2 = re.sub( r'\\)', ' ) ',re.sub( r'\\(', ' ( ',re.sub( r'\\?', ' ? ',re.sub( r'\\!', ' ! ',re.sub(r'\\,',' , ', text1)))))\n",
    "    text3 = re.sub(r'\\s+', ' ',text2)\n",
    "\n",
    "    return text3.lower().strip()\n",
    "    \n",
    "    ###\n"
   ]
  },
  {
   "cell_type": "code",
   "execution_count": 4,
   "metadata": {},
   "outputs": [
    {
     "data": {
      "text/plain": [
       "'oh details o04 s00 i02'"
      ]
     },
     "execution_count": 4,
     "metadata": {},
     "output_type": "execute_result"
    }
   ],
   "source": [
    "clean_review('oh_details_o04_s00_i02')"
   ]
  },
  {
   "cell_type": "markdown",
   "metadata": {
    "deletable": false,
    "editable": false,
    "nbgrader": {
     "grade": false,
     "locked": true,
     "solution": false
    }
   },
   "source": [
    "**Part B** (1 pt) Apply the changes from Part A to each review in the list **`text`** and return a new list **`text_new`** with the same reviews cleaned. The ordering of the reviews should be preserved."
   ]
  },
  {
   "cell_type": "code",
   "execution_count": 5,
   "metadata": {
    "collapsed": true
   },
   "outputs": [],
   "source": [
    "###\n",
    "text_new = []\n",
    "for t in text:\n",
    "    text_new.append(clean_review(t))\n",
    "###\n"
   ]
  },
  {
   "cell_type": "code",
   "execution_count": 6,
   "metadata": {
    "deletable": false,
    "editable": false,
    "nbgrader": {
     "grade": true,
     "grade_id": "clean_review",
     "locked": true,
     "points": "3",
     "solution": false
    }
   },
   "outputs": [
    {
     "name": "stdout",
     "output_type": "stream",
     "text": [
      "\n",
      "(Passed!)\n"
     ]
    }
   ],
   "source": [
    "## Test cell\n",
    "testText = df['reviewText'].values[501]\n",
    "cleanedText = clean_review(testText)\n",
    "assert cleanedText.islower()\n",
    "assert cleanedText.startswith(' ') == False\n",
    "assert cleanedText.endswith(' ') == False\n",
    "assert '  ' not in cleanedText\n",
    "if cleanedText.find(',') != -1:\n",
    "    assert ' , ' in cleanedText\n",
    "if cleanedText.find('?') != -1:\n",
    "    assert ' ? ' in cleanedText\n",
    "if cleanedText.find('!') != -1:\n",
    "    assert ' ! ' in cleanedText\n",
    "if cleanedText.find('(') != -1:\n",
    "    assert ' ( ' in cleanedText\n",
    "if cleanedText.find(')') != -1:\n",
    "    assert ' ) ' in cleanedText\n",
    "assert len(text_new) == 500\n",
    "\n",
    "\n",
    "print(\"\\n(Passed!)\")"
   ]
  },
  {
   "cell_type": "markdown",
   "metadata": {
    "deletable": false,
    "editable": false,
    "nbgrader": {
     "grade": false,
     "locked": true,
     "solution": false
    }
   },
   "source": [
    "**Exercise 1** (3 points): Next, create a unique index for each element in **`text_new`**. Replace each element in a review with its index value. Index values should start from 1; you should scan the reviews in the order that they appear in the list, and scan the words in each review from left-to-right. Return a list of lists called **`text_data`** where each list in **`text_data`** represents a review in **`text_new`** and contains the indices for each element in the review.\n",
    "\n",
    "For example, consider the two reviews:\n",
    "\n",
    "    ['i love georgia tech soooo much', 'i learned soooo much in 6040 ,']\n",
    "    \n",
    "These two reviews would become:\n",
    "\n",
    "    [[1, 2, 3, 4, 5, 6], [1, 7, 5, 6, 8, 9, 10]]"
   ]
  },
  {
   "cell_type": "code",
   "execution_count": 7,
   "metadata": {
    "collapsed": true
   },
   "outputs": [],
   "source": [
    "###\n",
    "def clean_ind(text_new):\n",
    "    text_data = []\n",
    "    dic = {}\n",
    "    c = 1\n",
    "    for tex in text_new:\n",
    "        li = []\n",
    "        for i in tex.split():\n",
    "            if i in dic:\n",
    "                li.append(dic[i])\n",
    "            else:\n",
    "                li.append(c)\n",
    "                dic[i] = c\n",
    "                c += 1\n",
    "        text_data.append(li)    \n",
    "    return text_data\n",
    "\n",
    "text_data = clean_ind(text_new)\n",
    "###\n"
   ]
  },
  {
   "cell_type": "code",
   "execution_count": 8,
   "metadata": {
    "deletable": false,
    "editable": false,
    "nbgrader": {
     "grade": true,
     "grade_id": "unique_index",
     "locked": true,
     "points": "3",
     "solution": false
    }
   },
   "outputs": [
    {
     "name": "stdout",
     "output_type": "stream",
     "text": [
      "\n",
      "(Passed!)\n"
     ]
    }
   ],
   "source": [
    "## Test cell\n",
    "assert isinstance(text_data, (list,))\n",
    "assert isinstance(text_data[7], (list,))\n",
    "assert len(text_data) == 500\n",
    "assert text_data[2] == [17, 104, 105, 28, 91, 106, 26, 3, 107, 17, 108, 109, 110, 111, 112, 68, 113, 114, 7, 115, 116, 117, 118, 3, 119, 120, 98, 121, 122, 123, 28, 124, 125, 126, 127, 17, 54, 128, 82, 129, 17, 130, 47, 131, 17, 118, 120, 98, 121, 132, 17, 133, 134, 135, 136, 3, 17, 137, 138, 139, 140, 3, 141, 9, 142, 17, 143, 144, 145, 68, 146, 147, 3, 148, 149, 89, 150, 9]\n",
    "assert text_data[300] == [183, 665, 913, 47, 183, 665, 2940, 17, 157, 2941, 50, 110, 366, 26, 17, 595, 2942, 109, 1949, 2943, 17, 144, 17, 2942, 145, 3, 503, 636, 35, 17, 2942, 2944, 9, 2945, 1543, 17, 242, 175, 9, 61, 24, 2946, 2947, 227, 242, 3, 17, 2948, 149, 9, 2949, 9, 110, 1812]\n",
    "\n",
    "\n",
    "print(\"\\n(Passed!)\")"
   ]
  },
  {
   "cell_type": "markdown",
   "metadata": {
    "deletable": false,
    "editable": false,
    "nbgrader": {
     "grade": false,
     "locked": true,
     "solution": false
    }
   },
   "source": [
    "Great job! We are almost there. \n",
    "\n",
    "The inputs into a Word2vec algorithm are `pivots` and `targets`. You should build these as follows, referring also to the example below.\n",
    "\n",
    "First, suppose you are given a _window size_, $w$, which is a positive integer. For each review, a word with $w$ words to its left and $w$ words to its right is called a _pivot_. Then, given a pivot, any word to its left or right is a _target_.\n",
    "\n",
    "**Example.** Consider the following two reviews after undergoing the steps in the exercises above:\n",
    "\n",
    "    [[1, 2, 3, 4, 5, 6, 8], [9, 10, 11, 12, 13, 14]]\n",
    "\n",
    "If the window size $w=2$, then:\n",
    "1. The pivots are [3, 4, 5], [11, 12]\n",
    "    Note: 1, 2, 6, and 8 are not pivots for the first review because they do not have 2 words to the left and right of them. \n",
    "2. and the targets are:\n",
    "    3. [1, 2, 4, 5] for pivot 3\n",
    "    4. [2, 3, 5, 6] for pivot 4\n",
    "    5. etc.\n",
    "\n",
    "Thus, continuing our example, the inputs to Word2vec would be the following two lists:\n",
    "    \n",
    "    targets: [1, 2, 4, 5, 2, 3, 5, 6, 3, 4, 6, 8, 9, 10, 12, 13, 10, 11, 13, 14]\n",
    "\n",
    "    pivots: [3, 3, 3, 3, 4, 4, 4, 4, 5, 5, 5, 5, 11, 11, 11, 11, 12, 12, 12, 12]\n",
    "    \n",
    "Note that `pivots` and `targets` have the same length and are paired, that is, `targets[i]` is the target associated with pivot `pivots[i]`. Conceptually, these are the inputs in the Word2vec model.\n",
    "\n",
    "For Exercise 2 below, we will take it just a little bit further:"
   ]
  },
  {
   "cell_type": "markdown",
   "metadata": {
    "deletable": false,
    "editable": false,
    "nbgrader": {
     "grade": false,
     "locked": true,
     "solution": false
    }
   },
   "source": [
    "**Exercise 2** (4 points): Given a window size and an input like **`text_data`**, complete the function **create_pivots_targets** that returns a list of tuples where each tuple represents a pivot-target pair, as defined above. That is, for the example above:\n",
    "\n",
    "```python\n",
    "    pivots_targets = [(3, 1), (3, 2), (3, 4), (3, 5), (4, 2), (4, 3), ... ,(12, 13), (12, 14)]\n",
    "```\n",
    "\n",
    "The returned values should use the same ordering convention as the input: reviews should be processed in the order in which they appear in the input data, and targets should appear in the order in which they appear their reviews."
   ]
  },
  {
   "cell_type": "code",
   "execution_count": 9,
   "metadata": {},
   "outputs": [],
   "source": [
    "import numpy as np\n",
    "def create_pivots_targets(window, data):\n",
    "    ###\n",
    "#     window = 2\n",
    "#     data = [[1, 2, 3, 4, 5, 6, 8], [9, 10, 11, 12, 13, 14]]\n",
    "    tar = []\n",
    "    pivs = []\n",
    "    for li in data:\n",
    "        piv = li[window:-window]\n",
    "        for i in range(len(piv)):\n",
    "            tar.extend(li[i:window+i] + li[window+1+i:window+1+i + window])\n",
    "            pivs.extend([piv[i]]*2*window)\n",
    "\n",
    "\n",
    "    pivots_targets = [(p, t) for p, t in zip(pivs, tar)] \n",
    "\n",
    "# data[1][0:window] + data[1][window+1:window+1 + window]\n",
    "# data[1][0+1:window+1] + data[1][window+1+1:window+1+1 + window]\n",
    "# data[1][0+1+1:window+1+1] + data[0][window+1+1+1:window+1+1+1 + window]\n",
    "    ###\n",
    "    return pivots_targets"
   ]
  },
  {
   "cell_type": "code",
   "execution_count": 10,
   "metadata": {
    "deletable": false,
    "editable": false,
    "nbgrader": {
     "grade": true,
     "grade_id": "pivot_targets",
     "locked": true,
     "points": "3",
     "solution": false
    }
   },
   "outputs": [
    {
     "name": "stdout",
     "output_type": "stream",
     "text": [
      "\n",
      "(Passed!)\n"
     ]
    }
   ],
   "source": [
    "## Test cell\n",
    "output = create_pivots_targets(2, text_data)\n",
    "output2 = create_pivots_targets(4, text_data)\n",
    "assert len(output) == 184968\n",
    "assert len(output2) == 353944\n",
    "assert isinstance(output, (list,))\n",
    "assert len(output2[7]) == 2\n",
    "assert isinstance(output[300], tuple)\n",
    "assert output[25] == (9,8)\n",
    "assert output2[70] == (13,15)\n",
    "\n",
    "print(\"\\n(Passed!)\")"
   ]
  },
  {
   "cell_type": "markdown",
   "metadata": {
    "deletable": false,
    "editable": false,
    "nbgrader": {
     "grade": false,
     "locked": true,
     "solution": false
    }
   },
   "source": [
    "** Fin ** You've reached the end of this problem. Don't forget to restart the kernel and run the entire notebook from top-to-bottom to make sure you did everything correctly. If that is working, try submitting this problem. (Recall that you *must* submit and pass the autograder to get credit for your work.)"
   ]
  }
 ],
 "metadata": {
  "anaconda-cloud": [],
  "kernelspec": {
   "display_name": "Python 3.7",
   "language": "python",
   "name": "python37"
  },
  "language_info": {
   "codemirror_mode": {
    "name": "ipython",
    "version": 3
   },
   "file_extension": ".py",
   "mimetype": "text/x-python",
   "name": "python",
   "nbconvert_exporter": "python",
   "pygments_lexer": "ipython3",
   "version": "3.7.5"
  }
 },
 "nbformat": 4,
 "nbformat_minor": 1
}
