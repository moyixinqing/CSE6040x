{
 "cells": [
  {
   "cell_type": "markdown",
   "metadata": {
    "deletable": false,
    "editable": false,
    "nbgrader": {
     "grade": false,
     "locked": true,
     "solution": false
    }
   },
   "source": [
    "# Problem 17: Spectral graph partitioning\n",
    "\n",
    "_Version 1.3_\n",
    "\n",
    "Changelog:\n",
    "- 1.3: Added another more informative error message. _[Dec 5, 2019]_\n",
    "- 1.2: Added more hints and more informative error messages. _[Dec 3, 2019]_\n",
    "- 1.1: Added more examples; no changes to code or test cells. _[Dec 2, 2019]_\n",
    "- 1.0: Initial version"
   ]
  },
  {
   "cell_type": "markdown",
   "metadata": {
    "deletable": false,
    "editable": false,
    "nbgrader": {
     "grade": false,
     "locked": true,
     "solution": false
    }
   },
   "source": [
    "In this problem, you'll consider the data mining task of \"clustering\" a graph. That is, given a graph or network of relationships, can you identify distinct communities within it? This problem assesses your Pandas and Numpy skills.\n",
    "\n",
    "**Exercises.** There are six exercises, numbered 0-5, worth a total of ten (10) points. However, only Exercises 0-4 require you to write code. If you have done them correctly, then Exercise 5, which consists only of a hidden test cell, should pass when submitted to the autograder.\n",
    "\n",
    "Regarding dependencies and partial credit:\n",
    "- Exercise 1 (1 points) depends on a correct Exercise 0 (2 points).\n",
    "- Exercises 2 (2 points) and 3 (2 points) are independent. Neither depends on Exercises 0 or 1.\n",
    "- Exercise 4 (2 points) relies on all earlier exercises.\n",
    "- Exercise 5 (1 point) depends on Exercise 4.\n",
    "\n",
    "_As always_, it is possible that you will pass Exercises 0-4 but not pass Exercise 5 if there is a subtle bug that the test cells happen not to catch, so be prepared for that possibility!"
   ]
  },
  {
   "cell_type": "markdown",
   "metadata": {
    "deletable": false,
    "editable": false,
    "nbgrader": {
     "grade": false,
     "locked": true,
     "solution": false
    }
   },
   "source": [
    "## Setup\n",
    "\n",
    "The main modules you'll need are `pandas`, `numpy`, and `scipy`. The rest are auxiliary functions for loading data, plotting results, and test code support. Start by running the following cell."
   ]
  },
  {
   "cell_type": "code",
   "execution_count": 1,
   "metadata": {
    "deletable": false,
    "editable": false,
    "nbgrader": {
     "grade": false,
     "locked": true,
     "solution": false
    }
   },
   "outputs": [],
   "source": [
    "# Main modules you'll need:\n",
    "import numpy as np\n",
    "import scipy as sp\n",
    "import pandas as pd\n",
    "from pandas import DataFrame\n",
    "\n",
    "# Support code for data loading, code testing, and visualization:\n",
    "import sys\n",
    "sys.path.insert(0, 'resource/asnlib/public')\n",
    "from cse6040utils import tibbles_are_equivalent, pandas_df_to_markdown_table, hidden_cell_template_msg, cspy\n",
    "\n",
    "from matplotlib.pyplot import figure, subplots\n",
    "%matplotlib inline\n",
    "from networkx.convert_matrix import from_pandas_edgelist\n",
    "from networkx.drawing.nx_pylab import draw\n",
    "from networkx import DiGraph\n",
    "from networkx.drawing import circular_layout\n",
    "\n",
    "# Location of input data:\n",
    "def dataset_path(base_filename):\n",
    "    return f\"resource/asnlib/publicdata/{base_filename}\""
   ]
  },
  {
   "cell_type": "markdown",
   "metadata": {
    "deletable": false,
    "editable": false,
    "nbgrader": {
     "grade": false,
     "locked": true,
     "solution": false
    }
   },
   "source": [
    "## Background: Relationship networks and partitioning\n",
    "\n",
    "Suppose we have data on the following five people, stored in the `nodes` data frame (run the next cell):"
   ]
  },
  {
   "cell_type": "code",
   "execution_count": 2,
   "metadata": {
    "deletable": false,
    "editable": false,
    "nbgrader": {
     "grade": false,
     "locked": true,
     "solution": false
    }
   },
   "outputs": [
    {
     "data": {
      "text/html": [
       "<div>\n",
       "<style scoped>\n",
       "    .dataframe tbody tr th:only-of-type {\n",
       "        vertical-align: middle;\n",
       "    }\n",
       "\n",
       "    .dataframe tbody tr th {\n",
       "        vertical-align: top;\n",
       "    }\n",
       "\n",
       "    .dataframe thead th {\n",
       "        text-align: right;\n",
       "    }\n",
       "</style>\n",
       "<table border=\"1\" class=\"dataframe\">\n",
       "  <thead>\n",
       "    <tr style=\"text-align: right;\">\n",
       "      <th></th>\n",
       "      <th>name</th>\n",
       "      <th>age</th>\n",
       "    </tr>\n",
       "  </thead>\n",
       "  <tbody>\n",
       "    <tr>\n",
       "      <th>0</th>\n",
       "      <td>alice</td>\n",
       "      <td>35</td>\n",
       "    </tr>\n",
       "    <tr>\n",
       "      <th>1</th>\n",
       "      <td>bob</td>\n",
       "      <td>18</td>\n",
       "    </tr>\n",
       "    <tr>\n",
       "      <th>2</th>\n",
       "      <td>carol</td>\n",
       "      <td>27</td>\n",
       "    </tr>\n",
       "    <tr>\n",
       "      <th>3</th>\n",
       "      <td>dave</td>\n",
       "      <td>57</td>\n",
       "    </tr>\n",
       "    <tr>\n",
       "      <th>4</th>\n",
       "      <td>edith</td>\n",
       "      <td>41</td>\n",
       "    </tr>\n",
       "  </tbody>\n",
       "</table>\n",
       "</div>"
      ],
      "text/plain": [
       "    name  age\n",
       "0  alice   35\n",
       "1    bob   18\n",
       "2  carol   27\n",
       "3   dave   57\n",
       "4  edith   41"
      ]
     },
     "execution_count": 2,
     "metadata": {},
     "output_type": "execute_result"
    }
   ],
   "source": [
    "nodes = DataFrame({'name': ['alice', 'bob', 'carol', 'dave', 'edith'],\n",
    "                   'age': [35, 18, 27, 57, 41]})\n",
    "nodes"
   ]
  },
  {
   "cell_type": "markdown",
   "metadata": {
    "deletable": false,
    "editable": false,
    "nbgrader": {
     "grade": false,
     "locked": true,
     "solution": false
    }
   },
   "source": [
    "Also suppose we have some information on their relationships, as might be captured in a social network or database of person-to-person transactions. In particular, if some person $a$ follows another person $b$, we say $a$ is the _source_ and $b$ is the _target_. For the people listed above, suppose these relationships are stored in a data frame named `edges` (run this code cell):"
   ]
  },
  {
   "cell_type": "code",
   "execution_count": 3,
   "metadata": {
    "deletable": false,
    "editable": false,
    "nbgrader": {
     "grade": false,
     "locked": true,
     "solution": false
    }
   },
   "outputs": [
    {
     "data": {
      "text/html": [
       "<div>\n",
       "<style scoped>\n",
       "    .dataframe tbody tr th:only-of-type {\n",
       "        vertical-align: middle;\n",
       "    }\n",
       "\n",
       "    .dataframe tbody tr th {\n",
       "        vertical-align: top;\n",
       "    }\n",
       "\n",
       "    .dataframe thead th {\n",
       "        text-align: right;\n",
       "    }\n",
       "</style>\n",
       "<table border=\"1\" class=\"dataframe\">\n",
       "  <thead>\n",
       "    <tr style=\"text-align: right;\">\n",
       "      <th></th>\n",
       "      <th>source</th>\n",
       "      <th>target</th>\n",
       "    </tr>\n",
       "  </thead>\n",
       "  <tbody>\n",
       "    <tr>\n",
       "      <th>0</th>\n",
       "      <td>alice</td>\n",
       "      <td>dave</td>\n",
       "    </tr>\n",
       "    <tr>\n",
       "      <th>1</th>\n",
       "      <td>alice</td>\n",
       "      <td>edith</td>\n",
       "    </tr>\n",
       "    <tr>\n",
       "      <th>2</th>\n",
       "      <td>dave</td>\n",
       "      <td>alice</td>\n",
       "    </tr>\n",
       "    <tr>\n",
       "      <th>3</th>\n",
       "      <td>dave</td>\n",
       "      <td>edith</td>\n",
       "    </tr>\n",
       "    <tr>\n",
       "      <th>4</th>\n",
       "      <td>dave</td>\n",
       "      <td>carol</td>\n",
       "    </tr>\n",
       "    <tr>\n",
       "      <th>5</th>\n",
       "      <td>bob</td>\n",
       "      <td>carol</td>\n",
       "    </tr>\n",
       "  </tbody>\n",
       "</table>\n",
       "</div>"
      ],
      "text/plain": [
       "  source target\n",
       "0  alice   dave\n",
       "1  alice  edith\n",
       "2   dave  alice\n",
       "3   dave  edith\n",
       "4   dave  carol\n",
       "5    bob  carol"
      ]
     },
     "execution_count": 3,
     "metadata": {},
     "output_type": "execute_result"
    }
   ],
   "source": [
    "edges = DataFrame({'source': ['alice', 'alice', 'dave',  'dave',  'dave',  'bob'],\n",
    "                   'target': ['dave',  'edith', 'alice', 'edith', 'carol', 'carol']})\n",
    "edges"
   ]
  },
  {
   "cell_type": "markdown",
   "metadata": {
    "deletable": false,
    "editable": false,
    "nbgrader": {
     "grade": false,
     "locked": true,
     "solution": false
    }
   },
   "source": [
    "We can visualize these relationships as a _directed graph_ or _directed network_, where the people are shown as _nodes_ (circles) and the follows-relationships are shown as edges from source to target. Run the next code cell to see the relationships in our example."
   ]
  },
  {
   "cell_type": "code",
   "execution_count": 4,
   "metadata": {
    "deletable": false,
    "editable": false,
    "nbgrader": {
     "grade": false,
     "locked": true,
     "solution": false
    }
   },
   "outputs": [
    {
     "data": {
      "image/png": "[encoded data removed]",
      "text/plain": [
       "<Figure size 288x288 with 1 Axes>"
      ]
     },
     "metadata": {},
     "output_type": "display_data"
    }
   ],
   "source": [
    "G = from_pandas_edgelist(edges, source='source', target='target', create_using=DiGraph())\n",
    "figure(figsize=(4, 4))\n",
    "draw(G, arrows=True, with_labels=True, pos=circular_layout(G),\n",
    "     node_size=1200, node_color=None, font_color='w',\n",
    "     width=2, arrowsize=20)"
   ]
  },
  {
   "cell_type": "markdown",
   "metadata": {
    "deletable": false,
    "editable": false,
    "nbgrader": {
     "grade": false,
     "locked": true,
     "solution": false
    }
   },
   "source": [
    "**Observation 0:** From the `edges` data frame, recall that `alice` follows `edith`; therefore, there is an arrow (or edge) pointing from `alice` to `edith`. Since `alice` and `dave` both follow one another, there is a double-headed arrow between them.\n",
    "\n",
    "**Observation 1:** One can arguably say there are two distinct \"groups\" in this picture. One group consists of `alice`, `dave`, and `edith`, who have at least 1 one-way follow-relationships among all pairs of them. Similarly, `bob` and `carol` have a one-way relationship between them. However, there is only one relationship between someone from the first group and someone from the second group.\n",
    "\n",
    "In this problem, we might ask a data mining question, namely, whether we can automatically identify these clusters or groups, given only the known relationships. The method you will implement is known as _spectral graph partitioning_ or _spectral graph clustering_, which is formulated as a linear algebra problem."
   ]
  },
  {
   "cell_type": "markdown",
   "metadata": {
    "deletable": false,
    "editable": false,
    "nbgrader": {
     "grade": false,
     "locked": true,
     "solution": false
    }
   },
   "source": [
    "## Exercises"
   ]
  },
  {
   "cell_type": "markdown",
   "metadata": {
    "deletable": false,
    "editable": false,
    "nbgrader": {
     "grade": false,
     "locked": true,
     "solution": false
    }
   },
   "source": [
    "**Exercise 0** (2 points -- 0.5 exposed, 1.5 hidden). For our analysis, we won't care whether $a$ follows $b$ or $b$ follows $a$, only that there is some interaction between them. To do so, let's write some code to \"symmetrize\" the edges. That is, if there is a directed edge from node $a$ to node $b$, then symmetrize will ensure there is also a directed edge $b$ to $a$, unless one already exists. (_Recall Notebook 10!_)"
   ]
  },
  {
   "cell_type": "markdown",
   "metadata": {
    "deletable": false,
    "editable": false,
    "nbgrader": {
     "grade": false,
     "locked": true,
     "solution": false
    }
   },
   "source": [
    "For example, a symmetrized version of the `edges` data frame from above would look like the following:\n",
    "\n",
    "source|target\n",
    "---|---\n",
    "alice|dave\n",
    "alice|edith\n",
    "bob|carol\n",
    "carol|bob\n",
    "carol|dave\n",
    "dave|alice\n",
    "dave|carol\n",
    "dave|edith\n",
    "edith|alice\n",
    "edith|dave\n",
    "\n",
    "Complete the function, `symmetrize_df(edges)`, below, so that it symmetrizes `edges`. Assume that `edges` is a pandas `DataFrame` with `source` and `target` columns. Your function should return a new pandas `DataFrame` with the edges symmetrized. Your function should also reset the index, so that the output is a proper \"tibble.\""
   ]
  },
  {
   "cell_type": "markdown",
   "metadata": {
    "deletable": false,
    "editable": false,
    "nbgrader": {
     "grade": false,
     "locked": true,
     "solution": false
    }
   },
   "source": [
    "> **Note 0:** The order of the edges in the output does **not** matter.\n",
    ">\n",
    "> **Note 1:** You may assume the input data frame has columns named `'source'` and `'target'`.\n",
    ">\n",
    "> **Note 2:** You should drop any duplicate edges. In the example, the edges `'dave'` $\\rightarrow$ `'alice'` and `'alice'` $\\rightarrow$ `'dave'` already exist in the input. Therefore, observe that they appear in the output, but only once each.\n",
    ">\n",
    "> **Note 3:** Your function should work even if there is a \"self-edge,\" i.e., an edge $a \\rightarrow a$. The example above does not contain such a case, but the hidden test might check it."
   ]
  },
  {
   "cell_type": "code",
   "execution_count": 5,
   "metadata": {},
   "outputs": [
    {
     "data": {
      "text/html": [
       "<div>\n",
       "<style scoped>\n",
       "    .dataframe tbody tr th:only-of-type {\n",
       "        vertical-align: middle;\n",
       "    }\n",
       "\n",
       "    .dataframe tbody tr th {\n",
       "        vertical-align: top;\n",
       "    }\n",
       "\n",
       "    .dataframe thead th {\n",
       "        text-align: right;\n",
       "    }\n",
       "</style>\n",
       "<table border=\"1\" class=\"dataframe\">\n",
       "  <thead>\n",
       "    <tr style=\"text-align: right;\">\n",
       "      <th></th>\n",
       "      <th>source</th>\n",
       "      <th>target</th>\n",
       "    </tr>\n",
       "  </thead>\n",
       "  <tbody>\n",
       "    <tr>\n",
       "      <th>0</th>\n",
       "      <td>alice</td>\n",
       "      <td>dave</td>\n",
       "    </tr>\n",
       "    <tr>\n",
       "      <th>1</th>\n",
       "      <td>alice</td>\n",
       "      <td>edith</td>\n",
       "    </tr>\n",
       "    <tr>\n",
       "      <th>2</th>\n",
       "      <td>dave</td>\n",
       "      <td>alice</td>\n",
       "    </tr>\n",
       "    <tr>\n",
       "      <th>3</th>\n",
       "      <td>dave</td>\n",
       "      <td>edith</td>\n",
       "    </tr>\n",
       "    <tr>\n",
       "      <th>4</th>\n",
       "      <td>dave</td>\n",
       "      <td>carol</td>\n",
       "    </tr>\n",
       "    <tr>\n",
       "      <th>5</th>\n",
       "      <td>bob</td>\n",
       "      <td>carol</td>\n",
       "    </tr>\n",
       "    <tr>\n",
       "      <th>6</th>\n",
       "      <td>edith</td>\n",
       "      <td>alice</td>\n",
       "    </tr>\n",
       "    <tr>\n",
       "      <th>7</th>\n",
       "      <td>edith</td>\n",
       "      <td>dave</td>\n",
       "    </tr>\n",
       "    <tr>\n",
       "      <th>8</th>\n",
       "      <td>carol</td>\n",
       "      <td>dave</td>\n",
       "    </tr>\n",
       "    <tr>\n",
       "      <th>9</th>\n",
       "      <td>carol</td>\n",
       "      <td>bob</td>\n",
       "    </tr>\n",
       "  </tbody>\n",
       "</table>\n",
       "</div>"
      ],
      "text/plain": [
       "  source target\n",
       "0  alice   dave\n",
       "1  alice  edith\n",
       "2   dave  alice\n",
       "3   dave  edith\n",
       "4   dave  carol\n",
       "5    bob  carol\n",
       "6  edith  alice\n",
       "7  edith   dave\n",
       "8  carol   dave\n",
       "9  carol    bob"
      ]
     },
     "execution_count": 5,
     "metadata": {},
     "output_type": "execute_result"
    }
   ],
   "source": [
    "def symmetrize_df(edges):\n",
    "    assert 'source' in edges.columns\n",
    "    assert 'target' in edges.columns\n",
    "    ###\n",
    "    df1 = edges.copy()\n",
    "    df2 = df1.copy()\n",
    "    df2['source'] = df1['target']\n",
    "    df2['target'] = df1['source']\n",
    "    df = df1.append(df2)\n",
    "    df = df.drop_duplicates(subset=['source', 'target'], keep='first')\n",
    "    return df.reset_index(drop = True)\n",
    "    \n",
    "    ###\n",
    "    \n",
    "# Demo of your function:\n",
    "symmetrize_df(edges)"
   ]
  },
  {
   "cell_type": "code",
   "execution_count": 6,
   "metadata": {
    "deletable": false,
    "editable": false,
    "nbgrader": {
     "grade": true,
     "grade_id": "ex0_symmetrize_df__visible",
     "locked": true,
     "points": "0.5",
     "solution": false
    }
   },
   "outputs": [
    {
     "name": "stdout",
     "output_type": "stream",
     "text": [
      "\n",
      "(Passed.)\n"
     ]
    }
   ],
   "source": [
    "# Test cell: `ex0_symmetrize_df__visible` (1 point)\n",
    "\n",
    "edges_input = DataFrame({'source': ['alice', 'alice', 'dave',  'dave',  'dave',  'bob'],\n",
    "                         'target': ['dave',  'edith', 'alice', 'edith', 'carol', 'carol']})\n",
    "edges_output = symmetrize_df(edges_input)\n",
    "\n",
    "# The following comment block suggests there is hidden content in this cell, but there really isn't.\n",
    "###\n",
    "### AUTOGRADER TEST - DO NOT REMOVE\n",
    "###\n",
    "\n",
    "edges_output_soln = pd.read_csv(dataset_path('symmetrize_soln.csv'))\n",
    "assert tibbles_are_equivalent(edges_output, edges_output_soln), \\\n",
    "       \"Your solution does not produce the expected output.\"\n",
    "\n",
    "print(\"\\n(Passed.)\")"
   ]
  },
  {
   "cell_type": "code",
   "execution_count": 7,
   "metadata": {
    "deletable": false,
    "editable": false,
    "nbgrader": {
     "grade": true,
     "grade_id": "ex0_symmetrize_df__hidden",
     "locked": true,
     "points": "1.5",
     "solution": false
    }
   },
   "outputs": [
    {
     "name": "stdout",
     "output_type": "stream",
     "text": [
      "This test cell will be replaced with one or more hidden tests.\n",
      "You will only know the result after submitting to the autograder.\n",
      "If the autograder times out, then either your solution is highly\n",
      "inefficient or contains a bug (e.g., an infinite loop). To see\n",
      "the result of the autograder run, inspect the grading report.\n",
      "\n"
     ]
    }
   ],
   "source": [
    "# Test cell: `ex0_symmetrize_df__hidden`\n",
    "\n",
    "print(hidden_cell_template_msg())\n",
    "\n",
    "###\n",
    "### AUTOGRADER TEST - DO NOT REMOVE\n",
    "###\n"
   ]
  },
  {
   "cell_type": "markdown",
   "metadata": {
    "deletable": false,
    "editable": false,
    "nbgrader": {
     "grade": false,
     "locked": true,
     "solution": false
    }
   },
   "source": [
    "**Exercise 1** (1 point). Given the nodes and edges of a graph as pandas `DataFrames` (i.e., like `nodes` and `edges` above), complete the function below so that it returns a corresponding Scipy sparse matrix in coordinate (COO) format.\n",
    "\n",
    "That is, your function should do the following:\n",
    "\n",
    "- The sparse matrix will hold source-to-target relationships. A value of 1.0 (floating-point) in row $i$ and column $j$ will indicate that person $i$ is connected to person $j$.\n",
    "- Use `nodes.index` to determine the numerical ID (row or column) of each node. For example, Alice's ID is 0, Bob's ID is 1, Carol's ID is 2, and so on. Therefore, in the sparse matrix, Alice will correspond with row 0 and column 0, Bob with row 1 and column 1, and so on.\n",
    "- Ensure that the dimensions of your sparse matrix are exactly $n \\times n$, where $n$ is the largest ID plus one. In the example, Edith has the largest ID of 4; therefore, the sparse matrix should have dimensions of $5 \\times 5$.\n",
    "\n",
    "For example, recall that Alice and Dave are connected by an edge. Therefore, the sparse matrix should have an entry of 1.0 in the (0, 3) position, since Alice's ID is 0 and Dave's is 3.\n",
    "\n",
    "> **Hint 0:** To help you get started, we've provided a couple lines that (a) determine the output matrix's dimension, `n`; and (b) creates a dictionary, `name_to_id`, which you can use to look up a node's ID given its name.\n",
    ">\n",
    "> **Hint 1:** Consider combining Hint 0(b) with the pandas `.replace()` function, which you will recall from an earlier notebook works on either [`DataFrame`](https://pandas.pydata.org/pandas-docs/stable/reference/api/pandas.DataFrame.replace.html) or [`Series`](https://pandas.pydata.org/pandas-docs/stable/reference/api/pandas.Series.replace.html) objects.\n",
    ">\n",
    "> **Hint 2:** You don't need to handle symmetry in your function. That is, if `edges` was not symmetrized, then there may be a nonzero at location $(i, j)$ but not $(j, i)$. Both should appear only if both are present in `edges`.\n",
    ">\n",
    "> **Hint 3:** Recall Notebook 11."
   ]
  },
  {
   "cell_type": "code",
   "execution_count": 8,
   "metadata": {},
   "outputs": [],
   "source": [
    "def df_to_coo(nodes, edges):\n",
    "    \"\"\"Returns a Scipy coordinate sparse matrix, given an input graph in a data frame representation.\"\"\"\n",
    "    assert 'name' in nodes.columns\n",
    "    assert 'source' in edges.columns\n",
    "    assert 'target' in edges.columns\n",
    "    from scipy.sparse import coo_matrix  # Use this to construct your sparse matrix!\n",
    "    \n",
    "    n = nodes.index.max() + 1\n",
    "    name_to_id = dict(zip(nodes['name'], nodes.index))\n",
    "    ###\n",
    "\n",
    "    row = np.array(edges['source'].map(name_to_id))\n",
    "    col = np.array(edges['target'].map(name_to_id))\n",
    "    data = np.ones(len(row))\n",
    "    return coo_matrix((data, (row, col)), shape=(n, n))\n",
    "    ###\n"
   ]
  },
  {
   "cell_type": "code",
   "execution_count": 9,
   "metadata": {},
   "outputs": [
    {
     "data": {
      "image/png": "[encoded data removed]",
      "text/plain": [
       "<Figure size 288x288 with 1 Axes>"
      ]
     },
     "metadata": {
      "needs_background": "light"
     },
     "output_type": "display_data"
    }
   ],
   "source": [
    "# Demo cell: This function calls your function and draws a picture\n",
    "# of the resulting sparse matrix, which you can use for debugging.\n",
    "# In this case, it takes the original (unsymmetrized) `edges`\n",
    "# data frame, symmetrizes it, and then calls your function. Thus,\n",
    "# the sparse matrix you see should appear symmetric.\n",
    "\n",
    "A = df_to_coo(nodes, symmetrize_df(edges))\n",
    "figure(figsize=(4, 4))\n",
    "cspy(A, cbar=False)"
   ]
  },
  {
   "cell_type": "code",
   "execution_count": 10,
   "metadata": {
    "deletable": false,
    "editable": false,
    "nbgrader": {
     "grade": true,
     "grade_id": "ex1_df_to_coo",
     "locked": true,
     "points": "1",
     "solution": false
    }
   },
   "outputs": [
    {
     "name": "stdout",
     "output_type": "stream",
     "text": [
      "(Passed.)\n"
     ]
    }
   ],
   "source": [
    "# Test cell: `ex1_df_to_coo`\n",
    "\n",
    "def check1(n=5, k=None):\n",
    "    assert n < 26, \"Currently limited to a max dimension of 26\"\n",
    "    from numpy.random import randint\n",
    "    from numpy import array, vectorize, issubdtype, floating\n",
    "    def gen_name(c):\n",
    "        return chr(ord('A') + c)\n",
    "    nodes = DataFrame({'name': array([gen_name(c) for c in range(n)])})\n",
    "    name_to_id = dict(zip(nodes['name'], nodes.index))\n",
    "    if k is None:\n",
    "        k = randint(0, 5*n)\n",
    "    if k > 0:\n",
    "        sources = vectorize(gen_name)(randint(n, size=k))\n",
    "        targets = vectorize(gen_name)(randint(n, size=k))\n",
    "    else:\n",
    "        sources = []\n",
    "        targets = []\n",
    "    edges = symmetrize_df(DataFrame({'source': sources, 'target': targets}))\n",
    "    edges_by_ids = set([(name_to_id[a], name_to_id[b]) for a, b in zip(edges['source'], edges['target'])])\n",
    "    try:\n",
    "        A = df_to_coo(nodes, edges)\n",
    "        assert A.nnz == len(edges_by_ids), f\"Expected {len(edges_by_ids)} edges, but you produced {A.nnz}.\"\n",
    "        assert issubdtype(A.dtype, floating), f\"Value type is `{A.dtype}`, which is incorrect.\"\n",
    "        A_edge_set = set()\n",
    "        for i, j, v in zip(A.row, A.col, A.data):\n",
    "            assert v == 1.0, f\"All values should equal 1.0, but you have {v} at position ({i}, {j}).\"\n",
    "            A_edge_set |= {(i, j)}\n",
    "        assert edges_by_ids == A_edge_set, \\\n",
    "               f\"Your matrix has incorrect edges in it:\\n\" \\\n",
    "               f\"  * Expected: {edges_by_ids}\\n\" \\\n",
    "               f\"  * You:      {A_edge_set}\\n\"\n",
    "    except:\n",
    "        print(\"=== Failing test case ===\")\n",
    "        print(\"* Nodes:\")\n",
    "        display(nodes)\n",
    "        print(\"* Edges:\")\n",
    "        display(edges)\n",
    "        raise\n",
    "\n",
    "for _ in range(10):\n",
    "    check1()\n",
    "    \n",
    "# Check empty test case\n",
    "check1(k=0)\n",
    "\n",
    "print(\"(Passed.)\")"
   ]
  },
  {
   "cell_type": "markdown",
   "metadata": {
    "deletable": false,
    "editable": false,
    "nbgrader": {
     "grade": false,
     "locked": true,
     "solution": false
    }
   },
   "source": [
    "**Exercise 2** (2 points). Suppose you are given a vector (1-D Numpy array). Write a function that returns a pair of 1-D Numpy arrays: one containing the positions (i.e., indices or locations) of all positive entries (strictly greater than zero), and one containing all remaining positions (less than or equal to zero).\n",
    "\n",
    "For example, if one runs\n",
    "```python\n",
    "x = np.array([1, -1, -2, 2, -3, 3, 4, -4, -5, 5])\n",
    "k_gtz, k_lez = partition_inds_by_sign(x)\n",
    "```\n",
    "then\n",
    "```python\n",
    "assert (k_gtz == np.array([0, 3, 5, 6, 9])).all()  # Positive positions (> 0)\n",
    "assert (k_lez == np.array([1, 2, 4, 7, 8])).all()  # Non-positive (<= 0)\n",
    "```\n",
    "\n",
    "> **Note 0:** Your function must return a pair of 1-D Numpy arrays. Each 1-D array must be truly 1-D. That is, it must have an `.ndim=1`; a 2-D array where one of the dimensions equals 1 will not be considered correct.\n",
    ">\n",
    "> **Note 1:** Your function should not be too slow. The test cell first checks a bunch of small examples for correctness; it then runs a larger test for efficiency. As usual, the autograder must complete both for you to get any credit.\n",
    ">\n",
    "> **Hint:** See [`numpy.where`](https://docs.scipy.org/doc/numpy/reference/generated/numpy.where.html). If you use it, pay close attention to its return value to ensure you extract the right information from it."
   ]
  },
  {
   "cell_type": "code",
   "execution_count": 11,
   "metadata": {},
   "outputs": [
    {
     "name": "stdout",
     "output_type": "stream",
     "text": [
      "x[[0 3 5 6 9]] == [1 2 3 4 5]\n",
      "x[[1 2 4 7 8]] == [-1 -2 -3 -4 -5]\n"
     ]
    }
   ],
   "source": [
    "def partition_inds_by_sign(x):\n",
    "    ###\n",
    "# x = np.array([1, -1, -2, 2, -3, 3, 4, -4, -5, 5])\n",
    "    return np.where(x>0)[0] , np.where(x<=0)[0]\n",
    "    \n",
    "    ###\n",
    "\n",
    "# Demo:\n",
    "x = np.array([1, -1, -2, 2, -3, 3, 4, -4, -5, 5])\n",
    "k_gtz, k_lez = partition_inds_by_sign(x)\n",
    "print(f\"x[{k_gtz}] == {x[k_gtz]}\") # Correct output: `x[[0 3 5 6 9]] == [1 2 3 4 5]`\n",
    "print(f\"x[{k_lez}] == {x[k_lez]}\") # Correct output: `x[[1 2 4 7 8]] == [-1 -2 -3 -4 -5]`"
   ]
  },
  {
   "cell_type": "code",
   "execution_count": 12,
   "metadata": {
    "deletable": false,
    "editable": false,
    "nbgrader": {
     "grade": true,
     "grade_id": "ex2_partition_inds_by_sign",
     "locked": true,
     "points": "2",
     "solution": false
    }
   },
   "outputs": [
    {
     "name": "stdout",
     "output_type": "stream",
     "text": [
      "Checking for correctness on small inputs...\n",
      "Checking for efficiency on a larger input...\n",
      "(Passed.)\n"
     ]
    }
   ],
   "source": [
    "# Test cell: `ex2_partition_inds_by_sign`\n",
    "\n",
    "def check2(n=8):\n",
    "    from random import randrange\n",
    "    from numpy import array, issubdtype, integer, ndarray\n",
    "    x = []\n",
    "    kp = []\n",
    "    kn = []\n",
    "    for i in range(n):\n",
    "        x.append(randrange(-10, 10))\n",
    "        (kp if x[-1] > 0 else kn).append(i)\n",
    "    x, kp, kn = array(x), array(kp, dtype=int), array(kn, dtype=int)\n",
    "    try:\n",
    "        k_gtz, k_lez = partition_inds_by_sign(x)\n",
    "        assert isinstance(k_gtz, ndarray) and isinstance(k_lez, ndarray), \\\n",
    "               \"You did not return Numpy arrays.\"\n",
    "        assert issubdtype(k_gtz.dtype, integer) and issubdtype(k_lez.dtype, integer), \\\n",
    "               f\"Both Numpy element types must be integers (yours are {k_gtz.dtype} and {k_lez.dtype}).\"\n",
    "        assert (k_gtz == kp).all(), \"Indices of positive values is incorrect.\"\n",
    "        assert (k_lez == kn).all(), \"Indices of non-positive values is incorrect.\"\n",
    "    except:\n",
    "        print(\"=== Error on test case! ===\")\n",
    "        print(f\"Input: {x}\")\n",
    "        print(f\"Your solution: {k_gtz}, {k_lez}\")\n",
    "        print(f\"True solution: {kp}, {kn}\")\n",
    "        assert False, \"Please double-check your approach on this test case.\"\n",
    "    \n",
    "print(\"Checking for correctness on small inputs...\")\n",
    "for _ in range(100):\n",
    "    check2()\n",
    "    \n",
    "print(\"Checking for efficiency on a larger input...\")\n",
    "check2(2000000)\n",
    "    \n",
    "print(\"(Passed.)\")"
   ]
  },
  {
   "cell_type": "markdown",
   "metadata": {
    "deletable": false,
    "editable": false,
    "nbgrader": {
     "grade": false,
     "locked": true,
     "solution": false
    }
   },
   "source": [
    "**Permutation vectors.** A permutation vector is a list of indices that corresponds to a rearrangement of the elements of another vector.\n",
    "\n",
    "For example, above we determined where the positive elements are and where the non-positive elements are. If we concatenate these into a single vector, the result is a permutation vector that can be used to place all the positive elements first, followed by the negative elements. For example:"
   ]
  },
  {
   "cell_type": "code",
   "execution_count": 13,
   "metadata": {
    "deletable": false,
    "editable": false,
    "nbgrader": {
     "grade": false,
     "locked": true,
     "solution": false
    }
   },
   "outputs": [
    {
     "name": "stdout",
     "output_type": "stream",
     "text": [
      "x == [ 1 -1 -2  2 -3  3  4 -4 -5  5]\n",
      "k == [0 3 5 6 9 1 2 4 7 8]\n",
      "y = x[k] == [ 1  2  3  4  5 -1 -2 -3 -4 -5]\n"
     ]
    }
   ],
   "source": [
    "print(f\"x == {x}\")\n",
    "k = np.concatenate((k_gtz, k_lez))\n",
    "print(f\"k == {k}\")\n",
    "y = x[k] # permute!\n",
    "print(f\"y = x[k] == {y}\") # elements rearranged"
   ]
  },
  {
   "cell_type": "markdown",
   "metadata": {
    "deletable": false,
    "editable": false,
    "nbgrader": {
     "grade": false,
     "locked": true,
     "solution": false
    }
   },
   "source": [
    "**Inverse permutations.** It's sometimes useful to _invert_ a permutation. In the previous example, suppose you are given `y` and want to recover `x`. The _inverse permutation vector_, `k_inv`, produces `x = y[k_inv]`.\n",
    "\n",
    "For example, here is a code snippet that creates an array, `x` and then permutes it into a new array `y` using the permutation vector (list) `k`:\n",
    "\n",
    "```python\n",
    "x = [1, -1, -2, 2, -3, 3, 4, -4, -5, 5] # input\n",
    "k = [0, 3, 5, 6, 9, 1, 2, 4, 7, 8] # some desired permutation of `x`\n",
    "y = x[k] # the permuted array\n",
    "print(y) # should print: `[1, 2, 3, 4, 5, -1, -2, -3, -4, -5]`\n",
    "```\n",
    "\n",
    "If we wish to recover `x` from `y`, we can use the following permutation, `k_inv`, which is the inverse permutation of `k`:\n",
    "\n",
    "```\n",
    "k_inv = [0, 5, 6, 1, 7, 2, 3, 8, 9, 4] # the inverse of permutation `k`\n",
    "print(y[k_inv]) # should be the same as `x`\n",
    "```\n",
    "\n",
    "If it's helpful, here are those same arrays drawn as a picture:"
   ]
  },
  {
   "cell_type": "markdown",
   "metadata": {
    "deletable": false,
    "editable": false,
    "nbgrader": {
     "grade": false,
     "locked": true,
     "solution": false
    }
   },
   "source": [
    "<img src=\"./resource/asnlib/public/perm-example.png\" alt=\"Example: Permutations and their inverses\" style=\"width: 512px;\"/>"
   ]
  },
  {
   "cell_type": "markdown",
   "metadata": {
    "deletable": false,
    "editable": false,
    "nbgrader": {
     "grade": false,
     "locked": true,
     "solution": false
    }
   },
   "source": [
    "**Exercise 3** (2 points). Complete the function `k_inv = invert_perm(k)`, below, so that returns the inverse of the permutation vector `k`. For the preceding example:\n",
    "```python\n",
    "    invert_perm(k) == np.array([0, 5, 6, 1, 7, 2, 3, 8, 9, 4])\n",
    "```\n",
    "If it would be helpful, here is a picture of your task, namely, to calculate `k_inv` given `k`:"
   ]
  },
  {
   "cell_type": "markdown",
   "metadata": {
    "deletable": false,
    "editable": false,
    "nbgrader": {
     "grade": false,
     "locked": true,
     "solution": false
    }
   },
   "source": [
    "<img src=\"./resource/asnlib/public/k-vs-k_inv.png\" alt=\"Example: Permutations and their inverses (2)\" style=\"width: 512px;\"/>"
   ]
  },
  {
   "cell_type": "code",
   "execution_count": 14,
   "metadata": {},
   "outputs": [
    {
     "name": "stdout",
     "output_type": "stream",
     "text": [
      "x == [ 1 -1 -2  2 -3  3  4 -4 -5  5]\n",
      "k == [0 3 5 6 9 1 2 4 7 8]\n",
      "y = x[k] == [ 1  2  3  4  5 -1 -2 -3 -4 -5]\n",
      "k_inv == [0 5 6 1 7 2 3 8 9 4]\n",
      "y[k_inv] == [ 1 -1 -2  2 -3  3  4 -4 -5  5]\n"
     ]
    }
   ],
   "source": [
    "def invert_perm(k):\n",
    "    from numpy import ndarray, issubdtype, integer\n",
    "    assert isinstance(k, ndarray), \"Input permutation should be a Numpy array.\"\n",
    "    assert issubdtype(k.dtype, integer), \"Input permutation should have integer elements.\"\n",
    "    assert (k >= 0).all(), \"Input permutation should contain positive values.\"\n",
    "    ###\n",
    "\n",
    "    return k.argsort()\n",
    "    \n",
    "    ###\n",
    "\n",
    "# Demo\n",
    "k_inv = invert_perm(k)\n",
    "y = x[k]\n",
    "print(f\"x == {x}\")\n",
    "print(f\"k == {k}\")\n",
    "print(f\"y = x[k] == {y}\")\n",
    "print(f\"k_inv == {k_inv}\")\n",
    "print(f\"y[k_inv] == {y[k_inv]}\")   # If all goes well, should equal `x`\n",
    "assert (y[k_inv] == x).all(), \"Demo failed!\""
   ]
  },
  {
   "cell_type": "code",
   "execution_count": 15,
   "metadata": {
    "deletable": false,
    "editable": false,
    "nbgrader": {
     "grade": true,
     "grade_id": "ex3_invert_perm",
     "locked": true,
     "points": "2",
     "solution": false
    }
   },
   "outputs": [
    {
     "name": "stdout",
     "output_type": "stream",
     "text": [
      "(Passed.)\n"
     ]
    }
   ],
   "source": [
    "# Test cell: `ex3_invert_perm`\n",
    "\n",
    "def check3(n=8):\n",
    "    from numpy import arange, ndarray, issubdtype, integer\n",
    "    from numpy.random import permutation\n",
    "    try:\n",
    "        x = arange(n)\n",
    "        p = permutation(n)\n",
    "        p_inv = invert_perm(p)\n",
    "        assert isinstance(p_inv, ndarray) and (p_inv.ndim == 1), \"You did not return a 1-D Numpy array.\"\n",
    "        assert issubdtype(p_inv.dtype, integer), f\"Numpy element type must be integer, not {p_inv.dtype}.\"\n",
    "        y = x[p]\n",
    "        z = y[p_inv]\n",
    "        assert (x == z).all()\n",
    "    except:\n",
    "        print(\"=== Failed test case ===\")\n",
    "        print(f\"Input: x == {x}\")\n",
    "        print(f\"A random permutation: p == {p}\")\n",
    "        print(f\"Permuted `x`: y == x[p] == {y}\")\n",
    "        print(f\"Your inverse permutation: p_inv == {p_inv}\")\n",
    "        print(f\"Result of y[p_inv] should be `x`, and yours is {z}\")\n",
    "        raise\n",
    "        \n",
    "for _ in range(100):\n",
    "    check3()\n",
    "    \n",
    "print(\"(Passed.)\")"
   ]
  },
  {
   "cell_type": "markdown",
   "metadata": {
    "deletable": false,
    "editable": false,
    "nbgrader": {
     "grade": false,
     "locked": true,
     "solution": false
    }
   },
   "source": [
    "## Spectral partitioning (or clustering)\n",
    "\n",
    "With the preceding building blocks, you are now ready to implement a technique known as _spectral graph partitioning_.\n",
    "\n",
    "Without going into too many details, the technique proceeds as follows:\n",
    "\n",
    "1. Form a special matrix called the _graph Laplacian_. This is a matrix $L = D - A$, where $A$ is a symmetrized matrix of relationships like what you worked with above, and $D$ is a diagonal matrix consisting of the degrees of every node. (Recall from an earlier notebook that the degree of a node is the number of edges that touch it.)\n",
    "2. Compute the _second smallest eigenvalue_ (in magnitude) and its corresponding eigenvector. This eigenvector is known as the _Fiedler vector_.\n",
    "3. Use the signs of the components of the Fiedler vector to identify two groups of nodes. That is, form one group from the components with positive sign, and the other from components with non-positive sign.\n",
    "\n",
    "We will provide you with code to perform steps 1 and 2. In Exercise 4 below, you need to write code to carry out step 3."
   ]
  },
  {
   "cell_type": "markdown",
   "metadata": {
    "deletable": false,
    "editable": false,
    "nbgrader": {
     "grade": false,
     "locked": true,
     "solution": false
    }
   },
   "source": [
    "**Calculating the Fiedler vector.** Here is the code to compute the Fiedler vector, given a (symmetrized) matrix of relationships, $A$. In particular, the function `calc_fiedler_vector(A)` returns the Fiedler vector. The cell below also prints the Fiedler vector for the example network from above."
   ]
  },
  {
   "cell_type": "code",
   "execution_count": 16,
   "metadata": {
    "deletable": false,
    "editable": false,
    "nbgrader": {
     "grade": false,
     "locked": true,
     "solution": false
    }
   },
   "outputs": [
    {
     "name": "stdout",
     "output_type": "stream",
     "text": [
      "[ 0.41931948 -0.702415   -0.3379981   0.20177414  0.41931948]\n"
     ]
    }
   ],
   "source": [
    "def calc_degrees_matrix(A):\n",
    "    from scipy.sparse import spdiags\n",
    "    n = min(A.shape)\n",
    "    return spdiags(A.sum(axis=1).reshape(n), diags=0, m=A.shape[0], n=A.shape[1])\n",
    "\n",
    "def calc_fiedler_vector(A):\n",
    "    from scipy.sparse.linalg import eigsh\n",
    "    D = calc_degrees_matrix(A)\n",
    "    L = D - A # Form Laplacian\n",
    "    _, V = eigsh(L, k=2, which='SM') # Determine 2nd smallest eigenpair\n",
    "    return V[:, 1]\n",
    "\n",
    "# Demo:\n",
    "v = calc_fiedler_vector(A)\n",
    "print(v)"
   ]
  },
  {
   "cell_type": "markdown",
   "metadata": {
    "deletable": false,
    "editable": false,
    "nbgrader": {
     "grade": false,
     "locked": true,
     "solution": false
    }
   },
   "source": [
    "Suppose we use the Fiedler vector to create groups, partitioning by sign using your code from Exercise 2. Observe what happens."
   ]
  },
  {
   "cell_type": "code",
   "execution_count": 17,
   "metadata": {
    "deletable": false,
    "editable": false,
    "nbgrader": {
     "grade": false,
     "locked": true,
     "solution": false
    }
   },
   "outputs": [
    {
     "name": "stdout",
     "output_type": "stream",
     "text": [
      "=== Group 0 ===\n"
     ]
    },
    {
     "data": {
      "text/html": [
       "<div>\n",
       "<style scoped>\n",
       "    .dataframe tbody tr th:only-of-type {\n",
       "        vertical-align: middle;\n",
       "    }\n",
       "\n",
       "    .dataframe tbody tr th {\n",
       "        vertical-align: top;\n",
       "    }\n",
       "\n",
       "    .dataframe thead th {\n",
       "        text-align: right;\n",
       "    }\n",
       "</style>\n",
       "<table border=\"1\" class=\"dataframe\">\n",
       "  <thead>\n",
       "    <tr style=\"text-align: right;\">\n",
       "      <th></th>\n",
       "      <th>name</th>\n",
       "      <th>age</th>\n",
       "    </tr>\n",
       "  </thead>\n",
       "  <tbody>\n",
       "    <tr>\n",
       "      <th>0</th>\n",
       "      <td>alice</td>\n",
       "      <td>35</td>\n",
       "    </tr>\n",
       "    <tr>\n",
       "      <th>3</th>\n",
       "      <td>dave</td>\n",
       "      <td>57</td>\n",
       "    </tr>\n",
       "    <tr>\n",
       "      <th>4</th>\n",
       "      <td>edith</td>\n",
       "      <td>41</td>\n",
       "    </tr>\n",
       "  </tbody>\n",
       "</table>\n",
       "</div>"
      ],
      "text/plain": [
       "    name  age\n",
       "0  alice   35\n",
       "3   dave   57\n",
       "4  edith   41"
      ]
     },
     "metadata": {},
     "output_type": "display_data"
    },
    {
     "name": "stdout",
     "output_type": "stream",
     "text": [
      "\n",
      "=== Group 1 ===\n"
     ]
    },
    {
     "data": {
      "text/html": [
       "<div>\n",
       "<style scoped>\n",
       "    .dataframe tbody tr th:only-of-type {\n",
       "        vertical-align: middle;\n",
       "    }\n",
       "\n",
       "    .dataframe tbody tr th {\n",
       "        vertical-align: top;\n",
       "    }\n",
       "\n",
       "    .dataframe thead th {\n",
       "        text-align: right;\n",
       "    }\n",
       "</style>\n",
       "<table border=\"1\" class=\"dataframe\">\n",
       "  <thead>\n",
       "    <tr style=\"text-align: right;\">\n",
       "      <th></th>\n",
       "      <th>name</th>\n",
       "      <th>age</th>\n",
       "    </tr>\n",
       "  </thead>\n",
       "  <tbody>\n",
       "    <tr>\n",
       "      <th>1</th>\n",
       "      <td>bob</td>\n",
       "      <td>18</td>\n",
       "    </tr>\n",
       "    <tr>\n",
       "      <th>2</th>\n",
       "      <td>carol</td>\n",
       "      <td>27</td>\n",
       "    </tr>\n",
       "  </tbody>\n",
       "</table>\n",
       "</div>"
      ],
      "text/plain": [
       "    name  age\n",
       "1    bob   18\n",
       "2  carol   27"
      ]
     },
     "metadata": {},
     "output_type": "display_data"
    }
   ],
   "source": [
    "k_gtz, k_lez = partition_inds_by_sign(v)\n",
    "\n",
    "print(\"=== Group 0 ===\")\n",
    "display(nodes.loc[k_gtz])\n",
    "\n",
    "print(\"\\n=== Group 1 ===\")\n",
    "display(nodes.loc[k_lez])"
   ]
  },
  {
   "cell_type": "markdown",
   "metadata": {
    "deletable": false,
    "editable": false,
    "nbgrader": {
     "grade": false,
     "locked": true,
     "solution": false
    }
   },
   "source": [
    "Notice that `alice`, `dave`, and `edith` appear in one group, and `bob` and `carol` in the other! That corresponds with what we said was our intuitive idea of the \"natural\" clusters in the network."
   ]
  },
  {
   "cell_type": "markdown",
   "metadata": {
    "deletable": false,
    "editable": false,
    "nbgrader": {
     "grade": false,
     "locked": true,
     "solution": false
    }
   },
   "source": [
    "**Hint for the next (and last) exercise.** Given a coordinate sparse matrix, `A`, recall that you can access its row indices, column indices, and values using the following attributes of `A` (run the code cell)."
   ]
  },
  {
   "cell_type": "code",
   "execution_count": 18,
   "metadata": {
    "deletable": false,
    "editable": false,
    "nbgrader": {
     "grade": false,
     "locked": true,
     "solution": false
    }
   },
   "outputs": [
    {
     "name": "stdout",
     "output_type": "stream",
     "text": [
      "COO row indices: [0 0 3 3 3 1 4 4 2 2]\n",
      "COO column indices: [3 4 0 4 2 2 0 3 3 1]\n",
      "COO values: [1. 1. 1. 1. 1. 1. 1. 1. 1. 1.]\n"
     ]
    }
   ],
   "source": [
    "print(\"COO row indices:\", A.row)\n",
    "print(\"COO column indices:\", A.col)\n",
    "print(\"COO values:\", A.data)"
   ]
  },
  {
   "cell_type": "markdown",
   "metadata": {
    "deletable": false,
    "editable": false,
    "nbgrader": {
     "grade": false,
     "locked": true,
     "solution": false
    }
   },
   "source": [
    "**Exercise 4** (2 points). Given a coordinate sparse matrix `A` and a Fiedler vector `v`, complete the function `reorder_by_fiedler(A, v)` below so that it does the following:\n",
    "\n",
    "- Uses the Fiedler vector `v` to create a permutation vector that groups positive values first followed by non-positive values.\n",
    "- Creates a new coordinate sparse matrix, `A_perm`, which is `A` with its rows and columns permuted according to the permutation vector.\n",
    "\n",
    "Permuting the rows and columns means simultaneously reordering them according to a permutation vector. You can do so by simply \"relabeling\" the indices in just the right way. In particular, let's call the permutation vector `k`. Then, in the permuted matrix `A_perm`, the row index that was `k[i]` in `A` should become row index `i` in `A_perm`. Similarly, any column index `k[j]` in `A` should become column index `j` in `A_perm`."
   ]
  },
  {
   "cell_type": "markdown",
   "metadata": {
    "deletable": false,
    "editable": false,
    "nbgrader": {
     "grade": false,
     "locked": true,
     "solution": false
    }
   },
   "source": [
    "For example, suppose the Fiedler vector of the example matrix `A` above had `[0, 3, 4]` as positive components and `[1, 2]` as non-positive, meaning the concatenated permutation vector is `[0, 3, 4, 1, 2]`. Then, reading the permutation vector from left-to-right, the row index that was 0 in `A` should remain 0 in the permuted matrix `A_perm`; the row index that was 3 in `A` should be changed to 1 in `A_perm`; the row index that was 4 in `A` should become 2 in `A_perm`; the row index that was 1 should become 3; and the final row index of 2 should become 4. An identical relabeling should be applied to the column indices. A spy plot of the original matrix and its reordered version are as follows:\n",
    "\n",
    "<img src=\"./resource/asnlib/public/example_A_before_and_after_perm.png\" alt=\"Example of a matrix symmetrically reordered by the permutation vector `[0, 3, 4, 1, 2]`.\" style=\"width: 640px;\"/>"
   ]
  },
  {
   "cell_type": "markdown",
   "metadata": {
    "deletable": false,
    "editable": false,
    "nbgrader": {
     "grade": false,
     "locked": true,
     "solution": false
    }
   },
   "source": [
    "Notice how the nonzeros are grouped differently, with some clustering happening along the diagonal blocks after permutation. That's a visual signal that we've identified some clusters.\n",
    "\n",
    "> **Note:** The eigensolver used to compute the Fiedler vector can sometimes \"flip\" the signs. The results are essentially the same, but it may mean that the permuted result will have the diagonal blocks you see above reversed.\n",
    ">\n",
    "> **Hint:** The example you see above is tricky, because it turns out the permutation vector `[0, 3, 4, 1, 2]` is its own inverse! In developing your solution, **you'll need to think carefully about whether you should use a permutation vector, its inverse, both, or neither.**"
   ]
  },
  {
   "cell_type": "code",
   "execution_count": 27,
   "metadata": {
    "scrolled": false
   },
   "outputs": [
    {
     "data": {
      "image/png": "[encoded data removed]",
      "text/plain": [
       "<Figure size 288x288 with 1 Axes>"
      ]
     },
     "metadata": {
      "needs_background": "light"
     },
     "output_type": "display_data"
    }
   ],
   "source": [
    "def reorder_by_fiedler(A, v):\n",
    "    from scipy.sparse import coo_matrix\n",
    "    assert isinstance(A, type(coo_matrix((1, 1))))\n",
    "    ###\n",
    "    k_gtz, k_lez = partition_inds_by_sign(v)\n",
    "    k1 = np.concatenate((k_gtz, k_lez))\n",
    "    n = len(k1)\n",
    "    k1_inv = invert_perm(k1)\n",
    "    new_row = np.array([k1_inv[i] for i in A.row])\n",
    "    new_col = np.array([k1_inv[i] for i in A.col])\n",
    "\n",
    "#     new_data =np.zeros(len(new_row))\n",
    "#     c = 0\n",
    "#     for i, j in zip(new_row,new_col):\n",
    "        \n",
    "#         k0 = np.where((A.row == k1[i])&((A.col == k1[j])))[0]\n",
    "\n",
    "#         new_data[c] = A.data[k0]\n",
    "#         c += 1\n",
    "    return coo_matrix ((A.data, (new_row, new_col)), shape=(n, n))\n",
    "    ###\n",
    "    \n",
    "A_perm = reorder_by_fiedler(A, v)\n",
    "figure(figsize=(4, 4))\n",
    "cspy(A_perm, cbar=False)"
   ]
  },
  {
   "cell_type": "code",
   "execution_count": 28,
   "metadata": {
    "deletable": false,
    "editable": false,
    "nbgrader": {
     "grade": true,
     "grade_id": "ex4_reorder_by_fiedler",
     "locked": true,
     "points": "2",
     "solution": false
    }
   },
   "outputs": [
    {
     "name": "stdout",
     "output_type": "stream",
     "text": [
      "Checking for correctness...\n",
      "(Passed.)\n"
     ]
    }
   ],
   "source": [
    "# Test cell: `ex4_reorder_by_fiedler`\n",
    "\n",
    "def check4(n=8):\n",
    "    from random import randrange\n",
    "    from numpy import array, arange, where\n",
    "    import scipy.sparse as sparse\n",
    "    v = []\n",
    "    kp = []\n",
    "    kn = []\n",
    "    for i in range(n):\n",
    "        v.append(randrange(-10, 10))\n",
    "        (kp if v[-1] > 0 else kn).append(i)\n",
    "    v, p = array(v), array(kp + kn)\n",
    "    A = sparse.random(n, n, 0.25)\n",
    "    A.data = arange(1, len(A.data)+1)\n",
    "    try:\n",
    "        A_perm = reorder_by_fiedler(A, v)\n",
    "        assert isinstance(A_perm, type(A)), \\\n",
    "               f\"You returned an object of type {type(A_perm)}, not {type(A)}.\"\n",
    "        assert A.shape == A_perm.shape, \\\n",
    "               f\"You returned a sparse matrix with dimensions {A_perm.shape} instead of {A.shape}.\"\n",
    "        assert A.nnz == A_perm.nnz, \\\n",
    "               f\"Your result has {A_perm.nnz} nonzeros instead of {A.nnz}.\"\n",
    "        for i, j, a_perm_i_j in zip(A_perm.row, A_perm.col, A_perm.data):\n",
    "            i0, j0 = p[i], p[j]\n",
    "            k0 = where((A.row == i0) & (A.col == j0))[0]\n",
    "            a_i0_j0 = A.data[k0]\n",
    "            assert a_perm_i_j == a_i0_j0, \\\n",
    "                   f\"Entry ({i}, {j}) of your solution does not appear to be correct.\"\n",
    "    except:\n",
    "        print(\"=== Error on test case! ===\")\n",
    "        print(f\"Input matrix:\")\n",
    "        print(f\"* rows = {A.row}\")\n",
    "        print(f\"* cols = {A.col}\")\n",
    "        print(f\"* vals = {A.data}\")\n",
    "        print(f\"Fiedler vector: {v}\")\n",
    "        print(f\"Permutation: {p}\")\n",
    "        assert False, \"Please double-check your approach on this test case.\"\n",
    "    \n",
    "print(\"Checking for correctness...\")\n",
    "for _ in range(100):\n",
    "    check4()\n",
    "    \n",
    "print(\"(Passed.)\")"
   ]
  },
  {
   "cell_type": "markdown",
   "metadata": {
    "deletable": false,
    "editable": false,
    "nbgrader": {
     "grade": false,
     "locked": true,
     "solution": false
    }
   },
   "source": [
    "## Application: Political blogs analysis\n",
    "\n",
    "As a final step, let's try this method on a real dataset. If you already did the above exercises correctly, you do not have to write more code. However, there is one more test cell that must pass to get full points on this problem; see Exercise 5, below.\n",
    "\n",
    "**Political blogs dataset.** The dataset consists of political blogs and their links to one another. Let's load these data and take a look."
   ]
  },
  {
   "cell_type": "code",
   "execution_count": 21,
   "metadata": {
    "deletable": false,
    "editable": false,
    "nbgrader": {
     "grade": false,
     "locked": true,
     "solution": false
    }
   },
   "outputs": [
    {
     "data": {
      "text/html": [
       "<div>\n",
       "<style scoped>\n",
       "    .dataframe tbody tr th:only-of-type {\n",
       "        vertical-align: middle;\n",
       "    }\n",
       "\n",
       "    .dataframe tbody tr th {\n",
       "        vertical-align: top;\n",
       "    }\n",
       "\n",
       "    .dataframe thead th {\n",
       "        text-align: right;\n",
       "    }\n",
       "</style>\n",
       "<table border=\"1\" class=\"dataframe\">\n",
       "  <thead>\n",
       "    <tr style=\"text-align: right;\">\n",
       "      <th></th>\n",
       "      <th>name</th>\n",
       "      <th>pol</th>\n",
       "    </tr>\n",
       "  </thead>\n",
       "  <tbody>\n",
       "    <tr>\n",
       "      <th>0</th>\n",
       "      <td>kevincourser.blogspot.com</td>\n",
       "      <td>1</td>\n",
       "    </tr>\n",
       "    <tr>\n",
       "      <th>1</th>\n",
       "      <td>theleftcoaster.com</td>\n",
       "      <td>-1</td>\n",
       "    </tr>\n",
       "    <tr>\n",
       "      <th>2</th>\n",
       "      <td>kicktheleftist.blogspot.com</td>\n",
       "      <td>-1</td>\n",
       "    </tr>\n",
       "    <tr>\n",
       "      <th>3</th>\n",
       "      <td>madanthony.org</td>\n",
       "      <td>1</td>\n",
       "    </tr>\n",
       "    <tr>\n",
       "      <th>4</th>\n",
       "      <td>karmicsoup.blogspot.com</td>\n",
       "      <td>-1</td>\n",
       "    </tr>\n",
       "  </tbody>\n",
       "</table>\n",
       "</div>"
      ],
      "text/plain": [
       "                          name  pol\n",
       "0    kevincourser.blogspot.com    1\n",
       "1           theleftcoaster.com   -1\n",
       "2  kicktheleftist.blogspot.com   -1\n",
       "3               madanthony.org    1\n",
       "4      karmicsoup.blogspot.com   -1"
      ]
     },
     "metadata": {},
     "output_type": "display_data"
    },
    {
     "name": "stdout",
     "output_type": "stream",
     "text": [
      "==> The `blog_nodes` data frame lists 754 blog sites.\n"
     ]
    },
    {
     "data": {
      "text/html": [
       "<div>\n",
       "<style scoped>\n",
       "    .dataframe tbody tr th:only-of-type {\n",
       "        vertical-align: middle;\n",
       "    }\n",
       "\n",
       "    .dataframe tbody tr th {\n",
       "        vertical-align: top;\n",
       "    }\n",
       "\n",
       "    .dataframe thead th {\n",
       "        text-align: right;\n",
       "    }\n",
       "</style>\n",
       "<table border=\"1\" class=\"dataframe\">\n",
       "  <thead>\n",
       "    <tr style=\"text-align: right;\">\n",
       "      <th></th>\n",
       "      <th>source</th>\n",
       "      <th>target</th>\n",
       "    </tr>\n",
       "  </thead>\n",
       "  <tbody>\n",
       "    <tr>\n",
       "      <th>0</th>\n",
       "      <td>kevincourser.blogspot.com</td>\n",
       "      <td>littlegreenfootballs.com/weblog</td>\n",
       "    </tr>\n",
       "    <tr>\n",
       "      <th>1</th>\n",
       "      <td>kevincourser.blogspot.com</td>\n",
       "      <td>drudgereport.com</td>\n",
       "    </tr>\n",
       "    <tr>\n",
       "      <th>2</th>\n",
       "      <td>theleftcoaster.com</td>\n",
       "      <td>warandpiece.com</td>\n",
       "    </tr>\n",
       "    <tr>\n",
       "      <th>3</th>\n",
       "      <td>theleftcoaster.com</td>\n",
       "      <td>bartcop.com</td>\n",
       "    </tr>\n",
       "    <tr>\n",
       "      <th>4</th>\n",
       "      <td>theleftcoaster.com</td>\n",
       "      <td>prospect.org/weblog</td>\n",
       "    </tr>\n",
       "  </tbody>\n",
       "</table>\n",
       "</div>"
      ],
      "text/plain": [
       "                      source                           target\n",
       "0  kevincourser.blogspot.com  littlegreenfootballs.com/weblog\n",
       "1  kevincourser.blogspot.com                 drudgereport.com\n",
       "2         theleftcoaster.com                  warandpiece.com\n",
       "3         theleftcoaster.com                      bartcop.com\n",
       "4         theleftcoaster.com              prospect.org/weblog"
      ]
     },
     "metadata": {},
     "output_type": "display_data"
    },
    {
     "name": "stdout",
     "output_type": "stream",
     "text": [
      "==> The `blog_edges` data frame contains 25042 directed linksamong sites (~ 33.2 links/site).\n"
     ]
    }
   ],
   "source": [
    "blog_nodes = pd.read_csv(dataset_path('polblogs3_nodes.csv'))\n",
    "blog_edges = pd.read_csv(dataset_path('polblogs3_edges.csv'))\n",
    "\n",
    "display(blog_nodes.head())\n",
    "print(f\"==> The `blog_nodes` data frame lists {len(blog_nodes)} blog sites.\")\n",
    "display(blog_edges.head())\n",
    "print(f\"==> The `blog_edges` data frame contains {len(blog_edges)} directed links\" \\\n",
    "      f\"among sites (~ {len(blog_edges)/len(blog_nodes):.1f} links/site).\")"
   ]
  },
  {
   "cell_type": "markdown",
   "metadata": {
    "deletable": false,
    "editable": false,
    "nbgrader": {
     "grade": false,
     "locked": true,
     "solution": false
    }
   },
   "source": [
    "\n",
    "The `blog_nodes` data frame above has a column named `'pol'`, which is the political affiliation of the blog: a `+1` means a conservative (politically right-leaning) site, and a `-1` means a liberal (left-leaning) site.\n",
    "\n",
    "Let's see what happens if we partition the graph corresponding to these sites and their links to one another."
   ]
  },
  {
   "cell_type": "code",
   "execution_count": 22,
   "metadata": {
    "deletable": false,
    "editable": false,
    "nbgrader": {
     "grade": false,
     "locked": true,
     "solution": false
    },
    "scrolled": true
   },
   "outputs": [
    {
     "data": {
      "image/png": "[encoded data removed]",
      "text/plain": [
       "<Figure size 720x360 with 2 Axes>"
      ]
     },
     "metadata": {
      "needs_background": "light"
     },
     "output_type": "display_data"
    }
   ],
   "source": [
    "A_blogs = df_to_coo(blog_nodes, blog_edges)\n",
    "v_blogs = calc_fiedler_vector(A_blogs)\n",
    "A_blogs_perm = reorder_by_fiedler(A_blogs, v_blogs)\n",
    "\n",
    "f, (ax1, ax2) = subplots(1, 2, figsize=(10, 5))\n",
    "cspy(A_blogs, ax=ax1, cbar=False, s=1)\n",
    "cspy(A_blogs_perm, ax=ax2, cbar=False, s=1)"
   ]
  },
  {
   "cell_type": "markdown",
   "metadata": {
    "deletable": false,
    "editable": false,
    "nbgrader": {
     "grade": false,
     "locked": true,
     "solution": false
    }
   },
   "source": [
    "If everything is working, you should see two spy plots. The left-hand plot does not appear to have much structure; however, the right-hand plot, which is the same graph permuted by the Fiedler vector, should have some strong block-diagonal structure, indicating the presence of clusters.\n",
    "\n",
    "Indeed, let's see which sites correspond to positive entries of the Fiedler vector, and which correspond to negative entries."
   ]
  },
  {
   "cell_type": "code",
   "execution_count": 23,
   "metadata": {
    "deletable": false,
    "editable": false,
    "nbgrader": {
     "grade": false,
     "locked": true,
     "solution": false
    }
   },
   "outputs": [
    {
     "data": {
      "text/plain": [
       "(408, 346)"
      ]
     },
     "execution_count": 23,
     "metadata": {},
     "output_type": "execute_result"
    }
   ],
   "source": [
    "kp_blogs, kn_blogs = partition_inds_by_sign(v_blogs)\n",
    "len(kp_blogs), len(kn_blogs)"
   ]
  },
  {
   "cell_type": "markdown",
   "metadata": {
    "deletable": false,
    "editable": false,
    "nbgrader": {
     "grade": false,
     "locked": true,
     "solution": false
    }
   },
   "source": [
    "The next cell displays a random sample of the two groups:"
   ]
  },
  {
   "cell_type": "code",
   "execution_count": 24,
   "metadata": {
    "deletable": false,
    "editable": false,
    "nbgrader": {
     "grade": false,
     "locked": true,
     "solution": false
    }
   },
   "outputs": [
    {
     "data": {
      "text/html": [
       "<div>\n",
       "<style scoped>\n",
       "    .dataframe tbody tr th:only-of-type {\n",
       "        vertical-align: middle;\n",
       "    }\n",
       "\n",
       "    .dataframe tbody tr th {\n",
       "        vertical-align: top;\n",
       "    }\n",
       "\n",
       "    .dataframe thead th {\n",
       "        text-align: right;\n",
       "    }\n",
       "</style>\n",
       "<table border=\"1\" class=\"dataframe\">\n",
       "  <thead>\n",
       "    <tr style=\"text-align: right;\">\n",
       "      <th></th>\n",
       "      <th>name</th>\n",
       "      <th>pol</th>\n",
       "    </tr>\n",
       "  </thead>\n",
       "  <tbody>\n",
       "    <tr>\n",
       "      <th>96</th>\n",
       "      <td>arkanssouri.blogspot.com</td>\n",
       "      <td>1</td>\n",
       "    </tr>\n",
       "    <tr>\n",
       "      <th>412</th>\n",
       "      <td>rightwingnews.com</td>\n",
       "      <td>1</td>\n",
       "    </tr>\n",
       "    <tr>\n",
       "      <th>245</th>\n",
       "      <td>calpoly.edu/~doleary/blog.htm</td>\n",
       "      <td>1</td>\n",
       "    </tr>\n",
       "    <tr>\n",
       "      <th>386</th>\n",
       "      <td>rockpaperscissor.blogspot.com</td>\n",
       "      <td>1</td>\n",
       "    </tr>\n",
       "    <tr>\n",
       "      <th>16</th>\n",
       "      <td>asmallvictory.net</td>\n",
       "      <td>1</td>\n",
       "    </tr>\n",
       "    <tr>\n",
       "      <th>585</th>\n",
       "      <td>diplomadic.blogspot.com</td>\n",
       "      <td>1</td>\n",
       "    </tr>\n",
       "    <tr>\n",
       "      <th>277</th>\n",
       "      <td>theurbangrind.blogspot.com</td>\n",
       "      <td>1</td>\n",
       "    </tr>\n",
       "    <tr>\n",
       "      <th>232</th>\n",
       "      <td>pardonmyenglish.com</td>\n",
       "      <td>1</td>\n",
       "    </tr>\n",
       "    <tr>\n",
       "      <th>63</th>\n",
       "      <td>althouse.blogspot.com</td>\n",
       "      <td>1</td>\n",
       "    </tr>\n",
       "    <tr>\n",
       "      <th>269</th>\n",
       "      <td>annika.mu.nu</td>\n",
       "      <td>1</td>\n",
       "    </tr>\n",
       "  </tbody>\n",
       "</table>\n",
       "</div>"
      ],
      "text/plain": [
       "                              name  pol\n",
       "96        arkanssouri.blogspot.com    1\n",
       "412              rightwingnews.com    1\n",
       "245  calpoly.edu/~doleary/blog.htm    1\n",
       "386  rockpaperscissor.blogspot.com    1\n",
       "16               asmallvictory.net    1\n",
       "585        diplomadic.blogspot.com    1\n",
       "277     theurbangrind.blogspot.com    1\n",
       "232            pardonmyenglish.com    1\n",
       "63           althouse.blogspot.com    1\n",
       "269                   annika.mu.nu    1"
      ]
     },
     "metadata": {},
     "output_type": "display_data"
    },
    {
     "data": {
      "text/html": [
       "<div>\n",
       "<style scoped>\n",
       "    .dataframe tbody tr th:only-of-type {\n",
       "        vertical-align: middle;\n",
       "    }\n",
       "\n",
       "    .dataframe tbody tr th {\n",
       "        vertical-align: top;\n",
       "    }\n",
       "\n",
       "    .dataframe thead th {\n",
       "        text-align: right;\n",
       "    }\n",
       "</style>\n",
       "<table border=\"1\" class=\"dataframe\">\n",
       "  <thead>\n",
       "    <tr style=\"text-align: right;\">\n",
       "      <th></th>\n",
       "      <th>name</th>\n",
       "      <th>pol</th>\n",
       "    </tr>\n",
       "  </thead>\n",
       "  <tbody>\n",
       "    <tr>\n",
       "      <th>362</th>\n",
       "      <td>donspoliticalblog.blogspot.com</td>\n",
       "      <td>-1</td>\n",
       "    </tr>\n",
       "    <tr>\n",
       "      <th>453</th>\n",
       "      <td>red-harvest.blogspot.com</td>\n",
       "      <td>-1</td>\n",
       "    </tr>\n",
       "    <tr>\n",
       "      <th>185</th>\n",
       "      <td>bluestates.blogspot.com</td>\n",
       "      <td>1</td>\n",
       "    </tr>\n",
       "    <tr>\n",
       "      <th>226</th>\n",
       "      <td>scrutinyhooligans.blogspot.com</td>\n",
       "      <td>-1</td>\n",
       "    </tr>\n",
       "    <tr>\n",
       "      <th>689</th>\n",
       "      <td>americansforbayh.blogspot.com</td>\n",
       "      <td>-1</td>\n",
       "    </tr>\n",
       "    <tr>\n",
       "      <th>53</th>\n",
       "      <td>jameswolcott.com</td>\n",
       "      <td>-1</td>\n",
       "    </tr>\n",
       "    <tr>\n",
       "      <th>696</th>\n",
       "      <td>andymatic.com</td>\n",
       "      <td>-1</td>\n",
       "    </tr>\n",
       "    <tr>\n",
       "      <th>257</th>\n",
       "      <td>nielsenhayden.com/electrolite</td>\n",
       "      <td>-1</td>\n",
       "    </tr>\n",
       "    <tr>\n",
       "      <th>595</th>\n",
       "      <td>margaretcho.com/blog/blog.htm</td>\n",
       "      <td>-1</td>\n",
       "    </tr>\n",
       "    <tr>\n",
       "      <th>56</th>\n",
       "      <td>stevegilliard.blogspot.com</td>\n",
       "      <td>-1</td>\n",
       "    </tr>\n",
       "  </tbody>\n",
       "</table>\n",
       "</div>"
      ],
      "text/plain": [
       "                               name  pol\n",
       "362  donspoliticalblog.blogspot.com   -1\n",
       "453        red-harvest.blogspot.com   -1\n",
       "185         bluestates.blogspot.com    1\n",
       "226  scrutinyhooligans.blogspot.com   -1\n",
       "689   americansforbayh.blogspot.com   -1\n",
       "53                 jameswolcott.com   -1\n",
       "696                   andymatic.com   -1\n",
       "257   nielsenhayden.com/electrolite   -1\n",
       "595   margaretcho.com/blog/blog.htm   -1\n",
       "56       stevegilliard.blogspot.com   -1"
      ]
     },
     "metadata": {},
     "output_type": "display_data"
    }
   ],
   "source": [
    "display(blog_nodes.loc[kp_blogs].sample(10))\n",
    "display(blog_nodes.loc[kn_blogs].sample(10))"
   ]
  },
  {
   "cell_type": "markdown",
   "metadata": {
    "deletable": false,
    "editable": false,
    "nbgrader": {
     "grade": false,
     "locked": true,
     "solution": false
    }
   },
   "source": [
    "You should see that one of the samples has mostly +1 political affiliations, whereas the other has mostly -1 affiliations. Indeed, if we calculate the statistics on the `pol` column of the two groups, you can confirm this finding:"
   ]
  },
  {
   "cell_type": "code",
   "execution_count": 25,
   "metadata": {
    "deletable": false,
    "editable": false,
    "nbgrader": {
     "grade": false,
     "locked": true,
     "solution": false
    }
   },
   "outputs": [
    {
     "data": {
      "text/html": [
       "<div>\n",
       "<style scoped>\n",
       "    .dataframe tbody tr th:only-of-type {\n",
       "        vertical-align: middle;\n",
       "    }\n",
       "\n",
       "    .dataframe tbody tr th {\n",
       "        vertical-align: top;\n",
       "    }\n",
       "\n",
       "    .dataframe thead th {\n",
       "        text-align: right;\n",
       "    }\n",
       "</style>\n",
       "<table border=\"1\" class=\"dataframe\">\n",
       "  <thead>\n",
       "    <tr style=\"text-align: right;\">\n",
       "      <th></th>\n",
       "      <th>pol</th>\n",
       "    </tr>\n",
       "  </thead>\n",
       "  <tbody>\n",
       "    <tr>\n",
       "      <th>count</th>\n",
       "      <td>408.000000</td>\n",
       "    </tr>\n",
       "    <tr>\n",
       "      <th>mean</th>\n",
       "      <td>0.970588</td>\n",
       "    </tr>\n",
       "    <tr>\n",
       "      <th>std</th>\n",
       "      <td>0.241041</td>\n",
       "    </tr>\n",
       "    <tr>\n",
       "      <th>min</th>\n",
       "      <td>-1.000000</td>\n",
       "    </tr>\n",
       "    <tr>\n",
       "      <th>25%</th>\n",
       "      <td>1.000000</td>\n",
       "    </tr>\n",
       "    <tr>\n",
       "      <th>50%</th>\n",
       "      <td>1.000000</td>\n",
       "    </tr>\n",
       "    <tr>\n",
       "      <th>75%</th>\n",
       "      <td>1.000000</td>\n",
       "    </tr>\n",
       "    <tr>\n",
       "      <th>max</th>\n",
       "      <td>1.000000</td>\n",
       "    </tr>\n",
       "  </tbody>\n",
       "</table>\n",
       "</div>"
      ],
      "text/plain": [
       "              pol\n",
       "count  408.000000\n",
       "mean     0.970588\n",
       "std      0.241041\n",
       "min     -1.000000\n",
       "25%      1.000000\n",
       "50%      1.000000\n",
       "75%      1.000000\n",
       "max      1.000000"
      ]
     },
     "metadata": {},
     "output_type": "display_data"
    },
    {
     "data": {
      "text/html": [
       "<div>\n",
       "<style scoped>\n",
       "    .dataframe tbody tr th:only-of-type {\n",
       "        vertical-align: middle;\n",
       "    }\n",
       "\n",
       "    .dataframe tbody tr th {\n",
       "        vertical-align: top;\n",
       "    }\n",
       "\n",
       "    .dataframe thead th {\n",
       "        text-align: right;\n",
       "    }\n",
       "</style>\n",
       "<table border=\"1\" class=\"dataframe\">\n",
       "  <thead>\n",
       "    <tr style=\"text-align: right;\">\n",
       "      <th></th>\n",
       "      <th>pol</th>\n",
       "    </tr>\n",
       "  </thead>\n",
       "  <tbody>\n",
       "    <tr>\n",
       "      <th>count</th>\n",
       "      <td>346.000000</td>\n",
       "    </tr>\n",
       "    <tr>\n",
       "      <th>mean</th>\n",
       "      <td>-0.919075</td>\n",
       "    </tr>\n",
       "    <tr>\n",
       "      <th>std</th>\n",
       "      <td>0.394653</td>\n",
       "    </tr>\n",
       "    <tr>\n",
       "      <th>min</th>\n",
       "      <td>-1.000000</td>\n",
       "    </tr>\n",
       "    <tr>\n",
       "      <th>25%</th>\n",
       "      <td>-1.000000</td>\n",
       "    </tr>\n",
       "    <tr>\n",
       "      <th>50%</th>\n",
       "      <td>-1.000000</td>\n",
       "    </tr>\n",
       "    <tr>\n",
       "      <th>75%</th>\n",
       "      <td>-1.000000</td>\n",
       "    </tr>\n",
       "    <tr>\n",
       "      <th>max</th>\n",
       "      <td>1.000000</td>\n",
       "    </tr>\n",
       "  </tbody>\n",
       "</table>\n",
       "</div>"
      ],
      "text/plain": [
       "              pol\n",
       "count  346.000000\n",
       "mean    -0.919075\n",
       "std      0.394653\n",
       "min     -1.000000\n",
       "25%     -1.000000\n",
       "50%     -1.000000\n",
       "75%     -1.000000\n",
       "max      1.000000"
      ]
     },
     "metadata": {},
     "output_type": "display_data"
    }
   ],
   "source": [
    "display(blog_nodes.loc[kp_blogs].describe())\n",
    "display(blog_nodes.loc[kn_blogs].describe())"
   ]
  },
  {
   "cell_type": "markdown",
   "metadata": {
    "deletable": false,
    "editable": false,
    "nbgrader": {
     "grade": false,
     "locked": true,
     "solution": false
    }
   },
   "source": [
    "You should see the mean and median values near +1 in one group and -1 in the other."
   ]
  },
  {
   "cell_type": "markdown",
   "metadata": {
    "deletable": false,
    "editable": false,
    "nbgrader": {
     "grade": false,
     "locked": true,
     "solution": false
    }
   },
   "source": [
    "**Exercise 5** (1 point). You do not need to write any more code. This \"exercise\" is simply an end-to-end test of all the code you wrote in Exercises 0-4. If those are working correctly and are \"efficient enough,\" then the test hidden cell that appears immediately below should pass the autograder."
   ]
  },
  {
   "cell_type": "code",
   "execution_count": 26,
   "metadata": {
    "deletable": false,
    "editable": false,
    "nbgrader": {
     "grade": true,
     "grade_id": "ex5_end_to_end_check",
     "locked": true,
     "points": "1",
     "solution": false
    }
   },
   "outputs": [
    {
     "name": "stdout",
     "output_type": "stream",
     "text": [
      "This test cell will be replaced with one or more hidden tests.\n",
      "You will only know the result after submitting to the autograder.\n",
      "If the autograder times out, then either your solution is highly\n",
      "inefficient or contains a bug (e.g., an infinite loop). To see\n",
      "the result of the autograder run, inspect the grading report.\n",
      "\n"
     ]
    }
   ],
   "source": [
    "# Test cell: `ex5_end_to_end_check`\n",
    "\n",
    "print(hidden_cell_template_msg())\n",
    "\n",
    "###\n",
    "### AUTOGRADER TEST - DO NOT REMOVE\n",
    "###\n"
   ]
  },
  {
   "cell_type": "markdown",
   "metadata": {
    "deletable": false,
    "editable": false,
    "nbgrader": {
     "grade": false,
     "locked": true,
     "solution": false
    }
   },
   "source": [
    "**Fin!** You’ve reached the end of this part. Don’t forget to restart and run all cells again to make sure it’s all working when run in sequence; and make sure your work passes the submission process. If the autograder seems to fail, be sure to inspect the grading report for more information. Good luck!\n",
    "\n",
    "> **Reference:** The US political blogs dataset used in this problem were recorded in 2005 by L. A. Adamic and N. Glance, \"_The political blogosphere and the 2004 US Election_,\" in the Proceedings of the WWW-2005 Workshop on the Weblogging Ecosystem (2005). The full dataset is available [here](http://www-personal.umich.edu/~mejn/netdata/), but in this problem, we use a subset of that data."
   ]
  }
 ],
 "metadata": {
  "kernelspec": {
   "display_name": "Python 3.7",
   "language": "python",
   "name": "python37"
  },
  "language_info": {
   "codemirror_mode": {
    "name": "ipython",
    "version": 3
   },
   "file_extension": ".py",
   "mimetype": "text/x-python",
   "name": "python",
   "nbconvert_exporter": "python",
   "pygments_lexer": "ipython3",
   "version": "3.7.5"
  }
 },
 "nbformat": 4,
 "nbformat_minor": 2
}
