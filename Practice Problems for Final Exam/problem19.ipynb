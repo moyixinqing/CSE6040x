{
 "cells": [
  {
   "cell_type": "markdown",
   "metadata": {
    "deletable": false,
    "editable": false,
    "nbgrader": {
     "grade": false,
     "locked": true,
     "solution": false
    }
   },
   "source": [
    "# Problem 19: Click-through Balancing Act (5 points) #\n",
    "\n",
    "_Version 1.1_\n",
    "\n",
    "This notebook is a (hopefully) simple one about two common data preprocessing issues in practical machine learning, namely, imputing missing values and \"balancing\" training data. Here, you'll see these ideas in the context of analyzing advertising click-through data, where you wish to predict when a user will click on an ad using logistic regression. This problem will make use of some basic Python, pandas, and Numpy.\n",
    "\n",
    "The problem is worth a total of 5 points, broken up into **3** exercises. They are independent, so you can complete them in any order. (However, they do build on one another so read them in sequence.) Their points values are as follows.\n",
    "\n",
    "* Exercise 0: 2 points\n",
    "* Exercise 1: 2 points\n",
    "* Exercise 2: 1 point\n",
    "\n",
    "**Pro-tips.**\n",
    "- If your program behavior seem strange, try resetting the kernel and rerunning everything.\n",
    "- If you mess up this notebook or just want to start from scratch, save copies of all your partial responses and use `Actions` $\\rightarrow$ `Reset Assignment` to get a fresh, original copy of this notebook. (_Resetting will wipe out any answers you've written so far, so be sure to stash those somewhere safe if you intend to keep or reuse them!_)\n",
    "- If you generate excessive output (e.g., from a ill-placed `print` statement), causing the notebook to load slowly or not at all, use `Actions` $\\rightarrow$ `Clear Notebook Output` to get a clean copy. The clean copy will retain your code but remove any generated output. **However**, it will also **rename** the notebook to `clean.xxx.ipynb`. Since the autograder expects a notebook file with the original name, you'll need to rename the clean notebook accordingly.\n",
    "\n",
    "**Revision history.**\n",
    "* Version 1.1 - Added more hints, fixed a missing link [Th Apr 23, 2020]\n",
    "* Version 1.0 - Initial release"
   ]
  },
  {
   "cell_type": "markdown",
   "metadata": {
    "deletable": false,
    "editable": false,
    "nbgrader": {
     "grade": false,
     "grade_id": "cell-6ec6a881ca6be880",
     "locked": true,
     "schema_version": 1,
     "solution": false
    }
   },
   "source": [
    "## Setup ##\n",
    "\n",
    "Here are some of the basic modules you'll need for this problem."
   ]
  },
  {
   "cell_type": "code",
   "execution_count": 1,
   "metadata": {
    "deletable": false,
    "editable": false,
    "nbgrader": {
     "grade": false,
     "locked": true,
     "solution": false
    }
   },
   "outputs": [
    {
     "name": "stdout",
     "output_type": "stream",
     "text": [
      "* Python version: 3.7.5 (default, Dec 18 2019, 06:24:58) \n",
      "[GCC 5.5.0 20171010]\n",
      "* Numpy version: 1.18.5\n",
      "* pandas version 1.1.2\n"
     ]
    }
   ],
   "source": [
    "import sys\n",
    "import pickle\n",
    "import numpy as np\n",
    "import pandas as pd\n",
    "\n",
    "print(\"* Python version:\", sys.version)\n",
    "print(\"* Numpy version:\", np.__version__)\n",
    "print(\"* pandas version\", pd.__version__)\n",
    "\n",
    "%load_ext autoreload\n",
    "%autoreload 2"
   ]
  },
  {
   "cell_type": "markdown",
   "metadata": {
    "deletable": false,
    "editable": false,
    "nbgrader": {
     "grade": false,
     "locked": true,
     "solution": false
    }
   },
   "source": [
    "## Get to know the dataset: Click-through data ##\n",
    "\n",
    "The dataset consists of [click-through data](https://www.kaggle.com/c/avazu-ctr-prediction) collected from mobile users about whether they clicked on ads. Run this code cell to load the data into a pandas `DataFrame` named `df_train_0` and inspect a small sample."
   ]
  },
  {
   "cell_type": "code",
   "execution_count": 2,
   "metadata": {
    "deletable": false,
    "editable": false,
    "nbgrader": {
     "grade": false,
     "locked": true,
     "solution": false
    }
   },
   "outputs": [
    {
     "name": "stdout",
     "output_type": "stream",
     "text": [
      "Reading ./resource/asnlib/publicdata/train-4M.csv ...\n",
      "Done! Cleaning...\n",
      "Done cleaning!\n",
      "\n",
      "First five data points (rows):\n"
     ]
    },
    {
     "data": {
      "text/html": [
       "<div>\n",
       "<style scoped>\n",
       "    .dataframe tbody tr th:only-of-type {\n",
       "        vertical-align: middle;\n",
       "    }\n",
       "\n",
       "    .dataframe tbody tr th {\n",
       "        vertical-align: top;\n",
       "    }\n",
       "\n",
       "    .dataframe thead th {\n",
       "        text-align: right;\n",
       "    }\n",
       "</style>\n",
       "<table border=\"1\" class=\"dataframe\">\n",
       "  <thead>\n",
       "    <tr style=\"text-align: right;\">\n",
       "      <th></th>\n",
       "      <th>click</th>\n",
       "      <th>x_pixels</th>\n",
       "      <th>y_pixels</th>\n",
       "      <th>dev0</th>\n",
       "      <th>dev1</th>\n",
       "      <th>dev2</th>\n",
       "      <th>dev4</th>\n",
       "      <th>dev5</th>\n",
       "      <th>c1001</th>\n",
       "      <th>c1002</th>\n",
       "      <th>c1005</th>\n",
       "      <th>c1007</th>\n",
       "      <th>c1008</th>\n",
       "      <th>c1010</th>\n",
       "      <th>c1012</th>\n",
       "    </tr>\n",
       "  </thead>\n",
       "  <tbody>\n",
       "    <tr>\n",
       "      <th>0</th>\n",
       "      <td>0</td>\n",
       "      <td>320.0</td>\n",
       "      <td>50</td>\n",
       "      <td>0</td>\n",
       "      <td>1</td>\n",
       "      <td>0</td>\n",
       "      <td>0</td>\n",
       "      <td>0</td>\n",
       "      <td>0</td>\n",
       "      <td>0</td>\n",
       "      <td>1</td>\n",
       "      <td>0</td>\n",
       "      <td>0</td>\n",
       "      <td>0</td>\n",
       "      <td>0</td>\n",
       "    </tr>\n",
       "    <tr>\n",
       "      <th>1</th>\n",
       "      <td>0</td>\n",
       "      <td>320.0</td>\n",
       "      <td>50</td>\n",
       "      <td>0</td>\n",
       "      <td>1</td>\n",
       "      <td>0</td>\n",
       "      <td>0</td>\n",
       "      <td>0</td>\n",
       "      <td>0</td>\n",
       "      <td>0</td>\n",
       "      <td>1</td>\n",
       "      <td>0</td>\n",
       "      <td>0</td>\n",
       "      <td>0</td>\n",
       "      <td>0</td>\n",
       "    </tr>\n",
       "    <tr>\n",
       "      <th>2</th>\n",
       "      <td>0</td>\n",
       "      <td>320.0</td>\n",
       "      <td>50</td>\n",
       "      <td>0</td>\n",
       "      <td>1</td>\n",
       "      <td>0</td>\n",
       "      <td>0</td>\n",
       "      <td>0</td>\n",
       "      <td>0</td>\n",
       "      <td>0</td>\n",
       "      <td>1</td>\n",
       "      <td>0</td>\n",
       "      <td>0</td>\n",
       "      <td>0</td>\n",
       "      <td>0</td>\n",
       "    </tr>\n",
       "    <tr>\n",
       "      <th>3</th>\n",
       "      <td>0</td>\n",
       "      <td>320.0</td>\n",
       "      <td>50</td>\n",
       "      <td>0</td>\n",
       "      <td>1</td>\n",
       "      <td>0</td>\n",
       "      <td>0</td>\n",
       "      <td>0</td>\n",
       "      <td>0</td>\n",
       "      <td>0</td>\n",
       "      <td>1</td>\n",
       "      <td>0</td>\n",
       "      <td>0</td>\n",
       "      <td>0</td>\n",
       "      <td>0</td>\n",
       "    </tr>\n",
       "    <tr>\n",
       "      <th>4</th>\n",
       "      <td>0</td>\n",
       "      <td>320.0</td>\n",
       "      <td>50</td>\n",
       "      <td>0</td>\n",
       "      <td>1</td>\n",
       "      <td>0</td>\n",
       "      <td>0</td>\n",
       "      <td>0</td>\n",
       "      <td>0</td>\n",
       "      <td>0</td>\n",
       "      <td>1</td>\n",
       "      <td>0</td>\n",
       "      <td>0</td>\n",
       "      <td>0</td>\n",
       "      <td>0</td>\n",
       "    </tr>\n",
       "  </tbody>\n",
       "</table>\n",
       "</div>"
      ],
      "text/plain": [
       "  click  x_pixels  y_pixels dev0 dev1 dev2 dev4 dev5 c1001 c1002 c1005 c1007  \\\n",
       "0     0     320.0        50    0    1    0    0    0     0     0     1     0   \n",
       "1     0     320.0        50    0    1    0    0    0     0     0     1     0   \n",
       "2     0     320.0        50    0    1    0    0    0     0     0     1     0   \n",
       "3     0     320.0        50    0    1    0    0    0     0     0     1     0   \n",
       "4     0     320.0        50    0    1    0    0    0     0     0     1     0   \n",
       "\n",
       "  c1008 c1010 c1012  \n",
       "0     0     0     0  \n",
       "1     0     0     0  \n",
       "2     0     0     0  \n",
       "3     0     0     0  \n",
       "4     0     0     0  "
      ]
     },
     "metadata": {},
     "output_type": "display_data"
    },
    {
     "name": "stdout",
     "output_type": "stream",
     "text": [
      "Last five data points (rows):\n"
     ]
    },
    {
     "data": {
      "text/html": [
       "<div>\n",
       "<style scoped>\n",
       "    .dataframe tbody tr th:only-of-type {\n",
       "        vertical-align: middle;\n",
       "    }\n",
       "\n",
       "    .dataframe tbody tr th {\n",
       "        vertical-align: top;\n",
       "    }\n",
       "\n",
       "    .dataframe thead th {\n",
       "        text-align: right;\n",
       "    }\n",
       "</style>\n",
       "<table border=\"1\" class=\"dataframe\">\n",
       "  <thead>\n",
       "    <tr style=\"text-align: right;\">\n",
       "      <th></th>\n",
       "      <th>click</th>\n",
       "      <th>x_pixels</th>\n",
       "      <th>y_pixels</th>\n",
       "      <th>dev0</th>\n",
       "      <th>dev1</th>\n",
       "      <th>dev2</th>\n",
       "      <th>dev4</th>\n",
       "      <th>dev5</th>\n",
       "      <th>c1001</th>\n",
       "      <th>c1002</th>\n",
       "      <th>c1005</th>\n",
       "      <th>c1007</th>\n",
       "      <th>c1008</th>\n",
       "      <th>c1010</th>\n",
       "      <th>c1012</th>\n",
       "    </tr>\n",
       "  </thead>\n",
       "  <tbody>\n",
       "    <tr>\n",
       "      <th>3234291</th>\n",
       "      <td>0</td>\n",
       "      <td>320.0</td>\n",
       "      <td>50</td>\n",
       "      <td>0</td>\n",
       "      <td>1</td>\n",
       "      <td>0</td>\n",
       "      <td>0</td>\n",
       "      <td>0</td>\n",
       "      <td>0</td>\n",
       "      <td>0</td>\n",
       "      <td>1</td>\n",
       "      <td>0</td>\n",
       "      <td>0</td>\n",
       "      <td>0</td>\n",
       "      <td>0</td>\n",
       "    </tr>\n",
       "    <tr>\n",
       "      <th>3234292</th>\n",
       "      <td>0</td>\n",
       "      <td>320.0</td>\n",
       "      <td>50</td>\n",
       "      <td>0</td>\n",
       "      <td>1</td>\n",
       "      <td>0</td>\n",
       "      <td>0</td>\n",
       "      <td>0</td>\n",
       "      <td>0</td>\n",
       "      <td>0</td>\n",
       "      <td>1</td>\n",
       "      <td>0</td>\n",
       "      <td>0</td>\n",
       "      <td>0</td>\n",
       "      <td>0</td>\n",
       "    </tr>\n",
       "    <tr>\n",
       "      <th>3234293</th>\n",
       "      <td>0</td>\n",
       "      <td>320.0</td>\n",
       "      <td>50</td>\n",
       "      <td>0</td>\n",
       "      <td>1</td>\n",
       "      <td>0</td>\n",
       "      <td>0</td>\n",
       "      <td>0</td>\n",
       "      <td>0</td>\n",
       "      <td>0</td>\n",
       "      <td>1</td>\n",
       "      <td>0</td>\n",
       "      <td>0</td>\n",
       "      <td>0</td>\n",
       "      <td>0</td>\n",
       "    </tr>\n",
       "    <tr>\n",
       "      <th>3234294</th>\n",
       "      <td>0</td>\n",
       "      <td>320.0</td>\n",
       "      <td>50</td>\n",
       "      <td>0</td>\n",
       "      <td>1</td>\n",
       "      <td>0</td>\n",
       "      <td>0</td>\n",
       "      <td>0</td>\n",
       "      <td>0</td>\n",
       "      <td>0</td>\n",
       "      <td>1</td>\n",
       "      <td>0</td>\n",
       "      <td>0</td>\n",
       "      <td>0</td>\n",
       "      <td>0</td>\n",
       "    </tr>\n",
       "    <tr>\n",
       "      <th>3234295</th>\n",
       "      <td>1</td>\n",
       "      <td>320.0</td>\n",
       "      <td>50</td>\n",
       "      <td>0</td>\n",
       "      <td>1</td>\n",
       "      <td>0</td>\n",
       "      <td>0</td>\n",
       "      <td>0</td>\n",
       "      <td>0</td>\n",
       "      <td>0</td>\n",
       "      <td>1</td>\n",
       "      <td>0</td>\n",
       "      <td>0</td>\n",
       "      <td>0</td>\n",
       "      <td>0</td>\n",
       "    </tr>\n",
       "  </tbody>\n",
       "</table>\n",
       "</div>"
      ],
      "text/plain": [
       "        click  x_pixels  y_pixels dev0 dev1 dev2 dev4 dev5 c1001 c1002 c1005  \\\n",
       "3234291     0     320.0        50    0    1    0    0    0     0     0     1   \n",
       "3234292     0     320.0        50    0    1    0    0    0     0     0     1   \n",
       "3234293     0     320.0        50    0    1    0    0    0     0     0     1   \n",
       "3234294     0     320.0        50    0    1    0    0    0     0     0     1   \n",
       "3234295     1     320.0        50    0    1    0    0    0     0     0     1   \n",
       "\n",
       "        c1007 c1008 c1010 c1012  \n",
       "3234291     0     0     0     0  \n",
       "3234292     0     0     0     0  \n",
       "3234293     0     0     0     0  \n",
       "3234294     0     0     0     0  \n",
       "3234295     0     0     0     0  "
      ]
     },
     "metadata": {},
     "output_type": "display_data"
    },
    {
     "name": "stdout",
     "output_type": "stream",
     "text": [
      "==> Training set: 3234296 points\n"
     ]
    }
   ],
   "source": [
    "from problem_utils import get_path, load_click_through_data\n",
    "\n",
    "df_train_0 = load_click_through_data(get_path('train-4M.csv'), adversary=42)\n",
    "\n",
    "print(\"\\nFirst five data points (rows):\")\n",
    "display(df_train_0.head(5))\n",
    "print(\"Last five data points (rows):\")\n",
    "display(df_train_0.tail(5))\n",
    "print(\"==> Training set:\", len(df_train_0), \"points\")"
   ]
  },
  {
   "cell_type": "markdown",
   "metadata": {
    "deletable": false,
    "editable": false,
    "nbgrader": {
     "grade": false,
     "locked": true,
     "solution": false
    }
   },
   "source": [
    "**Observations.** There are over 3.2 million data points. The response variable you are trying to predict is in the column named `'click'`, whose values are 0 (did not click on the ad) or 1 (did click on the ad).\n",
    "\n",
    "All remaining columns are (undisclosed) features or attributes that we will use to build a prediction model. Two of them contain \"continuous\" numerical values: `'x_pixels'` and `'y_pixels'`, which presumably relate to the pixel-dimensions of the ad. All remaining columns are categorical or discrete. In particular, they only contain 0 and 1 values.\n",
    "\n",
    "In some of the exercises, you may need to refer to the columns by name or type (numerical or categorical). Let's import some special variable names your code can use to make referencing these columns a little easier:"
   ]
  },
  {
   "cell_type": "code",
   "execution_count": 3,
   "metadata": {
    "deletable": false,
    "editable": false,
    "nbgrader": {
     "grade": false,
     "locked": true,
     "solution": false
    }
   },
   "outputs": [
    {
     "name": "stdout",
     "output_type": "stream",
     "text": [
      "* The response variable is in the column named 'click'\n",
      "* Predictor variables are in these columns: ['x_pixels', 'y_pixels', 'dev0', 'dev1', 'dev2', 'dev4', 'dev5', 'c1001', 'c1002', 'c1005', 'c1007', 'c1008', 'c1010', 'c1012']\n",
      "    => Numerical (continuous) variables: ['x_pixels', 'y_pixels']\n",
      "    => Categorical (discrete) variables: ['dev0', 'dev1', 'dev2', 'dev4', 'dev5', 'c1001', 'c1002', 'c1005', 'c1007', 'c1008', 'c1010', 'c1012']\n"
     ]
    }
   ],
   "source": [
    "from problem_utils import RESPONSE, PREDICTORS, PREDICTORS_NUMERICAL, PREDICTORS_CATEGORICAL\n",
    "\n",
    "print(\"* The response variable is in the column named\", repr(RESPONSE))\n",
    "print(\"* Predictor variables are in these columns:\", repr(PREDICTORS))\n",
    "print(\"    => Numerical (continuous) variables:\", repr(PREDICTORS_NUMERICAL))\n",
    "print(\"    => Categorical (discrete) variables:\", repr(PREDICTORS_CATEGORICAL))"
   ]
  },
  {
   "cell_type": "markdown",
   "metadata": {
    "deletable": false,
    "editable": false,
    "nbgrader": {
     "grade": false,
     "locked": true,
     "solution": false
    }
   },
   "source": [
    "**How many clicks?** To get a better sense of what we are predicting, let's count how many times 0 and 1 occur in the `'click'` column."
   ]
  },
  {
   "cell_type": "code",
   "execution_count": 4,
   "metadata": {
    "deletable": false,
    "editable": false,
    "nbgrader": {
     "grade": false,
     "locked": true,
     "solution": false
    }
   },
   "outputs": [
    {
     "data": {
      "text/html": [
       "<div>\n",
       "<style scoped>\n",
       "    .dataframe tbody tr th:only-of-type {\n",
       "        vertical-align: middle;\n",
       "    }\n",
       "\n",
       "    .dataframe tbody tr th {\n",
       "        vertical-align: top;\n",
       "    }\n",
       "\n",
       "    .dataframe thead th {\n",
       "        text-align: right;\n",
       "    }\n",
       "</style>\n",
       "<table border=\"1\" class=\"dataframe\">\n",
       "  <thead>\n",
       "    <tr style=\"text-align: right;\">\n",
       "      <th></th>\n",
       "      <th>count</th>\n",
       "      <th>%</th>\n",
       "    </tr>\n",
       "    <tr>\n",
       "      <th>click</th>\n",
       "      <th></th>\n",
       "      <th></th>\n",
       "    </tr>\n",
       "  </thead>\n",
       "  <tbody>\n",
       "    <tr>\n",
       "      <th>0</th>\n",
       "      <td>2685807</td>\n",
       "      <td>83.0</td>\n",
       "    </tr>\n",
       "    <tr>\n",
       "      <th>1</th>\n",
       "      <td>548489</td>\n",
       "      <td>17.0</td>\n",
       "    </tr>\n",
       "  </tbody>\n",
       "</table>\n",
       "</div>"
      ],
      "text/plain": [
       "         count     %\n",
       "click               \n",
       "0      2685807  83.0\n",
       "1       548489  17.0"
      ]
     },
     "execution_count": 4,
     "metadata": {},
     "output_type": "execute_result"
    }
   ],
   "source": [
    "num_clicks = df_train_0.groupby(RESPONSE)[RESPONSE].count().to_frame(name='count')\n",
    "num_clicks['%'] = (100 * num_clicks['count'] / num_clicks['count'].sum()).round(1)\n",
    "num_clicks"
   ]
  },
  {
   "cell_type": "markdown",
   "metadata": {
    "deletable": false,
    "editable": false,
    "nbgrader": {
     "grade": false,
     "locked": true,
     "solution": false
    }
   },
   "source": [
    "It seems that most of the time (~ 83%), unsurprisingly, users do not bother to click on the ad!"
   ]
  },
  {
   "cell_type": "markdown",
   "metadata": {
    "deletable": false,
    "editable": false,
    "nbgrader": {
     "grade": false,
     "locked": true,
     "solution": false
    }
   },
   "source": [
    "As for the remaining categorical variables:"
   ]
  },
  {
   "cell_type": "code",
   "execution_count": 5,
   "metadata": {
    "deletable": false,
    "editable": false,
    "nbgrader": {
     "grade": false,
     "locked": true,
     "solution": false
    }
   },
   "outputs": [
    {
     "data": {
      "text/html": [
       "<div>\n",
       "<style scoped>\n",
       "    .dataframe tbody tr th:only-of-type {\n",
       "        vertical-align: middle;\n",
       "    }\n",
       "\n",
       "    .dataframe tbody tr th {\n",
       "        vertical-align: top;\n",
       "    }\n",
       "\n",
       "    .dataframe thead th {\n",
       "        text-align: right;\n",
       "    }\n",
       "</style>\n",
       "<table border=\"1\" class=\"dataframe\">\n",
       "  <thead>\n",
       "    <tr style=\"text-align: right;\">\n",
       "      <th></th>\n",
       "      <th>dev0</th>\n",
       "      <th>dev1</th>\n",
       "      <th>dev2</th>\n",
       "      <th>dev4</th>\n",
       "      <th>dev5</th>\n",
       "      <th>c1001</th>\n",
       "      <th>c1002</th>\n",
       "      <th>c1005</th>\n",
       "      <th>c1007</th>\n",
       "      <th>c1008</th>\n",
       "      <th>c1010</th>\n",
       "      <th>c1012</th>\n",
       "    </tr>\n",
       "  </thead>\n",
       "  <tbody>\n",
       "    <tr>\n",
       "      <th>count</th>\n",
       "      <td>3234291</td>\n",
       "      <td>3234291</td>\n",
       "      <td>3234295</td>\n",
       "      <td>3234290</td>\n",
       "      <td>3234294</td>\n",
       "      <td>3234287</td>\n",
       "      <td>3234290</td>\n",
       "      <td>3234296</td>\n",
       "      <td>3234293</td>\n",
       "      <td>3234292</td>\n",
       "      <td>3234294</td>\n",
       "      <td>3234295</td>\n",
       "    </tr>\n",
       "    <tr>\n",
       "      <th>unique</th>\n",
       "      <td>2</td>\n",
       "      <td>2</td>\n",
       "      <td>2</td>\n",
       "      <td>2</td>\n",
       "      <td>2</td>\n",
       "      <td>2</td>\n",
       "      <td>2</td>\n",
       "      <td>2</td>\n",
       "      <td>2</td>\n",
       "      <td>2</td>\n",
       "      <td>2</td>\n",
       "      <td>2</td>\n",
       "    </tr>\n",
       "    <tr>\n",
       "      <th>top</th>\n",
       "      <td>0</td>\n",
       "      <td>1</td>\n",
       "      <td>0</td>\n",
       "      <td>0</td>\n",
       "      <td>0</td>\n",
       "      <td>0</td>\n",
       "      <td>0</td>\n",
       "      <td>1</td>\n",
       "      <td>0</td>\n",
       "      <td>0</td>\n",
       "      <td>0</td>\n",
       "      <td>0</td>\n",
       "    </tr>\n",
       "    <tr>\n",
       "      <th>freq</th>\n",
       "      <td>3056778</td>\n",
       "      <td>2984527</td>\n",
       "      <td>3234291</td>\n",
       "      <td>3172363</td>\n",
       "      <td>3223975</td>\n",
       "      <td>3233516</td>\n",
       "      <td>3056776</td>\n",
       "      <td>2971360</td>\n",
       "      <td>3231549</td>\n",
       "      <td>3233830</td>\n",
       "      <td>3162048</td>\n",
       "      <td>3225096</td>\n",
       "    </tr>\n",
       "  </tbody>\n",
       "</table>\n",
       "</div>"
      ],
      "text/plain": [
       "           dev0     dev1     dev2     dev4     dev5    c1001    c1002  \\\n",
       "count   3234291  3234291  3234295  3234290  3234294  3234287  3234290   \n",
       "unique        2        2        2        2        2        2        2   \n",
       "top           0        1        0        0        0        0        0   \n",
       "freq    3056778  2984527  3234291  3172363  3223975  3233516  3056776   \n",
       "\n",
       "          c1005    c1007    c1008    c1010    c1012  \n",
       "count   3234296  3234293  3234292  3234294  3234295  \n",
       "unique        2        2        2        2        2  \n",
       "top           1        0        0        0        0  \n",
       "freq    2971360  3231549  3233830  3162048  3225096  "
      ]
     },
     "execution_count": 5,
     "metadata": {},
     "output_type": "execute_result"
    }
   ],
   "source": [
    "df_train_0[PREDICTORS_CATEGORICAL].describe(include='all')"
   ]
  },
  {
   "cell_type": "markdown",
   "metadata": {
    "deletable": false,
    "editable": false,
    "nbgrader": {
     "grade": false,
     "locked": true,
     "solution": false
    }
   },
   "source": [
    "These are all binary categories (2 unique values, which it turns out are 0 and 1), with the most frequent value and its frequency shown by the `'top'` and `'freq'` rows above.\n",
    "\n",
    "There's only one problem, which leads to the first exercise: some of the predictors' values are, mysteriously, missing! This phenomenon can occur if, for example, the user has enabled a privacy setting that prevents measurement of some attribute.\n",
    "\n",
    "Here is a summary of how many missing values (\"not-a-number\" values) exist in each column of our dataset:"
   ]
  },
  {
   "cell_type": "code",
   "execution_count": 6,
   "metadata": {
    "deletable": false,
    "editable": false,
    "nbgrader": {
     "grade": false,
     "locked": true,
     "solution": false
    }
   },
   "outputs": [
    {
     "data": {
      "text/html": [
       "<div>\n",
       "<style scoped>\n",
       "    .dataframe tbody tr th:only-of-type {\n",
       "        vertical-align: middle;\n",
       "    }\n",
       "\n",
       "    .dataframe tbody tr th {\n",
       "        vertical-align: top;\n",
       "    }\n",
       "\n",
       "    .dataframe thead th {\n",
       "        text-align: right;\n",
       "    }\n",
       "</style>\n",
       "<table border=\"1\" class=\"dataframe\">\n",
       "  <thead>\n",
       "    <tr style=\"text-align: right;\">\n",
       "      <th></th>\n",
       "      <th>click</th>\n",
       "      <th>x_pixels</th>\n",
       "      <th>y_pixels</th>\n",
       "      <th>dev0</th>\n",
       "      <th>dev1</th>\n",
       "      <th>dev2</th>\n",
       "      <th>dev4</th>\n",
       "      <th>dev5</th>\n",
       "      <th>c1001</th>\n",
       "      <th>c1002</th>\n",
       "      <th>c1005</th>\n",
       "      <th>c1007</th>\n",
       "      <th>c1008</th>\n",
       "      <th>c1010</th>\n",
       "      <th>c1012</th>\n",
       "    </tr>\n",
       "  </thead>\n",
       "  <tbody>\n",
       "    <tr>\n",
       "      <th># of missing values ('NaNs')</th>\n",
       "      <td>0</td>\n",
       "      <td>6</td>\n",
       "      <td>0</td>\n",
       "      <td>5</td>\n",
       "      <td>5</td>\n",
       "      <td>1</td>\n",
       "      <td>6</td>\n",
       "      <td>2</td>\n",
       "      <td>9</td>\n",
       "      <td>6</td>\n",
       "      <td>0</td>\n",
       "      <td>3</td>\n",
       "      <td>4</td>\n",
       "      <td>2</td>\n",
       "      <td>1</td>\n",
       "    </tr>\n",
       "  </tbody>\n",
       "</table>\n",
       "</div>"
      ],
      "text/plain": [
       "                              click  x_pixels  y_pixels  dev0  dev1  dev2  \\\n",
       "# of missing values ('NaNs')      0         6         0     5     5     1   \n",
       "\n",
       "                              dev4  dev5  c1001  c1002  c1005  c1007  c1008  \\\n",
       "# of missing values ('NaNs')     6     2      9      6      0      3      4   \n",
       "\n",
       "                              c1010  c1012  \n",
       "# of missing values ('NaNs')      2      1  "
      ]
     },
     "execution_count": 6,
     "metadata": {},
     "output_type": "execute_result"
    }
   ],
   "source": [
    "def count_missing_by_col(df):\n",
    "    return df.isna().sum().to_frame(name=\"# of missing values ('NaNs')\").T\n",
    "\n",
    "count_missing_by_col(df_train_0)"
   ]
  },
  {
   "cell_type": "markdown",
   "metadata": {
    "deletable": false,
    "editable": false,
    "nbgrader": {
     "grade": false,
     "locked": true,
     "solution": false
    }
   },
   "source": [
    "## Exercise 0: Imputing missing values (2 points) ##\n",
    "\n",
    "Complete the function, `fill_missing(df)`, below, so that it finds any missing (NaN) values and returns a **copy** with all missing values filled in as described below.\n",
    "\n",
    "First, assume the input dataframe `df` has categorical and numerical predictors given by the `PREDICTORS_CATEGORICAL` and `PREDICTORS_NUMERICAL` variables defined earlier. The responses (`RESPONSE`) are never missing.\n",
    "\n",
    "Your function should then do the following:\n",
    "\n",
    "1. Create a copy of `df`.\n",
    "2. For each categorical column, replace any missing values by the _mode_ in that column, ignoring the missing values. Recall that the mode of a collection of values is the most commonly occurring one. In the event of ties, choose the smallest mode value.\n",
    "3. For each numerical column, replace any missing values by the _mean_ value in that column, ignoring missing values.\n",
    "4. Return the copy.\n",
    "\n",
    "> **Hint 0.** Let `s` be a `Series`. The method [`s.fillna()`](https://pandas.pydata.org/pandas-docs/stable/reference/api/pandas.Series.fillna.html) may prove useful.\n",
    ">\n",
    "> **Hint 1.** Let `s` be a `Series`. You can calculate the mode, ignoring not-a-number values, using [`s.mode()`](https://pandas.pydata.org/pandas-docs/stable/reference/api/pandas.Series.mode.html), which will return a `Series` object containing the mode or modes (in the event of ties). Similarly, you can calculate the mean using [`s.mean()`](https://pandas.pydata.org/pandas-docs/stable/reference/api/pandas.Series.mean.html).\n",
    ">\n",
    "> **Note.** You may assume that a given `Series`, `s`, always has at least one present value, so that `s.mean()` and `s.mode()` always return usable values."
   ]
  },
  {
   "cell_type": "code",
   "execution_count": 7,
   "metadata": {},
   "outputs": [],
   "source": [
    "def fill_missing(df):\n",
    "    global PREDICTORS_NUMERICAL, PREDICTORS_CATEGORICAL\n",
    "    ###\n",
    "\n",
    "    df1 = df.copy()\n",
    "    dfm=df1[PREDICTORS_CATEGORICAL].mode(axis = 0)\n",
    "    columns = list(dfm)\n",
    "    values = dfm.iloc[0]\n",
    "    dic = {k: v for k, v in zip(columns, values)}\n",
    "    dic['x_pixels'] = df1[PREDICTORS_NUMERICAL].mean(axis = 0)[0]\n",
    "    dic['y_pixels'] = df1[PREDICTORS_NUMERICAL].mean(axis = 0)[1]\n",
    "\n",
    "    return df1.fillna(value = dic)\n",
    "    ###\n"
   ]
  },
  {
   "cell_type": "code",
   "execution_count": 8,
   "metadata": {
    "nbgrader": {
     "grade": false,
     "locked": false,
     "solution": false
    }
   },
   "outputs": [],
   "source": [
    "# # Demo:\n",
    "# df_train_1 = fill_missing(df_train_0)\n",
    "\n",
    "# assert df_train_0 is not df_train_1, \"*** ERROR: Did you returna Copy? ***\n",
    "# RROR: Did you return a _copy_? ***\"\n",
    "# count_missing_by_col(df_train_1)"
   ]
  },
  {
   "cell_type": "code",
   "execution_count": 9,
   "metadata": {
    "deletable": false,
    "editable": false,
    "nbgrader": {
     "grade": true,
     "grade_id": "ex0__fill_missing",
     "locked": true,
     "points": "2",
     "solution": false
    }
   },
   "outputs": [
    {
     "name": "stdout",
     "output_type": "stream",
     "text": [
      "=== Trial #0 / 9 ===\n",
      "=== Trial #1 / 9 ===\n",
      "=== Trial #2 / 9 ===\n",
      "=== Trial #3 / 9 ===\n",
      "=== Trial #4 / 9 ===\n",
      "=== Trial #5 / 9 ===\n",
      "=== Trial #6 / 9 ===\n"
     ]
    },
    {
     "name": "stderr",
     "output_type": "stream",
     "text": [
      "/mnt/data2/students/sub1/ccc_v1_w_ZTU1O_92444/asn209402_29/asn293308_20/work/problem_utils.py:132: FutureWarning: The 'check_less_precise' keyword in testing.assert_*_equal is deprecated and will be removed in a future version. You can stop passing 'check_less_precise' to silence this warning.\n",
      "  assert_frame_equal(A_c, B_c, check_index_type=False, check_dtype=False, check_less_precise=True)\n"
     ]
    },
    {
     "name": "stdout",
     "output_type": "stream",
     "text": [
      "=== Trial #7 / 9 ===\n",
      "=== Trial #8 / 9 ===\n",
      "=== Trial #9 / 9 ===\n",
      "\n",
      "(Passed.)\n"
     ]
    }
   ],
   "source": [
    "# Test cell: `ex0__fill_missing` (2 points)\n",
    "\n",
    "###\n",
    "### AUTOGRADER TEST - DO NOT REMOVE\n",
    "###\n",
    "\n",
    "def ex0_check(max_rows=10):\n",
    "    from problem_utils import ex0_gen_soln\n",
    "    from problem_utils import assert_tibbles_are_equivalent\n",
    "    df_clean, df_dirty_orig = ex0_gen_soln(max_rows)\n",
    "    df_dirty = df_dirty_orig.copy()\n",
    "    try:\n",
    "        df_yours = fill_missing(df_dirty)\n",
    "        assert df_yours is not df_dirty, \"*** ERROR: Did you return a copy? ***\"\n",
    "        assert_tibbles_are_equivalent(df_yours, df_clean)\n",
    "    except:\n",
    "        print(\"=== Input data frame ===\")\n",
    "        display(df_dirty_orig)\n",
    "        display(df_dirty_orig.info())\n",
    "        print(\"=== Expected output ===\")\n",
    "        display(df_clean)\n",
    "        display(df_clean.info())\n",
    "        print(\"=== Your output ===\")\n",
    "        display(df_yours)\n",
    "        display(df_yours.info())\n",
    "        raise\n",
    "\n",
    "for trial in range(10):\n",
    "    print(f\"=== Trial #{trial} / 9 ===\")\n",
    "    ex0_check()\n",
    "\n",
    "print(\"\\n(Passed.)\")"
   ]
  },
  {
   "cell_type": "markdown",
   "metadata": {
    "deletable": false,
    "editable": false,
    "nbgrader": {
     "grade": false,
     "locked": true,
     "solution": false
    }
   },
   "source": [
    "### Precomputed solution for Exercise 0 ###\n",
    "\n",
    "Here is some code to load a precomputed training dataset with filled-in missing values. Regardless of whether your Exercise 0 works or not, please run this cell now so subsequent exercises can continue. It will define a variable named **`df_train`**, a pandas `DataFrame` that holds the training dataset you'll need. Subsequent code uses it, so do not modify it!"
   ]
  },
  {
   "cell_type": "code",
   "execution_count": 10,
   "metadata": {
    "deletable": false,
    "editable": false,
    "nbgrader": {
     "grade": false,
     "locked": true,
     "solution": false
    }
   },
   "outputs": [
    {
     "data": {
      "text/html": [
       "<div>\n",
       "<style scoped>\n",
       "    .dataframe tbody tr th:only-of-type {\n",
       "        vertical-align: middle;\n",
       "    }\n",
       "\n",
       "    .dataframe tbody tr th {\n",
       "        vertical-align: top;\n",
       "    }\n",
       "\n",
       "    .dataframe thead th {\n",
       "        text-align: right;\n",
       "    }\n",
       "</style>\n",
       "<table border=\"1\" class=\"dataframe\">\n",
       "  <thead>\n",
       "    <tr style=\"text-align: right;\">\n",
       "      <th></th>\n",
       "      <th>click</th>\n",
       "      <th>x_pixels</th>\n",
       "      <th>y_pixels</th>\n",
       "      <th>dev0</th>\n",
       "      <th>dev1</th>\n",
       "      <th>dev2</th>\n",
       "      <th>dev4</th>\n",
       "      <th>dev5</th>\n",
       "      <th>c1001</th>\n",
       "      <th>c1002</th>\n",
       "      <th>c1005</th>\n",
       "      <th>c1007</th>\n",
       "      <th>c1008</th>\n",
       "      <th>c1010</th>\n",
       "      <th>c1012</th>\n",
       "    </tr>\n",
       "  </thead>\n",
       "  <tbody>\n",
       "    <tr>\n",
       "      <th>1890261</th>\n",
       "      <td>0</td>\n",
       "      <td>320.0</td>\n",
       "      <td>50.0</td>\n",
       "      <td>0</td>\n",
       "      <td>1</td>\n",
       "      <td>0</td>\n",
       "      <td>0</td>\n",
       "      <td>0</td>\n",
       "      <td>0</td>\n",
       "      <td>0</td>\n",
       "      <td>1</td>\n",
       "      <td>0</td>\n",
       "      <td>0</td>\n",
       "      <td>0</td>\n",
       "      <td>0</td>\n",
       "    </tr>\n",
       "    <tr>\n",
       "      <th>2148494</th>\n",
       "      <td>0</td>\n",
       "      <td>320.0</td>\n",
       "      <td>50.0</td>\n",
       "      <td>0</td>\n",
       "      <td>1</td>\n",
       "      <td>0</td>\n",
       "      <td>0</td>\n",
       "      <td>0</td>\n",
       "      <td>0</td>\n",
       "      <td>0</td>\n",
       "      <td>1</td>\n",
       "      <td>0</td>\n",
       "      <td>0</td>\n",
       "      <td>0</td>\n",
       "      <td>0</td>\n",
       "    </tr>\n",
       "    <tr>\n",
       "      <th>311804</th>\n",
       "      <td>0</td>\n",
       "      <td>320.0</td>\n",
       "      <td>50.0</td>\n",
       "      <td>0</td>\n",
       "      <td>1</td>\n",
       "      <td>0</td>\n",
       "      <td>0</td>\n",
       "      <td>0</td>\n",
       "      <td>0</td>\n",
       "      <td>0</td>\n",
       "      <td>1</td>\n",
       "      <td>0</td>\n",
       "      <td>0</td>\n",
       "      <td>0</td>\n",
       "      <td>0</td>\n",
       "    </tr>\n",
       "    <tr>\n",
       "      <th>1878405</th>\n",
       "      <td>0</td>\n",
       "      <td>320.0</td>\n",
       "      <td>50.0</td>\n",
       "      <td>0</td>\n",
       "      <td>1</td>\n",
       "      <td>0</td>\n",
       "      <td>0</td>\n",
       "      <td>0</td>\n",
       "      <td>0</td>\n",
       "      <td>0</td>\n",
       "      <td>1</td>\n",
       "      <td>0</td>\n",
       "      <td>0</td>\n",
       "      <td>0</td>\n",
       "      <td>0</td>\n",
       "    </tr>\n",
       "    <tr>\n",
       "      <th>1406064</th>\n",
       "      <td>0</td>\n",
       "      <td>320.0</td>\n",
       "      <td>50.0</td>\n",
       "      <td>0</td>\n",
       "      <td>1</td>\n",
       "      <td>0</td>\n",
       "      <td>0</td>\n",
       "      <td>0</td>\n",
       "      <td>0</td>\n",
       "      <td>0</td>\n",
       "      <td>1</td>\n",
       "      <td>0</td>\n",
       "      <td>0</td>\n",
       "      <td>0</td>\n",
       "      <td>0</td>\n",
       "    </tr>\n",
       "  </tbody>\n",
       "</table>\n",
       "</div>"
      ],
      "text/plain": [
       "         click  x_pixels  y_pixels  dev0  dev1  dev2  dev4  dev5  c1001  \\\n",
       "1890261      0     320.0      50.0     0     1     0     0     0      0   \n",
       "2148494      0     320.0      50.0     0     1     0     0     0      0   \n",
       "311804       0     320.0      50.0     0     1     0     0     0      0   \n",
       "1878405      0     320.0      50.0     0     1     0     0     0      0   \n",
       "1406064      0     320.0      50.0     0     1     0     0     0      0   \n",
       "\n",
       "         c1002  c1005  c1007  c1008  c1010  c1012  \n",
       "1890261      0      1      0      0      0      0  \n",
       "2148494      0      1      0      0      0      0  \n",
       "311804       0      1      0      0      0      0  \n",
       "1878405      0      1      0      0      0      0  \n",
       "1406064      0      1      0      0      0      0  "
      ]
     },
     "metadata": {},
     "output_type": "display_data"
    },
    {
     "data": {
      "text/html": [
       "<div>\n",
       "<style scoped>\n",
       "    .dataframe tbody tr th:only-of-type {\n",
       "        vertical-align: middle;\n",
       "    }\n",
       "\n",
       "    .dataframe tbody tr th {\n",
       "        vertical-align: top;\n",
       "    }\n",
       "\n",
       "    .dataframe thead th {\n",
       "        text-align: right;\n",
       "    }\n",
       "</style>\n",
       "<table border=\"1\" class=\"dataframe\">\n",
       "  <thead>\n",
       "    <tr style=\"text-align: right;\">\n",
       "      <th></th>\n",
       "      <th>click</th>\n",
       "      <th>x_pixels</th>\n",
       "      <th>y_pixels</th>\n",
       "      <th>dev0</th>\n",
       "      <th>dev1</th>\n",
       "      <th>dev2</th>\n",
       "      <th>dev4</th>\n",
       "      <th>dev5</th>\n",
       "      <th>c1001</th>\n",
       "      <th>c1002</th>\n",
       "      <th>c1005</th>\n",
       "      <th>c1007</th>\n",
       "      <th>c1008</th>\n",
       "      <th>c1010</th>\n",
       "      <th>c1012</th>\n",
       "    </tr>\n",
       "  </thead>\n",
       "  <tbody>\n",
       "    <tr>\n",
       "      <th># of missing values ('NaNs')</th>\n",
       "      <td>0</td>\n",
       "      <td>0</td>\n",
       "      <td>0</td>\n",
       "      <td>0</td>\n",
       "      <td>0</td>\n",
       "      <td>0</td>\n",
       "      <td>0</td>\n",
       "      <td>0</td>\n",
       "      <td>0</td>\n",
       "      <td>0</td>\n",
       "      <td>0</td>\n",
       "      <td>0</td>\n",
       "      <td>0</td>\n",
       "      <td>0</td>\n",
       "      <td>0</td>\n",
       "    </tr>\n",
       "  </tbody>\n",
       "</table>\n",
       "</div>"
      ],
      "text/plain": [
       "                              click  x_pixels  y_pixels  dev0  dev1  dev2  \\\n",
       "# of missing values ('NaNs')      0         0         0     0     0     0   \n",
       "\n",
       "                              dev4  dev5  c1001  c1002  c1005  c1007  c1008  \\\n",
       "# of missing values ('NaNs')     0     0      0      0      0      0      0   \n",
       "\n",
       "                              c1010  c1012  \n",
       "# of missing values ('NaNs')      0      0  "
      ]
     },
     "execution_count": 10,
     "metadata": {},
     "output_type": "execute_result"
    }
   ],
   "source": [
    "df_train = pd.read_csv(get_path('ex0_soln.csv'))\n",
    "display(df_train.sample(5))\n",
    "count_missing_by_col(df_train)"
   ]
  },
  {
   "cell_type": "markdown",
   "metadata": {
    "deletable": false,
    "editable": false,
    "nbgrader": {
     "grade": false,
     "locked": true,
     "solution": false
    }
   },
   "source": [
    "## Building a logistic regression model ##\n",
    "\n",
    "Armed with the preceding data, let's build a logistic regression model for it. Let's use [scikit-learn's version](https://scikit-learn.org/stable/modules/generated/sklearn.linear_model.LogisticRegression.html), which is easy to use and implements a similar algorithm to what you built yourself from scratch in Notebook 13."
   ]
  },
  {
   "cell_type": "markdown",
   "metadata": {
    "deletable": false,
    "editable": false,
    "nbgrader": {
     "grade": false,
     "locked": true,
     "solution": false
    }
   },
   "source": [
    "**Constructing the training data matrix and response vector.** Just like Notebook 13, you need to construct a data matrix and array of labels. These are easy to get from the training dataframe, `df_train`, created above. The code cell below creates two Numpy arrays: \n",
    "\n",
    "- **`X_train`**, the matrix of training data (rows are data points, columns are predictors).\n",
    "- **`y_train`**, the vector (array) of responses."
   ]
  },
  {
   "cell_type": "code",
   "execution_count": 11,
   "metadata": {
    "deletable": false,
    "editable": false,
    "nbgrader": {
     "grade": false,
     "locked": true,
     "solution": false
    }
   },
   "outputs": [
    {
     "name": "stdout",
     "output_type": "stream",
     "text": [
      "(3234296, 14)\n",
      "(3234296,)\n"
     ]
    }
   ],
   "source": [
    "X_train = df_train[PREDICTORS].values\n",
    "y_train = df_train[RESPONSE].values\n",
    "\n",
    "print(X_train.shape)\n",
    "print(y_train.shape)"
   ]
  },
  {
   "cell_type": "markdown",
   "metadata": {
    "deletable": false,
    "editable": false,
    "nbgrader": {
     "grade": false,
     "locked": true,
     "solution": false
    }
   },
   "source": [
    "> **Note.** One subtle difference from Notebook 13 is that `y_train` is a 1-D array, rather than a column vector stored as a $m \\times 1$ 2-D array. But don't worry too much about this detail as it won't matter for what follows."
   ]
  },
  {
   "cell_type": "markdown",
   "metadata": {
    "deletable": false,
    "editable": false,
    "nbgrader": {
     "grade": false,
     "locked": true,
     "solution": false
    }
   },
   "source": [
    "**Building the model, or _classifier_.** Next, we can call scikit-learn's `LogisticRegression` class, which returns a classifier. To simplify things for you, we've wrapped this step into a function called `fit` that returns the fitted model, which is a special object that holds the model parameters.\n",
    "\n",
    "The code cell below defines `fit()` and uses it to build a classifier from the training data, `X_train` and `y_train`. The classifier is stored in an object called **`baseline_classifier`**. It's not important to read the code; rather, pay attention to the various outputs."
   ]
  },
  {
   "cell_type": "code",
   "execution_count": 12,
   "metadata": {
    "deletable": false,
    "editable": false,
    "nbgrader": {
     "grade": false,
     "locked": true,
     "solution": false
    }
   },
   "outputs": [
    {
     "name": "stdout",
     "output_type": "stream",
     "text": [
      "Fitting to data of size: (3234296, 14)\n",
      "Done!\n"
     ]
    }
   ],
   "source": [
    "def fit(X, y, verbose=True):\n",
    "    from sklearn.linear_model import LogisticRegression\n",
    "    if verbose: print(\"Fitting to data of size:\", X.shape)\n",
    "    classifier = LogisticRegression(random_state=0).fit(X, y)\n",
    "    if verbose: print(\"Done!\")\n",
    "    return classifier\n",
    "\n",
    "baseline_classifier = fit(X_train, y_train)"
   ]
  },
  {
   "cell_type": "markdown",
   "metadata": {
    "deletable": false,
    "editable": false,
    "nbgrader": {
     "grade": false,
     "locked": true,
     "solution": false
    }
   },
   "source": [
    "**Testing data.** We've prepared a separate _testing_ or _validation_ dataset. Let's load the test data into a dataframe named **`df_test`**. Again, the code here isn't critical, but do inspect the output."
   ]
  },
  {
   "cell_type": "code",
   "execution_count": 13,
   "metadata": {
    "deletable": false,
    "editable": false,
    "nbgrader": {
     "grade": false,
     "locked": true,
     "solution": false
    }
   },
   "outputs": [
    {
     "name": "stdout",
     "output_type": "stream",
     "text": [
      "Reading ./resource/asnlib/publicdata/test-4M.csv ...\n",
      "Done! Cleaning...\n",
      "Done cleaning!\n"
     ]
    },
    {
     "data": {
      "text/html": [
       "<div>\n",
       "<style scoped>\n",
       "    .dataframe tbody tr th:only-of-type {\n",
       "        vertical-align: middle;\n",
       "    }\n",
       "\n",
       "    .dataframe tbody tr th {\n",
       "        vertical-align: top;\n",
       "    }\n",
       "\n",
       "    .dataframe thead th {\n",
       "        text-align: right;\n",
       "    }\n",
       "</style>\n",
       "<table border=\"1\" class=\"dataframe\">\n",
       "  <thead>\n",
       "    <tr style=\"text-align: right;\">\n",
       "      <th></th>\n",
       "      <th>click</th>\n",
       "      <th>x_pixels</th>\n",
       "      <th>y_pixels</th>\n",
       "      <th>dev0</th>\n",
       "      <th>dev1</th>\n",
       "      <th>dev2</th>\n",
       "      <th>dev4</th>\n",
       "      <th>dev5</th>\n",
       "      <th>c1001</th>\n",
       "      <th>c1002</th>\n",
       "      <th>c1005</th>\n",
       "      <th>c1007</th>\n",
       "      <th>c1008</th>\n",
       "      <th>c1010</th>\n",
       "      <th>c1012</th>\n",
       "    </tr>\n",
       "  </thead>\n",
       "  <tbody>\n",
       "    <tr>\n",
       "      <th>759819</th>\n",
       "      <td>0</td>\n",
       "      <td>320</td>\n",
       "      <td>50</td>\n",
       "      <td>0</td>\n",
       "      <td>1</td>\n",
       "      <td>0</td>\n",
       "      <td>0</td>\n",
       "      <td>0</td>\n",
       "      <td>0</td>\n",
       "      <td>0</td>\n",
       "      <td>1</td>\n",
       "      <td>0</td>\n",
       "      <td>0</td>\n",
       "      <td>0</td>\n",
       "      <td>0</td>\n",
       "    </tr>\n",
       "    <tr>\n",
       "      <th>405231</th>\n",
       "      <td>0</td>\n",
       "      <td>320</td>\n",
       "      <td>50</td>\n",
       "      <td>0</td>\n",
       "      <td>1</td>\n",
       "      <td>0</td>\n",
       "      <td>0</td>\n",
       "      <td>0</td>\n",
       "      <td>0</td>\n",
       "      <td>0</td>\n",
       "      <td>1</td>\n",
       "      <td>0</td>\n",
       "      <td>0</td>\n",
       "      <td>0</td>\n",
       "      <td>0</td>\n",
       "    </tr>\n",
       "    <tr>\n",
       "      <th>491846</th>\n",
       "      <td>1</td>\n",
       "      <td>320</td>\n",
       "      <td>50</td>\n",
       "      <td>0</td>\n",
       "      <td>1</td>\n",
       "      <td>0</td>\n",
       "      <td>0</td>\n",
       "      <td>0</td>\n",
       "      <td>0</td>\n",
       "      <td>0</td>\n",
       "      <td>1</td>\n",
       "      <td>0</td>\n",
       "      <td>0</td>\n",
       "      <td>0</td>\n",
       "      <td>0</td>\n",
       "    </tr>\n",
       "    <tr>\n",
       "      <th>453055</th>\n",
       "      <td>1</td>\n",
       "      <td>320</td>\n",
       "      <td>50</td>\n",
       "      <td>0</td>\n",
       "      <td>1</td>\n",
       "      <td>0</td>\n",
       "      <td>0</td>\n",
       "      <td>0</td>\n",
       "      <td>0</td>\n",
       "      <td>0</td>\n",
       "      <td>1</td>\n",
       "      <td>0</td>\n",
       "      <td>0</td>\n",
       "      <td>0</td>\n",
       "      <td>0</td>\n",
       "    </tr>\n",
       "    <tr>\n",
       "      <th>260137</th>\n",
       "      <td>0</td>\n",
       "      <td>320</td>\n",
       "      <td>50</td>\n",
       "      <td>0</td>\n",
       "      <td>1</td>\n",
       "      <td>0</td>\n",
       "      <td>0</td>\n",
       "      <td>0</td>\n",
       "      <td>0</td>\n",
       "      <td>0</td>\n",
       "      <td>1</td>\n",
       "      <td>0</td>\n",
       "      <td>0</td>\n",
       "      <td>0</td>\n",
       "      <td>0</td>\n",
       "    </tr>\n",
       "  </tbody>\n",
       "</table>\n",
       "</div>"
      ],
      "text/plain": [
       "       click  x_pixels  y_pixels dev0 dev1 dev2 dev4 dev5 c1001 c1002 c1005  \\\n",
       "759819     0       320        50    0    1    0    0    0     0     0     1   \n",
       "405231     0       320        50    0    1    0    0    0     0     0     1   \n",
       "491846     1       320        50    0    1    0    0    0     0     0     1   \n",
       "453055     1       320        50    0    1    0    0    0     0     0     1   \n",
       "260137     0       320        50    0    1    0    0    0     0     0     1   \n",
       "\n",
       "       c1007 c1008 c1010 c1012  \n",
       "759819     0     0     0     0  \n",
       "405231     0     0     0     0  \n",
       "491846     0     0     0     0  \n",
       "453055     0     0     0     0  \n",
       "260137     0     0     0     0  "
      ]
     },
     "metadata": {},
     "output_type": "display_data"
    },
    {
     "name": "stdout",
     "output_type": "stream",
     "text": [
      "==> Testing set: 808575 points\n"
     ]
    },
    {
     "data": {
      "text/html": [
       "<div>\n",
       "<style scoped>\n",
       "    .dataframe tbody tr th:only-of-type {\n",
       "        vertical-align: middle;\n",
       "    }\n",
       "\n",
       "    .dataframe tbody tr th {\n",
       "        vertical-align: top;\n",
       "    }\n",
       "\n",
       "    .dataframe thead th {\n",
       "        text-align: right;\n",
       "    }\n",
       "</style>\n",
       "<table border=\"1\" class=\"dataframe\">\n",
       "  <thead>\n",
       "    <tr style=\"text-align: right;\">\n",
       "      <th></th>\n",
       "      <th>click</th>\n",
       "      <th>x_pixels</th>\n",
       "      <th>y_pixels</th>\n",
       "      <th>dev0</th>\n",
       "      <th>dev1</th>\n",
       "      <th>dev2</th>\n",
       "      <th>dev4</th>\n",
       "      <th>dev5</th>\n",
       "      <th>c1001</th>\n",
       "      <th>c1002</th>\n",
       "      <th>c1005</th>\n",
       "      <th>c1007</th>\n",
       "      <th>c1008</th>\n",
       "      <th>c1010</th>\n",
       "      <th>c1012</th>\n",
       "    </tr>\n",
       "  </thead>\n",
       "  <tbody>\n",
       "    <tr>\n",
       "      <th># of missing values ('NaNs')</th>\n",
       "      <td>0</td>\n",
       "      <td>0</td>\n",
       "      <td>0</td>\n",
       "      <td>0</td>\n",
       "      <td>0</td>\n",
       "      <td>0</td>\n",
       "      <td>0</td>\n",
       "      <td>0</td>\n",
       "      <td>0</td>\n",
       "      <td>0</td>\n",
       "      <td>0</td>\n",
       "      <td>0</td>\n",
       "      <td>0</td>\n",
       "      <td>0</td>\n",
       "      <td>0</td>\n",
       "    </tr>\n",
       "  </tbody>\n",
       "</table>\n",
       "</div>"
      ],
      "text/plain": [
       "                              click  x_pixels  y_pixels  dev0  dev1  dev2  \\\n",
       "# of missing values ('NaNs')      0         0         0     0     0     0   \n",
       "\n",
       "                              dev4  dev5  c1001  c1002  c1005  c1007  c1008  \\\n",
       "# of missing values ('NaNs')     0     0      0      0      0      0      0   \n",
       "\n",
       "                              c1010  c1012  \n",
       "# of missing values ('NaNs')      0      0  "
      ]
     },
     "metadata": {},
     "output_type": "display_data"
    },
    {
     "data": {
      "text/html": [
       "<div>\n",
       "<style scoped>\n",
       "    .dataframe tbody tr th:only-of-type {\n",
       "        vertical-align: middle;\n",
       "    }\n",
       "\n",
       "    .dataframe tbody tr th {\n",
       "        vertical-align: top;\n",
       "    }\n",
       "\n",
       "    .dataframe thead th {\n",
       "        text-align: right;\n",
       "    }\n",
       "</style>\n",
       "<table border=\"1\" class=\"dataframe\">\n",
       "  <thead>\n",
       "    <tr style=\"text-align: right;\">\n",
       "      <th></th>\n",
       "      <th>count</th>\n",
       "      <th>%</th>\n",
       "    </tr>\n",
       "    <tr>\n",
       "      <th>click</th>\n",
       "      <th></th>\n",
       "      <th></th>\n",
       "    </tr>\n",
       "  </thead>\n",
       "  <tbody>\n",
       "    <tr>\n",
       "      <th>0</th>\n",
       "      <td>670941</td>\n",
       "      <td>83.0</td>\n",
       "    </tr>\n",
       "    <tr>\n",
       "      <th>1</th>\n",
       "      <td>137634</td>\n",
       "      <td>17.0</td>\n",
       "    </tr>\n",
       "  </tbody>\n",
       "</table>\n",
       "</div>"
      ],
      "text/plain": [
       "        count     %\n",
       "click              \n",
       "0      670941  83.0\n",
       "1      137634  17.0"
      ]
     },
     "execution_count": 13,
     "metadata": {},
     "output_type": "execute_result"
    }
   ],
   "source": [
    "df_test = load_click_through_data(get_path('test-4M.csv'))\n",
    "display(df_test.sample(5))\n",
    "print(\"==> Testing set:\", len(df_test), \"points\")\n",
    "\n",
    "display(count_missing_by_col(df_test))\n",
    "\n",
    "num_clicks_test = df_test.groupby(RESPONSE)[RESPONSE].count().to_frame(name='count')\n",
    "num_clicks_test['%'] = (100 * num_clicks_test['count'] / num_clicks_test['count'].sum()).round(1)\n",
    "num_clicks_test"
   ]
  },
  {
   "cell_type": "markdown",
   "metadata": {
    "deletable": false,
    "editable": false,
    "nbgrader": {
     "grade": false,
     "locked": true,
     "solution": false
    }
   },
   "source": [
    "Observe that it does not have any missing values, and that the ratio of users who clicked on an ad resembles that of the training dataset (about 17%)."
   ]
  },
  {
   "cell_type": "markdown",
   "metadata": {
    "deletable": false,
    "editable": false,
    "nbgrader": {
     "grade": false,
     "locked": true,
     "solution": false
    }
   },
   "source": [
    "As a final step for the testing data, let's extract the data matrix and response variables corresponding to it into two variables named **`X_test`** and **`y_test`**, respectively."
   ]
  },
  {
   "cell_type": "code",
   "execution_count": 14,
   "metadata": {
    "deletable": false,
    "editable": false,
    "nbgrader": {
     "grade": false,
     "locked": true,
     "solution": false
    }
   },
   "outputs": [
    {
     "name": "stdout",
     "output_type": "stream",
     "text": [
      "(808575, 14)\n",
      "(808575,)\n"
     ]
    }
   ],
   "source": [
    "X_test = df_test[PREDICTORS].values\n",
    "y_test = df_test[RESPONSE].values\n",
    "print(X_test.shape)\n",
    "print(y_test.shape)"
   ]
  },
  {
   "cell_type": "markdown",
   "metadata": {
    "deletable": false,
    "editable": false,
    "nbgrader": {
     "grade": false,
     "locked": true,
     "solution": false
    }
   },
   "source": [
    "### Baseline accuracy ###\n",
    "\n",
    "For this baseline classifier, let's determine how accurate it is when predicting on the test dataset. We've provided a function called `test()` that does this evaluation for you. Run the next two code cells to define this function and try it out on the `baseline_classifier`. Again, the code is not critical; skip to the output."
   ]
  },
  {
   "cell_type": "code",
   "execution_count": 15,
   "metadata": {
    "collapsed": true,
    "deletable": false,
    "editable": false,
    "nbgrader": {
     "grade": false,
     "locked": true,
     "solution": false
    }
   },
   "outputs": [],
   "source": [
    "def confusion(y_row, row, y_col, col, verbose=True):\n",
    "    from pandas import crosstab, Series\n",
    "    C = crosstab(Series(y_row, name=row),\n",
    "                 Series(y_col, name=col))\n",
    "    if verbose: display(C)\n",
    "    return C\n",
    "\n",
    "def test(classifier, X_test, y_test, verbose=True):  \n",
    "    if verbose: print(\"Testing on data of size:\", X_test.shape)\n",
    "    y_pred = classifier.predict(X_test)\n",
    "\n",
    "    C = confusion(y_test, \"Truth\", y_pred, \"Predicted\", verbose=verbose)\n",
    "    if verbose:\n",
    "        score = 1e2 * classifier.score(X_test, y_test)\n",
    "        print(f\"Accuracy: {score:.1f}%\")\n",
    "\n",
    "    return y_pred, C"
   ]
  },
  {
   "cell_type": "code",
   "execution_count": 16,
   "metadata": {
    "deletable": false,
    "editable": false,
    "nbgrader": {
     "grade": false,
     "locked": true,
     "solution": false
    }
   },
   "outputs": [
    {
     "name": "stdout",
     "output_type": "stream",
     "text": [
      "Testing on data of size: (808575, 14)\n"
     ]
    },
    {
     "data": {
      "text/html": [
       "<div>\n",
       "<style scoped>\n",
       "    .dataframe tbody tr th:only-of-type {\n",
       "        vertical-align: middle;\n",
       "    }\n",
       "\n",
       "    .dataframe tbody tr th {\n",
       "        vertical-align: top;\n",
       "    }\n",
       "\n",
       "    .dataframe thead th {\n",
       "        text-align: right;\n",
       "    }\n",
       "</style>\n",
       "<table border=\"1\" class=\"dataframe\">\n",
       "  <thead>\n",
       "    <tr style=\"text-align: right;\">\n",
       "      <th>Predicted</th>\n",
       "      <th>0</th>\n",
       "      <th>1</th>\n",
       "    </tr>\n",
       "    <tr>\n",
       "      <th>Truth</th>\n",
       "      <th></th>\n",
       "      <th></th>\n",
       "    </tr>\n",
       "  </thead>\n",
       "  <tbody>\n",
       "    <tr>\n",
       "      <th>0</th>\n",
       "      <td>669807</td>\n",
       "      <td>1134</td>\n",
       "    </tr>\n",
       "    <tr>\n",
       "      <th>1</th>\n",
       "      <td>137388</td>\n",
       "      <td>246</td>\n",
       "    </tr>\n",
       "  </tbody>\n",
       "</table>\n",
       "</div>"
      ],
      "text/plain": [
       "Predicted       0     1\n",
       "Truth                  \n",
       "0          669807  1134\n",
       "1          137388   246"
      ]
     },
     "metadata": {},
     "output_type": "display_data"
    },
    {
     "name": "stdout",
     "output_type": "stream",
     "text": [
      "Accuracy: 82.9%\n"
     ]
    }
   ],
   "source": [
    "_, baseline_confusion = test(baseline_classifier, X_test, y_test)"
   ]
  },
  {
   "cell_type": "markdown",
   "metadata": {
    "deletable": false,
    "editable": false,
    "nbgrader": {
     "grade": false,
     "locked": true,
     "solution": false
    }
   },
   "source": [
    "**Observations.** The overall prediction accuracy should be about 83%. The output includes a confusion matrix, which shows how many times the classifier predicted 0 or 1 (the columns of the table) given the true labels (rows). If the classifer made perfect predictions, you would only see values on the diagonal and the off-diagonal entries would be zero.\n",
    "\n",
    "The accuracy isn't perfect, but it seems pretty good, at 83%. Well, except for one thing: **you could have gotten the same result simply by always guessing 0 (not clicked)!** Recall from our analysis of the original data that only about 17% of the observations involved users who clicked on ads, and in this application, these are the predictions you care about!"
   ]
  },
  {
   "cell_type": "markdown",
   "metadata": {
    "deletable": false,
    "editable": false,
    "nbgrader": {
     "grade": false,
     "locked": true,
     "solution": false
    }
   },
   "source": [
    "## Rebalancing via _down-sampling_ ##\n",
    "\n",
    "There a variety of ways of making a training dataset more \"balanced.\" One way is to _down-sample_: determine which group is smaller, and then _randomly_ select---_without_ replacement---an equal number of points from the larger group. Doing so focuses the learning algorithm on the more rare group while possibly sacrificing some loss of information from the larger group.\n",
    "\n",
    "For example, suppose you have a 1-D Numpy array named `y` whose entries are as follows:\n",
    "\n",
    "```python\n",
    "    #     index:  0   1   2   3   4   5   6   7   8   9  10  11  12  13  14  15\n",
    "    y = np.array([0,  0,  1,  0,  1,  0,  1,  0,  0,  0,  1,  0,  0,  1,  0,  0])\n",
    "```\n",
    "\n",
    "This array has 16 elements (numbered 0-15). There are five (5) occurrences of the value 1, at index positions 2, 4, 6, 10, and 13. The remaining eleven (11) elements have the value 0. Thus, the smaller group is the collection of \"1\" values.\n",
    "\n",
    "In down-sampling, keep everything from the smaller group, meaning all five (5) of the \"1\" elements. Of the remaining elements from the 0-valued group, we select five of them **uniformly at random _without_ replacement**, so that we can have an equal number of 0 and 1 elements. _(Recall that sampling without replacement means drawing a subset of unique elements, **without** repeats.)_ For example, if we were to keep elements from the following index positions,\n",
    "\n",
    "```python\n",
    "    keep = [1, 2, 4, 5, 6, 7, 8, 10, 13, 15]\n",
    "```\n",
    "\n",
    "Then\n",
    "\n",
    "```python\n",
    "    y[keep] == [0, 1, 1, 0, 1, 0, 0, 1, 1, 0]\n",
    "```\n",
    "\n",
    "has an equal number of 0 and 1 elements. In the next exercise, you need to compute `keep`, which we'll call the _\"keep-set.\"_"
   ]
  },
  {
   "cell_type": "markdown",
   "metadata": {
    "deletable": false,
    "editable": false,
    "nbgrader": {
     "grade": false,
     "locked": true,
     "solution": false
    }
   },
   "source": [
    "**`choice()` in Numpy.** For this kind of sampling, a handy function is [`numpy.random.choice()`](https://docs.scipy.org/doc/numpy-1.15.0/reference/generated/numpy.random.choice.html#numpy.random.choice). Given a list or Numpy array `a` of values, `choice(a, size=k, replace=False)` will return a uniformly randomly chosen subset of `k` elements without replacement (`replace=False`). Here's a demo, which takes a list of the positions containing \"0\" values from the above example and returns randomly chosen subset of 4 of them. (Run it a few times to see different subsets.)"
   ]
  },
  {
   "cell_type": "code",
   "execution_count": 17,
   "metadata": {
    "deletable": false,
    "editable": false,
    "nbgrader": {
     "grade": false,
     "locked": true,
     "solution": false
    }
   },
   "outputs": [
    {
     "data": {
      "text/plain": [
       "array([11,  1, 12,  8])"
      ]
     },
     "execution_count": 17,
     "metadata": {},
     "output_type": "execute_result"
    }
   ],
   "source": [
    "np.random.choice([0, 1, 3, 5, 7, 8, 9, 11, 12, 14, 15], size=4, replace=False)"
   ]
  },
  {
   "cell_type": "markdown",
   "metadata": {
    "deletable": false,
    "editable": false,
    "nbgrader": {
     "grade": false,
     "locked": true,
     "solution": false
    }
   },
   "source": [
    "### Exercise 1: Down-sampling (2 points) ###\n",
    "\n",
    "Suppose you are given a 1-D Numpy vector, `y`, whose values are either 0 or 1. Implement a function, `downsample(y)`, that does the following.\n",
    "\n",
    "- Assume that there is at least one occurrence of 0 and at least one occurrence of 1 in `y`.\n",
    "- First determine which entries of `y` have a 0 value, and which have a 1 value.\n",
    "- Determine which of these two groups is **smaller** (i.e., the 0-group or the 1-group).\n",
    "- Create a new 1-D array, `keep`, which will hold a \"keep-set\" of down-sampled elements.\n",
    "- The keep-set should include the _index positions_ of all elements from the **smaller** group.\n",
    "- The keep-set should also include the index positions of a randomly selected subset of the **larger** group. It should choose these uniformly at random **without** replacement, so that the number of elements in the keep-set from each group is equal.\n",
    "\n",
    "The function should return `keep`. The order in which these values are returned does not matter.\n",
    "\n",
    "For example, suppose you run this code frament.\n",
    "\n",
    "```python\n",
    "    #     index:  0   1   2   3   4   5   6   7   8   9  10  11  12  13  14  15\n",
    "    y = np.array([0,  0,  1,  0,  1,  0,  1,  0,  0,  0,  1,  0,  0,  1,  0,  0])\n",
    "    keep = downsample(y)\n",
    "```\n",
    "\n",
    "The \"1\"-group is smaller, having just five elements. Therefore, the resulting output should have ten elements, such as the following:\n",
    "\n",
    "```python\n",
    "    keep == np.array([2, 4, 6, 10, 13, 0, 1, 5, 15])\n",
    "```\n",
    "\n",
    "> Verify that `y[keep]` has an equal number of 0 and 1 values."
   ]
  },
  {
   "cell_type": "code",
   "execution_count": 18,
   "metadata": {
    "nbgrader": {
     "grade": false,
     "locked": false,
     "solution": false
    }
   },
   "outputs": [],
   "source": [
    "def downsample(y):\n",
    "    # You can assume `y` is a 1-D Numpy array-like object\n",
    "    assert hasattr(y, 'ndim') and hasattr(y, 'shape'), \"*** `y` is not a Numpy array-like object? ***\"\n",
    "    assert y.ndim == 1, \"*** `y` is not 1-D? ***\"\n",
    "    \n",
    "    ###\n",
    "#     y = y_demo.copy()\n",
    "    g1 = np.where(y == 1)[0]\n",
    "    g2 = np.where(y == 0)[0]\n",
    "    if len(g1)<len(g2):\n",
    "        k1 = g1\n",
    "        k2 = np.random.choice(g2, size=len(g1), replace=False)\n",
    "    else:\n",
    "        k1 = g2\n",
    "        k2 = np.random.choice(g1, size=len(g2), replace=False)\n",
    "\n",
    "    return np.concatenate((k1, k2), axis=0)\n",
    "    ###\n"
   ]
  },
  {
   "cell_type": "code",
   "execution_count": 19,
   "metadata": {},
   "outputs": [
    {
     "name": "stdout",
     "output_type": "stream",
     "text": [
      "Input: y == [0 0 1 0 1 0 1 0 0 0 1 0 0 1 0 0]\n",
      "Keeping: keep == [ 2  4  6 10 13 14  1  7  5 11]\n",
      "Equal zeros and ones? y[keep] == [1 1 1 1 1 0 0 0 0 0]\n"
     ]
    }
   ],
   "source": [
    "y_demo = np.array([0,  0,  1,  0,  1,  0,  1,  0,  0,  0,  1,  0,  0,  1,  0,  0])\n",
    "keep_demo = downsample(y_demo)\n",
    "\n",
    "print(\"Input: y ==\", y_demo)\n",
    "print(\"Keeping: keep ==\", keep_demo)\n",
    "print(\"Equal zeros and ones? y[keep] ==\", y_demo[keep_demo])"
   ]
  },
  {
   "cell_type": "code",
   "execution_count": 20,
   "metadata": {
    "deletable": false,
    "editable": false,
    "nbgrader": {
     "grade": true,
     "grade_id": "ex1__downsample",
     "locked": true,
     "points": "2",
     "solution": false
    },
    "scrolled": false
   },
   "outputs": [
    {
     "name": "stdout",
     "output_type": "stream",
     "text": [
      "=== Trial #0 / 9 ===\n",
      "=== Trial #1 / 9 ===\n",
      "=== Trial #2 / 9 ===\n",
      "=== Trial #3 / 9 ===\n",
      "=== Trial #4 / 9 ===\n",
      "=== Trial #5 / 9 ===\n",
      "=== Trial #6 / 9 ===\n",
      "=== Trial #7 / 9 ===\n",
      "=== Trial #8 / 9 ===\n",
      "=== Trial #9 / 9 ===\n",
      "\n",
      "(Passed.)\n"
     ]
    }
   ],
   "source": [
    "# Test cell: `ex1__downsample` (2 points)\n",
    "\n",
    "def ex1_check():\n",
    "    from problem_utils import ex1_random_bin\n",
    "    from numpy import isin, setdiff1d\n",
    "    from random import randint\n",
    "    n = randint(2, 20)\n",
    "    y, k_smaller, k_larger = ex1_random_bin(n)\n",
    "    n_out = 2 * len(k_smaller)\n",
    "    try:\n",
    "        keep = downsample(y)\n",
    "        assert hasattr(keep, 'ndim') and hasattr(keep, 'shape'), \\\n",
    "            f\"*** ERROR: Should return a Numpy array-like object, not a `{type(keep)}` object. ***\"\n",
    "        assert keep.ndim == 1, \\\n",
    "            f\"*** ERROR: Should return a 1-D array, not a {keep.ndim}-D one. ***\"\n",
    "        assert len(keep) == n_out, \\\n",
    "            f\"*** ERROR: Should have returned {n_out} elements, not {len(keep)}. ***\"\n",
    "        assert len(set(keep)) == n_out, \\\n",
    "            f\"*** ERROR: Output is of the wrong length or contains duplicate elements. ***\"\n",
    "        assert ((0 <= keep) & (keep < n)).all(), \\\n",
    "            f\"*** ERROR: Output contains invalid (out-of-bounds) values ***\"\n",
    "        assert isin(k_smaller, keep).all(), \\\n",
    "            f\"*** ERROR: Elements {setdiff1d(k_smaller, keep)} are missing. ***\"\n",
    "    except:\n",
    "        print(\"=== Inputs ===\")\n",
    "        print(\"- Input array, `y`:\", y)\n",
    "        print(\"- Smaller group positions (must be included):\", k_smaller)\n",
    "        print(\"- Larger group positions (choose an equal-sized subset):\", k_larger)\n",
    "        print(\"\\n=== Your output ===\")\n",
    "        print(\"- Keep-set:\", keep)\n",
    "        raise\n",
    "\n",
    "for trial in range(10):\n",
    "    print(f\"=== Trial #{trial} / 9 ===\")\n",
    "    ex1_check()\n",
    "\n",
    "###\n",
    "### AUTOGRADER TEST - DO NOT REMOVE\n",
    "###\n",
    "\n",
    "print(\"\\n(Passed.)\")"
   ]
  },
  {
   "cell_type": "markdown",
   "metadata": {
    "deletable": false,
    "editable": false,
    "nbgrader": {
     "grade": false,
     "locked": true,
     "solution": false
    }
   },
   "source": [
    "### Precomputed solution for Exercise 1 ###\n",
    "\n",
    "Here is some code to load a precomputed training dataset with filled-in missing values. Regardless of whether your Exercise 0 works or not, please run this cell now so subsequent exercises can continue. It will create two variables named **`keep_train_ds`** and **`keep_test_ds`**, two 1-D Numpy array-like objects that indicate which samples to keep from the training and testing datasets, respectively. You'll need these two _keep-sets_ later, so do not modify them!"
   ]
  },
  {
   "cell_type": "code",
   "execution_count": 21,
   "metadata": {
    "deletable": false,
    "editable": false,
    "nbgrader": {
     "grade": false,
     "locked": true,
     "solution": false
    }
   },
   "outputs": [
    {
     "name": "stdout",
     "output_type": "stream",
     "text": [
      "(1096978,)\n",
      "(275268,)\n"
     ]
    }
   ],
   "source": [
    "with open(get_path('ex1_soln.pickle'), 'rb') as fp:\n",
    "    keep_train_ds = pickle.load(fp)\n",
    "    keep_test_ds = pickle.load(fp)\n",
    "    \n",
    "print(keep_train_ds.shape)\n",
    "print(keep_test_ds.shape)"
   ]
  },
  {
   "cell_type": "markdown",
   "metadata": {
    "deletable": false,
    "editable": false,
    "nbgrader": {
     "grade": false,
     "locked": true,
     "solution": false
    }
   },
   "source": [
    "### Reassessing the baseline classifier ###\n",
    "\n",
    "Suppose we downsample the _test set_, so that we test on equal numbers of \"0\" and \"1\" examples. How does the accuracy change?"
   ]
  },
  {
   "cell_type": "code",
   "execution_count": 22,
   "metadata": {
    "deletable": false,
    "editable": false,
    "nbgrader": {
     "grade": false,
     "locked": true,
     "solution": false
    },
    "scrolled": true
   },
   "outputs": [
    {
     "name": "stdout",
     "output_type": "stream",
     "text": [
      "Testing on data of size: (275268, 14)\n"
     ]
    },
    {
     "data": {
      "text/html": [
       "<div>\n",
       "<style scoped>\n",
       "    .dataframe tbody tr th:only-of-type {\n",
       "        vertical-align: middle;\n",
       "    }\n",
       "\n",
       "    .dataframe tbody tr th {\n",
       "        vertical-align: top;\n",
       "    }\n",
       "\n",
       "    .dataframe thead th {\n",
       "        text-align: right;\n",
       "    }\n",
       "</style>\n",
       "<table border=\"1\" class=\"dataframe\">\n",
       "  <thead>\n",
       "    <tr style=\"text-align: right;\">\n",
       "      <th>Predicted</th>\n",
       "      <th>0</th>\n",
       "      <th>1</th>\n",
       "    </tr>\n",
       "    <tr>\n",
       "      <th>Truth</th>\n",
       "      <th></th>\n",
       "      <th></th>\n",
       "    </tr>\n",
       "  </thead>\n",
       "  <tbody>\n",
       "    <tr>\n",
       "      <th>0</th>\n",
       "      <td>137422</td>\n",
       "      <td>212</td>\n",
       "    </tr>\n",
       "    <tr>\n",
       "      <th>1</th>\n",
       "      <td>137388</td>\n",
       "      <td>246</td>\n",
       "    </tr>\n",
       "  </tbody>\n",
       "</table>\n",
       "</div>"
      ],
      "text/plain": [
       "Predicted       0    1\n",
       "Truth                 \n",
       "0          137422  212\n",
       "1          137388  246"
      ]
     },
     "metadata": {},
     "output_type": "display_data"
    },
    {
     "name": "stdout",
     "output_type": "stream",
     "text": [
      "Accuracy: 50.0%\n"
     ]
    },
    {
     "data": {
      "text/plain": [
       "(array([0, 0, 0, ..., 0, 0, 0]), Predicted       0    1\n",
       " Truth                 \n",
       " 0          137422  212\n",
       " 1          137388  246)"
      ]
     },
     "execution_count": 22,
     "metadata": {},
     "output_type": "execute_result"
    }
   ],
   "source": [
    "# Down-sample the testing data:\n",
    "X_test_ds = X_test[keep_test_ds, :]\n",
    "y_test_ds = y_test[keep_test_ds]\n",
    "\n",
    "# Reevaluate the classifier:\n",
    "test(baseline_classifier, X_test_ds, y_test_ds)"
   ]
  },
  {
   "cell_type": "markdown",
   "metadata": {
    "deletable": false,
    "editable": false,
    "nbgrader": {
     "grade": false,
     "locked": true,
     "solution": false
    }
   },
   "source": [
    "**Observation.** You should see test accuracy drop to near 50%. Recall that this balanced, down-sampled test set has equal numbers of 0 and 1 examples. So this accuracy is no better than random guessing!"
   ]
  },
  {
   "cell_type": "markdown",
   "metadata": {
    "deletable": false,
    "editable": false,
    "nbgrader": {
     "grade": false,
     "locked": true,
     "solution": false
    }
   },
   "source": [
    "## Up-sampling ##\n",
    "\n",
    "Whereas down-sampling shrinks the larger groups so that they have an equal number of samples as the smaller group, _up-sampling_ does the opposite: it takes the smaller group and makes it bigger by randomly selecting elements _with replacement_. One needs to use replacement because the smaller group will necessarily require repeats to match the size of a larger group.\n",
    "\n",
    "> Conveniently, the `choice()` function mentioned before allows you to sample with replacement by the parameter, `replace=True`.\n",
    "\n",
    "In contrast to down-sampling, up-sampling avoids throwing out data. However, doing so comes at a price: the cost goes up for training (or testing) on a now-larger number of up-sampled inputs."
   ]
  },
  {
   "cell_type": "markdown",
   "metadata": {
    "deletable": false,
    "editable": false,
    "nbgrader": {
     "grade": false,
     "locked": true,
     "solution": false
    }
   },
   "source": [
    "### Exercise 2: Up-sampling (1 point) ###\n",
    "\n",
    "Suppose you are given a 1-D Numpy vector, `y`, whose values are either 0 or 1. Implement a function, `upsample(y)`, that implements an _up-sampling strategy_, summarized as follows.\n",
    "\n",
    "- Assume that `y` has at least one occurrence of 0 and at least one occurrence of 1.\n",
    "- First determine which entries of `y` have a 0 value, and which have a 1 value.\n",
    "- Determine which of these two groups is **larger** (i.e., the 0-group or the 1-group).\n",
    "- Create a new 1-D array, `keep`, which will hold a \"keep-set\" of up-sampled elements.\n",
    "- The keep-set should include the _index positions_ of all elements from the **larger** group.\n",
    "- The keep-set should also include the index positions of a randomly selected subset of the **smaller** group. It should choose these so that the number of elements from each group in the keep set is equal, meaning elements from this smaller group must repeat.\n",
    "\n",
    "The function should return `keep`. The order in which these values are returned does not matter.\n",
    "\n",
    "For example, suppose you run this code frament.\n",
    "\n",
    "```python\n",
    "    #     index:  0   1   2   3   4   5   6   7   8   9  10  11  12  13  14  15\n",
    "    y = np.array([0,  0,  1,  0,  1,  0,  1,  0,  0,  0,  1,  0,  0,  1,  0,  0])\n",
    "    keep = upsample(y)\n",
    "```\n",
    "\n",
    "The \"0\"-group is larger, having 11 elements. Therefore, the resulting output should have 22 elements, which might be the following:\n",
    "\n",
    "```python\n",
    "    keep == np.array([0, 1, 3, 5, 7, 8, 9, 11, 12, 14, 15, \\\n",
    "                      2, 2, 4, 4, 4, 6, 6, 10, 13, 13, 13])\n",
    "```\n",
    "\n",
    "(Verify that `y[keep]` has an equal number of 0 and 1 values.)"
   ]
  },
  {
   "cell_type": "code",
   "execution_count": 23,
   "metadata": {},
   "outputs": [],
   "source": [
    "def upsample(y):\n",
    "    # You can assume `y` is a 1-D Numpy array-like object\n",
    "    assert hasattr(y, 'ndim') and hasattr(y, 'shape'), \"*** `y` is not a Numpy array-like object? ***\"\n",
    "    assert y.ndim == 1, \"*** `y` is not 1-D? ***\"\n",
    "    \n",
    "    ###\n",
    "# y = y_demo.copy()\n",
    "    g1 = np.where(y == 1)[0]\n",
    "    g2 = np.where(y == 0)[0]\n",
    "    if len(g1)>len(g2):\n",
    "        k1 = g1\n",
    "        k2 = np.random.choice(g2, size=len(g1), replace=True)\n",
    "    else:\n",
    "        k1 = g2\n",
    "        k2 = np.random.choice(g1, size=len(g2), replace=True)\n",
    "\n",
    "    return np.concatenate((k1, k2), axis=0)    \n",
    "\n",
    "    \n",
    "    ###\n"
   ]
  },
  {
   "cell_type": "code",
   "execution_count": 24,
   "metadata": {},
   "outputs": [
    {
     "name": "stdout",
     "output_type": "stream",
     "text": [
      "Input: y == [0 0 1 0 1 0 1 0 0 0 1 0 0 1 0 0]\n",
      "Keeping: keep == [ 0  1  3  5  7  8  9 11 12 14 15  6  4  2  6 13 13  6  6  4  4  4]\n",
      "Equal zeros and ones? y[keep] == [0 0 0 0 0 0 0 0 0 0 0 1 1 1 1 1 1 1 1 1 1 1]\n"
     ]
    }
   ],
   "source": [
    "y_demo = np.array([0,  0,  1,  0,  1,  0,  1,  0,  0,  0,  1,  0,  0,  1,  0,  0])\n",
    "keep_demo = upsample(y_demo)\n",
    "\n",
    "print(\"Input: y ==\", y_demo)\n",
    "print(\"Keeping: keep ==\", keep_demo)\n",
    "print(\"Equal zeros and ones? y[keep] ==\", y_demo[keep_demo])"
   ]
  },
  {
   "cell_type": "code",
   "execution_count": 25,
   "metadata": {
    "deletable": false,
    "editable": false,
    "nbgrader": {
     "grade": true,
     "grade_id": "ex2__upsample",
     "locked": true,
     "points": "1",
     "solution": false
    }
   },
   "outputs": [
    {
     "name": "stdout",
     "output_type": "stream",
     "text": [
      "=== Trial #0 / 9 ===\n",
      "=== Trial #1 / 9 ===\n",
      "=== Trial #2 / 9 ===\n",
      "=== Trial #3 / 9 ===\n",
      "=== Trial #4 / 9 ===\n",
      "=== Trial #5 / 9 ===\n",
      "=== Trial #6 / 9 ===\n",
      "=== Trial #7 / 9 ===\n",
      "=== Trial #8 / 9 ===\n",
      "=== Trial #9 / 9 ===\n",
      "\n",
      "(Passed.)\n"
     ]
    }
   ],
   "source": [
    "# Test cell: `ex2__upsample` (1 point)\n",
    "\n",
    "def ex2_check():\n",
    "    from problem_utils import ex1_random_bin\n",
    "    from numpy import isin, setdiff1d\n",
    "    from random import randint\n",
    "    n = randint(2, 20)\n",
    "    y, k_smaller, k_larger = ex1_random_bin(n)\n",
    "    n_out = 2 * len(k_larger)\n",
    "    try:\n",
    "        keep = upsample(y)\n",
    "        assert hasattr(keep, 'ndim') and hasattr(keep, 'shape'), \\\n",
    "            f\"*** ERROR: Should return a Numpy array-like object, not a `{type(keep)}` object. ***\"\n",
    "        assert keep.ndim == 1, \\\n",
    "            f\"*** ERROR: Should return a 1-D array, not a {keep.ndim}-D one. ***\"\n",
    "        assert len(keep) == n_out, \\\n",
    "            f\"*** ERROR: Should have returned {n_out} elements, not {len(keep)}. ***\"\n",
    "        assert ((0 <= keep) & (keep < n)).all(), \\\n",
    "            f\"*** ERROR: Output contains invalid (out-of-bounds) values ***\"\n",
    "        assert isin(k_larger, keep).all(), \\\n",
    "            f\"*** ERROR: Elements {setdiff1d(k_larger, keep)} are missing. ***\"\n",
    "        assert isin(keep, k_larger).sum() == len(k_larger), \\\n",
    "            f\"*** ERROR: Are elements from the larger set repeated? ***\"\n",
    "    except:\n",
    "        print(\"=== Inputs ===\")\n",
    "        print(\"- Input array, `y`:\", y)\n",
    "        print(\"- Smaller group positions (any subset, which may repeat):\", k_smaller)\n",
    "        print(\"- Larger group positions (must be included and appear only once each):\", k_larger)\n",
    "        print(\"\\n=== Your output ===\")\n",
    "        print(\"- Keep-set:\", keep)\n",
    "        raise\n",
    "\n",
    "for trial in range(10):\n",
    "    print(f\"=== Trial #{trial} / 9 ===\")\n",
    "    ex2_check()\n",
    "\n",
    "###\n",
    "### AUTOGRADER TEST - DO NOT REMOVE\n",
    "###\n",
    "\n",
    "print(\"\\n(Passed.)\")"
   ]
  },
  {
   "cell_type": "markdown",
   "metadata": {
    "deletable": false,
    "editable": false,
    "nbgrader": {
     "grade": false,
     "locked": true,
     "solution": false
    }
   },
   "source": [
    "### Precomputed solution for Exercise 2 ###\n",
    "\n",
    "Here is some code to load a precomputed training dataset with filled-in missing values. Regardless of whether your Exercise 2 works or not, please run this cell now. It will create two variables named **`keep_train_us`** and **`keep_test_us`**, two 1-D Numpy array-like objects that indicate which samples to keep from the training and testing datasets, respectively. The remaining notebook code will need these two keep-sets, so do not modify them!"
   ]
  },
  {
   "cell_type": "code",
   "execution_count": 26,
   "metadata": {
    "deletable": false,
    "editable": false,
    "nbgrader": {
     "grade": false,
     "locked": true,
     "solution": false
    }
   },
   "outputs": [
    {
     "name": "stdout",
     "output_type": "stream",
     "text": [
      "(5371614,)\n",
      "(1341882,)\n"
     ]
    }
   ],
   "source": [
    "with open(get_path('ex2_soln.pickle'), 'rb') as fp:\n",
    "    keep_train_us = pickle.load(fp)\n",
    "    keep_test_us = pickle.load(fp)\n",
    "    \n",
    "print(keep_train_us.shape)\n",
    "print(keep_test_us.shape)"
   ]
  },
  {
   "cell_type": "markdown",
   "metadata": {
    "deletable": false,
    "editable": false,
    "nbgrader": {
     "grade": false,
     "locked": true,
     "solution": false
    }
   },
   "source": [
    "## Retraining with balanced data ##\n",
    "\n",
    "> There are no more exercises in this notebook. If you are pressed for time, be sure to submit your work and consider moving on!\n",
    "\n",
    "Given the ability to up-sample and down-sample the data, let's see how doing so affects training accuracy and generalization. You should see that accuracy goes down slightly on the original test data, but there is some small improvement when testing on the down-sampled test data. (Recall that the baseline classifier did no better than chance in this case.)"
   ]
  },
  {
   "cell_type": "code",
   "execution_count": 27,
   "metadata": {
    "nbgrader": {
     "grade": false,
     "locked": false,
     "solution": false
    }
   },
   "outputs": [
    {
     "name": "stdout",
     "output_type": "stream",
     "text": [
      "\n",
      "=== Using down-sampling to re-balance the training data ===\n",
      "\n",
      "Fitting to data of size: (1096978, 14)\n",
      "Done!\n",
      "\n",
      "==> Testing on the unmodified test data ...\n",
      "Testing on data of size: (808575, 14)\n"
     ]
    },
    {
     "data": {
      "text/html": [
       "<div>\n",
       "<style scoped>\n",
       "    .dataframe tbody tr th:only-of-type {\n",
       "        vertical-align: middle;\n",
       "    }\n",
       "\n",
       "    .dataframe tbody tr th {\n",
       "        vertical-align: top;\n",
       "    }\n",
       "\n",
       "    .dataframe thead th {\n",
       "        text-align: right;\n",
       "    }\n",
       "</style>\n",
       "<table border=\"1\" class=\"dataframe\">\n",
       "  <thead>\n",
       "    <tr style=\"text-align: right;\">\n",
       "      <th>Predicted</th>\n",
       "      <th>0</th>\n",
       "      <th>1</th>\n",
       "    </tr>\n",
       "    <tr>\n",
       "      <th>Truth</th>\n",
       "      <th></th>\n",
       "      <th></th>\n",
       "    </tr>\n",
       "  </thead>\n",
       "  <tbody>\n",
       "    <tr>\n",
       "      <th>0</th>\n",
       "      <td>608589</td>\n",
       "      <td>62352</td>\n",
       "    </tr>\n",
       "    <tr>\n",
       "      <th>1</th>\n",
       "      <td>111722</td>\n",
       "      <td>25912</td>\n",
       "    </tr>\n",
       "  </tbody>\n",
       "</table>\n",
       "</div>"
      ],
      "text/plain": [
       "Predicted       0      1\n",
       "Truth                   \n",
       "0          608589  62352\n",
       "1          111722  25912"
      ]
     },
     "metadata": {},
     "output_type": "display_data"
    },
    {
     "name": "stdout",
     "output_type": "stream",
     "text": [
      "Accuracy: 78.5%\n",
      "\n",
      "==> Testing on the down-sampled test data ...\n",
      "Testing on data of size: (275268, 14)\n"
     ]
    },
    {
     "data": {
      "text/html": [
       "<div>\n",
       "<style scoped>\n",
       "    .dataframe tbody tr th:only-of-type {\n",
       "        vertical-align: middle;\n",
       "    }\n",
       "\n",
       "    .dataframe tbody tr th {\n",
       "        vertical-align: top;\n",
       "    }\n",
       "\n",
       "    .dataframe thead th {\n",
       "        text-align: right;\n",
       "    }\n",
       "</style>\n",
       "<table border=\"1\" class=\"dataframe\">\n",
       "  <thead>\n",
       "    <tr style=\"text-align: right;\">\n",
       "      <th>Predicted</th>\n",
       "      <th>0</th>\n",
       "      <th>1</th>\n",
       "    </tr>\n",
       "    <tr>\n",
       "      <th>Truth</th>\n",
       "      <th></th>\n",
       "      <th></th>\n",
       "    </tr>\n",
       "  </thead>\n",
       "  <tbody>\n",
       "    <tr>\n",
       "      <th>0</th>\n",
       "      <td>124930</td>\n",
       "      <td>12704</td>\n",
       "    </tr>\n",
       "    <tr>\n",
       "      <th>1</th>\n",
       "      <td>111722</td>\n",
       "      <td>25912</td>\n",
       "    </tr>\n",
       "  </tbody>\n",
       "</table>\n",
       "</div>"
      ],
      "text/plain": [
       "Predicted       0      1\n",
       "Truth                   \n",
       "0          124930  12704\n",
       "1          111722  25912"
      ]
     },
     "metadata": {},
     "output_type": "display_data"
    },
    {
     "name": "stdout",
     "output_type": "stream",
     "text": [
      "Accuracy: 54.8%\n",
      "\n",
      "=== Using up-sampling to re-balance the training data ===\n",
      "\n",
      "Fitting to data of size: (5371614, 14)\n",
      "Done!\n",
      "\n",
      "==> Testing on the unmodified test data ...\n",
      "Testing on data of size: (808575, 14)\n"
     ]
    },
    {
     "data": {
      "text/html": [
       "<div>\n",
       "<style scoped>\n",
       "    .dataframe tbody tr th:only-of-type {\n",
       "        vertical-align: middle;\n",
       "    }\n",
       "\n",
       "    .dataframe tbody tr th {\n",
       "        vertical-align: top;\n",
       "    }\n",
       "\n",
       "    .dataframe thead th {\n",
       "        text-align: right;\n",
       "    }\n",
       "</style>\n",
       "<table border=\"1\" class=\"dataframe\">\n",
       "  <thead>\n",
       "    <tr style=\"text-align: right;\">\n",
       "      <th>Predicted</th>\n",
       "      <th>0</th>\n",
       "      <th>1</th>\n",
       "    </tr>\n",
       "    <tr>\n",
       "      <th>Truth</th>\n",
       "      <th></th>\n",
       "      <th></th>\n",
       "    </tr>\n",
       "  </thead>\n",
       "  <tbody>\n",
       "    <tr>\n",
       "      <th>0</th>\n",
       "      <td>608611</td>\n",
       "      <td>62330</td>\n",
       "    </tr>\n",
       "    <tr>\n",
       "      <th>1</th>\n",
       "      <td>111724</td>\n",
       "      <td>25910</td>\n",
       "    </tr>\n",
       "  </tbody>\n",
       "</table>\n",
       "</div>"
      ],
      "text/plain": [
       "Predicted       0      1\n",
       "Truth                   \n",
       "0          608611  62330\n",
       "1          111724  25910"
      ]
     },
     "metadata": {},
     "output_type": "display_data"
    },
    {
     "name": "stdout",
     "output_type": "stream",
     "text": [
      "Accuracy: 78.5%\n",
      "\n",
      "==> Testing on the down-sampled test data ...\n",
      "Testing on data of size: (275268, 14)\n"
     ]
    },
    {
     "data": {
      "text/html": [
       "<div>\n",
       "<style scoped>\n",
       "    .dataframe tbody tr th:only-of-type {\n",
       "        vertical-align: middle;\n",
       "    }\n",
       "\n",
       "    .dataframe tbody tr th {\n",
       "        vertical-align: top;\n",
       "    }\n",
       "\n",
       "    .dataframe thead th {\n",
       "        text-align: right;\n",
       "    }\n",
       "</style>\n",
       "<table border=\"1\" class=\"dataframe\">\n",
       "  <thead>\n",
       "    <tr style=\"text-align: right;\">\n",
       "      <th>Predicted</th>\n",
       "      <th>0</th>\n",
       "      <th>1</th>\n",
       "    </tr>\n",
       "    <tr>\n",
       "      <th>Truth</th>\n",
       "      <th></th>\n",
       "      <th></th>\n",
       "    </tr>\n",
       "  </thead>\n",
       "  <tbody>\n",
       "    <tr>\n",
       "      <th>0</th>\n",
       "      <td>124936</td>\n",
       "      <td>12698</td>\n",
       "    </tr>\n",
       "    <tr>\n",
       "      <th>1</th>\n",
       "      <td>111724</td>\n",
       "      <td>25910</td>\n",
       "    </tr>\n",
       "  </tbody>\n",
       "</table>\n",
       "</div>"
      ],
      "text/plain": [
       "Predicted       0      1\n",
       "Truth                   \n",
       "0          124936  12698\n",
       "1          111724  25910"
      ]
     },
     "metadata": {},
     "output_type": "display_data"
    },
    {
     "name": "stdout",
     "output_type": "stream",
     "text": [
      "Accuracy: 54.8%\n"
     ]
    }
   ],
   "source": [
    "methods = {'down-sampling': (keep_train_ds, keep_test_ds),\n",
    "           'up-sampling': (keep_train_us, keep_test_us)}\n",
    "\n",
    "X_test_ds, y_test_ds = X_test[keep_test_ds, :], y_test[keep_test_ds]\n",
    "for method, (keep_train, _) in methods.items():\n",
    "    print(\"\\n=== Using\", method, \"to re-balance the training data ===\\n\")\n",
    "    X_train_bal = X_train[keep_train, :]\n",
    "    y_train_bal = y_train[keep_train]\n",
    "    classifier = fit(X_train_bal, y_train_bal)\n",
    "    \n",
    "    print(\"\\n==> Testing on the unmodified test data ...\")\n",
    "    test(classifier, X_test, y_test)\n",
    "    \n",
    "    print(\"\\n==> Testing on the down-sampled test data ...\")\n",
    "    test(classifier, X_test_ds, y_test_ds)"
   ]
  },
  {
   "cell_type": "markdown",
   "metadata": {
    "collapsed": true,
    "deletable": false,
    "editable": false,
    "nbgrader": {
     "grade": false,
     "grade_id": "cell-c17d1735dac419ee",
     "locked": true,
     "schema_version": 1,
     "solution": false
    }
   },
   "source": [
    "**Epilogue.** In fact, there are many interesting methods for resampling to create better datasets for training. You'll encounter these techniques in other courses of the analytics program.\n",
    "\n",
    "**Fin!** You’ve reached the end of this part. Don’t forget to restart and run all cells again to make sure it’s all working when run in sequence; and make sure your work passes the submission process. Good luck!"
   ]
  }
 ],
 "metadata": {
  "celltoolbar": "Create Assignment",
  "kernelspec": {
   "display_name": "Python 3.7",
   "language": "python",
   "name": "python37"
  },
  "language_info": {
   "codemirror_mode": {
    "name": "ipython",
    "version": 3
   },
   "file_extension": ".py",
   "mimetype": "text/x-python",
   "name": "python",
   "nbconvert_exporter": "python",
   "pygments_lexer": "ipython3",
   "version": "3.7.5"
  }
 },
 "nbformat": 4,
 "nbformat_minor": 1
}
