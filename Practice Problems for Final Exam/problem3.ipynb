{
 "cells": [
  {
   "cell_type": "markdown",
   "metadata": {
    "deletable": false,
    "editable": false,
    "nbgrader": {
     "grade": false,
     "locked": true,
     "solution": false
    }
   },
   "source": [
    "# Problem 3\n",
    "\n",
    "This problem checks that you can perform some basic data cleaning and analysis. You'll work with what we think is a pretty interesting dataset, which can tell us something about how people move within the United States.\n",
    "\n",
    "This problem has five (5) exercises (numbered 0-4) and is worth a total of ten (10) points."
   ]
  },
  {
   "cell_type": "markdown",
   "metadata": {
    "deletable": false,
    "editable": false,
    "nbgrader": {
     "grade": false,
     "locked": true,
     "solution": false
    }
   },
   "source": [
    "## Setup: IRS Tax Migration Data\n",
    "\n",
    "The data for this problem comes from the IRS, which can tell where many households move from or to in any given year based on their tax returns.\n",
    "\n",
    "For your convenience, we've place the data you'll need on Vocareum. If you wish to work in your local environment, you'll need the following copy of these files, which are split by year among four consecutive years (2011-2015). \n",
    "\n",
    "- 2011-2012 data: https://cse6040.gatech.edu/datasets/stateoutflow1112.csv\n",
    "- 2012-2013 data: https://cse6040.gatech.edu/datasets/stateoutflow1213.csv\n",
    "- 2013-2014 data: https://cse6040.gatech.edu/datasets/stateoutflow1314.csv\n",
    "- 2014-2015 data: https://cse6040.gatech.edu/datasets/stateoutflow1415.csv\n",
    "\n",
    "These data files reference states by their FIPS codes. So, you'll need some additional data to translate state FIPS numbers to \"friendly\" names. (Again, this file is pre-loaded into the Vocareum environment and the link below is for your use if you are working locally.)\n",
    "\n",
    "- FIPS data: https://cse6040.gatech.edu/datasets/fips-state-2010-census.txt\n",
    "\n",
    "> These are state-level data though county-level data also exist elsewhere. If you ever need that, you'll find it at the IRS website: https://www.irs.gov/uac/soi-tax-stats-migration-data. And if you ever need the original FIPS codes data, see the Census Bureau website: https://www.census.gov/geo/reference/codes/cou.html."
   ]
  },
  {
   "cell_type": "markdown",
   "metadata": {
    "deletable": false,
    "editable": false,
    "nbgrader": {
     "grade": false,
     "locked": true,
     "solution": false
    }
   },
   "source": [
    "Beyond the data, you'll also need the following Python modules."
   ]
  },
  {
   "cell_type": "code",
   "execution_count": 7,
   "metadata": {
    "collapsed": true,
    "deletable": false,
    "editable": false,
    "nbgrader": {
     "grade": false,
     "locked": true,
     "solution": false
    }
   },
   "outputs": [],
   "source": [
    "from IPython.display import display\n",
    "import pandas as pd\n",
    "\n",
    "def tbc (X):\n",
    "    var_names = sorted (X.columns)\n",
    "    Y = X[var_names].copy ()\n",
    "    Y.sort_values (by=var_names, inplace=True)\n",
    "    Y.set_index ([list (range (0, len (Y)))], inplace=True)\n",
    "    return Y\n",
    "\n",
    "def tbeq(A, B):\n",
    "    A_c = tbc(A)\n",
    "    B_c = tbc(B)\n",
    "    print((A_c != B_c).any(1))\n",
    "    return A_c.eq(B_c).all().all()"
   ]
  },
  {
   "cell_type": "markdown",
   "metadata": {
    "deletable": false,
    "editable": false,
    "nbgrader": {
     "grade": false,
     "locked": true,
     "solution": false
    }
   },
   "source": [
    "Here is a sneak peek of what one of the data files looks like. Note the encoding specification, which may be needed to get Pandas to parse it.\n",
    "\n",
    "> The cell below defines a function called `fn(fn_base, dirname)`, which you can use to form a fully qualified file path for accessing a data file. The argument `fn_base` is the name of the file (e.g., `'foo.csv'`) and `dirname` is the subdirectory path containing that file. It has a default value that is appropriate for the Vocareum platform. In some of the exercises below, you'll need to load files and you should, therefore, use the `fn` function to generate the names of the files you need to load. Read the code cells below to see how `fn()` is used."
   ]
  },
  {
   "cell_type": "code",
   "execution_count": 8,
   "metadata": {},
   "outputs": [
    {
     "name": "stdout",
     "output_type": "stream",
     "text": [
      "First few rows...\n"
     ]
    },
    {
     "data": {
      "text/html": [
       "<div>\n",
       "<style scoped>\n",
       "    .dataframe tbody tr th:only-of-type {\n",
       "        vertical-align: middle;\n",
       "    }\n",
       "\n",
       "    .dataframe tbody tr th {\n",
       "        vertical-align: top;\n",
       "    }\n",
       "\n",
       "    .dataframe thead th {\n",
       "        text-align: right;\n",
       "    }\n",
       "</style>\n",
       "<table border=\"1\" class=\"dataframe\">\n",
       "  <thead>\n",
       "    <tr style=\"text-align: right;\">\n",
       "      <th></th>\n",
       "      <th>y1_statefips</th>\n",
       "      <th>y2_statefips</th>\n",
       "      <th>y2_state</th>\n",
       "      <th>y2_state_name</th>\n",
       "      <th>n1</th>\n",
       "      <th>n2</th>\n",
       "      <th>AGI</th>\n",
       "    </tr>\n",
       "  </thead>\n",
       "  <tbody>\n",
       "    <tr>\n",
       "      <th>0</th>\n",
       "      <td>1</td>\n",
       "      <td>96</td>\n",
       "      <td>AL</td>\n",
       "      <td>AL Total Migration US and Foreign</td>\n",
       "      <td>51971</td>\n",
       "      <td>107304</td>\n",
       "      <td>2109108</td>\n",
       "    </tr>\n",
       "    <tr>\n",
       "      <th>1</th>\n",
       "      <td>1</td>\n",
       "      <td>97</td>\n",
       "      <td>AL</td>\n",
       "      <td>AL Total Migration US</td>\n",
       "      <td>50940</td>\n",
       "      <td>105006</td>\n",
       "      <td>2059642</td>\n",
       "    </tr>\n",
       "    <tr>\n",
       "      <th>2</th>\n",
       "      <td>1</td>\n",
       "      <td>98</td>\n",
       "      <td>AL</td>\n",
       "      <td>AL Total Migration Foreign</td>\n",
       "      <td>1031</td>\n",
       "      <td>2298</td>\n",
       "      <td>49465</td>\n",
       "    </tr>\n",
       "  </tbody>\n",
       "</table>\n",
       "</div>"
      ],
      "text/plain": [
       "   y1_statefips  y2_statefips y2_state                      y2_state_name  \\\n",
       "0             1            96       AL  AL Total Migration US and Foreign   \n",
       "1             1            97       AL              AL Total Migration US   \n",
       "2             1            98       AL         AL Total Migration Foreign   \n",
       "\n",
       "      n1      n2      AGI  \n",
       "0  51971  107304  2109108  \n",
       "1  50940  105006  2059642  \n",
       "2   1031    2298    49465  "
      ]
     },
     "metadata": {},
     "output_type": "display_data"
    },
    {
     "name": "stdout",
     "output_type": "stream",
     "text": [
      "\n",
      "...and some from the middle somewhere...\n"
     ]
    },
    {
     "data": {
      "text/html": [
       "<div>\n",
       "<style scoped>\n",
       "    .dataframe tbody tr th:only-of-type {\n",
       "        vertical-align: middle;\n",
       "    }\n",
       "\n",
       "    .dataframe tbody tr th {\n",
       "        vertical-align: top;\n",
       "    }\n",
       "\n",
       "    .dataframe thead th {\n",
       "        text-align: right;\n",
       "    }\n",
       "</style>\n",
       "<table border=\"1\" class=\"dataframe\">\n",
       "  <thead>\n",
       "    <tr style=\"text-align: right;\">\n",
       "      <th></th>\n",
       "      <th>y1_statefips</th>\n",
       "      <th>y2_statefips</th>\n",
       "      <th>y2_state</th>\n",
       "      <th>y2_state_name</th>\n",
       "      <th>n1</th>\n",
       "      <th>n2</th>\n",
       "      <th>AGI</th>\n",
       "    </tr>\n",
       "  </thead>\n",
       "  <tbody>\n",
       "    <tr>\n",
       "      <th>997</th>\n",
       "      <td>22</td>\n",
       "      <td>13</td>\n",
       "      <td>GA</td>\n",
       "      <td>GEORGIA</td>\n",
       "      <td>2526</td>\n",
       "      <td>4984</td>\n",
       "      <td>83544</td>\n",
       "    </tr>\n",
       "    <tr>\n",
       "      <th>998</th>\n",
       "      <td>22</td>\n",
       "      <td>6</td>\n",
       "      <td>CA</td>\n",
       "      <td>CALIFORNIA</td>\n",
       "      <td>2267</td>\n",
       "      <td>3974</td>\n",
       "      <td>89566</td>\n",
       "    </tr>\n",
       "    <tr>\n",
       "      <th>999</th>\n",
       "      <td>22</td>\n",
       "      <td>5</td>\n",
       "      <td>AR</td>\n",
       "      <td>ARKANSAS</td>\n",
       "      <td>1355</td>\n",
       "      <td>2851</td>\n",
       "      <td>52356</td>\n",
       "    </tr>\n",
       "  </tbody>\n",
       "</table>\n",
       "</div>"
      ],
      "text/plain": [
       "     y1_statefips  y2_statefips y2_state y2_state_name    n1    n2    AGI\n",
       "997            22            13       GA       GEORGIA  2526  4984  83544\n",
       "998            22             6       CA    CALIFORNIA  2267  3974  89566\n",
       "999            22             5       AR      ARKANSAS  1355  2851  52356"
      ]
     },
     "metadata": {},
     "output_type": "display_data"
    }
   ],
   "source": [
    "def fn(fn_base, dirname='./resource/asnlib/publicdata/'):\n",
    "    return '{}{}'.format(dirname, fn_base)\n",
    "\n",
    "# Demo of `fn()`, which we'll use to look at the first few rows of one of the input files.\n",
    "print (\"First few rows...\")\n",
    "display (pd.read_csv (fn('stateoutflow1112.csv'), encoding='latin-1').head (3))\n",
    "\n",
    "print (\"\\n...and some from the middle somewhere...\")\n",
    "display (pd.read_csv (fn('stateoutflow1112.csv'), encoding='latin-1').head (1000).tail (3))"
   ]
  },
  {
   "cell_type": "markdown",
   "metadata": {
    "deletable": false,
    "editable": false,
    "nbgrader": {
     "grade": false,
     "locked": true,
     "solution": false
    }
   },
   "source": [
    "The `y1_.*` fields describe the state in which the household originated (the \"source\" vertices) and the `y2_.*` fields describe the state into which the household moved (the \"destination\"). Column `n1` is the number of such households for the given (source, destination) locations. Notice that there are some special FIPS designators as well, e.g., in the first three rows. These show total outflows, which you can use to normalize counts."
   ]
  },
  {
   "cell_type": "markdown",
   "metadata": {
    "deletable": false,
    "editable": false,
    "nbgrader": {
     "grade": false,
     "locked": true,
     "solution": false
    }
   },
   "source": [
    "**Exercise 0** (2 points). The data files are separated by year. Write some code to merge all of the data into a single Pandas data frame called `StateOutFlows`. It should have the same columns as the original data (e.g., `y1_statefips`, `y2_statefips`), plus an additional `year` column to hold the year.\n",
    "\n",
    "> Represent the year by a 4-digit value, e.g., `2011` rather than just `11`. Also, use the starting year for the file. That is, if the file is the `1314` file, use `2013` as the year."
   ]
  },
  {
   "cell_type": "code",
   "execution_count": 9,
   "metadata": {
    "nbgrader": {
     "grade": false,
     "grade_id": "StateOutFlows",
     "locked": false,
     "solution": true
    }
   },
   "outputs": [
    {
     "data": {
      "text/html": [
       "<div>\n",
       "<style scoped>\n",
       "    .dataframe tbody tr th:only-of-type {\n",
       "        vertical-align: middle;\n",
       "    }\n",
       "\n",
       "    .dataframe tbody tr th {\n",
       "        vertical-align: top;\n",
       "    }\n",
       "\n",
       "    .dataframe thead th {\n",
       "        text-align: right;\n",
       "    }\n",
       "</style>\n",
       "<table border=\"1\" class=\"dataframe\">\n",
       "  <thead>\n",
       "    <tr style=\"text-align: right;\">\n",
       "      <th></th>\n",
       "      <th>y1_statefips</th>\n",
       "      <th>y2_statefips</th>\n",
       "      <th>y2_state</th>\n",
       "      <th>y2_state_name</th>\n",
       "      <th>n1</th>\n",
       "      <th>n2</th>\n",
       "      <th>AGI</th>\n",
       "      <th>year</th>\n",
       "    </tr>\n",
       "  </thead>\n",
       "  <tbody>\n",
       "    <tr>\n",
       "      <th>0</th>\n",
       "      <td>1</td>\n",
       "      <td>96</td>\n",
       "      <td>AL</td>\n",
       "      <td>AL Total Migration US and Foreign</td>\n",
       "      <td>51971</td>\n",
       "      <td>107304</td>\n",
       "      <td>2109108</td>\n",
       "      <td>2011</td>\n",
       "    </tr>\n",
       "    <tr>\n",
       "      <th>1</th>\n",
       "      <td>1</td>\n",
       "      <td>97</td>\n",
       "      <td>AL</td>\n",
       "      <td>AL Total Migration US</td>\n",
       "      <td>50940</td>\n",
       "      <td>105006</td>\n",
       "      <td>2059642</td>\n",
       "      <td>2011</td>\n",
       "    </tr>\n",
       "    <tr>\n",
       "      <th>2</th>\n",
       "      <td>1</td>\n",
       "      <td>98</td>\n",
       "      <td>AL</td>\n",
       "      <td>AL Total Migration Foreign</td>\n",
       "      <td>1031</td>\n",
       "      <td>2298</td>\n",
       "      <td>49465</td>\n",
       "      <td>2011</td>\n",
       "    </tr>\n",
       "    <tr>\n",
       "      <th>3</th>\n",
       "      <td>1</td>\n",
       "      <td>1</td>\n",
       "      <td>AL</td>\n",
       "      <td>AL Non-migrants</td>\n",
       "      <td>1584665</td>\n",
       "      <td>3603439</td>\n",
       "      <td>87222478</td>\n",
       "      <td>2011</td>\n",
       "    </tr>\n",
       "    <tr>\n",
       "      <th>4</th>\n",
       "      <td>1</td>\n",
       "      <td>13</td>\n",
       "      <td>GA</td>\n",
       "      <td>GEORGIA</td>\n",
       "      <td>9920</td>\n",
       "      <td>19470</td>\n",
       "      <td>329213</td>\n",
       "      <td>2011</td>\n",
       "    </tr>\n",
       "    <tr>\n",
       "      <th>...</th>\n",
       "      <td>...</td>\n",
       "      <td>...</td>\n",
       "      <td>...</td>\n",
       "      <td>...</td>\n",
       "      <td>...</td>\n",
       "      <td>...</td>\n",
       "      <td>...</td>\n",
       "      <td>...</td>\n",
       "    </tr>\n",
       "    <tr>\n",
       "      <th>2850</th>\n",
       "      <td>56</td>\n",
       "      <td>50</td>\n",
       "      <td>VT</td>\n",
       "      <td>Vermont</td>\n",
       "      <td>19</td>\n",
       "      <td>24</td>\n",
       "      <td>665</td>\n",
       "      <td>2014</td>\n",
       "    </tr>\n",
       "    <tr>\n",
       "      <th>2851</th>\n",
       "      <td>56</td>\n",
       "      <td>33</td>\n",
       "      <td>NH</td>\n",
       "      <td>New Hampshire</td>\n",
       "      <td>-1</td>\n",
       "      <td>-1</td>\n",
       "      <td>-1</td>\n",
       "      <td>2014</td>\n",
       "    </tr>\n",
       "    <tr>\n",
       "      <th>2852</th>\n",
       "      <td>56</td>\n",
       "      <td>10</td>\n",
       "      <td>DE</td>\n",
       "      <td>Delaware</td>\n",
       "      <td>-1</td>\n",
       "      <td>-1</td>\n",
       "      <td>-1</td>\n",
       "      <td>2014</td>\n",
       "    </tr>\n",
       "    <tr>\n",
       "      <th>2853</th>\n",
       "      <td>56</td>\n",
       "      <td>11</td>\n",
       "      <td>DC</td>\n",
       "      <td>District Of Columbia</td>\n",
       "      <td>-1</td>\n",
       "      <td>-1</td>\n",
       "      <td>-1</td>\n",
       "      <td>2014</td>\n",
       "    </tr>\n",
       "    <tr>\n",
       "      <th>2854</th>\n",
       "      <td>56</td>\n",
       "      <td>44</td>\n",
       "      <td>RI</td>\n",
       "      <td>Rhode Island</td>\n",
       "      <td>-1</td>\n",
       "      <td>-1</td>\n",
       "      <td>-1</td>\n",
       "      <td>2014</td>\n",
       "    </tr>\n",
       "  </tbody>\n",
       "</table>\n",
       "<p>11320 rows × 8 columns</p>\n",
       "</div>"
      ],
      "text/plain": [
       "      y1_statefips  y2_statefips y2_state                      y2_state_name  \\\n",
       "0                1            96       AL  AL Total Migration US and Foreign   \n",
       "1                1            97       AL              AL Total Migration US   \n",
       "2                1            98       AL         AL Total Migration Foreign   \n",
       "3                1             1       AL                    AL Non-migrants   \n",
       "4                1            13       GA                            GEORGIA   \n",
       "...            ...           ...      ...                                ...   \n",
       "2850            56            50       VT                            Vermont   \n",
       "2851            56            33       NH                      New Hampshire   \n",
       "2852            56            10       DE                           Delaware   \n",
       "2853            56            11       DC               District Of Columbia   \n",
       "2854            56            44       RI                       Rhode Island   \n",
       "\n",
       "           n1       n2       AGI  year  \n",
       "0       51971   107304   2109108  2011  \n",
       "1       50940   105006   2059642  2011  \n",
       "2        1031     2298     49465  2011  \n",
       "3     1584665  3603439  87222478  2011  \n",
       "4        9920    19470    329213  2011  \n",
       "...       ...      ...       ...   ...  \n",
       "2850       19       24       665  2014  \n",
       "2851       -1       -1        -1  2014  \n",
       "2852       -1       -1        -1  2014  \n",
       "2853       -1       -1        -1  2014  \n",
       "2854       -1       -1        -1  2014  \n",
       "\n",
       "[11320 rows x 8 columns]"
      ]
     },
     "execution_count": 9,
     "metadata": {},
     "output_type": "execute_result"
    }
   ],
   "source": [
    "###\n",
    "# StateOutFlows\n",
    "years = ['1112','1213','1314','1415']\n",
    "StateOutFlows = pd.DataFrame()\n",
    "for y in years:\n",
    "    df1 = pd.read_csv (fn(f'stateoutflow{y}.csv'))\n",
    "    df1['year'] = 2000+ int(y[:2]) \n",
    "    StateOutFlows = StateOutFlows.append(df1)\n",
    "StateOutFlows\n",
    "###\n"
   ]
  },
  {
   "cell_type": "code",
   "execution_count": 10,
   "metadata": {
    "deletable": false,
    "editable": false,
    "nbgrader": {
     "grade": true,
     "grade_id": "StateOutFlows_test",
     "locked": true,
     "points": 2,
     "solution": false
    }
   },
   "outputs": [
    {
     "name": "stdout",
     "output_type": "stream",
     "text": [
      "Found 11320 outflow records between 2011-2015.\n",
      "First few rows...\n"
     ]
    },
    {
     "data": {
      "text/html": [
       "<div>\n",
       "<style scoped>\n",
       "    .dataframe tbody tr th:only-of-type {\n",
       "        vertical-align: middle;\n",
       "    }\n",
       "\n",
       "    .dataframe tbody tr th {\n",
       "        vertical-align: top;\n",
       "    }\n",
       "\n",
       "    .dataframe thead th {\n",
       "        text-align: right;\n",
       "    }\n",
       "</style>\n",
       "<table border=\"1\" class=\"dataframe\">\n",
       "  <thead>\n",
       "    <tr style=\"text-align: right;\">\n",
       "      <th></th>\n",
       "      <th>y1_statefips</th>\n",
       "      <th>y2_statefips</th>\n",
       "      <th>y2_state</th>\n",
       "      <th>y2_state_name</th>\n",
       "      <th>n1</th>\n",
       "      <th>n2</th>\n",
       "      <th>AGI</th>\n",
       "      <th>year</th>\n",
       "    </tr>\n",
       "  </thead>\n",
       "  <tbody>\n",
       "    <tr>\n",
       "      <th>0</th>\n",
       "      <td>1</td>\n",
       "      <td>96</td>\n",
       "      <td>AL</td>\n",
       "      <td>AL Total Migration US and Foreign</td>\n",
       "      <td>51971</td>\n",
       "      <td>107304</td>\n",
       "      <td>2109108</td>\n",
       "      <td>2011</td>\n",
       "    </tr>\n",
       "    <tr>\n",
       "      <th>1</th>\n",
       "      <td>1</td>\n",
       "      <td>97</td>\n",
       "      <td>AL</td>\n",
       "      <td>AL Total Migration US</td>\n",
       "      <td>50940</td>\n",
       "      <td>105006</td>\n",
       "      <td>2059642</td>\n",
       "      <td>2011</td>\n",
       "    </tr>\n",
       "    <tr>\n",
       "      <th>2</th>\n",
       "      <td>1</td>\n",
       "      <td>98</td>\n",
       "      <td>AL</td>\n",
       "      <td>AL Total Migration Foreign</td>\n",
       "      <td>1031</td>\n",
       "      <td>2298</td>\n",
       "      <td>49465</td>\n",
       "      <td>2011</td>\n",
       "    </tr>\n",
       "    <tr>\n",
       "      <th>3</th>\n",
       "      <td>1</td>\n",
       "      <td>1</td>\n",
       "      <td>AL</td>\n",
       "      <td>AL Non-migrants</td>\n",
       "      <td>1584665</td>\n",
       "      <td>3603439</td>\n",
       "      <td>87222478</td>\n",
       "      <td>2011</td>\n",
       "    </tr>\n",
       "    <tr>\n",
       "      <th>4</th>\n",
       "      <td>1</td>\n",
       "      <td>13</td>\n",
       "      <td>GA</td>\n",
       "      <td>GEORGIA</td>\n",
       "      <td>9920</td>\n",
       "      <td>19470</td>\n",
       "      <td>329213</td>\n",
       "      <td>2011</td>\n",
       "    </tr>\n",
       "  </tbody>\n",
       "</table>\n",
       "</div>"
      ],
      "text/plain": [
       "   y1_statefips  y2_statefips y2_state                      y2_state_name  \\\n",
       "0             1            96       AL  AL Total Migration US and Foreign   \n",
       "1             1            97       AL              AL Total Migration US   \n",
       "2             1            98       AL         AL Total Migration Foreign   \n",
       "3             1             1       AL                    AL Non-migrants   \n",
       "4             1            13       GA                            GEORGIA   \n",
       "\n",
       "        n1       n2       AGI  year  \n",
       "0    51971   107304   2109108  2011  \n",
       "1    50940   105006   2059642  2011  \n",
       "2     1031     2298     49465  2011  \n",
       "3  1584665  3603439  87222478  2011  \n",
       "4     9920    19470    329213  2011  "
      ]
     },
     "metadata": {},
     "output_type": "display_data"
    },
    {
     "name": "stdout",
     "output_type": "stream",
     "text": [
      "0        False\n",
      "1        False\n",
      "2        False\n",
      "3        False\n",
      "4        False\n",
      "         ...  \n",
      "11315    False\n",
      "11316    False\n",
      "11317    False\n",
      "11318    False\n",
      "11319    False\n",
      "Length: 11320, dtype: bool\n",
      "\n",
      "(Passed!)\n"
     ]
    }
   ],
   "source": [
    "assert 'StateOutFlows' in globals ()\n",
    "assert type (StateOutFlows) is type (pd.DataFrame ())\n",
    "\n",
    "print (\"Found {} outflow records between 2011-2015.\".format (len (StateOutFlows)))\n",
    "print (\"First few rows...\")\n",
    "display (StateOutFlows.head ())\n",
    "\n",
    "StateOutFlows_soln = pd.read_csv (fn('StateOutFlows_soln.csv'))\n",
    "assert tbeq (StateOutFlows, StateOutFlows_soln)\n",
    "\n",
    "print (\"\\n(Passed!)\")"
   ]
  },
  {
   "cell_type": "markdown",
   "metadata": {
    "deletable": false,
    "editable": false,
    "nbgrader": {
     "grade": false,
     "locked": true,
     "solution": false
    }
   },
   "source": [
    "Observe that the `y2_state_name` column has some special values.\n",
    "\n",
    "For instance, suppose you want to know the _total_ number of households that filed returns within the state of Alabama. Evidently, there is a row in each year with `AL Total Migration US and Foreign` as well as an `AL Non-migrants`, the sum of which is presumably the total number of returns.\n",
    "\n",
    "**Exercise 1** (4 points). Create a new Pandas data frame named `Totals` with one row for each state and the following five (5) columns:\n",
    "\n",
    "- `st`: The two-letter state abbreviation\n",
    "- `year`: The year of the observation\n",
    "- `migrated`: The state's `Total Migration US and Foreign` value during that year\n",
    "- `stayed`: The state's `Non-migrants` value that year\n",
    "- `all`: The sum of `migrated` and `stayed` columns\n",
    "\n",
    "> _Hint:_ Before proceeding, run the cell below and observe how the strings marking total migrations appear."
   ]
  },
  {
   "cell_type": "code",
   "execution_count": 11,
   "metadata": {
    "nbgrader": {
     "grade": false,
     "grade_id": "Totals",
     "locked": false,
     "solution": true
    }
   },
   "outputs": [
    {
     "name": "stdout",
     "output_type": "stream",
     "text": [
      "=== HINT! Observe this hint before proceeding with your solution... ===\n",
      "\n",
      "['GEORGIA', 'GA Total Migration US and Foreign', 'GA Total Migration US', 'GA Total Migration Foreign', 'GA Non-migrants', 'Georgia', 'GA Total Migration-US and Foreign', 'GA Total Migration-US', 'GA Total Migration-Foreign', 'GA Total Migration-Same State']\n"
     ]
    }
   ],
   "source": [
    "print (\"=== HINT! Observe this hint before proceeding with your solution... ===\\n\")\n",
    "print (list (StateOutFlows[StateOutFlows['y2_state'] == 'GA']['y2_state_name'].unique ()))\n",
    "\n",
    "###\n",
    "df = StateOutFlows.copy()\n",
    "df['cat'] = df.apply(lambda x: (x.y2_state_name[3:]).replace('-',' '), axis = 1)\n",
    "df.loc[df['cat'] == 'Total Migration US and Foreign','group'] = 'migrated'\n",
    "df.loc[df['cat'] == 'Non migrants','group'] = 'stayed'\n",
    "# print (list (df[df['y2_state'] == 'GA']['cat'].unique ()))\n",
    "df = df.groupby(['y2_state','year','group']).agg({'n1':'sum'}).reset_index()\n",
    "df_UF = df[df['group'] == 'migrated']\n",
    "df_UF = df_UF[['y2_state','year','n1']]\n",
    "df_UF.columns = ['st','year','migrated']\n",
    "df_UF\n",
    "\n",
    "df_N = df[df['group'] == 'stayed']\n",
    "df_N = df_N[['y2_state','year','n1']]\n",
    "df_N.columns = ['st','year','stayed']\n",
    "df_N\n",
    "\n",
    "\n",
    "Totals = df_UF.merge(df_N)\n",
    "Totals['all'] = Totals['migrated'] + Totals['stayed']\n",
    "Totals.sort_values(by=['year','st'], inplace = True)\n",
    "Totals = Totals.reset_index(drop = True)\n",
    "###\n"
   ]
  },
  {
   "cell_type": "code",
   "execution_count": 12,
   "metadata": {
    "deletable": false,
    "editable": false,
    "nbgrader": {
     "grade": true,
     "grade_id": "tidy_totals",
     "locked": true,
     "points": 4,
     "solution": false
    }
   },
   "outputs": [
    {
     "name": "stdout",
     "output_type": "stream",
     "text": [
      "Some rows of Totals:\n",
      "   st  year  migrated    stayed       all\n",
      "0  AK  2011     19446    258223    277669\n",
      "1  AL  2011     51971   1584665   1636636\n",
      "2  AR  2011     33258    944195    977453\n",
      "3  AZ  2011     91135   2121852   2212987\n",
      "4  CA  2011    266673  13084530  13351203\n",
      "...\n",
      "     st  year  migrated   stayed      all\n",
      "199  VT  2014      7620   260357   267977\n",
      "200  WA  2014     62280  2615285  2677565\n",
      "201  WI  2014     36700  2252810  2289510\n",
      "202  WV  2014     14869   631644   646513\n",
      "203  WY  2014      9834   216928   226762\n",
      "\n",
      "(204 rows total.)\n",
      "0      False\n",
      "1      False\n",
      "2      False\n",
      "3      False\n",
      "4      False\n",
      "       ...  \n",
      "199    False\n",
      "200    False\n",
      "201    False\n",
      "202    False\n",
      "203    False\n",
      "Length: 204, dtype: bool\n"
     ]
    }
   ],
   "source": [
    "Totals_soln = pd.read_csv (fn('Totals_soln.csv'))\n",
    "\n",
    "assert 'Totals' in globals ()\n",
    "assert type (Totals) is type (Totals_soln)\n",
    "assert set (Totals.columns) == set (['st', 'year', 'migrated', 'stayed', 'all'])\n",
    "\n",
    "print (\"Some rows of Totals:\")\n",
    "print (Totals.head ())\n",
    "print (\"...\")\n",
    "print (Totals.tail ())\n",
    "\n",
    "print (\"\\n({} rows total.)\".format (len (Totals)))\n",
    "\n",
    "assert tbeq (Totals, Totals_soln)"
   ]
  },
  {
   "cell_type": "markdown",
   "metadata": {
    "deletable": false,
    "editable": false,
    "nbgrader": {
     "grade": false,
     "locked": true,
     "solution": false
    }
   },
   "source": [
    "**Exercise 2** (1 points). Load the FIPS codes from `fips-state-2010-census.txt`. Store them in a Pandas data frame named `FIPS`. Use the original column names from the input file: `STATE`, `STUSAB`, `STATE_NAME`, `STATENS`.\n",
    "\n",
    "> Hint: You can use Pandas's [`read_csv()`](http://pandas.pydata.org/pandas-docs/stable/generated/pandas.read_csv.html) function to read the file. However, be sure to take a look at the file before you try to load it, so you know how to parse by setting the arguments of `read_csv()` appropriately."
   ]
  },
  {
   "cell_type": "code",
   "execution_count": 13,
   "metadata": {
    "nbgrader": {
     "grade": false,
     "grade_id": "FIPS",
     "locked": false,
     "solution": true
    }
   },
   "outputs": [],
   "source": [
    "###\n",
    "FIPS = pd.read_csv(fn('fips-state-2010-census.txt'), sep = '|')\n",
    "###\n"
   ]
  },
  {
   "cell_type": "code",
   "execution_count": 14,
   "metadata": {
    "deletable": false,
    "editable": false,
    "nbgrader": {
     "grade": true,
     "grade_id": "FIPS_test",
     "locked": true,
     "points": 1,
     "solution": false
    }
   },
   "outputs": [
    {
     "name": "stdout",
     "output_type": "stream",
     "text": [
      "FIPS data frame, at location 10:\n",
      "\n",
      "STATE              13\n",
      "STUSAB             GA\n",
      "STATE_NAME    Georgia\n",
      "STATENS       1705317\n",
      "Name: 10, dtype: object\n",
      "\n",
      "(Passed!)\n"
     ]
    }
   ],
   "source": [
    "assert 'FIPS' in globals ()\n",
    "assert type (FIPS) is type (pd.DataFrame ())\n",
    "assert len (FIPS) == 57\n",
    "\n",
    "print (\"FIPS data frame, at location 10:\\n\")\n",
    "print (FIPS.loc[10])\n",
    "assert FIPS.loc[10, 'STATE_NAME'] == 'Georgia'\n",
    "\n",
    "print (\"\\n(Passed!)\")"
   ]
  },
  {
   "cell_type": "markdown",
   "metadata": {
    "deletable": false,
    "editable": false,
    "nbgrader": {
     "grade": false,
     "locked": true,
     "solution": false
    }
   },
   "source": [
    "Inspect the test code above. Notice that the FIPS code for Georgia is 13, which is located at index position 10 of the data frame (i.e., at `FIPS.loc[10]`).\n",
    "\n",
    "It would help if the index of the data frame were also the same as the FIPS state code (`STATE`). That way, you could use `FIPS.loc[13]` to get the state code for Georgia; in effect, converting the data frame into something similar to a Python dictionary.\n",
    "\n",
    "**Exercise 3** (1 points). Convert the `STATE` column into an index. To do so, use the Pandas method, [`FIPS.set_index()`](http://pandas.pydata.org/pandas-docs/stable/generated/pandas.DataFrame.set_index.html). Set the arguments to `set_index()` so that the change is made in-place."
   ]
  },
  {
   "cell_type": "code",
   "execution_count": 15,
   "metadata": {
    "nbgrader": {
     "grade": false,
     "grade_id": "set_index",
     "locked": false,
     "solution": true
    }
   },
   "outputs": [],
   "source": [
    "###\n",
    "FIPS = FIPS.set_index('STATE')\n",
    "###\n"
   ]
  },
  {
   "cell_type": "code",
   "execution_count": 16,
   "metadata": {
    "deletable": false,
    "editable": false,
    "nbgrader": {
     "grade": true,
     "grade_id": "set_index_test",
     "locked": true,
     "points": 1,
     "solution": false
    }
   },
   "outputs": [
    {
     "data": {
      "text/html": [
       "<div>\n",
       "<style scoped>\n",
       "    .dataframe tbody tr th:only-of-type {\n",
       "        vertical-align: middle;\n",
       "    }\n",
       "\n",
       "    .dataframe tbody tr th {\n",
       "        vertical-align: top;\n",
       "    }\n",
       "\n",
       "    .dataframe thead th {\n",
       "        text-align: right;\n",
       "    }\n",
       "</style>\n",
       "<table border=\"1\" class=\"dataframe\">\n",
       "  <thead>\n",
       "    <tr style=\"text-align: right;\">\n",
       "      <th></th>\n",
       "      <th>STUSAB</th>\n",
       "      <th>STATE_NAME</th>\n",
       "      <th>STATENS</th>\n",
       "    </tr>\n",
       "    <tr>\n",
       "      <th>STATE</th>\n",
       "      <th></th>\n",
       "      <th></th>\n",
       "      <th></th>\n",
       "    </tr>\n",
       "  </thead>\n",
       "  <tbody>\n",
       "    <tr>\n",
       "      <th>13</th>\n",
       "      <td>GA</td>\n",
       "      <td>Georgia</td>\n",
       "      <td>1705317</td>\n",
       "    </tr>\n",
       "    <tr>\n",
       "      <th>15</th>\n",
       "      <td>HI</td>\n",
       "      <td>Hawaii</td>\n",
       "      <td>1779782</td>\n",
       "    </tr>\n",
       "    <tr>\n",
       "      <th>16</th>\n",
       "      <td>ID</td>\n",
       "      <td>Idaho</td>\n",
       "      <td>1779783</td>\n",
       "    </tr>\n",
       "    <tr>\n",
       "      <th>17</th>\n",
       "      <td>IL</td>\n",
       "      <td>Illinois</td>\n",
       "      <td>1779784</td>\n",
       "    </tr>\n",
       "    <tr>\n",
       "      <th>18</th>\n",
       "      <td>IN</td>\n",
       "      <td>Indiana</td>\n",
       "      <td>448508</td>\n",
       "    </tr>\n",
       "  </tbody>\n",
       "</table>\n",
       "</div>"
      ],
      "text/plain": [
       "      STUSAB STATE_NAME  STATENS\n",
       "STATE                           \n",
       "13        GA    Georgia  1705317\n",
       "15        HI     Hawaii  1779782\n",
       "16        ID      Idaho  1779783\n",
       "17        IL   Illinois  1779784\n",
       "18        IN    Indiana   448508"
      ]
     },
     "metadata": {},
     "output_type": "display_data"
    },
    {
     "name": "stdout",
     "output_type": "stream",
     "text": [
      "\n",
      "(Passed!)\n"
     ]
    }
   ],
   "source": [
    "display (FIPS[10:15])\n",
    "\n",
    "assert set (FIPS.columns) == set (['STUSAB', 'STATE_NAME', 'STATENS'])\n",
    "assert FIPS.loc[13, 'STATE_NAME'] == 'Georgia'\n",
    "assert FIPS.loc[15, 'STATE_NAME'] == 'Hawaii'\n",
    "print (\"\\n(Passed!)\")"
   ]
  },
  {
   "cell_type": "markdown",
   "metadata": {
    "deletable": false,
    "editable": false,
    "nbgrader": {
     "grade": false,
     "locked": true,
     "solution": false
    }
   },
   "source": [
    "## Migration edges\n",
    "\n",
    "Using the code you've set up above, we can build a table of _migration edges_, that is, a succinct summary of the number of households that moved from one state to another, broken down by year. The following code cell does that, leaving the result in a Pandas data frame called `MigrationEdges`."
   ]
  },
  {
   "cell_type": "code",
   "execution_count": 17,
   "metadata": {
    "nbgrader": {
     "grade": false,
     "grade_id": "percentages",
     "locked": false,
     "solution": false
    }
   },
   "outputs": [
    {
     "data": {
      "text/html": [
       "<div>\n",
       "<style scoped>\n",
       "    .dataframe tbody tr th:only-of-type {\n",
       "        vertical-align: middle;\n",
       "    }\n",
       "\n",
       "    .dataframe tbody tr th {\n",
       "        vertical-align: top;\n",
       "    }\n",
       "\n",
       "    .dataframe thead th {\n",
       "        text-align: right;\n",
       "    }\n",
       "</style>\n",
       "<table border=\"1\" class=\"dataframe\">\n",
       "  <thead>\n",
       "    <tr style=\"text-align: right;\">\n",
       "      <th></th>\n",
       "      <th>to</th>\n",
       "      <th>year</th>\n",
       "      <th>moved</th>\n",
       "      <th>from</th>\n",
       "    </tr>\n",
       "  </thead>\n",
       "  <tbody>\n",
       "    <tr>\n",
       "      <th>4</th>\n",
       "      <td>GA</td>\n",
       "      <td>2011</td>\n",
       "      <td>9920</td>\n",
       "      <td>AL</td>\n",
       "    </tr>\n",
       "    <tr>\n",
       "      <th>5</th>\n",
       "      <td>FL</td>\n",
       "      <td>2011</td>\n",
       "      <td>7550</td>\n",
       "      <td>AL</td>\n",
       "    </tr>\n",
       "    <tr>\n",
       "      <th>6</th>\n",
       "      <td>TN</td>\n",
       "      <td>2011</td>\n",
       "      <td>4237</td>\n",
       "      <td>AL</td>\n",
       "    </tr>\n",
       "    <tr>\n",
       "      <th>7</th>\n",
       "      <td>TX</td>\n",
       "      <td>2011</td>\n",
       "      <td>4121</td>\n",
       "      <td>AL</td>\n",
       "    </tr>\n",
       "    <tr>\n",
       "      <th>8</th>\n",
       "      <td>MS</td>\n",
       "      <td>2011</td>\n",
       "      <td>2868</td>\n",
       "      <td>AL</td>\n",
       "    </tr>\n",
       "  </tbody>\n",
       "</table>\n",
       "</div>"
      ],
      "text/plain": [
       "   to  year  moved from\n",
       "4  GA  2011   9920   AL\n",
       "5  FL  2011   7550   AL\n",
       "6  TN  2011   4237   AL\n",
       "7  TX  2011   4121   AL\n",
       "8  MS  2011   2868   AL"
      ]
     },
     "execution_count": 17,
     "metadata": {},
     "output_type": "execute_result"
    }
   ],
   "source": [
    "Edges = StateOutFlows[['y1_statefips', 'y2_state', 'year', 'n1']]\n",
    "Edges = pd.merge (Edges, FIPS[['STUSAB']],\n",
    "                  left_on='y1_statefips', right_index=True)\n",
    "Edges.rename (columns={'STUSAB': 'from', 'y2_state': 'to', 'n1': 'moved'}, inplace=True)\n",
    "del Edges['y1_statefips']\n",
    "\n",
    "MigrationEdges = Edges[Edges['from'] != Edges['to']]\n",
    "MigrationEdges.head ()"
   ]
  },
  {
   "cell_type": "markdown",
   "metadata": {
    "deletable": false,
    "editable": false,
    "nbgrader": {
     "grade": false,
     "locked": true,
     "solution": false
    }
   },
   "source": [
    "Using the `MigrationEdges` data frame, we can (relatively) easily determine the top 5 states whose households moved to the state of Georgia over all years. Here is one way to do so:\n",
    "\n",
    "1. Filter rows keeping only those containing `'GA'` as the destination.\n",
    "2. Group the results by originating state.\n",
    "3. Sum the results over all years.\n",
    "4. Sort these results in descending order.\n",
    "5. Emit just the top 5 results."
   ]
  },
  {
   "cell_type": "code",
   "execution_count": 18,
   "metadata": {},
   "outputs": [
    {
     "data": {
      "text/plain": [
       "from\n",
       "AK     1978\n",
       "AL    34691\n",
       "AR     3321\n",
       "AZ     5808\n",
       "CA    25857\n",
       "CO     6674\n",
       "CT     4713\n",
       "DC     1794\n",
       "DE     1619\n",
       "FL    89736\n",
       "Name: moved, dtype: int64"
      ]
     },
     "execution_count": 18,
     "metadata": {},
     "output_type": "execute_result"
    }
   ],
   "source": [
    "# Steps 1 and 2\n",
    "ToGA = (MigrationEdges['to'] == 'GA')\n",
    "MovedToGA = MigrationEdges[ToGA].groupby ('from')\n",
    "\n",
    "# Step 3\n",
    "MovedToGA_counts_by_state = MovedToGA['moved'].sum ()\n",
    "MovedToGA_counts_by_state[:10]"
   ]
  },
  {
   "cell_type": "code",
   "execution_count": 19,
   "metadata": {},
   "outputs": [
    {
     "data": {
      "text/plain": [
       "from\n",
       "FL    89736\n",
       "TX    36614\n",
       "AL    34691\n",
       "NC    29759\n",
       "SC    27938\n",
       "Name: moved, dtype: int64"
      ]
     },
     "execution_count": 19,
     "metadata": {},
     "output_type": "execute_result"
    }
   ],
   "source": [
    "# Steps 4 and 5: Sort and report the top 5\n",
    "MovedToGA_counts_by_state.sort_values (ascending=False)[:5]"
   ]
  },
  {
   "cell_type": "markdown",
   "metadata": {
    "deletable": false,
    "editable": false,
    "nbgrader": {
     "grade": false,
     "locked": true,
     "solution": false
    }
   },
   "source": [
    "**Exercise 4** (2 points). Following a similar procedure, determine the top 5 states that Georgians moved to. Store the resulting names and counts in a variable named `GAExodus`."
   ]
  },
  {
   "cell_type": "code",
   "execution_count": 20,
   "metadata": {
    "nbgrader": {
     "grade": false,
     "grade_id": "GAExodus",
     "locked": false,
     "solution": true
    }
   },
   "outputs": [],
   "source": [
    "###\n",
    "\n",
    "FromGA = (MigrationEdges['from'] == 'GA')\n",
    "MovedFromGA = MigrationEdges[FromGA].groupby ('to')\n",
    "MovedFromGA_counts_by_state = MovedFromGA['moved'].sum ()\n",
    "MovedFromGA_counts_by_state[:10]\n",
    "GAExodus = MovedFromGA_counts_by_state.sort_values (ascending=False)[:5]\n",
    "###\n"
   ]
  },
  {
   "cell_type": "code",
   "execution_count": 21,
   "metadata": {
    "deletable": false,
    "editable": false,
    "nbgrader": {
     "grade": true,
     "grade_id": "GAExodus_test",
     "locked": true,
     "points": 2,
     "solution": false
    }
   },
   "outputs": [
    {
     "name": "stdout",
     "output_type": "stream",
     "text": [
      "=== The exodus from Georgia ===\n",
      "to\n",
      "FL    86178\n",
      "TX    50467\n",
      "AL    32970\n",
      "NC    30352\n",
      "SC    30141\n",
      "Name: moved, dtype: int64\n",
      "\n",
      "(Passed!)\n"
     ]
    }
   ],
   "source": [
    "assert 'GAExodus' in globals ()\n",
    "assert type (GAExodus) is type (pd.Series(dtype=int))\n",
    "assert len (GAExodus) == 5\n",
    "\n",
    "print (\"=== The exodus from Georgia ===\")\n",
    "assert set (GAExodus.index) == set (['FL', 'TX', 'AL', 'NC', 'SC'])\n",
    "assert (GAExodus.values == [86178, 50467, 32970, 30352, 30141]).all ()\n",
    "print (GAExodus)\n",
    "\n",
    "print (\"\\n(Passed!)\")"
   ]
  },
  {
   "cell_type": "markdown",
   "metadata": {
    "collapsed": true,
    "deletable": false,
    "editable": false,
    "nbgrader": {
     "grade": false,
     "locked": true,
     "solution": false
    }
   },
   "source": [
    "**Fin!** If you've reached this point and all tests above pass, you are ready to submit your solution to this problem. Don't forget to save you work prior to submitting."
   ]
  }
 ],
 "metadata": {
  "celltoolbar": "Create Assignment",
  "kernelspec": {
   "display_name": "Python 3.7",
   "language": "python",
   "name": "python3"
  },
  "language_info": {
   "codemirror_mode": {
    "name": "ipython",
    "version": 3
   },
   "file_extension": ".py",
   "mimetype": "text/x-python",
   "name": "python",
   "nbconvert_exporter": "python",
   "pygments_lexer": "ipython3",
   "version": "3.7.5"
  }
 },
 "nbformat": 4,
 "nbformat_minor": 1
}
