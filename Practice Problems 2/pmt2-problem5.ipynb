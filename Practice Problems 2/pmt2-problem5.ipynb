{
 "cells": [
  {
   "cell_type": "markdown",
   "metadata": {
    "deletable": false,
    "editable": false,
    "nbgrader": {
     "grade": false,
     "locked": true,
     "solution": false
    }
   },
   "source": [
    "**Important note**! Before you turn in this lab notebook, make sure everything runs as expected:\n",
    "\n",
    "- First, restart the kernel -- in the menubar, select Kernel → Restart.\n",
    "- Then run all cells -- in the menubar, select Cell → Run All.\n",
    "\n",
    "Make sure you fill in any place that says YOUR CODE HERE or \"YOUR ANSWER HERE.\""
   ]
  },
  {
   "cell_type": "markdown",
   "metadata": {
    "deletable": false,
    "editable": false,
    "nbgrader": {
     "grade": false,
     "locked": true,
     "solution": false
    }
   },
   "source": [
    "# Air and Ground Travel Times\n",
    "\n",
    "In this problem, you analyze travel times between cities in the United States. You will use several datasets, including a subset of data from a [Kaggle dataset](https://www.kaggle.com/giovamata/airlinedelaycauses/data).\n",
    "\n",
    "The goals of this problem are to find the average flight time between two cities and to find the roundtrip time between two cities using ground travel."
   ]
  },
  {
   "cell_type": "markdown",
   "metadata": {
    "collapsed": true,
    "deletable": false,
    "editable": false,
    "nbgrader": {
     "grade": false,
     "locked": true,
     "solution": false
    }
   },
   "source": [
    "The first set of code cells sets up the problem and loads the Kaggle dataset into a Pandas dataframe (`flighttimes`). The `flighttimes` table contains the flight departure and arrival times of over 1 million flights. There are four columns in the table: **DepTime**, which is the departure time of the flight (in Army time); **ArrTime**, which is the arrival time of the flight (in Army time); **Origin**, which is the three-letter airport code for the origin (or departure) airport; and **Dest**, which is the three-letter airport code for the destination airport.  "
   ]
  },
  {
   "cell_type": "code",
   "execution_count": 1,
   "metadata": {
    "deletable": false,
    "editable": false,
    "nbgrader": {
     "grade": false,
     "locked": true,
     "solution": false
    }
   },
   "outputs": [
    {
     "name": "stdout",
     "output_type": "stream",
     "text": [
      "'FlightInfo.csv' is ready!\n",
      "'airports.csv' is ready!\n",
      "'city_average_times_soln.csv' is ready!\n",
      "'city_ids.csv' is ready!\n",
      "'city_travel_times_soln.csv' is ready!\n",
      "'flight_times_soln.csv' is ready!\n",
      "'flights.csv' is ready!\n",
      "'ground_distances_cities.csv' is ready!\n",
      "Loading flighttimes dataset as DataFrame...\n",
      "flighttimes dataset successfully loaded as Pandas DataFrame!\n",
      "The First 5 Lines of the flighttimes Dataset: \n",
      "  DepTime ArrTime Origin Dest\n",
      "0   20:03   22:11    IAD  TPA\n",
      "1   07:54   10:02    IAD  TPA\n",
      "2   06:28   08:04    IND  BWI\n",
      "3   18:29   19:59    IND  BWI\n",
      "4   19:40   21:21    IND  JAX\n"
     ]
    }
   ],
   "source": [
    "# Load flighttimes dataset\n",
    "from cse6040utils import download_all, canonicalize_tibble, tibbles_are_equivalent\n",
    "import pandas as pd\n",
    "import numpy as np\n",
    "\n",
    "datasets = {'FlightInfo.csv': '64ac75c61dc09a3a7bb2a856a27f9584',\n",
    "            'airports.csv': '07349facc5ac5e73a34f084f1a261148',\n",
    "            'city_average_times_soln.csv': 'fccce0d257ba51d9518469e67963696b',\n",
    "            'city_ids.csv': 'b78508ea9768a41fc2bcfa3f10056a6d',\n",
    "            'city_travel_times_soln.csv': '104213b86e5082c22176d3b811cbf094',\n",
    "            'flight_times_soln.csv': '967dd2f4e66999c76889c6e159be0169',\n",
    "            'flights.csv': 'd9313f61c4689f20184bccb9e89afd6d',\n",
    "            'ground_distances_cities.csv': 'ac64e84c460ea41244d7b4f254311b1c'}\n",
    "datapaths = download_all(datasets, local_suffix='flight-paths/', url_suffix='flight-paths/')\n",
    "\n",
    "print('Loading flighttimes dataset as DataFrame...')\n",
    "# Data preprocessing on flighttimes dataset\n",
    "FlightInfo = pd.read_csv(datapaths['FlightInfo.csv'])\n",
    "d = FlightInfo['DepTime'].tolist()\n",
    "a = FlightInfo['ArrTime'].tolist()\n",
    "\n",
    "for i,j in enumerate(d):\n",
    "    if len(str(int(j))) == 3:\n",
    "        d[i] = '0{}:{}'.format(str(int(j))[0], str(int(j))[1:])\n",
    "    elif len(str(int(j))) == 4:\n",
    "        d[i] = '{}:{}'.format(str(int(j))[:2], str(int(j))[2:])\n",
    "    else:\n",
    "        d[i] = np.nan\n",
    "\n",
    "for i,j in enumerate(a):\n",
    "    if len(str(int(j))) == 3:\n",
    "        a[i] = '0{}:{}'.format(str(int(j))[0], str(int(j))[1:])\n",
    "    elif len(str(int(j))) == 4:\n",
    "        a[i] = '{}:{}'.format(str(int(j))[:2], str(int(j))[2:])\n",
    "    else:\n",
    "        a[i] = np.nan\n",
    "        \n",
    "FlightInfo['DepTime'] = d\n",
    "FlightInfo['ArrTime'] = a\n",
    "\n",
    "flighttimes = FlightInfo.dropna()\n",
    "\n",
    "print('flighttimes dataset successfully loaded as Pandas DataFrame!')\n",
    "print('The First 5 Lines of the flighttimes Dataset: ')\n",
    "print(flighttimes.head())"
   ]
  },
  {
   "cell_type": "markdown",
   "metadata": {
    "deletable": false,
    "editable": false,
    "nbgrader": {
     "grade": false,
     "locked": true,
     "solution": false
    }
   },
   "source": [
    "To find the average time between unique flights, we must first compute the time between each of the flights in the data. \n",
    "\n",
    "**Exercise 0** (2 points). Create a dataframe, `flight_times`, that includes the time in minutes between the `ArrTime` and `DepTime` of each flight in the `flighttimes` dataset. The final result should have three columns:\n",
    "\n",
    "* **`'Origin'`**: the origin airport three-letter code;\n",
    "* **`'Dest'`**: the destination airport three-letter code; and\n",
    "* **`'Time'`**: the time between `ArrTime` and `DepTime` in minutes. \n",
    "\n",
    "Note that some of the **Time** values may be negative, or even zero. In such cases, the most likely explanation is a \"wraparound\" effect, where `ArrTime` appears to occur before `DepTime`. **For simplicity, any such negative (or even any zero) values should be removed from the final dataFrame.**"
   ]
  },
  {
   "cell_type": "code",
   "execution_count": 2,
   "metadata": {
    "nbgrader": {
     "grade": false,
     "grade_id": "flight_times_response",
     "locked": false,
     "solution": true
    },
    "scrolled": true
   },
   "outputs": [
    {
     "name": "stderr",
     "output_type": "stream",
     "text": [
      "/usr/lib/python3.7/site-packages/pandas/core/indexing.py:1596: SettingWithCopyWarning: \n",
      "A value is trying to be set on a copy of a slice from a DataFrame.\n",
      "Try using .loc[row_indexer,col_indexer] = value instead\n",
      "\n",
      "See the caveats in the documentation: https://pandas.pydata.org/pandas-docs/stable/user_guide/indexing.html#returning-a-view-versus-a-copy\n",
      "  self.obj[key] = _infer_fill_value(value)\n",
      "/usr/lib/python3.7/site-packages/pandas/core/indexing.py:1745: SettingWithCopyWarning: \n",
      "A value is trying to be set on a copy of a slice from a DataFrame.\n",
      "Try using .loc[row_indexer,col_indexer] = value instead\n",
      "\n",
      "See the caveats in the documentation: https://pandas.pydata.org/pandas-docs/stable/user_guide/indexing.html#returning-a-view-versus-a-copy\n",
      "  isetter(ilocs[0], value)\n",
      "/usr/lib/python3.7/site-packages/pandas/core/frame.py:4169: SettingWithCopyWarning: \n",
      "A value is trying to be set on a copy of a slice from a DataFrame\n",
      "\n",
      "See the caveats in the documentation: https://pandas.pydata.org/pandas-docs/stable/user_guide/indexing.html#returning-a-view-versus-a-copy\n",
      "  errors=errors,\n"
     ]
    }
   ],
   "source": [
    "###\n",
    "\n",
    "flight_times = flighttimes[['Origin', 'Dest']]\n",
    "flight_times.loc[:,'Time'] = flighttimes['ArrTime'].str[:2].astype(int)*60+flighttimes['ArrTime'].str[3:].astype(int) - \\\n",
    "                        (flighttimes['DepTime'].str[:2].astype(int)*60+flighttimes['DepTime'].str[3:].astype(int))\n",
    "\n",
    "flight_times.drop(flight_times[flight_times['Time'] <= 0].index, inplace = True)\n",
    "\n",
    "###\n"
   ]
  },
  {
   "cell_type": "code",
   "execution_count": 3,
   "metadata": {
    "deletable": false,
    "editable": false,
    "nbgrader": {
     "grade": true,
     "grade_id": "flight_times",
     "locked": true,
     "points": "2",
     "solution": false
    }
   },
   "outputs": [
    {
     "name": "stdout",
     "output_type": "stream",
     "text": [
      "===== First 5 Lines of Your Solution =====\n",
      "  Origin Dest  Time\n",
      "0    IAD  TPA   128\n",
      "1    IAD  TPA   128\n",
      "2    IND  BWI    96\n",
      "3    IND  BWI    90\n",
      "4    IND  JAX   101\n",
      "\n",
      "\n",
      "===== First 5 Lines of Instructor Solution =====\n",
      "  Origin Dest  Time\n",
      "0    IAD  TPA   128\n",
      "1    IAD  TPA   128\n",
      "2    IND  BWI    96\n",
      "3    IND  BWI    90\n",
      "4    IND  JAX   101\n",
      "\n",
      " Checking if DataFrames Match...\n",
      "\n",
      "(Passed!)\n"
     ]
    }
   ],
   "source": [
    "## TEST CODE EXERCISE 0 - flight_times\n",
    "\n",
    "flight_times_soln = pd.read_csv(datapaths['flight_times_soln.csv'])\n",
    "\n",
    "print('===== First 5 Lines of Your Solution =====')\n",
    "print(flight_times.head())\n",
    "\n",
    "print('\\n')\n",
    "print('===== First 5 Lines of Instructor Solution =====')\n",
    "print(flight_times_soln.head())\n",
    "\n",
    "print('\\n Checking if DataFrames Match...')\n",
    "assert tibbles_are_equivalent(flight_times, flight_times_soln) == True, print('\\n DataFrames do not match')\n",
    "print(\"\\n(Passed!)\")"
   ]
  },
  {
   "cell_type": "markdown",
   "metadata": {
    "deletable": false,
    "editable": false,
    "nbgrader": {
     "grade": false,
     "locked": true,
     "solution": false
    }
   },
   "source": [
    "For the next part of this problem, we will load in a dataset containing the city names corresponding to each of the airports."
   ]
  },
  {
   "cell_type": "code",
   "execution_count": 4,
   "metadata": {
    "deletable": false,
    "editable": false,
    "nbgrader": {
     "grade": false,
     "locked": true,
     "solution": false
    }
   },
   "outputs": [
    {
     "name": "stdout",
     "output_type": "stream",
     "text": [
      "  Code                                 Name         City State\n",
      "0  ABE  Lehigh Valley International Airport    Allentown    PA\n",
      "1  ABI             Abilene Regional Airport      Abilene    TX\n",
      "2  ABQ    Albuquerque International Sunport  Albuquerque    NM\n",
      "3  ABR            Aberdeen Regional Airport     Aberdeen    SD\n",
      "4  ABY   Southwest Georgia Regional Airport       Albany    GA\n"
     ]
    }
   ],
   "source": [
    "# Load airports dataset into Pandas DataFrame\n",
    "airports = pd.read_csv(datapaths['airports.csv'])\n",
    "print(airports.head())"
   ]
  },
  {
   "cell_type": "markdown",
   "metadata": {
    "deletable": false,
    "editable": false,
    "nbgrader": {
     "grade": false,
     "locked": true,
     "solution": false
    }
   },
   "source": [
    "**Exercise 1** (2 points). Replace the airport codes from execise 0 with their city and state using the airports dataset. Store the result in a DataFrame named `city_travel_times`. The final result should have three columns:\n",
    "\n",
    "* **`'origin_city'`**: the origin city of the flight, in the form \"City, State\";\n",
    "* **`'destination_city'`**: the destination city of the flight, in the form \"City, State\";\n",
    "* and **`'Time'`**: same column and values as the previous exercise, i.e., the time between `'ArrTime'` and `'DepTime'` in minutes.\n",
    "\n",
    "This final dataframe should only have the rows in which the origin and destination are present in your `flight_times` dataframe as well as the `airports` dataframe.\n",
    "\n",
    "Note that some airports have the same city and state. For the purposes of this problem, you do NOT have to differentiate between those airports. For example, `IAD` and `DCA` will both have the same `origin_city`, `\"Washington, DC\"`. "
   ]
  },
  {
   "cell_type": "code",
   "execution_count": 5,
   "metadata": {
    "nbgrader": {
     "grade": false,
     "grade_id": "city_travel_times",
     "locked": false,
     "solution": true
    }
   },
   "outputs": [],
   "source": [
    "###\n",
    "airportsc = airports.copy()\n",
    "airportsc['City'] = airportsc['City'] +', '+ airportsc['State']\n",
    "flight_timesc = flight_times.copy()\n",
    "flight_timesc = flight_timesc.merge(airportsc[['Code','City']], left_on = 'Origin', right_on='Code')\n",
    "flight_timesc = flight_timesc.rename(columns = {'City':'origin_city'})\n",
    "\n",
    "flight_timesc = flight_timesc.merge(airportsc[['Code','City']], left_on = 'Dest', right_on='Code')\n",
    "flight_timesc = flight_timesc.rename(columns = {'City':'destination_city'})\n",
    "city_travel_times = flight_timesc[['origin_city','destination_city','Time']]\n",
    "###\n"
   ]
  },
  {
   "cell_type": "code",
   "execution_count": 6,
   "metadata": {
    "deletable": false,
    "editable": false,
    "nbgrader": {
     "grade": true,
     "grade_id": "city_travel_times_soln",
     "locked": true,
     "points": "2",
     "solution": false
    }
   },
   "outputs": [
    {
     "name": "stdout",
     "output_type": "stream",
     "text": [
      "===== First 5 Lines of Your Solution =====\n",
      "      origin_city destination_city  Time\n",
      "0  Washington, DC        Tampa, FL   128\n",
      "1  Washington, DC        Tampa, FL   128\n",
      "2  Washington, DC        Tampa, FL   126\n",
      "3  Washington, DC        Tampa, FL   137\n",
      "4  Washington, DC        Tampa, FL   133\n",
      "\n",
      "\n",
      "====== First 5 Lines of Instructor Solution =====\n",
      "      origin_city destination_city  Time\n",
      "0  Washington, DC        Tampa, FL   128\n",
      "1  Washington, DC        Tampa, FL   128\n",
      "2  Washington, DC        Tampa, FL   126\n",
      "3  Washington, DC        Tampa, FL   137\n",
      "4  Washington, DC        Tampa, FL   133\n",
      "\n",
      " Checking if DataFrames Match...\n",
      "\n",
      "(Passed!)\n"
     ]
    }
   ],
   "source": [
    "## TEST CODE EXERCISE 1 - city_travel_times\n",
    "city_travel_times_soln = pd.read_csv(datapaths['city_travel_times_soln.csv'])\n",
    "\n",
    "print('===== First 5 Lines of Your Solution =====')\n",
    "print(city_travel_times.head())\n",
    "\n",
    "print('\\n')\n",
    "print('====== First 5 Lines of Instructor Solution =====')\n",
    "print(city_travel_times_soln.head())\n",
    "\n",
    "print('\\n Checking if DataFrames Match...')\n",
    "assert tibbles_are_equivalent(city_travel_times, city_travel_times_soln) == True, print(\"\\n DataFrames do not match\")\n",
    "print(\"\\n(Passed!)\")"
   ]
  },
  {
   "cell_type": "markdown",
   "metadata": {
    "deletable": false,
    "editable": false,
    "nbgrader": {
     "grade": false,
     "locked": true,
     "solution": false
    }
   },
   "source": [
    "Finally, we will get the average flight time for each unique city to city flight.\n",
    "\n",
    "**Exercise 2** (2 points). Create a new DataFrame, `city_average_times`, which lists the average flight time of each unique city to city flight in the `flighttimes` dataset. The final result should be a DataFrame with three columns:  **origin_city**: the origin city of the flight, in the form \"City, State\" ; **destination_city**: the destination city of the flight, in the form \"City, State\" ; and **average_time**: the average flight time between the origin and destination city. Round the results to the nearest two decimal places."
   ]
  },
  {
   "cell_type": "code",
   "execution_count": 7,
   "metadata": {
    "nbgrader": {
     "grade": false,
     "grade_id": "city_average_times_response",
     "locked": false,
     "solution": true
    }
   },
   "outputs": [],
   "source": [
    "###\n",
    "\n",
    "city_average_times = city_travel_times.groupby(['origin_city','destination_city']).mean().reset_index()\n",
    "\n",
    "city_average_times = city_average_times.rename(columns = {'Time':'average_time'})\n",
    "###\n"
   ]
  },
  {
   "cell_type": "code",
   "execution_count": 8,
   "metadata": {
    "deletable": false,
    "editable": false,
    "nbgrader": {
     "grade": true,
     "grade_id": "city_average_times",
     "locked": true,
     "points": "2",
     "solution": false
    }
   },
   "outputs": [
    {
     "name": "stdout",
     "output_type": "stream",
     "text": [
      "===== First 5 Lines of Your Solution =====\n",
      "       origin_city destination_city  average_time\n",
      "0      Abilene, TX       Dallas, TX     59.844340\n",
      "1  Adak Island, AK    Anchorage, AK    220.043478\n",
      "2    Aguadilla, PR     New York, NY    200.634146\n",
      "3    Aguadilla, PR       Newark, NJ    220.542857\n",
      "4    Aguadilla, PR      Orlando, FL    143.209302\n",
      "\n",
      "\n",
      "====== First 5 Lines of Instructor Solution =====\n",
      "       origin_city destination_city  average_time\n",
      "0      Abilene, TX       Dallas, TX         59.84\n",
      "1  Adak Island, AK    Anchorage, AK        220.04\n",
      "2    Aguadilla, PR     New York, NY        200.63\n",
      "3    Aguadilla, PR       Newark, NJ        220.54\n",
      "4    Aguadilla, PR      Orlando, FL        143.21\n",
      "\n",
      " Checking if DataFrames Match...\n",
      "\n",
      "(Passed!)\n"
     ]
    }
   ],
   "source": [
    "## TEST CODE EXERCISE 2 - city_average_times\n",
    "city_average_times_soln = pd.read_csv(datapaths['city_average_times_soln.csv'])\n",
    "\n",
    "print('===== First 5 Lines of Your Solution =====')\n",
    "print(city_average_times.head())\n",
    "\n",
    "print('\\n')\n",
    "print('====== First 5 Lines of Instructor Solution =====')\n",
    "print(city_average_times_soln.head())\n",
    "\n",
    "print('\\n Checking if DataFrames Match...')\n",
    "assert city_average_times.shape == city_average_times_soln.shape, print(\"Dimensions of your solution do not match the instructor's solution\")\n",
    "soln = pd.merge(city_average_times, city_average_times_soln, how=\"right\", on=[\"origin_city\", \"destination_city\"])\n",
    "soln_time = soln[\"average_time_y\"] - soln[\"average_time_x\"]\n",
    "tolerance = 1\n",
    "assert max(abs(soln_time)) <=tolerance, print(\"Your average time is beyond the tolerances provided\")\n",
    "print(\"\\n(Passed!)\")"
   ]
  },
  {
   "cell_type": "markdown",
   "metadata": {
    "deletable": false,
    "editable": false,
    "nbgrader": {
     "grade": false,
     "locked": true,
     "solution": false
    }
   },
   "source": [
    "Next, let's look at ground travel times. In the test cell below, we generate a DataFrame, `ground_distances_cities`, that shows the average travel times (in hours) from one city to another if you did not take a plane. Note that the travel time from `A -> B` may not be the same as the travel time from `B -> A` because of traffic/waiting for trains/etc. \n",
    "\n",
    "(Also note: these are not true ground travel times. They are made up based on the distances between cities in terms of latitude/longitude. If you use these times to plan your next road trip, you may be in for a rude surprise!)"
   ]
  },
  {
   "cell_type": "code",
   "execution_count": 9,
   "metadata": {
    "deletable": false,
    "editable": false,
    "nbgrader": {
     "grade": false,
     "locked": true,
     "solution": false
    }
   },
   "outputs": [
    {
     "name": "stdout",
     "output_type": "stream",
     "text": [
      "  Starting_City      Ending_City  Average_Travel_Time\n",
      "0   Abilene, TX  Adak Island, AK                80.39\n",
      "1   Abilene, TX    Aguadilla, PR                43.40\n",
      "2   Abilene, TX       Albany, GA                19.51\n",
      "3   Abilene, TX       Albany, NY                29.87\n",
      "4   Abilene, TX  Albuquerque, NM                12.41\n"
     ]
    }
   ],
   "source": [
    "ground_distances_cities = pd.read_csv(datapaths['ground_distances_cities.csv'])\n",
    "ground_distances_cities[\"Average_Travel_Time\"] = ground_distances_cities[\"Average_Travel_Time\"].round(2)\n",
    "print(ground_distances_cities.head())"
   ]
  },
  {
   "cell_type": "markdown",
   "metadata": {
    "deletable": false,
    "editable": false,
    "nbgrader": {
     "grade": false,
     "locked": true,
     "solution": false
    }
   },
   "source": [
    "Next, we will assign each city a unique id and make a new DataFrame that shows the starting and ending cities in terms of their ids:"
   ]
  },
  {
   "cell_type": "code",
   "execution_count": 10,
   "metadata": {
    "deletable": false,
    "editable": false,
    "nbgrader": {
     "grade": false,
     "locked": true,
     "solution": false
    }
   },
   "outputs": [
    {
     "name": "stdout",
     "output_type": "stream",
     "text": [
      "The First 5 Lines of the city_ids Dataset: \n",
      "                 id\n",
      "City               \n",
      "Abilene, TX       0\n",
      "Adak Island, AK   1\n",
      "Aguadilla, PR     2\n",
      "Albany, GA        3\n",
      "Albany, NY        4\n"
     ]
    }
   ],
   "source": [
    "# Read city ids\n",
    "city_ids = pd.read_csv(datapaths['city_ids.csv'], index_col=\"City\")\n",
    "city_codes_dict = city_ids.to_dict()[\"id\"]\n",
    "print('The First 5 Lines of the city_ids Dataset: ')\n",
    "print(city_ids.head())"
   ]
  },
  {
   "cell_type": "markdown",
   "metadata": {
    "deletable": false,
    "editable": false,
    "nbgrader": {
     "grade": false,
     "locked": true,
     "solution": false
    }
   },
   "source": [
    "The name of the new DataFrame being generated is `gnd_travel_ids`. The first five lines of the DataFrame can be seen by running the code cell below:"
   ]
  },
  {
   "cell_type": "code",
   "execution_count": 11,
   "metadata": {
    "deletable": false,
    "editable": false,
    "nbgrader": {
     "grade": false,
     "locked": true,
     "solution": false
    }
   },
   "outputs": [
    {
     "name": "stdout",
     "output_type": "stream",
     "text": [
      "The First 5 Lines of gnd_travel_ids: \n",
      "   Starting_City  Ending_City  Average_Travel_Time\n",
      "0              0            1                80.39\n",
      "1              0            2                43.40\n",
      "2              0            3                19.51\n",
      "3              0            4                29.87\n",
      "4              0            5                12.41\n"
     ]
    }
   ],
   "source": [
    "# Generate gnd_travel_ids DataFrame\n",
    "\n",
    "gnd_travel_ids = ground_distances_cities.copy()\n",
    "gnd_travel_ids['Starting_City'] = gnd_travel_ids['Starting_City'].map(city_codes_dict)\n",
    "gnd_travel_ids['Ending_City'] = gnd_travel_ids['Ending_City'].map(city_codes_dict)\n",
    "print('The First 5 Lines of gnd_travel_ids: ')\n",
    "print(gnd_travel_ids.head())"
   ]
  },
  {
   "cell_type": "markdown",
   "metadata": {
    "deletable": false,
    "editable": false,
    "nbgrader": {
     "grade": false,
     "locked": true,
     "solution": false
    }
   },
   "source": [
    "Now, we will put the values in the `gnd_travel_ids` DataFrame into a square table, with equal number of rows and columns which represent the origins and destinations. \n",
    "\n",
    "**Exercise 3** (1 point). Create a **pandas `DataFrame`**, named `travel_matrix`, where each element in `travel_matrix`, `[origin_id, destination_id]`, is the average_travel_time for that origin_id, destination_id combination. For instance, the value for `travel_matrix[0][1]` should be 80.387829. It should be noted that there are 293 distinct city ids (ranging from 0 to 292). \n",
    "\n",
    "(Note: The function `pivot_table()` in pandas may be helpful here. Also, the diagonal entries in the table represent the same origin and destination. Such entries must be equal to zero since the direct travel time from the origin to itself is 0. In the square table, any missing values must be filled by zero as well.)"
   ]
  },
  {
   "cell_type": "code",
   "execution_count": 12,
   "metadata": {
    "nbgrader": {
     "grade": false,
     "grade_id": "travel_matrix_1_response",
     "locked": false,
     "solution": true
    }
   },
   "outputs": [],
   "source": [
    "###\n",
    "gnd_travel_idsc = gnd_travel_ids.copy()\n",
    "# gnd_travel_idsc[gnd_travel_idsc['Starting_City'] ==  gnd_travel_idsc['Ending_City'] ] = 0\n",
    "travel_matrix = pd.pivot_table(gnd_travel_idsc, values = 'Average_Travel_Time',\n",
    "                              index = ['Starting_City'],\n",
    "                               columns = ['Ending_City']\n",
    "                              )\n",
    "travel_matrix.fillna(0, inplace = True)\n",
    "\n",
    "###\n"
   ]
  },
  {
   "cell_type": "code",
   "execution_count": 13,
   "metadata": {
    "deletable": false,
    "editable": false,
    "nbgrader": {
     "grade": true,
     "grade_id": "travel_matrix_1",
     "locked": true,
     "points": "1",
     "solution": false
    }
   },
   "outputs": [
    {
     "name": "stdout",
     "output_type": "stream",
     "text": [
      "Test 1: Are all Diagonals 0?\n",
      "Yes, all Diagonals are 0! \n",
      "\n",
      "Test 2: Are the dimensions correct?\n",
      "Yes, dimensions are correct! \n",
      "\n",
      "Test 3: Checking if Select Values are the Same...\n",
      "Great! Select Values are the Same!\n",
      "\n",
      "(Passed!)\n"
     ]
    }
   ],
   "source": [
    "## TEST CODE PART 1, EXERCISE 3 - travel_matrix_1\n",
    "\n",
    "assert type(travel_matrix) is pd.DataFrame, \"`type(travel_matrix) == {}` instead of `pd.DataFrame`.\".format(type(travel_matrix))\n",
    "\n",
    "# Test 1 - All Diagonals in the Matrix are 0\n",
    "print('Test 1: Are all Diagonals 0?')\n",
    "travel_mat = np.array(travel_matrix)\n",
    "assert np.all(np.diag(travel_mat) == 0) == True\n",
    "print('Yes, all Diagonals are 0! \\n')\n",
    "# Test 2 - Dimensions\n",
    "print('Test 2: Are the dimensions correct?')\n",
    "row, col = travel_matrix.shape\n",
    "assert row == col == 293\n",
    "print('Yes, dimensions are correct! \\n')\n",
    "\n",
    "\n",
    "# Test 3 - Select Values in Matrix are the same\n",
    "tol = 1\n",
    "print('Test 3: Checking if Select Values are the Same...')\n",
    "assert abs(travel_matrix[1][0] - 80.38) < tol\n",
    "assert abs(travel_matrix[0][1] - 82.38) < tol\n",
    "assert abs(travel_matrix[30][50] - 24.47) < tol\n",
    "assert abs(travel_matrix[50][30] - 29.47) < tol\n",
    "assert abs(travel_matrix[260][118] - 96.85) < tol\n",
    "assert abs(travel_matrix[118][260] - 95.85) < tol\n",
    "assert abs(travel_matrix[3][292] - 36.43) < tol\n",
    "assert abs(travel_matrix[292][3] - 32.43) < tol\n",
    "assert abs(travel_matrix[279][256] - 15.82) < tol\n",
    "assert abs(travel_matrix[256][279] - 18.82) < tol\n",
    "print('Great! Select Values are the Same!')\n",
    "\n",
    "print('\\n(Passed!)')"
   ]
  },
  {
   "cell_type": "markdown",
   "metadata": {
    "deletable": false,
    "editable": false,
    "nbgrader": {
     "grade": false,
     "locked": true,
     "solution": false
    }
   },
   "source": [
    "**Exercise 4** (3 points) Now write some code to compute a **2-D Numpy array** named `round_trip`, which contains the amount of time taken to complete a round trip between all possible origins and destinations as appear in the table `gnd_travel_ids`. Your table should be a square matrix. Any entry `(i, j)` in the matrix must contain the total time to go from `i` to `j` and back to `i`."
   ]
  },
  {
   "cell_type": "code",
   "execution_count": 14,
   "metadata": {
    "collapsed": true,
    "nbgrader": {
     "grade": false,
     "grade_id": "travel_matrix_2_response",
     "locked": false,
     "solution": true
    }
   },
   "outputs": [],
   "source": [
    "###\n",
    "\n",
    "one = np.array(travel_matrix.copy())\n",
    "round_trip = one + one.T\n",
    "\n",
    "###\n"
   ]
  },
  {
   "cell_type": "code",
   "execution_count": 15,
   "metadata": {
    "deletable": false,
    "editable": false,
    "nbgrader": {
     "grade": true,
     "grade_id": "travel_matrix_2",
     "locked": true,
     "points": "3",
     "solution": false
    }
   },
   "outputs": [
    {
     "name": "stdout",
     "output_type": "stream",
     "text": [
      "\n",
      "(Passed!)\n"
     ]
    }
   ],
   "source": [
    "## TEST CODE PART 2 OF 2, EXERCISE 4 - travel_matrix_2\n",
    "import random\n",
    "n_test = 1000\n",
    "for _ in range(n_test):\n",
    "    origin = random.randint(0, 292)\n",
    "    dest = random.randint(0, 292)\n",
    "    round_travel_time = round_trip[origin, dest]\n",
    "    o1 = gnd_travel_ids[\"Starting_City\"] == origin\n",
    "    d1 = gnd_travel_ids[\"Ending_City\"] == dest\n",
    "    d2 = gnd_travel_ids[\"Starting_City\"] == dest\n",
    "    o2 = gnd_travel_ids[\"Ending_City\"] == origin\n",
    "    if origin != dest:\n",
    "        time = gnd_travel_ids[o1 & d1][\"Average_Travel_Time\"].values[0] + gnd_travel_ids[o2 & d2][\"Average_Travel_Time\"].values[0]\n",
    "        assert time == round_travel_time\n",
    "\n",
    "print('\\n(Passed!)')"
   ]
  },
  {
   "cell_type": "markdown",
   "metadata": {
    "deletable": false,
    "editable": false,
    "nbgrader": {
     "grade": false,
     "locked": true,
     "solution": false
    }
   },
   "source": [
    "**Fin!** You've reached the end of this problem. Don't forget to restart the\n",
    "kernel and run the entire notebook from top-to-bottom to make sure you did\n",
    "everything correctly. If that is working, try submitting this problem. (Recall\n",
    "that you *must* submit and pass the autograder to get credit for your work!)"
   ]
  }
 ],
 "metadata": {
  "celltoolbar": "Create Assignment",
  "kernel_info": {
   "name": "python3"
  },
  "kernelspec": {
   "display_name": "Python 3.7",
   "language": "python",
   "name": "python37"
  },
  "language_info": {
   "codemirror_mode": {
    "name": "ipython",
    "version": 3
   },
   "file_extension": ".py",
   "mimetype": "text/x-python",
   "name": "python",
   "nbconvert_exporter": "python",
   "pygments_lexer": "ipython3",
   "version": "3.7.5"
  },
  "nteract": {
   "version": "0.11.9"
  }
 },
 "nbformat": 4,
 "nbformat_minor": 2
}
