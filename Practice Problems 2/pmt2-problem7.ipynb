{
 "cells": [
  {
   "cell_type": "markdown",
   "metadata": {
    "deletable": false,
    "editable": false,
    "nbgrader": {
     "grade": false,
     "locked": true,
     "solution": false
    }
   },
   "source": [
    "# Tensor computations\n",
    "\n",
    "This problem is about _tensors_, which generalize matrices from linear algebra. It tests whether you can read an abstract description of a computational problem and translate it into an efficient implementation.\n",
    "\n",
    "In particular, you need to implement a computational operation of the form,\n",
    "\n",
    "$$\n",
    "  A(i, r) = \\sum_{j=0}^{N_1-1} \\sum_{k=0}^{N_2-1} \\sum_{l=0}^{N_3-1} T(i, j, k, l) \\cdot B(j, r) \\cdot C(k, r) \\cdot D(l, r).\n",
    "$$\n",
    "\n",
    "Observe that it involves not only matrices ($A$, $B$, $C$, and $D$), but a _tensor_, $T$, which in this case has 4 \"modes\" (i.e., indices or axes) rather than just 2 as in the case of matrices. While that may, at first glance, seem innocuous enough, here is the catch: we will give you one implementation, and your goal is to create another one that is faster. You will get some points for correctness on a small dataset, and additional points for correctness and speed on a larger dataset.\n",
    "\n",
    "We believe most of you will find this problem to be **hard**. So plan accordingly. The problem has two parts, or \"exercises.\"\n",
    "\n",
    "* Exercise 0 is about the input dataset and contains just one warm-up exercise worth 2 points.\n",
    "* Exercise 1 is about implementing the above operation, with up to 3 points for correctness and 5 points for speed."
   ]
  },
  {
   "cell_type": "markdown",
   "metadata": {
    "deletable": false,
    "editable": false,
    "nbgrader": {
     "grade": false,
     "locked": true,
     "solution": false
    }
   },
   "source": [
    "## Exercise 0 (2 points): The Blog Authorship Corpus Dataset\n",
    "\n",
    "In this problem, we are providing a random subset of blogs taken from the [Blog Authorship Corpus](http://u.cs.biu.ac.il/~koppel/BlogCorpus.htm), which in turn were taken from [blogger.com](http://blogger.com) in 2004.\n",
    "\n",
    "Each **blog** consists of several **posts**. Each post consists of **words.** For each post, we went ahead and created \"word co-occurrence pairs\" based on whatever words appear close to one another within the post. Lastly, the corpus has several pieces of metadata, namely, the author's self-reported gender, age, job sector, and [Western zodiac sign](http://astrostyle.com/zodiac-signs/).\n",
    "\n",
    "Let's use Pandas to read in these data, which are stored in comma-separated value (CSV) files. To do that, run the following code cell."
   ]
  },
  {
   "cell_type": "code",
   "execution_count": 1,
   "metadata": {
    "deletable": false,
    "editable": false,
    "nbgrader": {
     "grade": false,
     "locked": true,
     "solution": false
    }
   },
   "outputs": [
    {
     "name": "stdout",
     "output_type": "stream",
     "text": [
      "Reading ./resource/asnlib/publicdata/blogs/bloggers-25x2.csv...\n",
      "Reading ./resource/asnlib/publicdata/blogs/posts-25x2.csv...\n",
      "Reading ./resource/asnlib/publicdata/blogs/occur-25x2.csv...\n",
      "Reading ./resource/asnlib/publicdata/blogs/tensor_coords_df_soln-25x2.csv...\n",
      "==> Total loading time: ~ 0.2 seconds.\n"
     ]
    }
   ],
   "source": [
    "from IPython.display import display\n",
    "import pandas as pd\n",
    "\n",
    "def get_timer(): # Used in some timing experiments\n",
    "    from time import perf_counter\n",
    "    return perf_counter()\n",
    "\n",
    "def read_blogs(tag, verbose=True):\n",
    "    def msg(f):\n",
    "        if verbose: print(\"Reading {}...\".format(f))\n",
    "    \n",
    "    from os.path import isdir, isfile\n",
    "    \n",
    "    ROOT = './resource/asnlib/publicdata/blogs/' if isdir('.voc') else './publicdata/blogs/'\n",
    "    BLOGGERS_FILE = '{}bloggers{}.csv'.format(ROOT, tag)\n",
    "    POSTS_FILE = '{}posts{}.csv'.format(ROOT, tag)\n",
    "    OCCUR_FILE = '{}occur{}.csv'.format(ROOT, tag)\n",
    "    TENSOR_COORDS_DF_SOLN_FILE = '{}tensor_coords_df_soln{}.csv'.format(ROOT, tag)\n",
    "\n",
    "    t_read__ = get_timer()\n",
    "    msg(BLOGGERS_FILE)\n",
    "    bloggers_df = pd.read_csv(BLOGGERS_FILE)\n",
    "    msg(POSTS_FILE)\n",
    "    posts_df = pd.read_csv(POSTS_FILE)\n",
    "    msg(OCCUR_FILE)\n",
    "    occur_df = pd.read_csv(OCCUR_FILE)    \n",
    "    from os.path import isfile\n",
    "    if isfile(TENSOR_COORDS_DF_SOLN_FILE):\n",
    "        msg(TENSOR_COORDS_DF_SOLN_FILE)\n",
    "        soln_df = pd.read_csv(TENSOR_COORDS_DF_SOLN_FILE)\n",
    "    else:\n",
    "        soln_df = None\n",
    "    t_read__ = get_timer() - t_read__\n",
    "    if verbose:\n",
    "        print(\"==> Total loading time: ~ {:.1f} seconds.\".format(t_read__))\n",
    "\n",
    "    return bloggers_df, posts_df, occur_df, soln_df\n",
    "\n",
    "# Read in a small sample dataset:\n",
    "bloggers_df, posts_df, occur_df, soln_df = read_blogs('-25x2')"
   ]
  },
  {
   "cell_type": "markdown",
   "metadata": {
    "deletable": false,
    "editable": false,
    "nbgrader": {
     "grade": false,
     "locked": true,
     "solution": false
    }
   },
   "source": [
    "The cell produces three notable dataframes: `bloggers_df`, `posts_df`, and `occur_df`. Let's quickly look at each one in turn.\n",
    "\n",
    "**Bloggers (`bloggers_df`).** The first dataframe consists of bloggers:"
   ]
  },
  {
   "cell_type": "code",
   "execution_count": 2,
   "metadata": {
    "deletable": false,
    "editable": false,
    "nbgrader": {
     "grade": false,
     "locked": true,
     "solution": false
    }
   },
   "outputs": [
    {
     "name": "stdout",
     "output_type": "stream",
     "text": [
      "There are 25 bloggers.\n"
     ]
    },
    {
     "data": {
      "text/html": [
       "<div>\n",
       "<style scoped>\n",
       "    .dataframe tbody tr th:only-of-type {\n",
       "        vertical-align: middle;\n",
       "    }\n",
       "\n",
       "    .dataframe tbody tr th {\n",
       "        vertical-align: top;\n",
       "    }\n",
       "\n",
       "    .dataframe thead th {\n",
       "        text-align: right;\n",
       "    }\n",
       "</style>\n",
       "<table border=\"1\" class=\"dataframe\">\n",
       "  <thead>\n",
       "    <tr style=\"text-align: right;\">\n",
       "      <th></th>\n",
       "      <th>blog_id</th>\n",
       "      <th>age</th>\n",
       "      <th>gender</th>\n",
       "      <th>sector</th>\n",
       "      <th>zodiac</th>\n",
       "    </tr>\n",
       "  </thead>\n",
       "  <tbody>\n",
       "    <tr>\n",
       "      <th>0</th>\n",
       "      <td>0</td>\n",
       "      <td>17</td>\n",
       "      <td>female</td>\n",
       "      <td>Student</td>\n",
       "      <td>Cancer</td>\n",
       "    </tr>\n",
       "    <tr>\n",
       "      <th>1</th>\n",
       "      <td>1</td>\n",
       "      <td>23</td>\n",
       "      <td>male</td>\n",
       "      <td>Student</td>\n",
       "      <td>Gemini</td>\n",
       "    </tr>\n",
       "    <tr>\n",
       "      <th>2</th>\n",
       "      <td>2</td>\n",
       "      <td>26</td>\n",
       "      <td>male</td>\n",
       "      <td>Technology</td>\n",
       "      <td>Libra</td>\n",
       "    </tr>\n",
       "    <tr>\n",
       "      <th>3</th>\n",
       "      <td>3</td>\n",
       "      <td>17</td>\n",
       "      <td>male</td>\n",
       "      <td>indUnk</td>\n",
       "      <td>Virgo</td>\n",
       "    </tr>\n",
       "    <tr>\n",
       "      <th>4</th>\n",
       "      <td>4</td>\n",
       "      <td>25</td>\n",
       "      <td>female</td>\n",
       "      <td>indUnk</td>\n",
       "      <td>Leo</td>\n",
       "    </tr>\n",
       "  </tbody>\n",
       "</table>\n",
       "</div>"
      ],
      "text/plain": [
       "   blog_id  age  gender      sector  zodiac\n",
       "0        0   17  female     Student  Cancer\n",
       "1        1   23    male     Student  Gemini\n",
       "2        2   26    male  Technology   Libra\n",
       "3        3   17    male      indUnk   Virgo\n",
       "4        4   25  female      indUnk     Leo"
      ]
     },
     "metadata": {},
     "output_type": "display_data"
    }
   ],
   "source": [
    "print(\"There are {} bloggers.\".format(len(bloggers_df)))\n",
    "display(bloggers_df.head())"
   ]
  },
  {
   "cell_type": "markdown",
   "metadata": {
    "deletable": false,
    "editable": false,
    "nbgrader": {
     "grade": false,
     "locked": true,
     "solution": false
    }
   },
   "source": [
    "Each blogger has a unique integer ID number, `blog_id`, which starts at zero. The age is another integer; the gender, job sector, and zodiac signs are strings.\n",
    "\n",
    "For example, suppose the following were a row in the dataframe:\n",
    "\n",
    "| `blog_id` | `age` | `gender` | `sector` | `zodiac` |\n",
    "|-----------|-------|----------|----------|----------|\n",
    "|    11     |  16   |   male   | Student  |  Taurus  |\n",
    "\n",
    "Then that would indicate that blogger #11 is 16 years of age, male, a student, and is a Taurus."
   ]
  },
  {
   "cell_type": "markdown",
   "metadata": {
    "deletable": false,
    "editable": false,
    "nbgrader": {
     "grade": false,
     "locked": true,
     "solution": false
    }
   },
   "source": [
    "**Posts (`posts_df`).** The second dataframe is a list of posts:"
   ]
  },
  {
   "cell_type": "code",
   "execution_count": 3,
   "metadata": {
    "deletable": false,
    "editable": false,
    "nbgrader": {
     "grade": false,
     "locked": true,
     "solution": false
    },
    "scrolled": true
   },
   "outputs": [
    {
     "name": "stdout",
     "output_type": "stream",
     "text": [
      "There are 520 posts.\n"
     ]
    },
    {
     "data": {
      "text/html": [
       "<div>\n",
       "<style scoped>\n",
       "    .dataframe tbody tr th:only-of-type {\n",
       "        vertical-align: middle;\n",
       "    }\n",
       "\n",
       "    .dataframe tbody tr th {\n",
       "        vertical-align: top;\n",
       "    }\n",
       "\n",
       "    .dataframe thead th {\n",
       "        text-align: right;\n",
       "    }\n",
       "</style>\n",
       "<table border=\"1\" class=\"dataframe\">\n",
       "  <thead>\n",
       "    <tr style=\"text-align: right;\">\n",
       "      <th></th>\n",
       "      <th>post_id</th>\n",
       "      <th>blog_id</th>\n",
       "    </tr>\n",
       "  </thead>\n",
       "  <tbody>\n",
       "    <tr>\n",
       "      <th>0</th>\n",
       "      <td>0</td>\n",
       "      <td>0</td>\n",
       "    </tr>\n",
       "    <tr>\n",
       "      <th>1</th>\n",
       "      <td>1</td>\n",
       "      <td>0</td>\n",
       "    </tr>\n",
       "    <tr>\n",
       "      <th>2</th>\n",
       "      <td>2</td>\n",
       "      <td>0</td>\n",
       "    </tr>\n",
       "    <tr>\n",
       "      <th>3</th>\n",
       "      <td>3</td>\n",
       "      <td>0</td>\n",
       "    </tr>\n",
       "    <tr>\n",
       "      <th>4</th>\n",
       "      <td>4</td>\n",
       "      <td>0</td>\n",
       "    </tr>\n",
       "  </tbody>\n",
       "</table>\n",
       "</div>"
      ],
      "text/plain": [
       "   post_id  blog_id\n",
       "0        0        0\n",
       "1        1        0\n",
       "2        2        0\n",
       "3        3        0\n",
       "4        4        0"
      ]
     },
     "metadata": {},
     "output_type": "display_data"
    }
   ],
   "source": [
    "print(\"There are {} posts.\".format(len(posts_df)))\n",
    "display(posts_df.head())"
   ]
  },
  {
   "cell_type": "markdown",
   "metadata": {
    "deletable": false,
    "editable": false,
    "nbgrader": {
     "grade": false,
     "locked": true,
     "solution": false
    }
   },
   "source": [
    "Each post has a unique integer ID, `post_id`, numbered starting at zero. The author is given by `blog_id`, his or her integer ID. For instance, suppose this row were in the table:\n",
    "\n",
    "| `post_id` | `blog_id` |\n",
    "|:---------:|:---------:|\n",
    "|   2291    |    94     |\n",
    "\n",
    "Then that would indicate that blogger #94 wrote a post whose ID number is #2291."
   ]
  },
  {
   "cell_type": "markdown",
   "metadata": {
    "deletable": false,
    "editable": false,
    "nbgrader": {
     "grade": false,
     "locked": true,
     "solution": false
    }
   },
   "source": [
    "**Co-occurrences (`occur_df`).** This third dataframe is the list of co-occurrences:"
   ]
  },
  {
   "cell_type": "code",
   "execution_count": 4,
   "metadata": {
    "deletable": false,
    "editable": false,
    "nbgrader": {
     "grade": false,
     "locked": true,
     "solution": false
    }
   },
   "outputs": [
    {
     "name": "stdout",
     "output_type": "stream",
     "text": [
      "There are 97911 co-occurrence triplets.\n"
     ]
    },
    {
     "data": {
      "text/html": [
       "<div>\n",
       "<style scoped>\n",
       "    .dataframe tbody tr th:only-of-type {\n",
       "        vertical-align: middle;\n",
       "    }\n",
       "\n",
       "    .dataframe tbody tr th {\n",
       "        vertical-align: top;\n",
       "    }\n",
       "\n",
       "    .dataframe thead th {\n",
       "        text-align: right;\n",
       "    }\n",
       "</style>\n",
       "<table border=\"1\" class=\"dataframe\">\n",
       "  <thead>\n",
       "    <tr style=\"text-align: right;\">\n",
       "      <th></th>\n",
       "      <th>word_i</th>\n",
       "      <th>word_j</th>\n",
       "      <th>post_id</th>\n",
       "    </tr>\n",
       "  </thead>\n",
       "  <tbody>\n",
       "    <tr>\n",
       "      <th>0</th>\n",
       "      <td>10</td>\n",
       "      <td>11</td>\n",
       "      <td>0</td>\n",
       "    </tr>\n",
       "    <tr>\n",
       "      <th>1</th>\n",
       "      <td>22</td>\n",
       "      <td>23</td>\n",
       "      <td>0</td>\n",
       "    </tr>\n",
       "    <tr>\n",
       "      <th>2</th>\n",
       "      <td>3</td>\n",
       "      <td>35</td>\n",
       "      <td>0</td>\n",
       "    </tr>\n",
       "    <tr>\n",
       "      <th>3</th>\n",
       "      <td>2</td>\n",
       "      <td>18</td>\n",
       "      <td>0</td>\n",
       "    </tr>\n",
       "    <tr>\n",
       "      <th>4</th>\n",
       "      <td>5</td>\n",
       "      <td>6</td>\n",
       "      <td>0</td>\n",
       "    </tr>\n",
       "  </tbody>\n",
       "</table>\n",
       "</div>"
      ],
      "text/plain": [
       "   word_i  word_j  post_id\n",
       "0      10      11        0\n",
       "1      22      23        0\n",
       "2       3      35        0\n",
       "3       2      18        0\n",
       "4       5       6        0"
      ]
     },
     "execution_count": 4,
     "metadata": {},
     "output_type": "execute_result"
    }
   ],
   "source": [
    "print(\"There are {} co-occurrence triplets.\".format(len(occur_df)))\n",
    "occur_df.head()"
   ]
  },
  {
   "cell_type": "markdown",
   "metadata": {
    "deletable": false,
    "editable": false,
    "nbgrader": {
     "grade": false,
     "locked": true,
     "solution": false
    }
   },
   "source": [
    "The column `word_i` is an integer ID of a word; the column `word_j` is an integer ID of a second word; and the column `post_id` is the integer ID of a post. Each row means that the two corresponding words appeared \"near\" one another within given post. For example, suppose the following row were part of the table:\n",
    "\n",
    "| `word_i` | `word_j` | `post_id` |\n",
    "|----------|----------|-----------|\n",
    "|    37    |   1738   |    598    |\n",
    "    \n",
    "Then that would mean word #37 and word #1738 appeared \"close together\" in post #598."
   ]
  },
  {
   "cell_type": "markdown",
   "metadata": {
    "deletable": false,
    "editable": false,
    "nbgrader": {
     "grade": false,
     "locked": true,
     "solution": false
    }
   },
   "source": [
    "**Exercise 0** (2 points). Suppose we assign each Western zodiac sign the following integer IDs (run the next cell to see the IDs):"
   ]
  },
  {
   "cell_type": "code",
   "execution_count": 5,
   "metadata": {
    "deletable": false,
    "editable": false,
    "nbgrader": {
     "grade": false,
     "locked": true,
     "solution": false
    }
   },
   "outputs": [
    {
     "data": {
      "text/plain": [
       "{'Aquarius': 0,\n",
       " 'Pisces': 1,\n",
       " 'Aries': 2,\n",
       " 'Taurus': 3,\n",
       " 'Gemini': 4,\n",
       " 'Cancer': 5,\n",
       " 'Leo': 6,\n",
       " 'Virgo': 7,\n",
       " 'Libra': 8,\n",
       " 'Scorpio': 9,\n",
       " 'Sagittarius': 10,\n",
       " 'Capricorn': 11}"
      ]
     },
     "execution_count": 5,
     "metadata": {},
     "output_type": "execute_result"
    }
   ],
   "source": [
    "zodiac_signs = ['Aquarius', 'Pisces', 'Aries', 'Taurus', 'Gemini',\n",
    "                'Cancer', 'Leo', 'Virgo', 'Libra', 'Scorpio', 'Sagittarius', 'Capricorn']\n",
    "zodiac_ids = {s: zodiac_signs.index(s) for s in zodiac_signs}\n",
    "zodiac_ids"
   ]
  },
  {
   "cell_type": "markdown",
   "metadata": {
    "deletable": false,
    "editable": false,
    "nbgrader": {
     "grade": false,
     "locked": true,
     "solution": false
    }
   },
   "source": [
    "Write a function,\n",
    "\n",
    "```python\n",
    "    def add_zodiac_ids(occur_df, posts_df, bloggers_df):\n",
    "```\n",
    "\n",
    "that takes the three input dataframes as input and returns a copy of `occur_df` with one new column, `zodiac_id`, containing the integer ID of the Zodiac sign for the blogger who authored the post.\n",
    "\n",
    "For example, suppose `occur_df` has the following row:\n",
    "\n",
    "| `word_i` | `word_j` | `post_id` |\n",
    "|:--------:|:--------:|:---------:|\n",
    "|    126   |   2618   |    165    |\n",
    "\n",
    "If you look up post #165 in `posts_df`, you'll see the following entry:\n",
    "\n",
    "| `post_id` | `blog_id` |\n",
    "|:---------:|:---------:|\n",
    "|    165    |    11     |\n",
    "\n",
    "And blogger #11 has these attributes, according to `bloggers_df`:\n",
    "\n",
    "| `blog_id` | `age` | `gender` | `sector` | `zodiac` |\n",
    "|:---------:|:-----:|:--------:|:--------:|:--------:|\n",
    "|    11     |  16   |   male   | Student  |  Taurus  |\n",
    "\n",
    "Since a Taurus has an ID of 3, your output should contain a row of the form,\n",
    "\n",
    "| `word_i` | `word_j` | `post_id` | `zodiac_id` |\n",
    "|:--------:|:--------:|:---------:|:-----------:|\n",
    "|    126   |   2618   |    165    |      3      |"
   ]
  },
  {
   "cell_type": "code",
   "execution_count": 6,
   "metadata": {
    "nbgrader": {
     "grade": false,
     "grade_id": "occur_zodiac_df",
     "locked": false,
     "solution": true
    }
   },
   "outputs": [
    {
     "name": "stdout",
     "output_type": "stream",
     "text": [
      "First few rows:\n"
     ]
    },
    {
     "data": {
      "text/html": [
       "<div>\n",
       "<style scoped>\n",
       "    .dataframe tbody tr th:only-of-type {\n",
       "        vertical-align: middle;\n",
       "    }\n",
       "\n",
       "    .dataframe tbody tr th {\n",
       "        vertical-align: top;\n",
       "    }\n",
       "\n",
       "    .dataframe thead th {\n",
       "        text-align: right;\n",
       "    }\n",
       "</style>\n",
       "<table border=\"1\" class=\"dataframe\">\n",
       "  <thead>\n",
       "    <tr style=\"text-align: right;\">\n",
       "      <th></th>\n",
       "      <th>word_i</th>\n",
       "      <th>word_j</th>\n",
       "      <th>post_id</th>\n",
       "      <th>zodiac_id</th>\n",
       "    </tr>\n",
       "  </thead>\n",
       "  <tbody>\n",
       "    <tr>\n",
       "      <th>0</th>\n",
       "      <td>10</td>\n",
       "      <td>11</td>\n",
       "      <td>0</td>\n",
       "      <td>5</td>\n",
       "    </tr>\n",
       "    <tr>\n",
       "      <th>1</th>\n",
       "      <td>22</td>\n",
       "      <td>23</td>\n",
       "      <td>0</td>\n",
       "      <td>5</td>\n",
       "    </tr>\n",
       "    <tr>\n",
       "      <th>2</th>\n",
       "      <td>3</td>\n",
       "      <td>35</td>\n",
       "      <td>0</td>\n",
       "      <td>5</td>\n",
       "    </tr>\n",
       "    <tr>\n",
       "      <th>3</th>\n",
       "      <td>2</td>\n",
       "      <td>18</td>\n",
       "      <td>0</td>\n",
       "      <td>5</td>\n",
       "    </tr>\n",
       "    <tr>\n",
       "      <th>4</th>\n",
       "      <td>5</td>\n",
       "      <td>6</td>\n",
       "      <td>0</td>\n",
       "      <td>5</td>\n",
       "    </tr>\n",
       "  </tbody>\n",
       "</table>\n",
       "</div>"
      ],
      "text/plain": [
       "   word_i  word_j  post_id  zodiac_id\n",
       "0      10      11        0          5\n",
       "1      22      23        0          5\n",
       "2       3      35        0          5\n",
       "3       2      18        0          5\n",
       "4       5       6        0          5"
      ]
     },
     "metadata": {},
     "output_type": "display_data"
    },
    {
     "name": "stdout",
     "output_type": "stream",
     "text": [
      "\n",
      "Row from the example:\n"
     ]
    },
    {
     "data": {
      "text/html": [
       "<div>\n",
       "<style scoped>\n",
       "    .dataframe tbody tr th:only-of-type {\n",
       "        vertical-align: middle;\n",
       "    }\n",
       "\n",
       "    .dataframe tbody tr th {\n",
       "        vertical-align: top;\n",
       "    }\n",
       "\n",
       "    .dataframe thead th {\n",
       "        text-align: right;\n",
       "    }\n",
       "</style>\n",
       "<table border=\"1\" class=\"dataframe\">\n",
       "  <thead>\n",
       "    <tr style=\"text-align: right;\">\n",
       "      <th></th>\n",
       "      <th>word_i</th>\n",
       "      <th>word_j</th>\n",
       "      <th>post_id</th>\n",
       "      <th>zodiac_id</th>\n",
       "    </tr>\n",
       "  </thead>\n",
       "  <tbody>\n",
       "    <tr>\n",
       "      <th>26818</th>\n",
       "      <td>126</td>\n",
       "      <td>2618</td>\n",
       "      <td>165</td>\n",
       "      <td>3</td>\n",
       "    </tr>\n",
       "  </tbody>\n",
       "</table>\n",
       "</div>"
      ],
      "text/plain": [
       "       word_i  word_j  post_id  zodiac_id\n",
       "26818     126    2618      165          3"
      ]
     },
     "execution_count": 6,
     "metadata": {},
     "output_type": "execute_result"
    }
   ],
   "source": [
    "def add_zodiac_ids(occur_df, posts_df, bloggers_df):\n",
    "    ###\n",
    "    opdf = occur_df.merge(posts_df, on = 'post_id')\n",
    "    opbdf = opdf.merge(bloggers_df, on = 'blog_id')\n",
    "    opbdf['zodiac_id'] = opbdf['zodiac'].map(zodiac_ids)\n",
    "    return opbdf[\"word_i word_j post_id zodiac_id\".split(\" \")]\n",
    "    ###\n",
    "\n",
    "# Preview your result:\n",
    "occur_zodiac_df = add_zodiac_ids(occur_df, posts_df, bloggers_df)\n",
    "assert type(occur_zodiac_df) is pd.DataFrame, \"Does your function return a Pandas DataFrame?\"\n",
    "\n",
    "print(\"First few rows:\")\n",
    "display(occur_zodiac_df.head())\n",
    "\n",
    "print(\"\\nRow from the example:\")\n",
    "occur_zodiac_df[(occur_zodiac_df['word_i'] == 126)\n",
    "                & (occur_zodiac_df['word_j'] == 2618)\n",
    "                & (occur_zodiac_df['post_id'] == 165)]"
   ]
  },
  {
   "cell_type": "code",
   "execution_count": 7,
   "metadata": {
    "deletable": false,
    "editable": false,
    "nbgrader": {
     "grade": true,
     "grade_id": "occur_zodiac_df_test",
     "locked": true,
     "points": 2,
     "solution": false
    }
   },
   "outputs": [
    {
     "name": "stdout",
     "output_type": "stream",
     "text": [
      "Checking equivalence...\n",
      "\n",
      "(Passed!)\n"
     ]
    }
   ],
   "source": [
    "# Test cell: `occur_zodiac_df_test`\n",
    "\n",
    "def canonicalize_tibble(X):\n",
    "    var_names = sorted(X.columns)\n",
    "    Y = X[var_names].copy()\n",
    "    Y.sort_values(by=var_names, inplace=True)\n",
    "    Y.reset_index(drop=True, inplace=True)\n",
    "    return Y\n",
    "\n",
    "def tibbles_are_equivalent(A, B):\n",
    "    A_hat = canonicalize_tibble(A)\n",
    "    B_hat = canonicalize_tibble(B)\n",
    "    equal = (A_hat == B_hat)\n",
    "    return equal.all().all()\n",
    "\n",
    "print(\"Checking equivalence...\")\n",
    "assert tibbles_are_equivalent(occur_zodiac_df,\n",
    "                              soln_df), \"Your result does not match the sample solution.\"\n",
    "print(\"\\n(Passed!)\")"
   ]
  },
  {
   "cell_type": "markdown",
   "metadata": {
    "deletable": false,
    "editable": false,
    "nbgrader": {
     "grade": false,
     "locked": true,
     "solution": false
    }
   },
   "source": [
    "## Background for the next exercise: Tensor analysis and the \"MTTKRP\"\n",
    "\n",
    "Matrices are suitable for looking at 2-way relations (between rows and columns), as in the pairwise association mining problem (Topic 2) and PageRank (Topic 11).\n",
    "\n",
    "However, a dataset may often be naturally decomposed into more than two features. For example, consider [this recent blog post by Chris Moody](https://multithreaded.stitchfix.com/blog/2017/10/25/word-tensors/), a data analyst at the e-commerce clothing site, [Stitch Fix](https://www.stitchfix.com/).\n",
    "\n",
    "Moody considers the problem of mining user comments using, as an example, a _three-way_ data representation: two to represent a word pair and the third to represent the document (i.e., comment) in which a word pair co-occurs. That is, imagine a 3-D table $T$, where each entry, $T(i, j, k)$, somehow measures the association of word $i$, word $j$, and document $k$. The **left-hand side** of the following image illustrates this concept.\n",
    "\n",
    "> The acronym \"PMI\" in this figure stands for [pointwise mutual information](https://en.wikipedia.org/wiki/Pointwise_mutual_information), but for the purpose of this problem, you don't need to know anything about this concept."
   ]
  },
  {
   "cell_type": "markdown",
   "metadata": {
    "deletable": false,
    "editable": false,
    "nbgrader": {
     "grade": false,
     "locked": true,
     "solution": false
    }
   },
   "source": [
    "![Tensor decomposition](./tensor-decomposition.png)"
   ]
  },
  {
   "cell_type": "markdown",
   "metadata": {
    "deletable": false,
    "editable": false,
    "nbgrader": {
     "grade": false,
     "locked": true,
     "solution": false
    }
   },
   "source": [
    "**Definition: tensors and tensor modes.** We call this type of multiway table a **tensor**. In particular, a $d$-way tensor is one with $d$ \"axes\" or **modes**.\n",
    "\n",
    "You've already seen tensors where $d \\leq 2$: a scalar is a 0-way tensor; a vector is a 1-way tensor; and a matrix is a 2-way tensor.\n",
    "\n",
    "In Exercise 0 above, you created `occur_zodiac_df`. Each row could be interpreted as the coordinates of a 4-way tensor, and indeed, we will use it as such below."
   ]
  },
  {
   "cell_type": "markdown",
   "metadata": {
    "deletable": false,
    "editable": false,
    "nbgrader": {
     "grade": false,
     "locked": true,
     "solution": false
    }
   },
   "source": [
    "**Tensor decompositions.** Moody's computational analysis task is to \"factor\" a $d$-way tensor into a kind of multiplication among $d$ matrices, as illustrated in the right-hand side of the figure above. This factoring is also known as a _tensor decomposition_. You don't need to know anything specific about tensor decompositions, only that they motivated this exam problem."
   ]
  },
  {
   "cell_type": "markdown",
   "metadata": {
    "deletable": false,
    "editable": false,
    "nbgrader": {
     "grade": false,
     "locked": true,
     "solution": false
    }
   },
   "source": [
    "**The computational bottleneck: an \"MTTKRP.\"** The slowest part of many tensor decompositions is an operation known by the (regrettable) acronym, **MTTKRP**, which stands for \"**matricized tensor times Katri-Rao product**.\" (Try saying that five times quickly in succession!) There are several variations, but here is the one you need in this problem."
   ]
  },
  {
   "cell_type": "markdown",
   "metadata": {
    "deletable": false,
    "editable": false,
    "nbgrader": {
     "grade": false,
     "locked": true,
     "solution": false
    }
   },
   "source": [
    "Suppose $d=4$. Next, let $N_0$, $N_1$, $N_2$, $N_3$, and $R$ be positive integers. Also let\n",
    "\n",
    "* $T$ be a 4-way tensor of size $N_0 \\times N_1 \\times N_2 \\times N_3$;\n",
    "* $A$ be a matrix (2-way tensor) of size $N_0 \\times R$;\n",
    "* $B$ be another matrix of size $N_1 \\times R$;\n",
    "* $C$ be a third matrix of size $N_2 \\times R$; and\n",
    "* $D$ be a fourth matrix of size $N_3 \\times R$.\n",
    "\n",
    "The **mode-0 MTTKRP** computes $A$ from $T$, $B$, $C$, and $D$ as follows. For all $0 \\leq i < N_0$ and $0 \\leq r < R$,\n",
    "\n",
    "$$\n",
    "  A(i, r) = \\sum_{j=0}^{N_1-1} \\sum_{k=0}^{N_2-1} \\sum_{l=0}^{N_3-1} T(i, j, k, l) \\cdot B(j, r) \\cdot C(k, r) \\cdot D(l, r).\n",
    "$$\n",
    "\n",
    "We will also refer to $T$ as the **input tensor**; $B$, $C$, and $D$ as the **input factors**; and $A$ as the **output factor**."
   ]
  },
  {
   "cell_type": "markdown",
   "metadata": {
    "deletable": false,
    "editable": false,
    "nbgrader": {
     "grade": false,
     "locked": true,
     "solution": false
    }
   },
   "source": [
    "**Assumptions.** In data analysis problems, $T$ is typically very sparse, meaning it is mostly zero. By contrast, the factor matrices $A$, $B$, $C$, and $D$ are typically dense matrices. Also, the factors are usually \"tall-and-skinny,\" meaning $R$ is small compared to $N_0$, $N_1$, $N_2$, and $N_3$."
   ]
  },
  {
   "cell_type": "markdown",
   "metadata": {
    "deletable": false,
    "editable": false,
    "nbgrader": {
     "grade": false,
     "locked": true,
     "solution": false
    }
   },
   "source": [
    "## The baseline MTTKRP in \"pure Python\"\n",
    "\n",
    "Based on those assumptions, we have provided you with a baseline implementation written in \"pure\" Python.\n",
    "\n",
    "* It uses a dictionary to store the (sparse) tensor $T$, where each key is an $(i, j, k, l)$ tuple of coordinate indices and the value is the corresponding tensor entry, $T(i, j, k, l)$.\n",
    "* For the factor matrices ($A, B, C, D$), it assumes dense row-major storage using flat lists.\n",
    "\n",
    "The next code cell implements this approach. Take a minute to inspect it and compare it to the formula for $A(i, r)$. Here is the same formula repeated, so it's easier to compare against the code: for all $0 \\leq i < N_0$ and $0 \\leq r < R$,\n",
    "\n",
    "$$\n",
    "  A(i, r) = \\sum_{j=0}^{N_1-1} \\sum_{k=0}^{N_2-1} \\sum_{l=0}^{N_3-1} T(i, j, k, l) \\cdot B(j, r) \\cdot C(k, r) \\cdot D(l, r).\n",
    "$$"
   ]
  },
  {
   "cell_type": "code",
   "execution_count": 8,
   "metadata": {
    "collapsed": true,
    "deletable": false,
    "editable": false,
    "nbgrader": {
     "grade": false,
     "locked": true,
     "solution": false
    }
   },
   "outputs": [],
   "source": [
    "def mttkrp_0__py(T, B, C, D, N0, R):\n",
    "    assert R >= 1\n",
    "    assert (type(T) is dict) and all([type(X) is list for X in [B, C, D]])\n",
    "    \n",
    "    A = [0.] * (N0 * R)\n",
    "    for (i, j, k, l), T_ijkl in T.items():\n",
    "        for r in range(R):\n",
    "            A[i*R + r] += T_ijkl * B[j*R + r] * C[k*R + r] * D[l*R + r]\n",
    "    return A"
   ]
  },
  {
   "cell_type": "markdown",
   "metadata": {
    "deletable": false,
    "editable": false,
    "nbgrader": {
     "grade": false,
     "locked": true,
     "solution": false
    }
   },
   "source": [
    "Now run the following two code cells. The first one creates a sparse tensor, **`T_py`**, using the coordinates from `occur_zodiac_df` and random nonzero values. It also creates the random input factor matrices, using $R=6$. The second cell runs `mttkrp_0__py` to compute the output factor, and measures how long it takes."
   ]
  },
  {
   "cell_type": "code",
   "execution_count": 9,
   "metadata": {
    "deletable": false,
    "editable": false,
    "nbgrader": {
     "grade": false,
     "locked": true,
     "solution": false
    }
   },
   "outputs": [
    {
     "name": "stdout",
     "output_type": "stream",
     "text": [
      "Using a 4-way tensor of size N0 x N1 x N2 x N3 == 11653 x 11653 x 520 x 10.\n",
      "There are 97911 nonzero entries.\n",
      "Using factors with 6 columns.\n",
      "\n",
      "Generating tensor... (may take a minute)\n",
      "==> Done generating inputs. (~ 0.2 seconds)\n",
      "\n",
      "Generating input factors...\n",
      "==> Done.\n"
     ]
    }
   ],
   "source": [
    "from cse6040bench import benchit\n",
    "\n",
    "def get_timer(): # Used in some timing experiments\n",
    "    from time import perf_counter\n",
    "    return perf_counter()\n",
    "\n",
    "def uniform_random_values(K):\n",
    "    \"\"\"Returns a Python list having N uniformly sampled values in (-1, 1).\"\"\"\n",
    "    from random import uniform\n",
    "    return [uniform(-1, 1) for _ in range(K)]\n",
    "\n",
    "# Construct a 4-way tensor from `occur_zodiac_df`\n",
    "def assemble_random_tensor_4way_from_df(df, columns):\n",
    "    from random import uniform\n",
    "    assert type(columns) is list and all([type(c) is str for c in columns])\n",
    "    ci, cj, ck, cl = columns[0], columns[1], columns[2], columns[3]\n",
    "    I, J, K, L = list(df[ci]), list(df[cj]), list(df[ck]), list(df[cl])\n",
    "    V = [uniform(-1, 1) for _ in range(len(I))]\n",
    "    T = {(i, j, k, l): v for i, j, k, l, v in zip(I, J, K, L, V)}\n",
    "    return T\n",
    "\n",
    "def generate_inputs(df, R=None):\n",
    "    assert R is not None\n",
    "    \n",
    "    num_words = max(occur_zodiac_df['word_i'].max(), occur_zodiac_df['word_j'].max()) + 1\n",
    "    num_posts = occur_zodiac_df['post_id'].max() + 1\n",
    "    num_zodiac = occur_zodiac_df['zodiac_id'].max() + 1\n",
    "\n",
    "    N0, N1, N2, N3 = num_words, num_words, num_posts, num_zodiac\n",
    "    print(\"Using a 4-way tensor of size N0 x N1 x N2 x N3 == {} x {} x {} x {}.\".format(N0, N1, N2, N3))\n",
    "    print(\"There are {} nonzero entries.\".format(len(df)))\n",
    "    print(\"Using factors with {} columns.\".format(R))\n",
    "\n",
    "    print(\"\\nGenerating tensor... (may take a minute)\")\n",
    "    t0__ = get_timer()\n",
    "    T_py = assemble_random_tensor_4way_from_df(occur_zodiac_df, ['word_i', 'word_j', 'post_id', 'zodiac_id'])\n",
    "    print(\"==> Done generating inputs. (~ {:.1f} seconds)\".format(get_timer() - t0__))\n",
    "    \n",
    "    print(\"\\nGenerating input factors...\")\n",
    "    B_py = uniform_random_values(N1 * R)\n",
    "    C_py = uniform_random_values(N2 * R)\n",
    "    D_py = uniform_random_values(N3 * R)\n",
    "    print(\"==> Done.\")\n",
    "\n",
    "    return T_py, B_py, C_py, D_py, N0, N1, N2, N3, R\n",
    "\n",
    "# Demo: Generate random-valued inputs\n",
    "T_py, B_py, C_py, D_py, N0, N1, N2, N3, R = generate_inputs(occur_zodiac_df, R=6)"
   ]
  },
  {
   "cell_type": "code",
   "execution_count": 10,
   "metadata": {
    "deletable": false,
    "editable": false,
    "nbgrader": {
     "grade": false,
     "locked": true,
     "solution": false
    }
   },
   "outputs": [
    {
     "name": "stdout",
     "output_type": "stream",
     "text": [
      "Executing the baseline MTTKRP method...\n",
      "==> Done with one instance. (~ 0.4 seconds)\n",
      "\n",
      "==> NOTE: This timing is only a quick estimate;\n",
      "it is based on only one measurement, and so should\n",
      "not be regarded as reliable. (Later, we will test\n",
      "more rigorously.)\n",
      "\n"
     ]
    }
   ],
   "source": [
    "def generate_solution(T_py, B_py, C_py, D_py, N0, R):\n",
    "    print(\"Executing the baseline MTTKRP method...\")\n",
    "    t1__ = get_timer()\n",
    "    A_py = mttkrp_0__py(T_py, B_py, C_py, D_py, N0, R)\n",
    "    print(\"==> Done with one instance. (~ {:.1f} seconds)\".format(get_timer() - t1__))\n",
    "    print(\"\"\"\n",
    "==> NOTE: This timing is only a quick estimate;\n",
    "it is based on only one measurement, and so should\n",
    "not be regarded as reliable. (Later, we will test\n",
    "more rigorously.)\n",
    "\"\"\")\n",
    "    return A_py\n",
    "    \n",
    "# Demo\n",
    "A_py = generate_solution(T_py, B_py, C_py, D_py, N0, R)"
   ]
  },
  {
   "cell_type": "markdown",
   "metadata": {
    "deletable": false,
    "editable": false,
    "nbgrader": {
     "grade": false,
     "locked": true,
     "solution": false
    }
   },
   "source": [
    "## Exercise 1 (8 points): Implement a faster Mode-0 MTTKRP\n",
    "\n",
    "Your task is now to implement a version of the mode-0 MTTKRP that is faster than the pure Python one.\n",
    "\n",
    "To start, think about how you want to store the data objects. The pure Python method used a dictionary keyed on tuples to store the tensor and row-major lists to store the matrices. What are some alternatives? You'll want to think carefully about your approach. In particular, although we will test your code for correctness on a small example, we will perform timings using both a small **and** a (relatively) large example. So be sure you think about efficient use of time and storage.\n",
    "\n",
    "Next, think about how your choice affects how the MTTKRP operation will look in code.\n",
    "\n",
    "> There are many potential approaches. One idea is to view the sparse MTTKRP operation as a relational query, but do not feel constrained by this suggestion."
   ]
  },
  {
   "cell_type": "markdown",
   "metadata": {
    "deletable": false,
    "editable": false,
    "nbgrader": {
     "grade": false,
     "locked": true,
     "solution": false
    }
   },
   "source": [
    "Once you think you have a promising approach, you'll need to implement it by creating **three** different functions. You must create these; our testing and timing code will assume their existence.\n",
    "\n",
    "The first function is **`convert_inputs()`**:\n",
    "\n",
    "```python\n",
    "    def convert_inputs(T_py, B_py, C_py, D_py, N0, N1, N2, N3, R):\n",
    "        ...\n",
    "        \n",
    "    T, B, C, D = convert_inputs(...)\n",
    "```\n",
    "\n",
    "It should translate the baseline's data structures into your alternative method. Our test code needs `convert_inputs()` to ensure that your implementation has the same inputs as the baseline. Your function should return the converted objects.\n",
    "\n",
    "We will not grade based on the speed of `convert_inputs()`, so it's okay if it is not very fast. However, it should not be too slow, either, as you don't want the autograder to time out!"
   ]
  },
  {
   "cell_type": "markdown",
   "metadata": {
    "deletable": false,
    "editable": false,
    "nbgrader": {
     "grade": false,
     "locked": true,
     "solution": false
    }
   },
   "source": [
    "The second function you need to write is **`mttkrp_0()`**, which should use your converted objects to calculate the mode-0 MTTKRP:\n",
    "\n",
    "```python\n",
    "    def mttkrp_0(T, B, C, D, N0, N1, N2, N3, R):\n",
    "        ...\n",
    "        \n",
    "    A = mttkrp_0(T, B, ...)\n",
    "```\n",
    "\n",
    "Your `mttkrp_0()` should return the output factor, `A`, as your alternative object type.\n",
    "\n",
    "We **will** grade based on how fast `mttkrp_0()` is. Your implementation needs to be at least **two-times** ($2\\times$) faster than the baseline to get full credit. (There is some partial credit if is faster but does not meet the target above.)"
   ]
  },
  {
   "cell_type": "markdown",
   "metadata": {
    "deletable": false,
    "editable": false,
    "nbgrader": {
     "grade": false,
     "locked": true,
     "solution": false
    }
   },
   "source": [
    "The third function is **`convert_output()`**. It should take the result of your `mttkrp_0()` function and convert it back into a row-major list:\n",
    "\n",
    "```python\n",
    "    def convert_output(A, N0, R):\n",
    "        ...\n",
    "        \n",
    "    A_py_result = convert_output(A, N0, R)\n",
    "```\n",
    "\n",
    "We need `convert_output()` so we can check your output against the baseline."
   ]
  },
  {
   "cell_type": "markdown",
   "metadata": {
    "deletable": false,
    "editable": false,
    "nbgrader": {
     "grade": false,
     "locked": true,
     "solution": false
    }
   },
   "source": [
    "Lastly, before you start, note that there are **three** separate code cells, one for each of the above functions. After these cells, there are several more for testing and timing cells."
   ]
  },
  {
   "cell_type": "markdown",
   "metadata": {},
   "source": [
    "$$\n",
    "  A(i, r) = \\sum_{j=0}^{N_1-1} \\sum_{k=0}^{N_2-1} \\sum_{l=0}^{N_3-1} T(i, j, k, l) \\cdot B(j, r) \\cdot C(k, r) \\cdot D(l, r).\n",
    "$$"
   ]
  },
  {
   "cell_type": "code",
   "execution_count": 11,
   "metadata": {
    "collapsed": true
   },
   "outputs": [],
   "source": [
    "import numpy as np\n",
    "import random"
   ]
  },
  {
   "cell_type": "code",
   "execution_count": 12,
   "metadata": {
    "nbgrader": {
     "grade": false,
     "grade_id": "convert_inputs",
     "locked": false,
     "solution": true
    }
   },
   "outputs": [
    {
     "name": "stdout",
     "output_type": "stream",
     "text": [
      "Calling your conversion routine...\n",
      "==> Done. At least it runs without crashing!\n"
     ]
    }
   ],
   "source": [
    "def convert_inputs(T_py, B_py, C_py, D_py, N0, N1, N2, N3, R):\n",
    "    assert type(T_py) is dict and all([type(X) is list for X in [B_py, C_py, D_py]])\n",
    "    assert len(B_py) >= N1*R and len(C_py) >= N2*R and len(D_py) >= N3*R\n",
    "    \n",
    "    ###\n",
    "    import scipy.sparse as sp\n",
    "    T = np.array(list(T_py.values()))\n",
    "\n",
    "    B = {}\n",
    "    C = {}\n",
    "    D = {}\n",
    "\n",
    "    Bm = np.reshape(np.array(B_py),(N1,R))\n",
    "    Cm = np.reshape(np.array(C_py),(N2,R))\n",
    "    Dm = np.reshape(np.array(D_py),(N3,R))\n",
    "    \n",
    "    for (i,j,k,l), T_ijkl in T_py.items():\n",
    "         B[(i,j,k,l)] = Bm[j,:]\n",
    "         C[(i,j,k,l)] = Cm[k,:]\n",
    "         D[(i,j,k,l)] = Dm[l,:]\n",
    "    B = np.array(list(B.values()))\n",
    "    C = np.array(list(C.values()))\n",
    "    D = np.array(list(D.values()))\n",
    "    \n",
    "    return T,B,C,D\n",
    "    ###\n",
    "    \n",
    "print(\"Calling your conversion routine...\")\n",
    "T, B, C, D = convert_inputs(T_py, B_py, C_py, D_py, N0, N1, N2, N3, R)\n",
    "print(\"==> Done. At least it runs without crashing!\")"
   ]
  },
  {
   "cell_type": "code",
   "execution_count": 13,
   "metadata": {
    "nbgrader": {
     "grade": false,
     "grade_id": "mttkrp_0",
     "locked": false,
     "solution": true
    }
   },
   "outputs": [
    {
     "name": "stdout",
     "output_type": "stream",
     "text": [
      "Calling your mode-0 MTTKRP...\n",
      "  ==> Done (~ 0.004 seconds).\n",
      "\n",
      "==> NOTE: This timing is only a quick estimate;\n",
      "it is based on only one measurement, and so should\n",
      "not be regarded as reliable. (Later, we will test\n",
      "more rigorously, after a correctness check.)\n",
      "\n"
     ]
    }
   ],
   "source": [
    "def mttkrp_0(T, B, C, D, N0, N1, N2, N3, R):\n",
    "    ###\n",
    "    \n",
    "    A = T[:, None]*B*C*D\n",
    "    return A\n",
    "    ###\n",
    "    \n",
    "print(\"Calling your mode-0 MTTKRP...\")\n",
    "t2__ = get_timer()\n",
    "A = mttkrp_0(T, B, C, D, N0, N1, N2, N3, R)\n",
    "print(\"  ==> Done (~ {:.3f} seconds).\".format(get_timer() - t2__))\n",
    "\n",
    "print(\"\"\"\\n==> NOTE: This timing is only a quick estimate;\n",
    "it is based on only one measurement, and so should\n",
    "not be regarded as reliable. (Later, we will test\n",
    "more rigorously, after a correctness check.)\n",
    "\"\"\")"
   ]
  },
  {
   "cell_type": "code",
   "execution_count": 14,
   "metadata": {
    "nbgrader": {
     "grade": false,
     "grade_id": "convert_output",
     "locked": false,
     "solution": true
    }
   },
   "outputs": [
    {
     "name": "stdout",
     "output_type": "stream",
     "text": [
      "Converting back for testing...\n"
     ]
    }
   ],
   "source": [
    "def convert_output(A, N0, R):\n",
    "    ###\n",
    "    res = np.zeros((N0,R))\n",
    "    for n, (i,j,k,l) in enumerate(list(T_py.keys())):\n",
    "        res[i] += A[n]\n",
    "    return list(res.flatten())\n",
    "    ###\n",
    "    \n",
    "print(\"Converting back for testing...\")\n",
    "A_py__yours = convert_output(A, N0, R)"
   ]
  },
  {
   "cell_type": "markdown",
   "metadata": {
    "deletable": false,
    "editable": false,
    "nbgrader": {
     "grade": false,
     "locked": true,
     "solution": false
    }
   },
   "source": [
    "**Test cells for Exercise 1.** Here are the test cells that must pass. There are several, so you can accumulate some partial credit. The comment at the top of each test cell tells you how many points it is worth."
   ]
  },
  {
   "cell_type": "code",
   "execution_count": 15,
   "metadata": {
    "deletable": false,
    "editable": false,
    "nbgrader": {
     "grade": true,
     "grade_id": "correctness_0",
     "locked": true,
     "points": 1,
     "solution": false
    }
   },
   "outputs": [
    {
     "name": "stdout",
     "output_type": "stream",
     "text": [
      "Basic correctness check: Comparing your output to the reference, A_py...\n",
      "    [threshold: 1.9582200000000002e-10]...\n",
      "==> Maximum absolute error observed: 0.0\n",
      "\n",
      "(Passed correctness check!)\n"
     ]
    }
   ],
   "source": [
    "# Test cell: `correctness_0` (1 point)\n",
    "\n",
    "def compare_answers(A_py, A_py__yours, multiplier=None):\n",
    "    assert multiplier is not None\n",
    "    ABS_ERR_THRESHOLD = 2e-15 * multiplier\n",
    "\n",
    "    print(\"Basic correctness check: Comparing your output to the reference, A_py...\")\n",
    "    print(\"    [threshold: {}]...\".format(ABS_ERR_THRESHOLD))\n",
    "\n",
    "    your_differences = [(a-b) for a, b in zip(A_py, A_py__yours)]\n",
    "    your_abs_differences = [abs(x) for x in your_differences]\n",
    "    your_max_abs_difference = max(your_abs_differences)\n",
    "    print(\"==> Maximum absolute error observed:\", max(your_abs_differences))\n",
    "\n",
    "    if your_max_abs_difference <= ABS_ERR_THRESHOLD:\n",
    "        big_err_locations = None\n",
    "    else:\n",
    "        big_err_locations = [(int(i/R), i % R, x) for i, x in enumerate(your_abs_differences) if x > ABS_ERR_THRESHOLD]\n",
    "        print(\"Your solution produced a difference greater than the acceptable tolerance, {}.\".format(ABS_ERR_THRESHOLD))\n",
    "        print(\"For a list of entries, print the list, `big_err_locations`.\")\n",
    "        print(\"(Note that {} locations exceeded the threshold.)\".format(len(big_err_locations)))\n",
    "    return big_err_locations\n",
    "\n",
    "big_err_locations = compare_answers(A_py, A_py__yours, multiplier=len(T_py))\n",
    "assert big_err_locations is None, \\\n",
    "       f\"Errors at {len(big_err_locations)} locations. Check `big_err_locations` for details.\"\n",
    "    \n",
    "print(\"\\n(Passed correctness check!)\")"
   ]
  },
  {
   "cell_type": "code",
   "execution_count": 16,
   "metadata": {
    "deletable": false,
    "editable": false,
    "nbgrader": {
     "grade": true,
     "grade_id": "correctness_1",
     "locked": true,
     "points": 1,
     "solution": false
    }
   },
   "outputs": [
    {
     "name": "stdout",
     "output_type": "stream",
     "text": [
      "Generating a new test instance...\n",
      "Using a 4-way tensor of size N0 x N1 x N2 x N3 == 11653 x 11653 x 520 x 10.\n",
      "There are 97911 nonzero entries.\n",
      "Using factors with 6 columns.\n",
      "\n",
      "Generating tensor... (may take a minute)\n",
      "==> Done generating inputs. (~ 0.2 seconds)\n",
      "\n",
      "Generating input factors...\n",
      "==> Done.\n",
      "==> Done.\n",
      "Running your implementation...\n",
      "    input conversion...\n",
      "    mode-0 MTTKRP...\n",
      "    output conversion...\n",
      "==> Done. (MTTKRP ~ 0.0 seconds.)\n",
      "==> NOTE: This timing is only a quick estimate;\n",
      "it is based on only one measurement, and so should\n",
      "not be regarded as reliable. (Later, we will test\n",
      "more rigorously, after a correctness check.\n",
      "Checking the answer...\n",
      "Executing the baseline MTTKRP method...\n",
      "==> Done with one instance. (~ 0.4 seconds)\n",
      "\n",
      "==> NOTE: This timing is only a quick estimate;\n",
      "it is based on only one measurement, and so should\n",
      "not be regarded as reliable. (Later, we will test\n",
      "more rigorously.)\n",
      "\n",
      "Basic correctness check: Comparing your output to the reference, A_py...\n",
      "    [threshold: 1.9582200000000002e-10]...\n",
      "==> Maximum absolute error observed: 0.0\n",
      "\n",
      "(Passed!)\n"
     ]
    }
   ],
   "source": [
    "# Test cell: `correctness_1` (1 point)\n",
    "#\n",
    "# This cell tests on the same structure with different nonzero values.\n",
    "\n",
    "print(\"Generating a new test instance...\")\n",
    "from random import choice\n",
    "T_py, B_py, C_py, D_py, N0, N1, N2, N3, R = generate_inputs(occur_zodiac_df, R=1+choice(range(9)))\n",
    "print(\"==> Done.\")\n",
    "\n",
    "print(\"Running your implementation...\")\n",
    "print(\"    input conversion...\")\n",
    "T, B, C, D = convert_inputs(T_py, B_py, C_py, D_py, N0, N1, N2, N3, R)\n",
    "print(\"    mode-0 MTTKRP...\")\n",
    "t3__ = get_timer()\n",
    "A = mttkrp_0(T, B, C, D, N0, N1, N2, N3, R)\n",
    "t3__ = get_timer() - t3__\n",
    "print(\"    output conversion...\")\n",
    "A_py__yours = convert_output(A, N0, R)\n",
    "print(\"==> Done. (MTTKRP ~ {:.1f} seconds.)\".format(t3__))\n",
    "print(\"\"\"==> NOTE: This timing is only a quick estimate;\n",
    "it is based on only one measurement, and so should\n",
    "not be regarded as reliable. (Later, we will test\n",
    "more rigorously, after a correctness check.\"\"\")\n",
    "\n",
    "print(\"Checking the answer...\")\n",
    "A_py = generate_solution(T_py, B_py, C_py, D_py, N0, R)\n",
    "big_err_locations = compare_answers(A_py, A_py__yours, multiplier=len(T_py))\n",
    "assert big_err_locations is None\n",
    "\n",
    "print(\"\\n(Passed!)\")"
   ]
  },
  {
   "cell_type": "code",
   "execution_count": 17,
   "metadata": {
    "deletable": false,
    "editable": false,
    "nbgrader": {
     "grade": true,
     "grade_id": "correctness_2",
     "locked": true,
     "points": 1,
     "solution": false
    }
   },
   "outputs": [
    {
     "name": "stdout",
     "output_type": "stream",
     "text": [
      "Loading a larger test problem...\n",
      "Reading ./resource/asnlib/publicdata/blogs/bloggers-100x2.csv...\n",
      "Reading ./resource/asnlib/publicdata/blogs/posts-100x2.csv...\n",
      "Reading ./resource/asnlib/publicdata/blogs/occur-100x2.csv...\n",
      "Reading ./resource/asnlib/publicdata/blogs/tensor_coords_df_soln-100x2.csv...\n",
      "==> Total loading time: ~ 0.5 seconds.\n",
      "Using a 4-way tensor of size N0 x N1 x N2 x N3 == 30863 x 30863 x 2492 x 12.\n",
      "There are 568421 nonzero entries.\n",
      "Using factors with 5 columns.\n",
      "\n",
      "Generating tensor... (may take a minute)\n",
      "==> Done generating inputs. (~ 1.1 seconds)\n",
      "\n",
      "Generating input factors...\n",
      "==> Done.\n",
      "==> Done.\n",
      "Running your implementation...\n",
      "    input conversion...\n",
      "    mode-0 MTTKRP...\n",
      "    output conversion...\n",
      "==> Done. (MTTKRP ~ 0.0 seconds.)\n",
      "==> NOTE: This timing is only a quick estimate;\n",
      "it is based on only one measurement, and so should\n",
      "not be regarded as reliable. (Later, we will test\n",
      "more rigorously, after a correctness check.)\n",
      "\n",
      "Checking the answer...\n",
      "Executing the baseline MTTKRP method...\n",
      "==> Done with one instance. (~ 2.0 seconds)\n",
      "\n",
      "==> NOTE: This timing is only a quick estimate;\n",
      "it is based on only one measurement, and so should\n",
      "not be regarded as reliable. (Later, we will test\n",
      "more rigorously.)\n",
      "\n",
      "Basic correctness check: Comparing your output to the reference, A_py...\n",
      "    [threshold: 1.136842e-09]...\n",
      "==> Maximum absolute error observed: 0.0\n",
      "\n",
      "(Passed!)\n"
     ]
    }
   ],
   "source": [
    "# Test cell: `correctness_2` (1 point)\n",
    "#\n",
    "# This cell tests on the same structure but on a larger problem.\n",
    "\n",
    "print(\"Loading a larger test problem...\")\n",
    "bloggers_df, posts_df, occur_df, soln_df = read_blogs('-100x2')\n",
    "occur_zodiac_df = add_zodiac_ids(occur_df, posts_df, bloggers_df)\n",
    "\n",
    "T_py, B_py, C_py, D_py, N0, N1, N2, N3, R = generate_inputs(occur_zodiac_df, R=5)\n",
    "print(\"==> Done.\")\n",
    "\n",
    "print(\"Running your implementation...\")\n",
    "print(\"    input conversion...\")\n",
    "T, B, C, D = convert_inputs(T_py, B_py, C_py, D_py, N0, N1, N2, N3, R)\n",
    "print(\"    mode-0 MTTKRP...\")\n",
    "t3__ = get_timer()\n",
    "A = mttkrp_0(T, B, C, D, N0, N1, N2, N3, R)\n",
    "t3__ = get_timer() - t3__\n",
    "print(\"    output conversion...\")\n",
    "A_py__yours = convert_output(A, N0, R)\n",
    "print(\"==> Done. (MTTKRP ~ {:.1f} seconds.)\".format(t3__))\n",
    "print(\"\"\"==> NOTE: This timing is only a quick estimate;\n",
    "it is based on only one measurement, and so should\n",
    "not be regarded as reliable. (Later, we will test\n",
    "more rigorously, after a correctness check.)\n",
    "\"\"\")\n",
    "\n",
    "print(\"Checking the answer...\")\n",
    "A_py = generate_solution(T_py, B_py, C_py, D_py, N0, R)\n",
    "big_err_locations = compare_answers(A_py, A_py__yours, multiplier=len(T_py))\n",
    "assert big_err_locations is None\n",
    "\n",
    "print(\"\\n(Passed!)\")"
   ]
  },
  {
   "cell_type": "code",
   "execution_count": 18,
   "metadata": {
    "deletable": false,
    "editable": false,
    "nbgrader": {
     "grade": true,
     "grade_id": "performance_0",
     "locked": true,
     "points": 2,
     "solution": false
    }
   },
   "outputs": [
    {
     "name": "stdout",
     "output_type": "stream",
     "text": [
      "\n",
      "Timing baseline...\n",
      "Timing result: (5 trials) x (1 runs) in 10.166012951005541 secs\n",
      "==> 2.033202590201108 secs per run\n",
      "\n",
      "Timing your method...\n",
      "Timing result: (5 trials) x (100 runs) in 7.4113373039945145 secs\n",
      "==> 0.014822674607989028 secs per run\n",
      "\n",
      "(Passed -- you were 137.2x > 1.25x faster!)\n"
     ]
    }
   ],
   "source": [
    "# Test cell: `performance_0`\n",
    "#\n",
    "# This cell checks that you achieved at least a 1.25x (25%) speed improvement.\n",
    "\n",
    "print(\"\\nTiming baseline...\")\n",
    "t_baseline = benchit(\"mttkrp_0__py(T_py, B_py, C_py, D_py, N0, R)\", scope=globals())\n",
    "\n",
    "print(\"\\nTiming your method...\")\n",
    "t_better = benchit(\"mttkrp_0(T, B, C, D, N0, N1, N2, N3, R)\", scope=globals())\n",
    "\n",
    "speedup = t_baseline['mean_time_per_run'] / t_better['mean_time_per_run']\n",
    "speedup_target = 1.25\n",
    "assert speedup >= speedup_target, \"Your method was only {:.2f}x faster (< 1 means it was slower)!\".format(speedup,\n",
    "                                                                                                          speedup_target)\n",
    "\n",
    "print(\"\\n(Passed -- you were {:.1f}x > {}x faster!)\".format(speedup, speedup_target))"
   ]
  },
  {
   "cell_type": "code",
   "execution_count": 19,
   "metadata": {
    "deletable": false,
    "editable": false,
    "nbgrader": {
     "grade": true,
     "grade_id": "performance_1",
     "locked": true,
     "points": 2,
     "solution": false
    }
   },
   "outputs": [
    {
     "name": "stdout",
     "output_type": "stream",
     "text": [
      "\n",
      "(Passed -- you were 137.2x > 1.5x faster!)\n"
     ]
    }
   ],
   "source": [
    "# Test cell: `performance_1`\n",
    "#\n",
    "# This cell checks that you achieved at least a 1.5x (50%) speed improvement.\n",
    "\n",
    "speedup_target = 1.5\n",
    "assert speedup >= speedup_target, \"Your method was only {:.2f}x faster (< 1 means it was slower)!\".format(speedup,\n",
    "                                                                                                          speedup_target)\n",
    "\n",
    "print(\"\\n(Passed -- you were {:.1f}x > {}x faster!)\".format(speedup, speedup_target))"
   ]
  },
  {
   "cell_type": "code",
   "execution_count": 20,
   "metadata": {
    "deletable": false,
    "editable": false,
    "nbgrader": {
     "grade": true,
     "grade_id": "performance_2",
     "locked": true,
     "points": 1,
     "solution": false
    }
   },
   "outputs": [
    {
     "name": "stdout",
     "output_type": "stream",
     "text": [
      "\n",
      "(Passed -- you were 137.2x > 2.0x faster!)\n"
     ]
    }
   ],
   "source": [
    "# Test cell: `performance_2`\n",
    "#\n",
    "# This cell checks that you achieved at least a 2x (100%) speed improvement.\n",
    "\n",
    "speedup_target = 2.0\n",
    "assert speedup >= speedup_target, \"Your method was only {:.2f}x faster (< 1 means it was slower)!\".format(speedup,\n",
    "                                                                                                          speedup_target)\n",
    "\n",
    "print(\"\\n(Passed -- you were {:.1f}x > {}x faster!)\".format(speedup, speedup_target))"
   ]
  },
  {
   "cell_type": "markdown",
   "metadata": {},
   "source": [
    "**Fin!** You've reached the end of this problem. Be sure to restart the kernel and re-run it from top-to-bottom to make sure should work. Then try submitting it to the autograder. If it passes the autograder, then you'll be good to go!"
   ]
  }
 ],
 "metadata": {
  "celltoolbar": "Create Assignment",
  "kernelspec": {
   "display_name": "Python 3.7",
   "language": "python",
   "name": "python37"
  },
  "language_info": {
   "codemirror_mode": {
    "name": "ipython",
    "version": 3
   },
   "file_extension": ".py",
   "mimetype": "text/x-python",
   "name": "python",
   "nbconvert_exporter": "python",
   "pygments_lexer": "ipython3",
   "version": "3.7.5"
  }
 },
 "nbformat": 4,
 "nbformat_minor": 2
}
