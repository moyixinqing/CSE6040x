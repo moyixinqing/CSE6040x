{
 "cells": [
  {
   "cell_type": "markdown",
   "metadata": {
    "deletable": false,
    "editable": false,
    "nbgrader": {
     "grade": false,
     "locked": true,
     "solution": false
    }
   },
   "source": [
    "# Problem 17: Building a toy recommendation system\n",
    "\n",
    "_Version 2.1_\n",
    "\n",
    "**Pro-tips.** If your program behavior seems strange, try resetting the kernel and rerunning everything. If you mess up this notebook or just want to start from scratch, save copies of all your partial responses and use `Actions` $\\rightarrow$ `Reset Assignment` to get a fresh, original copy of this notebook. (_Resetting will wipe out any answers you've written so far, so be sure to stash those somewhere safe if you intend to keep or reuse them!_)"
   ]
  },
  {
   "cell_type": "markdown",
   "metadata": {
    "deletable": false,
    "editable": false,
    "nbgrader": {
     "grade": false,
     "locked": true,
     "solution": false
    }
   },
   "source": [
    "## Introduction\n",
    "\n",
    "In this problem, we are going to explore the concepts behind Recommendation Systems and see how we can build a toy recommendation system from scratch. From Amazon to Netflix, Google to Goodreads, recommendation engines are one of the most widely used applications of machine learning techniques.  Here, we'll only implement a simple version of the same which will help us see how straightforward analysis on available data can help us build a minimum viable version of a product that is widely used in the industry today.\n",
    "\n",
    "This problem tests your understanding of computation using basic Python constructs (dicts, list, etc), Numpy and Pandas.\n",
    "\n",
    "\n",
    "## Problem Statement\n",
    "\n",
    "In this problem we'll implement a toy recommendation system to recommend movies to users based on their reviews. For this, we use the MovieLens 'small' data set. We will be implementing a collaborative-filtering recommendation system. You need not worry about the details as the exercises will contain enough information and will walk you through the process. To learn more about recommendation systems you may refer to this [wikipedia page](https://en.wikipedia.org/wiki/Recommender_system)."
   ]
  },
  {
   "cell_type": "markdown",
   "metadata": {
    "deletable": false,
    "editable": false,
    "nbgrader": {
     "grade": false,
     "locked": true,
     "solution": false
    }
   },
   "source": [
    "Run the next cells below to import the necessary libraries and to load the data"
   ]
  },
  {
   "cell_type": "code",
   "execution_count": 1,
   "metadata": {
    "deletable": false,
    "editable": false,
    "nbgrader": {
     "grade": false,
     "locked": true,
     "solution": false
    }
   },
   "outputs": [
    {
     "name": "stdout",
     "output_type": "stream",
     "text": [
      "Successfully imported necessary libraries! Let's begin!\n"
     ]
    }
   ],
   "source": [
    "# Run the below cell to import necessary libraries\n",
    "import pandas as pd\n",
    "import numpy as np\n",
    "from IPython.display import display, Markdown # For pretty-printing tibbles\n",
    "\n",
    "print(\"Successfully imported necessary libraries! Let's begin!\")"
   ]
  },
  {
   "cell_type": "code",
   "execution_count": 2,
   "metadata": {
    "deletable": false,
    "editable": false,
    "nbgrader": {
     "grade": false,
     "locked": true,
     "solution": false
    }
   },
   "outputs": [
    {
     "name": "stdout",
     "output_type": "stream",
     "text": [
      "Ratings data is now available in as a pandas dataframe. Here's a sample of what it looks like: \n"
     ]
    },
    {
     "data": {
      "text/html": [
       "<div>\n",
       "<style scoped>\n",
       "    .dataframe tbody tr th:only-of-type {\n",
       "        vertical-align: middle;\n",
       "    }\n",
       "\n",
       "    .dataframe tbody tr th {\n",
       "        vertical-align: top;\n",
       "    }\n",
       "\n",
       "    .dataframe thead th {\n",
       "        text-align: right;\n",
       "    }\n",
       "</style>\n",
       "<table border=\"1\" class=\"dataframe\">\n",
       "  <thead>\n",
       "    <tr style=\"text-align: right;\">\n",
       "      <th></th>\n",
       "      <th>userId</th>\n",
       "      <th>movieId</th>\n",
       "      <th>rating</th>\n",
       "      <th>timestamp</th>\n",
       "    </tr>\n",
       "  </thead>\n",
       "  <tbody>\n",
       "    <tr>\n",
       "      <th>0</th>\n",
       "      <td>1</td>\n",
       "      <td>1</td>\n",
       "      <td>4.0</td>\n",
       "      <td>964982703</td>\n",
       "    </tr>\n",
       "    <tr>\n",
       "      <th>1</th>\n",
       "      <td>1</td>\n",
       "      <td>3</td>\n",
       "      <td>4.0</td>\n",
       "      <td>964981247</td>\n",
       "    </tr>\n",
       "    <tr>\n",
       "      <th>2</th>\n",
       "      <td>1</td>\n",
       "      <td>6</td>\n",
       "      <td>4.0</td>\n",
       "      <td>964982224</td>\n",
       "    </tr>\n",
       "    <tr>\n",
       "      <th>3</th>\n",
       "      <td>1</td>\n",
       "      <td>47</td>\n",
       "      <td>5.0</td>\n",
       "      <td>964983815</td>\n",
       "    </tr>\n",
       "    <tr>\n",
       "      <th>4</th>\n",
       "      <td>1</td>\n",
       "      <td>50</td>\n",
       "      <td>5.0</td>\n",
       "      <td>964982931</td>\n",
       "    </tr>\n",
       "  </tbody>\n",
       "</table>\n",
       "</div>"
      ],
      "text/plain": [
       "   userId  movieId  rating  timestamp\n",
       "0       1        1     4.0  964982703\n",
       "1       1        3     4.0  964981247\n",
       "2       1        6     4.0  964982224\n",
       "3       1       47     5.0  964983815\n",
       "4       1       50     5.0  964982931"
      ]
     },
     "metadata": {},
     "output_type": "display_data"
    }
   ],
   "source": [
    "# Run this cell to read the data from the CSV\n",
    "\n",
    "ratings_data = pd.read_csv(\"resource/asnlib/publicdata/ratings.csv\")\n",
    "\n",
    "print(f\"Ratings data is now available in as a pandas dataframe. Here's a sample of what it looks like: \")\n",
    "display(ratings_data.head(5))"
   ]
  },
  {
   "cell_type": "code",
   "execution_count": 3,
   "metadata": {
    "deletable": false,
    "editable": false,
    "nbgrader": {
     "grade": false,
     "locked": true,
     "solution": false
    }
   },
   "outputs": [
    {
     "name": "stdout",
     "output_type": "stream",
     "text": [
      "A temporary dataset built to help with visible testcases and debugging: \n"
     ]
    },
    {
     "data": {
      "text/html": [
       "<div>\n",
       "<style scoped>\n",
       "    .dataframe tbody tr th:only-of-type {\n",
       "        vertical-align: middle;\n",
       "    }\n",
       "\n",
       "    .dataframe tbody tr th {\n",
       "        vertical-align: top;\n",
       "    }\n",
       "\n",
       "    .dataframe thead th {\n",
       "        text-align: right;\n",
       "    }\n",
       "</style>\n",
       "<table border=\"1\" class=\"dataframe\">\n",
       "  <thead>\n",
       "    <tr style=\"text-align: right;\">\n",
       "      <th></th>\n",
       "      <th>userId</th>\n",
       "      <th>movieId</th>\n",
       "      <th>rating</th>\n",
       "      <th>timestamp</th>\n",
       "    </tr>\n",
       "  </thead>\n",
       "  <tbody>\n",
       "    <tr>\n",
       "      <th>0</th>\n",
       "      <td>22.0</td>\n",
       "      <td>4.0</td>\n",
       "      <td>3.0</td>\n",
       "      <td>123.0</td>\n",
       "    </tr>\n",
       "    <tr>\n",
       "      <th>1</th>\n",
       "      <td>22.0</td>\n",
       "      <td>5.0</td>\n",
       "      <td>3.0</td>\n",
       "      <td>123.0</td>\n",
       "    </tr>\n",
       "    <tr>\n",
       "      <th>2</th>\n",
       "      <td>22.0</td>\n",
       "      <td>6.0</td>\n",
       "      <td>3.0</td>\n",
       "      <td>123.0</td>\n",
       "    </tr>\n",
       "    <tr>\n",
       "      <th>3</th>\n",
       "      <td>142.0</td>\n",
       "      <td>2.0</td>\n",
       "      <td>3.0</td>\n",
       "      <td>123.0</td>\n",
       "    </tr>\n",
       "    <tr>\n",
       "      <th>4</th>\n",
       "      <td>142.0</td>\n",
       "      <td>3.0</td>\n",
       "      <td>3.0</td>\n",
       "      <td>123.0</td>\n",
       "    </tr>\n",
       "  </tbody>\n",
       "</table>\n",
       "</div>"
      ],
      "text/plain": [
       "   userId  movieId  rating  timestamp\n",
       "0    22.0      4.0     3.0      123.0\n",
       "1    22.0      5.0     3.0      123.0\n",
       "2    22.0      6.0     3.0      123.0\n",
       "3   142.0      2.0     3.0      123.0\n",
       "4   142.0      3.0     3.0      123.0"
      ]
     },
     "metadata": {},
     "output_type": "display_data"
    }
   ],
   "source": [
    "# A temporary dataset to help with testcases and debugging\n",
    "\n",
    "temp = pd.DataFrame(columns = ['userId','movieId','rating','timestamp'])\n",
    "temp.loc[len(temp)] = [22,4,3.0,123]\n",
    "temp.loc[len(temp)] = [22,5,3.0,123]\n",
    "temp.loc[len(temp)] = [22,6,3.0,123]\n",
    "temp.loc[len(temp)] = [142,2,3.0,123]\n",
    "temp.loc[len(temp)] = [142,3,3.0,123]\n",
    "temp.loc[len(temp)] = [142,4,3.0,123]\n",
    "temp.loc[len(temp)] = [31,2,3.0,123]\n",
    "temp.loc[len(temp)] = [31,3,3.0,123]\n",
    "temp.loc[len(temp)] = [31,5,3.0,123]\n",
    "temp.loc[len(temp)] = [23,1,3.0,123]\n",
    "temp.loc[len(temp)] = [23,2,3.0,123]\n",
    "temp.loc[len(temp)] = [23,3,3.0,123]\n",
    "temp.loc[len(temp)] = [25,4,3.0,123]\n",
    "temp.loc[len(temp)] = [25,5,3.0,123]\n",
    "temp.loc[len(temp)] = [25,6,3.0,123]\n",
    "\n",
    "random_dataframe = ratings_data.sample(1000, random_state=10)\n",
    "\n",
    "print(\"A temporary dataset built to help with visible testcases and debugging: \")\n",
    "display(temp.head(5))"
   ]
  },
  {
   "cell_type": "markdown",
   "metadata": {},
   "source": [
    "## Data Transformation"
   ]
  },
  {
   "cell_type": "markdown",
   "metadata": {
    "deletable": false,
    "editable": false,
    "nbgrader": {
     "grade": false,
     "locked": true,
     "solution": false
    }
   },
   "source": [
    "### Exercise 0 (1 point \"exposed\"; 2 points hidden)\n",
    "\n",
    "The first step in the process will be to build a representation of user preferences for the items. In our case, users are movie viewers and items are the movies themselves.  \n",
    "\n",
    "The data file 'ratings.csv ' contains data in the format (userId, movieId, rating, timestamp). Our objective now is to represent this data in the form of a preference matrix where each row represents a userId's ratings for different movies. (Below is an example) \n",
    "\n",
    "<img src=\"./pref_matrix.png\">\n",
    "\n",
    "Additionally, we will also compute the following: \n",
    "1. **user_id_index**: a map that stores user ids as keys and their corresponding row index in the ratings matrix as values.\n",
    "\n",
    "2. **index_movie_id**: a map that stores the column index of movie ids as keys and movie ids as the values. \n",
    "\n",
    "\n",
    "Please note the following: \n",
    "> \n",
    "1. Dimensions of the matrix should be ```(number of userIds) x (number of movieIds)```. \n",
    "2. All missing values should be replaced with 0. (In case a user hasn't rated a movie) \n",
    "3. The ```movieId```s in columns should be sorted based on their numerical value. \n",
    "\n",
    "\n",
    "Complete the ```buildMatrix()``` function below. ```buildMatrix``` takes as input one parameter - the dataframe representing the ratings data and returns the following as a 3-tuple:\n",
    "1. a 2-D numpy array 'ratings' representing the preference matrix as described above.\n",
    "2. a dict 'user_id_index' as described above\n",
    "3. a dict 'index_movie_id' as described above\n",
    "\n",
    "> Hint: You may refer to [pandas pivot function](https://pandas.pydata.org/pandas-docs/stable/reference/api/pandas.DataFrame.pivot.html) which should help you build the preference matrix with ease!\n"
   ]
  },
  {
   "cell_type": "code",
   "execution_count": 4,
   "metadata": {},
   "outputs": [],
   "source": [
    "def buildMatrix(df):\n",
    "    ###\n",
    "# Run this cell to read the data from the CSV\n",
    "\n",
    "# df = temp.copy()\n",
    "    dfs = df.pivot(index='userId', columns='movieId', values='rating').fillna(0) \n",
    "    return (np.array(dfs), {int(v):k for k,v in enumerate(dfs.index)},{k:int(v) for k,v in enumerate(dfs.columns)})\n",
    "###\n"
   ]
  },
  {
   "cell_type": "code",
   "execution_count": 5,
   "metadata": {
    "deletable": false,
    "editable": false,
    "nbgrader": {
     "grade": true,
     "grade_id": "build_matrix_test_basic",
     "locked": true,
     "points": "1",
     "solution": false
    }
   },
   "outputs": [
    {
     "name": "stdout",
     "output_type": "stream",
     "text": [
      "Passed!\n"
     ]
    }
   ],
   "source": [
    "# Test cell: `build_matrix_test_basic`\n",
    "\n",
    "### Basic tests using the temp dataframe\n",
    "\n",
    "actual_pref_matrix_temp, actual_user_id_index_temp, actual_index_movie_id_temp  = buildMatrix(temp)\n",
    "\n",
    "expected_pref_matrix_temp = np.array([\n",
    "    [0., 0., 0., 3., 3., 3.],\n",
    "    [3., 3., 3., 0., 0., 0.],\n",
    "    [0., 0., 0., 3., 3., 3.],\n",
    "    [0., 3., 3., 0., 3., 0.],\n",
    "    [0., 3., 3., 3., 0., 0.]])\n",
    "\n",
    "expected_user_id_index_temp = {22: 0, 23: 1, 25: 2, 31: 3, 142: 4}\n",
    "\n",
    "expected_index_movie_id_temp = {0: 1, 1: 2, 2: 3, 3: 4, 4: 5, 5: 6}\n",
    "\n",
    "assert actual_pref_matrix_temp.shape == expected_pref_matrix_temp.shape, \\\n",
    "                                        f\"The preference matrix you returned has the incorrect shape: \\\n",
    "                                        {actual_pref_matrix_temp.shape}; Expected shape of preference matrix: \\\n",
    "                                        {expected_pref_matrix_temp.shape}\"\n",
    "assert np.all(np.equal(actual_pref_matrix_temp, expected_pref_matrix_temp)), \\\n",
    "                                        f\"Please check your steps in computing the preference matrix\"\n",
    "\n",
    "assert actual_user_id_index_temp == expected_user_id_index_temp, \\\n",
    "                            f\"The user_id_index generated does not match with what is expected. Expected: {expected_user_id_index_temp}\"\n",
    "\n",
    "assert actual_index_movie_id_temp == expected_index_movie_id_temp, \\\n",
    "                            f\"The index_movie_id generated does not match with what is expected. Expected: {expected_index_movie_id_temp}\"\n",
    "\n",
    "print(\"Passed!\")\n"
   ]
  },
  {
   "cell_type": "code",
   "execution_count": 6,
   "metadata": {
    "deletable": false,
    "editable": false,
    "nbgrader": {
     "grade": true,
     "grade_id": "build_matrix_test_hidden",
     "locked": true,
     "points": "2",
     "solution": false
    }
   },
   "outputs": [
    {
     "name": "stdout",
     "output_type": "stream",
     "text": [
      "\n",
      "This test cell will be replaced with one hidden test case.\n",
      "You will only know the result after submitting to the autograder.\n",
      "If the autograder times out, then either your solution is highly\n",
      "inefficient or contains a bug (e.g., an infinite loop).\n",
      "\n"
     ]
    }
   ],
   "source": [
    "# Test cell: `build_matrix_test_hidden`\n",
    "\n",
    "print(\"\"\"\n",
    "This test cell will be replaced with one hidden test case.\n",
    "You will only know the result after submitting to the autograder.\n",
    "If the autograder times out, then either your solution is highly\n",
    "inefficient or contains a bug (e.g., an infinite loop).\n",
    "\"\"\")\n",
    "\n",
    "###\n",
    "### AUTOGRADER TEST - DO NOT REMOVE\n",
    "###\n"
   ]
  },
  {
   "cell_type": "markdown",
   "metadata": {
    "deletable": false,
    "editable": false,
    "nbgrader": {
     "grade": false,
     "locked": true,
     "solution": false
    }
   },
   "source": [
    "## How do we know what to recommend? "
   ]
  },
  {
   "cell_type": "markdown",
   "metadata": {
    "deletable": false,
    "editable": false,
    "nbgrader": {
     "grade": false,
     "locked": true,
     "solution": false
    }
   },
   "source": [
    "We now have a representation of the data in a format that should be easy to work with. Let's move ahead and think about a way in which we can mathematically represent similarity between two users or two movies. Similarity can be measured in various ways. One such similarity measure is the Cosine similarity. \n",
    "\n",
    "In this problem, we will use cosine similarity (explained below) as our measure of similarity:\n",
    "\n",
    ">Cosine Similarity is defined as the cosine of the angle between two vectors. It gives a measure of how similar the given vectors are. It is defined as follows:\n",
    "\n",
    "$$Similarity = cos(\\theta) = \\frac{A.B}{\\|A\\| \\|B\\|} = = \\frac{\\sum_{i=1}^{n} A_i B_i}{\\sqrt{\\sum_{i=1}^{n} A_i^{2}}     \\sqrt{\\sum_{i=1}^{n} B_i^{2}}}$$\n",
    "\n",
    "\n",
    "You can read more about Cosine similarity [here](https://en.wikipedia.org/wiki/Cosine_similarity). "
   ]
  },
  {
   "cell_type": "markdown",
   "metadata": {
    "deletable": false,
    "editable": false,
    "nbgrader": {
     "grade": false,
     "locked": true,
     "solution": false
    }
   },
   "source": [
    "### Exercise 1 (1 point \"exposed\"; 1 point hidden)\n",
    "\n",
    "Now let's implement a function to compute the cosine similarity. Complete the code for the following function, ```cosine```, to compute the Cosine Similarity between two  given vectors ```vA```,```vB```. "
   ]
  },
  {
   "cell_type": "code",
   "execution_count": 7,
   "metadata": {
    "collapsed": true
   },
   "outputs": [],
   "source": [
    "def cosine(vA,vB):\n",
    "    ###\n",
    "    a = np.sum(vA*vB)\n",
    "    \n",
    "    b = np.sqrt(np.sum(vA*vA))\n",
    "    c = np.sqrt(np.sum(vB*vB))\n",
    "    return a/(b*c)\n",
    "    ###\n"
   ]
  },
  {
   "cell_type": "code",
   "execution_count": 8,
   "metadata": {
    "deletable": false,
    "editable": false,
    "nbgrader": {
     "grade": true,
     "grade_id": "cosine_similarity_test_basic",
     "locked": true,
     "points": "1",
     "solution": false
    }
   },
   "outputs": [
    {
     "name": "stdout",
     "output_type": "stream",
     "text": [
      "Checking basic test cases...\n",
      "Testing against equal vectors...\n",
      "Testing against orthogonal vectors...\n",
      "Passed!\n",
      "\n"
     ]
    }
   ],
   "source": [
    "# Test cell: `cosine_similarity_test_basic`\n",
    "\n",
    "print(\"Checking basic test cases...\")\n",
    "\n",
    "print(\"Testing against equal vectors...\")\n",
    "x = np.arange(1000)\n",
    "y = np.arange(1000)\n",
    "epsilon = 1e-6\n",
    "assert abs(cosine(x,y) - 1) < epsilon, \"Please check your implementation - two vectors that are equal should have a cosine similarity of 1\"\n",
    "\n",
    "print(\"Testing against orthogonal vectors...\")\n",
    "xx = np.array([1, 0, 100, 0])\n",
    "yy = np.array([0, 1, 0, 1])\n",
    "assert abs(cosine(xx,yy)) < epsilon, \"Please check your implementation - two vectors that are orthogonal should have a cosine similarity of 0\"\n",
    "\n",
    "print(\"Passed!\\n\")"
   ]
  },
  {
   "cell_type": "code",
   "execution_count": 9,
   "metadata": {
    "deletable": false,
    "editable": false,
    "nbgrader": {
     "grade": true,
     "grade_id": "cosine_similarity_test_hidden",
     "locked": true,
     "points": "1",
     "solution": false
    }
   },
   "outputs": [
    {
     "name": "stdout",
     "output_type": "stream",
     "text": [
      "\n",
      "This test cell will be replaced with one hidden test case.\n",
      "You will only know the result after submitting to the autograder.\n",
      "If the autograder times out, then either your solution is highly\n",
      "inefficient or contains a bug (e.g., an infinite loop).\n",
      "\n"
     ]
    }
   ],
   "source": [
    "# Test cell: `cosine_similarity_test_hidden`\n",
    "\n",
    "print(\"\"\"\n",
    "This test cell will be replaced with one hidden test case.\n",
    "You will only know the result after submitting to the autograder.\n",
    "If the autograder times out, then either your solution is highly\n",
    "inefficient or contains a bug (e.g., an infinite loop).\n",
    "\"\"\")\n",
    "\n",
    "###\n",
    "### AUTOGRADER TEST - DO NOT REMOVE\n",
    "###\n"
   ]
  },
  {
   "cell_type": "markdown",
   "metadata": {
    "deletable": false,
    "editable": false,
    "nbgrader": {
     "grade": false,
     "locked": true,
     "solution": false
    }
   },
   "source": [
    "## User - User Collaborative Recommendation System "
   ]
  },
  {
   "cell_type": "markdown",
   "metadata": {
    "deletable": false,
    "editable": false,
    "nbgrader": {
     "grade": false,
     "locked": true,
     "solution": false
    }
   },
   "source": [
    "Collborative Recommendation systems work by first finding similar users(or items) and then uses the preferences of the similar users to make recommendations.\n",
    "\n",
    "A User-User Collaborative Recommendation System works as follows:\n",
    "\n",
    "For a given user, we find a group of similar users based on our similarity metric. Once we have a group of similar users, we recommend those items which the group of similar users have liked but the actual user hasn't seen/liked yet. \n"
   ]
  },
  {
   "cell_type": "markdown",
   "metadata": {
    "deletable": false,
    "editable": false,
    "nbgrader": {
     "grade": false,
     "locked": true,
     "solution": false
    }
   },
   "source": [
    "## Exercise 2\n",
    "\n",
    "We will now implement the logic to select top 10 users from all the users. Implement the method ```select_users``` to select top 10 similar users and return their ```userId```. The method ```select_users``` takes as parameters the following:\n",
    "1. ```ratings```: the numpy matrix we get from the previously defined ```buildMatrix``` method\n",
    "2. ```user_id_index```: a map that stores user ids as keys and their corresponding row index in the ratings matrix as values.\n",
    "3. ```current_user_id```: the user id for which we need to find similar users. \n",
    "\n",
    "The expected return values is the list of user ids corresponding to the top 10 users with the highest cosine similarity match of their ratings profile, sorted in descending order (if there is a tie in cosine scores, sort in ascending order of user id). \n",
    "\n",
    "> Note: \n",
    "1. The ratings profile of a user is simply the row corresponding to the user in the ratings matrix.\n",
    "2. Remember to return a python list"
   ]
  },
  {
   "cell_type": "code",
   "execution_count": 10,
   "metadata": {},
   "outputs": [],
   "source": [
    "def select_users(ratings,user_id_index,current_user_id):\n",
    "    ###\n",
    "    cur = user_id_index[current_user_id]\n",
    "    vA = ratings[cur,:]\n",
    "    dic = {}\n",
    "    for k, v in user_id_index.items():\n",
    "        if k != current_user_id:\n",
    "            vB = ratings[v,:]\n",
    "            dic[k] = cosine(vA,vB)\n",
    "    res =  [v[0] for v in sorted(dic.items(), key=lambda kv: (-kv[1], kv[0]))]\n",
    "    return res[:10]\n",
    "    ###\n"
   ]
  },
  {
   "cell_type": "code",
   "execution_count": 11,
   "metadata": {},
   "outputs": [
    {
     "data": {
      "text/plain": [
       "[1, 3, 4, 6, 7, 9, 14, 15, 16, 18]"
      ]
     },
     "execution_count": 11,
     "metadata": {},
     "output_type": "execute_result"
    }
   ],
   "source": [
    "actual_pref_matrix, actual_user_id_index, actual_index_movie_id  = buildMatrix(random_dataframe)\n",
    "select_users(actual_pref_matrix, actual_user_id_index, 345)\n"
   ]
  },
  {
   "cell_type": "code",
   "execution_count": 12,
   "metadata": {
    "deletable": false,
    "editable": false,
    "nbgrader": {
     "grade": true,
     "grade_id": "select_users_test_basic",
     "locked": true,
     "points": "1",
     "solution": false
    }
   },
   "outputs": [
    {
     "name": "stdout",
     "output_type": "stream",
     "text": [
      "Checking against basic test cases for select_users...\n",
      "Passed!\n",
      "\n"
     ]
    }
   ],
   "source": [
    "# Test cell: `select_users_test_basic`\n",
    "\n",
    "print(\"Checking against basic test cases for select_users...\")\n",
    "\n",
    "actual_pref_matrix_temp, actual_user_id_index_temp, actual_index_movie_id_temp  = buildMatrix(temp)\n",
    "expected_similar_users_temp = np.array([25, 31, 142, 23])\n",
    "actual_similar_users_temp = select_users(actual_pref_matrix_temp, actual_user_id_index_temp, 22)\n",
    "\n",
    "assert np.all(np.equal(expected_similar_users_temp, actual_similar_users_temp)), \"The expected list of similar users does not match with \\\n",
    "                                                        the actual returned list of similar users. \\\n",
    "                                                        Expected: {expected_similar_users_temp};  \\\n",
    "                                                        Actual: {actual_similar_users_temp}\"\n",
    "\n",
    "print(\"Passed!\\n\")"
   ]
  },
  {
   "cell_type": "code",
   "execution_count": 13,
   "metadata": {
    "deletable": false,
    "editable": false,
    "nbgrader": {
     "grade": true,
     "grade_id": "select_users_test_hidden",
     "locked": true,
     "points": "1",
     "solution": false
    }
   },
   "outputs": [
    {
     "name": "stdout",
     "output_type": "stream",
     "text": [
      "\n",
      "This test cell will be replaced with one hidden test case.\n",
      "You will only know the result after submitting to the autograder.\n",
      "If the autograder times out, then either your solution is highly\n",
      "inefficient or contains a bug (e.g., an infinite loop).\n",
      "\n"
     ]
    }
   ],
   "source": [
    "# Test cell: `select_users_test_hidden`\n",
    "\n",
    "print(\"\"\"\n",
    "This test cell will be replaced with one hidden test case.\n",
    "You will only know the result after submitting to the autograder.\n",
    "If the autograder times out, then either your solution is highly\n",
    "inefficient or contains a bug (e.g., an infinite loop).\n",
    "\"\"\")\n",
    "\n",
    "###\n",
    "### AUTOGRADER TEST - DO NOT REMOVE\n",
    "###\n"
   ]
  },
  {
   "cell_type": "markdown",
   "metadata": {},
   "source": [
    "## Exercise 3\n",
    "\n",
    "Our implementation is almost complete.  \n",
    "\n",
    "All that's left to do now is to return recommendations by fetching them based on the preferences of users selected through our ```select_users method```. \n",
    "\n",
    "Implement the method ```recommend_user_user``` to find one movie each from each of the top 10 users returned by above method.\n",
    "\n",
    "Your task is simple. For each of the top 10 similar users, recommend the first movie (in order of their column position in ratings matrix). Ignore duplicates and the order is not important. \n",
    "\n",
    "The function ```recommend_user_user``` takes in the following parameters:\n",
    "1. ```ratings```: the preference matrix returned from the ```build_matrix``` function\n",
    "2. ```similar_user_ids```: the list of similar user_ids returned from the ```select_users_method```\n",
    "3. ```user_id_index```: user_id_index returned from the ```build_matrix``` function\n",
    "4. ```index_movie_id``` index_movie_id returned from the ```build_matrix``` function\n",
    "\n",
    "The expected output from ```recommend_user_user``` is a set of movies as described. "
   ]
  },
  {
   "cell_type": "code",
   "execution_count": 14,
   "metadata": {},
   "outputs": [],
   "source": [
    "def recommend_user_user(ratings, similar_user_ids, user_id_index, index_movie_id):\n",
    "    ###\n",
    "    l = []\n",
    "    for i in similar_user_ids:\n",
    "        movie_idx=np.nonzero(ratings[user_id_index[i]])[0][0]\n",
    "        l.append(index_movie_id[movie_idx])\n",
    "    return set(l)\n",
    "    ###\n"
   ]
  },
  {
   "cell_type": "code",
   "execution_count": 15,
   "metadata": {
    "deletable": false,
    "editable": false,
    "nbgrader": {
     "grade": true,
     "grade_id": "recommend_user_test_basic",
     "locked": true,
     "points": "1",
     "solution": false
    }
   },
   "outputs": [
    {
     "name": "stdout",
     "output_type": "stream",
     "text": [
      "Checking basic test cases...\n",
      "Passed!\n",
      "\n"
     ]
    }
   ],
   "source": [
    "# Test cell: `recommend_user_test_basic`\n",
    "\n",
    "print(\"Checking basic test cases...\")\n",
    "\n",
    "actual_pref_matrix_temp, actual_user_id_index_temp, actual_index_movie_id_temp  = buildMatrix(temp)\n",
    "actual_similar_users_temp = select_users(actual_pref_matrix_temp, actual_user_id_index_temp, 22)\n",
    "\n",
    "expected_recommendations_temp = set([1,2,4])\n",
    "actual_recommendations_temp = recommend_user_user(actual_pref_matrix_temp, actual_similar_users_temp, actual_user_id_index_temp, actual_index_movie_id_temp)\n",
    "\n",
    "assert expected_recommendations_temp == actual_recommendations_temp, \"Expected recommendations were {expected_recommendations_temp}; \\\n",
    "                                        but actual recommendations recieved were: {actual_recommendations_temp}\"\n",
    "\n",
    "print(\"Passed!\\n\")"
   ]
  },
  {
   "cell_type": "code",
   "execution_count": 16,
   "metadata": {
    "deletable": false,
    "editable": false,
    "nbgrader": {
     "grade": true,
     "grade_id": "recommend_user_test_hidden",
     "locked": true,
     "points": "2",
     "solution": false
    }
   },
   "outputs": [
    {
     "name": "stdout",
     "output_type": "stream",
     "text": [
      "\n",
      "This test cell will be replaced with one hidden test case.\n",
      "You will only know the result after submitting to the autograder.\n",
      "If the autograder times out, then either your solution is highly\n",
      "inefficient or contains a bug (e.g., an infinite loop).\n",
      "\n"
     ]
    }
   ],
   "source": [
    "# Test cell: `recommend_user_test_hidden`\n",
    "\n",
    "print(\"\"\"\n",
    "This test cell will be replaced with one hidden test case.\n",
    "You will only know the result after submitting to the autograder.\n",
    "If the autograder times out, then either your solution is highly\n",
    "inefficient or contains a bug (e.g., an infinite loop).\n",
    "\"\"\")\n",
    "\n",
    "###\n",
    "### AUTOGRADER TEST - DO NOT REMOVE\n",
    "###\n"
   ]
  },
  {
   "cell_type": "markdown",
   "metadata": {
    "deletable": false,
    "editable": false,
    "nbgrader": {
     "grade": false,
     "locked": true,
     "solution": false
    }
   },
   "source": [
    "**Fin!** You’ve reached the end of this part. Don’t forget to restart and run all cells again to make sure it’s all working when run in sequence; and make sure your work passes the submission process. Good luck!"
   ]
  }
 ],
 "metadata": {
  "kernelspec": {
   "display_name": "Python 3.7",
   "language": "python",
   "name": "python37"
  },
  "language_info": {
   "codemirror_mode": {
    "name": "ipython",
    "version": 3
   },
   "file_extension": ".py",
   "mimetype": "text/x-python",
   "name": "python",
   "nbconvert_exporter": "python",
   "pygments_lexer": "ipython3",
   "version": "3.7.5"
  }
 },
 "nbformat": 4,
 "nbformat_minor": 2
}
