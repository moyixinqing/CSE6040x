{
 "cells": [
  {
   "cell_type": "markdown",
   "metadata": {
    "deletable": false,
    "editable": false,
    "nbgrader": {
     "grade": false,
     "locked": true,
     "solution": false
    }
   },
   "source": [
    "# Problem 9: SQL Operations"
   ]
  },
  {
   "cell_type": "markdown",
   "metadata": {
    "deletable": false,
    "editable": false,
    "nbgrader": {
     "grade": false,
     "locked": true,
     "solution": false
    }
   },
   "source": [
    "This problem will test your ability to manipulate two simple SQL tables. You may find a problem easier to complete using Pandas, or you may find a problem easier to complete in SQL. We will provide you will a SQLite database containing two tables, and two Pandas Dataframes that are identical to the SQLite tables. "
   ]
  },
  {
   "cell_type": "code",
   "execution_count": 1,
   "metadata": {
    "deletable": false,
    "editable": false,
    "nbgrader": {
     "grade": false,
     "locked": true,
     "solution": false
    }
   },
   "outputs": [
    {
     "name": "stdout",
     "output_type": "stream",
     "text": [
      "* Python version: 3.7.5 (default, Dec 18 2019, 06:24:58) \n",
      "[GCC 5.5.0 20171010]\n",
      "* pandas version: 1.1.2\n",
      "* sqlite3 version: 2.6.0\n"
     ]
    }
   ],
   "source": [
    "import sys\n",
    "import pandas as pd\n",
    "import sqlite3 as db\n",
    "from IPython.display import display\n",
    "\n",
    "def get_data_path(filebase):\n",
    "    return f\"resource/asnlib/publicdata/movies/{filebase}\"\n",
    "\n",
    "print(f\"* Python version: {sys.version}\")\n",
    "print(f\"* pandas version: {pd.__version__}\")\n",
    "print(f\"* sqlite3 version: {db.version}\")"
   ]
  },
  {
   "cell_type": "markdown",
   "metadata": {
    "deletable": false,
    "editable": false,
    "nbgrader": {
     "grade": false,
     "locked": true,
     "solution": false
    }
   },
   "source": [
    "## The Movies and Cast Dataset"
   ]
  },
  {
   "cell_type": "markdown",
   "metadata": {
    "deletable": false,
    "editable": false,
    "nbgrader": {
     "grade": false,
     "locked": true,
     "solution": false
    }
   },
   "source": [
    "The data consists of two tables. The first is a table of movies along with (random) audience scores from 1-100. The second is a table of cast members for those movies. There are some interesting cast members in here that you might stumble upon!"
   ]
  },
  {
   "cell_type": "markdown",
   "metadata": {
    "deletable": false,
    "editable": false,
    "nbgrader": {
     "grade": false,
     "locked": true,
     "solution": false
    }
   },
   "source": [
    "Let's read in the database file and show the table descriptions."
   ]
  },
  {
   "cell_type": "code",
   "execution_count": 2,
   "metadata": {
    "deletable": false,
    "editable": false,
    "nbgrader": {
     "grade": false,
     "locked": true,
     "solution": false
    }
   },
   "outputs": [
    {
     "name": "stdout",
     "output_type": "stream",
     "text": [
      "('table', 'movies', 'CREATE TABLE movies (id integer, name text, score integer)')\n",
      "('table', 'cast', 'CREATE TABLE cast (movie_id integer, cast_id integer, cast_name text)')\n"
     ]
    }
   ],
   "source": [
    "disk_engine = db.connect(get_data_path('movieDB.db'))\n",
    "c = disk_engine.cursor()\n",
    "\n",
    "c.execute('SELECT type, name, sql FROM sqlite_master')\n",
    "results = c.fetchall()\n",
    "for table in results:\n",
    "    print(table)"
   ]
  },
  {
   "cell_type": "code",
   "execution_count": 3,
   "metadata": {
    "deletable": false,
    "editable": false,
    "nbgrader": {
     "grade": false,
     "locked": true,
     "solution": false
    }
   },
   "outputs": [
    {
     "name": "stdout",
     "output_type": "stream",
     "text": [
      "Movies Dataframe:\n",
      "-------------------\n"
     ]
    },
    {
     "data": {
      "text/html": [
       "<div>\n",
       "<style scoped>\n",
       "    .dataframe tbody tr th:only-of-type {\n",
       "        vertical-align: middle;\n",
       "    }\n",
       "\n",
       "    .dataframe tbody tr th {\n",
       "        vertical-align: top;\n",
       "    }\n",
       "\n",
       "    .dataframe thead th {\n",
       "        text-align: right;\n",
       "    }\n",
       "</style>\n",
       "<table border=\"1\" class=\"dataframe\">\n",
       "  <thead>\n",
       "    <tr style=\"text-align: right;\">\n",
       "      <th></th>\n",
       "      <th>id</th>\n",
       "      <th>name</th>\n",
       "      <th>score</th>\n",
       "    </tr>\n",
       "  </thead>\n",
       "  <tbody>\n",
       "    <tr>\n",
       "      <th>0</th>\n",
       "      <td>9</td>\n",
       "      <td>Star Wars: Episode III - Revenge of the Sith 3D</td>\n",
       "      <td>61</td>\n",
       "    </tr>\n",
       "    <tr>\n",
       "      <th>1</th>\n",
       "      <td>24214</td>\n",
       "      <td>The Chronicles of Narnia: The Lion, The Witch ...</td>\n",
       "      <td>46</td>\n",
       "    </tr>\n",
       "    <tr>\n",
       "      <th>2</th>\n",
       "      <td>1789</td>\n",
       "      <td>War of the Worlds</td>\n",
       "      <td>94</td>\n",
       "    </tr>\n",
       "    <tr>\n",
       "      <th>3</th>\n",
       "      <td>10009</td>\n",
       "      <td>Star Wars: Episode II - Attack of the Clones 3D</td>\n",
       "      <td>28</td>\n",
       "    </tr>\n",
       "    <tr>\n",
       "      <th>4</th>\n",
       "      <td>771238285</td>\n",
       "      <td>Warm Bodies</td>\n",
       "      <td>3</td>\n",
       "    </tr>\n",
       "  </tbody>\n",
       "</table>\n",
       "</div>"
      ],
      "text/plain": [
       "          id                                               name  score\n",
       "0          9    Star Wars: Episode III - Revenge of the Sith 3D     61\n",
       "1      24214  The Chronicles of Narnia: The Lion, The Witch ...     46\n",
       "2       1789                                  War of the Worlds     94\n",
       "3      10009    Star Wars: Episode II - Attack of the Clones 3D     28\n",
       "4  771238285                                        Warm Bodies      3"
      ]
     },
     "metadata": {},
     "output_type": "display_data"
    },
    {
     "name": "stdout",
     "output_type": "stream",
     "text": [
      "\n",
      "\n",
      "\n",
      "Cast Dataframe:\n",
      "-------------------\n"
     ]
    },
    {
     "data": {
      "text/html": [
       "<div>\n",
       "<style scoped>\n",
       "    .dataframe tbody tr th:only-of-type {\n",
       "        vertical-align: middle;\n",
       "    }\n",
       "\n",
       "    .dataframe tbody tr th {\n",
       "        vertical-align: top;\n",
       "    }\n",
       "\n",
       "    .dataframe thead th {\n",
       "        text-align: right;\n",
       "    }\n",
       "</style>\n",
       "<table border=\"1\" class=\"dataframe\">\n",
       "  <thead>\n",
       "    <tr style=\"text-align: right;\">\n",
       "      <th></th>\n",
       "      <th>movie_id</th>\n",
       "      <th>cast_id</th>\n",
       "      <th>cast_name</th>\n",
       "    </tr>\n",
       "  </thead>\n",
       "  <tbody>\n",
       "    <tr>\n",
       "      <th>0</th>\n",
       "      <td>9</td>\n",
       "      <td>162652153</td>\n",
       "      <td>Hayden Christensen</td>\n",
       "    </tr>\n",
       "    <tr>\n",
       "      <th>1</th>\n",
       "      <td>9</td>\n",
       "      <td>162652152</td>\n",
       "      <td>Ewan McGregor</td>\n",
       "    </tr>\n",
       "    <tr>\n",
       "      <th>2</th>\n",
       "      <td>9</td>\n",
       "      <td>418638213</td>\n",
       "      <td>Kenny Baker</td>\n",
       "    </tr>\n",
       "    <tr>\n",
       "      <th>3</th>\n",
       "      <td>9</td>\n",
       "      <td>548155708</td>\n",
       "      <td>Graeme Blundell</td>\n",
       "    </tr>\n",
       "    <tr>\n",
       "      <th>4</th>\n",
       "      <td>9</td>\n",
       "      <td>358317901</td>\n",
       "      <td>Jeremy Bulloch</td>\n",
       "    </tr>\n",
       "  </tbody>\n",
       "</table>\n",
       "</div>"
      ],
      "text/plain": [
       "   movie_id    cast_id           cast_name\n",
       "0         9  162652153  Hayden Christensen\n",
       "1         9  162652152       Ewan McGregor\n",
       "2         9  418638213         Kenny Baker\n",
       "3         9  548155708     Graeme Blundell\n",
       "4         9  358317901      Jeremy Bulloch"
      ]
     },
     "metadata": {},
     "output_type": "display_data"
    }
   ],
   "source": [
    "movies = pd.read_table(get_data_path('movie-name-score.txt'), sep=',', header=None, names=['id', 'name', 'score'])\n",
    "cast = pd.read_table(get_data_path('movie-cast.txt'), sep=',', header=None, names=['movie_id', 'cast_id', 'cast_name'])\n",
    "\n",
    "print('Movies Dataframe:')\n",
    "print('-------------------')\n",
    "display(movies.head())\n",
    "print('\\n\\n')\n",
    "print('Cast Dataframe:')\n",
    "print('-------------------')\n",
    "display(cast.head())"
   ]
  },
  {
   "cell_type": "markdown",
   "metadata": {
    "deletable": false,
    "editable": false,
    "nbgrader": {
     "grade": false,
     "locked": true,
     "solution": false
    }
   },
   "source": [
    "In terms of Database structures, the **`cast`** table's **`movie_id`** column is a foreign key to the **`movie`** table's **`id`** column. \n",
    "\n",
    "This means you can perform any SQL joins or Pandas merges between the two tables on this column. "
   ]
  },
  {
   "cell_type": "markdown",
   "metadata": {
    "deletable": false,
    "editable": false,
    "nbgrader": {
     "grade": false,
     "locked": true,
     "solution": false
    }
   },
   "source": [
    "One final code cell to get you started - implement the all-too-familiar `canonicalize_tibble` and `tibbles_are_equivalent` functions. "
   ]
  },
  {
   "cell_type": "code",
   "execution_count": 4,
   "metadata": {
    "collapsed": true
   },
   "outputs": [],
   "source": [
    "def canonicalize_tibble(X):\n",
    "    var_names = sorted(X.columns)\n",
    "    Y = X[var_names].copy()\n",
    "    Y.sort_values(by=var_names, inplace=True)\n",
    "    Y.reset_index(drop=True, inplace=True)\n",
    "    return Y\n",
    "\n",
    "def tibbles_are_equivalent (A, B):\n",
    "    A_canonical = canonicalize_tibble(A)\n",
    "    B_canonical = canonicalize_tibble(B)\n",
    "    equal = (A_canonical == B_canonical)\n",
    "    return equal.all().all()"
   ]
  },
  {
   "cell_type": "markdown",
   "metadata": {
    "deletable": false,
    "editable": false,
    "nbgrader": {
     "grade": false,
     "locked": true,
     "solution": false
    }
   },
   "source": [
    "Let's start with two warm-up exercises. \n",
    "\n",
    "**Exercise 0** (2 points): Create a dataframe, ***`cast_size`***, that contains the number of distinct cast members per movie. Your table will have two columns, *`movie_name`*, the name of each film, and *`cast_count`*, the number of unique cast members for the film. \n",
    "\n",
    "Order the result by *`cast_count`* from highest to lowest."
   ]
  },
  {
   "cell_type": "code",
   "execution_count": 5,
   "metadata": {},
   "outputs": [],
   "source": [
    "###\n",
    "cast_size = movies.merge(cast, left_on = 'id', right_on='movie_id')\n",
    "cast_size = cast_size.groupby(['id','name']).agg({'cast_name':'nunique'}).reset_index()\n",
    "cast_size = cast_size.rename(columns = {'name': 'movie_name','cast_name':'cast_count'})\n",
    "cast_size = cast_size.sort_values(by = ['cast_count'], ascending = False).reset_index()\n",
    "cast_size.drop(['id','index'], axis = 1, inplace = True)\n",
    "###\n"
   ]
  },
  {
   "cell_type": "code",
   "execution_count": 6,
   "metadata": {},
   "outputs": [
    {
     "data": {
      "text/html": [
       "<div>\n",
       "<style scoped>\n",
       "    .dataframe tbody tr th:only-of-type {\n",
       "        vertical-align: middle;\n",
       "    }\n",
       "\n",
       "    .dataframe tbody tr th {\n",
       "        vertical-align: top;\n",
       "    }\n",
       "\n",
       "    .dataframe thead th {\n",
       "        text-align: right;\n",
       "    }\n",
       "</style>\n",
       "<table border=\"1\" class=\"dataframe\">\n",
       "  <thead>\n",
       "    <tr style=\"text-align: right;\">\n",
       "      <th></th>\n",
       "      <th>movie_name</th>\n",
       "      <th>cast_count</th>\n",
       "    </tr>\n",
       "  </thead>\n",
       "  <tbody>\n",
       "    <tr>\n",
       "      <th>0</th>\n",
       "      <td>The War of the Worlds</td>\n",
       "      <td>72</td>\n",
       "    </tr>\n",
       "    <tr>\n",
       "      <th>1</th>\n",
       "      <td>Star Wars: Episode III - Revenge of the Sith 3D</td>\n",
       "      <td>66</td>\n",
       "    </tr>\n",
       "    <tr>\n",
       "      <th>2</th>\n",
       "      <td>The Chronicles of Narnia: The Lion, The Witch ...</td>\n",
       "      <td>66</td>\n",
       "    </tr>\n",
       "    <tr>\n",
       "      <th>3</th>\n",
       "      <td>Star Wars: Episode VI - Return of the Jedi</td>\n",
       "      <td>65</td>\n",
       "    </tr>\n",
       "    <tr>\n",
       "      <th>4</th>\n",
       "      <td>This Means War</td>\n",
       "      <td>64</td>\n",
       "    </tr>\n",
       "    <tr>\n",
       "      <th>...</th>\n",
       "      <td>...</td>\n",
       "      <td>...</td>\n",
       "    </tr>\n",
       "    <tr>\n",
       "      <th>388</th>\n",
       "      <td>The Second World War</td>\n",
       "      <td>1</td>\n",
       "    </tr>\n",
       "    <tr>\n",
       "      <th>389</th>\n",
       "      <td>Diamonds of War: Africa's Blood Diamond</td>\n",
       "      <td>1</td>\n",
       "    </tr>\n",
       "    <tr>\n",
       "      <th>390</th>\n",
       "      <td>World War 1: American Legacy</td>\n",
       "      <td>1</td>\n",
       "    </tr>\n",
       "    <tr>\n",
       "      <th>391</th>\n",
       "      <td>War - Greatest Hits Live</td>\n",
       "      <td>1</td>\n",
       "    </tr>\n",
       "    <tr>\n",
       "      <th>392</th>\n",
       "      <td>The War of the World: A New History of the 20t...</td>\n",
       "      <td>1</td>\n",
       "    </tr>\n",
       "  </tbody>\n",
       "</table>\n",
       "<p>393 rows × 2 columns</p>\n",
       "</div>"
      ],
      "text/plain": [
       "                                            movie_name  cast_count\n",
       "0                                The War of the Worlds          72\n",
       "1      Star Wars: Episode III - Revenge of the Sith 3D          66\n",
       "2    The Chronicles of Narnia: The Lion, The Witch ...          66\n",
       "3           Star Wars: Episode VI - Return of the Jedi          65\n",
       "4                                       This Means War          64\n",
       "..                                                 ...         ...\n",
       "388                               The Second World War           1\n",
       "389            Diamonds of War: Africa's Blood Diamond           1\n",
       "390                       World War 1: American Legacy           1\n",
       "391                           War - Greatest Hits Live           1\n",
       "392  The War of the World: A New History of the 20t...           1\n",
       "\n",
       "[393 rows x 2 columns]"
      ]
     },
     "metadata": {},
     "output_type": "display_data"
    }
   ],
   "source": [
    "display(cast_size)"
   ]
  },
  {
   "cell_type": "code",
   "execution_count": 7,
   "metadata": {
    "deletable": false,
    "editable": false,
    "nbgrader": {
     "grade": true,
     "grade_id": "test_cast_size",
     "locked": true,
     "points": "2",
     "solution": false
    }
   },
   "outputs": [
    {
     "name": "stdout",
     "output_type": "stream",
     "text": [
      "Reading instructor's solution...\n"
     ]
    },
    {
     "data": {
      "text/html": [
       "<div>\n",
       "<style scoped>\n",
       "    .dataframe tbody tr th:only-of-type {\n",
       "        vertical-align: middle;\n",
       "    }\n",
       "\n",
       "    .dataframe tbody tr th {\n",
       "        vertical-align: top;\n",
       "    }\n",
       "\n",
       "    .dataframe thead th {\n",
       "        text-align: right;\n",
       "    }\n",
       "</style>\n",
       "<table border=\"1\" class=\"dataframe\">\n",
       "  <thead>\n",
       "    <tr style=\"text-align: right;\">\n",
       "      <th></th>\n",
       "      <th>movie_name</th>\n",
       "      <th>cast_count</th>\n",
       "    </tr>\n",
       "  </thead>\n",
       "  <tbody>\n",
       "    <tr>\n",
       "      <th>0</th>\n",
       "      <td>The War of the Worlds</td>\n",
       "      <td>72</td>\n",
       "    </tr>\n",
       "    <tr>\n",
       "      <th>1</th>\n",
       "      <td>Star Wars: Episode III - Revenge of the Sith 3D</td>\n",
       "      <td>66</td>\n",
       "    </tr>\n",
       "    <tr>\n",
       "      <th>2</th>\n",
       "      <td>The Chronicles of Narnia: The Lion, The Witch ...</td>\n",
       "      <td>66</td>\n",
       "    </tr>\n",
       "    <tr>\n",
       "      <th>3</th>\n",
       "      <td>Star Wars: Episode VI - Return of the Jedi</td>\n",
       "      <td>65</td>\n",
       "    </tr>\n",
       "    <tr>\n",
       "      <th>4</th>\n",
       "      <td>This Means War</td>\n",
       "      <td>64</td>\n",
       "    </tr>\n",
       "    <tr>\n",
       "      <th>...</th>\n",
       "      <td>...</td>\n",
       "      <td>...</td>\n",
       "    </tr>\n",
       "    <tr>\n",
       "      <th>388</th>\n",
       "      <td>Diamonds of War: Africa's Blood Diamond</td>\n",
       "      <td>1</td>\n",
       "    </tr>\n",
       "    <tr>\n",
       "      <th>389</th>\n",
       "      <td>War - Greatest Hits Live</td>\n",
       "      <td>1</td>\n",
       "    </tr>\n",
       "    <tr>\n",
       "      <th>390</th>\n",
       "      <td>Imperial War Museum: The Royal Air Force at War</td>\n",
       "      <td>1</td>\n",
       "    </tr>\n",
       "    <tr>\n",
       "      <th>391</th>\n",
       "      <td>Visions of War: The Algerian War</td>\n",
       "      <td>1</td>\n",
       "    </tr>\n",
       "    <tr>\n",
       "      <th>392</th>\n",
       "      <td>War Feels Like War</td>\n",
       "      <td>1</td>\n",
       "    </tr>\n",
       "  </tbody>\n",
       "</table>\n",
       "<p>393 rows × 2 columns</p>\n",
       "</div>"
      ],
      "text/plain": [
       "                                            movie_name  cast_count\n",
       "0                                The War of the Worlds          72\n",
       "1      Star Wars: Episode III - Revenge of the Sith 3D          66\n",
       "2    The Chronicles of Narnia: The Lion, The Witch ...          66\n",
       "3           Star Wars: Episode VI - Return of the Jedi          65\n",
       "4                                       This Means War          64\n",
       "..                                                 ...         ...\n",
       "388            Diamonds of War: Africa's Blood Diamond           1\n",
       "389                           War - Greatest Hits Live           1\n",
       "390    Imperial War Museum: The Royal Air Force at War           1\n",
       "391                   Visions of War: The Algerian War           1\n",
       "392                                 War Feels Like War           1\n",
       "\n",
       "[393 rows x 2 columns]"
      ]
     },
     "metadata": {},
     "output_type": "display_data"
    },
    {
     "name": "stdout",
     "output_type": "stream",
     "text": [
      "Checking...\n",
      "\n",
      "(Passed!.)\n"
     ]
    }
   ],
   "source": [
    "# Test cell : `test_cast_size`\n",
    "\n",
    "print(\"Reading instructor's solution...\")\n",
    "\n",
    "cast_size_solution = pd.read_csv(get_data_path('cast_size_solution.csv'))\n",
    "display(cast_size_solution)\n",
    "print(\"Checking...\")\n",
    "\n",
    "assert set(cast_size.columns) == {'movie_name', 'cast_count'}\n",
    "assert tibbles_are_equivalent(cast_size, cast_size_solution), \"Your Dataframe is incorrect\"\n",
    "assert all(cast_size['cast_count'] == cast_size_solution['cast_count'])\n",
    "\n",
    "\n",
    "print(\"\\n(Passed!.)\")\n",
    "\n",
    "del cast_size_solution"
   ]
  },
  {
   "cell_type": "markdown",
   "metadata": {
    "collapsed": true,
    "deletable": false,
    "editable": false,
    "nbgrader": {
     "grade": false,
     "locked": true,
     "solution": false
    }
   },
   "source": [
    "**Exercise 1** (2 point): Create a dataframe, **`cast_score`**, that contains the average movie score for each cast member. Your table will have two columns, *`cast_name`*, the name of each cast member, and *`avg_score`*, the average movie review score for each movie that the cast member appears in. \n",
    "\n",
    "Order this result by `avg_score` from highest to lowest, and round your result for `avg_score` to two (2) decimal places. \n",
    "\n",
    "Break any ties in your sorting by cast name in alphabetical order from A-Z. "
   ]
  },
  {
   "cell_type": "code",
   "execution_count": 8,
   "metadata": {},
   "outputs": [],
   "source": [
    "###\n",
    "cast_score = movies.merge(cast, left_on = 'id', right_on='movie_id')\n",
    "cast_total = cast_score.groupby(['cast_name']).agg({'score':'sum'}).reset_index()\n",
    "cast_count = cast_score.groupby(['cast_name']).agg({'id':'nunique'}).reset_index()\n",
    "cast_avg = cast_total.merge(cast_count, on = 'cast_name' )\n",
    "cast_avg['avg_score'] = cast_avg['score']/cast_avg['id']\n",
    "cast_avg = cast_avg.round({'avg_score':2})\n",
    "cast_score = cast_avg[['cast_name','avg_score']] \n",
    "cast_score = cast_score.sort_values(by = ['avg_score', 'cast_name'], ascending = [False, True]).reset_index(drop = True)\n",
    "\n",
    "###\n"
   ]
  },
  {
   "cell_type": "code",
   "execution_count": 9,
   "metadata": {
    "deletable": false,
    "editable": false,
    "nbgrader": {
     "grade": true,
     "grade_id": "test_cast_score",
     "locked": true,
     "points": "2",
     "solution": false
    }
   },
   "outputs": [
    {
     "name": "stdout",
     "output_type": "stream",
     "text": [
      "Reading instructor's solution...\n",
      "Checking...\n",
      "\n",
      "(Passed!)\n"
     ]
    }
   ],
   "source": [
    "# Test cell : `test_cast_score`\n",
    "print(\"Reading instructor's solution...\")\n",
    "\n",
    "cast_score_solution = pd.read_csv(get_data_path('cast_score_solution.csv'))\n",
    "\n",
    "print(\"Checking...\")\n",
    "\n",
    "assert set(cast_score.columns) == {'cast_name', 'avg_score'}\n",
    "assert tibbles_are_equivalent(cast_score, cast_score_solution), \"Your Dataframe is incorrect\"\n",
    "assert all(cast_score['avg_score'] == cast_score_solution['avg_score'])\n",
    "\n",
    "\n",
    "print(\"\\n(Passed!)\")\n",
    "\n",
    "del cast_score_solution\n",
    "\n"
   ]
  },
  {
   "cell_type": "markdown",
   "metadata": {
    "deletable": false,
    "editable": false,
    "nbgrader": {
     "grade": false,
     "locked": true,
     "solution": false
    }
   },
   "source": [
    "**Exercise 2** (3 points): You will now create a dataframe, **`one_hit_wonders`**, that contains actors and actresses that appear in **exactly** one movie, with a movie score == 100. Your result will have three columns, *`cast_name`,* the name of each cast member that meets the criteria, *`movie_name`*, the name of the movie that cast member appears in, and *`movie_score`*, which for the purposes of this Exercise is always == 100. \n",
    "\n",
    "Order your result by `cast_name` in alphabetical order from A-Z."
   ]
  },
  {
   "cell_type": "code",
   "execution_count": 10,
   "metadata": {},
   "outputs": [
    {
     "data": {
      "text/html": [
       "<div>\n",
       "<style scoped>\n",
       "    .dataframe tbody tr th:only-of-type {\n",
       "        vertical-align: middle;\n",
       "    }\n",
       "\n",
       "    .dataframe tbody tr th {\n",
       "        vertical-align: top;\n",
       "    }\n",
       "\n",
       "    .dataframe thead th {\n",
       "        text-align: right;\n",
       "    }\n",
       "</style>\n",
       "<table border=\"1\" class=\"dataframe\">\n",
       "  <thead>\n",
       "    <tr style=\"text-align: right;\">\n",
       "      <th></th>\n",
       "      <th>cast_name</th>\n",
       "      <th>movie_name</th>\n",
       "      <th>movie_score</th>\n",
       "    </tr>\n",
       "  </thead>\n",
       "  <tbody>\n",
       "    <tr>\n",
       "      <th>0</th>\n",
       "      <td>Alison Lohman</td>\n",
       "      <td>Kaze no tani no Naushika (Nausicaa of the Vall...</td>\n",
       "      <td>100</td>\n",
       "    </tr>\n",
       "    <tr>\n",
       "      <th>1</th>\n",
       "      <td>Andrew Lauer</td>\n",
       "      <td>Hg Wells War of the Worlds</td>\n",
       "      <td>100</td>\n",
       "    </tr>\n",
       "    <tr>\n",
       "      <th>2</th>\n",
       "      <td>Chris Sarandon</td>\n",
       "      <td>Kaze no tani no Naushika (Nausicaa of the Vall...</td>\n",
       "      <td>100</td>\n",
       "    </tr>\n",
       "    <tr>\n",
       "      <th>3</th>\n",
       "      <td>Clare Holman</td>\n",
       "      <td>Island at War</td>\n",
       "      <td>100</td>\n",
       "    </tr>\n",
       "    <tr>\n",
       "      <th>4</th>\n",
       "      <td>Jake Busey</td>\n",
       "      <td>Hg Wells War of the Worlds</td>\n",
       "      <td>100</td>\n",
       "    </tr>\n",
       "    <tr>\n",
       "      <th>5</th>\n",
       "      <td>James Wilby</td>\n",
       "      <td>Island at War</td>\n",
       "      <td>100</td>\n",
       "    </tr>\n",
       "    <tr>\n",
       "      <th>6</th>\n",
       "      <td>Joanne Froggatt</td>\n",
       "      <td>Island at War</td>\n",
       "      <td>100</td>\n",
       "    </tr>\n",
       "    <tr>\n",
       "      <th>7</th>\n",
       "      <td>Julia Ford</td>\n",
       "      <td>Island at War</td>\n",
       "      <td>100</td>\n",
       "    </tr>\n",
       "    <tr>\n",
       "      <th>8</th>\n",
       "      <td>Patrick Stewart</td>\n",
       "      <td>Kaze no tani no Naushika (Nausicaa of the Vall...</td>\n",
       "      <td>100</td>\n",
       "    </tr>\n",
       "    <tr>\n",
       "      <th>9</th>\n",
       "      <td>Peter Greene</td>\n",
       "      <td>Hg Wells War of the Worlds</td>\n",
       "      <td>100</td>\n",
       "    </tr>\n",
       "    <tr>\n",
       "      <th>10</th>\n",
       "      <td>Philip Glenister</td>\n",
       "      <td>Island at War</td>\n",
       "      <td>100</td>\n",
       "    </tr>\n",
       "    <tr>\n",
       "      <th>11</th>\n",
       "      <td>Rhett Giles</td>\n",
       "      <td>Hg Wells War of the Worlds</td>\n",
       "      <td>100</td>\n",
       "    </tr>\n",
       "    <tr>\n",
       "      <th>12</th>\n",
       "      <td>Samantha Robinson</td>\n",
       "      <td>Island at War</td>\n",
       "      <td>100</td>\n",
       "    </tr>\n",
       "    <tr>\n",
       "      <th>13</th>\n",
       "      <td>Saskia Reeves</td>\n",
       "      <td>Island at War</td>\n",
       "      <td>100</td>\n",
       "    </tr>\n",
       "    <tr>\n",
       "      <th>14</th>\n",
       "      <td>Sean Gallagher</td>\n",
       "      <td>Island at War</td>\n",
       "      <td>100</td>\n",
       "    </tr>\n",
       "    <tr>\n",
       "      <th>15</th>\n",
       "      <td>Sean Ward</td>\n",
       "      <td>Island at War</td>\n",
       "      <td>100</td>\n",
       "    </tr>\n",
       "    <tr>\n",
       "      <th>16</th>\n",
       "      <td>Shia LaBeouf</td>\n",
       "      <td>Kaze no tani no Naushika (Nausicaa of the Vall...</td>\n",
       "      <td>100</td>\n",
       "    </tr>\n",
       "    <tr>\n",
       "      <th>17</th>\n",
       "      <td>Tinarie VanWyk-Loots</td>\n",
       "      <td>Hg Wells War of the Worlds</td>\n",
       "      <td>100</td>\n",
       "    </tr>\n",
       "    <tr>\n",
       "      <th>18</th>\n",
       "      <td>Tress MacNeille</td>\n",
       "      <td>Kaze no tani no Naushika (Nausicaa of the Vall...</td>\n",
       "      <td>100</td>\n",
       "    </tr>\n",
       "    <tr>\n",
       "      <th>19</th>\n",
       "      <td>Uma Thurman</td>\n",
       "      <td>Kaze no tani no Naushika (Nausicaa of the Vall...</td>\n",
       "      <td>100</td>\n",
       "    </tr>\n",
       "  </tbody>\n",
       "</table>\n",
       "</div>"
      ],
      "text/plain": [
       "               cast_name                                         movie_name  \\\n",
       "0          Alison Lohman  Kaze no tani no Naushika (Nausicaa of the Vall...   \n",
       "1           Andrew Lauer                         Hg Wells War of the Worlds   \n",
       "2         Chris Sarandon  Kaze no tani no Naushika (Nausicaa of the Vall...   \n",
       "3           Clare Holman                                      Island at War   \n",
       "4             Jake Busey                         Hg Wells War of the Worlds   \n",
       "5            James Wilby                                      Island at War   \n",
       "6        Joanne Froggatt                                      Island at War   \n",
       "7             Julia Ford                                      Island at War   \n",
       "8        Patrick Stewart  Kaze no tani no Naushika (Nausicaa of the Vall...   \n",
       "9           Peter Greene                         Hg Wells War of the Worlds   \n",
       "10      Philip Glenister                                      Island at War   \n",
       "11           Rhett Giles                         Hg Wells War of the Worlds   \n",
       "12     Samantha Robinson                                      Island at War   \n",
       "13         Saskia Reeves                                      Island at War   \n",
       "14        Sean Gallagher                                      Island at War   \n",
       "15             Sean Ward                                      Island at War   \n",
       "16          Shia LaBeouf  Kaze no tani no Naushika (Nausicaa of the Vall...   \n",
       "17  Tinarie VanWyk-Loots                         Hg Wells War of the Worlds   \n",
       "18       Tress MacNeille  Kaze no tani no Naushika (Nausicaa of the Vall...   \n",
       "19           Uma Thurman  Kaze no tani no Naushika (Nausicaa of the Vall...   \n",
       "\n",
       "    movie_score  \n",
       "0           100  \n",
       "1           100  \n",
       "2           100  \n",
       "3           100  \n",
       "4           100  \n",
       "5           100  \n",
       "6           100  \n",
       "7           100  \n",
       "8           100  \n",
       "9           100  \n",
       "10          100  \n",
       "11          100  \n",
       "12          100  \n",
       "13          100  \n",
       "14          100  \n",
       "15          100  \n",
       "16          100  \n",
       "17          100  \n",
       "18          100  \n",
       "19          100  "
      ]
     },
     "execution_count": 10,
     "metadata": {},
     "output_type": "execute_result"
    }
   ],
   "source": [
    "###\n",
    "cast_c = cast.groupby(['cast_name']).agg({'movie_id':'count'}).reset_index()\n",
    "cast_c = cast_c[cast_c['movie_id']==1]\n",
    "cast_c = cast_c.rename(columns = {'movie_id':'count'})\n",
    "cast_c = cast_c.merge(cast, on = 'cast_name')\n",
    "one_hit = movies.merge(cast_c, left_on = 'id', right_on='movie_id')\n",
    "one_hit = one_hit[one_hit['score'] == 100]\n",
    "\n",
    "one_hit_wonders = one_hit[['cast_name', 'name','score']]\n",
    "one_hit_wonders = one_hit_wonders.sort_values(by = 'cast_name').reset_index(drop = True)\n",
    "one_hit_wonders = one_hit_wonders.rename(columns = {'name':'movie_name','score':'movie_score'})\n",
    "one_hit_wonders\n",
    "\n",
    "###\n"
   ]
  },
  {
   "cell_type": "code",
   "execution_count": 11,
   "metadata": {
    "deletable": false,
    "editable": false,
    "nbgrader": {
     "grade": true,
     "grade_id": "one_hit_wonders_score",
     "locked": true,
     "points": "3",
     "solution": false
    }
   },
   "outputs": [
    {
     "name": "stdout",
     "output_type": "stream",
     "text": [
      "Reading instructor's solution...\n",
      "Checking...\n",
      "\n",
      "(Passed!)\n"
     ]
    }
   ],
   "source": [
    "# Test cell : `one_hit_wonders_score`\n",
    "\n",
    "print(\"Reading instructor's solution...\")\n",
    "\n",
    "one_hit_wonders_solution = pd.read_csv(get_data_path('one_hit_wonders_solution.csv'))\n",
    "\n",
    "print(\"Checking...\")\n",
    "\n",
    "assert set(one_hit_wonders.columns) == {'cast_name','movie_name', 'movie_score'}\n",
    "assert tibbles_are_equivalent(one_hit_wonders, one_hit_wonders_solution)\n",
    "assert all(one_hit_wonders['movie_score'] == one_hit_wonders_solution['movie_score'])\n",
    "\n",
    "print(\"\\n(Passed!)\")\n",
    "\n",
    "del one_hit_wonders_solution"
   ]
  },
  {
   "cell_type": "markdown",
   "metadata": {
    "deletable": false,
    "editable": false,
    "nbgrader": {
     "grade": false,
     "locked": true,
     "solution": false
    }
   },
   "source": [
    "**Exercise 3** (3 points): For this problem, you will find cast members that work well together. We define this as two cast members being in **>= 3** movies together, with the **average movie score being >= 50**. \n",
    "\n",
    "You will create a dataframe called **`good_teamwork`** that contains four columns:\n",
    "- *`cast_member_1`* and *`cast_member_2`*, the names of each pair of cast members that appear in the same movie;\n",
    "- *`num_movies`*, the number of movies that each pair of cast members appears in; and\n",
    "- *`avg_score`*, the average review score for each of those movies containing the two cast members. \n",
    "\n",
    "Order the results by `cast_member_1` alphabetically from A-Z, and break any ties by sorting by `cast_member_2` alphabetically from A-Z. Round the result for `avg_score` to two (2) decimal places.\n",
    "\n",
    "One more wrinkle: your solution will likely create several duplicate pairs of cast members: rows such as:\n",
    "\n",
    "cast_member_1     |cast_member_2  |num_movies  |avg_score\n",
    "------------------|---------------|------------|---------\n",
    " Anthony Daniels  |Frank Oz       |5           |50.60\n",
    " Frank Oz         |Anthony Daniels|5           |50.60\n",
    " \n",
    "Remove all duplicate pairs, keeping all cases where `cast_member_1`'s name comes before `cast_member_2`'s name in the alphabet. In the example above, you will keep **only** the first row in your final solution. Make sure to also remove matches where `cast_member_1` == `cast_member_2`."
   ]
  },
  {
   "cell_type": "code",
   "execution_count": 12,
   "metadata": {},
   "outputs": [],
   "source": [
    "###\n",
    "import numpy as np\n",
    "cast1 = cast.merge(movies[['id','score']], left_on ='movie_id', right_on = 'id')   \n",
    "good_teamwork2 = cast1.merge(cast, on='movie_id')\n",
    "# good_teamwork2 = good_teamwork2[good_teamwork2['cast_name_x'] != good_teamwork2['cast_name_y']]\n",
    "good_teamwork2 = good_teamwork2[good_teamwork2['cast_name_x']<good_teamwork2['cast_name_y']]\n",
    "###\n",
    "###\n"
   ]
  },
  {
   "cell_type": "code",
   "execution_count": 13,
   "metadata": {
    "scrolled": false
   },
   "outputs": [
    {
     "data": {
      "text/html": [
       "<div>\n",
       "<style scoped>\n",
       "    .dataframe tbody tr th:only-of-type {\n",
       "        vertical-align: middle;\n",
       "    }\n",
       "\n",
       "    .dataframe tbody tr th {\n",
       "        vertical-align: top;\n",
       "    }\n",
       "\n",
       "    .dataframe thead th {\n",
       "        text-align: right;\n",
       "    }\n",
       "</style>\n",
       "<table border=\"1\" class=\"dataframe\">\n",
       "  <thead>\n",
       "    <tr style=\"text-align: right;\">\n",
       "      <th></th>\n",
       "      <th>movie_id</th>\n",
       "      <th>cast_id_x</th>\n",
       "      <th>cast_name_x</th>\n",
       "      <th>id</th>\n",
       "      <th>score</th>\n",
       "      <th>cast_id_y</th>\n",
       "      <th>cast_name_y</th>\n",
       "    </tr>\n",
       "  </thead>\n",
       "  <tbody>\n",
       "    <tr>\n",
       "      <th>2</th>\n",
       "      <td>9</td>\n",
       "      <td>162652153</td>\n",
       "      <td>Hayden Christensen</td>\n",
       "      <td>9</td>\n",
       "      <td>61</td>\n",
       "      <td>418638213</td>\n",
       "      <td>Kenny Baker</td>\n",
       "    </tr>\n",
       "    <tr>\n",
       "      <th>4</th>\n",
       "      <td>9</td>\n",
       "      <td>162652153</td>\n",
       "      <td>Hayden Christensen</td>\n",
       "      <td>9</td>\n",
       "      <td>61</td>\n",
       "      <td>358317901</td>\n",
       "      <td>Jeremy Bulloch</td>\n",
       "    </tr>\n",
       "    <tr>\n",
       "      <th>6</th>\n",
       "      <td>9</td>\n",
       "      <td>162652153</td>\n",
       "      <td>Hayden Christensen</td>\n",
       "      <td>9</td>\n",
       "      <td>61</td>\n",
       "      <td>770726713</td>\n",
       "      <td>Oliver Ford Davies</td>\n",
       "    </tr>\n",
       "    <tr>\n",
       "      <th>7</th>\n",
       "      <td>9</td>\n",
       "      <td>162652153</td>\n",
       "      <td>Hayden Christensen</td>\n",
       "      <td>9</td>\n",
       "      <td>61</td>\n",
       "      <td>162652156</td>\n",
       "      <td>Samuel L. Jackson</td>\n",
       "    </tr>\n",
       "    <tr>\n",
       "      <th>8</th>\n",
       "      <td>9</td>\n",
       "      <td>162652153</td>\n",
       "      <td>Hayden Christensen</td>\n",
       "      <td>9</td>\n",
       "      <td>61</td>\n",
       "      <td>162655731</td>\n",
       "      <td>James Earl Jones</td>\n",
       "    </tr>\n",
       "    <tr>\n",
       "      <th>...</th>\n",
       "      <td>...</td>\n",
       "      <td>...</td>\n",
       "      <td>...</td>\n",
       "      <td>...</td>\n",
       "      <td>...</td>\n",
       "      <td>...</td>\n",
       "      <td>...</td>\n",
       "    </tr>\n",
       "    <tr>\n",
       "      <th>136029</th>\n",
       "      <td>770876554</td>\n",
       "      <td>770925843</td>\n",
       "      <td>Noel Travarthen</td>\n",
       "      <td>770876554</td>\n",
       "      <td>13</td>\n",
       "      <td>770676217</td>\n",
       "      <td>Tony Bonner</td>\n",
       "    </tr>\n",
       "    <tr>\n",
       "      <th>136031</th>\n",
       "      <td>770876554</td>\n",
       "      <td>770925843</td>\n",
       "      <td>Noel Travarthen</td>\n",
       "      <td>770876554</td>\n",
       "      <td>13</td>\n",
       "      <td>162733212</td>\n",
       "      <td>Shane Briant</td>\n",
       "    </tr>\n",
       "    <tr>\n",
       "      <th>136037</th>\n",
       "      <td>770876554</td>\n",
       "      <td>770925843</td>\n",
       "      <td>Noel Travarthen</td>\n",
       "      <td>770876554</td>\n",
       "      <td>13</td>\n",
       "      <td>770925842</td>\n",
       "      <td>Rhys McConnochie</td>\n",
       "    </tr>\n",
       "    <tr>\n",
       "      <th>136039</th>\n",
       "      <td>770876554</td>\n",
       "      <td>770925843</td>\n",
       "      <td>Noel Travarthen</td>\n",
       "      <td>770876554</td>\n",
       "      <td>13</td>\n",
       "      <td>364633994</td>\n",
       "      <td>Rod Hewitt</td>\n",
       "    </tr>\n",
       "    <tr>\n",
       "      <th>136040</th>\n",
       "      <td>770876554</td>\n",
       "      <td>770925843</td>\n",
       "      <td>Noel Travarthen</td>\n",
       "      <td>770876554</td>\n",
       "      <td>13</td>\n",
       "      <td>162662483</td>\n",
       "      <td>Paul Hogan</td>\n",
       "    </tr>\n",
       "  </tbody>\n",
       "</table>\n",
       "<p>65478 rows × 7 columns</p>\n",
       "</div>"
      ],
      "text/plain": [
       "         movie_id  cast_id_x         cast_name_x         id  score  cast_id_y  \\\n",
       "2               9  162652153  Hayden Christensen          9     61  418638213   \n",
       "4               9  162652153  Hayden Christensen          9     61  358317901   \n",
       "6               9  162652153  Hayden Christensen          9     61  770726713   \n",
       "7               9  162652153  Hayden Christensen          9     61  162652156   \n",
       "8               9  162652153  Hayden Christensen          9     61  162655731   \n",
       "...           ...        ...                 ...        ...    ...        ...   \n",
       "136029  770876554  770925843     Noel Travarthen  770876554     13  770676217   \n",
       "136031  770876554  770925843     Noel Travarthen  770876554     13  162733212   \n",
       "136037  770876554  770925843     Noel Travarthen  770876554     13  770925842   \n",
       "136039  770876554  770925843     Noel Travarthen  770876554     13  364633994   \n",
       "136040  770876554  770925843     Noel Travarthen  770876554     13  162662483   \n",
       "\n",
       "               cast_name_y  \n",
       "2              Kenny Baker  \n",
       "4           Jeremy Bulloch  \n",
       "6       Oliver Ford Davies  \n",
       "7        Samuel L. Jackson  \n",
       "8         James Earl Jones  \n",
       "...                    ...  \n",
       "136029         Tony Bonner  \n",
       "136031        Shane Briant  \n",
       "136037    Rhys McConnochie  \n",
       "136039          Rod Hewitt  \n",
       "136040          Paul Hogan  \n",
       "\n",
       "[65478 rows x 7 columns]"
      ]
     },
     "execution_count": 13,
     "metadata": {},
     "output_type": "execute_result"
    }
   ],
   "source": [
    "good_teamwork2"
   ]
  },
  {
   "cell_type": "code",
   "execution_count": null,
   "metadata": {
    "collapsed": true
   },
   "outputs": [],
   "source": []
  },
  {
   "cell_type": "code",
   "execution_count": 14,
   "metadata": {},
   "outputs": [
    {
     "data": {
      "text/plain": [
       "65478"
      ]
     },
     "execution_count": 14,
     "metadata": {},
     "output_type": "execute_result"
    }
   ],
   "source": [
    "good_teamwork2 = good_teamwork2.groupby(['cast_name_x', 'cast_name_y']).agg({'movie_id': 'size', 'score': 'mean'}).reset_index()\n",
    "good_teamwork2['movie_id'].sum()"
   ]
  },
  {
   "cell_type": "code",
   "execution_count": 15,
   "metadata": {
    "collapsed": true
   },
   "outputs": [],
   "source": [
    "good_teamwork2.rename(columns={'cast_name_x': 'cast_member_1',\n",
    "                               'cast_name_y': 'cast_member_2',\n",
    "                               'movie_id': 'num_movies',\n",
    "                               'score': 'avg_score'},\n",
    "                      inplace=True)\n",
    "good_teamwork2 = good_teamwork2[good_teamwork2['avg_score'] >= 50]\n",
    "good_teamwork2 = good_teamwork2[good_teamwork2['num_movies'] >= 3]\n",
    "good_teamwork2 = good_teamwork2.round({'avg_score': 2})\n",
    "good_teamwork2 = good_teamwork2.sort_values(by=['cast_member_1', 'cast_member_2'], ascending=[True, True]).reset_index(drop=True)\n",
    "good_teamwork = good_teamwork2\n",
    "### END SOLUTION"
   ]
  },
  {
   "cell_type": "code",
   "execution_count": 16,
   "metadata": {},
   "outputs": [
    {
     "data": {
      "text/html": [
       "<div>\n",
       "<style scoped>\n",
       "    .dataframe tbody tr th:only-of-type {\n",
       "        vertical-align: middle;\n",
       "    }\n",
       "\n",
       "    .dataframe tbody tr th {\n",
       "        vertical-align: top;\n",
       "    }\n",
       "\n",
       "    .dataframe thead th {\n",
       "        text-align: right;\n",
       "    }\n",
       "</style>\n",
       "<table border=\"1\" class=\"dataframe\">\n",
       "  <thead>\n",
       "    <tr style=\"text-align: right;\">\n",
       "      <th></th>\n",
       "      <th>cast_member_1</th>\n",
       "      <th>cast_member_2</th>\n",
       "      <th>num_movies</th>\n",
       "      <th>avg_score</th>\n",
       "    </tr>\n",
       "  </thead>\n",
       "  <tbody>\n",
       "    <tr>\n",
       "      <th>0</th>\n",
       "      <td>Ahmed Best</td>\n",
       "      <td>Anthony Daniels</td>\n",
       "      <td>3</td>\n",
       "      <td>54.67</td>\n",
       "    </tr>\n",
       "    <tr>\n",
       "      <th>1</th>\n",
       "      <td>Ahmed Best</td>\n",
       "      <td>Ewan McGregor</td>\n",
       "      <td>3</td>\n",
       "      <td>54.67</td>\n",
       "    </tr>\n",
       "    <tr>\n",
       "      <th>2</th>\n",
       "      <td>Ahmed Best</td>\n",
       "      <td>Frank Oz</td>\n",
       "      <td>3</td>\n",
       "      <td>54.67</td>\n",
       "    </tr>\n",
       "    <tr>\n",
       "      <th>3</th>\n",
       "      <td>Ahmed Best</td>\n",
       "      <td>Ian McDiarmid</td>\n",
       "      <td>3</td>\n",
       "      <td>54.67</td>\n",
       "    </tr>\n",
       "    <tr>\n",
       "      <th>4</th>\n",
       "      <td>Ahmed Best</td>\n",
       "      <td>Kenny Baker</td>\n",
       "      <td>3</td>\n",
       "      <td>54.67</td>\n",
       "    </tr>\n",
       "    <tr>\n",
       "      <th>...</th>\n",
       "      <td>...</td>\n",
       "      <td>...</td>\n",
       "      <td>...</td>\n",
       "      <td>...</td>\n",
       "    </tr>\n",
       "    <tr>\n",
       "      <th>63</th>\n",
       "      <td>Natalie Portman</td>\n",
       "      <td>Samuel L. Jackson</td>\n",
       "      <td>3</td>\n",
       "      <td>54.67</td>\n",
       "    </tr>\n",
       "    <tr>\n",
       "      <th>64</th>\n",
       "      <td>Natalie Portman</td>\n",
       "      <td>Silas Carson</td>\n",
       "      <td>3</td>\n",
       "      <td>54.67</td>\n",
       "    </tr>\n",
       "    <tr>\n",
       "      <th>65</th>\n",
       "      <td>Oliver Ford Davies</td>\n",
       "      <td>Samuel L. Jackson</td>\n",
       "      <td>3</td>\n",
       "      <td>54.67</td>\n",
       "    </tr>\n",
       "    <tr>\n",
       "      <th>66</th>\n",
       "      <td>Oliver Ford Davies</td>\n",
       "      <td>Silas Carson</td>\n",
       "      <td>3</td>\n",
       "      <td>54.67</td>\n",
       "    </tr>\n",
       "    <tr>\n",
       "      <th>67</th>\n",
       "      <td>Samuel L. Jackson</td>\n",
       "      <td>Silas Carson</td>\n",
       "      <td>3</td>\n",
       "      <td>54.67</td>\n",
       "    </tr>\n",
       "  </tbody>\n",
       "</table>\n",
       "<p>68 rows × 4 columns</p>\n",
       "</div>"
      ],
      "text/plain": [
       "         cast_member_1      cast_member_2  num_movies  avg_score\n",
       "0           Ahmed Best    Anthony Daniels           3      54.67\n",
       "1           Ahmed Best      Ewan McGregor           3      54.67\n",
       "2           Ahmed Best           Frank Oz           3      54.67\n",
       "3           Ahmed Best      Ian McDiarmid           3      54.67\n",
       "4           Ahmed Best        Kenny Baker           3      54.67\n",
       "..                 ...                ...         ...        ...\n",
       "63     Natalie Portman  Samuel L. Jackson           3      54.67\n",
       "64     Natalie Portman       Silas Carson           3      54.67\n",
       "65  Oliver Ford Davies  Samuel L. Jackson           3      54.67\n",
       "66  Oliver Ford Davies       Silas Carson           3      54.67\n",
       "67   Samuel L. Jackson       Silas Carson           3      54.67\n",
       "\n",
       "[68 rows x 4 columns]"
      ]
     },
     "execution_count": 16,
     "metadata": {},
     "output_type": "execute_result"
    }
   ],
   "source": [
    "good_teamwork"
   ]
  },
  {
   "cell_type": "code",
   "execution_count": 17,
   "metadata": {
    "deletable": false,
    "editable": false,
    "nbgrader": {
     "grade": true,
     "grade_id": "good_teamwork_score",
     "locked": true,
     "points": "3",
     "solution": false
    }
   },
   "outputs": [
    {
     "name": "stdout",
     "output_type": "stream",
     "text": [
      "Reading instructor's solution...\n",
      "         cast_member_1      cast_member_2  num_movies  avg_score\n",
      "0           Ahmed Best    Anthony Daniels           3      54.67\n",
      "1           Ahmed Best      Ewan McGregor           3      54.67\n",
      "2           Ahmed Best           Frank Oz           3      54.67\n",
      "3           Ahmed Best      Ian McDiarmid           3      54.67\n",
      "4           Ahmed Best        Kenny Baker           3      54.67\n",
      "..                 ...                ...         ...        ...\n",
      "63     Natalie Portman  Samuel L. Jackson           3      54.67\n",
      "64     Natalie Portman       Silas Carson           3      54.67\n",
      "65  Oliver Ford Davies  Samuel L. Jackson           3      54.67\n",
      "66  Oliver Ford Davies       Silas Carson           3      54.67\n",
      "67   Samuel L. Jackson       Silas Carson           3      54.67\n",
      "\n",
      "[68 rows x 4 columns]\n",
      "Checking...\n",
      "\n",
      "(Passed!)\n"
     ]
    }
   ],
   "source": [
    "# Test cell : `good_teamwork_score`\n",
    "print(\"Reading instructor's solution...\")\n",
    "\n",
    "good_teamwork_solution = pd.read_csv(get_data_path('good_teamwork_solution.csv'))\n",
    "print(good_teamwork_solution)\n",
    "\n",
    "print(\"Checking...\")\n",
    "\n",
    "assert set(good_teamwork.columns) == {'cast_member_1','cast_member_2', 'num_movies', 'avg_score'}\n",
    "assert tibbles_are_equivalent(good_teamwork, good_teamwork_solution)\n",
    "assert all(good_teamwork['num_movies'] == good_teamwork_solution['num_movies'])\n",
    "assert all(good_teamwork['avg_score'] == good_teamwork_solution['avg_score'])\n",
    "\n",
    "print(\"\\n(Passed!)\")\n",
    "\n",
    "del good_teamwork_solution"
   ]
  },
  {
   "cell_type": "code",
   "execution_count": 18,
   "metadata": {
    "collapsed": true,
    "deletable": false,
    "editable": false,
    "nbgrader": {
     "grade": false,
     "locked": true,
     "solution": false
    }
   },
   "outputs": [],
   "source": [
    "c.close()\n",
    "disk_engine.close()"
   ]
  },
  {
   "cell_type": "markdown",
   "metadata": {
    "deletable": false,
    "editable": false,
    "nbgrader": {
     "grade": false,
     "locked": true,
     "solution": false
    }
   },
   "source": [
    "**Fin!** Remember to test your solutions by running them as the autograder will: restart the kernel and run all cells from \"top-to-bottom.\" Also remember to submit to the autograder; otherwise, you will **not** get credit for your hard work!"
   ]
  }
 ],
 "metadata": {
  "kernelspec": {
   "display_name": "Python 3.7",
   "language": "python",
   "name": "python37"
  },
  "language_info": {
   "codemirror_mode": {
    "name": "ipython",
    "version": 3
   },
   "file_extension": ".py",
   "mimetype": "text/x-python",
   "name": "python",
   "nbconvert_exporter": "python",
   "pygments_lexer": "ipython3",
   "version": "3.7.5"
  }
 },
 "nbformat": 4,
 "nbformat_minor": 2
}
