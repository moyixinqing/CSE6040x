{
 "cells": [
  {
   "cell_type": "markdown",
   "metadata": {
    "deletable": false,
    "editable": false,
    "nbgrader": {
     "grade": false,
     "locked": true,
     "solution": false
    }
   },
   "source": [
    "# Problem 13: Soccer Guru\n",
    "\n",
    "_Version 1.5_"
   ]
  },
  {
   "cell_type": "markdown",
   "metadata": {
    "deletable": false,
    "editable": false,
    "nbgrader": {
     "grade": false,
     "locked": true,
     "solution": false
    }
   },
   "source": [
    "Soccer season is on and teams need to start preparing for the World Cup 2022. We need your help as a **Soccer Guru** to analyse different statistics and come up with insights to help the teams prepare better.\n",
    "\n",
    "This problem tests your understanding of Pandas and SQL concepts.\n",
    "\n",
    "**Important note.** Due to a limitation in Vocareum's software stack, this notebook is set to use the Python 3.5 kernel (rather than a more up-to-date 3.6 or 3.7 kernel). If you are developing on your local machine and are using a different version of Python, you may need to adapt your solution before submitting to the autograder.\n"
   ]
  },
  {
   "cell_type": "markdown",
   "metadata": {
    "deletable": false,
    "editable": false,
    "nbgrader": {
     "grade": false,
     "locked": true,
     "solution": false
    }
   },
   "source": [
    "**Exercise 0** (0 points). Run the code cell below to load the data, which is a SQLite3 database containing results and fixtures of various soccer matches that have been played around the globe since 1980.\n",
    "\n",
    "Observe that the code loads all rows from the table, `soccer_results`, contained in the database file, `prob0.db`.\n",
    "\n",
    "> You do not need to do anything for this problem other than run the next two code cells and familiarize yourself with the resulting dataframe, which is stored in the variable `df`."
   ]
  },
  {
   "cell_type": "code",
   "execution_count": 1,
   "metadata": {
    "collapsed": true,
    "deletable": false,
    "editable": false,
    "nbgrader": {
     "grade": false,
     "locked": true,
     "solution": false
    }
   },
   "outputs": [],
   "source": [
    "import sqlite3 as db\n",
    "import pandas as pd\n",
    "from datetime import datetime\n",
    "from collections import defaultdict\n",
    "disk_engine = db.connect('file:resource/asnlib/publicdata/prob0.db?mode=ro', uri=True)\n",
    "\n",
    "def load_data():\n",
    "    df = pd.read_sql_query(\"SELECT * FROM soccer_results\", disk_engine) \n",
    "    return df"
   ]
  },
  {
   "cell_type": "code",
   "execution_count": 2,
   "metadata": {
    "deletable": false,
    "editable": false,
    "nbgrader": {
     "grade": true,
     "grade_id": "EX0",
     "locked": true,
     "points": "0",
     "solution": false
    }
   },
   "outputs": [
    {
     "name": "stdout",
     "output_type": "stream",
     "text": [
      "\n",
      "(Passed!)\n"
     ]
    },
    {
     "data": {
      "text/html": [
       "<div>\n",
       "<style scoped>\n",
       "    .dataframe tbody tr th:only-of-type {\n",
       "        vertical-align: middle;\n",
       "    }\n",
       "\n",
       "    .dataframe tbody tr th {\n",
       "        vertical-align: top;\n",
       "    }\n",
       "\n",
       "    .dataframe thead th {\n",
       "        text-align: right;\n",
       "    }\n",
       "</style>\n",
       "<table border=\"1\" class=\"dataframe\">\n",
       "  <thead>\n",
       "    <tr style=\"text-align: right;\">\n",
       "      <th></th>\n",
       "      <th>date</th>\n",
       "      <th>home_team</th>\n",
       "      <th>away_team</th>\n",
       "      <th>home_score</th>\n",
       "      <th>away_score</th>\n",
       "      <th>tournament</th>\n",
       "      <th>city</th>\n",
       "      <th>country</th>\n",
       "      <th>neutral</th>\n",
       "    </tr>\n",
       "  </thead>\n",
       "  <tbody>\n",
       "    <tr>\n",
       "      <th>0</th>\n",
       "      <td>1994-01-02</td>\n",
       "      <td>Barbados</td>\n",
       "      <td>Grenada</td>\n",
       "      <td>0</td>\n",
       "      <td>0</td>\n",
       "      <td>Friendly</td>\n",
       "      <td>Bridgetown</td>\n",
       "      <td>Barbados</td>\n",
       "      <td>FALSE</td>\n",
       "    </tr>\n",
       "    <tr>\n",
       "      <th>1</th>\n",
       "      <td>1994-01-02</td>\n",
       "      <td>Ghana</td>\n",
       "      <td>Egypt</td>\n",
       "      <td>2</td>\n",
       "      <td>1</td>\n",
       "      <td>Friendly</td>\n",
       "      <td>Accra</td>\n",
       "      <td>Ghana</td>\n",
       "      <td>FALSE</td>\n",
       "    </tr>\n",
       "    <tr>\n",
       "      <th>2</th>\n",
       "      <td>1994-01-05</td>\n",
       "      <td>Mali</td>\n",
       "      <td>Burkina Faso</td>\n",
       "      <td>1</td>\n",
       "      <td>1</td>\n",
       "      <td>Friendly</td>\n",
       "      <td>Bamako</td>\n",
       "      <td>Mali</td>\n",
       "      <td>FALSE</td>\n",
       "    </tr>\n",
       "    <tr>\n",
       "      <th>3</th>\n",
       "      <td>1994-01-09</td>\n",
       "      <td>Mauritania</td>\n",
       "      <td>Mali</td>\n",
       "      <td>1</td>\n",
       "      <td>3</td>\n",
       "      <td>Friendly</td>\n",
       "      <td>Nouakchott</td>\n",
       "      <td>Mauritania</td>\n",
       "      <td>FALSE</td>\n",
       "    </tr>\n",
       "    <tr>\n",
       "      <th>4</th>\n",
       "      <td>1994-01-11</td>\n",
       "      <td>Thailand</td>\n",
       "      <td>Nigeria</td>\n",
       "      <td>1</td>\n",
       "      <td>1</td>\n",
       "      <td>Friendly</td>\n",
       "      <td>Bangkok</td>\n",
       "      <td>Thailand</td>\n",
       "      <td>FALSE</td>\n",
       "    </tr>\n",
       "  </tbody>\n",
       "</table>\n",
       "</div>"
      ],
      "text/plain": [
       "         date   home_team     away_team  home_score  away_score tournament  \\\n",
       "0  1994-01-02    Barbados       Grenada           0           0   Friendly   \n",
       "1  1994-01-02       Ghana         Egypt           2           1   Friendly   \n",
       "2  1994-01-05        Mali  Burkina Faso           1           1   Friendly   \n",
       "3  1994-01-09  Mauritania          Mali           1           3   Friendly   \n",
       "4  1994-01-11    Thailand       Nigeria           1           1   Friendly   \n",
       "\n",
       "         city     country neutral  \n",
       "0  Bridgetown    Barbados   FALSE  \n",
       "1       Accra       Ghana   FALSE  \n",
       "2      Bamako        Mali   FALSE  \n",
       "3  Nouakchott  Mauritania   FALSE  \n",
       "4     Bangkok    Thailand   FALSE  "
      ]
     },
     "execution_count": 2,
     "metadata": {},
     "output_type": "execute_result"
    }
   ],
   "source": [
    "# Test: Exercise 0 (exposed)\n",
    "df = load_data()\n",
    "assert df.shape[0] == 22851, \"Row counts do not match. Try loading the data again\"\n",
    "assert df.shape[1] == 9, \"You don't have all the columns. Try loading the data again\"\n",
    "print(\"\\n(Passed!)\")\n",
    "df.head()"
   ]
  },
  {
   "cell_type": "markdown",
   "metadata": {
    "deletable": false,
    "editable": false,
    "nbgrader": {
     "grade": false,
     "locked": true,
     "solution": false
    }
   },
   "source": [
    "Each row of this dataframe is a game, which is played between a \"home team\" (column `home_team`) and an \"away team\" (`away_team`). The number of goals scored by each team appears in the `home_score` and `away_score` columns, respectively."
   ]
  },
  {
   "cell_type": "markdown",
   "metadata": {
    "deletable": false,
    "editable": false,
    "nbgrader": {
     "grade": false,
     "locked": true,
     "solution": false
    }
   },
   "source": [
    "**Exercise 1** (1 point): Write an **SQL query** find the ten (10) teams that have the highest average away-scores since the year 2000. Your query should satisfy the following criteria:\n",
    "\n",
    "- It should return two columns:\n",
    "    * `team`: The name of the team\n",
    "    * `ave_goals`: The team's average number of goals **in \"away\" games.** An \"away game\" is one in which the team's name appars in `away_team` **and** the game takes place at a \"non-neutral site\" (`neutral` value equals `FALSE`).\n",
    "- It should only include teams that have played **at least 30 away matches**.\n",
    "- It should round the average goals value (`ave_goals`) to three decimal places.\n",
    "- It should only return the top 10 teams in descending order by average away-goals.\n",
    "- It should only consider games played since 2000 (including the year 2000).\n",
    "\n",
    "Store your query string as the variable, `query_top10_away`, below. The test cell will run this query string against the input dataframe, `df`, defined above and return the result in a dataframe named `offensive_teams`. (See the test cell.)\n",
    "\n",
    "> **Note.** The following exercises have hidden test cases and you'll be awarded full points for passing both the exposed and hidden test cases."
   ]
  },
  {
   "cell_type": "code",
   "execution_count": 3,
   "metadata": {},
   "outputs": [
    {
     "name": "stdout",
     "output_type": "stream",
     "text": [
      " SELECT away_team AS team, ROUND(AVG(away_score),3) AS ave_goals\n",
      "                        FROM soccer_results\n",
      "                        where neutral == 'FALSE' and date >= '2000-01-01'\n",
      "                        GROUP BY  away_team\n",
      "                        HAVING COUNT(away_score) >= 30\n",
      "                        ORDER BY ROUND(AVG(away_score),3) desc\n",
      "                        LIMIT 10\n"
     ]
    }
   ],
   "source": [
    "query_top10_away = ''' SELECT away_team AS team, ROUND(AVG(away_score),3) AS ave_goals\n",
    "                        FROM soccer_results\n",
    "                        where neutral == 'FALSE' and date >= '2000-01-01'\n",
    "                        GROUP BY  away_team\n",
    "                        HAVING COUNT(away_score) >= 30\n",
    "                        ORDER BY ROUND(AVG(away_score),3) desc\n",
    "                        LIMIT 10'''  # Write your query here!\n",
    "\n",
    "###\n",
    "\n",
    "\n",
    "###\n",
    "\n",
    "print(query_top10_away)"
   ]
  },
  {
   "cell_type": "code",
   "execution_count": 4,
   "metadata": {
    "deletable": false,
    "editable": false,
    "nbgrader": {
     "grade": true,
     "grade_id": "exercise1",
     "locked": true,
     "points": "0",
     "solution": false
    }
   },
   "outputs": [
    {
     "name": "stdout",
     "output_type": "stream",
     "text": [
      "           team  ave_goals\n",
      "0       Germany      2.170\n",
      "1        Brazil      2.010\n",
      "2         Spain      1.927\n",
      "3       England      1.763\n",
      "4   Netherlands      1.742\n",
      "5        France      1.639\n",
      "6      Portugal      1.579\n",
      "7     Argentina      1.560\n",
      "8  Saudi Arabia      1.540\n",
      "9       Denmark      1.534\n",
      "\n",
      "(Passed!)\n"
     ]
    }
   ],
   "source": [
    "# Test: Exercise 1 (exposed)\n",
    "offensive_teams = pd.read_sql_query(query_top10_away, disk_engine)\n",
    "df_cols = offensive_teams.columns.tolist()\n",
    "df_cols.sort()\n",
    "desired_cols = ['team', 'ave_goals']\n",
    "desired_cols.sort()\n",
    "print(offensive_teams.head(10))\n",
    "assert offensive_teams.shape[0] == 10, \"Expected 10 rows but returned dataframe has {}\".format(offensive_teams.shape[0])\n",
    "assert offensive_teams.shape[1] == 2, \"Expected 2 columns but returned dataframe has {}\".format(offensive_teams.shape[1])\n",
    "assert df_cols == desired_cols, \"Column names should be: {}. Returned dataframe has: {}\".format(desired_cols, df_cols)\n",
    "\n",
    "tolerance = .001\n",
    "team_4 = offensive_teams.iloc[3].team\n",
    "team_4_ave = offensive_teams.iloc[3].ave_goals\n",
    "desired_team_4_ave = 1.763\n",
    "assert (team_4 == \"England\" and abs(team_4_ave - 1.763) <= .001), \"Fourth entry is {} with average of {}. Got {} with average of {}\".format(\"England\", 1.76, team_4, team_4_ave)\n",
    "\n",
    "print(\"\\n(Passed!)\")"
   ]
  },
  {
   "cell_type": "code",
   "execution_count": 5,
   "metadata": {
    "deletable": false,
    "editable": false,
    "nbgrader": {
     "grade": true,
     "grade_id": "exercise1_hidden",
     "locked": true,
     "points": "1",
     "solution": false
    }
   },
   "outputs": [
    {
     "name": "stdout",
     "output_type": "stream",
     "text": [
      "\n",
      "In addition to the tests above, this cell will include some hidden tests.\n",
      "You will only know the result when you submit your solution to the\n",
      "autograder.\n",
      "\n"
     ]
    }
   ],
   "source": [
    "# Hidden test cell: exercise1_hidden\n",
    "\n",
    "print(\"\"\"\n",
    "In addition to the tests above, this cell will include some hidden tests.\n",
    "You will only know the result when you submit your solution to the\n",
    "autograder.\n",
    "\"\"\")\n",
    "\n",
    "###\n",
    "### AUTOGRADER TEST - DO NOT REMOVE\n",
    "###\n"
   ]
  },
  {
   "cell_type": "markdown",
   "metadata": {
    "deletable": false,
    "editable": false,
    "nbgrader": {
     "grade": false,
     "locked": true,
     "solution": false
    }
   },
   "source": [
    "**Exercise 2** (2 points): Suppose we are now interested in the top 10 teams having the best goal **differential**, between the years 2012 and 2018 (both inclusive). A team's goal differential is the difference between the total number of goals it scored and the total number it conceded across all games (in the requested years).\n",
    "\n",
    "Complete the function, `best_goal_differential()`, below, so that it returns a pandas dataframe containing the top 10 teams by goal differential, sorted in descending order of differential. The dataframe should have two columns: `team`, which holds the team's name, and `differential`, which holds its overall goal differential.\n",
    "\n",
    "> As a sanity check, you should find the Brazil is the number one team, with a differential of 152 during the selected time period of 2012-2018 (inclusive). It should be the first row of the returned dataframe."
   ]
  },
  {
   "cell_type": "code",
   "execution_count": 6,
   "metadata": {},
   "outputs": [],
   "source": [
    "def best_goal_differential():\n",
    "    ###\n",
    "    dfh = df.copy()     \n",
    "    dfh['date'] = pd.to_datetime(dfh['date'])\n",
    "    dfh = dfh[(dfh['date'].dt.year >= 2012) &(dfh['date'].dt.year <= 2018)]\n",
    "\n",
    "    dfh['differential'] = dfh['home_score'] - dfh['away_score']\n",
    "    dfh['team'] = dfh['home_team']  \n",
    "\n",
    "    dfa = df.copy()\n",
    "    dfa['date'] = pd.to_datetime(dfa['date'])\n",
    "    dfa = dfa[(dfa['date'].dt.year >= 2012) &(dfa['date'].dt.year <= 2018)]\n",
    "\n",
    "    dfa['differential'] = dfa['away_score'] - dfa['home_score']\n",
    "    dfa['team'] = dfa['away_team']  \n",
    "\n",
    "\n",
    "    dfc = dfh[['differential','team']].append(dfa[['differential','team']])\n",
    "    dfc = dfc.groupby(['team']).sum().reset_index()\n",
    "\n",
    "    dfc = dfc.sort_values(by = 'differential', ascending=False).reset_index(drop = True)\n",
    "    return dfc[:10]\n",
    "    ###\n"
   ]
  },
  {
   "cell_type": "code",
   "execution_count": 7,
   "metadata": {
    "deletable": false,
    "editable": false,
    "nbgrader": {
     "grade": true,
     "grade_id": "exercise2",
     "locked": true,
     "points": "1",
     "solution": false
    }
   },
   "outputs": [
    {
     "name": "stdout",
     "output_type": "stream",
     "text": [
      "\n",
      "(Passed!)\n"
     ]
    }
   ],
   "source": [
    "# Test: Exercise 2 (exposed)\n",
    "\n",
    "diff_df = best_goal_differential()\n",
    "df_cols = diff_df.columns.tolist()\n",
    "df_cols.sort()\n",
    "desired_cols = ['team', 'differential']\n",
    "desired_cols.sort()\n",
    "\n",
    "assert isinstance(diff_df, pd.DataFrame), \"Dataframe object not returned\"\n",
    "assert diff_df.shape[0] == 10, \"Expected 10 rows but returned dataframe has {}\".format(diff_df.shape[0])\n",
    "assert diff_df.shape[1] == 2, \"Expected 2 columns but returned dataframe has {}\".format(diff_df.shape[1])\n",
    "assert df_cols == desired_cols, \"Column names should be: {}. Returned dataframe has: {}\".format(desired_cols, df_cols)\n",
    "\n",
    "best_team = diff_df.iloc[0].team\n",
    "best_diff = diff_df.iloc[0].differential\n",
    "assert (best_team == \"Brazil\" and best_diff == 152), \"{} has best differential of {}. Got team {} having best differential of {}\".format(\"Brazil\", 152, best_team, best_diff)\n",
    "\n",
    "print(\"\\n(Passed!)\")"
   ]
  },
  {
   "cell_type": "code",
   "execution_count": 8,
   "metadata": {
    "deletable": false,
    "editable": false,
    "nbgrader": {
     "grade": true,
     "grade_id": "exercise2_hidden",
     "locked": true,
     "points": "1",
     "solution": false
    }
   },
   "outputs": [
    {
     "name": "stdout",
     "output_type": "stream",
     "text": [
      "\n",
      "In addition to the tests above, this cell will include some hidden tests.\n",
      "You will only know the result when you submit your solution to the\n",
      "autograder.\n",
      "\n"
     ]
    }
   ],
   "source": [
    "# Hidden test cell: exercise2_hidden\n",
    "\n",
    "print(\"\"\"\n",
    "In addition to the tests above, this cell will include some hidden tests.\n",
    "You will only know the result when you submit your solution to the\n",
    "autograder.\n",
    "\"\"\")\n",
    "\n",
    "###\n",
    "### AUTOGRADER TEST - DO NOT REMOVE\n",
    "###\n"
   ]
  },
  {
   "cell_type": "markdown",
   "metadata": {
    "deletable": false,
    "editable": false,
    "nbgrader": {
     "grade": false,
     "locked": true,
     "solution": false
    }
   },
   "source": [
    "**Exercise 3** (1 point). Complete the function, `determine_winners(game_df)`, below. It should determine the winner of each soccer game.\n",
    "\n",
    "In particular, the function should take in a dataframe like `df` from above. It should return a new dataframe consisting of all the columns from that dataframe plus a new columnn called **`winner`**, holding the name of the winning team. If there is no winner for a particular game (i.e., the score is tied), then the `winner` column should containing the string, `'Draw'`. Lastly, the rows of the output should be in the same order as the input dataframe.\n",
    "\n",
    "You can use any dataframe manipulation techniques you want for this question _(i.e., pandas methods or SQL queries, as you prefer)._\n",
    "\n",
    "> You'll need the output dataframe from this exercise for the subsequent exercies, so don't skip this one!"
   ]
  },
  {
   "cell_type": "code",
   "execution_count": 9,
   "metadata": {
    "nbgrader": {
     "grade": false,
     "locked": false,
     "solution": false
    }
   },
   "outputs": [],
   "source": [
    "def determine_winners(game_df):\n",
    "    ###\n",
    "    dfw = game_df.copy()\n",
    "    dfw.loc[:,'winner'] = dfw.loc[:,'home_team']\n",
    "    dfw.loc[dfw['home_score'] == dfw['away_score'],'winner'] = 'Draw'\n",
    "    dfw.loc[dfw['home_score']< dfw['away_score'],'winner'] = dfw.loc[dfw['home_score']<dfw['away_score'],'away_team']\n",
    "    return dfw\n",
    "\n",
    "    ###\n"
   ]
  },
  {
   "cell_type": "code",
   "execution_count": 10,
   "metadata": {
    "deletable": false,
    "editable": false,
    "nbgrader": {
     "grade": true,
     "grade_id": "exercise3",
     "locked": true,
     "points": "0",
     "solution": false
    }
   },
   "outputs": [
    {
     "name": "stdout",
     "output_type": "stream",
     "text": [
      "\n",
      "(Passed!)\n"
     ]
    }
   ],
   "source": [
    "# Test: Exercise 3 (exposed)\n",
    "\n",
    "game_df = pd.read_sql_query(\"SELECT * FROM soccer_results\", disk_engine)\n",
    "winners_df = determine_winners(game_df)\n",
    "\n",
    "game_winner = winners_df.iloc[1].winner\n",
    "assert game_winner == \"Ghana\", \"Expected Ghana to be winner. Got {}\".format(game_winner)\n",
    "\n",
    "game_winner = winners_df.iloc[2].winner\n",
    "assert game_winner == \"Draw\", \"Match was Draw. Got {}\".format(game_winner)\n",
    "\n",
    "game_winner = winners_df.iloc[3].winner\n",
    "assert game_winner == \"Mali\", \"Expected Mali to be winner. Got {}\".format(game_winner)\n",
    "\n",
    "print(\"\\n(Passed!)\")"
   ]
  },
  {
   "cell_type": "code",
   "execution_count": 11,
   "metadata": {
    "deletable": false,
    "editable": false,
    "nbgrader": {
     "grade": true,
     "grade_id": "exercise3_hidden",
     "locked": true,
     "points": "1",
     "solution": false
    }
   },
   "outputs": [
    {
     "name": "stdout",
     "output_type": "stream",
     "text": [
      "\n",
      "In addition to the tests above, this cell will include some hidden tests.\n",
      "You will only know the result when you submit your solution to the\n",
      "autograder.\n",
      "\n"
     ]
    }
   ],
   "source": [
    "# Hidden test cell: exercise3_hidden\n",
    "\n",
    "print(\"\"\"\n",
    "In addition to the tests above, this cell will include some hidden tests.\n",
    "You will only know the result when you submit your solution to the\n",
    "autograder.\n",
    "\"\"\")\n",
    "\n",
    "###\n",
    "### AUTOGRADER TEST - DO NOT REMOVE\n",
    "###\n"
   ]
  },
  {
   "cell_type": "markdown",
   "metadata": {
    "deletable": false,
    "editable": false,
    "nbgrader": {
     "grade": false,
     "locked": true,
     "solution": false
    }
   },
   "source": [
    "**Exercise 4** (3 points): Given a team, its _home advantage ratio_ is the number of home games it has won divided by the number of home games it has played. For this exercise, we'll try to answer the question, how important is the home advantage in soccer? It's importance is factored into draws for competitions, for example, teams wanting to play at home the second leg of the matches of great importance such as tournament knockouts. (_This exercise has a pre-requisite of finishing Exercise 3 as we'll be using the results of the dataframe from that exercise in this one._)\n",
    "\n",
    "Complete the function, `calc_home_advantage(winners_df)`, below, so that it returns the top 5 countries, among those that have played at least 50 **home** games, having the highest home advantage ratio. It should return a dataframe with two columns, **`team`** and **`ratio`**, holding the name of the team and its home advantage ratio, respectively. The ratio should be rounded to three decimal places. The rows should be sorted in descending order of ratio. If there are two teams with the same winning ratio, the teams should appear in alphabetical order by name.\n",
    "\n",
    "> **Note 0.** As with our definition of away-games, a team plays a home game if it is the home team (`home_team`) **and** the field is non-neutral (i.e., `neutral` is `FALSE`).\n",
    ">\n",
    "> **Note 1.** You should find, for example, that Brazil is the number two team, with a home advantage ratio of 0.773."
   ]
  },
  {
   "cell_type": "code",
   "execution_count": 12,
   "metadata": {},
   "outputs": [],
   "source": [
    "def calc_home_advantage(winners_df):\n",
    "    ###\n",
    "    dfh = winners_df[winners_df['neutral'] == 'FALSE']\n",
    "    dfh = dfh.groupby(['home_team']).agg({'winner':'count'}).reset_index()\n",
    "    dfh = dfh.rename(columns = {'home_team':'team','winner':'all'})\n",
    "    dfh = dfh[dfh['all']>=50]\n",
    "\n",
    "    dfw = winners_df[(winners_df['home_team'] == winners_df['winner'])&(winners_df['neutral'] == 'FALSE')].groupby(['home_team']).agg({'winner':'count'}).reset_index()\n",
    "    dfw = dfw.rename(columns = {'home_team':'team','winner':'win'})\n",
    "\n",
    "    dfs = dfh.merge(dfw, on = 'team')\n",
    "    dfs['ratio'] = dfs['win']/dfs['all']\n",
    "    dfs = dfs.sort_values(by='ratio', ascending=False).reset_index(drop = True)[:5]\n",
    "    dfs = dfs.round({'ratio':3})\n",
    "\n",
    "\n",
    "\n",
    "    return dfs[['team','ratio']]\n",
    "    \n",
    "    ###\n"
   ]
  },
  {
   "cell_type": "code",
   "execution_count": 13,
   "metadata": {
    "deletable": false,
    "editable": false,
    "nbgrader": {
     "grade": true,
     "grade_id": "exercise4",
     "locked": true,
     "points": "1",
     "solution": false
    }
   },
   "outputs": [
    {
     "name": "stdout",
     "output_type": "stream",
     "text": [
      "The solution, according to you:\n"
     ]
    },
    {
     "data": {
      "text/html": [
       "<div>\n",
       "<style scoped>\n",
       "    .dataframe tbody tr th:only-of-type {\n",
       "        vertical-align: middle;\n",
       "    }\n",
       "\n",
       "    .dataframe tbody tr th {\n",
       "        vertical-align: top;\n",
       "    }\n",
       "\n",
       "    .dataframe thead th {\n",
       "        text-align: right;\n",
       "    }\n",
       "</style>\n",
       "<table border=\"1\" class=\"dataframe\">\n",
       "  <thead>\n",
       "    <tr style=\"text-align: right;\">\n",
       "      <th></th>\n",
       "      <th>team</th>\n",
       "      <th>ratio</th>\n",
       "    </tr>\n",
       "  </thead>\n",
       "  <tbody>\n",
       "    <tr>\n",
       "      <th>0</th>\n",
       "      <td>Spain</td>\n",
       "      <td>0.800</td>\n",
       "    </tr>\n",
       "    <tr>\n",
       "      <th>1</th>\n",
       "      <td>Brazil</td>\n",
       "      <td>0.773</td>\n",
       "    </tr>\n",
       "    <tr>\n",
       "      <th>2</th>\n",
       "      <td>Iran</td>\n",
       "      <td>0.742</td>\n",
       "    </tr>\n",
       "    <tr>\n",
       "      <th>3</th>\n",
       "      <td>Cameroon</td>\n",
       "      <td>0.739</td>\n",
       "    </tr>\n",
       "    <tr>\n",
       "      <th>4</th>\n",
       "      <td>Egypt</td>\n",
       "      <td>0.724</td>\n",
       "    </tr>\n",
       "  </tbody>\n",
       "</table>\n",
       "</div>"
      ],
      "text/plain": [
       "       team  ratio\n",
       "0     Spain  0.800\n",
       "1    Brazil  0.773\n",
       "2      Iran  0.742\n",
       "3  Cameroon  0.739\n",
       "4     Egypt  0.724"
      ]
     },
     "metadata": {},
     "output_type": "display_data"
    },
    {
     "name": "stdout",
     "output_type": "stream",
     "text": [
      "\n",
      "(Passed!)\n"
     ]
    }
   ],
   "source": [
    "# Test: Exercise 4 (exposed)\n",
    "from IPython.display import display\n",
    "\n",
    "win_perc = calc_home_advantage(winners_df)\n",
    "\n",
    "print(\"The solution, according to you:\")\n",
    "display(win_perc)\n",
    "\n",
    "df_cols = win_perc.columns.tolist()\n",
    "df_cols.sort()\n",
    "desired_cols = ['team', 'ratio']\n",
    "desired_cols.sort()\n",
    "\n",
    "assert win_perc.shape[0] == 5, \"Expected 5 rows, got {}\".format(win_perc.shape[0])\n",
    "assert win_perc.shape[1] == 2, \"Expected 2 columns, got {}\".format(win_perc.shape[1])\n",
    "assert df_cols == desired_cols, \"Expected {} columns but got {} columns\".format(desired_cols, df_cols)\n",
    "\n",
    "tolerance = .001\n",
    "sec_team = win_perc.iloc[1].team\n",
    "sec_perc = win_perc.iloc[1].ratio\n",
    "\n",
    "assert (sec_team == \"Brazil\" and abs(sec_perc - .773) <= tolerance), \"Second team should be {} with ratio of {}. \\\n",
    "Got {} with ratio of {}\".format(\"Brazil\", .773, sec_team, sec_perc)\n",
    "\n",
    "print(\"\\n(Passed!)\")"
   ]
  },
  {
   "cell_type": "code",
   "execution_count": 14,
   "metadata": {
    "deletable": false,
    "editable": false,
    "nbgrader": {
     "grade": true,
     "grade_id": "exercise4_hidden",
     "locked": true,
     "points": "2",
     "solution": false
    }
   },
   "outputs": [
    {
     "name": "stdout",
     "output_type": "stream",
     "text": [
      "\n",
      "In addition to the tests above, this cell will include some hidden tests.\n",
      "You will only know the result when you submit your solution to the\n",
      "autograder.\n",
      "\n"
     ]
    }
   ],
   "source": [
    "# Hidden test cell: exercise4_hidden\n",
    "\n",
    "print(\"\"\"\n",
    "In addition to the tests above, this cell will include some hidden tests.\n",
    "You will only know the result when you submit your solution to the\n",
    "autograder.\n",
    "\"\"\")\n",
    "\n",
    "###\n",
    "### AUTOGRADER TEST - DO NOT REMOVE\n",
    "###\n"
   ]
  },
  {
   "cell_type": "markdown",
   "metadata": {
    "deletable": false,
    "editable": false,
    "nbgrader": {
     "grade": false,
     "locked": true,
     "solution": false
    }
   },
   "source": [
    "**Exercise 5** (3 points) Now, we've seen how much the home advantage plays in, let us see how the results have looked \n",
    "like in the previous tournaments, for the specific case of the FIFA World Cup matches.\n",
    "\n",
    "In particular, complete the function, `points_table(winners_df, wc_year)`, below, so that it does the following:\n",
    "- It should take as input a dataframe, `winners_df`, having a \"winner\" column like that produced in Exercise 3, as well as a target year, `wc_year`.\n",
    "- It should consider only games in the given target year. Furthermore, it should only consider games where the `tournament` column has the value `\"FIFA World Cup\"`.\n",
    "- It should construct and return a \"points table\". This table should have two columns, **`team`**, containing the team name, and **`points`**, containing a points tally has defined below.\n",
    "- To compute the points, give the team 3 points for every win, 1 point for every draw, and 0 points (no points) for a loss.\n",
    "- In case of a tie in the points, sort the teams alphabetically\n",
    "\n",
    "As an example output, for the 1998 FIFA World Cup, the points table is:\n",
    "\n",
    "| team        | points |\n",
    "|-------------|--------|\n",
    "| France      | 19     |\n",
    "| Croatia     | 15     |\n",
    "| Brazil      | 13     |\n",
    "| Netherlands | 12     |\n",
    "| Italy       | 11     |"
   ]
  },
  {
   "cell_type": "code",
   "execution_count": 15,
   "metadata": {},
   "outputs": [],
   "source": [
    "def points_table(winners_df, wc_year):\n",
    "    ###\n",
    "#     wc_year = 1998\n",
    "    dfp = winners_df.copy()\n",
    "    dfp['date'] = pd.to_datetime(dfp['date'])\n",
    "    dfp = dfp[(dfp['date'].dt.year == wc_year)]\n",
    "    dfp = dfp[(dfp['tournament'] == 'FIFA World Cup')]    \n",
    "\n",
    "    dfph = dfp.copy()\n",
    "    dfph['points'] = 0\n",
    "    dfph.loc[dfph['home_team'] == dfph['winner'], 'points'] = 3\n",
    "    dfph.loc[dfph['winner'] == 'Draw', 'points'] = 1\n",
    "    dfph = dfph.rename(columns = {'home_team':'team'})\n",
    "\n",
    "    dfpa = dfp.copy()\n",
    "    dfpa['points'] = 0\n",
    "    dfpa.loc[dfpa['away_team'] == dfpa['winner'], 'points'] = 3\n",
    "    dfpa.loc[dfpa['winner'] == 'Draw', 'points'] = 1\n",
    "    dfpa = dfpa.rename(columns = {'away_team':'team'})\n",
    "\n",
    "    dfs = dfph[['team','points']].append(dfpa[['team','points']])\n",
    "\n",
    "    dfs = dfs.groupby(['team']).sum().reset_index()\n",
    "    dfs = dfs.sort_values(by= ['points', 'team'], ascending=[False, True]).reset_index(drop = True)\n",
    "    return dfs\n",
    "   ###\n"
   ]
  },
  {
   "cell_type": "code",
   "execution_count": 16,
   "metadata": {
    "deletable": false,
    "editable": false,
    "nbgrader": {
     "grade": true,
     "grade_id": "exercise5",
     "locked": true,
     "points": "1",
     "solution": false
    }
   },
   "outputs": [
    {
     "name": "stdout",
     "output_type": "stream",
     "text": [
      "\n",
      "(Passed!)\n"
     ]
    }
   ],
   "source": [
    "# Test: Exercise 5 (exposed)\n",
    "\n",
    "\n",
    "tbl_1998 = points_table(winners_df, 1998)\n",
    "\n",
    "assert tbl_1998.iloc[0].team == \"France\"\n",
    "assert tbl_1998.iloc[0].points == 19\n",
    "assert tbl_1998.iloc[1].team == \"Croatia\"\n",
    "assert tbl_1998.iloc[1].points == 15\n",
    "assert tbl_1998.iloc[2].team == \"Brazil\"\n",
    "assert tbl_1998.iloc[2].points == 13\n",
    "assert tbl_1998.iloc[3].team == \"Netherlands\"\n",
    "assert tbl_1998.iloc[3].points == 12\n",
    "assert tbl_1998.iloc[4].team == \"Italy\"\n",
    "assert tbl_1998.iloc[4].points == 11\n",
    "\n",
    "print(\"\\n(Passed!)\")\n"
   ]
  },
  {
   "cell_type": "code",
   "execution_count": 17,
   "metadata": {
    "deletable": false,
    "editable": false,
    "nbgrader": {
     "grade": true,
     "grade_id": "exercise5_hidden",
     "locked": true,
     "points": "2",
     "solution": false
    }
   },
   "outputs": [
    {
     "name": "stdout",
     "output_type": "stream",
     "text": [
      "\n",
      "In addition to the tests above, this cell will include some hidden tests.\n",
      "You will only know the result when you submit your solution to the\n",
      "autograder.\n",
      "\n"
     ]
    }
   ],
   "source": [
    "# Hidden test cell: exercise5_hidden\n",
    "\n",
    "print(\"\"\"\n",
    "In addition to the tests above, this cell will include some hidden tests.\n",
    "You will only know the result when you submit your solution to the\n",
    "autograder.\n",
    "\"\"\")\n",
    "\n",
    "###\n",
    "### AUTOGRADER TEST - DO NOT REMOVE\n",
    "###\n"
   ]
  },
  {
   "cell_type": "markdown",
   "metadata": {
    "deletable": false,
    "editable": false,
    "nbgrader": {
     "grade": false,
     "locked": true,
     "solution": false
    }
   },
   "source": [
    "**Fin!** You’ve reached the end of this part. Don’t forget to restart and run all cells again to make sure it’s all working when run in sequence; and make sure your work passes the submission process. Good luck!"
   ]
  }
 ],
 "metadata": {
  "kernelspec": {
   "display_name": "Python 3.7",
   "language": "python",
   "name": "python37"
  },
  "language_info": {
   "codemirror_mode": {
    "name": "ipython",
    "version": 3
   },
   "file_extension": ".py",
   "mimetype": "text/x-python",
   "name": "python",
   "nbconvert_exporter": "python",
   "pygments_lexer": "ipython3",
   "version": "3.7.5"
  }
 },
 "nbformat": 4,
 "nbformat_minor": 2
}
