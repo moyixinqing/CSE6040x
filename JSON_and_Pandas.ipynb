{
  "nbformat": 4,
  "nbformat_minor": 0,
  "metadata": {
    "colab": {
      "name": "JSON and Pandas.ipynb",
      "provenance": [],
      "collapsed_sections": [],
      "authorship_tag": "ABX9TyOLjrwn2+V/NeINokkwRzwm",
      "include_colab_link": true
    },
    "kernelspec": {
      "name": "python3",
      "display_name": "Python 3"
    }
  },
  "cells": [
    {
      "cell_type": "markdown",
      "metadata": {
        "id": "view-in-github",
        "colab_type": "text"
      },
      "source": [
        "<a href=\"https://colab.research.google.com/github/moyixinqing/CSE6040x/blob/master/JSON_and_Pandas.ipynb\" target=\"_parent\"><img src=\"https://colab.research.google.com/assets/colab-badge.svg\" alt=\"Open In Colab\"/></a>"
      ]
    },
    {
      "cell_type": "code",
      "metadata": {
        "id": "4YKRaMjMappK",
        "colab": {
          "base_uri": "https://localhost:8080/"
        },
        "outputId": "a4c773fa-79cd-4564-d15e-b32a33dc59df"
      },
      "source": [
        "from google.colab import drive\n",
        "drive.mount('/content/drive')"
      ],
      "execution_count": null,
      "outputs": [
        {
          "output_type": "stream",
          "text": [
            "Mounted at /content/drive\n"
          ],
          "name": "stdout"
        }
      ]
    },
    {
      "cell_type": "code",
      "metadata": {
        "id": "FDIqDy9LXure",
        "colab": {
          "base_uri": "https://localhost:8080/",
          "height": 204
        },
        "outputId": "4a5165e7-19c7-4bab-b900-99b7ddfecffe"
      },
      "source": [
        "import pandas as pd\n",
        "file_name = \"/content/drive/My Drive/MOCK_DATA.json\"\n",
        "\n",
        "df = pd.read_json(file_name)\n",
        "df.head()"
      ],
      "execution_count": null,
      "outputs": [
        {
          "output_type": "execute_result",
          "data": {
            "text/html": [
              "<div>\n",
              "<style scoped>\n",
              "    .dataframe tbody tr th:only-of-type {\n",
              "        vertical-align: middle;\n",
              "    }\n",
              "\n",
              "    .dataframe tbody tr th {\n",
              "        vertical-align: top;\n",
              "    }\n",
              "\n",
              "    .dataframe thead th {\n",
              "        text-align: right;\n",
              "    }\n",
              "</style>\n",
              "<table border=\"1\" class=\"dataframe\">\n",
              "  <thead>\n",
              "    <tr style=\"text-align: right;\">\n",
              "      <th></th>\n",
              "      <th>id</th>\n",
              "      <th>name</th>\n",
              "      <th>email</th>\n",
              "      <th>gender</th>\n",
              "      <th>city</th>\n",
              "      <th>friends</th>\n",
              "    </tr>\n",
              "  </thead>\n",
              "  <tbody>\n",
              "    <tr>\n",
              "      <th>0</th>\n",
              "      <td>1</td>\n",
              "      <td>{'first_name': 'Nerta', 'last_name': 'Ricciardo'}</td>\n",
              "      <td>{'personal': 'nricciardo0@hostgator.com', 'wor...</td>\n",
              "      <td>Female</td>\n",
              "      <td>Sitovo</td>\n",
              "      <td>[{'first_name': 'Miran', 'last_name': 'De'Vere...</td>\n",
              "    </tr>\n",
              "    <tr>\n",
              "      <th>1</th>\n",
              "      <td>2</td>\n",
              "      <td>{'first_name': 'Minerva', 'last_name': 'Little...</td>\n",
              "      <td>{'personal': 'mlittlewood1@icio.us', 'working'...</td>\n",
              "      <td>Female</td>\n",
              "      <td>Jiaoyuan</td>\n",
              "      <td>[{'first_name': 'Dian', 'last_name': 'Hounsham...</td>\n",
              "    </tr>\n",
              "    <tr>\n",
              "      <th>2</th>\n",
              "      <td>3</td>\n",
              "      <td>{'first_name': 'Rosa', 'last_name': 'Casswell'}</td>\n",
              "      <td>{'personal': 'rcasswell2@soup.io', 'working': ...</td>\n",
              "      <td>Female</td>\n",
              "      <td>Zhenchuan</td>\n",
              "      <td>[{'first_name': 'Meghann', 'last_name': 'Vanna...</td>\n",
              "    </tr>\n",
              "    <tr>\n",
              "      <th>3</th>\n",
              "      <td>4</td>\n",
              "      <td>{'first_name': 'Loren', 'last_name': 'Bugbee'}</td>\n",
              "      <td>{'personal': 'lbugbee3@dmoz.org', 'working': '...</td>\n",
              "      <td>Female</td>\n",
              "      <td>Rokytne</td>\n",
              "      <td>[]</td>\n",
              "    </tr>\n",
              "    <tr>\n",
              "      <th>4</th>\n",
              "      <td>5</td>\n",
              "      <td>{'first_name': 'Neda', 'last_name': 'De Norman...</td>\n",
              "      <td>{'personal': 'ndenormanville4@illinois.edu', '...</td>\n",
              "      <td>Female</td>\n",
              "      <td>Antipolo</td>\n",
              "      <td>[{'first_name': 'Andrus', 'last_name': 'Szymon...</td>\n",
              "    </tr>\n",
              "  </tbody>\n",
              "</table>\n",
              "</div>"
            ],
            "text/plain": [
              "   id  ...                                            friends\n",
              "0   1  ...  [{'first_name': 'Miran', 'last_name': 'De'Vere...\n",
              "1   2  ...  [{'first_name': 'Dian', 'last_name': 'Hounsham...\n",
              "2   3  ...  [{'first_name': 'Meghann', 'last_name': 'Vanna...\n",
              "3   4  ...                                                 []\n",
              "4   5  ...  [{'first_name': 'Andrus', 'last_name': 'Szymon...\n",
              "\n",
              "[5 rows x 6 columns]"
            ]
          },
          "metadata": {
            "tags": []
          },
          "execution_count": 8
        }
      ]
    },
    {
      "cell_type": "markdown",
      "metadata": {
        "id": "eJQrSEDfbXIz"
      },
      "source": [
        "Splitting dictionary/list inside a Pandas Column into Separate Columns\n",
        "\n",
        "\n",
        "There is a nice way of using `.apply` and `pd.Series` to accomplish this task: [Stack Overflow](https://stackoverflow.com/questions/38231591/splitting-dictionary-list-inside-a-pandas-column-into-separate-columns) is your friend!"
      ]
    },
    {
      "cell_type": "code",
      "metadata": {
        "id": "JrlKNrmXa_Zu",
        "colab": {
          "base_uri": "https://localhost:8080/",
          "height": 419
        },
        "outputId": "b053a02a-d882-4cc3-e524-425ed769275e"
      },
      "source": [
        "df.email.apply(pd.Series)"
      ],
      "execution_count": null,
      "outputs": [
        {
          "output_type": "execute_result",
          "data": {
            "text/html": [
              "<div>\n",
              "<style scoped>\n",
              "    .dataframe tbody tr th:only-of-type {\n",
              "        vertical-align: middle;\n",
              "    }\n",
              "\n",
              "    .dataframe tbody tr th {\n",
              "        vertical-align: top;\n",
              "    }\n",
              "\n",
              "    .dataframe thead th {\n",
              "        text-align: right;\n",
              "    }\n",
              "</style>\n",
              "<table border=\"1\" class=\"dataframe\">\n",
              "  <thead>\n",
              "    <tr style=\"text-align: right;\">\n",
              "      <th></th>\n",
              "      <th>personal</th>\n",
              "      <th>working</th>\n",
              "    </tr>\n",
              "  </thead>\n",
              "  <tbody>\n",
              "    <tr>\n",
              "      <th>0</th>\n",
              "      <td>nricciardo0@hostgator.com</td>\n",
              "      <td>nricciardo0@java.com</td>\n",
              "    </tr>\n",
              "    <tr>\n",
              "      <th>1</th>\n",
              "      <td>mlittlewood1@icio.us</td>\n",
              "      <td>mlittlewood1@vimeo.com</td>\n",
              "    </tr>\n",
              "    <tr>\n",
              "      <th>2</th>\n",
              "      <td>rcasswell2@soup.io</td>\n",
              "      <td>rcasswell2@apple.com</td>\n",
              "    </tr>\n",
              "    <tr>\n",
              "      <th>3</th>\n",
              "      <td>lbugbee3@dmoz.org</td>\n",
              "      <td>lbugbee3@odnoklassniki.ru</td>\n",
              "    </tr>\n",
              "    <tr>\n",
              "      <th>4</th>\n",
              "      <td>ndenormanville4@illinois.edu</td>\n",
              "      <td>ndenormanville4@tamu.edu</td>\n",
              "    </tr>\n",
              "    <tr>\n",
              "      <th>...</th>\n",
              "      <td>...</td>\n",
              "      <td>...</td>\n",
              "    </tr>\n",
              "    <tr>\n",
              "      <th>995</th>\n",
              "      <td>dzarfairn@163.com</td>\n",
              "      <td>dzarfairn@telegraph.co.uk</td>\n",
              "    </tr>\n",
              "    <tr>\n",
              "      <th>996</th>\n",
              "      <td>bjulianro@psu.edu</td>\n",
              "      <td>bjulianro@sohu.com</td>\n",
              "    </tr>\n",
              "    <tr>\n",
              "      <th>997</th>\n",
              "      <td>emoriganrp@ehow.com</td>\n",
              "      <td>emoriganrp@arstechnica.com</td>\n",
              "    </tr>\n",
              "    <tr>\n",
              "      <th>998</th>\n",
              "      <td>jkinsellarq@blogtalkradio.com</td>\n",
              "      <td>jkinsellarq@bizjournals.com</td>\n",
              "    </tr>\n",
              "    <tr>\n",
              "      <th>999</th>\n",
              "      <td>bbretonrr@pen.io</td>\n",
              "      <td>bbretonrr@linkedin.com</td>\n",
              "    </tr>\n",
              "  </tbody>\n",
              "</table>\n",
              "<p>1000 rows × 2 columns</p>\n",
              "</div>"
            ],
            "text/plain": [
              "                          personal                      working\n",
              "0        nricciardo0@hostgator.com         nricciardo0@java.com\n",
              "1             mlittlewood1@icio.us       mlittlewood1@vimeo.com\n",
              "2               rcasswell2@soup.io         rcasswell2@apple.com\n",
              "3                lbugbee3@dmoz.org    lbugbee3@odnoklassniki.ru\n",
              "4     ndenormanville4@illinois.edu     ndenormanville4@tamu.edu\n",
              "..                             ...                          ...\n",
              "995              dzarfairn@163.com    dzarfairn@telegraph.co.uk\n",
              "996              bjulianro@psu.edu           bjulianro@sohu.com\n",
              "997            emoriganrp@ehow.com   emoriganrp@arstechnica.com\n",
              "998  jkinsellarq@blogtalkradio.com  jkinsellarq@bizjournals.com\n",
              "999               bbretonrr@pen.io       bbretonrr@linkedin.com\n",
              "\n",
              "[1000 rows x 2 columns]"
            ]
          },
          "metadata": {
            "tags": []
          },
          "execution_count": 9
        }
      ]
    },
    {
      "cell_type": "code",
      "metadata": {
        "id": "giHuMERKbGHt",
        "colab": {
          "base_uri": "https://localhost:8080/",
          "height": 419
        },
        "outputId": "b9547ebd-95d3-43b0-f2c8-cf1550b51710"
      },
      "source": [
        "df.join(df.email.apply(pd.Series)).drop('email', axis=1)"
      ],
      "execution_count": null,
      "outputs": [
        {
          "output_type": "execute_result",
          "data": {
            "text/html": [
              "<div>\n",
              "<style scoped>\n",
              "    .dataframe tbody tr th:only-of-type {\n",
              "        vertical-align: middle;\n",
              "    }\n",
              "\n",
              "    .dataframe tbody tr th {\n",
              "        vertical-align: top;\n",
              "    }\n",
              "\n",
              "    .dataframe thead th {\n",
              "        text-align: right;\n",
              "    }\n",
              "</style>\n",
              "<table border=\"1\" class=\"dataframe\">\n",
              "  <thead>\n",
              "    <tr style=\"text-align: right;\">\n",
              "      <th></th>\n",
              "      <th>id</th>\n",
              "      <th>name</th>\n",
              "      <th>gender</th>\n",
              "      <th>city</th>\n",
              "      <th>friends</th>\n",
              "      <th>personal</th>\n",
              "      <th>working</th>\n",
              "    </tr>\n",
              "  </thead>\n",
              "  <tbody>\n",
              "    <tr>\n",
              "      <th>0</th>\n",
              "      <td>1</td>\n",
              "      <td>{'first_name': 'Nerta', 'last_name': 'Ricciardo'}</td>\n",
              "      <td>Female</td>\n",
              "      <td>Sitovo</td>\n",
              "      <td>[{'first_name': 'Miran', 'last_name': 'De'Vere...</td>\n",
              "      <td>nricciardo0@hostgator.com</td>\n",
              "      <td>nricciardo0@java.com</td>\n",
              "    </tr>\n",
              "    <tr>\n",
              "      <th>1</th>\n",
              "      <td>2</td>\n",
              "      <td>{'first_name': 'Minerva', 'last_name': 'Little...</td>\n",
              "      <td>Female</td>\n",
              "      <td>Jiaoyuan</td>\n",
              "      <td>[{'first_name': 'Dian', 'last_name': 'Hounsham...</td>\n",
              "      <td>mlittlewood1@icio.us</td>\n",
              "      <td>mlittlewood1@vimeo.com</td>\n",
              "    </tr>\n",
              "    <tr>\n",
              "      <th>2</th>\n",
              "      <td>3</td>\n",
              "      <td>{'first_name': 'Rosa', 'last_name': 'Casswell'}</td>\n",
              "      <td>Female</td>\n",
              "      <td>Zhenchuan</td>\n",
              "      <td>[{'first_name': 'Meghann', 'last_name': 'Vanna...</td>\n",
              "      <td>rcasswell2@soup.io</td>\n",
              "      <td>rcasswell2@apple.com</td>\n",
              "    </tr>\n",
              "    <tr>\n",
              "      <th>3</th>\n",
              "      <td>4</td>\n",
              "      <td>{'first_name': 'Loren', 'last_name': 'Bugbee'}</td>\n",
              "      <td>Female</td>\n",
              "      <td>Rokytne</td>\n",
              "      <td>[]</td>\n",
              "      <td>lbugbee3@dmoz.org</td>\n",
              "      <td>lbugbee3@odnoklassniki.ru</td>\n",
              "    </tr>\n",
              "    <tr>\n",
              "      <th>4</th>\n",
              "      <td>5</td>\n",
              "      <td>{'first_name': 'Neda', 'last_name': 'De Norman...</td>\n",
              "      <td>Female</td>\n",
              "      <td>Antipolo</td>\n",
              "      <td>[{'first_name': 'Andrus', 'last_name': 'Szymon...</td>\n",
              "      <td>ndenormanville4@illinois.edu</td>\n",
              "      <td>ndenormanville4@tamu.edu</td>\n",
              "    </tr>\n",
              "    <tr>\n",
              "      <th>...</th>\n",
              "      <td>...</td>\n",
              "      <td>...</td>\n",
              "      <td>...</td>\n",
              "      <td>...</td>\n",
              "      <td>...</td>\n",
              "      <td>...</td>\n",
              "      <td>...</td>\n",
              "    </tr>\n",
              "    <tr>\n",
              "      <th>995</th>\n",
              "      <td>996</td>\n",
              "      <td>{'first_name': 'Dulsea', 'last_name': 'Zarfai'}</td>\n",
              "      <td>Female</td>\n",
              "      <td>Ostuncalco</td>\n",
              "      <td>[{'first_name': 'Ailis', 'last_name': 'Farey'}...</td>\n",
              "      <td>dzarfairn@163.com</td>\n",
              "      <td>dzarfairn@telegraph.co.uk</td>\n",
              "    </tr>\n",
              "    <tr>\n",
              "      <th>996</th>\n",
              "      <td>997</td>\n",
              "      <td>{'first_name': 'Beitris', 'last_name': 'Julian'}</td>\n",
              "      <td>Female</td>\n",
              "      <td>Alajuela</td>\n",
              "      <td>[{'first_name': 'Catriona', 'last_name': 'Rigg...</td>\n",
              "      <td>bjulianro@psu.edu</td>\n",
              "      <td>bjulianro@sohu.com</td>\n",
              "    </tr>\n",
              "    <tr>\n",
              "      <th>997</th>\n",
              "      <td>998</td>\n",
              "      <td>{'first_name': 'Ethelin', 'last_name': 'Morigan'}</td>\n",
              "      <td>Female</td>\n",
              "      <td>Camperdown</td>\n",
              "      <td>[{'first_name': 'Rebeca', 'last_name': 'Jakovi...</td>\n",
              "      <td>emoriganrp@ehow.com</td>\n",
              "      <td>emoriganrp@arstechnica.com</td>\n",
              "    </tr>\n",
              "    <tr>\n",
              "      <th>998</th>\n",
              "      <td>999</td>\n",
              "      <td>{'first_name': 'Jaye', 'last_name': 'Kinsella'}</td>\n",
              "      <td>Male</td>\n",
              "      <td>Suvorov</td>\n",
              "      <td>[{'first_name': 'Rancell', 'last_name': 'Tooth...</td>\n",
              "      <td>jkinsellarq@blogtalkradio.com</td>\n",
              "      <td>jkinsellarq@bizjournals.com</td>\n",
              "    </tr>\n",
              "    <tr>\n",
              "      <th>999</th>\n",
              "      <td>1000</td>\n",
              "      <td>{'first_name': 'Bernette', 'last_name': 'Breton'}</td>\n",
              "      <td>Female</td>\n",
              "      <td>Libertad</td>\n",
              "      <td>[{'first_name': 'Hamel', 'last_name': 'Kinkead...</td>\n",
              "      <td>bbretonrr@pen.io</td>\n",
              "      <td>bbretonrr@linkedin.com</td>\n",
              "    </tr>\n",
              "  </tbody>\n",
              "</table>\n",
              "<p>1000 rows × 7 columns</p>\n",
              "</div>"
            ],
            "text/plain": [
              "       id  ...                      working\n",
              "0       1  ...         nricciardo0@java.com\n",
              "1       2  ...       mlittlewood1@vimeo.com\n",
              "2       3  ...         rcasswell2@apple.com\n",
              "3       4  ...    lbugbee3@odnoklassniki.ru\n",
              "4       5  ...     ndenormanville4@tamu.edu\n",
              "..    ...  ...                          ...\n",
              "995   996  ...    dzarfairn@telegraph.co.uk\n",
              "996   997  ...           bjulianro@sohu.com\n",
              "997   998  ...   emoriganrp@arstechnica.com\n",
              "998   999  ...  jkinsellarq@bizjournals.com\n",
              "999  1000  ...       bbretonrr@linkedin.com\n",
              "\n",
              "[1000 rows x 7 columns]"
            ]
          },
          "metadata": {
            "tags": []
          },
          "execution_count": 14
        }
      ]
    },
    {
      "cell_type": "code",
      "metadata": {
        "id": "241FIWPecwSK"
      },
      "source": [
        "Loop through json"
      ],
      "execution_count": null,
      "outputs": []
    },
    {
      "cell_type": "code",
      "metadata": {
        "id": "pigCrrv-b99m"
      },
      "source": [
        "import json\n",
        "\n",
        "json_file = open((file_name), encoding=\"utf8\")\n",
        "json_str = json_file.read()\n",
        "json_data = json.loads(json_str)"
      ],
      "execution_count": null,
      "outputs": []
    },
    {
      "cell_type": "code",
      "metadata": {
        "id": "NTSBHLwbcXBE",
        "colab": {
          "base_uri": "https://localhost:8080/"
        },
        "outputId": "bd632d57-20eb-4e1e-c1c2-6a643965485b"
      },
      "source": [
        "[l['id'] for l in json_data if '.edu' in l['email']['personal']]"
      ],
      "execution_count": null,
      "outputs": [
        {
          "output_type": "execute_result",
          "data": {
            "text/plain": [
              "[5,\n",
              " 58,\n",
              " 69,\n",
              " 85,\n",
              " 92,\n",
              " 102,\n",
              " 129,\n",
              " 165,\n",
              " 203,\n",
              " 207,\n",
              " 279,\n",
              " 285,\n",
              " 295,\n",
              " 296,\n",
              " 305,\n",
              " 337,\n",
              " 358,\n",
              " 383,\n",
              " 385,\n",
              " 458,\n",
              " 473,\n",
              " 509,\n",
              " 520,\n",
              " 537,\n",
              " 551,\n",
              " 598,\n",
              " 628,\n",
              " 668,\n",
              " 694,\n",
              " 701,\n",
              " 719,\n",
              " 724,\n",
              " 763,\n",
              " 795,\n",
              " 802,\n",
              " 805,\n",
              " 826,\n",
              " 830,\n",
              " 839,\n",
              " 868,\n",
              " 884,\n",
              " 885,\n",
              " 890,\n",
              " 898,\n",
              " 899,\n",
              " 906,\n",
              " 907,\n",
              " 910,\n",
              " 928,\n",
              " 945,\n",
              " 951,\n",
              " 986,\n",
              " 997]"
            ]
          },
          "metadata": {
            "tags": []
          },
          "execution_count": 20
        }
      ]
    }
  ]
}