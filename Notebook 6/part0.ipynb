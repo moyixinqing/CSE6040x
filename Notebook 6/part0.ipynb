{
    "cells": [
        {
            "cell_type": "markdown",
            "metadata": {
                "nbgrader": {
                    "grade": false,
                    "grade_id": "cell-5ae4e7b62e3457a9",
                    "locked": true,
                    "schema_version": 1,
                    "solution": false
                },
                "editable": false,
                "deletable": false
            },
            "source": [
                "# Part 0: Mining the web\n",
                "\n",
                "Perhaps the richest source of openly available data today is [the Web](http:\/\/www.computerhistory.org\/revolution\/networking\/19\/314)! In this lab, you'll explore some of the basic programming tools you need to scrape web data.\n",
                "\n",
                "> **Note 0.** The Vocareum platform runs in a cloud-based environment that limits what websites a program can connect to directly. Therefore, some (or possibly all) of the code below will **not** work. Therefore, we are making this notebook **optional** and are providing some solutions inline.\n",
                ">\n",
                "> **Note 1.** Even if you are using a home or local installation of Jupyter, you may encounter problems if you attempt to access a site too many times or too rapidly. That can happen if your internet service provider (ISP) or the target website detect your accesses as \"unusual\" and reject them. It's easy to imagine accidentally writing an infinite loop that tries to access a page and being seen from the other side as a malicious program. :)\n",
                ">\n",
                "> **Note 2.** The exercises below involve processing of HTML files. However, you don't need to know anything specific about HTML; you can solve (and we have solved) all of these exercises assuming only that the data is a semi-structured string, amenable to simple string manipulation and regular expression processing techniques. In Part 1 of this notebook assignment, you'll see a different method that employs the [Beautiful Soup](https:\/\/www.crummy.com\/software\/BeautifulSoup\/bs4\/doc\/) module.\n",
                ">\n",
                "> **Note 3.** Following Note 2, there are some outspoken people who believe you should never use regular expressions on HTML. Your instructor finds these arguments to be overly pedantic. For an entertaining take on the subject, see [this blog post](https:\/\/blog.codinghorror.com\/parsing-html-the-cthulhu-way\/)."
            ]
        },
        {
            "cell_type": "markdown",
            "metadata": {
                "nbgrader": {
                    "grade": false,
                    "grade_id": "cell-8dc1f4f41590bfcc",
                    "locked": true,
                    "schema_version": 1,
                    "solution": false
                },
                "editable": false,
                "deletable": false
            },
            "source": [
                "## The Requests module\n",
                "\n",
                "Python's [Requests module](http:\/\/requests.readthedocs.io\/en\/latest\/user\/quickstart\/) to download a web page.\n",
                "\n",
                "For instance, here is a code fragment to download the [Georgia Tech](http:\/\/www.gatech.edu) home page and print the first 250 characters. You might also want to [view the source](http:\/\/www.computerhope.com\/issues\/ch000746.htm) of Georgia Tech's home page to get a nicely formatted view, and compare its output to what you see above.\n",
                "\n",
                "> If you you are having connection or download issues, we have also provided a file containing the HTML contents from a snapshot of the site. Just change the variable, `USE_LOCAL_SNAPSHOT` to `True` to load that file instead."
            ]
        },
        {
            "cell_type": "code",
            "execution_count": 1,
            "metadata": {
                "nbgrader": {
                    "grade": false,
                    "grade_id": "cell-9670461e96fd478a",
                    "locked": false,
                    "schema_version": 1,
                    "solution": false
                }
            },
            "outputs": [
                {
                    "name": "stdout",
                    "output_type": "stream",
                    "text": [
                        "\n",
                        "=== Reading webpage from local file ... ===\n",
                        "\n",
                        "<!DOCTYPE html>\n",
                        "<html lang=\"en\" dir=\"ltr\" \n",
                        "  xmlns:content=\"http:\/\/purl.org\/rss\/1.0\/modules\/content\/\"\n",
                        "  xmlns:dc=\"http:\/\/purl.org\/dc\/terms\/\"\n",
                        "  xmlns:foaf=\"http:\/\/xmlns.com\/foaf\/0.1\/\"\n",
                        "  xmlns:og=\"http:\/\/ogp.me\/ns#\"\n",
                        "  xmlns:rdfs=\"http:\/\/www.w3.org\/2000\n"
                    ]
                }
            ],
            "source": [
                "import requests\n",
                "\n",
                "USE_LOCAL_SNAPSHOT = True\n",
                "\n",
                "if USE_LOCAL_SNAPSHOT:\n",
                "    print(\"\\n=== Reading webpage from local file ... ===\\n\")\n",
                "    with open('gatech_edu--20190125-1143.html', 'rt') as fp:\n",
                "        webpage = fp.read()\n",
                "else:\n",
                "    print(\"\\n=== Attempting to download webpage ... ===\\n\")\n",
                "    response = requests.get('https:\/\/www.gatech.edu\/')\n",
                "    webpage = response.text  # or response.content for raw bytes\n",
                "\n",
                "print(webpage[0:250]) # Prints the first hundred characters only"
            ]
        },
        {
            "cell_type": "markdown",
            "metadata": {},
            "source": [
                "**Exercise 1.** Given the string contents of the GT home page as above (e.g., the `webpage` variable), write a function that returns a list of links (URLs) of the site's \"top stories.\"\n",
                "\n",
                "For instance, consider the front page from Saturday, January 25, 2020:\n",
                "\n",
                "![www.gatech.edu as of Sat Jan 25, 2020](.\/gatech_edu--20190125-1143.png)\n",
                "\n",
                "The top stories are the ones associated with the three images (\"Quantum collaborators,\" \"10 x 10 x 10 Tech,\" and \"Transfer program offers...\").  Each image links to a news story, and we want your function to return the URL of each link. If no URLs can be found, the function should return an empty list."
            ]
        },
        {
            "cell_type": "code",
            "execution_count": 2,
            "metadata": {
                "collapsed": true,
                "nbgrader": {
                    "grade": false,
                    "grade_id": "get_top_stories",
                    "locked": false,
                    "schema_version": 1,
                    "solution": true
                }
            },
            "outputs": [],
            "source": [
                "import re # A simple application of regular expressions should suffice for this exercise!\n",
                "\n",
                "def get_gt_top_stories(webpage_text):\n",
                "    \"\"\"Given the HTML text for the GT front page, returns a list\n",
                "    of the URLs of the top stories or an empty list if none are\n",
                "    found.\n",
                "    \"\"\"\n",
                "    ###\n",
                "    ### YOUR CODE HERE\n",
                "    ###\n"
            ]
        },
        {
            "cell_type": "code",
            "execution_count": 3,
            "metadata": {
                "nbgrader": {
                    "grade": false,
                    "grade_id": "cell-6016c0d059ce46b6",
                    "locked": true,
                    "schema_version": 1,
                    "solution": false
                },
                "editable": false,
                "deletable": false
            },
            "outputs": [
                {
                    "name": "stdout",
                    "output_type": "stream",
                    "text": [
                        "Your claimed links to top stories:\n",
                        "0 https:\/\/www.news.gatech.edu\/2020\/01\/08\/georgia-tech-collaborates-ibm-develop-software-stacks-quantum-computers\n",
                        "1 https:\/\/www.gtalumni.org\/s\/1481\/alumni\/17\/magazine-pages.aspx?sid=1481&gid=21&sitebuilder=1&pgid=18355\n",
                        "2 https:\/\/www.news.gatech.edu\/2020\/01\/14\/transfer-program-offers-new-path-georgia-tech-pell-eligible-students\n"
                    ]
                }
            ],
            "source": [
                "top_stories = get_gt_top_stories(webpage)\n",
                "\n",
                "print(\"Your claimed links to top stories:\")\n",
                "for k, url in enumerate(top_stories):\n",
                "    print(k, url)"
            ]
        },
        {
            "cell_type": "markdown",
            "metadata": {
                "nbgrader": {
                    "grade": false,
                    "grade_id": "cell-335e708786088da3",
                    "locked": true,
                    "schema_version": 1,
                    "solution": false
                },
                "editable": false,
                "deletable": false
            },
            "source": [
                "## A more complex example\n",
                "\n",
                "Go to [Yelp!](http:\/\/www.yelp.com) and look up `ramen` in `Atlanta, GA`. Take note of the URL:\n",
                "\n",
                "![Yelp! search for ramen in ATL (January 25, 2020)](.\/yelp-ramen-atl--20200125-1205--scroll-to-results-annotated.png)"
            ]
        },
        {
            "cell_type": "markdown",
            "metadata": {
                "nbgrader": {
                    "grade": false,
                    "grade_id": "cell-9beef10625b4a87b",
                    "locked": true,
                    "schema_version": 1,
                    "solution": false
                },
                "editable": false,
                "deletable": false
            },
            "source": [
                "This URL encodes what is known as an _HTTP \"get\"_ method (or request). It basically means a URL with two parts: a _command_ followed by one or more _arguments_. In this case, the command is everything up to and including the word `search`; the arguments are the rest, where individual arguments are separated by the `&` or `#`.\n",
                "\n",
                "> \"HTTP\" stands for \"HyperText Transport Protocol,\" which is a standardized set of communication protocols that allow _web clients_, like your web browser or your Python program, to communicate with _web servers_.\n",
                "\n",
                "In this next example, let's see how to build a \"get request\" with the `requests` module. It's pretty easy!"
            ]
        },
        {
            "cell_type": "code",
            "execution_count": 4,
            "metadata": {
                "nbgrader": {
                    "grade": false,
                    "grade_id": "cell-4b1c55e113ba9c09",
                    "locked": true,
                    "schema_version": 1,
                    "solution": false
                },
                "editable": false,
                "deletable": false
            },
            "outputs": [
                {
                    "name": "stdout",
                    "output_type": "stream",
                    "text": [
                        "==> Downloading from: 'https:\/\/www.yelp.com\/search?find_desc=ramen&find_loc=atlanta%2C+ga'\n",
                        "\n",
                        "==> Excerpt from this URL:\n",
                        "\n",
                        "<!DOCTYPE HTML>\n",
                        "\n",
                        "<!--[if lt IE 7 ]> <html xmlns:fb=\"http:\/\/www.facebook.com\/2008\/fbml\" class=\"ie6 ie ltie9 ltie8 no-js\" lang=\"en\"> <![endif]-->\n",
                        "<!--[if IE 7 ]>    <html xmlns:fb=\"http:\/\/www.facebook.com\/2008\/fbml\" class=\"ie7 ie ltie9 ltie8 no-js\" lang=\"en\"> <![endif]-->\n",
                        "<!--[if IE 8 ]>    <html xmlns:fb=\"http:\/\/www.facebook.com\/2008\/fbml\" class=\"ie8 ie ltie9 no-js\" lang=\"en\"> <![endif]-->\n",
                        "<!--[if IE 9 ]>    <html xmlns:fb=\"http:\/\/www.facebook.com\/2008\/fbml\" class=\"ie9 ie no-js\" lang=\"en\"> <![endif]-->\n",
                        "<!--[if (gt IE 9)|!(IE)]><!--> <html xmlns:fb=\"http:\/\/www.facebook.com\/2008\/fbml\" class=\"no-js\" lang=\"en\"> <!--<![endif]-->\n",
                        "    <head>\n",
                        "        <script>\n",
                        "            (function() {\n",
                        "                var main = null;\n",
                        "\n",
                        "                var main=function(){window.onerror=function(k,a,c,i,f){var j=(document.getElementsByTagName(\"html\")[0].getAttribute(\"webdriver\")===\"true\"||navigator.userAgent===\"selenium\");var h=f&&(f.name===\"ServerSideRenderingError\"||f.name===\"CSRFallbackError\");if(j&&!h){document.body.innerHTML=\"<h1>Javascript Error Detected<\/h1>\";var g=document.createElement(\"div\");g.setAttribute(\"id\",\"pastebinTraceback\");var d=document.createElement(\"code\");var e={message:k,source:a,lineno:c,colno:i,error:f};var b=document.createTextNode(\"JS ERROR DETECTED\\n\"+window.JSON.stringify(e,null,2));\n",
                        "d.appendChild(b);g.appendChild(d);document.getElementsByTagName(\"body\")[0].appendChild(g)}}};\n",
                        "\n",
                        "                if (main === null) {\n",
                        "                    throw 'invalid inline script, missing main declaration.';\n",
                        "                }\n",
                        "                main();\n",
                        "            })();\n",
                        "    <\/script>\n",
                        "\n",
                        "\n",
                        "    <script>            window.yPageStart = new Date().getTime();\n",
                        "<\/script>\n",
                        "\n",
                        "    <script>            var initialVisibilityState = document.webkitVisibilityState;\n",
                        "\n",
                        "                yPerfTimings = [];\n",
                        "\n",
                        "                ySitRepParams = {\"clientIP\": \"52.24.24.222\", \"datacenter\": \"us-west-1\", \"is_internal_ip\": false, \"edgeStartTime\": 1585093815372785, \"cfRayID\": null, \"site\": \"main\", \"serverStartTime\": 1585093815390, \"action\": null, \"edgestageSubdomain\": \"_disabled\", \"disableBeacon\": false, \"b3Sampled\": \"0\", \"uniqueRequestID\": \"2acf82122e110bb7\", \"isLoggedIn\": false, \"zipkinTraceID\": \"d0bc563ae0efd2eb\", \"servlet\": \"search\", \"yuv_record\": \"HoB4djwku5FxGybEAN_DmhufXxK_Cn8Iyia-495lAQaog_qAXVV4YUmeYzYhpzJvS2rNOE0B9zowJb4xpU78k0L8xY31ERGW\"};\n",
                        "                window.ySitRepParams['initialVisibilityState'] = initialVisibilityState;\n",
                        "                window.ySitRepParams['seoCohorts'] = null;\n",
                        "\n",
                        "\n",
                        "            (function(H){H.className=H.className.replace(\/\\bno-js\\b\/,'js');})(document.documentElement);\n",
                        "<\/script>\n",
                        "\n",
                        "    <script>            pageSpeedCustomTimestamps = {};\n",
                        "<\/script>\n",
                        "\n",
                        "            <script>            (function(i,s,o,g,r,a,m){i['GoogleAnalyticsObject']=r;i[r]=i[r]||function(){(i[r].q=i[r].q||[]).push(arguments)},i[r].l=1*new Date();a=s.createElement(o),m=s.getElementsByTagName(o)[0];a.async=1;a.src=g;m.parentNode.insertBefore(a,m)})(window,document,'script','\/\/www.google-analytics.com\/analytics.js','ga');\n",
                        "<\/script>\n",
                        "\n",
                        "\n",
                        "\n",
                        "        <script>\n",
                        "            (function() {\n",
                        "                var main = null;\n",
                        "\n",
                        "                !function(t){function e(i){if(n[i])return n[i].exports;var r=n[i]={i:i,l:!1,exports:{}};return t[i].call(r.exports,r,r.exports,e),r.l=!0,r.exports}var n={};e.m=t,e.c=n,e.d=function(t,n,i){e.o(t,n)||Object.defineProperty(t,n,{configurable:!1,enumerable:!0,get:i})},e.n=function(t){var n=t&&t.__esModule?function(){return t.default}:function(){return t};return e.d(n,\"a\",n),n},e.o=function(t,e){return Object.prototype.hasOwnProperty.call(t,e)},e.p=\"\",e(e.s=9)}([function(t,e,n){\"use strict\";n.d(e,\"c\",function(){return r}),n.d(e,\"b\",function(){return o}),n.d(e,\"a\",function(){return s});var i=n(6),r=\"global\",o=\"biz\",s=\"biz_gtag\",a=[r,\"m\",\"www\",o,\"webview\",\"api\",\"admin\",\"error_pages\",s],c=function(t,e){if(Object(i.a)(a,e)>=0)return[e,t].join(\".\");throw new Error(\"google analytics attempted to set \"+t+\" to an unrecognized tracker alias: \"+e)};e.d=c},function(t,e,n){\"use strict\";function i(t){for(var e=1;e<arguments.length;e++){var n=null!=arguments[e]?arguments[e]:{},i=Object.keys(n);\"function\"==typeof Object.getOwnPropertySymbols&&(i=i.concat(Object.getOwnPropertySymbols(n).filter(function(t){return Object.getOwnPropertyDescriptor(n,t).enumerable}))),i.forEach(function(e){r(t,e,n[e])})}return t}function r(t,e,n){return e in t?Object.defineProperty(t,e,{value:n,enumerable:!0,configurable:!0,writable:!0}):t[e]=n,t}var o=n(2),s=n(3),a=n.n(s),c=n(4),u=n(5),f=n(0),l=n(7);Object.keys||a.a.shim(),Object.entries||(Object.entries=function(t){for(var e=Object.keys(t),n=new Array(e.length),i=0;i<e.length;i+=1)n[i]=[e[i],t[e[i]]];return n});var h=function(){function t(t){r(this,\"clientID\",void 0),r(this,\"dimensions\",void 0),r(this,\"domain\",void 0),r(this,\"friendlyMap\",void 0),r(this,\"jsDimensions\",void 0),r(this,\"metrics\",void 0),r(this,\"temporaryDimensions\",void 0),r(this,\"temporaryMetrics\",void 0),r(this,\"trackers\",void 0),r(this,\"userID\",void 0),r(this,\"enableHighVolumeEvents\",void 0),window.ga||(window.ga=function(){}),window.gtag||(window.gtag=function(){}),this.reload(t)}var e=t.prototype;return e.setupTrackers=function(){var t=this;this.friendlyMap={},this.temporaryDimensions={},this.temporaryMetrics={},Object.entries(this.trackers).forEach(function(e){var n=e[0],i=e[1];t.setupTracker(String(n),String(i))})},e.setupTracker=function(t,e){var n=this,r=i({cookieDomain:this.domain,name:t,clientId:this.clientID},this.userID?{userId:this.userID}:{});window.ga(\"create\",e,r),this.friendlyMap[t]={},this.temporaryDimensions[t]={},this.temporaryMetrics[t]={},this.addDimensionsToFriendlyMap(t,this.dimensions),this.addDimensionsToFriendlyMap(t,this.jsDimensions),this.dimensions[t]&&Object.keys(this.dimensions[t]).forEach(function(e){n.setDimension(String(e),n.dimensions[t][e][1])}),this.metrics[t]&&Object.keys(this.metrics[t]).forEach(function(e){n.setMetric(n.metrics[t][e][0],n.metrics[t][e][1],t)}),window.ga(Object(f.d)(\"set\",t),\"anonymizeIp\",!0)},e.addDimensionsToFriendlyMap=function(t,e){var n=this;e&&e[t]&&Object.keys(e[t]).forEach(function(i){n.friendlyMap[t][i]=e[t][i][0]})},e.firePageviews=function(t){var e=this;Object.keys(this.trackers).forEach(function(n){e.firePageview(String(n),t)})},e.firePageviewsWithGlobalTrackerSampled=function(t){var e=this;Object.keys(this.trackers).forEach(function(n){(n!==f.c||e.enableHighVolumeEvents)&&e.firePageview(String(n),t)})},e.firePageview=function(t,e){if(t===f.a){var n=this.trackers[t],r=i({},this.dimensions[t],this.jsDimensions[t]),o=Object.keys(r).map(function(t){return r[t]}).reduce(function(t,e){var n,r=e[0],o=e[1];return i({},t,(n={},n[\"dimension\"+r]=null===o?o:o.toString(),n))},{}),s=this.metrics[t]||{},a=Object.keys(s).map(function(t){return s[t]}).reduce(function(t,e){var n,r=e[0],o=e[1];return i({},t,(n={},n[\"metric\"+r]=o,n))},{});window.gtag(\"event\",\"page_view\",i({send_to:n,anonymize_ip:!0,cookie_domain:this.domain,client_id:this.clientID},o,a,this.userID?{user_id:this.userID}:{},e?{page_path:e}:{}))}else e&&window.ga(Object(f.d)(\"set\",t),\"page\",e),window.ga(Object(f.d)(\"send\",t),\"pageview\")},e.setDimensionOneEvent=function(t,e){var n=this;Object.keys(this.friendlyMap).forEach(function(i){var r=n.friendlyMap[i][t];void 0!==r&&null!==e&&(n.temporaryDimensions[i][\"dimension\"+r]=e.toString())})},e.setDimension=function(t,e){var n=this;Object.keys(this.friendlyMap).forEach(function(i){var r=n.friendlyMap[i][t];void 0!==r&&null!==e&&window.ga(Object(f.d)(\"set\",i),\"dimension\"+r,e.toString())})},e.setDimensions=function(t){var e=this;Object.keys(t).forEach(function(n){e.setDimension(n,t[n])})},e.setMetric=function(t,e,n){window.ga(Object(f.d)(\"set\",n),\"metric\"+t,e)},e.setMetricOneEvent=function(t,e,n){this.temporaryMetrics[n][\"metric\"+t]=e},e.trackEvent=function(t,e,n,r,o){var s=this;Object.keys(this.trackers).forEach(function(a){if(a===f.a){var c=s.trackers[a];window.gtag(\"event\",e,i({send_to:c,event_category:t,non_interaction:!0},s.temporaryDimensions[a],s.temporaryMetrics[a],n&&{event_label:n},r&&{value:r},o&&{event_callback:o}))}else if(a!==f.c){var u=i({hitType:\"event\",eventCategory:t,eventAction:e,eventLabel:n,eventValue:r},o&&{hitCallback:o},{nonInteraction:!0},s.temporaryDimensions[a],s.temporaryMetrics[a]);Object(l.a)(String(a),u)}s.temporaryDimensions[a]={},s.temporaryMetrics[a]={}})},e.trackTiming=function(t,e,n,i){var r={hitType:\"timing\",timingCategory:t,timingVar:e,timingValue:n,timingLabel:i};Object.keys(this.trackers).forEach(function(t){Object(l.a)(String(t),r)})},e.trackEventHighVolume=function(t,e,n,i,r){if(this.enableHighVolumeEvents){var o=t+\" \/ 10\";this.trackEvent(o,e,n,i,r)}},e.trackEventWithTime=function(t,e,n){this.trackEvent(t,e,n,Object(u.a)())},e.initTimeOnPageEvent=function(){var t=this;Object(o.a)(window).on(\"beforeunload\",function(){var e=Object(u.a)(),n=Object(c.a)(e);t.trackEventHighVolume(\"time on page\",\"unload\",n,e)})},e.initDwellTimeEvent=function(){var t=this;setTimeout(function(){t.trackEvent(\"dwell time\",\"dwell\",\"30 seconds\")},3e4)},e.applyConfig=function(t){this.trackers=t.trackers,this.domain=t.domain,this.clientID=t.clientID,this.userID=t.user_id,this.dimensions=t.dimensions,this.metrics=t.metrics,this.jsDimensions=t.js_dimensions,this.enableHighVolumeEvents=t.enable_high_volume_events},e.reload=function(t){this.applyConfig(t),this.setupTrackers()},e.getGaConfig=function(){return{trackers:this.trackers,domain:this.domain,clientID:this.clientID,user_id:this.userID,dimensions:this.dimensions,metrics:this.metrics,js_dimensions:this.jsDimensions,enable_high_volume_events:this.enableHighVolumeEvents}},t.init=function(e){t.instance=new t(e)},t.getInstance=function(){var e=t.instance;if(null==e)throw Error(\"yelp_google_analytics.GoogleAnalytics not initialized. Call a site-specific GA init!\");return e},t}();r(h,\"instance\",void 0),e.a=h},function(t,e,n){\"use strict\";e.a=function(){var t;return(t=window).jQuery.apply(t,arguments)}},function(t,e,n){\"use strict\";!function(){Object.keys||(Object.keys=fu\n",
                        "\n"
                    ]
                }
            ],
            "source": [
                "url_command = 'https:\/\/yelp.com\/search'\n",
                "url_args = {'find_desc': \"ramen\",\n",
                "            'find_loc': \"atlanta, ga\"}\n",
                "response = requests.get (url_command, params=url_args, timeout=60)\n",
                "\n",
                "print(\"==> Downloading from: '%s'\" % response.url) # confirm URL\n",
                "print(\"\\n==> Excerpt from this URL:\\n\\n%s\\n\" % response.text[0:10000])"
            ]
        },
        {
            "cell_type": "markdown",
            "metadata": {},
            "source": [
                "**Sample data (HTML file) from a Yelp! query.** We've pre-downloaded the results of a query for `\"fried chicken\"` in `\"atlanta, ga\"`, and stored it in a local file. The following code cell will read its contents and store them in a variable called, `yelp_fried_chicken_atl_query_html`, which the test cells will use."
            ]
        },
        {
            "cell_type": "code",
            "execution_count": 5,
            "metadata": {},
            "outputs": [
                {
                    "name": "stdout",
                    "output_type": "stream",
                    "text": [
                        "=== First few characters of 'yelp-fried_chicken-atl--20200125-1240.html' ===\n",
                        "\n",
                        "<!DOCTYPE HTML>\n",
                        "\n",
                        "<!--[if lt IE 7 ]> <html xmlns:fb=\"http:\/\/www.facebook.com\/2008\/fbml\" class=\"ie6 ie ltie9 ltie8 no-js\" lang=\"en\"> <![endif]-->\n",
                        "<!--[if IE 7 ]>    <html xmlns:fb=\"http:\/\/www.facebook.com\/2008\/fbml\" class=\"ie7 ie ltie9 ltie8 no-js\" lang=\"en\"> <![endif]-->\n",
                        "<!--[if IE 8 ]>    <html xmlns:fb=\"http:\/\/www.facebook.com\/2008\/fbml\" class=\"ie8 ie ltie9 no-js\" lang=\"en\"> <![endif]-->\n",
                        "<!--[if IE 9 ]>    <html xmlns:fb=\"http:\/\/www.facebook.com\/2008\/fbml\" class=\"ie9 ie no-js\" lang=\"en\"> <![endif]-->\n",
                        "<!--[if (gt IE 9)|!(IE)]><!--> <html xmlns:fb=\"http:\/\/www.facebook.com\/2008\/fbml\" class=\"no-js\" lang=\"en\"> <!--<![endif]-->\n",
                        "    <head>\n",
                        "        <script>\n",
                        "            (function() {\n",
                        "                var main = null;\n",
                        "\n",
                        "                var main=function(){window.onerror=function(k,a,c,i,f){var j=(document.getElementsByTagName(\"html\")[0].getAttribute(\"webdriver\")===\"true\"||navigator.userAgent===\"selenium\");var h=f&&(f.name===\"ServerSideRenderingError\"||f.name===\"CSRFallbackError\");if(j&&!h){docume\n"
                    ]
                }
            ],
            "source": [
                "# Query page for fried chicken in Atlanta (pre-downloaded):\n",
                "sample_query_filename = \"yelp-fried_chicken-atl--20200125-1240.html\"\n",
                "with open(sample_query_filename, \"rt\") as fp:\n",
                "    yelp_fried_chicken_atl_query_html = fp.read()\n",
                "    \n",
                "# Sample:\n",
                "print(f\"=== First few characters of '{sample_query_filename}' ===\\n\")\n",
                "print(yelp_fried_chicken_atl_query_html[:1000])"
            ]
        },
        {
            "cell_type": "markdown",
            "metadata": {},
            "source": [
                "**Exercise 2.** Given a string holding the HTML contents of a Yelp query, like the one above, complete the function below so it returns the list of the names of all **non-sponsored** search results. The list should be in ascending order of the rank of the result, and should contain no more than 10 items (since a query of the form above returns, by default, the top 10 matches).\n",
                "\n",
                "> **Note 0.** The test cell uses the pre-downloaded query file from above. You may find it helpful to open that file in a web browser, view the source, and study its contents.\n",
                ">\n",
                "> **Note 1.** We are providing one possible solution, which uses elementary string processing and regular expressions. How would you have approached this problem?"
            ]
        },
        {
            "cell_type": "code",
            "execution_count": 6,
            "metadata": {
                "collapsed": true,
                "nbgrader": {
                    "grade": false,
                    "grade_id": "yelp_find_item",
                    "locked": false,
                    "schema_version": 1,
                    "solution": true
                }
            },
            "outputs": [],
            "source": [
                "import re\n",
                "\n",
                "def find_biz_names(html_string):\n",
                "    # SAMPLE SOLUTION:\n",
                "    all_results_raw = html_string.split(r'\"text\":\"All Results\"')[1]\n",
                "    items_raw = all_results_raw.split('\"ranking\":')\n",
                "    top10 = [None] * 10\n",
                "    for item in items_raw:\n",
                "        match = re.match(r'^([0-9]+),\"reviewCount\":\\d+,\"name\":\"([^\"]*)\"', item)\n",
                "        if match is not None:\n",
                "            rank = int(match.groups()[0])\n",
                "            name = match.groups()[1]\n",
                "            if 1 <= rank <= 10:\n",
                "                top10[rank-1] = name\n",
                "    return top10"
            ]
        },
        {
            "cell_type": "code",
            "execution_count": 7,
            "metadata": {},
            "outputs": [
                {
                    "data": {
                        "text\/plain": [
                            "['Hattie B\u2019s Hot Chicken - Atlanta',\n",
                            " 'Gus\u2019s World Famous Fried Chicken',\n",
                            " 'Roc South Cuisine',\n",
                            " 'South City Kitchen Midtown',\n",
                            " 'Buttermilk Kitchen',\n",
                            " 'Mary Mac\u2019s Tea Room',\n",
                            " 'Rock\u2019s Chicken &amp; Fries',\n",
                            " 'Busy Bee Cafe',\n",
                            " 'Joella\u2019s Hot Chicken - Cumberland',\n",
                            " 'Gus\u2019s World Famous Fried Chicken']"
                        ]
                    },
                    "execution_count": 7,
                    "metadata": {},
                    "output_type": "execute_result"
                }
            ],
            "source": [
                "# Demo:\n",
                "find_biz_names(yelp_fried_chicken_atl_query_html)"
            ]
        },
        {
            "cell_type": "code",
            "execution_count": 8,
            "metadata": {
                "nbgrader": {
                    "grade": true,
                    "grade_id": "yelp_atl__test1",
                    "locked": true,
                    "points": 0,
                    "schema_version": 1,
                    "solution": false
                },
                "editable": false,
                "deletable": false
            },
            "outputs": [
                {
                    "name": "stdout",
                    "output_type": "stream",
                    "text": [
                        "Loading HTML query results from yelp-fried_chicken-atl--20200125-1240.html...\n",
                        "\n",
                        "(Passed!)\n"
                    ]
                }
            ],
            "source": [
                "# Test cell 1: `yelp_atl__test1`\n",
                "def load_query_results(filename):\n",
                "    print(f\"Loading HTML query results from {filename}...\")\n",
                "    with open(filename, \"rt\") as fp:\n",
                "        html_string = fp.read()\n",
                "    return html_string\n",
                "\n",
                "query_0 = load_query_results(\"yelp-fried_chicken-atl--20200125-1240.html\")\n",
                "your_top10_0 = find_biz_names(query_0)\n",
                "assert your_top10_0 == ['Hattie B\u2019s Hot Chicken - Atlanta',\n",
                " 'Gus\u2019s World Famous Fried Chicken',\n",
                " 'Roc South Cuisine',\n",
                " 'South City Kitchen Midtown',\n",
                " 'Buttermilk Kitchen',\n",
                " 'Mary Mac\u2019s Tea Room',\n",
                " 'Rock\u2019s Chicken &amp; Fries',\n",
                " 'Busy Bee Cafe',\n",
                " 'Joella\u2019s Hot Chicken - Cumberland',\n",
                " 'Gus\u2019s World Famous Fried Chicken']\n",
                "\n",
                "print(\"\\n(Passed!)\")"
            ]
        },
        {
            "cell_type": "code",
            "execution_count": 9,
            "metadata": {
                "nbgrader": {
                    "grade": true,
                    "grade_id": "yelp_atl__test2",
                    "locked": true,
                    "points": 0,
                    "schema_version": 1,
                    "solution": false
                },
                "editable": false,
                "deletable": false
            },
            "outputs": [
                {
                    "name": "stdout",
                    "output_type": "stream",
                    "text": [
                        "Loading HTML query results from yelp-ramen-atl--20200125-1205.html...\n",
                        "\n",
                        "(Passed!)\n"
                    ]
                }
            ],
            "source": [
                "# Test cell 2: `yelp_atl__test2`\n",
                "query_1 = load_query_results(\"yelp-ramen-atl--20200125-1205.html\")\n",
                "your_top10_1 = find_biz_names(query_1)\n",
                "assert your_top10_1 == ['JINYA Ramen Bar',\n",
                "                        'E Ramen +',\n",
                "                        'Ginya Izakaya',\n",
                "                        'JINYA Ramen Bar',\n",
                "                        'Hajime',\n",
                "                        'Okiboru Tsukemen &amp; Ramen',\n",
                "                        'Hotto Hotto Ramen &amp; Teppanyaki',\n",
                "                        'Lifting Noodles Ramen',\n",
                "                        'Tanaka Ramen',\n",
                "                        'Ton Ton']\n",
                "print(\"\\n(Passed!)\")"
            ]
        },
        {
            "cell_type": "markdown",
            "metadata": {
                "nbgrader": {
                    "grade": false,
                    "grade_id": "cell-79798e6a4a127482",
                    "locked": true,
                    "schema_version": 1,
                    "solution": false
                },
                "editable": false,
                "deletable": false
            },
            "source": [
                "One issue with the above exercises is that they treat HTML as a flat string, whereas the document is at least semi-structured. Moreover, web pages are such a common source of data today that you would expect better tools for processing them. Indeed, such tools exist! The next part of this assignment, Part 1, walks you through one such tool. So, head there when you are ready!"
            ]
        }
    ],
    "metadata": {
        "anaconda-cloud": [],
        "celltoolbar": "Create Assignment",
        "kernelspec": {
            "display_name": "Python 3.7",
            "language": "python",
            "name": "python3"
        },
        "language_info": {
            "codemirror_mode": {
                "name": "ipython",
                "version": 3
            },
            "file_extension": ".py",
            "mimetype": "text\/x-python",
            "name": "python",
            "nbconvert_exporter": "python",
            "pygments_lexer": "ipython3",
            "version": "3.7.5"
        }
    },
    "nbformat": 4,
    "nbformat_minor": 1
}